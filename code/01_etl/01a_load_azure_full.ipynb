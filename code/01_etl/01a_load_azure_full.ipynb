{
 "cells": [
  {
   "cell_type": "code",
   "execution_count": 8,
   "metadata": {},
   "outputs": [],
   "source": [
    "import sys\n",
    "import os\n",
    "sys.path.append(os.path.abspath('../')) ## needed to import the function.py file\n",
    "\n",
    "import pandas as pd\n",
    "import timeit\n",
    "from functions import sql_azure_connect\n",
    "from dotenv import load_dotenv\n",
    "\n",
    "# Load .env file\n",
    "load_dotenv('../../config/.env')\n",
    "\n",
    "## connect to azure database\n",
    "cnxn = sql_azure_connect()\n",
    "\n",
    "## Define relevant survey\n",
    "UmfrageName = 'kuzu_zug'\n",
    "\n",
    "q = f\"\"\"SELECT FrageCode FROM Frage WHERE UmfrageName LIKE '{UmfrageName}';\"\"\" \n",
    "cols =  pd.read_sql(q, con=cnxn)\n",
    "col_list =  cols.FrageCode.values.tolist()\n",
    "\n",
    "## Add manual cols of interest\n",
    "col_list.insert(0, \"file_name\")\n",
    "col_list.insert(0, \"UmfrageName\")\n",
    "col_list.insert(0, \"participant\")\n",
    "col_list.insert(0, \"time\")\n",
    "## Join to one list\n",
    "cols = ', '.join(col_list)\n",
    "\n",
    "## Bild SQL query\n",
    "query = f\"\"\"SELECT {cols} FROM Teilnehmer WHERE UmfrageName LIKE '{UmfrageName}';\"\"\"\n",
    "\n",
    "## Load data\n",
    "start = timeit.default_timer()\n",
    "\n",
    "kuzu_zug =  pd.read_sql(query , con=cnxn)\n",
    "\n",
    "end = timeit.default_timer()\n",
    "print(\"Duration: \",end-start)\n",
    "\n",
    "## Save file\n",
    "kuzu_zug.to_feather(\"../../data/DataRaw\")"
   ]
  }
 ],
 "metadata": {
  "kernelspec": {
   "display_name": "nlp",
   "language": "python",
   "name": "python3"
  },
  "language_info": {
   "codemirror_mode": {
    "name": "ipython",
    "version": 3
   },
   "file_extension": ".py",
   "mimetype": "text/x-python",
   "name": "python",
   "nbconvert_exporter": "python",
   "pygments_lexer": "ipython3",
   "version": "3.8.16"
  },
  "orig_nbformat": 4,
  "vscode": {
   "interpreter": {
    "hash": "2c54f9282dd36543c8181ef7676bc28d81677c039b129753722332dc3d171a18"
   }
  }
 },
 "nbformat": 4,
 "nbformat_minor": 2
}
