{
 "cells": [
  {
   "cell_type": "code",
   "execution_count": 1,
   "metadata": {},
   "outputs": [
    {
     "ename": "Error",
     "evalue": "('01000', \"[01000] [unixODBC][Driver Manager]Can't open lib 'default' : file not found (0) (SQLDriverConnect)\")",
     "output_type": "error",
     "traceback": [
      "\u001b[0;31m---------------------------------------------------------------------------\u001b[0m",
      "\u001b[0;31mError\u001b[0m                                     Traceback (most recent call last)",
      "Cell \u001b[0;32mIn[1], line 10\u001b[0m\n\u001b[1;32m      7\u001b[0m \u001b[39mfrom\u001b[39;00m \u001b[39mfunctions\u001b[39;00m \u001b[39mimport\u001b[39;00m sql_azure_connect\n\u001b[1;32m      9\u001b[0m \u001b[39m## connect to azure database\u001b[39;00m\n\u001b[0;32m---> 10\u001b[0m cnxn \u001b[39m=\u001b[39m sql_azure_connect()\n\u001b[1;32m     12\u001b[0m \u001b[39m## Define relevant survey\u001b[39;00m\n\u001b[1;32m     13\u001b[0m UmfrageName \u001b[39m=\u001b[39m \u001b[39m'\u001b[39m\u001b[39mkuzu_zug\u001b[39m\u001b[39m'\u001b[39m\n",
      "File \u001b[0;32m~/Repos/github.com/DominikFin/nlp-satisfaction/code/functions.py:57\u001b[0m, in \u001b[0;36msql_azure_connect\u001b[0;34m()\u001b[0m\n\u001b[1;32m     48\u001b[0m credentials \u001b[39m=\u001b[39m {\n\u001b[1;32m     49\u001b[0m     \u001b[39m'\u001b[39m\u001b[39mSERVER\u001b[39m\u001b[39m'\u001b[39m: os\u001b[39m.\u001b[39mgetenv(\u001b[39m'\u001b[39m\u001b[39mSERVER_AZURE\u001b[39m\u001b[39m'\u001b[39m, \u001b[39m\"\u001b[39m\u001b[39mdefault\u001b[39m\u001b[39m\"\u001b[39m),  \n\u001b[1;32m     50\u001b[0m     \u001b[39m'\u001b[39m\u001b[39mDATABASE\u001b[39m\u001b[39m'\u001b[39m: os\u001b[39m.\u001b[39mgetenv(\u001b[39m'\u001b[39m\u001b[39mDATABASE_AZURE\u001b[39m\u001b[39m'\u001b[39m, \u001b[39m\"\u001b[39m\u001b[39mdefault\u001b[39m\u001b[39m\"\u001b[39m),\n\u001b[0;32m   (...)\u001b[0m\n\u001b[1;32m     53\u001b[0m     \u001b[39m'\u001b[39m\u001b[39mDRIVER\u001b[39m\u001b[39m'\u001b[39m: os\u001b[39m.\u001b[39mgetenv(\u001b[39m'\u001b[39m\u001b[39mDRIVER_AZURE\u001b[39m\u001b[39m'\u001b[39m, \u001b[39m\"\u001b[39m\u001b[39mdefault\u001b[39m\u001b[39m\"\u001b[39m) \n\u001b[1;32m     54\u001b[0m }\n\u001b[1;32m     56\u001b[0m connection_string \u001b[39m=\u001b[39m \u001b[39mf\u001b[39m\u001b[39m\"\u001b[39m\u001b[39mDRIVER=\u001b[39m\u001b[39m{\u001b[39;00mcredentials[\u001b[39m'\u001b[39m\u001b[39mDRIVER\u001b[39m\u001b[39m'\u001b[39m]\u001b[39m}\u001b[39;00m\u001b[39m;SERVER=\u001b[39m\u001b[39m{\u001b[39;00mcredentials[\u001b[39m'\u001b[39m\u001b[39mSERVER\u001b[39m\u001b[39m'\u001b[39m]\u001b[39m}\u001b[39;00m\u001b[39m;DATABASE=\u001b[39m\u001b[39m{\u001b[39;00mcredentials[\u001b[39m'\u001b[39m\u001b[39mDATABASE\u001b[39m\u001b[39m'\u001b[39m]\u001b[39m}\u001b[39;00m\u001b[39m;UID=\u001b[39m\u001b[39m{\u001b[39;00mcredentials[\u001b[39m'\u001b[39m\u001b[39mUSERNAME\u001b[39m\u001b[39m'\u001b[39m]\u001b[39m}\u001b[39;00m\u001b[39m;PWD=\u001b[39m\u001b[39m{\u001b[39;00mcredentials[\u001b[39m'\u001b[39m\u001b[39mPASSWORD\u001b[39m\u001b[39m'\u001b[39m]\u001b[39m}\u001b[39;00m\u001b[39m\"\u001b[39m\n\u001b[0;32m---> 57\u001b[0m cnxn \u001b[39m=\u001b[39m pyodbc\u001b[39m.\u001b[39;49mconnect(connection_string)\n\u001b[1;32m     59\u001b[0m \u001b[39m# Show available tables\u001b[39;00m\n\u001b[1;32m     60\u001b[0m table_names \u001b[39m=\u001b[39m [x[\u001b[39m2\u001b[39m] \u001b[39mfor\u001b[39;00m x \u001b[39min\u001b[39;00m cnxn\u001b[39m.\u001b[39mcursor()\u001b[39m.\u001b[39mtables(tableType\u001b[39m=\u001b[39m\u001b[39m'\u001b[39m\u001b[39mTABLE\u001b[39m\u001b[39m'\u001b[39m)]\n",
      "\u001b[0;31mError\u001b[0m: ('01000', \"[01000] [unixODBC][Driver Manager]Can't open lib 'default' : file not found (0) (SQLDriverConnect)\")"
     ]
    }
   ],
   "source": [
    "import sys\n",
    "import os\n",
    "sys.path.append(os.path.abspath('../')) ## needed to import the function.py file\n",
    "\n",
    "import pandas as pd\n",
    "import timeit\n",
    "from functions import sql_azure_connect\n",
    "\n",
    "## connect to azure database\n",
    "cnxn = sql_azure_connect()\n",
    "\n",
    "## Define relevant survey\n",
    "UmfrageName = 'kuzu_zug'\n",
    "\n",
    "q = f\"\"\"SELECT FrageCode FROM Frage WHERE UmfrageName LIKE '{UmfrageName}';\"\"\" \n",
    "cols =  pd.read_sql(q, con=cnxn)\n",
    "col_list =  cols.FrageCode.values.tolist()\n",
    "\n",
    "## Add manual cols of interest\n",
    "col_list.insert(0, \"file_name\")\n",
    "col_list.insert(0, \"UmfrageName\")\n",
    "col_list.insert(0, \"participant\")\n",
    "col_list.insert(0, \"time\")\n",
    "## Join to one list\n",
    "cols = ', '.join(col_list)\n",
    "\n",
    "## Bild SQL query\n",
    "query = f\"\"\"SELECT {cols} FROM Teilnehmer WHERE UmfrageName LIKE '{UmfrageName}';\"\"\"\n",
    "\n",
    "## Load data\n",
    "start = timeit.default_timer()\n",
    "\n",
    "kuzu_zug =  pd.read_sql(query , con=cnxn)\n",
    "\n",
    "end = timeit.default_timer()\n",
    "print(\"Duration: \",end-start)\n",
    "\n",
    "## Save file\n",
    "kuzu_zug.to_feather(\"data/DataRaw\")"
   ]
  }
 ],
 "metadata": {
  "kernelspec": {
   "display_name": "nlp",
   "language": "python",
   "name": "python3"
  },
  "language_info": {
   "codemirror_mode": {
    "name": "ipython",
    "version": 3
   },
   "file_extension": ".py",
   "mimetype": "text/x-python",
   "name": "python",
   "nbconvert_exporter": "python",
   "pygments_lexer": "ipython3",
   "version": "3.8.16"
  },
  "orig_nbformat": 4,
  "vscode": {
   "interpreter": {
    "hash": "2c54f9282dd36543c8181ef7676bc28d81677c039b129753722332dc3d171a18"
   }
  }
 },
 "nbformat": 4,
 "nbformat_minor": 2
}
