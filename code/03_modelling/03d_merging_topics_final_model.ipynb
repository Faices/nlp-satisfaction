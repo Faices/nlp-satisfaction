{
 "cells": [
  {
   "cell_type": "code",
   "execution_count": 1,
   "metadata": {},
   "outputs": [
    {
     "name": "stderr",
     "output_type": "stream",
     "text": [
      "2023-03-14 11:50:31.831472: I tensorflow/core/platform/cpu_feature_guard.cc:193] This TensorFlow binary is optimized with oneAPI Deep Neural Network Library (oneDNN) to use the following CPU instructions in performance-critical operations:  AVX2 FMA\n",
      "To enable them in other operations, rebuild TensorFlow with the appropriate compiler flags.\n"
     ]
    },
    {
     "ename": "KeyboardInterrupt",
     "evalue": "",
     "output_type": "error",
     "traceback": [
      "\u001b[0;31m---------------------------------------------------------------------------\u001b[0m",
      "\u001b[0;31mKeyboardInterrupt\u001b[0m                         Traceback (most recent call last)",
      "Cell \u001b[0;32mIn[1], line 4\u001b[0m\n\u001b[1;32m      2\u001b[0m \u001b[39mimport\u001b[39;00m \u001b[39mos\u001b[39;00m\n\u001b[1;32m      3\u001b[0m sys\u001b[39m.\u001b[39mpath\u001b[39m.\u001b[39mappend(os\u001b[39m.\u001b[39mpath\u001b[39m.\u001b[39mabspath(\u001b[39m'\u001b[39m\u001b[39m../\u001b[39m\u001b[39m'\u001b[39m)) \u001b[39m## needed to import the function.py file\u001b[39;00m\n\u001b[0;32m----> 4\u001b[0m \u001b[39mfrom\u001b[39;00m \u001b[39mfunctions\u001b[39;00m \u001b[39mimport\u001b[39;00m \u001b[39m*\u001b[39m\n\u001b[1;32m      5\u001b[0m \u001b[39mimport\u001b[39;00m \u001b[39mpandas\u001b[39;00m \u001b[39mas\u001b[39;00m \u001b[39mpd\u001b[39;00m\n",
      "File \u001b[0;32m~/Repos/github.com/DominikFin/nlp-satisfaction/code/functions.py:17\u001b[0m\n\u001b[1;32m     15\u001b[0m \u001b[39mimport\u001b[39;00m \u001b[39mnumpy\u001b[39;00m \u001b[39mas\u001b[39;00m \u001b[39mnp\u001b[39;00m\n\u001b[1;32m     16\u001b[0m \u001b[39m#from rake_nltk import Rake\u001b[39;00m\n\u001b[0;32m---> 17\u001b[0m \u001b[39mfrom\u001b[39;00m \u001b[39mbertopic\u001b[39;00m \u001b[39mimport\u001b[39;00m BERTopic\n\u001b[1;32m     18\u001b[0m \u001b[39mimport\u001b[39;00m \u001b[39mgensim\u001b[39;00m\u001b[39m.\u001b[39;00m\u001b[39mcorpora\u001b[39;00m \u001b[39mas\u001b[39;00m \u001b[39mcorpora\u001b[39;00m\n\u001b[1;32m     19\u001b[0m \u001b[39mfrom\u001b[39;00m \u001b[39mgensim\u001b[39;00m\u001b[39m.\u001b[39;00m\u001b[39mmodels\u001b[39;00m\u001b[39m.\u001b[39;00m\u001b[39mcoherencemodel\u001b[39;00m \u001b[39mimport\u001b[39;00m CoherenceModel\n",
      "File \u001b[0;32m~/opt/anaconda3/envs/nlp/lib/python3.8/site-packages/bertopic/__init__.py:1\u001b[0m\n\u001b[0;32m----> 1\u001b[0m \u001b[39mfrom\u001b[39;00m \u001b[39mbertopic\u001b[39;00m\u001b[39m.\u001b[39;00m\u001b[39m_bertopic\u001b[39;00m \u001b[39mimport\u001b[39;00m BERTopic\n\u001b[1;32m      3\u001b[0m __version__ \u001b[39m=\u001b[39m \u001b[39m\"\u001b[39m\u001b[39m0.14.0\u001b[39m\u001b[39m\"\u001b[39m\n\u001b[1;32m      5\u001b[0m __all__ \u001b[39m=\u001b[39m [\n\u001b[1;32m      6\u001b[0m     \u001b[39m\"\u001b[39m\u001b[39mBERTopic\u001b[39m\u001b[39m\"\u001b[39m,\n\u001b[1;32m      7\u001b[0m ]\n",
      "File \u001b[0;32m~/opt/anaconda3/envs/nlp/lib/python3.8/site-packages/bertopic/_bertopic.py:26\u001b[0m\n\u001b[1;32m     24\u001b[0m \u001b[39m# Models\u001b[39;00m\n\u001b[1;32m     25\u001b[0m \u001b[39mimport\u001b[39;00m \u001b[39mhdbscan\u001b[39;00m\n\u001b[0;32m---> 26\u001b[0m \u001b[39mfrom\u001b[39;00m \u001b[39mumap\u001b[39;00m \u001b[39mimport\u001b[39;00m UMAP\n\u001b[1;32m     27\u001b[0m \u001b[39mfrom\u001b[39;00m \u001b[39msklearn\u001b[39;00m\u001b[39m.\u001b[39;00m\u001b[39mpreprocessing\u001b[39;00m \u001b[39mimport\u001b[39;00m normalize\n\u001b[1;32m     28\u001b[0m \u001b[39mfrom\u001b[39;00m \u001b[39msklearn\u001b[39;00m \u001b[39mimport\u001b[39;00m __version__ \u001b[39mas\u001b[39;00m sklearn_version\n",
      "File \u001b[0;32m~/opt/anaconda3/envs/nlp/lib/python3.8/site-packages/umap/__init__.py:2\u001b[0m\n\u001b[1;32m      1\u001b[0m \u001b[39mfrom\u001b[39;00m \u001b[39mwarnings\u001b[39;00m \u001b[39mimport\u001b[39;00m warn, catch_warnings, simplefilter\n\u001b[0;32m----> 2\u001b[0m \u001b[39mfrom\u001b[39;00m \u001b[39m.\u001b[39;00m\u001b[39mumap_\u001b[39;00m \u001b[39mimport\u001b[39;00m UMAP\n\u001b[1;32m      4\u001b[0m \u001b[39mtry\u001b[39;00m:\n\u001b[1;32m      5\u001b[0m     \u001b[39mwith\u001b[39;00m catch_warnings():\n",
      "File \u001b[0;32m~/opt/anaconda3/envs/nlp/lib/python3.8/site-packages/umap/umap_.py:32\u001b[0m\n\u001b[1;32m     28\u001b[0m \u001b[39mimport\u001b[39;00m \u001b[39mnumba\u001b[39;00m\n\u001b[1;32m     30\u001b[0m \u001b[39mimport\u001b[39;00m \u001b[39mumap\u001b[39;00m\u001b[39m.\u001b[39;00m\u001b[39mdistances\u001b[39;00m \u001b[39mas\u001b[39;00m \u001b[39mdist\u001b[39;00m\n\u001b[0;32m---> 32\u001b[0m \u001b[39mimport\u001b[39;00m \u001b[39mumap\u001b[39;00m\u001b[39m.\u001b[39;00m\u001b[39msparse\u001b[39;00m \u001b[39mas\u001b[39;00m \u001b[39msparse\u001b[39;00m\n\u001b[1;32m     34\u001b[0m \u001b[39mfrom\u001b[39;00m \u001b[39mumap\u001b[39;00m\u001b[39m.\u001b[39;00m\u001b[39mutils\u001b[39;00m \u001b[39mimport\u001b[39;00m (\n\u001b[1;32m     35\u001b[0m     submatrix,\n\u001b[1;32m     36\u001b[0m     ts,\n\u001b[1;32m     37\u001b[0m     csr_unique,\n\u001b[1;32m     38\u001b[0m     fast_knn_indices,\n\u001b[1;32m     39\u001b[0m )\n\u001b[1;32m     40\u001b[0m \u001b[39mfrom\u001b[39;00m \u001b[39mumap\u001b[39;00m\u001b[39m.\u001b[39;00m\u001b[39mspectral\u001b[39;00m \u001b[39mimport\u001b[39;00m spectral_layout\n",
      "File \u001b[0;32m~/opt/anaconda3/envs/nlp/lib/python3.8/site-packages/umap/sparse.py:12\u001b[0m\n\u001b[1;32m      9\u001b[0m \u001b[39mimport\u001b[39;00m \u001b[39mnumba\u001b[39;00m\n\u001b[1;32m     10\u001b[0m \u001b[39mimport\u001b[39;00m \u001b[39mnumpy\u001b[39;00m \u001b[39mas\u001b[39;00m \u001b[39mnp\u001b[39;00m\n\u001b[0;32m---> 12\u001b[0m \u001b[39mfrom\u001b[39;00m \u001b[39mumap\u001b[39;00m\u001b[39m.\u001b[39;00m\u001b[39mutils\u001b[39;00m \u001b[39mimport\u001b[39;00m norm\n\u001b[1;32m     14\u001b[0m locale\u001b[39m.\u001b[39msetlocale(locale\u001b[39m.\u001b[39mLC_NUMERIC, \u001b[39m\"\u001b[39m\u001b[39mC\u001b[39m\u001b[39m\"\u001b[39m)\n\u001b[1;32m     16\u001b[0m \u001b[39m# Just reproduce a simpler version of numpy unique (not numba supported yet)\u001b[39;00m\n",
      "File \u001b[0;32m~/opt/anaconda3/envs/nlp/lib/python3.8/site-packages/umap/utils.py:41\u001b[0m\n\u001b[1;32m     36\u001b[0m         knn_indices[row] \u001b[39m=\u001b[39m v\n\u001b[1;32m     37\u001b[0m     \u001b[39mreturn\u001b[39;00m knn_indices\n\u001b[1;32m     40\u001b[0m \u001b[39m@numba\u001b[39;49m\u001b[39m.\u001b[39;49mnjit(\u001b[39m\"\u001b[39;49m\u001b[39mi4(i8[:])\u001b[39;49m\u001b[39m\"\u001b[39;49m)\n\u001b[0;32m---> 41\u001b[0m \u001b[39mdef\u001b[39;49;00m \u001b[39mtau_rand_int\u001b[39;49m(state):\n\u001b[1;32m     42\u001b[0m \u001b[39m    \u001b[39;49m\u001b[39m\"\"\"A fast (pseudo)-random number generator.\u001b[39;49;00m\n\u001b[1;32m     43\u001b[0m \n\u001b[1;32m     44\u001b[0m \u001b[39m    Parameters\u001b[39;49;00m\n\u001b[0;32m   (...)\u001b[0m\n\u001b[1;32m     51\u001b[0m \u001b[39m    A (pseudo)-random int32 value\u001b[39;49;00m\n\u001b[1;32m     52\u001b[0m \u001b[39m    \"\"\"\u001b[39;49;00m\n\u001b[1;32m     53\u001b[0m     state[\u001b[39m0\u001b[39;49m] \u001b[39m=\u001b[39;49m (((state[\u001b[39m0\u001b[39;49m] \u001b[39m&\u001b[39;49m \u001b[39m4294967294\u001b[39;49m) \u001b[39m<<\u001b[39;49m \u001b[39m12\u001b[39;49m) \u001b[39m&\u001b[39;49m \u001b[39m0xFFFFFFFF\u001b[39;49m) \u001b[39m^\u001b[39;49m (\n\u001b[1;32m     54\u001b[0m         (((state[\u001b[39m0\u001b[39;49m] \u001b[39m<<\u001b[39;49m \u001b[39m13\u001b[39;49m) \u001b[39m&\u001b[39;49m \u001b[39m0xFFFFFFFF\u001b[39;49m) \u001b[39m^\u001b[39;49m state[\u001b[39m0\u001b[39;49m]) \u001b[39m>>\u001b[39;49m \u001b[39m19\u001b[39;49m\n\u001b[1;32m     55\u001b[0m     )\n",
      "File \u001b[0;32m~/opt/anaconda3/envs/nlp/lib/python3.8/site-packages/numba/core/decorators.py:219\u001b[0m, in \u001b[0;36m_jit.<locals>.wrapper\u001b[0;34m(func)\u001b[0m\n\u001b[1;32m    217\u001b[0m     \u001b[39mwith\u001b[39;00m typeinfer\u001b[39m.\u001b[39mregister_dispatcher(disp):\n\u001b[1;32m    218\u001b[0m         \u001b[39mfor\u001b[39;00m sig \u001b[39min\u001b[39;00m sigs:\n\u001b[0;32m--> 219\u001b[0m             disp\u001b[39m.\u001b[39;49mcompile(sig)\n\u001b[1;32m    220\u001b[0m         disp\u001b[39m.\u001b[39mdisable_compile()\n\u001b[1;32m    221\u001b[0m \u001b[39mreturn\u001b[39;00m disp\n",
      "File \u001b[0;32m~/opt/anaconda3/envs/nlp/lib/python3.8/site-packages/numba/core/dispatcher.py:965\u001b[0m, in \u001b[0;36mDispatcher.compile\u001b[0;34m(self, sig)\u001b[0m\n\u001b[1;32m    963\u001b[0m \u001b[39mwith\u001b[39;00m ev\u001b[39m.\u001b[39mtrigger_event(\u001b[39m\"\u001b[39m\u001b[39mnumba:compile\u001b[39m\u001b[39m\"\u001b[39m, data\u001b[39m=\u001b[39mev_details):\n\u001b[1;32m    964\u001b[0m     \u001b[39mtry\u001b[39;00m:\n\u001b[0;32m--> 965\u001b[0m         cres \u001b[39m=\u001b[39m \u001b[39mself\u001b[39;49m\u001b[39m.\u001b[39;49m_compiler\u001b[39m.\u001b[39;49mcompile(args, return_type)\n\u001b[1;32m    966\u001b[0m     \u001b[39mexcept\u001b[39;00m errors\u001b[39m.\u001b[39mForceLiteralArg \u001b[39mas\u001b[39;00m e:\n\u001b[1;32m    967\u001b[0m         \u001b[39mdef\u001b[39;00m \u001b[39mfolded\u001b[39m(args, kws):\n",
      "File \u001b[0;32m~/opt/anaconda3/envs/nlp/lib/python3.8/site-packages/numba/core/dispatcher.py:125\u001b[0m, in \u001b[0;36m_FunctionCompiler.compile\u001b[0;34m(self, args, return_type)\u001b[0m\n\u001b[1;32m    124\u001b[0m \u001b[39mdef\u001b[39;00m \u001b[39mcompile\u001b[39m(\u001b[39mself\u001b[39m, args, return_type):\n\u001b[0;32m--> 125\u001b[0m     status, retval \u001b[39m=\u001b[39m \u001b[39mself\u001b[39;49m\u001b[39m.\u001b[39;49m_compile_cached(args, return_type)\n\u001b[1;32m    126\u001b[0m     \u001b[39mif\u001b[39;00m status:\n\u001b[1;32m    127\u001b[0m         \u001b[39mreturn\u001b[39;00m retval\n",
      "File \u001b[0;32m~/opt/anaconda3/envs/nlp/lib/python3.8/site-packages/numba/core/dispatcher.py:139\u001b[0m, in \u001b[0;36m_FunctionCompiler._compile_cached\u001b[0;34m(self, args, return_type)\u001b[0m\n\u001b[1;32m    136\u001b[0m     \u001b[39mpass\u001b[39;00m\n\u001b[1;32m    138\u001b[0m \u001b[39mtry\u001b[39;00m:\n\u001b[0;32m--> 139\u001b[0m     retval \u001b[39m=\u001b[39m \u001b[39mself\u001b[39;49m\u001b[39m.\u001b[39;49m_compile_core(args, return_type)\n\u001b[1;32m    140\u001b[0m \u001b[39mexcept\u001b[39;00m errors\u001b[39m.\u001b[39mTypingError \u001b[39mas\u001b[39;00m e:\n\u001b[1;32m    141\u001b[0m     \u001b[39mself\u001b[39m\u001b[39m.\u001b[39m_failed_cache[key] \u001b[39m=\u001b[39m e\n",
      "File \u001b[0;32m~/opt/anaconda3/envs/nlp/lib/python3.8/site-packages/numba/core/dispatcher.py:152\u001b[0m, in \u001b[0;36m_FunctionCompiler._compile_core\u001b[0;34m(self, args, return_type)\u001b[0m\n\u001b[1;32m    149\u001b[0m flags \u001b[39m=\u001b[39m \u001b[39mself\u001b[39m\u001b[39m.\u001b[39m_customize_flags(flags)\n\u001b[1;32m    151\u001b[0m impl \u001b[39m=\u001b[39m \u001b[39mself\u001b[39m\u001b[39m.\u001b[39m_get_implementation(args, {})\n\u001b[0;32m--> 152\u001b[0m cres \u001b[39m=\u001b[39m compiler\u001b[39m.\u001b[39;49mcompile_extra(\u001b[39mself\u001b[39;49m\u001b[39m.\u001b[39;49mtargetdescr\u001b[39m.\u001b[39;49mtyping_context,\n\u001b[1;32m    153\u001b[0m                               \u001b[39mself\u001b[39;49m\u001b[39m.\u001b[39;49mtargetdescr\u001b[39m.\u001b[39;49mtarget_context,\n\u001b[1;32m    154\u001b[0m                               impl,\n\u001b[1;32m    155\u001b[0m                               args\u001b[39m=\u001b[39;49margs, return_type\u001b[39m=\u001b[39;49mreturn_type,\n\u001b[1;32m    156\u001b[0m                               flags\u001b[39m=\u001b[39;49mflags, \u001b[39mlocals\u001b[39;49m\u001b[39m=\u001b[39;49m\u001b[39mself\u001b[39;49m\u001b[39m.\u001b[39;49mlocals,\n\u001b[1;32m    157\u001b[0m                               pipeline_class\u001b[39m=\u001b[39;49m\u001b[39mself\u001b[39;49m\u001b[39m.\u001b[39;49mpipeline_class)\n\u001b[1;32m    158\u001b[0m \u001b[39m# Check typing error if object mode is used\u001b[39;00m\n\u001b[1;32m    159\u001b[0m \u001b[39mif\u001b[39;00m cres\u001b[39m.\u001b[39mtyping_error \u001b[39mis\u001b[39;00m \u001b[39mnot\u001b[39;00m \u001b[39mNone\u001b[39;00m \u001b[39mand\u001b[39;00m \u001b[39mnot\u001b[39;00m flags\u001b[39m.\u001b[39menable_pyobject:\n",
      "File \u001b[0;32m~/opt/anaconda3/envs/nlp/lib/python3.8/site-packages/numba/core/compiler.py:716\u001b[0m, in \u001b[0;36mcompile_extra\u001b[0;34m(typingctx, targetctx, func, args, return_type, flags, locals, library, pipeline_class)\u001b[0m\n\u001b[1;32m    692\u001b[0m \u001b[39m\u001b[39m\u001b[39m\"\"\"Compiler entry point\u001b[39;00m\n\u001b[1;32m    693\u001b[0m \n\u001b[1;32m    694\u001b[0m \u001b[39mParameter\u001b[39;00m\n\u001b[0;32m   (...)\u001b[0m\n\u001b[1;32m    712\u001b[0m \u001b[39m    compiler pipeline\u001b[39;00m\n\u001b[1;32m    713\u001b[0m \u001b[39m\"\"\"\u001b[39;00m\n\u001b[1;32m    714\u001b[0m pipeline \u001b[39m=\u001b[39m pipeline_class(typingctx, targetctx, library,\n\u001b[1;32m    715\u001b[0m                           args, return_type, flags, \u001b[39mlocals\u001b[39m)\n\u001b[0;32m--> 716\u001b[0m \u001b[39mreturn\u001b[39;00m pipeline\u001b[39m.\u001b[39;49mcompile_extra(func)\n",
      "File \u001b[0;32m~/opt/anaconda3/envs/nlp/lib/python3.8/site-packages/numba/core/compiler.py:452\u001b[0m, in \u001b[0;36mCompilerBase.compile_extra\u001b[0;34m(self, func)\u001b[0m\n\u001b[1;32m    450\u001b[0m \u001b[39mself\u001b[39m\u001b[39m.\u001b[39mstate\u001b[39m.\u001b[39mlifted \u001b[39m=\u001b[39m ()\n\u001b[1;32m    451\u001b[0m \u001b[39mself\u001b[39m\u001b[39m.\u001b[39mstate\u001b[39m.\u001b[39mlifted_from \u001b[39m=\u001b[39m \u001b[39mNone\u001b[39;00m\n\u001b[0;32m--> 452\u001b[0m \u001b[39mreturn\u001b[39;00m \u001b[39mself\u001b[39;49m\u001b[39m.\u001b[39;49m_compile_bytecode()\n",
      "File \u001b[0;32m~/opt/anaconda3/envs/nlp/lib/python3.8/site-packages/numba/core/compiler.py:520\u001b[0m, in \u001b[0;36mCompilerBase._compile_bytecode\u001b[0;34m(self)\u001b[0m\n\u001b[1;32m    516\u001b[0m \u001b[39m\u001b[39m\u001b[39m\"\"\"\u001b[39;00m\n\u001b[1;32m    517\u001b[0m \u001b[39mPopulate and run pipeline for bytecode input\u001b[39;00m\n\u001b[1;32m    518\u001b[0m \u001b[39m\"\"\"\u001b[39;00m\n\u001b[1;32m    519\u001b[0m \u001b[39massert\u001b[39;00m \u001b[39mself\u001b[39m\u001b[39m.\u001b[39mstate\u001b[39m.\u001b[39mfunc_ir \u001b[39mis\u001b[39;00m \u001b[39mNone\u001b[39;00m\n\u001b[0;32m--> 520\u001b[0m \u001b[39mreturn\u001b[39;00m \u001b[39mself\u001b[39;49m\u001b[39m.\u001b[39;49m_compile_core()\n",
      "File \u001b[0;32m~/opt/anaconda3/envs/nlp/lib/python3.8/site-packages/numba/core/compiler.py:486\u001b[0m, in \u001b[0;36mCompilerBase._compile_core\u001b[0;34m(self)\u001b[0m\n\u001b[1;32m    484\u001b[0m res \u001b[39m=\u001b[39m \u001b[39mNone\u001b[39;00m\n\u001b[1;32m    485\u001b[0m \u001b[39mtry\u001b[39;00m:\n\u001b[0;32m--> 486\u001b[0m     pm\u001b[39m.\u001b[39;49mrun(\u001b[39mself\u001b[39;49m\u001b[39m.\u001b[39;49mstate)\n\u001b[1;32m    487\u001b[0m     \u001b[39mif\u001b[39;00m \u001b[39mself\u001b[39m\u001b[39m.\u001b[39mstate\u001b[39m.\u001b[39mcr \u001b[39mis\u001b[39;00m \u001b[39mnot\u001b[39;00m \u001b[39mNone\u001b[39;00m:\n\u001b[1;32m    488\u001b[0m         \u001b[39mbreak\u001b[39;00m\n",
      "File \u001b[0;32m~/opt/anaconda3/envs/nlp/lib/python3.8/site-packages/numba/core/compiler_machinery.py:356\u001b[0m, in \u001b[0;36mPassManager.run\u001b[0;34m(self, state)\u001b[0m\n\u001b[1;32m    354\u001b[0m pass_inst \u001b[39m=\u001b[39m _pass_registry\u001b[39m.\u001b[39mget(pss)\u001b[39m.\u001b[39mpass_inst\n\u001b[1;32m    355\u001b[0m \u001b[39mif\u001b[39;00m \u001b[39misinstance\u001b[39m(pass_inst, CompilerPass):\n\u001b[0;32m--> 356\u001b[0m     \u001b[39mself\u001b[39;49m\u001b[39m.\u001b[39;49m_runPass(idx, pass_inst, state)\n\u001b[1;32m    357\u001b[0m \u001b[39melse\u001b[39;00m:\n\u001b[1;32m    358\u001b[0m     \u001b[39mraise\u001b[39;00m \u001b[39mBaseException\u001b[39;00m(\u001b[39m\"\u001b[39m\u001b[39mLegacy pass in use\u001b[39m\u001b[39m\"\u001b[39m)\n",
      "File \u001b[0;32m~/opt/anaconda3/envs/nlp/lib/python3.8/site-packages/numba/core/compiler_lock.py:35\u001b[0m, in \u001b[0;36m_CompilerLock.__call__.<locals>._acquire_compile_lock\u001b[0;34m(*args, **kwargs)\u001b[0m\n\u001b[1;32m     32\u001b[0m \u001b[39m@functools\u001b[39m\u001b[39m.\u001b[39mwraps(func)\n\u001b[1;32m     33\u001b[0m \u001b[39mdef\u001b[39;00m \u001b[39m_acquire_compile_lock\u001b[39m(\u001b[39m*\u001b[39margs, \u001b[39m*\u001b[39m\u001b[39m*\u001b[39mkwargs):\n\u001b[1;32m     34\u001b[0m     \u001b[39mwith\u001b[39;00m \u001b[39mself\u001b[39m:\n\u001b[0;32m---> 35\u001b[0m         \u001b[39mreturn\u001b[39;00m func(\u001b[39m*\u001b[39;49margs, \u001b[39m*\u001b[39;49m\u001b[39m*\u001b[39;49mkwargs)\n",
      "File \u001b[0;32m~/opt/anaconda3/envs/nlp/lib/python3.8/site-packages/numba/core/compiler_machinery.py:311\u001b[0m, in \u001b[0;36mPassManager._runPass\u001b[0;34m(self, index, pss, internal_state)\u001b[0m\n\u001b[1;32m    309\u001b[0m     mutated \u001b[39m|\u001b[39m\u001b[39m=\u001b[39m check(pss\u001b[39m.\u001b[39mrun_initialization, internal_state)\n\u001b[1;32m    310\u001b[0m \u001b[39mwith\u001b[39;00m SimpleTimer() \u001b[39mas\u001b[39;00m pass_time:\n\u001b[0;32m--> 311\u001b[0m     mutated \u001b[39m|\u001b[39m\u001b[39m=\u001b[39m check(pss\u001b[39m.\u001b[39;49mrun_pass, internal_state)\n\u001b[1;32m    312\u001b[0m \u001b[39mwith\u001b[39;00m SimpleTimer() \u001b[39mas\u001b[39;00m finalize_time:\n\u001b[1;32m    313\u001b[0m     mutated \u001b[39m|\u001b[39m\u001b[39m=\u001b[39m check(pss\u001b[39m.\u001b[39mrun_finalizer, internal_state)\n",
      "File \u001b[0;32m~/opt/anaconda3/envs/nlp/lib/python3.8/site-packages/numba/core/compiler_machinery.py:273\u001b[0m, in \u001b[0;36mPassManager._runPass.<locals>.check\u001b[0;34m(func, compiler_state)\u001b[0m\n\u001b[1;32m    272\u001b[0m \u001b[39mdef\u001b[39;00m \u001b[39mcheck\u001b[39m(func, compiler_state):\n\u001b[0;32m--> 273\u001b[0m     mangled \u001b[39m=\u001b[39m func(compiler_state)\n\u001b[1;32m    274\u001b[0m     \u001b[39mif\u001b[39;00m mangled \u001b[39mnot\u001b[39;00m \u001b[39min\u001b[39;00m (\u001b[39mTrue\u001b[39;00m, \u001b[39mFalse\u001b[39;00m):\n\u001b[1;32m    275\u001b[0m         msg \u001b[39m=\u001b[39m (\u001b[39m\"\u001b[39m\u001b[39mCompilerPass implementations should return True/False. \u001b[39m\u001b[39m\"\u001b[39m\n\u001b[1;32m    276\u001b[0m                \u001b[39m\"\u001b[39m\u001b[39mCompilerPass with name \u001b[39m\u001b[39m'\u001b[39m\u001b[39m%s\u001b[39;00m\u001b[39m'\u001b[39m\u001b[39m did not.\u001b[39m\u001b[39m\"\u001b[39m)\n",
      "File \u001b[0;32m~/opt/anaconda3/envs/nlp/lib/python3.8/site-packages/numba/core/typed_passes.py:105\u001b[0m, in \u001b[0;36mBaseTypeInference.run_pass\u001b[0;34m(self, state)\u001b[0m\n\u001b[1;32m     99\u001b[0m \u001b[39m\u001b[39m\u001b[39m\"\"\"\u001b[39;00m\n\u001b[1;32m    100\u001b[0m \u001b[39mType inference and legalization\u001b[39;00m\n\u001b[1;32m    101\u001b[0m \u001b[39m\"\"\"\u001b[39;00m\n\u001b[1;32m    102\u001b[0m \u001b[39mwith\u001b[39;00m fallback_context(state, \u001b[39m'\u001b[39m\u001b[39mFunction \u001b[39m\u001b[39m\"\u001b[39m\u001b[39m%s\u001b[39;00m\u001b[39m\"\u001b[39m\u001b[39m failed type inference\u001b[39m\u001b[39m'\u001b[39m\n\u001b[1;32m    103\u001b[0m                       \u001b[39m%\u001b[39m (state\u001b[39m.\u001b[39mfunc_id\u001b[39m.\u001b[39mfunc_name,)):\n\u001b[1;32m    104\u001b[0m     \u001b[39m# Type inference\u001b[39;00m\n\u001b[0;32m--> 105\u001b[0m     typemap, return_type, calltypes, errs \u001b[39m=\u001b[39m type_inference_stage(\n\u001b[1;32m    106\u001b[0m         state\u001b[39m.\u001b[39;49mtypingctx,\n\u001b[1;32m    107\u001b[0m         state\u001b[39m.\u001b[39;49mtargetctx,\n\u001b[1;32m    108\u001b[0m         state\u001b[39m.\u001b[39;49mfunc_ir,\n\u001b[1;32m    109\u001b[0m         state\u001b[39m.\u001b[39;49margs,\n\u001b[1;32m    110\u001b[0m         state\u001b[39m.\u001b[39;49mreturn_type,\n\u001b[1;32m    111\u001b[0m         state\u001b[39m.\u001b[39;49mlocals,\n\u001b[1;32m    112\u001b[0m         raise_errors\u001b[39m=\u001b[39;49m\u001b[39mself\u001b[39;49m\u001b[39m.\u001b[39;49m_raise_errors)\n\u001b[1;32m    113\u001b[0m     state\u001b[39m.\u001b[39mtypemap \u001b[39m=\u001b[39m typemap\n\u001b[1;32m    114\u001b[0m     \u001b[39m# save errors in case of partial typing\u001b[39;00m\n",
      "File \u001b[0;32m~/opt/anaconda3/envs/nlp/lib/python3.8/site-packages/numba/core/typed_passes.py:83\u001b[0m, in \u001b[0;36mtype_inference_stage\u001b[0;34m(typingctx, targetctx, interp, args, return_type, locals, raise_errors)\u001b[0m\n\u001b[1;32m     81\u001b[0m     infer\u001b[39m.\u001b[39mbuild_constraint()\n\u001b[1;32m     82\u001b[0m     \u001b[39m# return errors in case of partial typing\u001b[39;00m\n\u001b[0;32m---> 83\u001b[0m     errs \u001b[39m=\u001b[39m infer\u001b[39m.\u001b[39;49mpropagate(raise_errors\u001b[39m=\u001b[39;49mraise_errors)\n\u001b[1;32m     84\u001b[0m     typemap, restype, calltypes \u001b[39m=\u001b[39m infer\u001b[39m.\u001b[39munify(raise_errors\u001b[39m=\u001b[39mraise_errors)\n\u001b[1;32m     86\u001b[0m \u001b[39m# Output all Numba warnings\u001b[39;00m\n",
      "File \u001b[0;32m~/opt/anaconda3/envs/nlp/lib/python3.8/site-packages/numba/core/typeinfer.py:1078\u001b[0m, in \u001b[0;36mTypeInferer.propagate\u001b[0;34m(self, raise_errors)\u001b[0m\n\u001b[1;32m   1075\u001b[0m oldtoken \u001b[39m=\u001b[39m newtoken\n\u001b[1;32m   1076\u001b[0m \u001b[39m# Errors can appear when the type set is incomplete; only\u001b[39;00m\n\u001b[1;32m   1077\u001b[0m \u001b[39m# raise them when there is no progress anymore.\u001b[39;00m\n\u001b[0;32m-> 1078\u001b[0m errors \u001b[39m=\u001b[39m \u001b[39mself\u001b[39;49m\u001b[39m.\u001b[39;49mconstraints\u001b[39m.\u001b[39;49mpropagate(\u001b[39mself\u001b[39;49m)\n\u001b[1;32m   1079\u001b[0m newtoken \u001b[39m=\u001b[39m \u001b[39mself\u001b[39m\u001b[39m.\u001b[39mget_state_token()\n\u001b[1;32m   1080\u001b[0m \u001b[39mself\u001b[39m\u001b[39m.\u001b[39mdebug\u001b[39m.\u001b[39mpropagate_finished()\n",
      "File \u001b[0;32m~/opt/anaconda3/envs/nlp/lib/python3.8/site-packages/numba/core/typeinfer.py:155\u001b[0m, in \u001b[0;36mConstraintNetwork.propagate\u001b[0;34m(self, typeinfer)\u001b[0m\n\u001b[1;32m    152\u001b[0m \u001b[39mwith\u001b[39;00m typeinfer\u001b[39m.\u001b[39mwarnings\u001b[39m.\u001b[39mcatch_warnings(filename\u001b[39m=\u001b[39mloc\u001b[39m.\u001b[39mfilename,\n\u001b[1;32m    153\u001b[0m                                        lineno\u001b[39m=\u001b[39mloc\u001b[39m.\u001b[39mline):\n\u001b[1;32m    154\u001b[0m     \u001b[39mtry\u001b[39;00m:\n\u001b[0;32m--> 155\u001b[0m         constraint(typeinfer)\n\u001b[1;32m    156\u001b[0m     \u001b[39mexcept\u001b[39;00m ForceLiteralArg \u001b[39mas\u001b[39;00m e:\n\u001b[1;32m    157\u001b[0m         errors\u001b[39m.\u001b[39mappend(e)\n",
      "File \u001b[0;32m~/opt/anaconda3/envs/nlp/lib/python3.8/site-packages/numba/core/typeinfer.py:704\u001b[0m, in \u001b[0;36mIntrinsicCallConstraint.__call__\u001b[0;34m(self, typeinfer)\u001b[0m\n\u001b[1;32m    702\u001b[0m \u001b[39mif\u001b[39;00m fnty \u001b[39min\u001b[39;00m utils\u001b[39m.\u001b[39mOPERATORS_TO_BUILTINS:\n\u001b[1;32m    703\u001b[0m     fnty \u001b[39m=\u001b[39m typeinfer\u001b[39m.\u001b[39mresolve_value_type(\u001b[39mNone\u001b[39;00m, fnty)\n\u001b[0;32m--> 704\u001b[0m \u001b[39mself\u001b[39;49m\u001b[39m.\u001b[39;49mresolve(typeinfer, typeinfer\u001b[39m.\u001b[39;49mtypevars, fnty\u001b[39m=\u001b[39;49mfnty)\n",
      "File \u001b[0;32m~/opt/anaconda3/envs/nlp/lib/python3.8/site-packages/numba/core/typeinfer.py:601\u001b[0m, in \u001b[0;36mCallConstraint.resolve\u001b[0;34m(self, typeinfer, typevars, fnty)\u001b[0m\n\u001b[1;32m    599\u001b[0m     fnty \u001b[39m=\u001b[39m fnty\u001b[39m.\u001b[39minstance_type\n\u001b[1;32m    600\u001b[0m \u001b[39mtry\u001b[39;00m:\n\u001b[0;32m--> 601\u001b[0m     sig \u001b[39m=\u001b[39m typeinfer\u001b[39m.\u001b[39;49mresolve_call(fnty, pos_args, kw_args)\n\u001b[1;32m    602\u001b[0m \u001b[39mexcept\u001b[39;00m ForceLiteralArg \u001b[39mas\u001b[39;00m e:\n\u001b[1;32m    603\u001b[0m     \u001b[39m# Adjust for bound methods\u001b[39;00m\n\u001b[1;32m    604\u001b[0m     folding_args \u001b[39m=\u001b[39m ((fnty\u001b[39m.\u001b[39mthis,) \u001b[39m+\u001b[39m \u001b[39mtuple\u001b[39m(\u001b[39mself\u001b[39m\u001b[39m.\u001b[39margs)\n\u001b[1;32m    605\u001b[0m                     \u001b[39mif\u001b[39;00m \u001b[39misinstance\u001b[39m(fnty, types\u001b[39m.\u001b[39mBoundFunction)\n\u001b[1;32m    606\u001b[0m                     \u001b[39melse\u001b[39;00m \u001b[39mself\u001b[39m\u001b[39m.\u001b[39margs)\n",
      "File \u001b[0;32m~/opt/anaconda3/envs/nlp/lib/python3.8/site-packages/numba/core/typeinfer.py:1555\u001b[0m, in \u001b[0;36mTypeInferer.resolve_call\u001b[0;34m(self, fnty, pos_args, kw_args)\u001b[0m\n\u001b[1;32m   1552\u001b[0m     \u001b[39mreturn\u001b[39;00m sig\n\u001b[1;32m   1553\u001b[0m \u001b[39melse\u001b[39;00m:\n\u001b[1;32m   1554\u001b[0m     \u001b[39m# Normal non-recursive call\u001b[39;00m\n\u001b[0;32m-> 1555\u001b[0m     \u001b[39mreturn\u001b[39;00m \u001b[39mself\u001b[39;49m\u001b[39m.\u001b[39;49mcontext\u001b[39m.\u001b[39;49mresolve_function_type(fnty, pos_args, kw_args)\n",
      "File \u001b[0;32m~/opt/anaconda3/envs/nlp/lib/python3.8/site-packages/numba/core/typing/context.py:196\u001b[0m, in \u001b[0;36mBaseContext.resolve_function_type\u001b[0;34m(self, func, args, kws)\u001b[0m\n\u001b[1;32m    194\u001b[0m \u001b[39m# Prefer user definition first\u001b[39;00m\n\u001b[1;32m    195\u001b[0m \u001b[39mtry\u001b[39;00m:\n\u001b[0;32m--> 196\u001b[0m     res \u001b[39m=\u001b[39m \u001b[39mself\u001b[39;49m\u001b[39m.\u001b[39;49m_resolve_user_function_type(func, args, kws)\n\u001b[1;32m    197\u001b[0m \u001b[39mexcept\u001b[39;00m errors\u001b[39m.\u001b[39mTypingError \u001b[39mas\u001b[39;00m e:\n\u001b[1;32m    198\u001b[0m     \u001b[39m# Capture any typing error\u001b[39;00m\n\u001b[1;32m    199\u001b[0m     last_exception \u001b[39m=\u001b[39m e\n",
      "File \u001b[0;32m~/opt/anaconda3/envs/nlp/lib/python3.8/site-packages/numba/core/typing/context.py:248\u001b[0m, in \u001b[0;36mBaseContext._resolve_user_function_type\u001b[0;34m(self, func, args, kws, literals)\u001b[0m\n\u001b[1;32m    244\u001b[0m         \u001b[39mreturn\u001b[39;00m \u001b[39mself\u001b[39m\u001b[39m.\u001b[39mresolve_function_type(func_type, args, kws)\n\u001b[1;32m    246\u001b[0m \u001b[39mif\u001b[39;00m \u001b[39misinstance\u001b[39m(func, types\u001b[39m.\u001b[39mCallable):\n\u001b[1;32m    247\u001b[0m     \u001b[39m# XXX fold this into the __call__ attribute logic?\u001b[39;00m\n\u001b[0;32m--> 248\u001b[0m     \u001b[39mreturn\u001b[39;00m func\u001b[39m.\u001b[39;49mget_call_type(\u001b[39mself\u001b[39;49m, args, kws)\n",
      "File \u001b[0;32m~/opt/anaconda3/envs/nlp/lib/python3.8/site-packages/numba/core/types/functions.py:303\u001b[0m, in \u001b[0;36mBaseFunction.get_call_type\u001b[0;34m(self, context, args, kws)\u001b[0m\n\u001b[1;32m    301\u001b[0m \u001b[39mtry\u001b[39;00m:\n\u001b[1;32m    302\u001b[0m     \u001b[39mif\u001b[39;00m uselit:\n\u001b[0;32m--> 303\u001b[0m         sig \u001b[39m=\u001b[39m temp\u001b[39m.\u001b[39;49mapply(args, kws)\n\u001b[1;32m    304\u001b[0m     \u001b[39melse\u001b[39;00m:\n\u001b[1;32m    305\u001b[0m         nolitargs \u001b[39m=\u001b[39m \u001b[39mtuple\u001b[39m([_unlit_non_poison(a) \u001b[39mfor\u001b[39;00m a \u001b[39min\u001b[39;00m args])\n",
      "File \u001b[0;32m~/opt/anaconda3/envs/nlp/lib/python3.8/site-packages/numba/core/typing/templates.py:351\u001b[0m, in \u001b[0;36mAbstractTemplate.apply\u001b[0;34m(self, args, kws)\u001b[0m\n\u001b[1;32m    349\u001b[0m \u001b[39mdef\u001b[39;00m \u001b[39mapply\u001b[39m(\u001b[39mself\u001b[39m, args, kws):\n\u001b[1;32m    350\u001b[0m     generic \u001b[39m=\u001b[39m \u001b[39mgetattr\u001b[39m(\u001b[39mself\u001b[39m, \u001b[39m\"\u001b[39m\u001b[39mgeneric\u001b[39m\u001b[39m\"\u001b[39m)\n\u001b[0;32m--> 351\u001b[0m     sig \u001b[39m=\u001b[39m generic(args, kws)\n\u001b[1;32m    352\u001b[0m     \u001b[39m# Enforce that *generic()* must return None or Signature\u001b[39;00m\n\u001b[1;32m    353\u001b[0m     \u001b[39mif\u001b[39;00m sig \u001b[39mis\u001b[39;00m \u001b[39mnot\u001b[39;00m \u001b[39mNone\u001b[39;00m:\n",
      "File \u001b[0;32m~/opt/anaconda3/envs/nlp/lib/python3.8/site-packages/numba/core/typing/npydecl.py:212\u001b[0m, in \u001b[0;36mNumpyRulesArrayOperator.generic\u001b[0;34m(self, args, kws)\u001b[0m\n\u001b[1;32m    203\u001b[0m \u001b[39m\u001b[39m\u001b[39m'''Overloads and calls base class generic() method, returning\u001b[39;00m\n\u001b[1;32m    204\u001b[0m \u001b[39mNone if a TypingError occurred.\u001b[39;00m\n\u001b[1;32m    205\u001b[0m \n\u001b[0;32m   (...)\u001b[0m\n\u001b[1;32m    209\u001b[0m \u001b[39m(particularly user-defined operators).\u001b[39;00m\n\u001b[1;32m    210\u001b[0m \u001b[39m'''\u001b[39;00m\n\u001b[1;32m    211\u001b[0m \u001b[39mtry\u001b[39;00m:\n\u001b[0;32m--> 212\u001b[0m     sig \u001b[39m=\u001b[39m \u001b[39msuper\u001b[39;49m(NumpyRulesArrayOperator, \u001b[39mself\u001b[39;49m)\u001b[39m.\u001b[39;49mgeneric(args, kws)\n\u001b[1;32m    213\u001b[0m \u001b[39mexcept\u001b[39;00m TypingError:\n\u001b[1;32m    214\u001b[0m     \u001b[39mreturn\u001b[39;00m \u001b[39mNone\u001b[39;00m\n",
      "File \u001b[0;32m~/opt/anaconda3/envs/nlp/lib/python3.8/site-packages/numba/core/typing/npydecl.py:105\u001b[0m, in \u001b[0;36mNumpy_rules_ufunc.generic\u001b[0;34m(self, args, kws)\u001b[0m\n\u001b[1;32m    102\u001b[0m ufunc \u001b[39m=\u001b[39m \u001b[39mself\u001b[39m\u001b[39m.\u001b[39mufunc\n\u001b[1;32m    103\u001b[0m base_types, explicit_outputs, ndims, layout \u001b[39m=\u001b[39m \u001b[39mself\u001b[39m\u001b[39m.\u001b[39m_handle_inputs(\n\u001b[1;32m    104\u001b[0m     ufunc, args, kws)\n\u001b[0;32m--> 105\u001b[0m ufunc_loop \u001b[39m=\u001b[39m ufunc_find_matching_loop(ufunc, base_types)\n\u001b[1;32m    106\u001b[0m \u001b[39mif\u001b[39;00m ufunc_loop \u001b[39mis\u001b[39;00m \u001b[39mNone\u001b[39;00m:\n\u001b[1;32m    107\u001b[0m     \u001b[39mraise\u001b[39;00m TypingError(\u001b[39m\"\u001b[39m\u001b[39mcan\u001b[39m\u001b[39m'\u001b[39m\u001b[39mt resolve ufunc \u001b[39m\u001b[39m{0}\u001b[39;00m\u001b[39m for types \u001b[39m\u001b[39m{1}\u001b[39;00m\u001b[39m\"\u001b[39m\u001b[39m.\u001b[39mformat(ufunc\u001b[39m.\u001b[39m\u001b[39m__name__\u001b[39m, args))\n",
      "File \u001b[0;32m~/opt/anaconda3/envs/nlp/lib/python3.8/site-packages/numba/np/numpy_support.py:525\u001b[0m, in \u001b[0;36mufunc_find_matching_loop\u001b[0;34m(ufunc, arg_types)\u001b[0m\n\u001b[1;32m    521\u001b[0m \u001b[39mif\u001b[39;00m found:\n\u001b[1;32m    522\u001b[0m     \u001b[39m# Found: determine the Numba types for the loop's inputs and\u001b[39;00m\n\u001b[1;32m    523\u001b[0m     \u001b[39m# outputs.\u001b[39;00m\n\u001b[1;32m    524\u001b[0m     \u001b[39mtry\u001b[39;00m:\n\u001b[0;32m--> 525\u001b[0m         inputs \u001b[39m=\u001b[39m choose_types(input_types, ufunc_inputs)\n\u001b[1;32m    526\u001b[0m         outputs \u001b[39m=\u001b[39m choose_types(output_types, ufunc_outputs)\n\u001b[1;32m    527\u001b[0m         \u001b[39m# if the left operand or both are timedeltas, or the first\u001b[39;00m\n\u001b[1;32m    528\u001b[0m         \u001b[39m# argument is datetime and the second argument is timedelta,\u001b[39;00m\n\u001b[1;32m    529\u001b[0m         \u001b[39m# then the output units need to be determined.\u001b[39;00m\n",
      "File \u001b[0;32m~/opt/anaconda3/envs/nlp/lib/python3.8/site-packages/numba/np/numpy_support.py:394\u001b[0m, in \u001b[0;36mufunc_find_matching_loop.<locals>.choose_types\u001b[0;34m(numba_types, ufunc_letters)\u001b[0m\n\u001b[1;32m    388\u001b[0m \u001b[39m\u001b[39m\u001b[39m\"\"\"\u001b[39;00m\n\u001b[1;32m    389\u001b[0m \u001b[39mReturn a list of Numba types representing *ufunc_letters*,\u001b[39;00m\n\u001b[1;32m    390\u001b[0m \u001b[39mexcept when the letter designates a datetime64 or timedelta64,\u001b[39;00m\n\u001b[1;32m    391\u001b[0m \u001b[39min which case the type is taken from *numba_types*.\u001b[39;00m\n\u001b[1;32m    392\u001b[0m \u001b[39m\"\"\"\u001b[39;00m\n\u001b[1;32m    393\u001b[0m \u001b[39massert\u001b[39;00m \u001b[39mlen\u001b[39m(ufunc_letters) \u001b[39m>\u001b[39m\u001b[39m=\u001b[39m \u001b[39mlen\u001b[39m(numba_types)\n\u001b[0;32m--> 394\u001b[0m types \u001b[39m=\u001b[39m [tp \u001b[39mif\u001b[39;00m letter \u001b[39min\u001b[39;00m \u001b[39m'\u001b[39m\u001b[39mmM\u001b[39m\u001b[39m'\u001b[39m \u001b[39melse\u001b[39;00m from_dtype(np\u001b[39m.\u001b[39mdtype(letter))\n\u001b[1;32m    395\u001b[0m          \u001b[39mfor\u001b[39;00m tp, letter \u001b[39min\u001b[39;00m \u001b[39mzip\u001b[39m(numba_types, ufunc_letters)]\n\u001b[1;32m    396\u001b[0m \u001b[39m# Add missing types (presumably implicit outputs)\u001b[39;00m\n\u001b[1;32m    397\u001b[0m types \u001b[39m+\u001b[39m\u001b[39m=\u001b[39m [from_dtype(np\u001b[39m.\u001b[39mdtype(letter))\n\u001b[1;32m    398\u001b[0m           \u001b[39mfor\u001b[39;00m letter \u001b[39min\u001b[39;00m ufunc_letters[\u001b[39mlen\u001b[39m(numba_types):]]\n",
      "File \u001b[0;32m~/opt/anaconda3/envs/nlp/lib/python3.8/site-packages/numba/np/numpy_support.py:394\u001b[0m, in \u001b[0;36m<listcomp>\u001b[0;34m(.0)\u001b[0m\n\u001b[1;32m    388\u001b[0m \u001b[39m\u001b[39m\u001b[39m\"\"\"\u001b[39;00m\n\u001b[1;32m    389\u001b[0m \u001b[39mReturn a list of Numba types representing *ufunc_letters*,\u001b[39;00m\n\u001b[1;32m    390\u001b[0m \u001b[39mexcept when the letter designates a datetime64 or timedelta64,\u001b[39;00m\n\u001b[1;32m    391\u001b[0m \u001b[39min which case the type is taken from *numba_types*.\u001b[39;00m\n\u001b[1;32m    392\u001b[0m \u001b[39m\"\"\"\u001b[39;00m\n\u001b[1;32m    393\u001b[0m \u001b[39massert\u001b[39;00m \u001b[39mlen\u001b[39m(ufunc_letters) \u001b[39m>\u001b[39m\u001b[39m=\u001b[39m \u001b[39mlen\u001b[39m(numba_types)\n\u001b[0;32m--> 394\u001b[0m types \u001b[39m=\u001b[39m [tp \u001b[39mif\u001b[39;00m letter \u001b[39min\u001b[39;00m \u001b[39m'\u001b[39m\u001b[39mmM\u001b[39m\u001b[39m'\u001b[39m \u001b[39melse\u001b[39;00m from_dtype(np\u001b[39m.\u001b[39mdtype(letter))\n\u001b[1;32m    395\u001b[0m          \u001b[39mfor\u001b[39;00m tp, letter \u001b[39min\u001b[39;00m \u001b[39mzip\u001b[39m(numba_types, ufunc_letters)]\n\u001b[1;32m    396\u001b[0m \u001b[39m# Add missing types (presumably implicit outputs)\u001b[39;00m\n\u001b[1;32m    397\u001b[0m types \u001b[39m+\u001b[39m\u001b[39m=\u001b[39m [from_dtype(np\u001b[39m.\u001b[39mdtype(letter))\n\u001b[1;32m    398\u001b[0m           \u001b[39mfor\u001b[39;00m letter \u001b[39min\u001b[39;00m ufunc_letters[\u001b[39mlen\u001b[39m(numba_types):]]\n",
      "\u001b[0;31mKeyboardInterrupt\u001b[0m: "
     ]
    }
   ],
   "source": [
    "import sys\n",
    "import os\n",
    "sys.path.append(os.path.abspath('../')) ## needed to import the function.py file\n",
    "from functions import *\n",
    "import pandas as pd"
   ]
  },
  {
   "cell_type": "code",
   "execution_count": null,
   "metadata": {},
   "outputs": [],
   "source": [
    "# specify the path of the Excel file\n",
    "file_path = '../../exports/tables/Themencluster_Fachexperten_BERTTopic_paraphrase-multilingual-MiniLM-L12-v2_Themencluster_Fachexperten.xlsx'\n",
    "sheet_name = 'Cluster_L2'  # sheet name\n",
    "\n",
    "# import the Excel sheet as a pandas DataFrame\n",
    "df = pd.read_excel(file_path, sheet_name=sheet_name)\n",
    "df_export = pd.read_excel(file_path, sheet_name='export')"
   ]
  },
  {
   "cell_type": "code",
   "execution_count": null,
   "metadata": {},
   "outputs": [],
   "source": [
    "## Import docs\n",
    "filelocation = '../../data/DataTextTrain'\n",
    "data = pd.read_feather(filelocation)\n",
    "data = data\n",
    "docs = data[\"Kommentar\"].values\n",
    "timestamps = data.yearquarter.to_list()"
   ]
  },
  {
   "attachments": {},
   "cell_type": "markdown",
   "metadata": {},
   "source": [
    "## Modelvariante 1: Merged Topic Model"
   ]
  },
  {
   "cell_type": "code",
   "execution_count": null,
   "metadata": {},
   "outputs": [],
   "source": [
    "# Load the Original Topic Model\n",
    "topic_model = BERTopic.load(\"../../models/BERTTopic_paraphrase-multilingual-MiniLM-L12-v2.model\")"
   ]
  },
  {
   "cell_type": "code",
   "execution_count": null,
   "metadata": {},
   "outputs": [],
   "source": [
    "df_print = df[df['Themencluster']!=\"Outlier\"].sort_values(by='Anzahl Kommentare',ascending=False) # Filter out Sonstige"
   ]
  },
  {
   "cell_type": "code",
   "execution_count": null,
   "metadata": {},
   "outputs": [
    {
     "data": {
      "application/vnd.plotly.v1+json": {
       "config": {
        "plotlyServerURL": "https://plot.ly"
       },
       "data": [
        {
         "alignmentgroup": "True",
         "hovertemplate": "Anzahl Kommentare=%{x}<br>Themencluster=%{y}<extra></extra>",
         "legendgroup": "",
         "marker": {
          "color": "#003f5c",
          "opacity": 1,
          "pattern": {
           "shape": ""
          }
         },
         "name": "",
         "offsetgroup": "",
         "orientation": "h",
         "showlegend": false,
         "textposition": "auto",
         "type": "bar",
         "x": [
          505,
          518,
          672,
          737,
          740,
          761,
          1049,
          1274,
          1408,
          1435,
          1579,
          1642,
          1655,
          1663,
          1785,
          2400,
          2922,
          4224
         ],
         "xaxis": "x",
         "y": [
          "Kundeninformation",
          "Feedback Umfrage",
          "Sauberkeit Zug und Bahnhof",
          "Ausstattung Qualität Rollmaterial",
          "Security",
          "Internet, Wlan und Mobilfunk",
          "Kommerzielle Angebote",
          "Raumtemperatur Zug",
          "Platzangebot Velo, Gepäck, Kinderwagen",
          "Lob",
          "Corona",
          "Sonstiges",
          "Fahrplanangebot",
          "Vertrieb und Services",
          "WC Verfügbarkeit und Sauberkeit",
          "Preis-Leistung",
          "Platzangebot Zug",
          "Pünktlichkeit"
         ],
         "yaxis": "y"
        }
       ],
       "layout": {
        "barmode": "relative",
        "height": 450,
        "legend": {
         "title": {
          "text": ""
         },
         "tracegroupgap": 0
        },
        "margin": {
         "t": 60
        },
        "template": {
         "data": {
          "bar": [
           {
            "error_x": {
             "color": "#2a3f5f"
            },
            "error_y": {
             "color": "#2a3f5f"
            },
            "marker": {
             "line": {
              "color": "#E5ECF6",
              "width": 0.5
             },
             "pattern": {
              "fillmode": "overlay",
              "size": 10,
              "solidity": 0.2
             }
            },
            "type": "bar"
           }
          ],
          "barpolar": [
           {
            "marker": {
             "line": {
              "color": "#E5ECF6",
              "width": 0.5
             },
             "pattern": {
              "fillmode": "overlay",
              "size": 10,
              "solidity": 0.2
             }
            },
            "type": "barpolar"
           }
          ],
          "carpet": [
           {
            "aaxis": {
             "endlinecolor": "#2a3f5f",
             "gridcolor": "white",
             "linecolor": "white",
             "minorgridcolor": "white",
             "startlinecolor": "#2a3f5f"
            },
            "baxis": {
             "endlinecolor": "#2a3f5f",
             "gridcolor": "white",
             "linecolor": "white",
             "minorgridcolor": "white",
             "startlinecolor": "#2a3f5f"
            },
            "type": "carpet"
           }
          ],
          "choropleth": [
           {
            "colorbar": {
             "outlinewidth": 0,
             "ticks": ""
            },
            "type": "choropleth"
           }
          ],
          "contour": [
           {
            "colorbar": {
             "outlinewidth": 0,
             "ticks": ""
            },
            "colorscale": [
             [
              0,
              "#0d0887"
             ],
             [
              0.1111111111111111,
              "#46039f"
             ],
             [
              0.2222222222222222,
              "#7201a8"
             ],
             [
              0.3333333333333333,
              "#9c179e"
             ],
             [
              0.4444444444444444,
              "#bd3786"
             ],
             [
              0.5555555555555556,
              "#d8576b"
             ],
             [
              0.6666666666666666,
              "#ed7953"
             ],
             [
              0.7777777777777778,
              "#fb9f3a"
             ],
             [
              0.8888888888888888,
              "#fdca26"
             ],
             [
              1,
              "#f0f921"
             ]
            ],
            "type": "contour"
           }
          ],
          "contourcarpet": [
           {
            "colorbar": {
             "outlinewidth": 0,
             "ticks": ""
            },
            "type": "contourcarpet"
           }
          ],
          "heatmap": [
           {
            "colorbar": {
             "outlinewidth": 0,
             "ticks": ""
            },
            "colorscale": [
             [
              0,
              "#0d0887"
             ],
             [
              0.1111111111111111,
              "#46039f"
             ],
             [
              0.2222222222222222,
              "#7201a8"
             ],
             [
              0.3333333333333333,
              "#9c179e"
             ],
             [
              0.4444444444444444,
              "#bd3786"
             ],
             [
              0.5555555555555556,
              "#d8576b"
             ],
             [
              0.6666666666666666,
              "#ed7953"
             ],
             [
              0.7777777777777778,
              "#fb9f3a"
             ],
             [
              0.8888888888888888,
              "#fdca26"
             ],
             [
              1,
              "#f0f921"
             ]
            ],
            "type": "heatmap"
           }
          ],
          "heatmapgl": [
           {
            "colorbar": {
             "outlinewidth": 0,
             "ticks": ""
            },
            "colorscale": [
             [
              0,
              "#0d0887"
             ],
             [
              0.1111111111111111,
              "#46039f"
             ],
             [
              0.2222222222222222,
              "#7201a8"
             ],
             [
              0.3333333333333333,
              "#9c179e"
             ],
             [
              0.4444444444444444,
              "#bd3786"
             ],
             [
              0.5555555555555556,
              "#d8576b"
             ],
             [
              0.6666666666666666,
              "#ed7953"
             ],
             [
              0.7777777777777778,
              "#fb9f3a"
             ],
             [
              0.8888888888888888,
              "#fdca26"
             ],
             [
              1,
              "#f0f921"
             ]
            ],
            "type": "heatmapgl"
           }
          ],
          "histogram": [
           {
            "marker": {
             "pattern": {
              "fillmode": "overlay",
              "size": 10,
              "solidity": 0.2
             }
            },
            "type": "histogram"
           }
          ],
          "histogram2d": [
           {
            "colorbar": {
             "outlinewidth": 0,
             "ticks": ""
            },
            "colorscale": [
             [
              0,
              "#0d0887"
             ],
             [
              0.1111111111111111,
              "#46039f"
             ],
             [
              0.2222222222222222,
              "#7201a8"
             ],
             [
              0.3333333333333333,
              "#9c179e"
             ],
             [
              0.4444444444444444,
              "#bd3786"
             ],
             [
              0.5555555555555556,
              "#d8576b"
             ],
             [
              0.6666666666666666,
              "#ed7953"
             ],
             [
              0.7777777777777778,
              "#fb9f3a"
             ],
             [
              0.8888888888888888,
              "#fdca26"
             ],
             [
              1,
              "#f0f921"
             ]
            ],
            "type": "histogram2d"
           }
          ],
          "histogram2dcontour": [
           {
            "colorbar": {
             "outlinewidth": 0,
             "ticks": ""
            },
            "colorscale": [
             [
              0,
              "#0d0887"
             ],
             [
              0.1111111111111111,
              "#46039f"
             ],
             [
              0.2222222222222222,
              "#7201a8"
             ],
             [
              0.3333333333333333,
              "#9c179e"
             ],
             [
              0.4444444444444444,
              "#bd3786"
             ],
             [
              0.5555555555555556,
              "#d8576b"
             ],
             [
              0.6666666666666666,
              "#ed7953"
             ],
             [
              0.7777777777777778,
              "#fb9f3a"
             ],
             [
              0.8888888888888888,
              "#fdca26"
             ],
             [
              1,
              "#f0f921"
             ]
            ],
            "type": "histogram2dcontour"
           }
          ],
          "mesh3d": [
           {
            "colorbar": {
             "outlinewidth": 0,
             "ticks": ""
            },
            "type": "mesh3d"
           }
          ],
          "parcoords": [
           {
            "line": {
             "colorbar": {
              "outlinewidth": 0,
              "ticks": ""
             }
            },
            "type": "parcoords"
           }
          ],
          "pie": [
           {
            "automargin": true,
            "type": "pie"
           }
          ],
          "scatter": [
           {
            "fillpattern": {
             "fillmode": "overlay",
             "size": 10,
             "solidity": 0.2
            },
            "type": "scatter"
           }
          ],
          "scatter3d": [
           {
            "line": {
             "colorbar": {
              "outlinewidth": 0,
              "ticks": ""
             }
            },
            "marker": {
             "colorbar": {
              "outlinewidth": 0,
              "ticks": ""
             }
            },
            "type": "scatter3d"
           }
          ],
          "scattercarpet": [
           {
            "marker": {
             "colorbar": {
              "outlinewidth": 0,
              "ticks": ""
             }
            },
            "type": "scattercarpet"
           }
          ],
          "scattergeo": [
           {
            "marker": {
             "colorbar": {
              "outlinewidth": 0,
              "ticks": ""
             }
            },
            "type": "scattergeo"
           }
          ],
          "scattergl": [
           {
            "marker": {
             "colorbar": {
              "outlinewidth": 0,
              "ticks": ""
             }
            },
            "type": "scattergl"
           }
          ],
          "scattermapbox": [
           {
            "marker": {
             "colorbar": {
              "outlinewidth": 0,
              "ticks": ""
             }
            },
            "type": "scattermapbox"
           }
          ],
          "scatterpolar": [
           {
            "marker": {
             "colorbar": {
              "outlinewidth": 0,
              "ticks": ""
             }
            },
            "type": "scatterpolar"
           }
          ],
          "scatterpolargl": [
           {
            "marker": {
             "colorbar": {
              "outlinewidth": 0,
              "ticks": ""
             }
            },
            "type": "scatterpolargl"
           }
          ],
          "scatterternary": [
           {
            "marker": {
             "colorbar": {
              "outlinewidth": 0,
              "ticks": ""
             }
            },
            "type": "scatterternary"
           }
          ],
          "surface": [
           {
            "colorbar": {
             "outlinewidth": 0,
             "ticks": ""
            },
            "colorscale": [
             [
              0,
              "#0d0887"
             ],
             [
              0.1111111111111111,
              "#46039f"
             ],
             [
              0.2222222222222222,
              "#7201a8"
             ],
             [
              0.3333333333333333,
              "#9c179e"
             ],
             [
              0.4444444444444444,
              "#bd3786"
             ],
             [
              0.5555555555555556,
              "#d8576b"
             ],
             [
              0.6666666666666666,
              "#ed7953"
             ],
             [
              0.7777777777777778,
              "#fb9f3a"
             ],
             [
              0.8888888888888888,
              "#fdca26"
             ],
             [
              1,
              "#f0f921"
             ]
            ],
            "type": "surface"
           }
          ],
          "table": [
           {
            "cells": {
             "fill": {
              "color": "#EBF0F8"
             },
             "line": {
              "color": "white"
             }
            },
            "header": {
             "fill": {
              "color": "#C8D4E3"
             },
             "line": {
              "color": "white"
             }
            },
            "type": "table"
           }
          ]
         },
         "layout": {
          "annotationdefaults": {
           "arrowcolor": "#2a3f5f",
           "arrowhead": 0,
           "arrowwidth": 1
          },
          "autotypenumbers": "strict",
          "coloraxis": {
           "colorbar": {
            "outlinewidth": 0,
            "ticks": ""
           }
          },
          "colorscale": {
           "diverging": [
            [
             0,
             "#8e0152"
            ],
            [
             0.1,
             "#c51b7d"
            ],
            [
             0.2,
             "#de77ae"
            ],
            [
             0.3,
             "#f1b6da"
            ],
            [
             0.4,
             "#fde0ef"
            ],
            [
             0.5,
             "#f7f7f7"
            ],
            [
             0.6,
             "#e6f5d0"
            ],
            [
             0.7,
             "#b8e186"
            ],
            [
             0.8,
             "#7fbc41"
            ],
            [
             0.9,
             "#4d9221"
            ],
            [
             1,
             "#276419"
            ]
           ],
           "sequential": [
            [
             0,
             "#0d0887"
            ],
            [
             0.1111111111111111,
             "#46039f"
            ],
            [
             0.2222222222222222,
             "#7201a8"
            ],
            [
             0.3333333333333333,
             "#9c179e"
            ],
            [
             0.4444444444444444,
             "#bd3786"
            ],
            [
             0.5555555555555556,
             "#d8576b"
            ],
            [
             0.6666666666666666,
             "#ed7953"
            ],
            [
             0.7777777777777778,
             "#fb9f3a"
            ],
            [
             0.8888888888888888,
             "#fdca26"
            ],
            [
             1,
             "#f0f921"
            ]
           ],
           "sequentialminus": [
            [
             0,
             "#0d0887"
            ],
            [
             0.1111111111111111,
             "#46039f"
            ],
            [
             0.2222222222222222,
             "#7201a8"
            ],
            [
             0.3333333333333333,
             "#9c179e"
            ],
            [
             0.4444444444444444,
             "#bd3786"
            ],
            [
             0.5555555555555556,
             "#d8576b"
            ],
            [
             0.6666666666666666,
             "#ed7953"
            ],
            [
             0.7777777777777778,
             "#fb9f3a"
            ],
            [
             0.8888888888888888,
             "#fdca26"
            ],
            [
             1,
             "#f0f921"
            ]
           ]
          },
          "colorway": [
           "#636efa",
           "#EF553B",
           "#00cc96",
           "#ab63fa",
           "#FFA15A",
           "#19d3f3",
           "#FF6692",
           "#B6E880",
           "#FF97FF",
           "#FECB52"
          ],
          "font": {
           "color": "#2a3f5f"
          },
          "geo": {
           "bgcolor": "white",
           "lakecolor": "white",
           "landcolor": "#E5ECF6",
           "showlakes": true,
           "showland": true,
           "subunitcolor": "white"
          },
          "hoverlabel": {
           "align": "left"
          },
          "hovermode": "closest",
          "mapbox": {
           "style": "light"
          },
          "paper_bgcolor": "white",
          "plot_bgcolor": "#E5ECF6",
          "polar": {
           "angularaxis": {
            "gridcolor": "white",
            "linecolor": "white",
            "ticks": ""
           },
           "bgcolor": "#E5ECF6",
           "radialaxis": {
            "gridcolor": "white",
            "linecolor": "white",
            "ticks": ""
           }
          },
          "scene": {
           "xaxis": {
            "backgroundcolor": "#E5ECF6",
            "gridcolor": "white",
            "gridwidth": 2,
            "linecolor": "white",
            "showbackground": true,
            "ticks": "",
            "zerolinecolor": "white"
           },
           "yaxis": {
            "backgroundcolor": "#E5ECF6",
            "gridcolor": "white",
            "gridwidth": 2,
            "linecolor": "white",
            "showbackground": true,
            "ticks": "",
            "zerolinecolor": "white"
           },
           "zaxis": {
            "backgroundcolor": "#E5ECF6",
            "gridcolor": "white",
            "gridwidth": 2,
            "linecolor": "white",
            "showbackground": true,
            "ticks": "",
            "zerolinecolor": "white"
           }
          },
          "shapedefaults": {
           "line": {
            "color": "#2a3f5f"
           }
          },
          "ternary": {
           "aaxis": {
            "gridcolor": "white",
            "linecolor": "white",
            "ticks": ""
           },
           "baxis": {
            "gridcolor": "white",
            "linecolor": "white",
            "ticks": ""
           },
           "bgcolor": "#E5ECF6",
           "caxis": {
            "gridcolor": "white",
            "linecolor": "white",
            "ticks": ""
           }
          },
          "title": {
           "x": 0.05
          },
          "xaxis": {
           "automargin": true,
           "gridcolor": "white",
           "linecolor": "white",
           "ticks": "",
           "title": {
            "standoff": 15
           },
           "zerolinecolor": "white",
           "zerolinewidth": 2
          },
          "yaxis": {
           "automargin": true,
           "gridcolor": "white",
           "linecolor": "white",
           "ticks": "",
           "title": {
            "standoff": 15
           },
           "zerolinecolor": "white",
           "zerolinewidth": 2
          }
         }
        },
        "title": {
         "text": "Die 18 finalen Themencluster und Anzahl Kommentare pro Cluster"
        },
        "width": 900,
        "xaxis": {
         "anchor": "y",
         "domain": [
          0,
          1
         ],
         "tickangle": 90,
         "title": {
          "text": ""
         }
        },
        "yaxis": {
         "anchor": "x",
         "domain": [
          0,
          1
         ],
         "title": {
          "text": ""
         }
        }
       }
      }
     },
     "metadata": {},
     "output_type": "display_data"
    }
   ],
   "source": [
    "import plotly.express as px\n",
    "import plotly.io as pio\n",
    "\n",
    "fig = px.bar(df_print.sort_values('Anzahl Kommentare', ascending=True),\n",
    "    y='Themencluster', \n",
    "    x='Anzahl Kommentare',\n",
    "    opacity = 1,\n",
    "    color_discrete_sequence =color_discrete_sequence\n",
    "                 )\n",
    "\n",
    "fig.update_layout(\n",
    "    title=\"Die 18 finalen Themencluster und Anzahl Kommentare pro Cluster\",\n",
    "    xaxis_title='',\n",
    "    yaxis_title='',\n",
    "    xaxis=dict(tickangle=90),\n",
    "    width=900, \n",
    "    height=450,\n",
    "    legend_title=\"\")\n",
    "\n",
    "fig.show()\n",
    "\n",
    "pio.write_image(fig,\"../../exports/images/fig-18-Themencluster-expertenreview.svg\") #save fig as svg"
   ]
  },
  {
   "cell_type": "code",
   "execution_count": null,
   "metadata": {},
   "outputs": [],
   "source": [
    "# generate list for topic merge for new aggregated model\n",
    "grouped = df_export.groupby('cluster_level_2')['Topic'].agg(list).reset_index()\n",
    "topics_merge_list = grouped.Topic.tolist()"
   ]
  },
  {
   "cell_type": "code",
   "execution_count": null,
   "metadata": {},
   "outputs": [],
   "source": [
    "# Merge Topics based on clusters\n",
    "topic_model.merge_topics(docs, topics_merge_list)"
   ]
  },
  {
   "cell_type": "code",
   "execution_count": null,
   "metadata": {},
   "outputs": [],
   "source": [
    "# Assign Custom Labels based on Clustering to the Topics\n",
    "df_new_model = topic_model.get_topic_info()\n",
    "df_new_lables = df_new_model.merge(df,left_on='Count',right_on='Anzahl Kommentare') # Joinin df to have new Topic ids and Custom cluster namens\n",
    "df_new_lables.set_index('Topic', inplace=True) # Set the 'Topic' column as the index of the DataFrame\n",
    "id_mapping_dict = df_new_lables['Themencluster'].to_dict() # Create a dictionary using the index and 'Themencluster' column\n",
    "topic_model.set_topic_labels(id_mapping_dict) # Assign Lables to model\n",
    "df_export = topic_model.get_topic_info()"
   ]
  },
  {
   "cell_type": "code",
   "execution_count": null,
   "metadata": {},
   "outputs": [],
   "source": [
    "# Save the Model\n",
    "topic_model.save('../../models/BERTTopic_paraphrase-multilingual-MiniLM-L12-v2_merged.model')\n",
    "df_export.to_excel('../../exports/tables/merged_topics.xlsx', index=False)"
   ]
  },
  {
   "cell_type": "code",
   "execution_count": null,
   "metadata": {},
   "outputs": [
    {
     "data": {
      "text/html": [
       "<div>\n",
       "<style scoped>\n",
       "    .dataframe tbody tr th:only-of-type {\n",
       "        vertical-align: middle;\n",
       "    }\n",
       "\n",
       "    .dataframe tbody tr th {\n",
       "        vertical-align: top;\n",
       "    }\n",
       "\n",
       "    .dataframe thead th {\n",
       "        text-align: right;\n",
       "    }\n",
       "</style>\n",
       "<table border=\"1\" class=\"dataframe\">\n",
       "  <thead>\n",
       "    <tr style=\"text-align: right;\">\n",
       "      <th></th>\n",
       "      <th>Topic</th>\n",
       "      <th>Count</th>\n",
       "      <th>Name</th>\n",
       "      <th>CustomName</th>\n",
       "    </tr>\n",
       "  </thead>\n",
       "  <tbody>\n",
       "    <tr>\n",
       "      <th>0</th>\n",
       "      <td>-1</td>\n",
       "      <td>18072</td>\n",
       "      <td>-1_zug_züge_klasse_app</td>\n",
       "      <td>Outlier</td>\n",
       "    </tr>\n",
       "    <tr>\n",
       "      <th>1</th>\n",
       "      <td>0</td>\n",
       "      <td>4224</td>\n",
       "      <td>0_zug_verspätung_minuten_verspätungen</td>\n",
       "      <td>Pünktlichkeit</td>\n",
       "    </tr>\n",
       "    <tr>\n",
       "      <th>2</th>\n",
       "      <td>1</td>\n",
       "      <td>2922</td>\n",
       "      <td>1_klasse_wagen_sitzplätze_stosszeiten</td>\n",
       "      <td>Platzangebot Zug</td>\n",
       "    </tr>\n",
       "    <tr>\n",
       "      <th>3</th>\n",
       "      <td>2</td>\n",
       "      <td>2400</td>\n",
       "      <td>2_teuer_preise_ga_preis</td>\n",
       "      <td>Preis-Leistung</td>\n",
       "    </tr>\n",
       "    <tr>\n",
       "      <th>4</th>\n",
       "      <td>3</td>\n",
       "      <td>1785</td>\n",
       "      <td>3_wc_toiletten_wcs_toilette</td>\n",
       "      <td>WC Verfügbarkeit und Sauberkeit</td>\n",
       "    </tr>\n",
       "    <tr>\n",
       "      <th>5</th>\n",
       "      <td>4</td>\n",
       "      <td>1663</td>\n",
       "      <td>4_app_ticket_lösen_mobile</td>\n",
       "      <td>Vertrieb und Services</td>\n",
       "    </tr>\n",
       "    <tr>\n",
       "      <th>6</th>\n",
       "      <td>5</td>\n",
       "      <td>1655</td>\n",
       "      <td>5_postauto_anschluss_minuten_busse</td>\n",
       "      <td>Fahrplanangebot</td>\n",
       "    </tr>\n",
       "    <tr>\n",
       "      <th>7</th>\n",
       "      <td>6</td>\n",
       "      <td>1642</td>\n",
       "      <td>6_hund_kinderwagen_perron_hunde</td>\n",
       "      <td>Sonstiges</td>\n",
       "    </tr>\n",
       "    <tr>\n",
       "      <th>8</th>\n",
       "      <td>7</td>\n",
       "      <td>1579</td>\n",
       "      <td>7_maskenpflicht_maske_masken_tragen</td>\n",
       "      <td>Corona</td>\n",
       "    </tr>\n",
       "    <tr>\n",
       "      <th>9</th>\n",
       "      <td>8</td>\n",
       "      <td>1435</td>\n",
       "      <td>8_zufrieden_super_personal_job</td>\n",
       "      <td>Lob</td>\n",
       "    </tr>\n",
       "    <tr>\n",
       "      <th>10</th>\n",
       "      <td>9</td>\n",
       "      <td>1408</td>\n",
       "      <td>9_gepäck_koffer_fahrrad_fahrräder</td>\n",
       "      <td>Platzangebot Velo, Gepäck, Kinderwagen</td>\n",
       "    </tr>\n",
       "    <tr>\n",
       "      <th>11</th>\n",
       "      <td>10</td>\n",
       "      <td>1274</td>\n",
       "      <td>10_kalt_klimaanlage_eingestellt_sommer</td>\n",
       "      <td>Raumtemperatur Zug</td>\n",
       "    </tr>\n",
       "    <tr>\n",
       "      <th>12</th>\n",
       "      <td>11</td>\n",
       "      <td>1049</td>\n",
       "      <td>11_speisewagen_kaffee_bistro_getränke</td>\n",
       "      <td>Kommerzielle Angebote</td>\n",
       "    </tr>\n",
       "    <tr>\n",
       "      <th>13</th>\n",
       "      <td>12</td>\n",
       "      <td>761</td>\n",
       "      <td>12_wlan_wifi_internet_zug</td>\n",
       "      <td>Internet, Wlan und Mobilfunk</td>\n",
       "    </tr>\n",
       "    <tr>\n",
       "      <th>14</th>\n",
       "      <td>13</td>\n",
       "      <td>740</td>\n",
       "      <td>13_sicherheitspersonal_abend_sicherheit_abends</td>\n",
       "      <td>Security</td>\n",
       "    </tr>\n",
       "    <tr>\n",
       "      <th>15</th>\n",
       "      <td>14</td>\n",
       "      <td>737</td>\n",
       "      <td>14_rollmaterial_kinderwagen_bombardier_familie...</td>\n",
       "      <td>Ausstattung Qualität Rollmaterial</td>\n",
       "    </tr>\n",
       "    <tr>\n",
       "      <th>16</th>\n",
       "      <td>15</td>\n",
       "      <td>672</td>\n",
       "      <td>15_sauberkeit_abfalleimer_abfall_zügen</td>\n",
       "      <td>Sauberkeit Zug und Bahnhof</td>\n",
       "    </tr>\n",
       "    <tr>\n",
       "      <th>17</th>\n",
       "      <td>16</td>\n",
       "      <td>518</td>\n",
       "      <td>16_umfrage_fragen_umfragen_siehe</td>\n",
       "      <td>Feedback Umfrage</td>\n",
       "    </tr>\n",
       "    <tr>\n",
       "      <th>18</th>\n",
       "      <td>17</td>\n",
       "      <td>505</td>\n",
       "      <td>17_durchsagen_lautsprecher_informationen_sprachen</td>\n",
       "      <td>Kundeninformation</td>\n",
       "    </tr>\n",
       "  </tbody>\n",
       "</table>\n",
       "</div>"
      ],
      "text/plain": [
       "    Topic  Count                                               Name  \\\n",
       "0      -1  18072                             -1_zug_züge_klasse_app   \n",
       "1       0   4224              0_zug_verspätung_minuten_verspätungen   \n",
       "2       1   2922              1_klasse_wagen_sitzplätze_stosszeiten   \n",
       "3       2   2400                            2_teuer_preise_ga_preis   \n",
       "4       3   1785                        3_wc_toiletten_wcs_toilette   \n",
       "5       4   1663                          4_app_ticket_lösen_mobile   \n",
       "6       5   1655                 5_postauto_anschluss_minuten_busse   \n",
       "7       6   1642                    6_hund_kinderwagen_perron_hunde   \n",
       "8       7   1579                7_maskenpflicht_maske_masken_tragen   \n",
       "9       8   1435                     8_zufrieden_super_personal_job   \n",
       "10      9   1408                  9_gepäck_koffer_fahrrad_fahrräder   \n",
       "11     10   1274             10_kalt_klimaanlage_eingestellt_sommer   \n",
       "12     11   1049              11_speisewagen_kaffee_bistro_getränke   \n",
       "13     12    761                          12_wlan_wifi_internet_zug   \n",
       "14     13    740     13_sicherheitspersonal_abend_sicherheit_abends   \n",
       "15     14    737  14_rollmaterial_kinderwagen_bombardier_familie...   \n",
       "16     15    672             15_sauberkeit_abfalleimer_abfall_zügen   \n",
       "17     16    518                   16_umfrage_fragen_umfragen_siehe   \n",
       "18     17    505  17_durchsagen_lautsprecher_informationen_sprachen   \n",
       "\n",
       "                                CustomName  \n",
       "0                                  Outlier  \n",
       "1                            Pünktlichkeit  \n",
       "2                         Platzangebot Zug  \n",
       "3                           Preis-Leistung  \n",
       "4          WC Verfügbarkeit und Sauberkeit  \n",
       "5                    Vertrieb und Services  \n",
       "6                          Fahrplanangebot  \n",
       "7                                Sonstiges  \n",
       "8                                   Corona  \n",
       "9                                      Lob  \n",
       "10  Platzangebot Velo, Gepäck, Kinderwagen  \n",
       "11                      Raumtemperatur Zug  \n",
       "12                   Kommerzielle Angebote  \n",
       "13            Internet, Wlan und Mobilfunk  \n",
       "14                                Security  \n",
       "15       Ausstattung Qualität Rollmaterial  \n",
       "16              Sauberkeit Zug und Bahnhof  \n",
       "17                        Feedback Umfrage  \n",
       "18                       Kundeninformation  "
      ]
     },
     "execution_count": 42,
     "metadata": {},
     "output_type": "execute_result"
    }
   ],
   "source": [
    "df_export"
   ]
  },
  {
   "attachments": {},
   "cell_type": "markdown",
   "metadata": {},
   "source": [
    "## Modelvariante 2: Merged Topic Model with Outlier Reduction"
   ]
  },
  {
   "cell_type": "code",
   "execution_count": null,
   "metadata": {},
   "outputs": [],
   "source": [
    "# # Save outliers reduced model for evaluation comparison\n",
    "# topics, probs = topic_model.transform(docs)\n",
    "# new_topics = topic_model.reduce_outliers(docs, topics) # Reduce outliers\n",
    "# topic_model.update_topics(docs, topics=new_topics) # update Model\n",
    "# topic_model.save('../../models/BERTTopic_paraphrase-multilingual-MiniLM-L12-v2_merged_oulier_reduced.model') # Save Model"
   ]
  },
  {
   "cell_type": "code",
   "execution_count": null,
   "metadata": {},
   "outputs": [],
   "source": [
    "# Load the Outlier reduced Model\n",
    "topic_model_outlier_reduced = BERTopic.load(\"../../models/BERTTopic_paraphrase-multilingual-MiniLM-L12-v2_merged_oulier_reduced.model\")"
   ]
  },
  {
   "cell_type": "code",
   "execution_count": null,
   "metadata": {},
   "outputs": [],
   "source": [
    "df_2 = topic_model_outlier_reduced.get_topic_info()\n",
    "df_print_2 = df_2[df_2['CustomName']!=\"Outlier\"].sort_values(by='Count',ascending=False) # Filter out Sonstige"
   ]
  },
  {
   "cell_type": "code",
   "execution_count": null,
   "metadata": {},
   "outputs": [
    {
     "data": {
      "application/vnd.plotly.v1+json": {
       "config": {
        "plotlyServerURL": "https://plot.ly"
       },
       "data": [
        {
         "alignmentgroup": "True",
         "hovertemplate": "Count=%{x}<br>CustomName=%{y}<extra></extra>",
         "legendgroup": "",
         "marker": {
          "color": "#003f5c",
          "opacity": 1,
          "pattern": {
           "shape": ""
          }
         },
         "name": "",
         "offsetgroup": "",
         "orientation": "h",
         "showlegend": false,
         "textposition": "auto",
         "type": "bar",
         "x": [
          843,
          1003,
          1133,
          1233,
          1316,
          1370,
          1445,
          1490,
          1844,
          1950,
          2183,
          2235,
          2568,
          3024,
          3474,
          4106,
          5123,
          8341
         ],
         "xaxis": "x",
         "y": [
          "Feedback Umfrage",
          "Internet, Wlan und Mobilfunk",
          "Kundeninformation",
          "Ausstattung Qualität Rollmaterial",
          "Kommerzielle Angebote",
          "Sauberkeit Zug und Bahnhof",
          "Security",
          "Raumtemperatur Zug",
          "Corona",
          "WC Verfügbarkeit und Sauberkeit",
          "Sonstiges",
          "Platzangebot Velo, Gepäck, Kinderwagen",
          "Lob",
          "Fahrplanangebot",
          "Vertrieb und Services",
          "Preis-Leistung",
          "Platzangebot Zug",
          "Pünktlichkeit"
         ],
         "yaxis": "y"
        }
       ],
       "layout": {
        "barmode": "relative",
        "height": 450,
        "legend": {
         "title": {
          "text": ""
         },
         "tracegroupgap": 0
        },
        "margin": {
         "t": 60
        },
        "template": {
         "data": {
          "bar": [
           {
            "error_x": {
             "color": "#2a3f5f"
            },
            "error_y": {
             "color": "#2a3f5f"
            },
            "marker": {
             "line": {
              "color": "#E5ECF6",
              "width": 0.5
             },
             "pattern": {
              "fillmode": "overlay",
              "size": 10,
              "solidity": 0.2
             }
            },
            "type": "bar"
           }
          ],
          "barpolar": [
           {
            "marker": {
             "line": {
              "color": "#E5ECF6",
              "width": 0.5
             },
             "pattern": {
              "fillmode": "overlay",
              "size": 10,
              "solidity": 0.2
             }
            },
            "type": "barpolar"
           }
          ],
          "carpet": [
           {
            "aaxis": {
             "endlinecolor": "#2a3f5f",
             "gridcolor": "white",
             "linecolor": "white",
             "minorgridcolor": "white",
             "startlinecolor": "#2a3f5f"
            },
            "baxis": {
             "endlinecolor": "#2a3f5f",
             "gridcolor": "white",
             "linecolor": "white",
             "minorgridcolor": "white",
             "startlinecolor": "#2a3f5f"
            },
            "type": "carpet"
           }
          ],
          "choropleth": [
           {
            "colorbar": {
             "outlinewidth": 0,
             "ticks": ""
            },
            "type": "choropleth"
           }
          ],
          "contour": [
           {
            "colorbar": {
             "outlinewidth": 0,
             "ticks": ""
            },
            "colorscale": [
             [
              0,
              "#0d0887"
             ],
             [
              0.1111111111111111,
              "#46039f"
             ],
             [
              0.2222222222222222,
              "#7201a8"
             ],
             [
              0.3333333333333333,
              "#9c179e"
             ],
             [
              0.4444444444444444,
              "#bd3786"
             ],
             [
              0.5555555555555556,
              "#d8576b"
             ],
             [
              0.6666666666666666,
              "#ed7953"
             ],
             [
              0.7777777777777778,
              "#fb9f3a"
             ],
             [
              0.8888888888888888,
              "#fdca26"
             ],
             [
              1,
              "#f0f921"
             ]
            ],
            "type": "contour"
           }
          ],
          "contourcarpet": [
           {
            "colorbar": {
             "outlinewidth": 0,
             "ticks": ""
            },
            "type": "contourcarpet"
           }
          ],
          "heatmap": [
           {
            "colorbar": {
             "outlinewidth": 0,
             "ticks": ""
            },
            "colorscale": [
             [
              0,
              "#0d0887"
             ],
             [
              0.1111111111111111,
              "#46039f"
             ],
             [
              0.2222222222222222,
              "#7201a8"
             ],
             [
              0.3333333333333333,
              "#9c179e"
             ],
             [
              0.4444444444444444,
              "#bd3786"
             ],
             [
              0.5555555555555556,
              "#d8576b"
             ],
             [
              0.6666666666666666,
              "#ed7953"
             ],
             [
              0.7777777777777778,
              "#fb9f3a"
             ],
             [
              0.8888888888888888,
              "#fdca26"
             ],
             [
              1,
              "#f0f921"
             ]
            ],
            "type": "heatmap"
           }
          ],
          "heatmapgl": [
           {
            "colorbar": {
             "outlinewidth": 0,
             "ticks": ""
            },
            "colorscale": [
             [
              0,
              "#0d0887"
             ],
             [
              0.1111111111111111,
              "#46039f"
             ],
             [
              0.2222222222222222,
              "#7201a8"
             ],
             [
              0.3333333333333333,
              "#9c179e"
             ],
             [
              0.4444444444444444,
              "#bd3786"
             ],
             [
              0.5555555555555556,
              "#d8576b"
             ],
             [
              0.6666666666666666,
              "#ed7953"
             ],
             [
              0.7777777777777778,
              "#fb9f3a"
             ],
             [
              0.8888888888888888,
              "#fdca26"
             ],
             [
              1,
              "#f0f921"
             ]
            ],
            "type": "heatmapgl"
           }
          ],
          "histogram": [
           {
            "marker": {
             "pattern": {
              "fillmode": "overlay",
              "size": 10,
              "solidity": 0.2
             }
            },
            "type": "histogram"
           }
          ],
          "histogram2d": [
           {
            "colorbar": {
             "outlinewidth": 0,
             "ticks": ""
            },
            "colorscale": [
             [
              0,
              "#0d0887"
             ],
             [
              0.1111111111111111,
              "#46039f"
             ],
             [
              0.2222222222222222,
              "#7201a8"
             ],
             [
              0.3333333333333333,
              "#9c179e"
             ],
             [
              0.4444444444444444,
              "#bd3786"
             ],
             [
              0.5555555555555556,
              "#d8576b"
             ],
             [
              0.6666666666666666,
              "#ed7953"
             ],
             [
              0.7777777777777778,
              "#fb9f3a"
             ],
             [
              0.8888888888888888,
              "#fdca26"
             ],
             [
              1,
              "#f0f921"
             ]
            ],
            "type": "histogram2d"
           }
          ],
          "histogram2dcontour": [
           {
            "colorbar": {
             "outlinewidth": 0,
             "ticks": ""
            },
            "colorscale": [
             [
              0,
              "#0d0887"
             ],
             [
              0.1111111111111111,
              "#46039f"
             ],
             [
              0.2222222222222222,
              "#7201a8"
             ],
             [
              0.3333333333333333,
              "#9c179e"
             ],
             [
              0.4444444444444444,
              "#bd3786"
             ],
             [
              0.5555555555555556,
              "#d8576b"
             ],
             [
              0.6666666666666666,
              "#ed7953"
             ],
             [
              0.7777777777777778,
              "#fb9f3a"
             ],
             [
              0.8888888888888888,
              "#fdca26"
             ],
             [
              1,
              "#f0f921"
             ]
            ],
            "type": "histogram2dcontour"
           }
          ],
          "mesh3d": [
           {
            "colorbar": {
             "outlinewidth": 0,
             "ticks": ""
            },
            "type": "mesh3d"
           }
          ],
          "parcoords": [
           {
            "line": {
             "colorbar": {
              "outlinewidth": 0,
              "ticks": ""
             }
            },
            "type": "parcoords"
           }
          ],
          "pie": [
           {
            "automargin": true,
            "type": "pie"
           }
          ],
          "scatter": [
           {
            "fillpattern": {
             "fillmode": "overlay",
             "size": 10,
             "solidity": 0.2
            },
            "type": "scatter"
           }
          ],
          "scatter3d": [
           {
            "line": {
             "colorbar": {
              "outlinewidth": 0,
              "ticks": ""
             }
            },
            "marker": {
             "colorbar": {
              "outlinewidth": 0,
              "ticks": ""
             }
            },
            "type": "scatter3d"
           }
          ],
          "scattercarpet": [
           {
            "marker": {
             "colorbar": {
              "outlinewidth": 0,
              "ticks": ""
             }
            },
            "type": "scattercarpet"
           }
          ],
          "scattergeo": [
           {
            "marker": {
             "colorbar": {
              "outlinewidth": 0,
              "ticks": ""
             }
            },
            "type": "scattergeo"
           }
          ],
          "scattergl": [
           {
            "marker": {
             "colorbar": {
              "outlinewidth": 0,
              "ticks": ""
             }
            },
            "type": "scattergl"
           }
          ],
          "scattermapbox": [
           {
            "marker": {
             "colorbar": {
              "outlinewidth": 0,
              "ticks": ""
             }
            },
            "type": "scattermapbox"
           }
          ],
          "scatterpolar": [
           {
            "marker": {
             "colorbar": {
              "outlinewidth": 0,
              "ticks": ""
             }
            },
            "type": "scatterpolar"
           }
          ],
          "scatterpolargl": [
           {
            "marker": {
             "colorbar": {
              "outlinewidth": 0,
              "ticks": ""
             }
            },
            "type": "scatterpolargl"
           }
          ],
          "scatterternary": [
           {
            "marker": {
             "colorbar": {
              "outlinewidth": 0,
              "ticks": ""
             }
            },
            "type": "scatterternary"
           }
          ],
          "surface": [
           {
            "colorbar": {
             "outlinewidth": 0,
             "ticks": ""
            },
            "colorscale": [
             [
              0,
              "#0d0887"
             ],
             [
              0.1111111111111111,
              "#46039f"
             ],
             [
              0.2222222222222222,
              "#7201a8"
             ],
             [
              0.3333333333333333,
              "#9c179e"
             ],
             [
              0.4444444444444444,
              "#bd3786"
             ],
             [
              0.5555555555555556,
              "#d8576b"
             ],
             [
              0.6666666666666666,
              "#ed7953"
             ],
             [
              0.7777777777777778,
              "#fb9f3a"
             ],
             [
              0.8888888888888888,
              "#fdca26"
             ],
             [
              1,
              "#f0f921"
             ]
            ],
            "type": "surface"
           }
          ],
          "table": [
           {
            "cells": {
             "fill": {
              "color": "#EBF0F8"
             },
             "line": {
              "color": "white"
             }
            },
            "header": {
             "fill": {
              "color": "#C8D4E3"
             },
             "line": {
              "color": "white"
             }
            },
            "type": "table"
           }
          ]
         },
         "layout": {
          "annotationdefaults": {
           "arrowcolor": "#2a3f5f",
           "arrowhead": 0,
           "arrowwidth": 1
          },
          "autotypenumbers": "strict",
          "coloraxis": {
           "colorbar": {
            "outlinewidth": 0,
            "ticks": ""
           }
          },
          "colorscale": {
           "diverging": [
            [
             0,
             "#8e0152"
            ],
            [
             0.1,
             "#c51b7d"
            ],
            [
             0.2,
             "#de77ae"
            ],
            [
             0.3,
             "#f1b6da"
            ],
            [
             0.4,
             "#fde0ef"
            ],
            [
             0.5,
             "#f7f7f7"
            ],
            [
             0.6,
             "#e6f5d0"
            ],
            [
             0.7,
             "#b8e186"
            ],
            [
             0.8,
             "#7fbc41"
            ],
            [
             0.9,
             "#4d9221"
            ],
            [
             1,
             "#276419"
            ]
           ],
           "sequential": [
            [
             0,
             "#0d0887"
            ],
            [
             0.1111111111111111,
             "#46039f"
            ],
            [
             0.2222222222222222,
             "#7201a8"
            ],
            [
             0.3333333333333333,
             "#9c179e"
            ],
            [
             0.4444444444444444,
             "#bd3786"
            ],
            [
             0.5555555555555556,
             "#d8576b"
            ],
            [
             0.6666666666666666,
             "#ed7953"
            ],
            [
             0.7777777777777778,
             "#fb9f3a"
            ],
            [
             0.8888888888888888,
             "#fdca26"
            ],
            [
             1,
             "#f0f921"
            ]
           ],
           "sequentialminus": [
            [
             0,
             "#0d0887"
            ],
            [
             0.1111111111111111,
             "#46039f"
            ],
            [
             0.2222222222222222,
             "#7201a8"
            ],
            [
             0.3333333333333333,
             "#9c179e"
            ],
            [
             0.4444444444444444,
             "#bd3786"
            ],
            [
             0.5555555555555556,
             "#d8576b"
            ],
            [
             0.6666666666666666,
             "#ed7953"
            ],
            [
             0.7777777777777778,
             "#fb9f3a"
            ],
            [
             0.8888888888888888,
             "#fdca26"
            ],
            [
             1,
             "#f0f921"
            ]
           ]
          },
          "colorway": [
           "#636efa",
           "#EF553B",
           "#00cc96",
           "#ab63fa",
           "#FFA15A",
           "#19d3f3",
           "#FF6692",
           "#B6E880",
           "#FF97FF",
           "#FECB52"
          ],
          "font": {
           "color": "#2a3f5f"
          },
          "geo": {
           "bgcolor": "white",
           "lakecolor": "white",
           "landcolor": "#E5ECF6",
           "showlakes": true,
           "showland": true,
           "subunitcolor": "white"
          },
          "hoverlabel": {
           "align": "left"
          },
          "hovermode": "closest",
          "mapbox": {
           "style": "light"
          },
          "paper_bgcolor": "white",
          "plot_bgcolor": "#E5ECF6",
          "polar": {
           "angularaxis": {
            "gridcolor": "white",
            "linecolor": "white",
            "ticks": ""
           },
           "bgcolor": "#E5ECF6",
           "radialaxis": {
            "gridcolor": "white",
            "linecolor": "white",
            "ticks": ""
           }
          },
          "scene": {
           "xaxis": {
            "backgroundcolor": "#E5ECF6",
            "gridcolor": "white",
            "gridwidth": 2,
            "linecolor": "white",
            "showbackground": true,
            "ticks": "",
            "zerolinecolor": "white"
           },
           "yaxis": {
            "backgroundcolor": "#E5ECF6",
            "gridcolor": "white",
            "gridwidth": 2,
            "linecolor": "white",
            "showbackground": true,
            "ticks": "",
            "zerolinecolor": "white"
           },
           "zaxis": {
            "backgroundcolor": "#E5ECF6",
            "gridcolor": "white",
            "gridwidth": 2,
            "linecolor": "white",
            "showbackground": true,
            "ticks": "",
            "zerolinecolor": "white"
           }
          },
          "shapedefaults": {
           "line": {
            "color": "#2a3f5f"
           }
          },
          "ternary": {
           "aaxis": {
            "gridcolor": "white",
            "linecolor": "white",
            "ticks": ""
           },
           "baxis": {
            "gridcolor": "white",
            "linecolor": "white",
            "ticks": ""
           },
           "bgcolor": "#E5ECF6",
           "caxis": {
            "gridcolor": "white",
            "linecolor": "white",
            "ticks": ""
           }
          },
          "title": {
           "x": 0.05
          },
          "xaxis": {
           "automargin": true,
           "gridcolor": "white",
           "linecolor": "white",
           "ticks": "",
           "title": {
            "standoff": 15
           },
           "zerolinecolor": "white",
           "zerolinewidth": 2
          },
          "yaxis": {
           "automargin": true,
           "gridcolor": "white",
           "linecolor": "white",
           "ticks": "",
           "title": {
            "standoff": 15
           },
           "zerolinecolor": "white",
           "zerolinewidth": 2
          }
         }
        },
        "title": {
         "text": "Die 18 finalen Themencluster und Anzahl Kommentare pro Cluster"
        },
        "width": 900,
        "xaxis": {
         "anchor": "y",
         "domain": [
          0,
          1
         ],
         "tickangle": 90,
         "title": {
          "text": ""
         }
        },
        "yaxis": {
         "anchor": "x",
         "domain": [
          0,
          1
         ],
         "title": {
          "text": ""
         }
        }
       }
      }
     },
     "metadata": {},
     "output_type": "display_data"
    }
   ],
   "source": [
    "import plotly.express as px\n",
    "import plotly.io as pio\n",
    "\n",
    "fig = px.bar(df_print_2.sort_values('Count', ascending=True),\n",
    "    y='CustomName', \n",
    "    x='Count',\n",
    "    opacity = 1,\n",
    "    color_discrete_sequence =color_discrete_sequence\n",
    "                 )\n",
    "\n",
    "fig.update_layout(\n",
    "    title=\"Die 18 finalen Themencluster und Anzahl Kommentare pro Cluster\",\n",
    "    xaxis_title='',\n",
    "    yaxis_title='',\n",
    "    xaxis=dict(tickangle=90),\n",
    "    width=900, \n",
    "    height=450,\n",
    "    legend_title=\"\")\n",
    "\n",
    "fig.show()\n",
    "\n",
    "pio.write_image(fig,\"../../exports/images/fig-18-Themencluster-expertenreview_outlier_reduced.svg\") #save fig as svg"
   ]
  },
  {
   "cell_type": "code",
   "execution_count": null,
   "metadata": {},
   "outputs": [],
   "source": []
  },
  {
   "cell_type": "code",
   "execution_count": null,
   "metadata": {},
   "outputs": [],
   "source": []
  },
  {
   "cell_type": "code",
   "execution_count": null,
   "metadata": {},
   "outputs": [],
   "source": []
  },
  {
   "cell_type": "code",
   "execution_count": null,
   "metadata": {},
   "outputs": [],
   "source": []
  }
 ],
 "metadata": {
  "kernelspec": {
   "display_name": "nlp",
   "language": "python",
   "name": "python3"
  },
  "language_info": {
   "codemirror_mode": {
    "name": "ipython",
    "version": 3
   },
   "file_extension": ".py",
   "mimetype": "text/x-python",
   "name": "python",
   "nbconvert_exporter": "python",
   "pygments_lexer": "ipython3",
   "version": "3.8.16"
  },
  "orig_nbformat": 4,
  "vscode": {
   "interpreter": {
    "hash": "2c54f9282dd36543c8181ef7676bc28d81677c039b129753722332dc3d171a18"
   }
  }
 },
 "nbformat": 4,
 "nbformat_minor": 2
}
