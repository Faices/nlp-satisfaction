{
 "cells": [
  {
   "cell_type": "code",
   "execution_count": 2,
   "metadata": {},
   "outputs": [],
   "source": [
    "import sys\n",
    "import os\n",
    "sys.path.append(os.path.abspath('../')) ## needed to import the function.py file\n",
    "\n",
    "import pandas as pd\n",
    "from sklearn.model_selection import train_test_split\n",
    "from functions import *\n",
    "\n",
    "\n",
    "################ Import Dataframe ###################\n",
    "filelocation = '../../data/DataText'\n",
    "df_text = pd.read_feather(filelocation)\n",
    "\n",
    "################## Create Split #################\n",
    "train_df,test_df,val_df = split_dataframe(df_text, 'yearmonth', 0.7, 0.295, 0.005)\n",
    "\n",
    "\n",
    "############## Export ############## \n",
    "train_df = train_df.reset_index(drop=True)\n",
    "test_df = test_df.reset_index(drop=True)\n",
    "val_df = val_df.reset_index(drop=True)\n",
    "\n",
    "train_df.to_feather('../../data/DataTextTrain') # store data in feather file\n",
    "test_df.to_feather('../../data/DataTextTest') # store data in feather file\n",
    "val_df.to_feather('../../data/DataTextValidation') # store data in feather file"
   ]
  }
 ],
 "metadata": {
  "kernelspec": {
   "display_name": "nlp",
   "language": "python",
   "name": "python3"
  },
  "language_info": {
   "codemirror_mode": {
    "name": "ipython",
    "version": 3
   },
   "file_extension": ".py",
   "mimetype": "text/x-python",
   "name": "python",
   "nbconvert_exporter": "python",
   "pygments_lexer": "ipython3",
   "version": "3.8.16"
  },
  "orig_nbformat": 4,
  "vscode": {
   "interpreter": {
    "hash": "2c54f9282dd36543c8181ef7676bc28d81677c039b129753722332dc3d171a18"
   }
  }
 },
 "nbformat": 4,
 "nbformat_minor": 2
}
