{
 "cells": [
  {
   "attachments": {},
   "cell_type": "markdown",
   "metadata": {},
   "source": [
    "# Topics Over Time"
   ]
  },
  {
   "cell_type": "code",
   "execution_count": 2,
   "metadata": {},
   "outputs": [
    {
     "name": "stderr",
     "output_type": "stream",
     "text": [
      "2023-05-25 15:54:19.472972: I tensorflow/core/platform/cpu_feature_guard.cc:193] This TensorFlow binary is optimized with oneAPI Deep Neural Network Library (oneDNN) to use the following CPU instructions in performance-critical operations:  AVX2 FMA\n",
      "To enable them in other operations, rebuild TensorFlow with the appropriate compiler flags.\n"
     ]
    }
   ],
   "source": [
    "import sys\n",
    "import os\n",
    "sys.path.append(os.path.abspath('../')) ## needed to import the function.py file\n",
    "from functions import *\n",
    "import pandas as pd\n",
    "import plotly.express as px\n",
    "import plotly.io as pio"
   ]
  },
  {
   "cell_type": "code",
   "execution_count": 5,
   "metadata": {},
   "outputs": [],
   "source": [
    "## plot settings\n",
    "color_discrete_sequence = color_discrete_kuzu #imported from globalvars.py\n",
    "template = template ##imported from globalvars.py"
   ]
  },
  {
   "cell_type": "code",
   "execution_count": 33,
   "metadata": {},
   "outputs": [],
   "source": [
    "## Import docs\n",
    "filelocation = '../../data/DataTextTrain'\n",
    "data = pd.read_feather(filelocation)\n",
    "data = data\n",
    "docs = data[\"Kommentar\"].values\n",
    "timestamps = data.yearquarter.to_list()\n",
    "gender = [data[\"S_sex\"][i] for i in range(len(data[\"S_sex\"]))]\n",
    "\n",
    "# Load the Original Topic Model\n",
    "topic_model = BERTopic.load(\"../../models/BERTTopic_paraphrase-multilingual-MiniLM-L12-v2_merged_oulier_reduced.model\")\n",
    "df_topic = topic_model.get_document_info(docs)\n",
    "\n",
    "\n",
    "# Create full dataframe with all infomration\n",
    "df = data.join(df_topic)\n",
    "\n",
    "# Add grouped Age col\n",
    "df['S_alter'] = pd.to_numeric(df['S_alter'], errors='coerce')\n",
    "bins = [0, 24, 44, 64, 100]\n",
    "labels = [\"1-24 Jahre\", \"25-44 Jahre\", \"45-64 Jahre\", \"65-100 Jahre\"]\n",
    "df['S_alter_grouped'] = pd.cut(df['S_alter'], bins=bins, labels=labels)\n",
    "\n",
    "# Create Dataframe for viz\n",
    "df_topics_by_quarter = get_topic_ratios(df, timeframe_col='yearquarter', name_col='CustomName', topic_col='Topic')"
   ]
  },
  {
   "cell_type": "code",
   "execution_count": 34,
   "metadata": {},
   "outputs": [
    {
     "data": {
      "application/vnd.plotly.v1+json": {
       "config": {
        "plotlyServerURL": "https://plot.ly"
       },
       "data": [
        {
         "customdata": [
          [
           "Ausstattung Qualität Rollmaterial",
           92
          ],
          [
           "Ausstattung Qualität Rollmaterial",
           93
          ],
          [
           "Ausstattung Qualität Rollmaterial",
           103
          ],
          [
           "Ausstattung Qualität Rollmaterial",
           85
          ],
          [
           "Ausstattung Qualität Rollmaterial",
           60
          ],
          [
           "Ausstattung Qualität Rollmaterial",
           15
          ],
          [
           "Ausstattung Qualität Rollmaterial",
           72
          ],
          [
           "Ausstattung Qualität Rollmaterial",
           68
          ],
          [
           "Ausstattung Qualität Rollmaterial",
           43
          ],
          [
           "Ausstattung Qualität Rollmaterial",
           62
          ],
          [
           "Ausstattung Qualität Rollmaterial",
           73
          ],
          [
           "Ausstattung Qualität Rollmaterial",
           59
          ],
          [
           "Ausstattung Qualität Rollmaterial",
           47
          ],
          [
           "Ausstattung Qualität Rollmaterial",
           63
          ],
          [
           "Ausstattung Qualität Rollmaterial",
           170
          ],
          [
           "Ausstattung Qualität Rollmaterial",
           128
          ]
         ],
         "hovertemplate": "CustomName=%{customdata[0]}<br>yearquarter=%{x}<br>Topic_Ratio=%{y}<br>count_x=%{customdata[1]}<extra></extra>",
         "legendgroup": "Ausstattung Qualität Rollmaterial",
         "line": {
          "color": "#49787F",
          "dash": "solid",
          "width": 2
         },
         "marker": {
          "symbol": "circle"
         },
         "mode": "lines",
         "name": "Ausstattung Qualität Rollmaterial",
         "orientation": "v",
         "showlegend": true,
         "text": [
          "Ausstattung Qualität Rollmaterial",
          "Corona",
          "Fahrplanangebot",
          "Feedback Umfrage",
          "Internet, Wlan und Mobilfunk",
          "Kommerzielle Angebote",
          "Kundeninformation",
          "Lob",
          "Outlier",
          "Platzangebot Velo, Gepäck, Kinderwagen",
          "Platzangebot Zug",
          "Preis-Leistung",
          "Pünktlichkeit",
          "Raumtemperatur Zug",
          "Sauberkeit Zug und Bahnhof",
          "Security",
          "Sonstiges",
          "Vertrieb und Services",
          "WC Verfügbarkeit und Sauberkeit",
          "Ausstattung Qualität Rollmaterial",
          "Corona",
          "Fahrplanangebot",
          "Feedback Umfrage",
          "Internet, Wlan und Mobilfunk",
          "Kommerzielle Angebote",
          "Kundeninformation",
          "Lob",
          "Outlier",
          "Platzangebot Velo, Gepäck, Kinderwagen",
          "Platzangebot Zug",
          "Preis-Leistung",
          "Pünktlichkeit",
          "Raumtemperatur Zug",
          "Sauberkeit Zug und Bahnhof",
          "Security",
          "Sonstiges",
          "Vertrieb und Services",
          "WC Verfügbarkeit und Sauberkeit",
          "Ausstattung Qualität Rollmaterial",
          "Corona",
          "Fahrplanangebot",
          "Feedback Umfrage",
          "Internet, Wlan und Mobilfunk",
          "Kommerzielle Angebote",
          "Kundeninformation",
          "Lob",
          "Outlier",
          "Platzangebot Velo, Gepäck, Kinderwagen",
          "Platzangebot Zug",
          "Preis-Leistung",
          "Pünktlichkeit",
          "Raumtemperatur Zug",
          "Sauberkeit Zug und Bahnhof",
          "Security",
          "Sonstiges",
          "Vertrieb und Services",
          "WC Verfügbarkeit und Sauberkeit",
          "Ausstattung Qualität Rollmaterial",
          "Corona",
          "Fahrplanangebot",
          "Feedback Umfrage",
          "Internet, Wlan und Mobilfunk",
          "Kommerzielle Angebote",
          "Kundeninformation",
          "Lob",
          "Outlier",
          "Platzangebot Velo, Gepäck, Kinderwagen",
          "Platzangebot Zug",
          "Preis-Leistung",
          "Pünktlichkeit",
          "Raumtemperatur Zug",
          "Sauberkeit Zug und Bahnhof",
          "Security",
          "Sonstiges",
          "Vertrieb und Services",
          "WC Verfügbarkeit und Sauberkeit",
          "Ausstattung Qualität Rollmaterial",
          "Corona",
          "Fahrplanangebot",
          "Feedback Umfrage",
          "Internet, Wlan und Mobilfunk",
          "Kommerzielle Angebote",
          "Kundeninformation",
          "Lob",
          "Outlier",
          "Platzangebot Velo, Gepäck, Kinderwagen",
          "Platzangebot Zug",
          "Preis-Leistung",
          "Pünktlichkeit",
          "Raumtemperatur Zug",
          "Sauberkeit Zug und Bahnhof",
          "Security",
          "Sonstiges",
          "Vertrieb und Services",
          "WC Verfügbarkeit und Sauberkeit",
          "Ausstattung Qualität Rollmaterial",
          "Corona",
          "Fahrplanangebot",
          "Feedback Umfrage",
          "Internet, Wlan und Mobilfunk",
          "Kommerzielle Angebote",
          "Kundeninformation",
          "Lob",
          "Outlier",
          "Platzangebot Velo, Gepäck, Kinderwagen",
          "Platzangebot Zug",
          "Preis-Leistung",
          "Pünktlichkeit",
          "Raumtemperatur Zug",
          "Sauberkeit Zug und Bahnhof",
          "Security",
          "Sonstiges",
          "Vertrieb und Services",
          "WC Verfügbarkeit und Sauberkeit",
          "Ausstattung Qualität Rollmaterial",
          "Corona",
          "Fahrplanangebot",
          "Feedback Umfrage",
          "Internet, Wlan und Mobilfunk",
          "Kommerzielle Angebote",
          "Kundeninformation",
          "Lob",
          "Outlier",
          "Platzangebot Velo, Gepäck, Kinderwagen",
          "Platzangebot Zug",
          "Preis-Leistung",
          "Pünktlichkeit",
          "Raumtemperatur Zug",
          "Sauberkeit Zug und Bahnhof",
          "Security",
          "Sonstiges",
          "Vertrieb und Services",
          "WC Verfügbarkeit und Sauberkeit",
          "Ausstattung Qualität Rollmaterial",
          "Corona",
          "Fahrplanangebot",
          "Feedback Umfrage",
          "Internet, Wlan und Mobilfunk",
          "Kommerzielle Angebote",
          "Kundeninformation",
          "Lob",
          "Outlier",
          "Platzangebot Velo, Gepäck, Kinderwagen",
          "Platzangebot Zug",
          "Preis-Leistung",
          "Pünktlichkeit",
          "Raumtemperatur Zug",
          "Sauberkeit Zug und Bahnhof",
          "Security",
          "Sonstiges",
          "Vertrieb und Services",
          "WC Verfügbarkeit und Sauberkeit",
          "Ausstattung Qualität Rollmaterial",
          "Corona",
          "Fahrplanangebot",
          "Feedback Umfrage",
          "Internet, Wlan und Mobilfunk",
          "Kommerzielle Angebote",
          "Kundeninformation",
          "Lob",
          "Outlier",
          "Platzangebot Velo, Gepäck, Kinderwagen",
          "Platzangebot Zug",
          "Preis-Leistung",
          "Pünktlichkeit",
          "Raumtemperatur Zug",
          "Sauberkeit Zug und Bahnhof",
          "Security",
          "Sonstiges",
          "Vertrieb und Services",
          "WC Verfügbarkeit und Sauberkeit",
          "Ausstattung Qualität Rollmaterial",
          "Corona",
          "Fahrplanangebot",
          "Feedback Umfrage",
          "Internet, Wlan und Mobilfunk",
          "Kommerzielle Angebote",
          "Kundeninformation",
          "Lob",
          "Outlier",
          "Platzangebot Velo, Gepäck, Kinderwagen",
          "Platzangebot Zug",
          "Preis-Leistung",
          "Pünktlichkeit",
          "Raumtemperatur Zug",
          "Sauberkeit Zug und Bahnhof",
          "Security",
          "Sonstiges",
          "Vertrieb und Services",
          "WC Verfügbarkeit und Sauberkeit",
          "Ausstattung Qualität Rollmaterial",
          "Corona",
          "Fahrplanangebot",
          "Feedback Umfrage",
          "Internet, Wlan und Mobilfunk",
          "Kommerzielle Angebote",
          "Kundeninformation",
          "Lob",
          "Outlier",
          "Platzangebot Velo, Gepäck, Kinderwagen",
          "Platzangebot Zug",
          "Preis-Leistung",
          "Pünktlichkeit",
          "Raumtemperatur Zug",
          "Sauberkeit Zug und Bahnhof",
          "Security",
          "Sonstiges",
          "Vertrieb und Services",
          "WC Verfügbarkeit und Sauberkeit",
          "Ausstattung Qualität Rollmaterial",
          "Corona",
          "Fahrplanangebot",
          "Feedback Umfrage",
          "Internet, Wlan und Mobilfunk",
          "Kommerzielle Angebote",
          "Kundeninformation",
          "Lob",
          "Outlier",
          "Platzangebot Velo, Gepäck, Kinderwagen",
          "Platzangebot Zug",
          "Preis-Leistung",
          "Pünktlichkeit",
          "Raumtemperatur Zug",
          "Sauberkeit Zug und Bahnhof",
          "Security",
          "Sonstiges",
          "Vertrieb und Services",
          "WC Verfügbarkeit und Sauberkeit",
          "Ausstattung Qualität Rollmaterial",
          "Corona",
          "Fahrplanangebot",
          "Feedback Umfrage",
          "Internet, Wlan und Mobilfunk",
          "Kommerzielle Angebote",
          "Kundeninformation",
          "Lob",
          "Outlier",
          "Platzangebot Velo, Gepäck, Kinderwagen",
          "Platzangebot Zug",
          "Preis-Leistung",
          "Pünktlichkeit",
          "Raumtemperatur Zug",
          "Sauberkeit Zug und Bahnhof",
          "Security",
          "Sonstiges",
          "Vertrieb und Services",
          "WC Verfügbarkeit und Sauberkeit",
          "Ausstattung Qualität Rollmaterial",
          "Corona",
          "Fahrplanangebot",
          "Feedback Umfrage",
          "Internet, Wlan und Mobilfunk",
          "Kommerzielle Angebote",
          "Kundeninformation",
          "Lob",
          "Outlier",
          "Platzangebot Velo, Gepäck, Kinderwagen",
          "Platzangebot Zug",
          "Preis-Leistung",
          "Pünktlichkeit",
          "Raumtemperatur Zug",
          "Sauberkeit Zug und Bahnhof",
          "Security",
          "Sonstiges",
          "Vertrieb und Services",
          "WC Verfügbarkeit und Sauberkeit",
          "Ausstattung Qualität Rollmaterial",
          "Corona",
          "Fahrplanangebot",
          "Feedback Umfrage",
          "Internet, Wlan und Mobilfunk",
          "Kommerzielle Angebote",
          "Kundeninformation",
          "Lob",
          "Outlier",
          "Platzangebot Velo, Gepäck, Kinderwagen",
          "Platzangebot Zug",
          "Preis-Leistung",
          "Pünktlichkeit",
          "Raumtemperatur Zug",
          "Sauberkeit Zug und Bahnhof",
          "Security",
          "Sonstiges",
          "Vertrieb und Services",
          "WC Verfügbarkeit und Sauberkeit",
          "Ausstattung Qualität Rollmaterial",
          "Corona",
          "Fahrplanangebot",
          "Feedback Umfrage",
          "Internet, Wlan und Mobilfunk",
          "Kommerzielle Angebote",
          "Kundeninformation",
          "Lob",
          "Outlier",
          "Platzangebot Velo, Gepäck, Kinderwagen",
          "Platzangebot Zug",
          "Preis-Leistung",
          "Pünktlichkeit",
          "Raumtemperatur Zug",
          "Sauberkeit Zug und Bahnhof",
          "Security",
          "Sonstiges",
          "Vertrieb und Services",
          "WC Verfügbarkeit und Sauberkeit"
         ],
         "type": "scatter",
         "x": [
          "2019Q1",
          "2019Q2",
          "2019Q3",
          "2019Q4",
          "2020Q1",
          "2020Q2",
          "2020Q3",
          "2020Q4",
          "2021Q1",
          "2021Q2",
          "2021Q3",
          "2021Q4",
          "2022Q1",
          "2022Q2",
          "2022Q3",
          "2022Q4"
         ],
         "xaxis": "x",
         "y": [
          0.02490525175961018,
          0.02437106918238994,
          0.028484513274336282,
          0.025867315885575167,
          0.02214022140221402,
          0.016198704103671708,
          0.02382528127068167,
          0.026163909195844555,
          0.0191793041926851,
          0.03076923076923077,
          0.03446647780925401,
          0.028433734939759037,
          0.028693528693528692,
          0.029153169828782972,
          0.034294936453500104,
          0.030724915986557848
         ],
         "yaxis": "y"
        },
        {
         "customdata": [
          [
           "Corona",
           18
          ],
          [
           "Corona",
           19
          ],
          [
           "Corona",
           15
          ],
          [
           "Corona",
           10
          ],
          [
           "Corona",
           14
          ],
          [
           "Corona",
           136
          ],
          [
           "Corona",
           415
          ],
          [
           "Corona",
           257
          ],
          [
           "Corona",
           216
          ],
          [
           "Corona",
           129
          ],
          [
           "Corona",
           142
          ],
          [
           "Corona",
           219
          ],
          [
           "Corona",
           136
          ],
          [
           "Corona",
           35
          ],
          [
           "Corona",
           40
          ],
          [
           "Corona",
           43
          ]
         ],
         "hovertemplate": "CustomName=%{customdata[0]}<br>yearquarter=%{x}<br>Topic_Ratio=%{y}<br>count_x=%{customdata[1]}<extra></extra>",
         "legendgroup": "Corona",
         "line": {
          "color": "#A96262",
          "dash": "solid",
          "width": 2
         },
         "marker": {
          "symbol": "circle"
         },
         "mode": "lines",
         "name": "Corona",
         "orientation": "v",
         "showlegend": true,
         "text": [
          "Ausstattung Qualität Rollmaterial",
          "Corona",
          "Fahrplanangebot",
          "Feedback Umfrage",
          "Internet, Wlan und Mobilfunk",
          "Kommerzielle Angebote",
          "Kundeninformation",
          "Lob",
          "Outlier",
          "Platzangebot Velo, Gepäck, Kinderwagen",
          "Platzangebot Zug",
          "Preis-Leistung",
          "Pünktlichkeit",
          "Raumtemperatur Zug",
          "Sauberkeit Zug und Bahnhof",
          "Security",
          "Sonstiges",
          "Vertrieb und Services",
          "WC Verfügbarkeit und Sauberkeit",
          "Ausstattung Qualität Rollmaterial",
          "Corona",
          "Fahrplanangebot",
          "Feedback Umfrage",
          "Internet, Wlan und Mobilfunk",
          "Kommerzielle Angebote",
          "Kundeninformation",
          "Lob",
          "Outlier",
          "Platzangebot Velo, Gepäck, Kinderwagen",
          "Platzangebot Zug",
          "Preis-Leistung",
          "Pünktlichkeit",
          "Raumtemperatur Zug",
          "Sauberkeit Zug und Bahnhof",
          "Security",
          "Sonstiges",
          "Vertrieb und Services",
          "WC Verfügbarkeit und Sauberkeit",
          "Ausstattung Qualität Rollmaterial",
          "Corona",
          "Fahrplanangebot",
          "Feedback Umfrage",
          "Internet, Wlan und Mobilfunk",
          "Kommerzielle Angebote",
          "Kundeninformation",
          "Lob",
          "Outlier",
          "Platzangebot Velo, Gepäck, Kinderwagen",
          "Platzangebot Zug",
          "Preis-Leistung",
          "Pünktlichkeit",
          "Raumtemperatur Zug",
          "Sauberkeit Zug und Bahnhof",
          "Security",
          "Sonstiges",
          "Vertrieb und Services",
          "WC Verfügbarkeit und Sauberkeit",
          "Ausstattung Qualität Rollmaterial",
          "Corona",
          "Fahrplanangebot",
          "Feedback Umfrage",
          "Internet, Wlan und Mobilfunk",
          "Kommerzielle Angebote",
          "Kundeninformation",
          "Lob",
          "Outlier",
          "Platzangebot Velo, Gepäck, Kinderwagen",
          "Platzangebot Zug",
          "Preis-Leistung",
          "Pünktlichkeit",
          "Raumtemperatur Zug",
          "Sauberkeit Zug und Bahnhof",
          "Security",
          "Sonstiges",
          "Vertrieb und Services",
          "WC Verfügbarkeit und Sauberkeit",
          "Ausstattung Qualität Rollmaterial",
          "Corona",
          "Fahrplanangebot",
          "Feedback Umfrage",
          "Internet, Wlan und Mobilfunk",
          "Kommerzielle Angebote",
          "Kundeninformation",
          "Lob",
          "Outlier",
          "Platzangebot Velo, Gepäck, Kinderwagen",
          "Platzangebot Zug",
          "Preis-Leistung",
          "Pünktlichkeit",
          "Raumtemperatur Zug",
          "Sauberkeit Zug und Bahnhof",
          "Security",
          "Sonstiges",
          "Vertrieb und Services",
          "WC Verfügbarkeit und Sauberkeit",
          "Ausstattung Qualität Rollmaterial",
          "Corona",
          "Fahrplanangebot",
          "Feedback Umfrage",
          "Internet, Wlan und Mobilfunk",
          "Kommerzielle Angebote",
          "Kundeninformation",
          "Lob",
          "Outlier",
          "Platzangebot Velo, Gepäck, Kinderwagen",
          "Platzangebot Zug",
          "Preis-Leistung",
          "Pünktlichkeit",
          "Raumtemperatur Zug",
          "Sauberkeit Zug und Bahnhof",
          "Security",
          "Sonstiges",
          "Vertrieb und Services",
          "WC Verfügbarkeit und Sauberkeit",
          "Ausstattung Qualität Rollmaterial",
          "Corona",
          "Fahrplanangebot",
          "Feedback Umfrage",
          "Internet, Wlan und Mobilfunk",
          "Kommerzielle Angebote",
          "Kundeninformation",
          "Lob",
          "Outlier",
          "Platzangebot Velo, Gepäck, Kinderwagen",
          "Platzangebot Zug",
          "Preis-Leistung",
          "Pünktlichkeit",
          "Raumtemperatur Zug",
          "Sauberkeit Zug und Bahnhof",
          "Security",
          "Sonstiges",
          "Vertrieb und Services",
          "WC Verfügbarkeit und Sauberkeit",
          "Ausstattung Qualität Rollmaterial",
          "Corona",
          "Fahrplanangebot",
          "Feedback Umfrage",
          "Internet, Wlan und Mobilfunk",
          "Kommerzielle Angebote",
          "Kundeninformation",
          "Lob",
          "Outlier",
          "Platzangebot Velo, Gepäck, Kinderwagen",
          "Platzangebot Zug",
          "Preis-Leistung",
          "Pünktlichkeit",
          "Raumtemperatur Zug",
          "Sauberkeit Zug und Bahnhof",
          "Security",
          "Sonstiges",
          "Vertrieb und Services",
          "WC Verfügbarkeit und Sauberkeit",
          "Ausstattung Qualität Rollmaterial",
          "Corona",
          "Fahrplanangebot",
          "Feedback Umfrage",
          "Internet, Wlan und Mobilfunk",
          "Kommerzielle Angebote",
          "Kundeninformation",
          "Lob",
          "Outlier",
          "Platzangebot Velo, Gepäck, Kinderwagen",
          "Platzangebot Zug",
          "Preis-Leistung",
          "Pünktlichkeit",
          "Raumtemperatur Zug",
          "Sauberkeit Zug und Bahnhof",
          "Security",
          "Sonstiges",
          "Vertrieb und Services",
          "WC Verfügbarkeit und Sauberkeit",
          "Ausstattung Qualität Rollmaterial",
          "Corona",
          "Fahrplanangebot",
          "Feedback Umfrage",
          "Internet, Wlan und Mobilfunk",
          "Kommerzielle Angebote",
          "Kundeninformation",
          "Lob",
          "Outlier",
          "Platzangebot Velo, Gepäck, Kinderwagen",
          "Platzangebot Zug",
          "Preis-Leistung",
          "Pünktlichkeit",
          "Raumtemperatur Zug",
          "Sauberkeit Zug und Bahnhof",
          "Security",
          "Sonstiges",
          "Vertrieb und Services",
          "WC Verfügbarkeit und Sauberkeit",
          "Ausstattung Qualität Rollmaterial",
          "Corona",
          "Fahrplanangebot",
          "Feedback Umfrage",
          "Internet, Wlan und Mobilfunk",
          "Kommerzielle Angebote",
          "Kundeninformation",
          "Lob",
          "Outlier",
          "Platzangebot Velo, Gepäck, Kinderwagen",
          "Platzangebot Zug",
          "Preis-Leistung",
          "Pünktlichkeit",
          "Raumtemperatur Zug",
          "Sauberkeit Zug und Bahnhof",
          "Security",
          "Sonstiges",
          "Vertrieb und Services",
          "WC Verfügbarkeit und Sauberkeit",
          "Ausstattung Qualität Rollmaterial",
          "Corona",
          "Fahrplanangebot",
          "Feedback Umfrage",
          "Internet, Wlan und Mobilfunk",
          "Kommerzielle Angebote",
          "Kundeninformation",
          "Lob",
          "Outlier",
          "Platzangebot Velo, Gepäck, Kinderwagen",
          "Platzangebot Zug",
          "Preis-Leistung",
          "Pünktlichkeit",
          "Raumtemperatur Zug",
          "Sauberkeit Zug und Bahnhof",
          "Security",
          "Sonstiges",
          "Vertrieb und Services",
          "WC Verfügbarkeit und Sauberkeit",
          "Ausstattung Qualität Rollmaterial",
          "Corona",
          "Fahrplanangebot",
          "Feedback Umfrage",
          "Internet, Wlan und Mobilfunk",
          "Kommerzielle Angebote",
          "Kundeninformation",
          "Lob",
          "Outlier",
          "Platzangebot Velo, Gepäck, Kinderwagen",
          "Platzangebot Zug",
          "Preis-Leistung",
          "Pünktlichkeit",
          "Raumtemperatur Zug",
          "Sauberkeit Zug und Bahnhof",
          "Security",
          "Sonstiges",
          "Vertrieb und Services",
          "WC Verfügbarkeit und Sauberkeit",
          "Ausstattung Qualität Rollmaterial",
          "Corona",
          "Fahrplanangebot",
          "Feedback Umfrage",
          "Internet, Wlan und Mobilfunk",
          "Kommerzielle Angebote",
          "Kundeninformation",
          "Lob",
          "Outlier",
          "Platzangebot Velo, Gepäck, Kinderwagen",
          "Platzangebot Zug",
          "Preis-Leistung",
          "Pünktlichkeit",
          "Raumtemperatur Zug",
          "Sauberkeit Zug und Bahnhof",
          "Security",
          "Sonstiges",
          "Vertrieb und Services",
          "WC Verfügbarkeit und Sauberkeit",
          "Ausstattung Qualität Rollmaterial",
          "Corona",
          "Fahrplanangebot",
          "Feedback Umfrage",
          "Internet, Wlan und Mobilfunk",
          "Kommerzielle Angebote",
          "Kundeninformation",
          "Lob",
          "Outlier",
          "Platzangebot Velo, Gepäck, Kinderwagen",
          "Platzangebot Zug",
          "Preis-Leistung",
          "Pünktlichkeit",
          "Raumtemperatur Zug",
          "Sauberkeit Zug und Bahnhof",
          "Security",
          "Sonstiges",
          "Vertrieb und Services",
          "WC Verfügbarkeit und Sauberkeit",
          "Ausstattung Qualität Rollmaterial",
          "Corona",
          "Fahrplanangebot",
          "Feedback Umfrage",
          "Internet, Wlan und Mobilfunk",
          "Kommerzielle Angebote",
          "Kundeninformation",
          "Lob",
          "Outlier",
          "Platzangebot Velo, Gepäck, Kinderwagen",
          "Platzangebot Zug",
          "Preis-Leistung",
          "Pünktlichkeit",
          "Raumtemperatur Zug",
          "Sauberkeit Zug und Bahnhof",
          "Security",
          "Sonstiges",
          "Vertrieb und Services",
          "WC Verfügbarkeit und Sauberkeit"
         ],
         "type": "scatter",
         "x": [
          "2019Q1",
          "2019Q2",
          "2019Q3",
          "2019Q4",
          "2020Q1",
          "2020Q2",
          "2020Q3",
          "2020Q4",
          "2021Q1",
          "2021Q2",
          "2021Q3",
          "2021Q4",
          "2022Q1",
          "2022Q2",
          "2022Q3",
          "2022Q4"
         ],
         "xaxis": "x",
         "y": [
          0.004872766648619383,
          0.004979035639412998,
          0.004148230088495576,
          0.0030432136335970784,
          0.0051660516605166054,
          0.1468682505399568,
          0.1373262739907346,
          0.09888418622547133,
          0.09634255129348795,
          0.06401985111662531,
          0.06704438149197356,
          0.10554216867469879,
          0.08302808302808302,
          0.016196205460434984,
          0.008069396812588258,
          0.010321651464234277
         ],
         "yaxis": "y"
        },
        {
         "customdata": [
          [
           "Fahrplanangebot",
           219
          ],
          [
           "Fahrplanangebot",
           206
          ],
          [
           "Fahrplanangebot",
           191
          ],
          [
           "Fahrplanangebot",
           173
          ],
          [
           "Fahrplanangebot",
           207
          ],
          [
           "Fahrplanangebot",
           84
          ],
          [
           "Fahrplanangebot",
           275
          ],
          [
           "Fahrplanangebot",
           201
          ],
          [
           "Fahrplanangebot",
           151
          ],
          [
           "Fahrplanangebot",
           145
          ],
          [
           "Fahrplanangebot",
           158
          ],
          [
           "Fahrplanangebot",
           173
          ],
          [
           "Fahrplanangebot",
           156
          ],
          [
           "Fahrplanangebot",
           141
          ],
          [
           "Fahrplanangebot",
           310
          ],
          [
           "Fahrplanangebot",
           234
          ]
         ],
         "hovertemplate": "CustomName=%{customdata[0]}<br>yearquarter=%{x}<br>Topic_Ratio=%{y}<br>count_x=%{customdata[1]}<extra></extra>",
         "legendgroup": "Fahrplanangebot",
         "line": {
          "color": "#F06969",
          "dash": "solid",
          "width": 2
         },
         "marker": {
          "symbol": "circle"
         },
         "mode": "lines",
         "name": "Fahrplanangebot",
         "orientation": "v",
         "showlegend": true,
         "text": [
          "Ausstattung Qualität Rollmaterial",
          "Corona",
          "Fahrplanangebot",
          "Feedback Umfrage",
          "Internet, Wlan und Mobilfunk",
          "Kommerzielle Angebote",
          "Kundeninformation",
          "Lob",
          "Outlier",
          "Platzangebot Velo, Gepäck, Kinderwagen",
          "Platzangebot Zug",
          "Preis-Leistung",
          "Pünktlichkeit",
          "Raumtemperatur Zug",
          "Sauberkeit Zug und Bahnhof",
          "Security",
          "Sonstiges",
          "Vertrieb und Services",
          "WC Verfügbarkeit und Sauberkeit",
          "Ausstattung Qualität Rollmaterial",
          "Corona",
          "Fahrplanangebot",
          "Feedback Umfrage",
          "Internet, Wlan und Mobilfunk",
          "Kommerzielle Angebote",
          "Kundeninformation",
          "Lob",
          "Outlier",
          "Platzangebot Velo, Gepäck, Kinderwagen",
          "Platzangebot Zug",
          "Preis-Leistung",
          "Pünktlichkeit",
          "Raumtemperatur Zug",
          "Sauberkeit Zug und Bahnhof",
          "Security",
          "Sonstiges",
          "Vertrieb und Services",
          "WC Verfügbarkeit und Sauberkeit",
          "Ausstattung Qualität Rollmaterial",
          "Corona",
          "Fahrplanangebot",
          "Feedback Umfrage",
          "Internet, Wlan und Mobilfunk",
          "Kommerzielle Angebote",
          "Kundeninformation",
          "Lob",
          "Outlier",
          "Platzangebot Velo, Gepäck, Kinderwagen",
          "Platzangebot Zug",
          "Preis-Leistung",
          "Pünktlichkeit",
          "Raumtemperatur Zug",
          "Sauberkeit Zug und Bahnhof",
          "Security",
          "Sonstiges",
          "Vertrieb und Services",
          "WC Verfügbarkeit und Sauberkeit",
          "Ausstattung Qualität Rollmaterial",
          "Corona",
          "Fahrplanangebot",
          "Feedback Umfrage",
          "Internet, Wlan und Mobilfunk",
          "Kommerzielle Angebote",
          "Kundeninformation",
          "Lob",
          "Outlier",
          "Platzangebot Velo, Gepäck, Kinderwagen",
          "Platzangebot Zug",
          "Preis-Leistung",
          "Pünktlichkeit",
          "Raumtemperatur Zug",
          "Sauberkeit Zug und Bahnhof",
          "Security",
          "Sonstiges",
          "Vertrieb und Services",
          "WC Verfügbarkeit und Sauberkeit",
          "Ausstattung Qualität Rollmaterial",
          "Corona",
          "Fahrplanangebot",
          "Feedback Umfrage",
          "Internet, Wlan und Mobilfunk",
          "Kommerzielle Angebote",
          "Kundeninformation",
          "Lob",
          "Outlier",
          "Platzangebot Velo, Gepäck, Kinderwagen",
          "Platzangebot Zug",
          "Preis-Leistung",
          "Pünktlichkeit",
          "Raumtemperatur Zug",
          "Sauberkeit Zug und Bahnhof",
          "Security",
          "Sonstiges",
          "Vertrieb und Services",
          "WC Verfügbarkeit und Sauberkeit",
          "Ausstattung Qualität Rollmaterial",
          "Corona",
          "Fahrplanangebot",
          "Feedback Umfrage",
          "Internet, Wlan und Mobilfunk",
          "Kommerzielle Angebote",
          "Kundeninformation",
          "Lob",
          "Outlier",
          "Platzangebot Velo, Gepäck, Kinderwagen",
          "Platzangebot Zug",
          "Preis-Leistung",
          "Pünktlichkeit",
          "Raumtemperatur Zug",
          "Sauberkeit Zug und Bahnhof",
          "Security",
          "Sonstiges",
          "Vertrieb und Services",
          "WC Verfügbarkeit und Sauberkeit",
          "Ausstattung Qualität Rollmaterial",
          "Corona",
          "Fahrplanangebot",
          "Feedback Umfrage",
          "Internet, Wlan und Mobilfunk",
          "Kommerzielle Angebote",
          "Kundeninformation",
          "Lob",
          "Outlier",
          "Platzangebot Velo, Gepäck, Kinderwagen",
          "Platzangebot Zug",
          "Preis-Leistung",
          "Pünktlichkeit",
          "Raumtemperatur Zug",
          "Sauberkeit Zug und Bahnhof",
          "Security",
          "Sonstiges",
          "Vertrieb und Services",
          "WC Verfügbarkeit und Sauberkeit",
          "Ausstattung Qualität Rollmaterial",
          "Corona",
          "Fahrplanangebot",
          "Feedback Umfrage",
          "Internet, Wlan und Mobilfunk",
          "Kommerzielle Angebote",
          "Kundeninformation",
          "Lob",
          "Outlier",
          "Platzangebot Velo, Gepäck, Kinderwagen",
          "Platzangebot Zug",
          "Preis-Leistung",
          "Pünktlichkeit",
          "Raumtemperatur Zug",
          "Sauberkeit Zug und Bahnhof",
          "Security",
          "Sonstiges",
          "Vertrieb und Services",
          "WC Verfügbarkeit und Sauberkeit",
          "Ausstattung Qualität Rollmaterial",
          "Corona",
          "Fahrplanangebot",
          "Feedback Umfrage",
          "Internet, Wlan und Mobilfunk",
          "Kommerzielle Angebote",
          "Kundeninformation",
          "Lob",
          "Outlier",
          "Platzangebot Velo, Gepäck, Kinderwagen",
          "Platzangebot Zug",
          "Preis-Leistung",
          "Pünktlichkeit",
          "Raumtemperatur Zug",
          "Sauberkeit Zug und Bahnhof",
          "Security",
          "Sonstiges",
          "Vertrieb und Services",
          "WC Verfügbarkeit und Sauberkeit",
          "Ausstattung Qualität Rollmaterial",
          "Corona",
          "Fahrplanangebot",
          "Feedback Umfrage",
          "Internet, Wlan und Mobilfunk",
          "Kommerzielle Angebote",
          "Kundeninformation",
          "Lob",
          "Outlier",
          "Platzangebot Velo, Gepäck, Kinderwagen",
          "Platzangebot Zug",
          "Preis-Leistung",
          "Pünktlichkeit",
          "Raumtemperatur Zug",
          "Sauberkeit Zug und Bahnhof",
          "Security",
          "Sonstiges",
          "Vertrieb und Services",
          "WC Verfügbarkeit und Sauberkeit",
          "Ausstattung Qualität Rollmaterial",
          "Corona",
          "Fahrplanangebot",
          "Feedback Umfrage",
          "Internet, Wlan und Mobilfunk",
          "Kommerzielle Angebote",
          "Kundeninformation",
          "Lob",
          "Outlier",
          "Platzangebot Velo, Gepäck, Kinderwagen",
          "Platzangebot Zug",
          "Preis-Leistung",
          "Pünktlichkeit",
          "Raumtemperatur Zug",
          "Sauberkeit Zug und Bahnhof",
          "Security",
          "Sonstiges",
          "Vertrieb und Services",
          "WC Verfügbarkeit und Sauberkeit",
          "Ausstattung Qualität Rollmaterial",
          "Corona",
          "Fahrplanangebot",
          "Feedback Umfrage",
          "Internet, Wlan und Mobilfunk",
          "Kommerzielle Angebote",
          "Kundeninformation",
          "Lob",
          "Outlier",
          "Platzangebot Velo, Gepäck, Kinderwagen",
          "Platzangebot Zug",
          "Preis-Leistung",
          "Pünktlichkeit",
          "Raumtemperatur Zug",
          "Sauberkeit Zug und Bahnhof",
          "Security",
          "Sonstiges",
          "Vertrieb und Services",
          "WC Verfügbarkeit und Sauberkeit",
          "Ausstattung Qualität Rollmaterial",
          "Corona",
          "Fahrplanangebot",
          "Feedback Umfrage",
          "Internet, Wlan und Mobilfunk",
          "Kommerzielle Angebote",
          "Kundeninformation",
          "Lob",
          "Outlier",
          "Platzangebot Velo, Gepäck, Kinderwagen",
          "Platzangebot Zug",
          "Preis-Leistung",
          "Pünktlichkeit",
          "Raumtemperatur Zug",
          "Sauberkeit Zug und Bahnhof",
          "Security",
          "Sonstiges",
          "Vertrieb und Services",
          "WC Verfügbarkeit und Sauberkeit",
          "Ausstattung Qualität Rollmaterial",
          "Corona",
          "Fahrplanangebot",
          "Feedback Umfrage",
          "Internet, Wlan und Mobilfunk",
          "Kommerzielle Angebote",
          "Kundeninformation",
          "Lob",
          "Outlier",
          "Platzangebot Velo, Gepäck, Kinderwagen",
          "Platzangebot Zug",
          "Preis-Leistung",
          "Pünktlichkeit",
          "Raumtemperatur Zug",
          "Sauberkeit Zug und Bahnhof",
          "Security",
          "Sonstiges",
          "Vertrieb und Services",
          "WC Verfügbarkeit und Sauberkeit",
          "Ausstattung Qualität Rollmaterial",
          "Corona",
          "Fahrplanangebot",
          "Feedback Umfrage",
          "Internet, Wlan und Mobilfunk",
          "Kommerzielle Angebote",
          "Kundeninformation",
          "Lob",
          "Outlier",
          "Platzangebot Velo, Gepäck, Kinderwagen",
          "Platzangebot Zug",
          "Preis-Leistung",
          "Pünktlichkeit",
          "Raumtemperatur Zug",
          "Sauberkeit Zug und Bahnhof",
          "Security",
          "Sonstiges",
          "Vertrieb und Services",
          "WC Verfügbarkeit und Sauberkeit",
          "Ausstattung Qualität Rollmaterial",
          "Corona",
          "Fahrplanangebot",
          "Feedback Umfrage",
          "Internet, Wlan und Mobilfunk",
          "Kommerzielle Angebote",
          "Kundeninformation",
          "Lob",
          "Outlier",
          "Platzangebot Velo, Gepäck, Kinderwagen",
          "Platzangebot Zug",
          "Preis-Leistung",
          "Pünktlichkeit",
          "Raumtemperatur Zug",
          "Sauberkeit Zug und Bahnhof",
          "Security",
          "Sonstiges",
          "Vertrieb und Services",
          "WC Verfügbarkeit und Sauberkeit"
         ],
         "type": "scatter",
         "x": [
          "2019Q1",
          "2019Q2",
          "2019Q3",
          "2019Q4",
          "2020Q1",
          "2020Q2",
          "2020Q3",
          "2020Q4",
          "2021Q1",
          "2021Q2",
          "2021Q3",
          "2021Q4",
          "2022Q1",
          "2022Q2",
          "2022Q3",
          "2022Q4"
         ],
         "xaxis": "x",
         "y": [
          0.05928532755820249,
          0.053983228511530396,
          0.05282079646017699,
          0.05264759586122946,
          0.07638376383763838,
          0.09071274298056156,
          0.09099933818663138,
          0.07733743747595229,
          0.06735057983942908,
          0.07196029776674938,
          0.07459867799811143,
          0.08337349397590361,
          0.09523809523809523,
          0.06524757056918093,
          0.06253782529755901,
          0.05616898703792607
         ],
         "yaxis": "y"
        },
        {
         "customdata": [
          [
           "Feedback Umfrage",
           58
          ],
          [
           "Feedback Umfrage",
           77
          ],
          [
           "Feedback Umfrage",
           60
          ],
          [
           "Feedback Umfrage",
           59
          ],
          [
           "Feedback Umfrage",
           56
          ],
          [
           "Feedback Umfrage",
           23
          ],
          [
           "Feedback Umfrage",
           48
          ],
          [
           "Feedback Umfrage",
           56
          ],
          [
           "Feedback Umfrage",
           50
          ],
          [
           "Feedback Umfrage",
           40
          ],
          [
           "Feedback Umfrage",
           39
          ],
          [
           "Feedback Umfrage",
           29
          ],
          [
           "Feedback Umfrage",
           33
          ],
          [
           "Feedback Umfrage",
           37
          ],
          [
           "Feedback Umfrage",
           96
          ],
          [
           "Feedback Umfrage",
           82
          ]
         ],
         "hovertemplate": "CustomName=%{customdata[0]}<br>yearquarter=%{x}<br>Topic_Ratio=%{y}<br>count_x=%{customdata[1]}<extra></extra>",
         "legendgroup": "Feedback Umfrage",
         "line": {
          "color": "#C499CA",
          "dash": "solid",
          "width": 2
         },
         "marker": {
          "symbol": "circle"
         },
         "mode": "lines",
         "name": "Feedback Umfrage",
         "orientation": "v",
         "showlegend": true,
         "text": [
          "Ausstattung Qualität Rollmaterial",
          "Corona",
          "Fahrplanangebot",
          "Feedback Umfrage",
          "Internet, Wlan und Mobilfunk",
          "Kommerzielle Angebote",
          "Kundeninformation",
          "Lob",
          "Outlier",
          "Platzangebot Velo, Gepäck, Kinderwagen",
          "Platzangebot Zug",
          "Preis-Leistung",
          "Pünktlichkeit",
          "Raumtemperatur Zug",
          "Sauberkeit Zug und Bahnhof",
          "Security",
          "Sonstiges",
          "Vertrieb und Services",
          "WC Verfügbarkeit und Sauberkeit",
          "Ausstattung Qualität Rollmaterial",
          "Corona",
          "Fahrplanangebot",
          "Feedback Umfrage",
          "Internet, Wlan und Mobilfunk",
          "Kommerzielle Angebote",
          "Kundeninformation",
          "Lob",
          "Outlier",
          "Platzangebot Velo, Gepäck, Kinderwagen",
          "Platzangebot Zug",
          "Preis-Leistung",
          "Pünktlichkeit",
          "Raumtemperatur Zug",
          "Sauberkeit Zug und Bahnhof",
          "Security",
          "Sonstiges",
          "Vertrieb und Services",
          "WC Verfügbarkeit und Sauberkeit",
          "Ausstattung Qualität Rollmaterial",
          "Corona",
          "Fahrplanangebot",
          "Feedback Umfrage",
          "Internet, Wlan und Mobilfunk",
          "Kommerzielle Angebote",
          "Kundeninformation",
          "Lob",
          "Outlier",
          "Platzangebot Velo, Gepäck, Kinderwagen",
          "Platzangebot Zug",
          "Preis-Leistung",
          "Pünktlichkeit",
          "Raumtemperatur Zug",
          "Sauberkeit Zug und Bahnhof",
          "Security",
          "Sonstiges",
          "Vertrieb und Services",
          "WC Verfügbarkeit und Sauberkeit",
          "Ausstattung Qualität Rollmaterial",
          "Corona",
          "Fahrplanangebot",
          "Feedback Umfrage",
          "Internet, Wlan und Mobilfunk",
          "Kommerzielle Angebote",
          "Kundeninformation",
          "Lob",
          "Outlier",
          "Platzangebot Velo, Gepäck, Kinderwagen",
          "Platzangebot Zug",
          "Preis-Leistung",
          "Pünktlichkeit",
          "Raumtemperatur Zug",
          "Sauberkeit Zug und Bahnhof",
          "Security",
          "Sonstiges",
          "Vertrieb und Services",
          "WC Verfügbarkeit und Sauberkeit",
          "Ausstattung Qualität Rollmaterial",
          "Corona",
          "Fahrplanangebot",
          "Feedback Umfrage",
          "Internet, Wlan und Mobilfunk",
          "Kommerzielle Angebote",
          "Kundeninformation",
          "Lob",
          "Outlier",
          "Platzangebot Velo, Gepäck, Kinderwagen",
          "Platzangebot Zug",
          "Preis-Leistung",
          "Pünktlichkeit",
          "Raumtemperatur Zug",
          "Sauberkeit Zug und Bahnhof",
          "Security",
          "Sonstiges",
          "Vertrieb und Services",
          "WC Verfügbarkeit und Sauberkeit",
          "Ausstattung Qualität Rollmaterial",
          "Corona",
          "Fahrplanangebot",
          "Feedback Umfrage",
          "Internet, Wlan und Mobilfunk",
          "Kommerzielle Angebote",
          "Kundeninformation",
          "Lob",
          "Outlier",
          "Platzangebot Velo, Gepäck, Kinderwagen",
          "Platzangebot Zug",
          "Preis-Leistung",
          "Pünktlichkeit",
          "Raumtemperatur Zug",
          "Sauberkeit Zug und Bahnhof",
          "Security",
          "Sonstiges",
          "Vertrieb und Services",
          "WC Verfügbarkeit und Sauberkeit",
          "Ausstattung Qualität Rollmaterial",
          "Corona",
          "Fahrplanangebot",
          "Feedback Umfrage",
          "Internet, Wlan und Mobilfunk",
          "Kommerzielle Angebote",
          "Kundeninformation",
          "Lob",
          "Outlier",
          "Platzangebot Velo, Gepäck, Kinderwagen",
          "Platzangebot Zug",
          "Preis-Leistung",
          "Pünktlichkeit",
          "Raumtemperatur Zug",
          "Sauberkeit Zug und Bahnhof",
          "Security",
          "Sonstiges",
          "Vertrieb und Services",
          "WC Verfügbarkeit und Sauberkeit",
          "Ausstattung Qualität Rollmaterial",
          "Corona",
          "Fahrplanangebot",
          "Feedback Umfrage",
          "Internet, Wlan und Mobilfunk",
          "Kommerzielle Angebote",
          "Kundeninformation",
          "Lob",
          "Outlier",
          "Platzangebot Velo, Gepäck, Kinderwagen",
          "Platzangebot Zug",
          "Preis-Leistung",
          "Pünktlichkeit",
          "Raumtemperatur Zug",
          "Sauberkeit Zug und Bahnhof",
          "Security",
          "Sonstiges",
          "Vertrieb und Services",
          "WC Verfügbarkeit und Sauberkeit",
          "Ausstattung Qualität Rollmaterial",
          "Corona",
          "Fahrplanangebot",
          "Feedback Umfrage",
          "Internet, Wlan und Mobilfunk",
          "Kommerzielle Angebote",
          "Kundeninformation",
          "Lob",
          "Outlier",
          "Platzangebot Velo, Gepäck, Kinderwagen",
          "Platzangebot Zug",
          "Preis-Leistung",
          "Pünktlichkeit",
          "Raumtemperatur Zug",
          "Sauberkeit Zug und Bahnhof",
          "Security",
          "Sonstiges",
          "Vertrieb und Services",
          "WC Verfügbarkeit und Sauberkeit",
          "Ausstattung Qualität Rollmaterial",
          "Corona",
          "Fahrplanangebot",
          "Feedback Umfrage",
          "Internet, Wlan und Mobilfunk",
          "Kommerzielle Angebote",
          "Kundeninformation",
          "Lob",
          "Outlier",
          "Platzangebot Velo, Gepäck, Kinderwagen",
          "Platzangebot Zug",
          "Preis-Leistung",
          "Pünktlichkeit",
          "Raumtemperatur Zug",
          "Sauberkeit Zug und Bahnhof",
          "Security",
          "Sonstiges",
          "Vertrieb und Services",
          "WC Verfügbarkeit und Sauberkeit",
          "Ausstattung Qualität Rollmaterial",
          "Corona",
          "Fahrplanangebot",
          "Feedback Umfrage",
          "Internet, Wlan und Mobilfunk",
          "Kommerzielle Angebote",
          "Kundeninformation",
          "Lob",
          "Outlier",
          "Platzangebot Velo, Gepäck, Kinderwagen",
          "Platzangebot Zug",
          "Preis-Leistung",
          "Pünktlichkeit",
          "Raumtemperatur Zug",
          "Sauberkeit Zug und Bahnhof",
          "Security",
          "Sonstiges",
          "Vertrieb und Services",
          "WC Verfügbarkeit und Sauberkeit",
          "Ausstattung Qualität Rollmaterial",
          "Corona",
          "Fahrplanangebot",
          "Feedback Umfrage",
          "Internet, Wlan und Mobilfunk",
          "Kommerzielle Angebote",
          "Kundeninformation",
          "Lob",
          "Outlier",
          "Platzangebot Velo, Gepäck, Kinderwagen",
          "Platzangebot Zug",
          "Preis-Leistung",
          "Pünktlichkeit",
          "Raumtemperatur Zug",
          "Sauberkeit Zug und Bahnhof",
          "Security",
          "Sonstiges",
          "Vertrieb und Services",
          "WC Verfügbarkeit und Sauberkeit",
          "Ausstattung Qualität Rollmaterial",
          "Corona",
          "Fahrplanangebot",
          "Feedback Umfrage",
          "Internet, Wlan und Mobilfunk",
          "Kommerzielle Angebote",
          "Kundeninformation",
          "Lob",
          "Outlier",
          "Platzangebot Velo, Gepäck, Kinderwagen",
          "Platzangebot Zug",
          "Preis-Leistung",
          "Pünktlichkeit",
          "Raumtemperatur Zug",
          "Sauberkeit Zug und Bahnhof",
          "Security",
          "Sonstiges",
          "Vertrieb und Services",
          "WC Verfügbarkeit und Sauberkeit",
          "Ausstattung Qualität Rollmaterial",
          "Corona",
          "Fahrplanangebot",
          "Feedback Umfrage",
          "Internet, Wlan und Mobilfunk",
          "Kommerzielle Angebote",
          "Kundeninformation",
          "Lob",
          "Outlier",
          "Platzangebot Velo, Gepäck, Kinderwagen",
          "Platzangebot Zug",
          "Preis-Leistung",
          "Pünktlichkeit",
          "Raumtemperatur Zug",
          "Sauberkeit Zug und Bahnhof",
          "Security",
          "Sonstiges",
          "Vertrieb und Services",
          "WC Verfügbarkeit und Sauberkeit",
          "Ausstattung Qualität Rollmaterial",
          "Corona",
          "Fahrplanangebot",
          "Feedback Umfrage",
          "Internet, Wlan und Mobilfunk",
          "Kommerzielle Angebote",
          "Kundeninformation",
          "Lob",
          "Outlier",
          "Platzangebot Velo, Gepäck, Kinderwagen",
          "Platzangebot Zug",
          "Preis-Leistung",
          "Pünktlichkeit",
          "Raumtemperatur Zug",
          "Sauberkeit Zug und Bahnhof",
          "Security",
          "Sonstiges",
          "Vertrieb und Services",
          "WC Verfügbarkeit und Sauberkeit",
          "Ausstattung Qualität Rollmaterial",
          "Corona",
          "Fahrplanangebot",
          "Feedback Umfrage",
          "Internet, Wlan und Mobilfunk",
          "Kommerzielle Angebote",
          "Kundeninformation",
          "Lob",
          "Outlier",
          "Platzangebot Velo, Gepäck, Kinderwagen",
          "Platzangebot Zug",
          "Preis-Leistung",
          "Pünktlichkeit",
          "Raumtemperatur Zug",
          "Sauberkeit Zug und Bahnhof",
          "Security",
          "Sonstiges",
          "Vertrieb und Services",
          "WC Verfügbarkeit und Sauberkeit"
         ],
         "type": "scatter",
         "x": [
          "2019Q1",
          "2019Q2",
          "2019Q3",
          "2019Q4",
          "2020Q1",
          "2020Q2",
          "2020Q3",
          "2020Q4",
          "2021Q1",
          "2021Q2",
          "2021Q3",
          "2021Q4",
          "2022Q1",
          "2022Q2",
          "2022Q3",
          "2022Q4"
         ],
         "xaxis": "x",
         "y": [
          0.01570113697888468,
          0.02017819706498952,
          0.016592920353982302,
          0.017954960438222763,
          0.020664206642066422,
          0.024838012958963283,
          0.01588352084712111,
          0.021546748749519045,
          0.02230151650312221,
          0.019851116625310174,
          0.018413597733711047,
          0.013975903614457831,
          0.020146520146520148,
          0.017121702915316984,
          0.01936655235021182,
          0.019683149303888623
         ],
         "yaxis": "y"
        },
        {
         "customdata": [
          [
           "Internet, Wlan und Mobilfunk",
           63
          ],
          [
           "Internet, Wlan und Mobilfunk",
           54
          ],
          [
           "Internet, Wlan und Mobilfunk",
           53
          ],
          [
           "Internet, Wlan und Mobilfunk",
           35
          ],
          [
           "Internet, Wlan und Mobilfunk",
           42
          ],
          [
           "Internet, Wlan und Mobilfunk",
           14
          ],
          [
           "Internet, Wlan und Mobilfunk",
           59
          ],
          [
           "Internet, Wlan und Mobilfunk",
           63
          ],
          [
           "Internet, Wlan und Mobilfunk",
           68
          ],
          [
           "Internet, Wlan und Mobilfunk",
           62
          ],
          [
           "Internet, Wlan und Mobilfunk",
           48
          ],
          [
           "Internet, Wlan und Mobilfunk",
           58
          ],
          [
           "Internet, Wlan und Mobilfunk",
           51
          ],
          [
           "Internet, Wlan und Mobilfunk",
           67
          ],
          [
           "Internet, Wlan und Mobilfunk",
           133
          ],
          [
           "Internet, Wlan und Mobilfunk",
           133
          ]
         ],
         "hovertemplate": "CustomName=%{customdata[0]}<br>yearquarter=%{x}<br>Topic_Ratio=%{y}<br>count_x=%{customdata[1]}<extra></extra>",
         "legendgroup": "Internet, Wlan und Mobilfunk",
         "line": {
          "color": "#EDB183",
          "dash": "solid",
          "width": 2
         },
         "marker": {
          "symbol": "circle"
         },
         "mode": "lines",
         "name": "Internet, Wlan und Mobilfunk",
         "orientation": "v",
         "showlegend": true,
         "text": [
          "Ausstattung Qualität Rollmaterial",
          "Corona",
          "Fahrplanangebot",
          "Feedback Umfrage",
          "Internet, Wlan und Mobilfunk",
          "Kommerzielle Angebote",
          "Kundeninformation",
          "Lob",
          "Outlier",
          "Platzangebot Velo, Gepäck, Kinderwagen",
          "Platzangebot Zug",
          "Preis-Leistung",
          "Pünktlichkeit",
          "Raumtemperatur Zug",
          "Sauberkeit Zug und Bahnhof",
          "Security",
          "Sonstiges",
          "Vertrieb und Services",
          "WC Verfügbarkeit und Sauberkeit",
          "Ausstattung Qualität Rollmaterial",
          "Corona",
          "Fahrplanangebot",
          "Feedback Umfrage",
          "Internet, Wlan und Mobilfunk",
          "Kommerzielle Angebote",
          "Kundeninformation",
          "Lob",
          "Outlier",
          "Platzangebot Velo, Gepäck, Kinderwagen",
          "Platzangebot Zug",
          "Preis-Leistung",
          "Pünktlichkeit",
          "Raumtemperatur Zug",
          "Sauberkeit Zug und Bahnhof",
          "Security",
          "Sonstiges",
          "Vertrieb und Services",
          "WC Verfügbarkeit und Sauberkeit",
          "Ausstattung Qualität Rollmaterial",
          "Corona",
          "Fahrplanangebot",
          "Feedback Umfrage",
          "Internet, Wlan und Mobilfunk",
          "Kommerzielle Angebote",
          "Kundeninformation",
          "Lob",
          "Outlier",
          "Platzangebot Velo, Gepäck, Kinderwagen",
          "Platzangebot Zug",
          "Preis-Leistung",
          "Pünktlichkeit",
          "Raumtemperatur Zug",
          "Sauberkeit Zug und Bahnhof",
          "Security",
          "Sonstiges",
          "Vertrieb und Services",
          "WC Verfügbarkeit und Sauberkeit",
          "Ausstattung Qualität Rollmaterial",
          "Corona",
          "Fahrplanangebot",
          "Feedback Umfrage",
          "Internet, Wlan und Mobilfunk",
          "Kommerzielle Angebote",
          "Kundeninformation",
          "Lob",
          "Outlier",
          "Platzangebot Velo, Gepäck, Kinderwagen",
          "Platzangebot Zug",
          "Preis-Leistung",
          "Pünktlichkeit",
          "Raumtemperatur Zug",
          "Sauberkeit Zug und Bahnhof",
          "Security",
          "Sonstiges",
          "Vertrieb und Services",
          "WC Verfügbarkeit und Sauberkeit",
          "Ausstattung Qualität Rollmaterial",
          "Corona",
          "Fahrplanangebot",
          "Feedback Umfrage",
          "Internet, Wlan und Mobilfunk",
          "Kommerzielle Angebote",
          "Kundeninformation",
          "Lob",
          "Outlier",
          "Platzangebot Velo, Gepäck, Kinderwagen",
          "Platzangebot Zug",
          "Preis-Leistung",
          "Pünktlichkeit",
          "Raumtemperatur Zug",
          "Sauberkeit Zug und Bahnhof",
          "Security",
          "Sonstiges",
          "Vertrieb und Services",
          "WC Verfügbarkeit und Sauberkeit",
          "Ausstattung Qualität Rollmaterial",
          "Corona",
          "Fahrplanangebot",
          "Feedback Umfrage",
          "Internet, Wlan und Mobilfunk",
          "Kommerzielle Angebote",
          "Kundeninformation",
          "Lob",
          "Outlier",
          "Platzangebot Velo, Gepäck, Kinderwagen",
          "Platzangebot Zug",
          "Preis-Leistung",
          "Pünktlichkeit",
          "Raumtemperatur Zug",
          "Sauberkeit Zug und Bahnhof",
          "Security",
          "Sonstiges",
          "Vertrieb und Services",
          "WC Verfügbarkeit und Sauberkeit",
          "Ausstattung Qualität Rollmaterial",
          "Corona",
          "Fahrplanangebot",
          "Feedback Umfrage",
          "Internet, Wlan und Mobilfunk",
          "Kommerzielle Angebote",
          "Kundeninformation",
          "Lob",
          "Outlier",
          "Platzangebot Velo, Gepäck, Kinderwagen",
          "Platzangebot Zug",
          "Preis-Leistung",
          "Pünktlichkeit",
          "Raumtemperatur Zug",
          "Sauberkeit Zug und Bahnhof",
          "Security",
          "Sonstiges",
          "Vertrieb und Services",
          "WC Verfügbarkeit und Sauberkeit",
          "Ausstattung Qualität Rollmaterial",
          "Corona",
          "Fahrplanangebot",
          "Feedback Umfrage",
          "Internet, Wlan und Mobilfunk",
          "Kommerzielle Angebote",
          "Kundeninformation",
          "Lob",
          "Outlier",
          "Platzangebot Velo, Gepäck, Kinderwagen",
          "Platzangebot Zug",
          "Preis-Leistung",
          "Pünktlichkeit",
          "Raumtemperatur Zug",
          "Sauberkeit Zug und Bahnhof",
          "Security",
          "Sonstiges",
          "Vertrieb und Services",
          "WC Verfügbarkeit und Sauberkeit",
          "Ausstattung Qualität Rollmaterial",
          "Corona",
          "Fahrplanangebot",
          "Feedback Umfrage",
          "Internet, Wlan und Mobilfunk",
          "Kommerzielle Angebote",
          "Kundeninformation",
          "Lob",
          "Outlier",
          "Platzangebot Velo, Gepäck, Kinderwagen",
          "Platzangebot Zug",
          "Preis-Leistung",
          "Pünktlichkeit",
          "Raumtemperatur Zug",
          "Sauberkeit Zug und Bahnhof",
          "Security",
          "Sonstiges",
          "Vertrieb und Services",
          "WC Verfügbarkeit und Sauberkeit",
          "Ausstattung Qualität Rollmaterial",
          "Corona",
          "Fahrplanangebot",
          "Feedback Umfrage",
          "Internet, Wlan und Mobilfunk",
          "Kommerzielle Angebote",
          "Kundeninformation",
          "Lob",
          "Outlier",
          "Platzangebot Velo, Gepäck, Kinderwagen",
          "Platzangebot Zug",
          "Preis-Leistung",
          "Pünktlichkeit",
          "Raumtemperatur Zug",
          "Sauberkeit Zug und Bahnhof",
          "Security",
          "Sonstiges",
          "Vertrieb und Services",
          "WC Verfügbarkeit und Sauberkeit",
          "Ausstattung Qualität Rollmaterial",
          "Corona",
          "Fahrplanangebot",
          "Feedback Umfrage",
          "Internet, Wlan und Mobilfunk",
          "Kommerzielle Angebote",
          "Kundeninformation",
          "Lob",
          "Outlier",
          "Platzangebot Velo, Gepäck, Kinderwagen",
          "Platzangebot Zug",
          "Preis-Leistung",
          "Pünktlichkeit",
          "Raumtemperatur Zug",
          "Sauberkeit Zug und Bahnhof",
          "Security",
          "Sonstiges",
          "Vertrieb und Services",
          "WC Verfügbarkeit und Sauberkeit",
          "Ausstattung Qualität Rollmaterial",
          "Corona",
          "Fahrplanangebot",
          "Feedback Umfrage",
          "Internet, Wlan und Mobilfunk",
          "Kommerzielle Angebote",
          "Kundeninformation",
          "Lob",
          "Outlier",
          "Platzangebot Velo, Gepäck, Kinderwagen",
          "Platzangebot Zug",
          "Preis-Leistung",
          "Pünktlichkeit",
          "Raumtemperatur Zug",
          "Sauberkeit Zug und Bahnhof",
          "Security",
          "Sonstiges",
          "Vertrieb und Services",
          "WC Verfügbarkeit und Sauberkeit",
          "Ausstattung Qualität Rollmaterial",
          "Corona",
          "Fahrplanangebot",
          "Feedback Umfrage",
          "Internet, Wlan und Mobilfunk",
          "Kommerzielle Angebote",
          "Kundeninformation",
          "Lob",
          "Outlier",
          "Platzangebot Velo, Gepäck, Kinderwagen",
          "Platzangebot Zug",
          "Preis-Leistung",
          "Pünktlichkeit",
          "Raumtemperatur Zug",
          "Sauberkeit Zug und Bahnhof",
          "Security",
          "Sonstiges",
          "Vertrieb und Services",
          "WC Verfügbarkeit und Sauberkeit",
          "Ausstattung Qualität Rollmaterial",
          "Corona",
          "Fahrplanangebot",
          "Feedback Umfrage",
          "Internet, Wlan und Mobilfunk",
          "Kommerzielle Angebote",
          "Kundeninformation",
          "Lob",
          "Outlier",
          "Platzangebot Velo, Gepäck, Kinderwagen",
          "Platzangebot Zug",
          "Preis-Leistung",
          "Pünktlichkeit",
          "Raumtemperatur Zug",
          "Sauberkeit Zug und Bahnhof",
          "Security",
          "Sonstiges",
          "Vertrieb und Services",
          "WC Verfügbarkeit und Sauberkeit",
          "Ausstattung Qualität Rollmaterial",
          "Corona",
          "Fahrplanangebot",
          "Feedback Umfrage",
          "Internet, Wlan und Mobilfunk",
          "Kommerzielle Angebote",
          "Kundeninformation",
          "Lob",
          "Outlier",
          "Platzangebot Velo, Gepäck, Kinderwagen",
          "Platzangebot Zug",
          "Preis-Leistung",
          "Pünktlichkeit",
          "Raumtemperatur Zug",
          "Sauberkeit Zug und Bahnhof",
          "Security",
          "Sonstiges",
          "Vertrieb und Services",
          "WC Verfügbarkeit und Sauberkeit",
          "Ausstattung Qualität Rollmaterial",
          "Corona",
          "Fahrplanangebot",
          "Feedback Umfrage",
          "Internet, Wlan und Mobilfunk",
          "Kommerzielle Angebote",
          "Kundeninformation",
          "Lob",
          "Outlier",
          "Platzangebot Velo, Gepäck, Kinderwagen",
          "Platzangebot Zug",
          "Preis-Leistung",
          "Pünktlichkeit",
          "Raumtemperatur Zug",
          "Sauberkeit Zug und Bahnhof",
          "Security",
          "Sonstiges",
          "Vertrieb und Services",
          "WC Verfügbarkeit und Sauberkeit"
         ],
         "type": "scatter",
         "x": [
          "2019Q1",
          "2019Q2",
          "2019Q3",
          "2019Q4",
          "2020Q1",
          "2020Q2",
          "2020Q3",
          "2020Q4",
          "2021Q1",
          "2021Q2",
          "2021Q3",
          "2021Q4",
          "2022Q1",
          "2022Q2",
          "2022Q3",
          "2022Q4"
         ],
         "xaxis": "x",
         "y": [
          0.01705468327016784,
          0.014150943396226415,
          0.0146570796460177,
          0.010651247717589775,
          0.015498154981549815,
          0.01511879049676026,
          0.019523494374586368,
          0.024240092343208928,
          0.030330062444246207,
          0.03076923076923077,
          0.0226628895184136,
          0.027951807228915663,
          0.031135531135531136,
          0.031004164738546967,
          0.026830744401855962,
          0.031925108017282766
         ],
         "yaxis": "y"
        },
        {
         "customdata": [
          [
           "Kommerzielle Angebote",
           99
          ],
          [
           "Kommerzielle Angebote",
           108
          ],
          [
           "Kommerzielle Angebote",
           70
          ],
          [
           "Kommerzielle Angebote",
           96
          ],
          [
           "Kommerzielle Angebote",
           62
          ],
          [
           "Kommerzielle Angebote",
           21
          ],
          [
           "Kommerzielle Angebote",
           47
          ],
          [
           "Kommerzielle Angebote",
           79
          ],
          [
           "Kommerzielle Angebote",
           105
          ],
          [
           "Kommerzielle Angebote",
           54
          ],
          [
           "Kommerzielle Angebote",
           54
          ],
          [
           "Kommerzielle Angebote",
           57
          ],
          [
           "Kommerzielle Angebote",
           50
          ],
          [
           "Kommerzielle Angebote",
           62
          ],
          [
           "Kommerzielle Angebote",
           189
          ],
          [
           "Kommerzielle Angebote",
           163
          ]
         ],
         "hovertemplate": "CustomName=%{customdata[0]}<br>yearquarter=%{x}<br>Topic_Ratio=%{y}<br>count_x=%{customdata[1]}<extra></extra>",
         "legendgroup": "Kommerzielle Angebote",
         "line": {
          "color": "#B6D6CC",
          "dash": "solid",
          "width": 2
         },
         "marker": {
          "symbol": "circle"
         },
         "mode": "lines",
         "name": "Kommerzielle Angebote",
         "orientation": "v",
         "showlegend": true,
         "text": [
          "Ausstattung Qualität Rollmaterial",
          "Corona",
          "Fahrplanangebot",
          "Feedback Umfrage",
          "Internet, Wlan und Mobilfunk",
          "Kommerzielle Angebote",
          "Kundeninformation",
          "Lob",
          "Outlier",
          "Platzangebot Velo, Gepäck, Kinderwagen",
          "Platzangebot Zug",
          "Preis-Leistung",
          "Pünktlichkeit",
          "Raumtemperatur Zug",
          "Sauberkeit Zug und Bahnhof",
          "Security",
          "Sonstiges",
          "Vertrieb und Services",
          "WC Verfügbarkeit und Sauberkeit",
          "Ausstattung Qualität Rollmaterial",
          "Corona",
          "Fahrplanangebot",
          "Feedback Umfrage",
          "Internet, Wlan und Mobilfunk",
          "Kommerzielle Angebote",
          "Kundeninformation",
          "Lob",
          "Outlier",
          "Platzangebot Velo, Gepäck, Kinderwagen",
          "Platzangebot Zug",
          "Preis-Leistung",
          "Pünktlichkeit",
          "Raumtemperatur Zug",
          "Sauberkeit Zug und Bahnhof",
          "Security",
          "Sonstiges",
          "Vertrieb und Services",
          "WC Verfügbarkeit und Sauberkeit",
          "Ausstattung Qualität Rollmaterial",
          "Corona",
          "Fahrplanangebot",
          "Feedback Umfrage",
          "Internet, Wlan und Mobilfunk",
          "Kommerzielle Angebote",
          "Kundeninformation",
          "Lob",
          "Outlier",
          "Platzangebot Velo, Gepäck, Kinderwagen",
          "Platzangebot Zug",
          "Preis-Leistung",
          "Pünktlichkeit",
          "Raumtemperatur Zug",
          "Sauberkeit Zug und Bahnhof",
          "Security",
          "Sonstiges",
          "Vertrieb und Services",
          "WC Verfügbarkeit und Sauberkeit",
          "Ausstattung Qualität Rollmaterial",
          "Corona",
          "Fahrplanangebot",
          "Feedback Umfrage",
          "Internet, Wlan und Mobilfunk",
          "Kommerzielle Angebote",
          "Kundeninformation",
          "Lob",
          "Outlier",
          "Platzangebot Velo, Gepäck, Kinderwagen",
          "Platzangebot Zug",
          "Preis-Leistung",
          "Pünktlichkeit",
          "Raumtemperatur Zug",
          "Sauberkeit Zug und Bahnhof",
          "Security",
          "Sonstiges",
          "Vertrieb und Services",
          "WC Verfügbarkeit und Sauberkeit",
          "Ausstattung Qualität Rollmaterial",
          "Corona",
          "Fahrplanangebot",
          "Feedback Umfrage",
          "Internet, Wlan und Mobilfunk",
          "Kommerzielle Angebote",
          "Kundeninformation",
          "Lob",
          "Outlier",
          "Platzangebot Velo, Gepäck, Kinderwagen",
          "Platzangebot Zug",
          "Preis-Leistung",
          "Pünktlichkeit",
          "Raumtemperatur Zug",
          "Sauberkeit Zug und Bahnhof",
          "Security",
          "Sonstiges",
          "Vertrieb und Services",
          "WC Verfügbarkeit und Sauberkeit",
          "Ausstattung Qualität Rollmaterial",
          "Corona",
          "Fahrplanangebot",
          "Feedback Umfrage",
          "Internet, Wlan und Mobilfunk",
          "Kommerzielle Angebote",
          "Kundeninformation",
          "Lob",
          "Outlier",
          "Platzangebot Velo, Gepäck, Kinderwagen",
          "Platzangebot Zug",
          "Preis-Leistung",
          "Pünktlichkeit",
          "Raumtemperatur Zug",
          "Sauberkeit Zug und Bahnhof",
          "Security",
          "Sonstiges",
          "Vertrieb und Services",
          "WC Verfügbarkeit und Sauberkeit",
          "Ausstattung Qualität Rollmaterial",
          "Corona",
          "Fahrplanangebot",
          "Feedback Umfrage",
          "Internet, Wlan und Mobilfunk",
          "Kommerzielle Angebote",
          "Kundeninformation",
          "Lob",
          "Outlier",
          "Platzangebot Velo, Gepäck, Kinderwagen",
          "Platzangebot Zug",
          "Preis-Leistung",
          "Pünktlichkeit",
          "Raumtemperatur Zug",
          "Sauberkeit Zug und Bahnhof",
          "Security",
          "Sonstiges",
          "Vertrieb und Services",
          "WC Verfügbarkeit und Sauberkeit",
          "Ausstattung Qualität Rollmaterial",
          "Corona",
          "Fahrplanangebot",
          "Feedback Umfrage",
          "Internet, Wlan und Mobilfunk",
          "Kommerzielle Angebote",
          "Kundeninformation",
          "Lob",
          "Outlier",
          "Platzangebot Velo, Gepäck, Kinderwagen",
          "Platzangebot Zug",
          "Preis-Leistung",
          "Pünktlichkeit",
          "Raumtemperatur Zug",
          "Sauberkeit Zug und Bahnhof",
          "Security",
          "Sonstiges",
          "Vertrieb und Services",
          "WC Verfügbarkeit und Sauberkeit",
          "Ausstattung Qualität Rollmaterial",
          "Corona",
          "Fahrplanangebot",
          "Feedback Umfrage",
          "Internet, Wlan und Mobilfunk",
          "Kommerzielle Angebote",
          "Kundeninformation",
          "Lob",
          "Outlier",
          "Platzangebot Velo, Gepäck, Kinderwagen",
          "Platzangebot Zug",
          "Preis-Leistung",
          "Pünktlichkeit",
          "Raumtemperatur Zug",
          "Sauberkeit Zug und Bahnhof",
          "Security",
          "Sonstiges",
          "Vertrieb und Services",
          "WC Verfügbarkeit und Sauberkeit",
          "Ausstattung Qualität Rollmaterial",
          "Corona",
          "Fahrplanangebot",
          "Feedback Umfrage",
          "Internet, Wlan und Mobilfunk",
          "Kommerzielle Angebote",
          "Kundeninformation",
          "Lob",
          "Outlier",
          "Platzangebot Velo, Gepäck, Kinderwagen",
          "Platzangebot Zug",
          "Preis-Leistung",
          "Pünktlichkeit",
          "Raumtemperatur Zug",
          "Sauberkeit Zug und Bahnhof",
          "Security",
          "Sonstiges",
          "Vertrieb und Services",
          "WC Verfügbarkeit und Sauberkeit",
          "Ausstattung Qualität Rollmaterial",
          "Corona",
          "Fahrplanangebot",
          "Feedback Umfrage",
          "Internet, Wlan und Mobilfunk",
          "Kommerzielle Angebote",
          "Kundeninformation",
          "Lob",
          "Outlier",
          "Platzangebot Velo, Gepäck, Kinderwagen",
          "Platzangebot Zug",
          "Preis-Leistung",
          "Pünktlichkeit",
          "Raumtemperatur Zug",
          "Sauberkeit Zug und Bahnhof",
          "Security",
          "Sonstiges",
          "Vertrieb und Services",
          "WC Verfügbarkeit und Sauberkeit",
          "Ausstattung Qualität Rollmaterial",
          "Corona",
          "Fahrplanangebot",
          "Feedback Umfrage",
          "Internet, Wlan und Mobilfunk",
          "Kommerzielle Angebote",
          "Kundeninformation",
          "Lob",
          "Outlier",
          "Platzangebot Velo, Gepäck, Kinderwagen",
          "Platzangebot Zug",
          "Preis-Leistung",
          "Pünktlichkeit",
          "Raumtemperatur Zug",
          "Sauberkeit Zug und Bahnhof",
          "Security",
          "Sonstiges",
          "Vertrieb und Services",
          "WC Verfügbarkeit und Sauberkeit",
          "Ausstattung Qualität Rollmaterial",
          "Corona",
          "Fahrplanangebot",
          "Feedback Umfrage",
          "Internet, Wlan und Mobilfunk",
          "Kommerzielle Angebote",
          "Kundeninformation",
          "Lob",
          "Outlier",
          "Platzangebot Velo, Gepäck, Kinderwagen",
          "Platzangebot Zug",
          "Preis-Leistung",
          "Pünktlichkeit",
          "Raumtemperatur Zug",
          "Sauberkeit Zug und Bahnhof",
          "Security",
          "Sonstiges",
          "Vertrieb und Services",
          "WC Verfügbarkeit und Sauberkeit",
          "Ausstattung Qualität Rollmaterial",
          "Corona",
          "Fahrplanangebot",
          "Feedback Umfrage",
          "Internet, Wlan und Mobilfunk",
          "Kommerzielle Angebote",
          "Kundeninformation",
          "Lob",
          "Outlier",
          "Platzangebot Velo, Gepäck, Kinderwagen",
          "Platzangebot Zug",
          "Preis-Leistung",
          "Pünktlichkeit",
          "Raumtemperatur Zug",
          "Sauberkeit Zug und Bahnhof",
          "Security",
          "Sonstiges",
          "Vertrieb und Services",
          "WC Verfügbarkeit und Sauberkeit",
          "Ausstattung Qualität Rollmaterial",
          "Corona",
          "Fahrplanangebot",
          "Feedback Umfrage",
          "Internet, Wlan und Mobilfunk",
          "Kommerzielle Angebote",
          "Kundeninformation",
          "Lob",
          "Outlier",
          "Platzangebot Velo, Gepäck, Kinderwagen",
          "Platzangebot Zug",
          "Preis-Leistung",
          "Pünktlichkeit",
          "Raumtemperatur Zug",
          "Sauberkeit Zug und Bahnhof",
          "Security",
          "Sonstiges",
          "Vertrieb und Services",
          "WC Verfügbarkeit und Sauberkeit",
          "Ausstattung Qualität Rollmaterial",
          "Corona",
          "Fahrplanangebot",
          "Feedback Umfrage",
          "Internet, Wlan und Mobilfunk",
          "Kommerzielle Angebote",
          "Kundeninformation",
          "Lob",
          "Outlier",
          "Platzangebot Velo, Gepäck, Kinderwagen",
          "Platzangebot Zug",
          "Preis-Leistung",
          "Pünktlichkeit",
          "Raumtemperatur Zug",
          "Sauberkeit Zug und Bahnhof",
          "Security",
          "Sonstiges",
          "Vertrieb und Services",
          "WC Verfügbarkeit und Sauberkeit"
         ],
         "type": "scatter",
         "x": [
          "2019Q1",
          "2019Q2",
          "2019Q3",
          "2019Q4",
          "2020Q1",
          "2020Q2",
          "2020Q3",
          "2020Q4",
          "2021Q1",
          "2021Q2",
          "2021Q3",
          "2021Q4",
          "2022Q1",
          "2022Q2",
          "2022Q3",
          "2022Q4"
         ],
         "xaxis": "x",
         "y": [
          0.026800216567406606,
          0.02830188679245283,
          0.019358407079646017,
          0.029214850882531954,
          0.022878228782287822,
          0.02267818574514039,
          0.015552614162806089,
          0.03039630627164294,
          0.04683318465655665,
          0.026799007444168736,
          0.025495750708215296,
          0.02746987951807229,
          0.030525030525030524,
          0.02869042110134197,
          0.03812789993947952,
          0.03912626020163226
         ],
         "yaxis": "y"
        },
        {
         "customdata": [
          [
           "Kundeninformation",
           86
          ],
          [
           "Kundeninformation",
           92
          ],
          [
           "Kundeninformation",
           88
          ],
          [
           "Kundeninformation",
           75
          ],
          [
           "Kundeninformation",
           61
          ],
          [
           "Kundeninformation",
           14
          ],
          [
           "Kundeninformation",
           54
          ],
          [
           "Kundeninformation",
           78
          ],
          [
           "Kundeninformation",
           63
          ],
          [
           "Kundeninformation",
           60
          ],
          [
           "Kundeninformation",
           63
          ],
          [
           "Kundeninformation",
           45
          ],
          [
           "Kundeninformation",
           43
          ],
          [
           "Kundeninformation",
           59
          ],
          [
           "Kundeninformation",
           137
          ],
          [
           "Kundeninformation",
           115
          ]
         ],
         "hovertemplate": "CustomName=%{customdata[0]}<br>yearquarter=%{x}<br>Topic_Ratio=%{y}<br>count_x=%{customdata[1]}<extra></extra>",
         "legendgroup": "Kundeninformation",
         "line": {
          "color": "#9D6E94",
          "dash": "solid",
          "width": 2
         },
         "marker": {
          "symbol": "circle"
         },
         "mode": "lines",
         "name": "Kundeninformation",
         "orientation": "v",
         "showlegend": true,
         "text": [
          "Ausstattung Qualität Rollmaterial",
          "Corona",
          "Fahrplanangebot",
          "Feedback Umfrage",
          "Internet, Wlan und Mobilfunk",
          "Kommerzielle Angebote",
          "Kundeninformation",
          "Lob",
          "Outlier",
          "Platzangebot Velo, Gepäck, Kinderwagen",
          "Platzangebot Zug",
          "Preis-Leistung",
          "Pünktlichkeit",
          "Raumtemperatur Zug",
          "Sauberkeit Zug und Bahnhof",
          "Security",
          "Sonstiges",
          "Vertrieb und Services",
          "WC Verfügbarkeit und Sauberkeit",
          "Ausstattung Qualität Rollmaterial",
          "Corona",
          "Fahrplanangebot",
          "Feedback Umfrage",
          "Internet, Wlan und Mobilfunk",
          "Kommerzielle Angebote",
          "Kundeninformation",
          "Lob",
          "Outlier",
          "Platzangebot Velo, Gepäck, Kinderwagen",
          "Platzangebot Zug",
          "Preis-Leistung",
          "Pünktlichkeit",
          "Raumtemperatur Zug",
          "Sauberkeit Zug und Bahnhof",
          "Security",
          "Sonstiges",
          "Vertrieb und Services",
          "WC Verfügbarkeit und Sauberkeit",
          "Ausstattung Qualität Rollmaterial",
          "Corona",
          "Fahrplanangebot",
          "Feedback Umfrage",
          "Internet, Wlan und Mobilfunk",
          "Kommerzielle Angebote",
          "Kundeninformation",
          "Lob",
          "Outlier",
          "Platzangebot Velo, Gepäck, Kinderwagen",
          "Platzangebot Zug",
          "Preis-Leistung",
          "Pünktlichkeit",
          "Raumtemperatur Zug",
          "Sauberkeit Zug und Bahnhof",
          "Security",
          "Sonstiges",
          "Vertrieb und Services",
          "WC Verfügbarkeit und Sauberkeit",
          "Ausstattung Qualität Rollmaterial",
          "Corona",
          "Fahrplanangebot",
          "Feedback Umfrage",
          "Internet, Wlan und Mobilfunk",
          "Kommerzielle Angebote",
          "Kundeninformation",
          "Lob",
          "Outlier",
          "Platzangebot Velo, Gepäck, Kinderwagen",
          "Platzangebot Zug",
          "Preis-Leistung",
          "Pünktlichkeit",
          "Raumtemperatur Zug",
          "Sauberkeit Zug und Bahnhof",
          "Security",
          "Sonstiges",
          "Vertrieb und Services",
          "WC Verfügbarkeit und Sauberkeit",
          "Ausstattung Qualität Rollmaterial",
          "Corona",
          "Fahrplanangebot",
          "Feedback Umfrage",
          "Internet, Wlan und Mobilfunk",
          "Kommerzielle Angebote",
          "Kundeninformation",
          "Lob",
          "Outlier",
          "Platzangebot Velo, Gepäck, Kinderwagen",
          "Platzangebot Zug",
          "Preis-Leistung",
          "Pünktlichkeit",
          "Raumtemperatur Zug",
          "Sauberkeit Zug und Bahnhof",
          "Security",
          "Sonstiges",
          "Vertrieb und Services",
          "WC Verfügbarkeit und Sauberkeit",
          "Ausstattung Qualität Rollmaterial",
          "Corona",
          "Fahrplanangebot",
          "Feedback Umfrage",
          "Internet, Wlan und Mobilfunk",
          "Kommerzielle Angebote",
          "Kundeninformation",
          "Lob",
          "Outlier",
          "Platzangebot Velo, Gepäck, Kinderwagen",
          "Platzangebot Zug",
          "Preis-Leistung",
          "Pünktlichkeit",
          "Raumtemperatur Zug",
          "Sauberkeit Zug und Bahnhof",
          "Security",
          "Sonstiges",
          "Vertrieb und Services",
          "WC Verfügbarkeit und Sauberkeit",
          "Ausstattung Qualität Rollmaterial",
          "Corona",
          "Fahrplanangebot",
          "Feedback Umfrage",
          "Internet, Wlan und Mobilfunk",
          "Kommerzielle Angebote",
          "Kundeninformation",
          "Lob",
          "Outlier",
          "Platzangebot Velo, Gepäck, Kinderwagen",
          "Platzangebot Zug",
          "Preis-Leistung",
          "Pünktlichkeit",
          "Raumtemperatur Zug",
          "Sauberkeit Zug und Bahnhof",
          "Security",
          "Sonstiges",
          "Vertrieb und Services",
          "WC Verfügbarkeit und Sauberkeit",
          "Ausstattung Qualität Rollmaterial",
          "Corona",
          "Fahrplanangebot",
          "Feedback Umfrage",
          "Internet, Wlan und Mobilfunk",
          "Kommerzielle Angebote",
          "Kundeninformation",
          "Lob",
          "Outlier",
          "Platzangebot Velo, Gepäck, Kinderwagen",
          "Platzangebot Zug",
          "Preis-Leistung",
          "Pünktlichkeit",
          "Raumtemperatur Zug",
          "Sauberkeit Zug und Bahnhof",
          "Security",
          "Sonstiges",
          "Vertrieb und Services",
          "WC Verfügbarkeit und Sauberkeit",
          "Ausstattung Qualität Rollmaterial",
          "Corona",
          "Fahrplanangebot",
          "Feedback Umfrage",
          "Internet, Wlan und Mobilfunk",
          "Kommerzielle Angebote",
          "Kundeninformation",
          "Lob",
          "Outlier",
          "Platzangebot Velo, Gepäck, Kinderwagen",
          "Platzangebot Zug",
          "Preis-Leistung",
          "Pünktlichkeit",
          "Raumtemperatur Zug",
          "Sauberkeit Zug und Bahnhof",
          "Security",
          "Sonstiges",
          "Vertrieb und Services",
          "WC Verfügbarkeit und Sauberkeit",
          "Ausstattung Qualität Rollmaterial",
          "Corona",
          "Fahrplanangebot",
          "Feedback Umfrage",
          "Internet, Wlan und Mobilfunk",
          "Kommerzielle Angebote",
          "Kundeninformation",
          "Lob",
          "Outlier",
          "Platzangebot Velo, Gepäck, Kinderwagen",
          "Platzangebot Zug",
          "Preis-Leistung",
          "Pünktlichkeit",
          "Raumtemperatur Zug",
          "Sauberkeit Zug und Bahnhof",
          "Security",
          "Sonstiges",
          "Vertrieb und Services",
          "WC Verfügbarkeit und Sauberkeit",
          "Ausstattung Qualität Rollmaterial",
          "Corona",
          "Fahrplanangebot",
          "Feedback Umfrage",
          "Internet, Wlan und Mobilfunk",
          "Kommerzielle Angebote",
          "Kundeninformation",
          "Lob",
          "Outlier",
          "Platzangebot Velo, Gepäck, Kinderwagen",
          "Platzangebot Zug",
          "Preis-Leistung",
          "Pünktlichkeit",
          "Raumtemperatur Zug",
          "Sauberkeit Zug und Bahnhof",
          "Security",
          "Sonstiges",
          "Vertrieb und Services",
          "WC Verfügbarkeit und Sauberkeit",
          "Ausstattung Qualität Rollmaterial",
          "Corona",
          "Fahrplanangebot",
          "Feedback Umfrage",
          "Internet, Wlan und Mobilfunk",
          "Kommerzielle Angebote",
          "Kundeninformation",
          "Lob",
          "Outlier",
          "Platzangebot Velo, Gepäck, Kinderwagen",
          "Platzangebot Zug",
          "Preis-Leistung",
          "Pünktlichkeit",
          "Raumtemperatur Zug",
          "Sauberkeit Zug und Bahnhof",
          "Security",
          "Sonstiges",
          "Vertrieb und Services",
          "WC Verfügbarkeit und Sauberkeit",
          "Ausstattung Qualität Rollmaterial",
          "Corona",
          "Fahrplanangebot",
          "Feedback Umfrage",
          "Internet, Wlan und Mobilfunk",
          "Kommerzielle Angebote",
          "Kundeninformation",
          "Lob",
          "Outlier",
          "Platzangebot Velo, Gepäck, Kinderwagen",
          "Platzangebot Zug",
          "Preis-Leistung",
          "Pünktlichkeit",
          "Raumtemperatur Zug",
          "Sauberkeit Zug und Bahnhof",
          "Security",
          "Sonstiges",
          "Vertrieb und Services",
          "WC Verfügbarkeit und Sauberkeit",
          "Ausstattung Qualität Rollmaterial",
          "Corona",
          "Fahrplanangebot",
          "Feedback Umfrage",
          "Internet, Wlan und Mobilfunk",
          "Kommerzielle Angebote",
          "Kundeninformation",
          "Lob",
          "Outlier",
          "Platzangebot Velo, Gepäck, Kinderwagen",
          "Platzangebot Zug",
          "Preis-Leistung",
          "Pünktlichkeit",
          "Raumtemperatur Zug",
          "Sauberkeit Zug und Bahnhof",
          "Security",
          "Sonstiges",
          "Vertrieb und Services",
          "WC Verfügbarkeit und Sauberkeit",
          "Ausstattung Qualität Rollmaterial",
          "Corona",
          "Fahrplanangebot",
          "Feedback Umfrage",
          "Internet, Wlan und Mobilfunk",
          "Kommerzielle Angebote",
          "Kundeninformation",
          "Lob",
          "Outlier",
          "Platzangebot Velo, Gepäck, Kinderwagen",
          "Platzangebot Zug",
          "Preis-Leistung",
          "Pünktlichkeit",
          "Raumtemperatur Zug",
          "Sauberkeit Zug und Bahnhof",
          "Security",
          "Sonstiges",
          "Vertrieb und Services",
          "WC Verfügbarkeit und Sauberkeit",
          "Ausstattung Qualität Rollmaterial",
          "Corona",
          "Fahrplanangebot",
          "Feedback Umfrage",
          "Internet, Wlan und Mobilfunk",
          "Kommerzielle Angebote",
          "Kundeninformation",
          "Lob",
          "Outlier",
          "Platzangebot Velo, Gepäck, Kinderwagen",
          "Platzangebot Zug",
          "Preis-Leistung",
          "Pünktlichkeit",
          "Raumtemperatur Zug",
          "Sauberkeit Zug und Bahnhof",
          "Security",
          "Sonstiges",
          "Vertrieb und Services",
          "WC Verfügbarkeit und Sauberkeit"
         ],
         "type": "scatter",
         "x": [
          "2019Q1",
          "2019Q2",
          "2019Q3",
          "2019Q4",
          "2020Q1",
          "2020Q2",
          "2020Q3",
          "2020Q4",
          "2021Q1",
          "2021Q2",
          "2021Q3",
          "2021Q4",
          "2022Q1",
          "2022Q2",
          "2022Q3",
          "2022Q4"
         ],
         "xaxis": "x",
         "y": [
          0.023280996210070383,
          0.02410901467505241,
          0.024336283185840708,
          0.02282410225197809,
          0.022509225092250923,
          0.01511879049676026,
          0.01786896095301125,
          0.030011542901115813,
          0.028099910793933987,
          0.02977667493796526,
          0.029745042492917848,
          0.021686746987951807,
          0.026251526251526252,
          0.027302174919018974,
          0.02763768408311479,
          0.027604416706673067
         ],
         "yaxis": "y"
        },
        {
         "customdata": [
          [
           "Lob",
           149
          ],
          [
           "Lob",
           170
          ],
          [
           "Lob",
           163
          ],
          [
           "Lob",
           174
          ],
          [
           "Lob",
           144
          ],
          [
           "Lob",
           50
          ],
          [
           "Lob",
           153
          ],
          [
           "Lob",
           179
          ],
          [
           "Lob",
           160
          ],
          [
           "Lob",
           131
          ],
          [
           "Lob",
           143
          ],
          [
           "Lob",
           145
          ],
          [
           "Lob",
           93
          ],
          [
           "Lob",
           132
          ],
          [
           "Lob",
           312
          ],
          [
           "Lob",
           270
          ]
         ],
         "hovertemplate": "CustomName=%{customdata[0]}<br>yearquarter=%{x}<br>Topic_Ratio=%{y}<br>count_x=%{customdata[1]}<extra></extra>",
         "legendgroup": "Lob",
         "line": {
          "color": "#4FB286",
          "dash": "solid",
          "width": 2
         },
         "marker": {
          "symbol": "circle"
         },
         "mode": "lines",
         "name": "Lob",
         "orientation": "v",
         "showlegend": true,
         "text": [
          "Ausstattung Qualität Rollmaterial",
          "Corona",
          "Fahrplanangebot",
          "Feedback Umfrage",
          "Internet, Wlan und Mobilfunk",
          "Kommerzielle Angebote",
          "Kundeninformation",
          "Lob",
          "Outlier",
          "Platzangebot Velo, Gepäck, Kinderwagen",
          "Platzangebot Zug",
          "Preis-Leistung",
          "Pünktlichkeit",
          "Raumtemperatur Zug",
          "Sauberkeit Zug und Bahnhof",
          "Security",
          "Sonstiges",
          "Vertrieb und Services",
          "WC Verfügbarkeit und Sauberkeit",
          "Ausstattung Qualität Rollmaterial",
          "Corona",
          "Fahrplanangebot",
          "Feedback Umfrage",
          "Internet, Wlan und Mobilfunk",
          "Kommerzielle Angebote",
          "Kundeninformation",
          "Lob",
          "Outlier",
          "Platzangebot Velo, Gepäck, Kinderwagen",
          "Platzangebot Zug",
          "Preis-Leistung",
          "Pünktlichkeit",
          "Raumtemperatur Zug",
          "Sauberkeit Zug und Bahnhof",
          "Security",
          "Sonstiges",
          "Vertrieb und Services",
          "WC Verfügbarkeit und Sauberkeit",
          "Ausstattung Qualität Rollmaterial",
          "Corona",
          "Fahrplanangebot",
          "Feedback Umfrage",
          "Internet, Wlan und Mobilfunk",
          "Kommerzielle Angebote",
          "Kundeninformation",
          "Lob",
          "Outlier",
          "Platzangebot Velo, Gepäck, Kinderwagen",
          "Platzangebot Zug",
          "Preis-Leistung",
          "Pünktlichkeit",
          "Raumtemperatur Zug",
          "Sauberkeit Zug und Bahnhof",
          "Security",
          "Sonstiges",
          "Vertrieb und Services",
          "WC Verfügbarkeit und Sauberkeit",
          "Ausstattung Qualität Rollmaterial",
          "Corona",
          "Fahrplanangebot",
          "Feedback Umfrage",
          "Internet, Wlan und Mobilfunk",
          "Kommerzielle Angebote",
          "Kundeninformation",
          "Lob",
          "Outlier",
          "Platzangebot Velo, Gepäck, Kinderwagen",
          "Platzangebot Zug",
          "Preis-Leistung",
          "Pünktlichkeit",
          "Raumtemperatur Zug",
          "Sauberkeit Zug und Bahnhof",
          "Security",
          "Sonstiges",
          "Vertrieb und Services",
          "WC Verfügbarkeit und Sauberkeit",
          "Ausstattung Qualität Rollmaterial",
          "Corona",
          "Fahrplanangebot",
          "Feedback Umfrage",
          "Internet, Wlan und Mobilfunk",
          "Kommerzielle Angebote",
          "Kundeninformation",
          "Lob",
          "Outlier",
          "Platzangebot Velo, Gepäck, Kinderwagen",
          "Platzangebot Zug",
          "Preis-Leistung",
          "Pünktlichkeit",
          "Raumtemperatur Zug",
          "Sauberkeit Zug und Bahnhof",
          "Security",
          "Sonstiges",
          "Vertrieb und Services",
          "WC Verfügbarkeit und Sauberkeit",
          "Ausstattung Qualität Rollmaterial",
          "Corona",
          "Fahrplanangebot",
          "Feedback Umfrage",
          "Internet, Wlan und Mobilfunk",
          "Kommerzielle Angebote",
          "Kundeninformation",
          "Lob",
          "Outlier",
          "Platzangebot Velo, Gepäck, Kinderwagen",
          "Platzangebot Zug",
          "Preis-Leistung",
          "Pünktlichkeit",
          "Raumtemperatur Zug",
          "Sauberkeit Zug und Bahnhof",
          "Security",
          "Sonstiges",
          "Vertrieb und Services",
          "WC Verfügbarkeit und Sauberkeit",
          "Ausstattung Qualität Rollmaterial",
          "Corona",
          "Fahrplanangebot",
          "Feedback Umfrage",
          "Internet, Wlan und Mobilfunk",
          "Kommerzielle Angebote",
          "Kundeninformation",
          "Lob",
          "Outlier",
          "Platzangebot Velo, Gepäck, Kinderwagen",
          "Platzangebot Zug",
          "Preis-Leistung",
          "Pünktlichkeit",
          "Raumtemperatur Zug",
          "Sauberkeit Zug und Bahnhof",
          "Security",
          "Sonstiges",
          "Vertrieb und Services",
          "WC Verfügbarkeit und Sauberkeit",
          "Ausstattung Qualität Rollmaterial",
          "Corona",
          "Fahrplanangebot",
          "Feedback Umfrage",
          "Internet, Wlan und Mobilfunk",
          "Kommerzielle Angebote",
          "Kundeninformation",
          "Lob",
          "Outlier",
          "Platzangebot Velo, Gepäck, Kinderwagen",
          "Platzangebot Zug",
          "Preis-Leistung",
          "Pünktlichkeit",
          "Raumtemperatur Zug",
          "Sauberkeit Zug und Bahnhof",
          "Security",
          "Sonstiges",
          "Vertrieb und Services",
          "WC Verfügbarkeit und Sauberkeit",
          "Ausstattung Qualität Rollmaterial",
          "Corona",
          "Fahrplanangebot",
          "Feedback Umfrage",
          "Internet, Wlan und Mobilfunk",
          "Kommerzielle Angebote",
          "Kundeninformation",
          "Lob",
          "Outlier",
          "Platzangebot Velo, Gepäck, Kinderwagen",
          "Platzangebot Zug",
          "Preis-Leistung",
          "Pünktlichkeit",
          "Raumtemperatur Zug",
          "Sauberkeit Zug und Bahnhof",
          "Security",
          "Sonstiges",
          "Vertrieb und Services",
          "WC Verfügbarkeit und Sauberkeit",
          "Ausstattung Qualität Rollmaterial",
          "Corona",
          "Fahrplanangebot",
          "Feedback Umfrage",
          "Internet, Wlan und Mobilfunk",
          "Kommerzielle Angebote",
          "Kundeninformation",
          "Lob",
          "Outlier",
          "Platzangebot Velo, Gepäck, Kinderwagen",
          "Platzangebot Zug",
          "Preis-Leistung",
          "Pünktlichkeit",
          "Raumtemperatur Zug",
          "Sauberkeit Zug und Bahnhof",
          "Security",
          "Sonstiges",
          "Vertrieb und Services",
          "WC Verfügbarkeit und Sauberkeit",
          "Ausstattung Qualität Rollmaterial",
          "Corona",
          "Fahrplanangebot",
          "Feedback Umfrage",
          "Internet, Wlan und Mobilfunk",
          "Kommerzielle Angebote",
          "Kundeninformation",
          "Lob",
          "Outlier",
          "Platzangebot Velo, Gepäck, Kinderwagen",
          "Platzangebot Zug",
          "Preis-Leistung",
          "Pünktlichkeit",
          "Raumtemperatur Zug",
          "Sauberkeit Zug und Bahnhof",
          "Security",
          "Sonstiges",
          "Vertrieb und Services",
          "WC Verfügbarkeit und Sauberkeit",
          "Ausstattung Qualität Rollmaterial",
          "Corona",
          "Fahrplanangebot",
          "Feedback Umfrage",
          "Internet, Wlan und Mobilfunk",
          "Kommerzielle Angebote",
          "Kundeninformation",
          "Lob",
          "Outlier",
          "Platzangebot Velo, Gepäck, Kinderwagen",
          "Platzangebot Zug",
          "Preis-Leistung",
          "Pünktlichkeit",
          "Raumtemperatur Zug",
          "Sauberkeit Zug und Bahnhof",
          "Security",
          "Sonstiges",
          "Vertrieb und Services",
          "WC Verfügbarkeit und Sauberkeit",
          "Ausstattung Qualität Rollmaterial",
          "Corona",
          "Fahrplanangebot",
          "Feedback Umfrage",
          "Internet, Wlan und Mobilfunk",
          "Kommerzielle Angebote",
          "Kundeninformation",
          "Lob",
          "Outlier",
          "Platzangebot Velo, Gepäck, Kinderwagen",
          "Platzangebot Zug",
          "Preis-Leistung",
          "Pünktlichkeit",
          "Raumtemperatur Zug",
          "Sauberkeit Zug und Bahnhof",
          "Security",
          "Sonstiges",
          "Vertrieb und Services",
          "WC Verfügbarkeit und Sauberkeit",
          "Ausstattung Qualität Rollmaterial",
          "Corona",
          "Fahrplanangebot",
          "Feedback Umfrage",
          "Internet, Wlan und Mobilfunk",
          "Kommerzielle Angebote",
          "Kundeninformation",
          "Lob",
          "Outlier",
          "Platzangebot Velo, Gepäck, Kinderwagen",
          "Platzangebot Zug",
          "Preis-Leistung",
          "Pünktlichkeit",
          "Raumtemperatur Zug",
          "Sauberkeit Zug und Bahnhof",
          "Security",
          "Sonstiges",
          "Vertrieb und Services",
          "WC Verfügbarkeit und Sauberkeit",
          "Ausstattung Qualität Rollmaterial",
          "Corona",
          "Fahrplanangebot",
          "Feedback Umfrage",
          "Internet, Wlan und Mobilfunk",
          "Kommerzielle Angebote",
          "Kundeninformation",
          "Lob",
          "Outlier",
          "Platzangebot Velo, Gepäck, Kinderwagen",
          "Platzangebot Zug",
          "Preis-Leistung",
          "Pünktlichkeit",
          "Raumtemperatur Zug",
          "Sauberkeit Zug und Bahnhof",
          "Security",
          "Sonstiges",
          "Vertrieb und Services",
          "WC Verfügbarkeit und Sauberkeit",
          "Ausstattung Qualität Rollmaterial",
          "Corona",
          "Fahrplanangebot",
          "Feedback Umfrage",
          "Internet, Wlan und Mobilfunk",
          "Kommerzielle Angebote",
          "Kundeninformation",
          "Lob",
          "Outlier",
          "Platzangebot Velo, Gepäck, Kinderwagen",
          "Platzangebot Zug",
          "Preis-Leistung",
          "Pünktlichkeit",
          "Raumtemperatur Zug",
          "Sauberkeit Zug und Bahnhof",
          "Security",
          "Sonstiges",
          "Vertrieb und Services",
          "WC Verfügbarkeit und Sauberkeit"
         ],
         "type": "scatter",
         "x": [
          "2019Q1",
          "2019Q2",
          "2019Q3",
          "2019Q4",
          "2020Q1",
          "2020Q2",
          "2020Q3",
          "2020Q4",
          "2021Q1",
          "2021Q2",
          "2021Q3",
          "2021Q4",
          "2022Q1",
          "2022Q2",
          "2022Q3",
          "2022Q4"
         ],
         "xaxis": "x",
         "y": [
          0.040335679480238223,
          0.044549266247379454,
          0.045077433628318585,
          0.05295191722458917,
          0.053136531365313655,
          0.05399568034557235,
          0.050628722700198546,
          0.06887264332435553,
          0.07136485280999108,
          0.06501240694789082,
          0.06751652502360718,
          0.06987951807228916,
          0.056776556776556776,
          0.06108283202221194,
          0.06294129513818843,
          0.06481036965914547
         ],
         "yaxis": "y"
        },
        {
         "customdata": [
          [
           "Outlier",
           18
          ],
          [
           "Outlier",
           19
          ],
          [
           "Outlier",
           6
          ],
          [
           "Outlier",
           21
          ],
          [
           "Outlier",
           18
          ],
          [
           "Outlier",
           4
          ],
          [
           "Outlier",
           25
          ],
          [
           "Outlier",
           24
          ],
          [
           "Outlier",
           31
          ],
          [
           "Outlier",
           19
          ],
          [
           "Outlier",
           18
          ],
          [
           "Outlier",
           20
          ],
          [
           "Outlier",
           21
          ],
          [
           "Outlier",
           26
          ],
          [
           "Outlier",
           46
          ],
          [
           "Outlier",
           44
          ]
         ],
         "hovertemplate": "CustomName=%{customdata[0]}<br>yearquarter=%{x}<br>Topic_Ratio=%{y}<br>count_x=%{customdata[1]}<extra></extra>",
         "legendgroup": "Outlier",
         "line": {
          "color": "#87A07C",
          "dash": "solid",
          "width": 2
         },
         "marker": {
          "symbol": "circle"
         },
         "mode": "lines",
         "name": "Outlier",
         "orientation": "v",
         "showlegend": true,
         "text": [
          "Ausstattung Qualität Rollmaterial",
          "Corona",
          "Fahrplanangebot",
          "Feedback Umfrage",
          "Internet, Wlan und Mobilfunk",
          "Kommerzielle Angebote",
          "Kundeninformation",
          "Lob",
          "Outlier",
          "Platzangebot Velo, Gepäck, Kinderwagen",
          "Platzangebot Zug",
          "Preis-Leistung",
          "Pünktlichkeit",
          "Raumtemperatur Zug",
          "Sauberkeit Zug und Bahnhof",
          "Security",
          "Sonstiges",
          "Vertrieb und Services",
          "WC Verfügbarkeit und Sauberkeit",
          "Ausstattung Qualität Rollmaterial",
          "Corona",
          "Fahrplanangebot",
          "Feedback Umfrage",
          "Internet, Wlan und Mobilfunk",
          "Kommerzielle Angebote",
          "Kundeninformation",
          "Lob",
          "Outlier",
          "Platzangebot Velo, Gepäck, Kinderwagen",
          "Platzangebot Zug",
          "Preis-Leistung",
          "Pünktlichkeit",
          "Raumtemperatur Zug",
          "Sauberkeit Zug und Bahnhof",
          "Security",
          "Sonstiges",
          "Vertrieb und Services",
          "WC Verfügbarkeit und Sauberkeit",
          "Ausstattung Qualität Rollmaterial",
          "Corona",
          "Fahrplanangebot",
          "Feedback Umfrage",
          "Internet, Wlan und Mobilfunk",
          "Kommerzielle Angebote",
          "Kundeninformation",
          "Lob",
          "Outlier",
          "Platzangebot Velo, Gepäck, Kinderwagen",
          "Platzangebot Zug",
          "Preis-Leistung",
          "Pünktlichkeit",
          "Raumtemperatur Zug",
          "Sauberkeit Zug und Bahnhof",
          "Security",
          "Sonstiges",
          "Vertrieb und Services",
          "WC Verfügbarkeit und Sauberkeit",
          "Ausstattung Qualität Rollmaterial",
          "Corona",
          "Fahrplanangebot",
          "Feedback Umfrage",
          "Internet, Wlan und Mobilfunk",
          "Kommerzielle Angebote",
          "Kundeninformation",
          "Lob",
          "Outlier",
          "Platzangebot Velo, Gepäck, Kinderwagen",
          "Platzangebot Zug",
          "Preis-Leistung",
          "Pünktlichkeit",
          "Raumtemperatur Zug",
          "Sauberkeit Zug und Bahnhof",
          "Security",
          "Sonstiges",
          "Vertrieb und Services",
          "WC Verfügbarkeit und Sauberkeit",
          "Ausstattung Qualität Rollmaterial",
          "Corona",
          "Fahrplanangebot",
          "Feedback Umfrage",
          "Internet, Wlan und Mobilfunk",
          "Kommerzielle Angebote",
          "Kundeninformation",
          "Lob",
          "Outlier",
          "Platzangebot Velo, Gepäck, Kinderwagen",
          "Platzangebot Zug",
          "Preis-Leistung",
          "Pünktlichkeit",
          "Raumtemperatur Zug",
          "Sauberkeit Zug und Bahnhof",
          "Security",
          "Sonstiges",
          "Vertrieb und Services",
          "WC Verfügbarkeit und Sauberkeit",
          "Ausstattung Qualität Rollmaterial",
          "Corona",
          "Fahrplanangebot",
          "Feedback Umfrage",
          "Internet, Wlan und Mobilfunk",
          "Kommerzielle Angebote",
          "Kundeninformation",
          "Lob",
          "Outlier",
          "Platzangebot Velo, Gepäck, Kinderwagen",
          "Platzangebot Zug",
          "Preis-Leistung",
          "Pünktlichkeit",
          "Raumtemperatur Zug",
          "Sauberkeit Zug und Bahnhof",
          "Security",
          "Sonstiges",
          "Vertrieb und Services",
          "WC Verfügbarkeit und Sauberkeit",
          "Ausstattung Qualität Rollmaterial",
          "Corona",
          "Fahrplanangebot",
          "Feedback Umfrage",
          "Internet, Wlan und Mobilfunk",
          "Kommerzielle Angebote",
          "Kundeninformation",
          "Lob",
          "Outlier",
          "Platzangebot Velo, Gepäck, Kinderwagen",
          "Platzangebot Zug",
          "Preis-Leistung",
          "Pünktlichkeit",
          "Raumtemperatur Zug",
          "Sauberkeit Zug und Bahnhof",
          "Security",
          "Sonstiges",
          "Vertrieb und Services",
          "WC Verfügbarkeit und Sauberkeit",
          "Ausstattung Qualität Rollmaterial",
          "Corona",
          "Fahrplanangebot",
          "Feedback Umfrage",
          "Internet, Wlan und Mobilfunk",
          "Kommerzielle Angebote",
          "Kundeninformation",
          "Lob",
          "Outlier",
          "Platzangebot Velo, Gepäck, Kinderwagen",
          "Platzangebot Zug",
          "Preis-Leistung",
          "Pünktlichkeit",
          "Raumtemperatur Zug",
          "Sauberkeit Zug und Bahnhof",
          "Security",
          "Sonstiges",
          "Vertrieb und Services",
          "WC Verfügbarkeit und Sauberkeit",
          "Ausstattung Qualität Rollmaterial",
          "Corona",
          "Fahrplanangebot",
          "Feedback Umfrage",
          "Internet, Wlan und Mobilfunk",
          "Kommerzielle Angebote",
          "Kundeninformation",
          "Lob",
          "Outlier",
          "Platzangebot Velo, Gepäck, Kinderwagen",
          "Platzangebot Zug",
          "Preis-Leistung",
          "Pünktlichkeit",
          "Raumtemperatur Zug",
          "Sauberkeit Zug und Bahnhof",
          "Security",
          "Sonstiges",
          "Vertrieb und Services",
          "WC Verfügbarkeit und Sauberkeit",
          "Ausstattung Qualität Rollmaterial",
          "Corona",
          "Fahrplanangebot",
          "Feedback Umfrage",
          "Internet, Wlan und Mobilfunk",
          "Kommerzielle Angebote",
          "Kundeninformation",
          "Lob",
          "Outlier",
          "Platzangebot Velo, Gepäck, Kinderwagen",
          "Platzangebot Zug",
          "Preis-Leistung",
          "Pünktlichkeit",
          "Raumtemperatur Zug",
          "Sauberkeit Zug und Bahnhof",
          "Security",
          "Sonstiges",
          "Vertrieb und Services",
          "WC Verfügbarkeit und Sauberkeit",
          "Ausstattung Qualität Rollmaterial",
          "Corona",
          "Fahrplanangebot",
          "Feedback Umfrage",
          "Internet, Wlan und Mobilfunk",
          "Kommerzielle Angebote",
          "Kundeninformation",
          "Lob",
          "Outlier",
          "Platzangebot Velo, Gepäck, Kinderwagen",
          "Platzangebot Zug",
          "Preis-Leistung",
          "Pünktlichkeit",
          "Raumtemperatur Zug",
          "Sauberkeit Zug und Bahnhof",
          "Security",
          "Sonstiges",
          "Vertrieb und Services",
          "WC Verfügbarkeit und Sauberkeit",
          "Ausstattung Qualität Rollmaterial",
          "Corona",
          "Fahrplanangebot",
          "Feedback Umfrage",
          "Internet, Wlan und Mobilfunk",
          "Kommerzielle Angebote",
          "Kundeninformation",
          "Lob",
          "Outlier",
          "Platzangebot Velo, Gepäck, Kinderwagen",
          "Platzangebot Zug",
          "Preis-Leistung",
          "Pünktlichkeit",
          "Raumtemperatur Zug",
          "Sauberkeit Zug und Bahnhof",
          "Security",
          "Sonstiges",
          "Vertrieb und Services",
          "WC Verfügbarkeit und Sauberkeit",
          "Ausstattung Qualität Rollmaterial",
          "Corona",
          "Fahrplanangebot",
          "Feedback Umfrage",
          "Internet, Wlan und Mobilfunk",
          "Kommerzielle Angebote",
          "Kundeninformation",
          "Lob",
          "Outlier",
          "Platzangebot Velo, Gepäck, Kinderwagen",
          "Platzangebot Zug",
          "Preis-Leistung",
          "Pünktlichkeit",
          "Raumtemperatur Zug",
          "Sauberkeit Zug und Bahnhof",
          "Security",
          "Sonstiges",
          "Vertrieb und Services",
          "WC Verfügbarkeit und Sauberkeit",
          "Ausstattung Qualität Rollmaterial",
          "Corona",
          "Fahrplanangebot",
          "Feedback Umfrage",
          "Internet, Wlan und Mobilfunk",
          "Kommerzielle Angebote",
          "Kundeninformation",
          "Lob",
          "Outlier",
          "Platzangebot Velo, Gepäck, Kinderwagen",
          "Platzangebot Zug",
          "Preis-Leistung",
          "Pünktlichkeit",
          "Raumtemperatur Zug",
          "Sauberkeit Zug und Bahnhof",
          "Security",
          "Sonstiges",
          "Vertrieb und Services",
          "WC Verfügbarkeit und Sauberkeit",
          "Ausstattung Qualität Rollmaterial",
          "Corona",
          "Fahrplanangebot",
          "Feedback Umfrage",
          "Internet, Wlan und Mobilfunk",
          "Kommerzielle Angebote",
          "Kundeninformation",
          "Lob",
          "Outlier",
          "Platzangebot Velo, Gepäck, Kinderwagen",
          "Platzangebot Zug",
          "Preis-Leistung",
          "Pünktlichkeit",
          "Raumtemperatur Zug",
          "Sauberkeit Zug und Bahnhof",
          "Security",
          "Sonstiges",
          "Vertrieb und Services",
          "WC Verfügbarkeit und Sauberkeit",
          "Ausstattung Qualität Rollmaterial",
          "Corona",
          "Fahrplanangebot",
          "Feedback Umfrage",
          "Internet, Wlan und Mobilfunk",
          "Kommerzielle Angebote",
          "Kundeninformation",
          "Lob",
          "Outlier",
          "Platzangebot Velo, Gepäck, Kinderwagen",
          "Platzangebot Zug",
          "Preis-Leistung",
          "Pünktlichkeit",
          "Raumtemperatur Zug",
          "Sauberkeit Zug und Bahnhof",
          "Security",
          "Sonstiges",
          "Vertrieb und Services",
          "WC Verfügbarkeit und Sauberkeit"
         ],
         "type": "scatter",
         "x": [
          "2019Q1",
          "2019Q2",
          "2019Q3",
          "2019Q4",
          "2020Q1",
          "2020Q2",
          "2020Q3",
          "2020Q4",
          "2021Q1",
          "2021Q2",
          "2021Q3",
          "2021Q4",
          "2022Q1",
          "2022Q2",
          "2022Q3",
          "2022Q4"
         ],
         "xaxis": "x",
         "y": [
          0.004872766648619383,
          0.004979035639412998,
          0.00165929203539823,
          0.006390748630553865,
          0.006642066420664207,
          0.004319654427645789,
          0.00827266710787558,
          0.00923432089265102,
          0.013826940231935772,
          0.009429280397022333,
          0.0084985835694051,
          0.00963855421686747,
          0.01282051282051282,
          0.012031466913465988,
          0.009279806334476498,
          0.01056168987037926
         ],
         "yaxis": "y"
        },
        {
         "customdata": [
          [
           "Platzangebot Velo, Gepäck, Kinderwagen",
           157
          ],
          [
           "Platzangebot Velo, Gepäck, Kinderwagen",
           198
          ],
          [
           "Platzangebot Velo, Gepäck, Kinderwagen",
           240
          ],
          [
           "Platzangebot Velo, Gepäck, Kinderwagen",
           103
          ],
          [
           "Platzangebot Velo, Gepäck, Kinderwagen",
           107
          ],
          [
           "Platzangebot Velo, Gepäck, Kinderwagen",
           40
          ],
          [
           "Platzangebot Velo, Gepäck, Kinderwagen",
           140
          ],
          [
           "Platzangebot Velo, Gepäck, Kinderwagen",
           72
          ],
          [
           "Platzangebot Velo, Gepäck, Kinderwagen",
           66
          ],
          [
           "Platzangebot Velo, Gepäck, Kinderwagen",
           131
          ],
          [
           "Platzangebot Velo, Gepäck, Kinderwagen",
           125
          ],
          [
           "Platzangebot Velo, Gepäck, Kinderwagen",
           67
          ],
          [
           "Platzangebot Velo, Gepäck, Kinderwagen",
           58
          ],
          [
           "Platzangebot Velo, Gepäck, Kinderwagen",
           132
          ],
          [
           "Platzangebot Velo, Gepäck, Kinderwagen",
           396
          ],
          [
           "Platzangebot Velo, Gepäck, Kinderwagen",
           203
          ]
         ],
         "hovertemplate": "CustomName=%{customdata[0]}<br>yearquarter=%{x}<br>Topic_Ratio=%{y}<br>count_x=%{customdata[1]}<extra></extra>",
         "legendgroup": "Platzangebot Velo, Gepäck, Kinderwagen",
         "line": {
          "color": "#74A4BC",
          "dash": "solid",
          "width": 2
         },
         "marker": {
          "symbol": "circle"
         },
         "mode": "lines",
         "name": "Platzangebot Velo, Gepäck, Kinderwagen",
         "orientation": "v",
         "showlegend": true,
         "text": [
          "Ausstattung Qualität Rollmaterial",
          "Corona",
          "Fahrplanangebot",
          "Feedback Umfrage",
          "Internet, Wlan und Mobilfunk",
          "Kommerzielle Angebote",
          "Kundeninformation",
          "Lob",
          "Outlier",
          "Platzangebot Velo, Gepäck, Kinderwagen",
          "Platzangebot Zug",
          "Preis-Leistung",
          "Pünktlichkeit",
          "Raumtemperatur Zug",
          "Sauberkeit Zug und Bahnhof",
          "Security",
          "Sonstiges",
          "Vertrieb und Services",
          "WC Verfügbarkeit und Sauberkeit",
          "Ausstattung Qualität Rollmaterial",
          "Corona",
          "Fahrplanangebot",
          "Feedback Umfrage",
          "Internet, Wlan und Mobilfunk",
          "Kommerzielle Angebote",
          "Kundeninformation",
          "Lob",
          "Outlier",
          "Platzangebot Velo, Gepäck, Kinderwagen",
          "Platzangebot Zug",
          "Preis-Leistung",
          "Pünktlichkeit",
          "Raumtemperatur Zug",
          "Sauberkeit Zug und Bahnhof",
          "Security",
          "Sonstiges",
          "Vertrieb und Services",
          "WC Verfügbarkeit und Sauberkeit",
          "Ausstattung Qualität Rollmaterial",
          "Corona",
          "Fahrplanangebot",
          "Feedback Umfrage",
          "Internet, Wlan und Mobilfunk",
          "Kommerzielle Angebote",
          "Kundeninformation",
          "Lob",
          "Outlier",
          "Platzangebot Velo, Gepäck, Kinderwagen",
          "Platzangebot Zug",
          "Preis-Leistung",
          "Pünktlichkeit",
          "Raumtemperatur Zug",
          "Sauberkeit Zug und Bahnhof",
          "Security",
          "Sonstiges",
          "Vertrieb und Services",
          "WC Verfügbarkeit und Sauberkeit",
          "Ausstattung Qualität Rollmaterial",
          "Corona",
          "Fahrplanangebot",
          "Feedback Umfrage",
          "Internet, Wlan und Mobilfunk",
          "Kommerzielle Angebote",
          "Kundeninformation",
          "Lob",
          "Outlier",
          "Platzangebot Velo, Gepäck, Kinderwagen",
          "Platzangebot Zug",
          "Preis-Leistung",
          "Pünktlichkeit",
          "Raumtemperatur Zug",
          "Sauberkeit Zug und Bahnhof",
          "Security",
          "Sonstiges",
          "Vertrieb und Services",
          "WC Verfügbarkeit und Sauberkeit",
          "Ausstattung Qualität Rollmaterial",
          "Corona",
          "Fahrplanangebot",
          "Feedback Umfrage",
          "Internet, Wlan und Mobilfunk",
          "Kommerzielle Angebote",
          "Kundeninformation",
          "Lob",
          "Outlier",
          "Platzangebot Velo, Gepäck, Kinderwagen",
          "Platzangebot Zug",
          "Preis-Leistung",
          "Pünktlichkeit",
          "Raumtemperatur Zug",
          "Sauberkeit Zug und Bahnhof",
          "Security",
          "Sonstiges",
          "Vertrieb und Services",
          "WC Verfügbarkeit und Sauberkeit",
          "Ausstattung Qualität Rollmaterial",
          "Corona",
          "Fahrplanangebot",
          "Feedback Umfrage",
          "Internet, Wlan und Mobilfunk",
          "Kommerzielle Angebote",
          "Kundeninformation",
          "Lob",
          "Outlier",
          "Platzangebot Velo, Gepäck, Kinderwagen",
          "Platzangebot Zug",
          "Preis-Leistung",
          "Pünktlichkeit",
          "Raumtemperatur Zug",
          "Sauberkeit Zug und Bahnhof",
          "Security",
          "Sonstiges",
          "Vertrieb und Services",
          "WC Verfügbarkeit und Sauberkeit",
          "Ausstattung Qualität Rollmaterial",
          "Corona",
          "Fahrplanangebot",
          "Feedback Umfrage",
          "Internet, Wlan und Mobilfunk",
          "Kommerzielle Angebote",
          "Kundeninformation",
          "Lob",
          "Outlier",
          "Platzangebot Velo, Gepäck, Kinderwagen",
          "Platzangebot Zug",
          "Preis-Leistung",
          "Pünktlichkeit",
          "Raumtemperatur Zug",
          "Sauberkeit Zug und Bahnhof",
          "Security",
          "Sonstiges",
          "Vertrieb und Services",
          "WC Verfügbarkeit und Sauberkeit",
          "Ausstattung Qualität Rollmaterial",
          "Corona",
          "Fahrplanangebot",
          "Feedback Umfrage",
          "Internet, Wlan und Mobilfunk",
          "Kommerzielle Angebote",
          "Kundeninformation",
          "Lob",
          "Outlier",
          "Platzangebot Velo, Gepäck, Kinderwagen",
          "Platzangebot Zug",
          "Preis-Leistung",
          "Pünktlichkeit",
          "Raumtemperatur Zug",
          "Sauberkeit Zug und Bahnhof",
          "Security",
          "Sonstiges",
          "Vertrieb und Services",
          "WC Verfügbarkeit und Sauberkeit",
          "Ausstattung Qualität Rollmaterial",
          "Corona",
          "Fahrplanangebot",
          "Feedback Umfrage",
          "Internet, Wlan und Mobilfunk",
          "Kommerzielle Angebote",
          "Kundeninformation",
          "Lob",
          "Outlier",
          "Platzangebot Velo, Gepäck, Kinderwagen",
          "Platzangebot Zug",
          "Preis-Leistung",
          "Pünktlichkeit",
          "Raumtemperatur Zug",
          "Sauberkeit Zug und Bahnhof",
          "Security",
          "Sonstiges",
          "Vertrieb und Services",
          "WC Verfügbarkeit und Sauberkeit",
          "Ausstattung Qualität Rollmaterial",
          "Corona",
          "Fahrplanangebot",
          "Feedback Umfrage",
          "Internet, Wlan und Mobilfunk",
          "Kommerzielle Angebote",
          "Kundeninformation",
          "Lob",
          "Outlier",
          "Platzangebot Velo, Gepäck, Kinderwagen",
          "Platzangebot Zug",
          "Preis-Leistung",
          "Pünktlichkeit",
          "Raumtemperatur Zug",
          "Sauberkeit Zug und Bahnhof",
          "Security",
          "Sonstiges",
          "Vertrieb und Services",
          "WC Verfügbarkeit und Sauberkeit",
          "Ausstattung Qualität Rollmaterial",
          "Corona",
          "Fahrplanangebot",
          "Feedback Umfrage",
          "Internet, Wlan und Mobilfunk",
          "Kommerzielle Angebote",
          "Kundeninformation",
          "Lob",
          "Outlier",
          "Platzangebot Velo, Gepäck, Kinderwagen",
          "Platzangebot Zug",
          "Preis-Leistung",
          "Pünktlichkeit",
          "Raumtemperatur Zug",
          "Sauberkeit Zug und Bahnhof",
          "Security",
          "Sonstiges",
          "Vertrieb und Services",
          "WC Verfügbarkeit und Sauberkeit",
          "Ausstattung Qualität Rollmaterial",
          "Corona",
          "Fahrplanangebot",
          "Feedback Umfrage",
          "Internet, Wlan und Mobilfunk",
          "Kommerzielle Angebote",
          "Kundeninformation",
          "Lob",
          "Outlier",
          "Platzangebot Velo, Gepäck, Kinderwagen",
          "Platzangebot Zug",
          "Preis-Leistung",
          "Pünktlichkeit",
          "Raumtemperatur Zug",
          "Sauberkeit Zug und Bahnhof",
          "Security",
          "Sonstiges",
          "Vertrieb und Services",
          "WC Verfügbarkeit und Sauberkeit",
          "Ausstattung Qualität Rollmaterial",
          "Corona",
          "Fahrplanangebot",
          "Feedback Umfrage",
          "Internet, Wlan und Mobilfunk",
          "Kommerzielle Angebote",
          "Kundeninformation",
          "Lob",
          "Outlier",
          "Platzangebot Velo, Gepäck, Kinderwagen",
          "Platzangebot Zug",
          "Preis-Leistung",
          "Pünktlichkeit",
          "Raumtemperatur Zug",
          "Sauberkeit Zug und Bahnhof",
          "Security",
          "Sonstiges",
          "Vertrieb und Services",
          "WC Verfügbarkeit und Sauberkeit",
          "Ausstattung Qualität Rollmaterial",
          "Corona",
          "Fahrplanangebot",
          "Feedback Umfrage",
          "Internet, Wlan und Mobilfunk",
          "Kommerzielle Angebote",
          "Kundeninformation",
          "Lob",
          "Outlier",
          "Platzangebot Velo, Gepäck, Kinderwagen",
          "Platzangebot Zug",
          "Preis-Leistung",
          "Pünktlichkeit",
          "Raumtemperatur Zug",
          "Sauberkeit Zug und Bahnhof",
          "Security",
          "Sonstiges",
          "Vertrieb und Services",
          "WC Verfügbarkeit und Sauberkeit",
          "Ausstattung Qualität Rollmaterial",
          "Corona",
          "Fahrplanangebot",
          "Feedback Umfrage",
          "Internet, Wlan und Mobilfunk",
          "Kommerzielle Angebote",
          "Kundeninformation",
          "Lob",
          "Outlier",
          "Platzangebot Velo, Gepäck, Kinderwagen",
          "Platzangebot Zug",
          "Preis-Leistung",
          "Pünktlichkeit",
          "Raumtemperatur Zug",
          "Sauberkeit Zug und Bahnhof",
          "Security",
          "Sonstiges",
          "Vertrieb und Services",
          "WC Verfügbarkeit und Sauberkeit",
          "Ausstattung Qualität Rollmaterial",
          "Corona",
          "Fahrplanangebot",
          "Feedback Umfrage",
          "Internet, Wlan und Mobilfunk",
          "Kommerzielle Angebote",
          "Kundeninformation",
          "Lob",
          "Outlier",
          "Platzangebot Velo, Gepäck, Kinderwagen",
          "Platzangebot Zug",
          "Preis-Leistung",
          "Pünktlichkeit",
          "Raumtemperatur Zug",
          "Sauberkeit Zug und Bahnhof",
          "Security",
          "Sonstiges",
          "Vertrieb und Services",
          "WC Verfügbarkeit und Sauberkeit"
         ],
         "type": "scatter",
         "x": [
          "2019Q1",
          "2019Q2",
          "2019Q3",
          "2019Q4",
          "2020Q1",
          "2020Q2",
          "2020Q3",
          "2020Q4",
          "2021Q1",
          "2021Q2",
          "2021Q3",
          "2021Q4",
          "2022Q1",
          "2022Q2",
          "2022Q3",
          "2022Q4"
         ],
         "xaxis": "x",
         "y": [
          0.04250135354629128,
          0.05188679245283019,
          0.06637168141592921,
          0.03134510042604991,
          0.03948339483394834,
          0.04319654427645788,
          0.04632693580410324,
          0.02770296267795306,
          0.029438001784121322,
          0.06501240694789082,
          0.059017941454202076,
          0.03228915662650603,
          0.03540903540903541,
          0.06108283202221194,
          0.07988702844462377,
          0.04872779644743159
         ],
         "yaxis": "y"
        },
        {
         "customdata": [
          [
           "Platzangebot Zug",
           494
          ],
          [
           "Platzangebot Zug",
           488
          ],
          [
           "Platzangebot Zug",
           508
          ],
          [
           "Platzangebot Zug",
           468
          ],
          [
           "Platzangebot Zug",
           309
          ],
          [
           "Platzangebot Zug",
           70
          ],
          [
           "Platzangebot Zug",
           209
          ],
          [
           "Platzangebot Zug",
           193
          ],
          [
           "Platzangebot Zug",
           179
          ],
          [
           "Platzangebot Zug",
           162
          ],
          [
           "Platzangebot Zug",
           225
          ],
          [
           "Platzangebot Zug",
           199
          ],
          [
           "Platzangebot Zug",
           151
          ],
          [
           "Platzangebot Zug",
           252
          ],
          [
           "Platzangebot Zug",
           657
          ],
          [
           "Platzangebot Zug",
           559
          ]
         ],
         "hovertemplate": "CustomName=%{customdata[0]}<br>yearquarter=%{x}<br>Topic_Ratio=%{y}<br>count_x=%{customdata[1]}<extra></extra>",
         "legendgroup": "Platzangebot Zug",
         "line": {
          "color": "#F0C7ED",
          "dash": "solid",
          "width": 2
         },
         "marker": {
          "symbol": "circle"
         },
         "mode": "lines",
         "name": "Platzangebot Zug",
         "orientation": "v",
         "showlegend": true,
         "text": [
          "Ausstattung Qualität Rollmaterial",
          "Corona",
          "Fahrplanangebot",
          "Feedback Umfrage",
          "Internet, Wlan und Mobilfunk",
          "Kommerzielle Angebote",
          "Kundeninformation",
          "Lob",
          "Outlier",
          "Platzangebot Velo, Gepäck, Kinderwagen",
          "Platzangebot Zug",
          "Preis-Leistung",
          "Pünktlichkeit",
          "Raumtemperatur Zug",
          "Sauberkeit Zug und Bahnhof",
          "Security",
          "Sonstiges",
          "Vertrieb und Services",
          "WC Verfügbarkeit und Sauberkeit",
          "Ausstattung Qualität Rollmaterial",
          "Corona",
          "Fahrplanangebot",
          "Feedback Umfrage",
          "Internet, Wlan und Mobilfunk",
          "Kommerzielle Angebote",
          "Kundeninformation",
          "Lob",
          "Outlier",
          "Platzangebot Velo, Gepäck, Kinderwagen",
          "Platzangebot Zug",
          "Preis-Leistung",
          "Pünktlichkeit",
          "Raumtemperatur Zug",
          "Sauberkeit Zug und Bahnhof",
          "Security",
          "Sonstiges",
          "Vertrieb und Services",
          "WC Verfügbarkeit und Sauberkeit",
          "Ausstattung Qualität Rollmaterial",
          "Corona",
          "Fahrplanangebot",
          "Feedback Umfrage",
          "Internet, Wlan und Mobilfunk",
          "Kommerzielle Angebote",
          "Kundeninformation",
          "Lob",
          "Outlier",
          "Platzangebot Velo, Gepäck, Kinderwagen",
          "Platzangebot Zug",
          "Preis-Leistung",
          "Pünktlichkeit",
          "Raumtemperatur Zug",
          "Sauberkeit Zug und Bahnhof",
          "Security",
          "Sonstiges",
          "Vertrieb und Services",
          "WC Verfügbarkeit und Sauberkeit",
          "Ausstattung Qualität Rollmaterial",
          "Corona",
          "Fahrplanangebot",
          "Feedback Umfrage",
          "Internet, Wlan und Mobilfunk",
          "Kommerzielle Angebote",
          "Kundeninformation",
          "Lob",
          "Outlier",
          "Platzangebot Velo, Gepäck, Kinderwagen",
          "Platzangebot Zug",
          "Preis-Leistung",
          "Pünktlichkeit",
          "Raumtemperatur Zug",
          "Sauberkeit Zug und Bahnhof",
          "Security",
          "Sonstiges",
          "Vertrieb und Services",
          "WC Verfügbarkeit und Sauberkeit",
          "Ausstattung Qualität Rollmaterial",
          "Corona",
          "Fahrplanangebot",
          "Feedback Umfrage",
          "Internet, Wlan und Mobilfunk",
          "Kommerzielle Angebote",
          "Kundeninformation",
          "Lob",
          "Outlier",
          "Platzangebot Velo, Gepäck, Kinderwagen",
          "Platzangebot Zug",
          "Preis-Leistung",
          "Pünktlichkeit",
          "Raumtemperatur Zug",
          "Sauberkeit Zug und Bahnhof",
          "Security",
          "Sonstiges",
          "Vertrieb und Services",
          "WC Verfügbarkeit und Sauberkeit",
          "Ausstattung Qualität Rollmaterial",
          "Corona",
          "Fahrplanangebot",
          "Feedback Umfrage",
          "Internet, Wlan und Mobilfunk",
          "Kommerzielle Angebote",
          "Kundeninformation",
          "Lob",
          "Outlier",
          "Platzangebot Velo, Gepäck, Kinderwagen",
          "Platzangebot Zug",
          "Preis-Leistung",
          "Pünktlichkeit",
          "Raumtemperatur Zug",
          "Sauberkeit Zug und Bahnhof",
          "Security",
          "Sonstiges",
          "Vertrieb und Services",
          "WC Verfügbarkeit und Sauberkeit",
          "Ausstattung Qualität Rollmaterial",
          "Corona",
          "Fahrplanangebot",
          "Feedback Umfrage",
          "Internet, Wlan und Mobilfunk",
          "Kommerzielle Angebote",
          "Kundeninformation",
          "Lob",
          "Outlier",
          "Platzangebot Velo, Gepäck, Kinderwagen",
          "Platzangebot Zug",
          "Preis-Leistung",
          "Pünktlichkeit",
          "Raumtemperatur Zug",
          "Sauberkeit Zug und Bahnhof",
          "Security",
          "Sonstiges",
          "Vertrieb und Services",
          "WC Verfügbarkeit und Sauberkeit",
          "Ausstattung Qualität Rollmaterial",
          "Corona",
          "Fahrplanangebot",
          "Feedback Umfrage",
          "Internet, Wlan und Mobilfunk",
          "Kommerzielle Angebote",
          "Kundeninformation",
          "Lob",
          "Outlier",
          "Platzangebot Velo, Gepäck, Kinderwagen",
          "Platzangebot Zug",
          "Preis-Leistung",
          "Pünktlichkeit",
          "Raumtemperatur Zug",
          "Sauberkeit Zug und Bahnhof",
          "Security",
          "Sonstiges",
          "Vertrieb und Services",
          "WC Verfügbarkeit und Sauberkeit",
          "Ausstattung Qualität Rollmaterial",
          "Corona",
          "Fahrplanangebot",
          "Feedback Umfrage",
          "Internet, Wlan und Mobilfunk",
          "Kommerzielle Angebote",
          "Kundeninformation",
          "Lob",
          "Outlier",
          "Platzangebot Velo, Gepäck, Kinderwagen",
          "Platzangebot Zug",
          "Preis-Leistung",
          "Pünktlichkeit",
          "Raumtemperatur Zug",
          "Sauberkeit Zug und Bahnhof",
          "Security",
          "Sonstiges",
          "Vertrieb und Services",
          "WC Verfügbarkeit und Sauberkeit",
          "Ausstattung Qualität Rollmaterial",
          "Corona",
          "Fahrplanangebot",
          "Feedback Umfrage",
          "Internet, Wlan und Mobilfunk",
          "Kommerzielle Angebote",
          "Kundeninformation",
          "Lob",
          "Outlier",
          "Platzangebot Velo, Gepäck, Kinderwagen",
          "Platzangebot Zug",
          "Preis-Leistung",
          "Pünktlichkeit",
          "Raumtemperatur Zug",
          "Sauberkeit Zug und Bahnhof",
          "Security",
          "Sonstiges",
          "Vertrieb und Services",
          "WC Verfügbarkeit und Sauberkeit",
          "Ausstattung Qualität Rollmaterial",
          "Corona",
          "Fahrplanangebot",
          "Feedback Umfrage",
          "Internet, Wlan und Mobilfunk",
          "Kommerzielle Angebote",
          "Kundeninformation",
          "Lob",
          "Outlier",
          "Platzangebot Velo, Gepäck, Kinderwagen",
          "Platzangebot Zug",
          "Preis-Leistung",
          "Pünktlichkeit",
          "Raumtemperatur Zug",
          "Sauberkeit Zug und Bahnhof",
          "Security",
          "Sonstiges",
          "Vertrieb und Services",
          "WC Verfügbarkeit und Sauberkeit",
          "Ausstattung Qualität Rollmaterial",
          "Corona",
          "Fahrplanangebot",
          "Feedback Umfrage",
          "Internet, Wlan und Mobilfunk",
          "Kommerzielle Angebote",
          "Kundeninformation",
          "Lob",
          "Outlier",
          "Platzangebot Velo, Gepäck, Kinderwagen",
          "Platzangebot Zug",
          "Preis-Leistung",
          "Pünktlichkeit",
          "Raumtemperatur Zug",
          "Sauberkeit Zug und Bahnhof",
          "Security",
          "Sonstiges",
          "Vertrieb und Services",
          "WC Verfügbarkeit und Sauberkeit",
          "Ausstattung Qualität Rollmaterial",
          "Corona",
          "Fahrplanangebot",
          "Feedback Umfrage",
          "Internet, Wlan und Mobilfunk",
          "Kommerzielle Angebote",
          "Kundeninformation",
          "Lob",
          "Outlier",
          "Platzangebot Velo, Gepäck, Kinderwagen",
          "Platzangebot Zug",
          "Preis-Leistung",
          "Pünktlichkeit",
          "Raumtemperatur Zug",
          "Sauberkeit Zug und Bahnhof",
          "Security",
          "Sonstiges",
          "Vertrieb und Services",
          "WC Verfügbarkeit und Sauberkeit",
          "Ausstattung Qualität Rollmaterial",
          "Corona",
          "Fahrplanangebot",
          "Feedback Umfrage",
          "Internet, Wlan und Mobilfunk",
          "Kommerzielle Angebote",
          "Kundeninformation",
          "Lob",
          "Outlier",
          "Platzangebot Velo, Gepäck, Kinderwagen",
          "Platzangebot Zug",
          "Preis-Leistung",
          "Pünktlichkeit",
          "Raumtemperatur Zug",
          "Sauberkeit Zug und Bahnhof",
          "Security",
          "Sonstiges",
          "Vertrieb und Services",
          "WC Verfügbarkeit und Sauberkeit",
          "Ausstattung Qualität Rollmaterial",
          "Corona",
          "Fahrplanangebot",
          "Feedback Umfrage",
          "Internet, Wlan und Mobilfunk",
          "Kommerzielle Angebote",
          "Kundeninformation",
          "Lob",
          "Outlier",
          "Platzangebot Velo, Gepäck, Kinderwagen",
          "Platzangebot Zug",
          "Preis-Leistung",
          "Pünktlichkeit",
          "Raumtemperatur Zug",
          "Sauberkeit Zug und Bahnhof",
          "Security",
          "Sonstiges",
          "Vertrieb und Services",
          "WC Verfügbarkeit und Sauberkeit",
          "Ausstattung Qualität Rollmaterial",
          "Corona",
          "Fahrplanangebot",
          "Feedback Umfrage",
          "Internet, Wlan und Mobilfunk",
          "Kommerzielle Angebote",
          "Kundeninformation",
          "Lob",
          "Outlier",
          "Platzangebot Velo, Gepäck, Kinderwagen",
          "Platzangebot Zug",
          "Preis-Leistung",
          "Pünktlichkeit",
          "Raumtemperatur Zug",
          "Sauberkeit Zug und Bahnhof",
          "Security",
          "Sonstiges",
          "Vertrieb und Services",
          "WC Verfügbarkeit und Sauberkeit"
         ],
         "type": "scatter",
         "x": [
          "2019Q1",
          "2019Q2",
          "2019Q3",
          "2019Q4",
          "2020Q1",
          "2020Q2",
          "2020Q3",
          "2020Q4",
          "2021Q1",
          "2021Q2",
          "2021Q3",
          "2021Q4",
          "2022Q1",
          "2022Q2",
          "2022Q3",
          "2022Q4"
         ],
         "xaxis": "x",
         "y": [
          0.1337303735787764,
          0.1278825995807128,
          0.1404867256637168,
          0.14242239805234327,
          0.11402214022140221,
          0.0755939524838013,
          0.06915949702183984,
          0.07425933051173528,
          0.07983942908117753,
          0.0803970223325062,
          0.10623229461756374,
          0.09590361445783133,
          0.09218559218559219,
          0.11661267931513189,
          0.13253984264676216,
          0.1341814690350456
         ],
         "yaxis": "y"
        },
        {
         "customdata": [
          [
           "Preis-Leistung",
           425
          ],
          [
           "Preis-Leistung",
           391
          ],
          [
           "Preis-Leistung",
           376
          ],
          [
           "Preis-Leistung",
           338
          ],
          [
           "Preis-Leistung",
           261
          ],
          [
           "Preis-Leistung",
           99
          ],
          [
           "Preis-Leistung",
           296
          ],
          [
           "Preis-Leistung",
           246
          ],
          [
           "Preis-Leistung",
           175
          ],
          [
           "Preis-Leistung",
           188
          ],
          [
           "Preis-Leistung",
           188
          ],
          [
           "Preis-Leistung",
           188
          ],
          [
           "Preis-Leistung",
           141
          ],
          [
           "Preis-Leistung",
           181
          ],
          [
           "Preis-Leistung",
           338
          ],
          [
           "Preis-Leistung",
           275
          ]
         ],
         "hovertemplate": "CustomName=%{customdata[0]}<br>yearquarter=%{x}<br>Topic_Ratio=%{y}<br>count_x=%{customdata[1]}<extra></extra>",
         "legendgroup": "Preis-Leistung",
         "line": {
          "color": "#9C89B8",
          "dash": "solid",
          "width": 2
         },
         "marker": {
          "symbol": "circle"
         },
         "mode": "lines",
         "name": "Preis-Leistung",
         "orientation": "v",
         "showlegend": true,
         "text": [
          "Ausstattung Qualität Rollmaterial",
          "Corona",
          "Fahrplanangebot",
          "Feedback Umfrage",
          "Internet, Wlan und Mobilfunk",
          "Kommerzielle Angebote",
          "Kundeninformation",
          "Lob",
          "Outlier",
          "Platzangebot Velo, Gepäck, Kinderwagen",
          "Platzangebot Zug",
          "Preis-Leistung",
          "Pünktlichkeit",
          "Raumtemperatur Zug",
          "Sauberkeit Zug und Bahnhof",
          "Security",
          "Sonstiges",
          "Vertrieb und Services",
          "WC Verfügbarkeit und Sauberkeit",
          "Ausstattung Qualität Rollmaterial",
          "Corona",
          "Fahrplanangebot",
          "Feedback Umfrage",
          "Internet, Wlan und Mobilfunk",
          "Kommerzielle Angebote",
          "Kundeninformation",
          "Lob",
          "Outlier",
          "Platzangebot Velo, Gepäck, Kinderwagen",
          "Platzangebot Zug",
          "Preis-Leistung",
          "Pünktlichkeit",
          "Raumtemperatur Zug",
          "Sauberkeit Zug und Bahnhof",
          "Security",
          "Sonstiges",
          "Vertrieb und Services",
          "WC Verfügbarkeit und Sauberkeit",
          "Ausstattung Qualität Rollmaterial",
          "Corona",
          "Fahrplanangebot",
          "Feedback Umfrage",
          "Internet, Wlan und Mobilfunk",
          "Kommerzielle Angebote",
          "Kundeninformation",
          "Lob",
          "Outlier",
          "Platzangebot Velo, Gepäck, Kinderwagen",
          "Platzangebot Zug",
          "Preis-Leistung",
          "Pünktlichkeit",
          "Raumtemperatur Zug",
          "Sauberkeit Zug und Bahnhof",
          "Security",
          "Sonstiges",
          "Vertrieb und Services",
          "WC Verfügbarkeit und Sauberkeit",
          "Ausstattung Qualität Rollmaterial",
          "Corona",
          "Fahrplanangebot",
          "Feedback Umfrage",
          "Internet, Wlan und Mobilfunk",
          "Kommerzielle Angebote",
          "Kundeninformation",
          "Lob",
          "Outlier",
          "Platzangebot Velo, Gepäck, Kinderwagen",
          "Platzangebot Zug",
          "Preis-Leistung",
          "Pünktlichkeit",
          "Raumtemperatur Zug",
          "Sauberkeit Zug und Bahnhof",
          "Security",
          "Sonstiges",
          "Vertrieb und Services",
          "WC Verfügbarkeit und Sauberkeit",
          "Ausstattung Qualität Rollmaterial",
          "Corona",
          "Fahrplanangebot",
          "Feedback Umfrage",
          "Internet, Wlan und Mobilfunk",
          "Kommerzielle Angebote",
          "Kundeninformation",
          "Lob",
          "Outlier",
          "Platzangebot Velo, Gepäck, Kinderwagen",
          "Platzangebot Zug",
          "Preis-Leistung",
          "Pünktlichkeit",
          "Raumtemperatur Zug",
          "Sauberkeit Zug und Bahnhof",
          "Security",
          "Sonstiges",
          "Vertrieb und Services",
          "WC Verfügbarkeit und Sauberkeit",
          "Ausstattung Qualität Rollmaterial",
          "Corona",
          "Fahrplanangebot",
          "Feedback Umfrage",
          "Internet, Wlan und Mobilfunk",
          "Kommerzielle Angebote",
          "Kundeninformation",
          "Lob",
          "Outlier",
          "Platzangebot Velo, Gepäck, Kinderwagen",
          "Platzangebot Zug",
          "Preis-Leistung",
          "Pünktlichkeit",
          "Raumtemperatur Zug",
          "Sauberkeit Zug und Bahnhof",
          "Security",
          "Sonstiges",
          "Vertrieb und Services",
          "WC Verfügbarkeit und Sauberkeit",
          "Ausstattung Qualität Rollmaterial",
          "Corona",
          "Fahrplanangebot",
          "Feedback Umfrage",
          "Internet, Wlan und Mobilfunk",
          "Kommerzielle Angebote",
          "Kundeninformation",
          "Lob",
          "Outlier",
          "Platzangebot Velo, Gepäck, Kinderwagen",
          "Platzangebot Zug",
          "Preis-Leistung",
          "Pünktlichkeit",
          "Raumtemperatur Zug",
          "Sauberkeit Zug und Bahnhof",
          "Security",
          "Sonstiges",
          "Vertrieb und Services",
          "WC Verfügbarkeit und Sauberkeit",
          "Ausstattung Qualität Rollmaterial",
          "Corona",
          "Fahrplanangebot",
          "Feedback Umfrage",
          "Internet, Wlan und Mobilfunk",
          "Kommerzielle Angebote",
          "Kundeninformation",
          "Lob",
          "Outlier",
          "Platzangebot Velo, Gepäck, Kinderwagen",
          "Platzangebot Zug",
          "Preis-Leistung",
          "Pünktlichkeit",
          "Raumtemperatur Zug",
          "Sauberkeit Zug und Bahnhof",
          "Security",
          "Sonstiges",
          "Vertrieb und Services",
          "WC Verfügbarkeit und Sauberkeit",
          "Ausstattung Qualität Rollmaterial",
          "Corona",
          "Fahrplanangebot",
          "Feedback Umfrage",
          "Internet, Wlan und Mobilfunk",
          "Kommerzielle Angebote",
          "Kundeninformation",
          "Lob",
          "Outlier",
          "Platzangebot Velo, Gepäck, Kinderwagen",
          "Platzangebot Zug",
          "Preis-Leistung",
          "Pünktlichkeit",
          "Raumtemperatur Zug",
          "Sauberkeit Zug und Bahnhof",
          "Security",
          "Sonstiges",
          "Vertrieb und Services",
          "WC Verfügbarkeit und Sauberkeit",
          "Ausstattung Qualität Rollmaterial",
          "Corona",
          "Fahrplanangebot",
          "Feedback Umfrage",
          "Internet, Wlan und Mobilfunk",
          "Kommerzielle Angebote",
          "Kundeninformation",
          "Lob",
          "Outlier",
          "Platzangebot Velo, Gepäck, Kinderwagen",
          "Platzangebot Zug",
          "Preis-Leistung",
          "Pünktlichkeit",
          "Raumtemperatur Zug",
          "Sauberkeit Zug und Bahnhof",
          "Security",
          "Sonstiges",
          "Vertrieb und Services",
          "WC Verfügbarkeit und Sauberkeit",
          "Ausstattung Qualität Rollmaterial",
          "Corona",
          "Fahrplanangebot",
          "Feedback Umfrage",
          "Internet, Wlan und Mobilfunk",
          "Kommerzielle Angebote",
          "Kundeninformation",
          "Lob",
          "Outlier",
          "Platzangebot Velo, Gepäck, Kinderwagen",
          "Platzangebot Zug",
          "Preis-Leistung",
          "Pünktlichkeit",
          "Raumtemperatur Zug",
          "Sauberkeit Zug und Bahnhof",
          "Security",
          "Sonstiges",
          "Vertrieb und Services",
          "WC Verfügbarkeit und Sauberkeit",
          "Ausstattung Qualität Rollmaterial",
          "Corona",
          "Fahrplanangebot",
          "Feedback Umfrage",
          "Internet, Wlan und Mobilfunk",
          "Kommerzielle Angebote",
          "Kundeninformation",
          "Lob",
          "Outlier",
          "Platzangebot Velo, Gepäck, Kinderwagen",
          "Platzangebot Zug",
          "Preis-Leistung",
          "Pünktlichkeit",
          "Raumtemperatur Zug",
          "Sauberkeit Zug und Bahnhof",
          "Security",
          "Sonstiges",
          "Vertrieb und Services",
          "WC Verfügbarkeit und Sauberkeit",
          "Ausstattung Qualität Rollmaterial",
          "Corona",
          "Fahrplanangebot",
          "Feedback Umfrage",
          "Internet, Wlan und Mobilfunk",
          "Kommerzielle Angebote",
          "Kundeninformation",
          "Lob",
          "Outlier",
          "Platzangebot Velo, Gepäck, Kinderwagen",
          "Platzangebot Zug",
          "Preis-Leistung",
          "Pünktlichkeit",
          "Raumtemperatur Zug",
          "Sauberkeit Zug und Bahnhof",
          "Security",
          "Sonstiges",
          "Vertrieb und Services",
          "WC Verfügbarkeit und Sauberkeit",
          "Ausstattung Qualität Rollmaterial",
          "Corona",
          "Fahrplanangebot",
          "Feedback Umfrage",
          "Internet, Wlan und Mobilfunk",
          "Kommerzielle Angebote",
          "Kundeninformation",
          "Lob",
          "Outlier",
          "Platzangebot Velo, Gepäck, Kinderwagen",
          "Platzangebot Zug",
          "Preis-Leistung",
          "Pünktlichkeit",
          "Raumtemperatur Zug",
          "Sauberkeit Zug und Bahnhof",
          "Security",
          "Sonstiges",
          "Vertrieb und Services",
          "WC Verfügbarkeit und Sauberkeit",
          "Ausstattung Qualität Rollmaterial",
          "Corona",
          "Fahrplanangebot",
          "Feedback Umfrage",
          "Internet, Wlan und Mobilfunk",
          "Kommerzielle Angebote",
          "Kundeninformation",
          "Lob",
          "Outlier",
          "Platzangebot Velo, Gepäck, Kinderwagen",
          "Platzangebot Zug",
          "Preis-Leistung",
          "Pünktlichkeit",
          "Raumtemperatur Zug",
          "Sauberkeit Zug und Bahnhof",
          "Security",
          "Sonstiges",
          "Vertrieb und Services",
          "WC Verfügbarkeit und Sauberkeit",
          "Ausstattung Qualität Rollmaterial",
          "Corona",
          "Fahrplanangebot",
          "Feedback Umfrage",
          "Internet, Wlan und Mobilfunk",
          "Kommerzielle Angebote",
          "Kundeninformation",
          "Lob",
          "Outlier",
          "Platzangebot Velo, Gepäck, Kinderwagen",
          "Platzangebot Zug",
          "Preis-Leistung",
          "Pünktlichkeit",
          "Raumtemperatur Zug",
          "Sauberkeit Zug und Bahnhof",
          "Security",
          "Sonstiges",
          "Vertrieb und Services",
          "WC Verfügbarkeit und Sauberkeit"
         ],
         "type": "scatter",
         "x": [
          "2019Q1",
          "2019Q2",
          "2019Q3",
          "2019Q4",
          "2020Q1",
          "2020Q2",
          "2020Q3",
          "2020Q4",
          "2021Q1",
          "2021Q2",
          "2021Q3",
          "2021Q4",
          "2022Q1",
          "2022Q2",
          "2022Q3",
          "2022Q4"
         ],
         "xaxis": "x",
         "y": [
          0.11505143475906876,
          0.10246331236897274,
          0.10398230088495575,
          0.10286062081558126,
          0.096309963099631,
          0.10691144708423327,
          0.09794837855724686,
          0.09465178914967295,
          0.07805530776092774,
          0.09330024813895782,
          0.08876298394711993,
          0.09060240963855422,
          0.08608058608058608,
          0.08375751966682092,
          0.06818640306637079,
          0.06601056168987038
         ],
         "yaxis": "y"
        },
        {
         "customdata": [
          [
           "Pünktlichkeit",
           728
          ],
          [
           "Pünktlichkeit",
           726
          ],
          [
           "Pünktlichkeit",
           689
          ],
          [
           "Pünktlichkeit",
           753
          ],
          [
           "Pünktlichkeit",
           612
          ],
          [
           "Pünktlichkeit",
           141
          ],
          [
           "Pünktlichkeit",
           473
          ],
          [
           "Pünktlichkeit",
           418
          ],
          [
           "Pünktlichkeit",
           366
          ],
          [
           "Pünktlichkeit",
           322
          ],
          [
           "Pünktlichkeit",
           324
          ],
          [
           "Pünktlichkeit",
           366
          ],
          [
           "Pünktlichkeit",
           296
          ],
          [
           "Pünktlichkeit",
           441
          ],
          [
           "Pünktlichkeit",
           924
          ],
          [
           "Pünktlichkeit",
           762
          ]
         ],
         "hovertemplate": "CustomName=%{customdata[0]}<br>yearquarter=%{x}<br>Topic_Ratio=%{y}<br>count_x=%{customdata[1]}<extra></extra>",
         "legendgroup": "Pünktlichkeit",
         "line": {
          "color": "#F06969",
          "dash": "solid",
          "width": 2
         },
         "marker": {
          "symbol": "circle"
         },
         "mode": "lines",
         "name": "Pünktlichkeit",
         "orientation": "v",
         "showlegend": true,
         "text": [
          "Ausstattung Qualität Rollmaterial",
          "Corona",
          "Fahrplanangebot",
          "Feedback Umfrage",
          "Internet, Wlan und Mobilfunk",
          "Kommerzielle Angebote",
          "Kundeninformation",
          "Lob",
          "Outlier",
          "Platzangebot Velo, Gepäck, Kinderwagen",
          "Platzangebot Zug",
          "Preis-Leistung",
          "Pünktlichkeit",
          "Raumtemperatur Zug",
          "Sauberkeit Zug und Bahnhof",
          "Security",
          "Sonstiges",
          "Vertrieb und Services",
          "WC Verfügbarkeit und Sauberkeit",
          "Ausstattung Qualität Rollmaterial",
          "Corona",
          "Fahrplanangebot",
          "Feedback Umfrage",
          "Internet, Wlan und Mobilfunk",
          "Kommerzielle Angebote",
          "Kundeninformation",
          "Lob",
          "Outlier",
          "Platzangebot Velo, Gepäck, Kinderwagen",
          "Platzangebot Zug",
          "Preis-Leistung",
          "Pünktlichkeit",
          "Raumtemperatur Zug",
          "Sauberkeit Zug und Bahnhof",
          "Security",
          "Sonstiges",
          "Vertrieb und Services",
          "WC Verfügbarkeit und Sauberkeit",
          "Ausstattung Qualität Rollmaterial",
          "Corona",
          "Fahrplanangebot",
          "Feedback Umfrage",
          "Internet, Wlan und Mobilfunk",
          "Kommerzielle Angebote",
          "Kundeninformation",
          "Lob",
          "Outlier",
          "Platzangebot Velo, Gepäck, Kinderwagen",
          "Platzangebot Zug",
          "Preis-Leistung",
          "Pünktlichkeit",
          "Raumtemperatur Zug",
          "Sauberkeit Zug und Bahnhof",
          "Security",
          "Sonstiges",
          "Vertrieb und Services",
          "WC Verfügbarkeit und Sauberkeit",
          "Ausstattung Qualität Rollmaterial",
          "Corona",
          "Fahrplanangebot",
          "Feedback Umfrage",
          "Internet, Wlan und Mobilfunk",
          "Kommerzielle Angebote",
          "Kundeninformation",
          "Lob",
          "Outlier",
          "Platzangebot Velo, Gepäck, Kinderwagen",
          "Platzangebot Zug",
          "Preis-Leistung",
          "Pünktlichkeit",
          "Raumtemperatur Zug",
          "Sauberkeit Zug und Bahnhof",
          "Security",
          "Sonstiges",
          "Vertrieb und Services",
          "WC Verfügbarkeit und Sauberkeit",
          "Ausstattung Qualität Rollmaterial",
          "Corona",
          "Fahrplanangebot",
          "Feedback Umfrage",
          "Internet, Wlan und Mobilfunk",
          "Kommerzielle Angebote",
          "Kundeninformation",
          "Lob",
          "Outlier",
          "Platzangebot Velo, Gepäck, Kinderwagen",
          "Platzangebot Zug",
          "Preis-Leistung",
          "Pünktlichkeit",
          "Raumtemperatur Zug",
          "Sauberkeit Zug und Bahnhof",
          "Security",
          "Sonstiges",
          "Vertrieb und Services",
          "WC Verfügbarkeit und Sauberkeit",
          "Ausstattung Qualität Rollmaterial",
          "Corona",
          "Fahrplanangebot",
          "Feedback Umfrage",
          "Internet, Wlan und Mobilfunk",
          "Kommerzielle Angebote",
          "Kundeninformation",
          "Lob",
          "Outlier",
          "Platzangebot Velo, Gepäck, Kinderwagen",
          "Platzangebot Zug",
          "Preis-Leistung",
          "Pünktlichkeit",
          "Raumtemperatur Zug",
          "Sauberkeit Zug und Bahnhof",
          "Security",
          "Sonstiges",
          "Vertrieb und Services",
          "WC Verfügbarkeit und Sauberkeit",
          "Ausstattung Qualität Rollmaterial",
          "Corona",
          "Fahrplanangebot",
          "Feedback Umfrage",
          "Internet, Wlan und Mobilfunk",
          "Kommerzielle Angebote",
          "Kundeninformation",
          "Lob",
          "Outlier",
          "Platzangebot Velo, Gepäck, Kinderwagen",
          "Platzangebot Zug",
          "Preis-Leistung",
          "Pünktlichkeit",
          "Raumtemperatur Zug",
          "Sauberkeit Zug und Bahnhof",
          "Security",
          "Sonstiges",
          "Vertrieb und Services",
          "WC Verfügbarkeit und Sauberkeit",
          "Ausstattung Qualität Rollmaterial",
          "Corona",
          "Fahrplanangebot",
          "Feedback Umfrage",
          "Internet, Wlan und Mobilfunk",
          "Kommerzielle Angebote",
          "Kundeninformation",
          "Lob",
          "Outlier",
          "Platzangebot Velo, Gepäck, Kinderwagen",
          "Platzangebot Zug",
          "Preis-Leistung",
          "Pünktlichkeit",
          "Raumtemperatur Zug",
          "Sauberkeit Zug und Bahnhof",
          "Security",
          "Sonstiges",
          "Vertrieb und Services",
          "WC Verfügbarkeit und Sauberkeit",
          "Ausstattung Qualität Rollmaterial",
          "Corona",
          "Fahrplanangebot",
          "Feedback Umfrage",
          "Internet, Wlan und Mobilfunk",
          "Kommerzielle Angebote",
          "Kundeninformation",
          "Lob",
          "Outlier",
          "Platzangebot Velo, Gepäck, Kinderwagen",
          "Platzangebot Zug",
          "Preis-Leistung",
          "Pünktlichkeit",
          "Raumtemperatur Zug",
          "Sauberkeit Zug und Bahnhof",
          "Security",
          "Sonstiges",
          "Vertrieb und Services",
          "WC Verfügbarkeit und Sauberkeit",
          "Ausstattung Qualität Rollmaterial",
          "Corona",
          "Fahrplanangebot",
          "Feedback Umfrage",
          "Internet, Wlan und Mobilfunk",
          "Kommerzielle Angebote",
          "Kundeninformation",
          "Lob",
          "Outlier",
          "Platzangebot Velo, Gepäck, Kinderwagen",
          "Platzangebot Zug",
          "Preis-Leistung",
          "Pünktlichkeit",
          "Raumtemperatur Zug",
          "Sauberkeit Zug und Bahnhof",
          "Security",
          "Sonstiges",
          "Vertrieb und Services",
          "WC Verfügbarkeit und Sauberkeit",
          "Ausstattung Qualität Rollmaterial",
          "Corona",
          "Fahrplanangebot",
          "Feedback Umfrage",
          "Internet, Wlan und Mobilfunk",
          "Kommerzielle Angebote",
          "Kundeninformation",
          "Lob",
          "Outlier",
          "Platzangebot Velo, Gepäck, Kinderwagen",
          "Platzangebot Zug",
          "Preis-Leistung",
          "Pünktlichkeit",
          "Raumtemperatur Zug",
          "Sauberkeit Zug und Bahnhof",
          "Security",
          "Sonstiges",
          "Vertrieb und Services",
          "WC Verfügbarkeit und Sauberkeit",
          "Ausstattung Qualität Rollmaterial",
          "Corona",
          "Fahrplanangebot",
          "Feedback Umfrage",
          "Internet, Wlan und Mobilfunk",
          "Kommerzielle Angebote",
          "Kundeninformation",
          "Lob",
          "Outlier",
          "Platzangebot Velo, Gepäck, Kinderwagen",
          "Platzangebot Zug",
          "Preis-Leistung",
          "Pünktlichkeit",
          "Raumtemperatur Zug",
          "Sauberkeit Zug und Bahnhof",
          "Security",
          "Sonstiges",
          "Vertrieb und Services",
          "WC Verfügbarkeit und Sauberkeit",
          "Ausstattung Qualität Rollmaterial",
          "Corona",
          "Fahrplanangebot",
          "Feedback Umfrage",
          "Internet, Wlan und Mobilfunk",
          "Kommerzielle Angebote",
          "Kundeninformation",
          "Lob",
          "Outlier",
          "Platzangebot Velo, Gepäck, Kinderwagen",
          "Platzangebot Zug",
          "Preis-Leistung",
          "Pünktlichkeit",
          "Raumtemperatur Zug",
          "Sauberkeit Zug und Bahnhof",
          "Security",
          "Sonstiges",
          "Vertrieb und Services",
          "WC Verfügbarkeit und Sauberkeit",
          "Ausstattung Qualität Rollmaterial",
          "Corona",
          "Fahrplanangebot",
          "Feedback Umfrage",
          "Internet, Wlan und Mobilfunk",
          "Kommerzielle Angebote",
          "Kundeninformation",
          "Lob",
          "Outlier",
          "Platzangebot Velo, Gepäck, Kinderwagen",
          "Platzangebot Zug",
          "Preis-Leistung",
          "Pünktlichkeit",
          "Raumtemperatur Zug",
          "Sauberkeit Zug und Bahnhof",
          "Security",
          "Sonstiges",
          "Vertrieb und Services",
          "WC Verfügbarkeit und Sauberkeit",
          "Ausstattung Qualität Rollmaterial",
          "Corona",
          "Fahrplanangebot",
          "Feedback Umfrage",
          "Internet, Wlan und Mobilfunk",
          "Kommerzielle Angebote",
          "Kundeninformation",
          "Lob",
          "Outlier",
          "Platzangebot Velo, Gepäck, Kinderwagen",
          "Platzangebot Zug",
          "Preis-Leistung",
          "Pünktlichkeit",
          "Raumtemperatur Zug",
          "Sauberkeit Zug und Bahnhof",
          "Security",
          "Sonstiges",
          "Vertrieb und Services",
          "WC Verfügbarkeit und Sauberkeit",
          "Ausstattung Qualität Rollmaterial",
          "Corona",
          "Fahrplanangebot",
          "Feedback Umfrage",
          "Internet, Wlan und Mobilfunk",
          "Kommerzielle Angebote",
          "Kundeninformation",
          "Lob",
          "Outlier",
          "Platzangebot Velo, Gepäck, Kinderwagen",
          "Platzangebot Zug",
          "Preis-Leistung",
          "Pünktlichkeit",
          "Raumtemperatur Zug",
          "Sauberkeit Zug und Bahnhof",
          "Security",
          "Sonstiges",
          "Vertrieb und Services",
          "WC Verfügbarkeit und Sauberkeit"
         ],
         "type": "scatter",
         "x": [
          "2019Q1",
          "2019Q2",
          "2019Q3",
          "2019Q4",
          "2020Q1",
          "2020Q2",
          "2020Q3",
          "2020Q4",
          "2021Q1",
          "2021Q2",
          "2021Q3",
          "2021Q4",
          "2022Q1",
          "2022Q2",
          "2022Q3",
          "2022Q4"
         ],
         "xaxis": "x",
         "y": [
          0.19707634001082838,
          0.19025157232704404,
          0.1905420353982301,
          0.22915398660986,
          0.22583025830258302,
          0.15226781857451405,
          0.15651886168100596,
          0.1608310888803386,
          0.1632471008028546,
          0.1598014888337469,
          0.1529745042492918,
          0.1763855421686747,
          0.1807081807081807,
          0.20407218880148079,
          0.1864030663707888,
          0.18290926548247718
         ],
         "yaxis": "y"
        },
        {
         "customdata": [
          [
           "Raumtemperatur Zug",
           74
          ],
          [
           "Raumtemperatur Zug",
           168
          ],
          [
           "Raumtemperatur Zug",
           192
          ],
          [
           "Raumtemperatur Zug",
           71
          ],
          [
           "Raumtemperatur Zug",
           55
          ],
          [
           "Raumtemperatur Zug",
           16
          ],
          [
           "Raumtemperatur Zug",
           104
          ],
          [
           "Raumtemperatur Zug",
           54
          ],
          [
           "Raumtemperatur Zug",
           62
          ],
          [
           "Raumtemperatur Zug",
           46
          ],
          [
           "Raumtemperatur Zug",
           53
          ],
          [
           "Raumtemperatur Zug",
           47
          ],
          [
           "Raumtemperatur Zug",
           24
          ],
          [
           "Raumtemperatur Zug",
           94
          ],
          [
           "Raumtemperatur Zug",
           250
          ],
          [
           "Raumtemperatur Zug",
           180
          ]
         ],
         "hovertemplate": "CustomName=%{customdata[0]}<br>yearquarter=%{x}<br>Topic_Ratio=%{y}<br>count_x=%{customdata[1]}<extra></extra>",
         "legendgroup": "Raumtemperatur Zug",
         "line": {
          "color": "#ECD9BD",
          "dash": "solid",
          "width": 2
         },
         "marker": {
          "symbol": "circle"
         },
         "mode": "lines",
         "name": "Raumtemperatur Zug",
         "orientation": "v",
         "showlegend": true,
         "text": [
          "Ausstattung Qualität Rollmaterial",
          "Corona",
          "Fahrplanangebot",
          "Feedback Umfrage",
          "Internet, Wlan und Mobilfunk",
          "Kommerzielle Angebote",
          "Kundeninformation",
          "Lob",
          "Outlier",
          "Platzangebot Velo, Gepäck, Kinderwagen",
          "Platzangebot Zug",
          "Preis-Leistung",
          "Pünktlichkeit",
          "Raumtemperatur Zug",
          "Sauberkeit Zug und Bahnhof",
          "Security",
          "Sonstiges",
          "Vertrieb und Services",
          "WC Verfügbarkeit und Sauberkeit",
          "Ausstattung Qualität Rollmaterial",
          "Corona",
          "Fahrplanangebot",
          "Feedback Umfrage",
          "Internet, Wlan und Mobilfunk",
          "Kommerzielle Angebote",
          "Kundeninformation",
          "Lob",
          "Outlier",
          "Platzangebot Velo, Gepäck, Kinderwagen",
          "Platzangebot Zug",
          "Preis-Leistung",
          "Pünktlichkeit",
          "Raumtemperatur Zug",
          "Sauberkeit Zug und Bahnhof",
          "Security",
          "Sonstiges",
          "Vertrieb und Services",
          "WC Verfügbarkeit und Sauberkeit",
          "Ausstattung Qualität Rollmaterial",
          "Corona",
          "Fahrplanangebot",
          "Feedback Umfrage",
          "Internet, Wlan und Mobilfunk",
          "Kommerzielle Angebote",
          "Kundeninformation",
          "Lob",
          "Outlier",
          "Platzangebot Velo, Gepäck, Kinderwagen",
          "Platzangebot Zug",
          "Preis-Leistung",
          "Pünktlichkeit",
          "Raumtemperatur Zug",
          "Sauberkeit Zug und Bahnhof",
          "Security",
          "Sonstiges",
          "Vertrieb und Services",
          "WC Verfügbarkeit und Sauberkeit",
          "Ausstattung Qualität Rollmaterial",
          "Corona",
          "Fahrplanangebot",
          "Feedback Umfrage",
          "Internet, Wlan und Mobilfunk",
          "Kommerzielle Angebote",
          "Kundeninformation",
          "Lob",
          "Outlier",
          "Platzangebot Velo, Gepäck, Kinderwagen",
          "Platzangebot Zug",
          "Preis-Leistung",
          "Pünktlichkeit",
          "Raumtemperatur Zug",
          "Sauberkeit Zug und Bahnhof",
          "Security",
          "Sonstiges",
          "Vertrieb und Services",
          "WC Verfügbarkeit und Sauberkeit",
          "Ausstattung Qualität Rollmaterial",
          "Corona",
          "Fahrplanangebot",
          "Feedback Umfrage",
          "Internet, Wlan und Mobilfunk",
          "Kommerzielle Angebote",
          "Kundeninformation",
          "Lob",
          "Outlier",
          "Platzangebot Velo, Gepäck, Kinderwagen",
          "Platzangebot Zug",
          "Preis-Leistung",
          "Pünktlichkeit",
          "Raumtemperatur Zug",
          "Sauberkeit Zug und Bahnhof",
          "Security",
          "Sonstiges",
          "Vertrieb und Services",
          "WC Verfügbarkeit und Sauberkeit",
          "Ausstattung Qualität Rollmaterial",
          "Corona",
          "Fahrplanangebot",
          "Feedback Umfrage",
          "Internet, Wlan und Mobilfunk",
          "Kommerzielle Angebote",
          "Kundeninformation",
          "Lob",
          "Outlier",
          "Platzangebot Velo, Gepäck, Kinderwagen",
          "Platzangebot Zug",
          "Preis-Leistung",
          "Pünktlichkeit",
          "Raumtemperatur Zug",
          "Sauberkeit Zug und Bahnhof",
          "Security",
          "Sonstiges",
          "Vertrieb und Services",
          "WC Verfügbarkeit und Sauberkeit",
          "Ausstattung Qualität Rollmaterial",
          "Corona",
          "Fahrplanangebot",
          "Feedback Umfrage",
          "Internet, Wlan und Mobilfunk",
          "Kommerzielle Angebote",
          "Kundeninformation",
          "Lob",
          "Outlier",
          "Platzangebot Velo, Gepäck, Kinderwagen",
          "Platzangebot Zug",
          "Preis-Leistung",
          "Pünktlichkeit",
          "Raumtemperatur Zug",
          "Sauberkeit Zug und Bahnhof",
          "Security",
          "Sonstiges",
          "Vertrieb und Services",
          "WC Verfügbarkeit und Sauberkeit",
          "Ausstattung Qualität Rollmaterial",
          "Corona",
          "Fahrplanangebot",
          "Feedback Umfrage",
          "Internet, Wlan und Mobilfunk",
          "Kommerzielle Angebote",
          "Kundeninformation",
          "Lob",
          "Outlier",
          "Platzangebot Velo, Gepäck, Kinderwagen",
          "Platzangebot Zug",
          "Preis-Leistung",
          "Pünktlichkeit",
          "Raumtemperatur Zug",
          "Sauberkeit Zug und Bahnhof",
          "Security",
          "Sonstiges",
          "Vertrieb und Services",
          "WC Verfügbarkeit und Sauberkeit",
          "Ausstattung Qualität Rollmaterial",
          "Corona",
          "Fahrplanangebot",
          "Feedback Umfrage",
          "Internet, Wlan und Mobilfunk",
          "Kommerzielle Angebote",
          "Kundeninformation",
          "Lob",
          "Outlier",
          "Platzangebot Velo, Gepäck, Kinderwagen",
          "Platzangebot Zug",
          "Preis-Leistung",
          "Pünktlichkeit",
          "Raumtemperatur Zug",
          "Sauberkeit Zug und Bahnhof",
          "Security",
          "Sonstiges",
          "Vertrieb und Services",
          "WC Verfügbarkeit und Sauberkeit",
          "Ausstattung Qualität Rollmaterial",
          "Corona",
          "Fahrplanangebot",
          "Feedback Umfrage",
          "Internet, Wlan und Mobilfunk",
          "Kommerzielle Angebote",
          "Kundeninformation",
          "Lob",
          "Outlier",
          "Platzangebot Velo, Gepäck, Kinderwagen",
          "Platzangebot Zug",
          "Preis-Leistung",
          "Pünktlichkeit",
          "Raumtemperatur Zug",
          "Sauberkeit Zug und Bahnhof",
          "Security",
          "Sonstiges",
          "Vertrieb und Services",
          "WC Verfügbarkeit und Sauberkeit",
          "Ausstattung Qualität Rollmaterial",
          "Corona",
          "Fahrplanangebot",
          "Feedback Umfrage",
          "Internet, Wlan und Mobilfunk",
          "Kommerzielle Angebote",
          "Kundeninformation",
          "Lob",
          "Outlier",
          "Platzangebot Velo, Gepäck, Kinderwagen",
          "Platzangebot Zug",
          "Preis-Leistung",
          "Pünktlichkeit",
          "Raumtemperatur Zug",
          "Sauberkeit Zug und Bahnhof",
          "Security",
          "Sonstiges",
          "Vertrieb und Services",
          "WC Verfügbarkeit und Sauberkeit",
          "Ausstattung Qualität Rollmaterial",
          "Corona",
          "Fahrplanangebot",
          "Feedback Umfrage",
          "Internet, Wlan und Mobilfunk",
          "Kommerzielle Angebote",
          "Kundeninformation",
          "Lob",
          "Outlier",
          "Platzangebot Velo, Gepäck, Kinderwagen",
          "Platzangebot Zug",
          "Preis-Leistung",
          "Pünktlichkeit",
          "Raumtemperatur Zug",
          "Sauberkeit Zug und Bahnhof",
          "Security",
          "Sonstiges",
          "Vertrieb und Services",
          "WC Verfügbarkeit und Sauberkeit",
          "Ausstattung Qualität Rollmaterial",
          "Corona",
          "Fahrplanangebot",
          "Feedback Umfrage",
          "Internet, Wlan und Mobilfunk",
          "Kommerzielle Angebote",
          "Kundeninformation",
          "Lob",
          "Outlier",
          "Platzangebot Velo, Gepäck, Kinderwagen",
          "Platzangebot Zug",
          "Preis-Leistung",
          "Pünktlichkeit",
          "Raumtemperatur Zug",
          "Sauberkeit Zug und Bahnhof",
          "Security",
          "Sonstiges",
          "Vertrieb und Services",
          "WC Verfügbarkeit und Sauberkeit",
          "Ausstattung Qualität Rollmaterial",
          "Corona",
          "Fahrplanangebot",
          "Feedback Umfrage",
          "Internet, Wlan und Mobilfunk",
          "Kommerzielle Angebote",
          "Kundeninformation",
          "Lob",
          "Outlier",
          "Platzangebot Velo, Gepäck, Kinderwagen",
          "Platzangebot Zug",
          "Preis-Leistung",
          "Pünktlichkeit",
          "Raumtemperatur Zug",
          "Sauberkeit Zug und Bahnhof",
          "Security",
          "Sonstiges",
          "Vertrieb und Services",
          "WC Verfügbarkeit und Sauberkeit",
          "Ausstattung Qualität Rollmaterial",
          "Corona",
          "Fahrplanangebot",
          "Feedback Umfrage",
          "Internet, Wlan und Mobilfunk",
          "Kommerzielle Angebote",
          "Kundeninformation",
          "Lob",
          "Outlier",
          "Platzangebot Velo, Gepäck, Kinderwagen",
          "Platzangebot Zug",
          "Preis-Leistung",
          "Pünktlichkeit",
          "Raumtemperatur Zug",
          "Sauberkeit Zug und Bahnhof",
          "Security",
          "Sonstiges",
          "Vertrieb und Services",
          "WC Verfügbarkeit und Sauberkeit",
          "Ausstattung Qualität Rollmaterial",
          "Corona",
          "Fahrplanangebot",
          "Feedback Umfrage",
          "Internet, Wlan und Mobilfunk",
          "Kommerzielle Angebote",
          "Kundeninformation",
          "Lob",
          "Outlier",
          "Platzangebot Velo, Gepäck, Kinderwagen",
          "Platzangebot Zug",
          "Preis-Leistung",
          "Pünktlichkeit",
          "Raumtemperatur Zug",
          "Sauberkeit Zug und Bahnhof",
          "Security",
          "Sonstiges",
          "Vertrieb und Services",
          "WC Verfügbarkeit und Sauberkeit"
         ],
         "type": "scatter",
         "x": [
          "2019Q1",
          "2019Q2",
          "2019Q3",
          "2019Q4",
          "2020Q1",
          "2020Q2",
          "2020Q3",
          "2020Q4",
          "2021Q1",
          "2021Q2",
          "2021Q3",
          "2021Q4",
          "2022Q1",
          "2022Q2",
          "2022Q3",
          "2022Q4"
         ],
         "xaxis": "x",
         "y": [
          0.020032485110990796,
          0.0440251572327044,
          0.05309734513274336,
          0.021606816798539256,
          0.02029520295202952,
          0.017278617710583154,
          0.03441429516876241,
          0.020777222008464793,
          0.027653880463871544,
          0.0228287841191067,
          0.02502360717658168,
          0.022650602409638555,
          0.014652014652014652,
          0.04349838037945396,
          0.05043373007867662,
          0.04320691310609698
         ],
         "yaxis": "y"
        },
        {
         "customdata": [
          [
           "Sauberkeit Zug und Bahnhof",
           155
          ],
          [
           "Sauberkeit Zug und Bahnhof",
           140
          ],
          [
           "Sauberkeit Zug und Bahnhof",
           110
          ],
          [
           "Sauberkeit Zug und Bahnhof",
           120
          ],
          [
           "Sauberkeit Zug und Bahnhof",
           91
          ],
          [
           "Sauberkeit Zug und Bahnhof",
           25
          ],
          [
           "Sauberkeit Zug und Bahnhof",
           79
          ],
          [
           "Sauberkeit Zug und Bahnhof",
           70
          ],
          [
           "Sauberkeit Zug und Bahnhof",
           86
          ],
          [
           "Sauberkeit Zug und Bahnhof",
           56
          ],
          [
           "Sauberkeit Zug und Bahnhof",
           49
          ],
          [
           "Sauberkeit Zug und Bahnhof",
           61
          ],
          [
           "Sauberkeit Zug und Bahnhof",
           53
          ],
          [
           "Sauberkeit Zug und Bahnhof",
           52
          ],
          [
           "Sauberkeit Zug und Bahnhof",
           109
          ],
          [
           "Sauberkeit Zug und Bahnhof",
           114
          ]
         ],
         "hovertemplate": "CustomName=%{customdata[0]}<br>yearquarter=%{x}<br>Topic_Ratio=%{y}<br>count_x=%{customdata[1]}<extra></extra>",
         "legendgroup": "Sauberkeit Zug und Bahnhof",
         "line": {
          "color": "#49787F",
          "dash": "solid",
          "width": 2
         },
         "marker": {
          "symbol": "circle"
         },
         "mode": "lines",
         "name": "Sauberkeit Zug und Bahnhof",
         "orientation": "v",
         "showlegend": true,
         "text": [
          "Ausstattung Qualität Rollmaterial",
          "Corona",
          "Fahrplanangebot",
          "Feedback Umfrage",
          "Internet, Wlan und Mobilfunk",
          "Kommerzielle Angebote",
          "Kundeninformation",
          "Lob",
          "Outlier",
          "Platzangebot Velo, Gepäck, Kinderwagen",
          "Platzangebot Zug",
          "Preis-Leistung",
          "Pünktlichkeit",
          "Raumtemperatur Zug",
          "Sauberkeit Zug und Bahnhof",
          "Security",
          "Sonstiges",
          "Vertrieb und Services",
          "WC Verfügbarkeit und Sauberkeit",
          "Ausstattung Qualität Rollmaterial",
          "Corona",
          "Fahrplanangebot",
          "Feedback Umfrage",
          "Internet, Wlan und Mobilfunk",
          "Kommerzielle Angebote",
          "Kundeninformation",
          "Lob",
          "Outlier",
          "Platzangebot Velo, Gepäck, Kinderwagen",
          "Platzangebot Zug",
          "Preis-Leistung",
          "Pünktlichkeit",
          "Raumtemperatur Zug",
          "Sauberkeit Zug und Bahnhof",
          "Security",
          "Sonstiges",
          "Vertrieb und Services",
          "WC Verfügbarkeit und Sauberkeit",
          "Ausstattung Qualität Rollmaterial",
          "Corona",
          "Fahrplanangebot",
          "Feedback Umfrage",
          "Internet, Wlan und Mobilfunk",
          "Kommerzielle Angebote",
          "Kundeninformation",
          "Lob",
          "Outlier",
          "Platzangebot Velo, Gepäck, Kinderwagen",
          "Platzangebot Zug",
          "Preis-Leistung",
          "Pünktlichkeit",
          "Raumtemperatur Zug",
          "Sauberkeit Zug und Bahnhof",
          "Security",
          "Sonstiges",
          "Vertrieb und Services",
          "WC Verfügbarkeit und Sauberkeit",
          "Ausstattung Qualität Rollmaterial",
          "Corona",
          "Fahrplanangebot",
          "Feedback Umfrage",
          "Internet, Wlan und Mobilfunk",
          "Kommerzielle Angebote",
          "Kundeninformation",
          "Lob",
          "Outlier",
          "Platzangebot Velo, Gepäck, Kinderwagen",
          "Platzangebot Zug",
          "Preis-Leistung",
          "Pünktlichkeit",
          "Raumtemperatur Zug",
          "Sauberkeit Zug und Bahnhof",
          "Security",
          "Sonstiges",
          "Vertrieb und Services",
          "WC Verfügbarkeit und Sauberkeit",
          "Ausstattung Qualität Rollmaterial",
          "Corona",
          "Fahrplanangebot",
          "Feedback Umfrage",
          "Internet, Wlan und Mobilfunk",
          "Kommerzielle Angebote",
          "Kundeninformation",
          "Lob",
          "Outlier",
          "Platzangebot Velo, Gepäck, Kinderwagen",
          "Platzangebot Zug",
          "Preis-Leistung",
          "Pünktlichkeit",
          "Raumtemperatur Zug",
          "Sauberkeit Zug und Bahnhof",
          "Security",
          "Sonstiges",
          "Vertrieb und Services",
          "WC Verfügbarkeit und Sauberkeit",
          "Ausstattung Qualität Rollmaterial",
          "Corona",
          "Fahrplanangebot",
          "Feedback Umfrage",
          "Internet, Wlan und Mobilfunk",
          "Kommerzielle Angebote",
          "Kundeninformation",
          "Lob",
          "Outlier",
          "Platzangebot Velo, Gepäck, Kinderwagen",
          "Platzangebot Zug",
          "Preis-Leistung",
          "Pünktlichkeit",
          "Raumtemperatur Zug",
          "Sauberkeit Zug und Bahnhof",
          "Security",
          "Sonstiges",
          "Vertrieb und Services",
          "WC Verfügbarkeit und Sauberkeit",
          "Ausstattung Qualität Rollmaterial",
          "Corona",
          "Fahrplanangebot",
          "Feedback Umfrage",
          "Internet, Wlan und Mobilfunk",
          "Kommerzielle Angebote",
          "Kundeninformation",
          "Lob",
          "Outlier",
          "Platzangebot Velo, Gepäck, Kinderwagen",
          "Platzangebot Zug",
          "Preis-Leistung",
          "Pünktlichkeit",
          "Raumtemperatur Zug",
          "Sauberkeit Zug und Bahnhof",
          "Security",
          "Sonstiges",
          "Vertrieb und Services",
          "WC Verfügbarkeit und Sauberkeit",
          "Ausstattung Qualität Rollmaterial",
          "Corona",
          "Fahrplanangebot",
          "Feedback Umfrage",
          "Internet, Wlan und Mobilfunk",
          "Kommerzielle Angebote",
          "Kundeninformation",
          "Lob",
          "Outlier",
          "Platzangebot Velo, Gepäck, Kinderwagen",
          "Platzangebot Zug",
          "Preis-Leistung",
          "Pünktlichkeit",
          "Raumtemperatur Zug",
          "Sauberkeit Zug und Bahnhof",
          "Security",
          "Sonstiges",
          "Vertrieb und Services",
          "WC Verfügbarkeit und Sauberkeit",
          "Ausstattung Qualität Rollmaterial",
          "Corona",
          "Fahrplanangebot",
          "Feedback Umfrage",
          "Internet, Wlan und Mobilfunk",
          "Kommerzielle Angebote",
          "Kundeninformation",
          "Lob",
          "Outlier",
          "Platzangebot Velo, Gepäck, Kinderwagen",
          "Platzangebot Zug",
          "Preis-Leistung",
          "Pünktlichkeit",
          "Raumtemperatur Zug",
          "Sauberkeit Zug und Bahnhof",
          "Security",
          "Sonstiges",
          "Vertrieb und Services",
          "WC Verfügbarkeit und Sauberkeit",
          "Ausstattung Qualität Rollmaterial",
          "Corona",
          "Fahrplanangebot",
          "Feedback Umfrage",
          "Internet, Wlan und Mobilfunk",
          "Kommerzielle Angebote",
          "Kundeninformation",
          "Lob",
          "Outlier",
          "Platzangebot Velo, Gepäck, Kinderwagen",
          "Platzangebot Zug",
          "Preis-Leistung",
          "Pünktlichkeit",
          "Raumtemperatur Zug",
          "Sauberkeit Zug und Bahnhof",
          "Security",
          "Sonstiges",
          "Vertrieb und Services",
          "WC Verfügbarkeit und Sauberkeit",
          "Ausstattung Qualität Rollmaterial",
          "Corona",
          "Fahrplanangebot",
          "Feedback Umfrage",
          "Internet, Wlan und Mobilfunk",
          "Kommerzielle Angebote",
          "Kundeninformation",
          "Lob",
          "Outlier",
          "Platzangebot Velo, Gepäck, Kinderwagen",
          "Platzangebot Zug",
          "Preis-Leistung",
          "Pünktlichkeit",
          "Raumtemperatur Zug",
          "Sauberkeit Zug und Bahnhof",
          "Security",
          "Sonstiges",
          "Vertrieb und Services",
          "WC Verfügbarkeit und Sauberkeit",
          "Ausstattung Qualität Rollmaterial",
          "Corona",
          "Fahrplanangebot",
          "Feedback Umfrage",
          "Internet, Wlan und Mobilfunk",
          "Kommerzielle Angebote",
          "Kundeninformation",
          "Lob",
          "Outlier",
          "Platzangebot Velo, Gepäck, Kinderwagen",
          "Platzangebot Zug",
          "Preis-Leistung",
          "Pünktlichkeit",
          "Raumtemperatur Zug",
          "Sauberkeit Zug und Bahnhof",
          "Security",
          "Sonstiges",
          "Vertrieb und Services",
          "WC Verfügbarkeit und Sauberkeit",
          "Ausstattung Qualität Rollmaterial",
          "Corona",
          "Fahrplanangebot",
          "Feedback Umfrage",
          "Internet, Wlan und Mobilfunk",
          "Kommerzielle Angebote",
          "Kundeninformation",
          "Lob",
          "Outlier",
          "Platzangebot Velo, Gepäck, Kinderwagen",
          "Platzangebot Zug",
          "Preis-Leistung",
          "Pünktlichkeit",
          "Raumtemperatur Zug",
          "Sauberkeit Zug und Bahnhof",
          "Security",
          "Sonstiges",
          "Vertrieb und Services",
          "WC Verfügbarkeit und Sauberkeit",
          "Ausstattung Qualität Rollmaterial",
          "Corona",
          "Fahrplanangebot",
          "Feedback Umfrage",
          "Internet, Wlan und Mobilfunk",
          "Kommerzielle Angebote",
          "Kundeninformation",
          "Lob",
          "Outlier",
          "Platzangebot Velo, Gepäck, Kinderwagen",
          "Platzangebot Zug",
          "Preis-Leistung",
          "Pünktlichkeit",
          "Raumtemperatur Zug",
          "Sauberkeit Zug und Bahnhof",
          "Security",
          "Sonstiges",
          "Vertrieb und Services",
          "WC Verfügbarkeit und Sauberkeit",
          "Ausstattung Qualität Rollmaterial",
          "Corona",
          "Fahrplanangebot",
          "Feedback Umfrage",
          "Internet, Wlan und Mobilfunk",
          "Kommerzielle Angebote",
          "Kundeninformation",
          "Lob",
          "Outlier",
          "Platzangebot Velo, Gepäck, Kinderwagen",
          "Platzangebot Zug",
          "Preis-Leistung",
          "Pünktlichkeit",
          "Raumtemperatur Zug",
          "Sauberkeit Zug und Bahnhof",
          "Security",
          "Sonstiges",
          "Vertrieb und Services",
          "WC Verfügbarkeit und Sauberkeit",
          "Ausstattung Qualität Rollmaterial",
          "Corona",
          "Fahrplanangebot",
          "Feedback Umfrage",
          "Internet, Wlan und Mobilfunk",
          "Kommerzielle Angebote",
          "Kundeninformation",
          "Lob",
          "Outlier",
          "Platzangebot Velo, Gepäck, Kinderwagen",
          "Platzangebot Zug",
          "Preis-Leistung",
          "Pünktlichkeit",
          "Raumtemperatur Zug",
          "Sauberkeit Zug und Bahnhof",
          "Security",
          "Sonstiges",
          "Vertrieb und Services",
          "WC Verfügbarkeit und Sauberkeit"
         ],
         "type": "scatter",
         "x": [
          "2019Q1",
          "2019Q2",
          "2019Q3",
          "2019Q4",
          "2020Q1",
          "2020Q2",
          "2020Q3",
          "2020Q4",
          "2021Q1",
          "2021Q2",
          "2021Q3",
          "2021Q4",
          "2022Q1",
          "2022Q2",
          "2022Q3",
          "2022Q4"
         ],
         "xaxis": "x",
         "y": [
          0.04195993502977802,
          0.03668763102725367,
          0.030420353982300884,
          0.036518563603164945,
          0.03357933579335794,
          0.026997840172786176,
          0.02614162806088683,
          0.026933435936898807,
          0.0383586083853702,
          0.027791563275434243,
          0.023135033050047216,
          0.029397590361445784,
          0.03235653235653236,
          0.024062933826931976,
          0.021989106314303005,
          0.027364378300528083
         ],
         "yaxis": "y"
        },
        {
         "customdata": [
          [
           "Security",
           133
          ],
          [
           "Security",
           148
          ],
          [
           "Security",
           125
          ],
          [
           "Security",
           112
          ],
          [
           "Security",
           71
          ],
          [
           "Security",
           32
          ],
          [
           "Security",
           84
          ],
          [
           "Security",
           86
          ],
          [
           "Security",
           69
          ],
          [
           "Security",
           73
          ],
          [
           "Security",
           61
          ],
          [
           "Security",
           71
          ],
          [
           "Security",
           57
          ],
          [
           "Security",
           59
          ],
          [
           "Security",
           129
          ],
          [
           "Security",
           135
          ]
         ],
         "hovertemplate": "CustomName=%{customdata[0]}<br>yearquarter=%{x}<br>Topic_Ratio=%{y}<br>count_x=%{customdata[1]}<extra></extra>",
         "legendgroup": "Security",
         "line": {
          "color": "#A96262",
          "dash": "solid",
          "width": 2
         },
         "marker": {
          "symbol": "circle"
         },
         "mode": "lines",
         "name": "Security",
         "orientation": "v",
         "showlegend": true,
         "text": [
          "Ausstattung Qualität Rollmaterial",
          "Corona",
          "Fahrplanangebot",
          "Feedback Umfrage",
          "Internet, Wlan und Mobilfunk",
          "Kommerzielle Angebote",
          "Kundeninformation",
          "Lob",
          "Outlier",
          "Platzangebot Velo, Gepäck, Kinderwagen",
          "Platzangebot Zug",
          "Preis-Leistung",
          "Pünktlichkeit",
          "Raumtemperatur Zug",
          "Sauberkeit Zug und Bahnhof",
          "Security",
          "Sonstiges",
          "Vertrieb und Services",
          "WC Verfügbarkeit und Sauberkeit",
          "Ausstattung Qualität Rollmaterial",
          "Corona",
          "Fahrplanangebot",
          "Feedback Umfrage",
          "Internet, Wlan und Mobilfunk",
          "Kommerzielle Angebote",
          "Kundeninformation",
          "Lob",
          "Outlier",
          "Platzangebot Velo, Gepäck, Kinderwagen",
          "Platzangebot Zug",
          "Preis-Leistung",
          "Pünktlichkeit",
          "Raumtemperatur Zug",
          "Sauberkeit Zug und Bahnhof",
          "Security",
          "Sonstiges",
          "Vertrieb und Services",
          "WC Verfügbarkeit und Sauberkeit",
          "Ausstattung Qualität Rollmaterial",
          "Corona",
          "Fahrplanangebot",
          "Feedback Umfrage",
          "Internet, Wlan und Mobilfunk",
          "Kommerzielle Angebote",
          "Kundeninformation",
          "Lob",
          "Outlier",
          "Platzangebot Velo, Gepäck, Kinderwagen",
          "Platzangebot Zug",
          "Preis-Leistung",
          "Pünktlichkeit",
          "Raumtemperatur Zug",
          "Sauberkeit Zug und Bahnhof",
          "Security",
          "Sonstiges",
          "Vertrieb und Services",
          "WC Verfügbarkeit und Sauberkeit",
          "Ausstattung Qualität Rollmaterial",
          "Corona",
          "Fahrplanangebot",
          "Feedback Umfrage",
          "Internet, Wlan und Mobilfunk",
          "Kommerzielle Angebote",
          "Kundeninformation",
          "Lob",
          "Outlier",
          "Platzangebot Velo, Gepäck, Kinderwagen",
          "Platzangebot Zug",
          "Preis-Leistung",
          "Pünktlichkeit",
          "Raumtemperatur Zug",
          "Sauberkeit Zug und Bahnhof",
          "Security",
          "Sonstiges",
          "Vertrieb und Services",
          "WC Verfügbarkeit und Sauberkeit",
          "Ausstattung Qualität Rollmaterial",
          "Corona",
          "Fahrplanangebot",
          "Feedback Umfrage",
          "Internet, Wlan und Mobilfunk",
          "Kommerzielle Angebote",
          "Kundeninformation",
          "Lob",
          "Outlier",
          "Platzangebot Velo, Gepäck, Kinderwagen",
          "Platzangebot Zug",
          "Preis-Leistung",
          "Pünktlichkeit",
          "Raumtemperatur Zug",
          "Sauberkeit Zug und Bahnhof",
          "Security",
          "Sonstiges",
          "Vertrieb und Services",
          "WC Verfügbarkeit und Sauberkeit",
          "Ausstattung Qualität Rollmaterial",
          "Corona",
          "Fahrplanangebot",
          "Feedback Umfrage",
          "Internet, Wlan und Mobilfunk",
          "Kommerzielle Angebote",
          "Kundeninformation",
          "Lob",
          "Outlier",
          "Platzangebot Velo, Gepäck, Kinderwagen",
          "Platzangebot Zug",
          "Preis-Leistung",
          "Pünktlichkeit",
          "Raumtemperatur Zug",
          "Sauberkeit Zug und Bahnhof",
          "Security",
          "Sonstiges",
          "Vertrieb und Services",
          "WC Verfügbarkeit und Sauberkeit",
          "Ausstattung Qualität Rollmaterial",
          "Corona",
          "Fahrplanangebot",
          "Feedback Umfrage",
          "Internet, Wlan und Mobilfunk",
          "Kommerzielle Angebote",
          "Kundeninformation",
          "Lob",
          "Outlier",
          "Platzangebot Velo, Gepäck, Kinderwagen",
          "Platzangebot Zug",
          "Preis-Leistung",
          "Pünktlichkeit",
          "Raumtemperatur Zug",
          "Sauberkeit Zug und Bahnhof",
          "Security",
          "Sonstiges",
          "Vertrieb und Services",
          "WC Verfügbarkeit und Sauberkeit",
          "Ausstattung Qualität Rollmaterial",
          "Corona",
          "Fahrplanangebot",
          "Feedback Umfrage",
          "Internet, Wlan und Mobilfunk",
          "Kommerzielle Angebote",
          "Kundeninformation",
          "Lob",
          "Outlier",
          "Platzangebot Velo, Gepäck, Kinderwagen",
          "Platzangebot Zug",
          "Preis-Leistung",
          "Pünktlichkeit",
          "Raumtemperatur Zug",
          "Sauberkeit Zug und Bahnhof",
          "Security",
          "Sonstiges",
          "Vertrieb und Services",
          "WC Verfügbarkeit und Sauberkeit",
          "Ausstattung Qualität Rollmaterial",
          "Corona",
          "Fahrplanangebot",
          "Feedback Umfrage",
          "Internet, Wlan und Mobilfunk",
          "Kommerzielle Angebote",
          "Kundeninformation",
          "Lob",
          "Outlier",
          "Platzangebot Velo, Gepäck, Kinderwagen",
          "Platzangebot Zug",
          "Preis-Leistung",
          "Pünktlichkeit",
          "Raumtemperatur Zug",
          "Sauberkeit Zug und Bahnhof",
          "Security",
          "Sonstiges",
          "Vertrieb und Services",
          "WC Verfügbarkeit und Sauberkeit",
          "Ausstattung Qualität Rollmaterial",
          "Corona",
          "Fahrplanangebot",
          "Feedback Umfrage",
          "Internet, Wlan und Mobilfunk",
          "Kommerzielle Angebote",
          "Kundeninformation",
          "Lob",
          "Outlier",
          "Platzangebot Velo, Gepäck, Kinderwagen",
          "Platzangebot Zug",
          "Preis-Leistung",
          "Pünktlichkeit",
          "Raumtemperatur Zug",
          "Sauberkeit Zug und Bahnhof",
          "Security",
          "Sonstiges",
          "Vertrieb und Services",
          "WC Verfügbarkeit und Sauberkeit",
          "Ausstattung Qualität Rollmaterial",
          "Corona",
          "Fahrplanangebot",
          "Feedback Umfrage",
          "Internet, Wlan und Mobilfunk",
          "Kommerzielle Angebote",
          "Kundeninformation",
          "Lob",
          "Outlier",
          "Platzangebot Velo, Gepäck, Kinderwagen",
          "Platzangebot Zug",
          "Preis-Leistung",
          "Pünktlichkeit",
          "Raumtemperatur Zug",
          "Sauberkeit Zug und Bahnhof",
          "Security",
          "Sonstiges",
          "Vertrieb und Services",
          "WC Verfügbarkeit und Sauberkeit",
          "Ausstattung Qualität Rollmaterial",
          "Corona",
          "Fahrplanangebot",
          "Feedback Umfrage",
          "Internet, Wlan und Mobilfunk",
          "Kommerzielle Angebote",
          "Kundeninformation",
          "Lob",
          "Outlier",
          "Platzangebot Velo, Gepäck, Kinderwagen",
          "Platzangebot Zug",
          "Preis-Leistung",
          "Pünktlichkeit",
          "Raumtemperatur Zug",
          "Sauberkeit Zug und Bahnhof",
          "Security",
          "Sonstiges",
          "Vertrieb und Services",
          "WC Verfügbarkeit und Sauberkeit",
          "Ausstattung Qualität Rollmaterial",
          "Corona",
          "Fahrplanangebot",
          "Feedback Umfrage",
          "Internet, Wlan und Mobilfunk",
          "Kommerzielle Angebote",
          "Kundeninformation",
          "Lob",
          "Outlier",
          "Platzangebot Velo, Gepäck, Kinderwagen",
          "Platzangebot Zug",
          "Preis-Leistung",
          "Pünktlichkeit",
          "Raumtemperatur Zug",
          "Sauberkeit Zug und Bahnhof",
          "Security",
          "Sonstiges",
          "Vertrieb und Services",
          "WC Verfügbarkeit und Sauberkeit",
          "Ausstattung Qualität Rollmaterial",
          "Corona",
          "Fahrplanangebot",
          "Feedback Umfrage",
          "Internet, Wlan und Mobilfunk",
          "Kommerzielle Angebote",
          "Kundeninformation",
          "Lob",
          "Outlier",
          "Platzangebot Velo, Gepäck, Kinderwagen",
          "Platzangebot Zug",
          "Preis-Leistung",
          "Pünktlichkeit",
          "Raumtemperatur Zug",
          "Sauberkeit Zug und Bahnhof",
          "Security",
          "Sonstiges",
          "Vertrieb und Services",
          "WC Verfügbarkeit und Sauberkeit",
          "Ausstattung Qualität Rollmaterial",
          "Corona",
          "Fahrplanangebot",
          "Feedback Umfrage",
          "Internet, Wlan und Mobilfunk",
          "Kommerzielle Angebote",
          "Kundeninformation",
          "Lob",
          "Outlier",
          "Platzangebot Velo, Gepäck, Kinderwagen",
          "Platzangebot Zug",
          "Preis-Leistung",
          "Pünktlichkeit",
          "Raumtemperatur Zug",
          "Sauberkeit Zug und Bahnhof",
          "Security",
          "Sonstiges",
          "Vertrieb und Services",
          "WC Verfügbarkeit und Sauberkeit",
          "Ausstattung Qualität Rollmaterial",
          "Corona",
          "Fahrplanangebot",
          "Feedback Umfrage",
          "Internet, Wlan und Mobilfunk",
          "Kommerzielle Angebote",
          "Kundeninformation",
          "Lob",
          "Outlier",
          "Platzangebot Velo, Gepäck, Kinderwagen",
          "Platzangebot Zug",
          "Preis-Leistung",
          "Pünktlichkeit",
          "Raumtemperatur Zug",
          "Sauberkeit Zug und Bahnhof",
          "Security",
          "Sonstiges",
          "Vertrieb und Services",
          "WC Verfügbarkeit und Sauberkeit"
         ],
         "type": "scatter",
         "x": [
          "2019Q1",
          "2019Q2",
          "2019Q3",
          "2019Q4",
          "2020Q1",
          "2020Q2",
          "2020Q3",
          "2020Q4",
          "2021Q1",
          "2021Q2",
          "2021Q3",
          "2021Q4",
          "2022Q1",
          "2022Q2",
          "2022Q3",
          "2022Q4"
         ],
         "xaxis": "x",
         "y": [
          0.03600433134813211,
          0.03878406708595388,
          0.03456858407079646,
          0.03408399269628728,
          0.026199261992619925,
          0.03455723542116631,
          0.027796161482461945,
          0.03308964986533282,
          0.030776092774308653,
          0.036228287841191066,
          0.028800755429650614,
          0.034216867469879515,
          0.0347985347985348,
          0.027302174919018974,
          0.026023804720597135,
          0.032405184829572733
         ],
         "yaxis": "y"
        },
        {
         "customdata": [
          [
           "Sonstiges",
           178
          ],
          [
           "Sonstiges",
           159
          ],
          [
           "Sonstiges",
           164
          ],
          [
           "Sonstiges",
           143
          ],
          [
           "Sonstiges",
           128
          ],
          [
           "Sonstiges",
           43
          ],
          [
           "Sonstiges",
           136
          ],
          [
           "Sonstiges",
           144
          ],
          [
           "Sonstiges",
           110
          ],
          [
           "Sonstiges",
           105
          ],
          [
           "Sonstiges",
           116
          ],
          [
           "Sonstiges",
           104
          ],
          [
           "Sonstiges",
           85
          ],
          [
           "Sonstiges",
           124
          ],
          [
           "Sonstiges",
           233
          ],
          [
           "Sonstiges",
           211
          ]
         ],
         "hovertemplate": "CustomName=%{customdata[0]}<br>yearquarter=%{x}<br>Topic_Ratio=%{y}<br>count_x=%{customdata[1]}<extra></extra>",
         "legendgroup": "Sonstiges",
         "line": {
          "color": "#F06969",
          "dash": "solid",
          "width": 2
         },
         "marker": {
          "symbol": "circle"
         },
         "mode": "lines",
         "name": "Sonstiges",
         "orientation": "v",
         "showlegend": true,
         "text": [
          "Ausstattung Qualität Rollmaterial",
          "Corona",
          "Fahrplanangebot",
          "Feedback Umfrage",
          "Internet, Wlan und Mobilfunk",
          "Kommerzielle Angebote",
          "Kundeninformation",
          "Lob",
          "Outlier",
          "Platzangebot Velo, Gepäck, Kinderwagen",
          "Platzangebot Zug",
          "Preis-Leistung",
          "Pünktlichkeit",
          "Raumtemperatur Zug",
          "Sauberkeit Zug und Bahnhof",
          "Security",
          "Sonstiges",
          "Vertrieb und Services",
          "WC Verfügbarkeit und Sauberkeit",
          "Ausstattung Qualität Rollmaterial",
          "Corona",
          "Fahrplanangebot",
          "Feedback Umfrage",
          "Internet, Wlan und Mobilfunk",
          "Kommerzielle Angebote",
          "Kundeninformation",
          "Lob",
          "Outlier",
          "Platzangebot Velo, Gepäck, Kinderwagen",
          "Platzangebot Zug",
          "Preis-Leistung",
          "Pünktlichkeit",
          "Raumtemperatur Zug",
          "Sauberkeit Zug und Bahnhof",
          "Security",
          "Sonstiges",
          "Vertrieb und Services",
          "WC Verfügbarkeit und Sauberkeit",
          "Ausstattung Qualität Rollmaterial",
          "Corona",
          "Fahrplanangebot",
          "Feedback Umfrage",
          "Internet, Wlan und Mobilfunk",
          "Kommerzielle Angebote",
          "Kundeninformation",
          "Lob",
          "Outlier",
          "Platzangebot Velo, Gepäck, Kinderwagen",
          "Platzangebot Zug",
          "Preis-Leistung",
          "Pünktlichkeit",
          "Raumtemperatur Zug",
          "Sauberkeit Zug und Bahnhof",
          "Security",
          "Sonstiges",
          "Vertrieb und Services",
          "WC Verfügbarkeit und Sauberkeit",
          "Ausstattung Qualität Rollmaterial",
          "Corona",
          "Fahrplanangebot",
          "Feedback Umfrage",
          "Internet, Wlan und Mobilfunk",
          "Kommerzielle Angebote",
          "Kundeninformation",
          "Lob",
          "Outlier",
          "Platzangebot Velo, Gepäck, Kinderwagen",
          "Platzangebot Zug",
          "Preis-Leistung",
          "Pünktlichkeit",
          "Raumtemperatur Zug",
          "Sauberkeit Zug und Bahnhof",
          "Security",
          "Sonstiges",
          "Vertrieb und Services",
          "WC Verfügbarkeit und Sauberkeit",
          "Ausstattung Qualität Rollmaterial",
          "Corona",
          "Fahrplanangebot",
          "Feedback Umfrage",
          "Internet, Wlan und Mobilfunk",
          "Kommerzielle Angebote",
          "Kundeninformation",
          "Lob",
          "Outlier",
          "Platzangebot Velo, Gepäck, Kinderwagen",
          "Platzangebot Zug",
          "Preis-Leistung",
          "Pünktlichkeit",
          "Raumtemperatur Zug",
          "Sauberkeit Zug und Bahnhof",
          "Security",
          "Sonstiges",
          "Vertrieb und Services",
          "WC Verfügbarkeit und Sauberkeit",
          "Ausstattung Qualität Rollmaterial",
          "Corona",
          "Fahrplanangebot",
          "Feedback Umfrage",
          "Internet, Wlan und Mobilfunk",
          "Kommerzielle Angebote",
          "Kundeninformation",
          "Lob",
          "Outlier",
          "Platzangebot Velo, Gepäck, Kinderwagen",
          "Platzangebot Zug",
          "Preis-Leistung",
          "Pünktlichkeit",
          "Raumtemperatur Zug",
          "Sauberkeit Zug und Bahnhof",
          "Security",
          "Sonstiges",
          "Vertrieb und Services",
          "WC Verfügbarkeit und Sauberkeit",
          "Ausstattung Qualität Rollmaterial",
          "Corona",
          "Fahrplanangebot",
          "Feedback Umfrage",
          "Internet, Wlan und Mobilfunk",
          "Kommerzielle Angebote",
          "Kundeninformation",
          "Lob",
          "Outlier",
          "Platzangebot Velo, Gepäck, Kinderwagen",
          "Platzangebot Zug",
          "Preis-Leistung",
          "Pünktlichkeit",
          "Raumtemperatur Zug",
          "Sauberkeit Zug und Bahnhof",
          "Security",
          "Sonstiges",
          "Vertrieb und Services",
          "WC Verfügbarkeit und Sauberkeit",
          "Ausstattung Qualität Rollmaterial",
          "Corona",
          "Fahrplanangebot",
          "Feedback Umfrage",
          "Internet, Wlan und Mobilfunk",
          "Kommerzielle Angebote",
          "Kundeninformation",
          "Lob",
          "Outlier",
          "Platzangebot Velo, Gepäck, Kinderwagen",
          "Platzangebot Zug",
          "Preis-Leistung",
          "Pünktlichkeit",
          "Raumtemperatur Zug",
          "Sauberkeit Zug und Bahnhof",
          "Security",
          "Sonstiges",
          "Vertrieb und Services",
          "WC Verfügbarkeit und Sauberkeit",
          "Ausstattung Qualität Rollmaterial",
          "Corona",
          "Fahrplanangebot",
          "Feedback Umfrage",
          "Internet, Wlan und Mobilfunk",
          "Kommerzielle Angebote",
          "Kundeninformation",
          "Lob",
          "Outlier",
          "Platzangebot Velo, Gepäck, Kinderwagen",
          "Platzangebot Zug",
          "Preis-Leistung",
          "Pünktlichkeit",
          "Raumtemperatur Zug",
          "Sauberkeit Zug und Bahnhof",
          "Security",
          "Sonstiges",
          "Vertrieb und Services",
          "WC Verfügbarkeit und Sauberkeit",
          "Ausstattung Qualität Rollmaterial",
          "Corona",
          "Fahrplanangebot",
          "Feedback Umfrage",
          "Internet, Wlan und Mobilfunk",
          "Kommerzielle Angebote",
          "Kundeninformation",
          "Lob",
          "Outlier",
          "Platzangebot Velo, Gepäck, Kinderwagen",
          "Platzangebot Zug",
          "Preis-Leistung",
          "Pünktlichkeit",
          "Raumtemperatur Zug",
          "Sauberkeit Zug und Bahnhof",
          "Security",
          "Sonstiges",
          "Vertrieb und Services",
          "WC Verfügbarkeit und Sauberkeit",
          "Ausstattung Qualität Rollmaterial",
          "Corona",
          "Fahrplanangebot",
          "Feedback Umfrage",
          "Internet, Wlan und Mobilfunk",
          "Kommerzielle Angebote",
          "Kundeninformation",
          "Lob",
          "Outlier",
          "Platzangebot Velo, Gepäck, Kinderwagen",
          "Platzangebot Zug",
          "Preis-Leistung",
          "Pünktlichkeit",
          "Raumtemperatur Zug",
          "Sauberkeit Zug und Bahnhof",
          "Security",
          "Sonstiges",
          "Vertrieb und Services",
          "WC Verfügbarkeit und Sauberkeit",
          "Ausstattung Qualität Rollmaterial",
          "Corona",
          "Fahrplanangebot",
          "Feedback Umfrage",
          "Internet, Wlan und Mobilfunk",
          "Kommerzielle Angebote",
          "Kundeninformation",
          "Lob",
          "Outlier",
          "Platzangebot Velo, Gepäck, Kinderwagen",
          "Platzangebot Zug",
          "Preis-Leistung",
          "Pünktlichkeit",
          "Raumtemperatur Zug",
          "Sauberkeit Zug und Bahnhof",
          "Security",
          "Sonstiges",
          "Vertrieb und Services",
          "WC Verfügbarkeit und Sauberkeit",
          "Ausstattung Qualität Rollmaterial",
          "Corona",
          "Fahrplanangebot",
          "Feedback Umfrage",
          "Internet, Wlan und Mobilfunk",
          "Kommerzielle Angebote",
          "Kundeninformation",
          "Lob",
          "Outlier",
          "Platzangebot Velo, Gepäck, Kinderwagen",
          "Platzangebot Zug",
          "Preis-Leistung",
          "Pünktlichkeit",
          "Raumtemperatur Zug",
          "Sauberkeit Zug und Bahnhof",
          "Security",
          "Sonstiges",
          "Vertrieb und Services",
          "WC Verfügbarkeit und Sauberkeit",
          "Ausstattung Qualität Rollmaterial",
          "Corona",
          "Fahrplanangebot",
          "Feedback Umfrage",
          "Internet, Wlan und Mobilfunk",
          "Kommerzielle Angebote",
          "Kundeninformation",
          "Lob",
          "Outlier",
          "Platzangebot Velo, Gepäck, Kinderwagen",
          "Platzangebot Zug",
          "Preis-Leistung",
          "Pünktlichkeit",
          "Raumtemperatur Zug",
          "Sauberkeit Zug und Bahnhof",
          "Security",
          "Sonstiges",
          "Vertrieb und Services",
          "WC Verfügbarkeit und Sauberkeit",
          "Ausstattung Qualität Rollmaterial",
          "Corona",
          "Fahrplanangebot",
          "Feedback Umfrage",
          "Internet, Wlan und Mobilfunk",
          "Kommerzielle Angebote",
          "Kundeninformation",
          "Lob",
          "Outlier",
          "Platzangebot Velo, Gepäck, Kinderwagen",
          "Platzangebot Zug",
          "Preis-Leistung",
          "Pünktlichkeit",
          "Raumtemperatur Zug",
          "Sauberkeit Zug und Bahnhof",
          "Security",
          "Sonstiges",
          "Vertrieb und Services",
          "WC Verfügbarkeit und Sauberkeit",
          "Ausstattung Qualität Rollmaterial",
          "Corona",
          "Fahrplanangebot",
          "Feedback Umfrage",
          "Internet, Wlan und Mobilfunk",
          "Kommerzielle Angebote",
          "Kundeninformation",
          "Lob",
          "Outlier",
          "Platzangebot Velo, Gepäck, Kinderwagen",
          "Platzangebot Zug",
          "Preis-Leistung",
          "Pünktlichkeit",
          "Raumtemperatur Zug",
          "Sauberkeit Zug und Bahnhof",
          "Security",
          "Sonstiges",
          "Vertrieb und Services",
          "WC Verfügbarkeit und Sauberkeit"
         ],
         "type": "scatter",
         "x": [
          "2019Q1",
          "2019Q2",
          "2019Q3",
          "2019Q4",
          "2020Q1",
          "2020Q2",
          "2020Q3",
          "2020Q4",
          "2021Q1",
          "2021Q2",
          "2021Q3",
          "2021Q4",
          "2022Q1",
          "2022Q2",
          "2022Q3",
          "2022Q4"
         ],
         "xaxis": "x",
         "y": [
          0.048186247969680567,
          0.041666666666666664,
          0.04535398230088496,
          0.04351795496043822,
          0.047232472324723246,
          0.04643628509719223,
          0.04500330906684315,
          0.05540592535590612,
          0.04906333630686887,
          0.052109181141439205,
          0.05476864966949953,
          0.05012048192771084,
          0.051892551892551896,
          0.05738084220268394,
          0.04700423643332661,
          0.05064810369659146
         ],
         "yaxis": "y"
        },
        {
         "customdata": [
          [
           "Vertrieb und Services",
           361
          ],
          [
           "Vertrieb und Services",
           384
          ],
          [
           "Vertrieb und Services",
           302
          ],
          [
           "Vertrieb und Services",
           301
          ],
          [
           "Vertrieb und Services",
           272
          ],
          [
           "Vertrieb und Services",
           58
          ],
          [
           "Vertrieb und Services",
           246
          ],
          [
           "Vertrieb und Services",
           199
          ],
          [
           "Vertrieb und Services",
           152
          ],
          [
           "Vertrieb und Services",
           138
          ],
          [
           "Vertrieb und Services",
           154
          ],
          [
           "Vertrieb und Services",
           104
          ],
          [
           "Vertrieb und Services",
           80
          ],
          [
           "Vertrieb und Services",
           122
          ],
          [
           "Vertrieb und Services",
           297
          ],
          [
           "Vertrieb und Services",
           304
          ]
         ],
         "hovertemplate": "CustomName=%{customdata[0]}<br>yearquarter=%{x}<br>Topic_Ratio=%{y}<br>count_x=%{customdata[1]}<extra></extra>",
         "legendgroup": "Vertrieb und Services",
         "line": {
          "color": "#C499CA",
          "dash": "solid",
          "width": 2
         },
         "marker": {
          "symbol": "circle"
         },
         "mode": "lines",
         "name": "Vertrieb und Services",
         "orientation": "v",
         "showlegend": true,
         "text": [
          "Ausstattung Qualität Rollmaterial",
          "Corona",
          "Fahrplanangebot",
          "Feedback Umfrage",
          "Internet, Wlan und Mobilfunk",
          "Kommerzielle Angebote",
          "Kundeninformation",
          "Lob",
          "Outlier",
          "Platzangebot Velo, Gepäck, Kinderwagen",
          "Platzangebot Zug",
          "Preis-Leistung",
          "Pünktlichkeit",
          "Raumtemperatur Zug",
          "Sauberkeit Zug und Bahnhof",
          "Security",
          "Sonstiges",
          "Vertrieb und Services",
          "WC Verfügbarkeit und Sauberkeit",
          "Ausstattung Qualität Rollmaterial",
          "Corona",
          "Fahrplanangebot",
          "Feedback Umfrage",
          "Internet, Wlan und Mobilfunk",
          "Kommerzielle Angebote",
          "Kundeninformation",
          "Lob",
          "Outlier",
          "Platzangebot Velo, Gepäck, Kinderwagen",
          "Platzangebot Zug",
          "Preis-Leistung",
          "Pünktlichkeit",
          "Raumtemperatur Zug",
          "Sauberkeit Zug und Bahnhof",
          "Security",
          "Sonstiges",
          "Vertrieb und Services",
          "WC Verfügbarkeit und Sauberkeit",
          "Ausstattung Qualität Rollmaterial",
          "Corona",
          "Fahrplanangebot",
          "Feedback Umfrage",
          "Internet, Wlan und Mobilfunk",
          "Kommerzielle Angebote",
          "Kundeninformation",
          "Lob",
          "Outlier",
          "Platzangebot Velo, Gepäck, Kinderwagen",
          "Platzangebot Zug",
          "Preis-Leistung",
          "Pünktlichkeit",
          "Raumtemperatur Zug",
          "Sauberkeit Zug und Bahnhof",
          "Security",
          "Sonstiges",
          "Vertrieb und Services",
          "WC Verfügbarkeit und Sauberkeit",
          "Ausstattung Qualität Rollmaterial",
          "Corona",
          "Fahrplanangebot",
          "Feedback Umfrage",
          "Internet, Wlan und Mobilfunk",
          "Kommerzielle Angebote",
          "Kundeninformation",
          "Lob",
          "Outlier",
          "Platzangebot Velo, Gepäck, Kinderwagen",
          "Platzangebot Zug",
          "Preis-Leistung",
          "Pünktlichkeit",
          "Raumtemperatur Zug",
          "Sauberkeit Zug und Bahnhof",
          "Security",
          "Sonstiges",
          "Vertrieb und Services",
          "WC Verfügbarkeit und Sauberkeit",
          "Ausstattung Qualität Rollmaterial",
          "Corona",
          "Fahrplanangebot",
          "Feedback Umfrage",
          "Internet, Wlan und Mobilfunk",
          "Kommerzielle Angebote",
          "Kundeninformation",
          "Lob",
          "Outlier",
          "Platzangebot Velo, Gepäck, Kinderwagen",
          "Platzangebot Zug",
          "Preis-Leistung",
          "Pünktlichkeit",
          "Raumtemperatur Zug",
          "Sauberkeit Zug und Bahnhof",
          "Security",
          "Sonstiges",
          "Vertrieb und Services",
          "WC Verfügbarkeit und Sauberkeit",
          "Ausstattung Qualität Rollmaterial",
          "Corona",
          "Fahrplanangebot",
          "Feedback Umfrage",
          "Internet, Wlan und Mobilfunk",
          "Kommerzielle Angebote",
          "Kundeninformation",
          "Lob",
          "Outlier",
          "Platzangebot Velo, Gepäck, Kinderwagen",
          "Platzangebot Zug",
          "Preis-Leistung",
          "Pünktlichkeit",
          "Raumtemperatur Zug",
          "Sauberkeit Zug und Bahnhof",
          "Security",
          "Sonstiges",
          "Vertrieb und Services",
          "WC Verfügbarkeit und Sauberkeit",
          "Ausstattung Qualität Rollmaterial",
          "Corona",
          "Fahrplanangebot",
          "Feedback Umfrage",
          "Internet, Wlan und Mobilfunk",
          "Kommerzielle Angebote",
          "Kundeninformation",
          "Lob",
          "Outlier",
          "Platzangebot Velo, Gepäck, Kinderwagen",
          "Platzangebot Zug",
          "Preis-Leistung",
          "Pünktlichkeit",
          "Raumtemperatur Zug",
          "Sauberkeit Zug und Bahnhof",
          "Security",
          "Sonstiges",
          "Vertrieb und Services",
          "WC Verfügbarkeit und Sauberkeit",
          "Ausstattung Qualität Rollmaterial",
          "Corona",
          "Fahrplanangebot",
          "Feedback Umfrage",
          "Internet, Wlan und Mobilfunk",
          "Kommerzielle Angebote",
          "Kundeninformation",
          "Lob",
          "Outlier",
          "Platzangebot Velo, Gepäck, Kinderwagen",
          "Platzangebot Zug",
          "Preis-Leistung",
          "Pünktlichkeit",
          "Raumtemperatur Zug",
          "Sauberkeit Zug und Bahnhof",
          "Security",
          "Sonstiges",
          "Vertrieb und Services",
          "WC Verfügbarkeit und Sauberkeit",
          "Ausstattung Qualität Rollmaterial",
          "Corona",
          "Fahrplanangebot",
          "Feedback Umfrage",
          "Internet, Wlan und Mobilfunk",
          "Kommerzielle Angebote",
          "Kundeninformation",
          "Lob",
          "Outlier",
          "Platzangebot Velo, Gepäck, Kinderwagen",
          "Platzangebot Zug",
          "Preis-Leistung",
          "Pünktlichkeit",
          "Raumtemperatur Zug",
          "Sauberkeit Zug und Bahnhof",
          "Security",
          "Sonstiges",
          "Vertrieb und Services",
          "WC Verfügbarkeit und Sauberkeit",
          "Ausstattung Qualität Rollmaterial",
          "Corona",
          "Fahrplanangebot",
          "Feedback Umfrage",
          "Internet, Wlan und Mobilfunk",
          "Kommerzielle Angebote",
          "Kundeninformation",
          "Lob",
          "Outlier",
          "Platzangebot Velo, Gepäck, Kinderwagen",
          "Platzangebot Zug",
          "Preis-Leistung",
          "Pünktlichkeit",
          "Raumtemperatur Zug",
          "Sauberkeit Zug und Bahnhof",
          "Security",
          "Sonstiges",
          "Vertrieb und Services",
          "WC Verfügbarkeit und Sauberkeit",
          "Ausstattung Qualität Rollmaterial",
          "Corona",
          "Fahrplanangebot",
          "Feedback Umfrage",
          "Internet, Wlan und Mobilfunk",
          "Kommerzielle Angebote",
          "Kundeninformation",
          "Lob",
          "Outlier",
          "Platzangebot Velo, Gepäck, Kinderwagen",
          "Platzangebot Zug",
          "Preis-Leistung",
          "Pünktlichkeit",
          "Raumtemperatur Zug",
          "Sauberkeit Zug und Bahnhof",
          "Security",
          "Sonstiges",
          "Vertrieb und Services",
          "WC Verfügbarkeit und Sauberkeit",
          "Ausstattung Qualität Rollmaterial",
          "Corona",
          "Fahrplanangebot",
          "Feedback Umfrage",
          "Internet, Wlan und Mobilfunk",
          "Kommerzielle Angebote",
          "Kundeninformation",
          "Lob",
          "Outlier",
          "Platzangebot Velo, Gepäck, Kinderwagen",
          "Platzangebot Zug",
          "Preis-Leistung",
          "Pünktlichkeit",
          "Raumtemperatur Zug",
          "Sauberkeit Zug und Bahnhof",
          "Security",
          "Sonstiges",
          "Vertrieb und Services",
          "WC Verfügbarkeit und Sauberkeit",
          "Ausstattung Qualität Rollmaterial",
          "Corona",
          "Fahrplanangebot",
          "Feedback Umfrage",
          "Internet, Wlan und Mobilfunk",
          "Kommerzielle Angebote",
          "Kundeninformation",
          "Lob",
          "Outlier",
          "Platzangebot Velo, Gepäck, Kinderwagen",
          "Platzangebot Zug",
          "Preis-Leistung",
          "Pünktlichkeit",
          "Raumtemperatur Zug",
          "Sauberkeit Zug und Bahnhof",
          "Security",
          "Sonstiges",
          "Vertrieb und Services",
          "WC Verfügbarkeit und Sauberkeit",
          "Ausstattung Qualität Rollmaterial",
          "Corona",
          "Fahrplanangebot",
          "Feedback Umfrage",
          "Internet, Wlan und Mobilfunk",
          "Kommerzielle Angebote",
          "Kundeninformation",
          "Lob",
          "Outlier",
          "Platzangebot Velo, Gepäck, Kinderwagen",
          "Platzangebot Zug",
          "Preis-Leistung",
          "Pünktlichkeit",
          "Raumtemperatur Zug",
          "Sauberkeit Zug und Bahnhof",
          "Security",
          "Sonstiges",
          "Vertrieb und Services",
          "WC Verfügbarkeit und Sauberkeit",
          "Ausstattung Qualität Rollmaterial",
          "Corona",
          "Fahrplanangebot",
          "Feedback Umfrage",
          "Internet, Wlan und Mobilfunk",
          "Kommerzielle Angebote",
          "Kundeninformation",
          "Lob",
          "Outlier",
          "Platzangebot Velo, Gepäck, Kinderwagen",
          "Platzangebot Zug",
          "Preis-Leistung",
          "Pünktlichkeit",
          "Raumtemperatur Zug",
          "Sauberkeit Zug und Bahnhof",
          "Security",
          "Sonstiges",
          "Vertrieb und Services",
          "WC Verfügbarkeit und Sauberkeit",
          "Ausstattung Qualität Rollmaterial",
          "Corona",
          "Fahrplanangebot",
          "Feedback Umfrage",
          "Internet, Wlan und Mobilfunk",
          "Kommerzielle Angebote",
          "Kundeninformation",
          "Lob",
          "Outlier",
          "Platzangebot Velo, Gepäck, Kinderwagen",
          "Platzangebot Zug",
          "Preis-Leistung",
          "Pünktlichkeit",
          "Raumtemperatur Zug",
          "Sauberkeit Zug und Bahnhof",
          "Security",
          "Sonstiges",
          "Vertrieb und Services",
          "WC Verfügbarkeit und Sauberkeit"
         ],
         "type": "scatter",
         "x": [
          "2019Q1",
          "2019Q2",
          "2019Q3",
          "2019Q4",
          "2020Q1",
          "2020Q2",
          "2020Q3",
          "2020Q4",
          "2021Q1",
          "2021Q2",
          "2021Q3",
          "2021Q4",
          "2022Q1",
          "2022Q2",
          "2022Q3",
          "2022Q4"
         ],
         "xaxis": "x",
         "y": [
          0.0977260422306443,
          0.10062893081761007,
          0.08351769911504425,
          0.09160073037127206,
          0.1003690036900369,
          0.06263498920086392,
          0.0814030443414957,
          0.07656791073489803,
          0.06779661016949153,
          0.0684863523573201,
          0.07271010387157696,
          0.05012048192771084,
          0.04884004884004884,
          0.05645534474780194,
          0.05991527133346782,
          0.0729716754680749
         ],
         "yaxis": "y"
        },
        {
         "customdata": [
          [
           "WC Verfügbarkeit und Sauberkeit",
           187
          ],
          [
           "WC Verfügbarkeit und Sauberkeit",
           176
          ],
          [
           "WC Verfügbarkeit und Sauberkeit",
           161
          ],
          [
           "WC Verfügbarkeit und Sauberkeit",
           149
          ],
          [
           "WC Verfügbarkeit und Sauberkeit",
           140
          ],
          [
           "WC Verfügbarkeit und Sauberkeit",
           41
          ],
          [
           "WC Verfügbarkeit und Sauberkeit",
           107
          ],
          [
           "WC Verfügbarkeit und Sauberkeit",
           112
          ],
          [
           "WC Verfügbarkeit und Sauberkeit",
           90
          ],
          [
           "WC Verfügbarkeit und Sauberkeit",
           92
          ],
          [
           "WC Verfügbarkeit und Sauberkeit",
           85
          ],
          [
           "WC Verfügbarkeit und Sauberkeit",
           63
          ],
          [
           "WC Verfügbarkeit und Sauberkeit",
           63
          ],
          [
           "WC Verfügbarkeit und Sauberkeit",
           82
          ],
          [
           "WC Verfügbarkeit und Sauberkeit",
           191
          ],
          [
           "WC Verfügbarkeit und Sauberkeit",
           211
          ]
         ],
         "hovertemplate": "CustomName=%{customdata[0]}<br>yearquarter=%{x}<br>Topic_Ratio=%{y}<br>count_x=%{customdata[1]}<extra></extra>",
         "legendgroup": "WC Verfügbarkeit und Sauberkeit",
         "line": {
          "color": "#EDB183",
          "dash": "solid",
          "width": 2
         },
         "marker": {
          "symbol": "circle"
         },
         "mode": "lines",
         "name": "WC Verfügbarkeit und Sauberkeit",
         "orientation": "v",
         "showlegend": true,
         "text": [
          "Ausstattung Qualität Rollmaterial",
          "Corona",
          "Fahrplanangebot",
          "Feedback Umfrage",
          "Internet, Wlan und Mobilfunk",
          "Kommerzielle Angebote",
          "Kundeninformation",
          "Lob",
          "Outlier",
          "Platzangebot Velo, Gepäck, Kinderwagen",
          "Platzangebot Zug",
          "Preis-Leistung",
          "Pünktlichkeit",
          "Raumtemperatur Zug",
          "Sauberkeit Zug und Bahnhof",
          "Security",
          "Sonstiges",
          "Vertrieb und Services",
          "WC Verfügbarkeit und Sauberkeit",
          "Ausstattung Qualität Rollmaterial",
          "Corona",
          "Fahrplanangebot",
          "Feedback Umfrage",
          "Internet, Wlan und Mobilfunk",
          "Kommerzielle Angebote",
          "Kundeninformation",
          "Lob",
          "Outlier",
          "Platzangebot Velo, Gepäck, Kinderwagen",
          "Platzangebot Zug",
          "Preis-Leistung",
          "Pünktlichkeit",
          "Raumtemperatur Zug",
          "Sauberkeit Zug und Bahnhof",
          "Security",
          "Sonstiges",
          "Vertrieb und Services",
          "WC Verfügbarkeit und Sauberkeit",
          "Ausstattung Qualität Rollmaterial",
          "Corona",
          "Fahrplanangebot",
          "Feedback Umfrage",
          "Internet, Wlan und Mobilfunk",
          "Kommerzielle Angebote",
          "Kundeninformation",
          "Lob",
          "Outlier",
          "Platzangebot Velo, Gepäck, Kinderwagen",
          "Platzangebot Zug",
          "Preis-Leistung",
          "Pünktlichkeit",
          "Raumtemperatur Zug",
          "Sauberkeit Zug und Bahnhof",
          "Security",
          "Sonstiges",
          "Vertrieb und Services",
          "WC Verfügbarkeit und Sauberkeit",
          "Ausstattung Qualität Rollmaterial",
          "Corona",
          "Fahrplanangebot",
          "Feedback Umfrage",
          "Internet, Wlan und Mobilfunk",
          "Kommerzielle Angebote",
          "Kundeninformation",
          "Lob",
          "Outlier",
          "Platzangebot Velo, Gepäck, Kinderwagen",
          "Platzangebot Zug",
          "Preis-Leistung",
          "Pünktlichkeit",
          "Raumtemperatur Zug",
          "Sauberkeit Zug und Bahnhof",
          "Security",
          "Sonstiges",
          "Vertrieb und Services",
          "WC Verfügbarkeit und Sauberkeit",
          "Ausstattung Qualität Rollmaterial",
          "Corona",
          "Fahrplanangebot",
          "Feedback Umfrage",
          "Internet, Wlan und Mobilfunk",
          "Kommerzielle Angebote",
          "Kundeninformation",
          "Lob",
          "Outlier",
          "Platzangebot Velo, Gepäck, Kinderwagen",
          "Platzangebot Zug",
          "Preis-Leistung",
          "Pünktlichkeit",
          "Raumtemperatur Zug",
          "Sauberkeit Zug und Bahnhof",
          "Security",
          "Sonstiges",
          "Vertrieb und Services",
          "WC Verfügbarkeit und Sauberkeit",
          "Ausstattung Qualität Rollmaterial",
          "Corona",
          "Fahrplanangebot",
          "Feedback Umfrage",
          "Internet, Wlan und Mobilfunk",
          "Kommerzielle Angebote",
          "Kundeninformation",
          "Lob",
          "Outlier",
          "Platzangebot Velo, Gepäck, Kinderwagen",
          "Platzangebot Zug",
          "Preis-Leistung",
          "Pünktlichkeit",
          "Raumtemperatur Zug",
          "Sauberkeit Zug und Bahnhof",
          "Security",
          "Sonstiges",
          "Vertrieb und Services",
          "WC Verfügbarkeit und Sauberkeit",
          "Ausstattung Qualität Rollmaterial",
          "Corona",
          "Fahrplanangebot",
          "Feedback Umfrage",
          "Internet, Wlan und Mobilfunk",
          "Kommerzielle Angebote",
          "Kundeninformation",
          "Lob",
          "Outlier",
          "Platzangebot Velo, Gepäck, Kinderwagen",
          "Platzangebot Zug",
          "Preis-Leistung",
          "Pünktlichkeit",
          "Raumtemperatur Zug",
          "Sauberkeit Zug und Bahnhof",
          "Security",
          "Sonstiges",
          "Vertrieb und Services",
          "WC Verfügbarkeit und Sauberkeit",
          "Ausstattung Qualität Rollmaterial",
          "Corona",
          "Fahrplanangebot",
          "Feedback Umfrage",
          "Internet, Wlan und Mobilfunk",
          "Kommerzielle Angebote",
          "Kundeninformation",
          "Lob",
          "Outlier",
          "Platzangebot Velo, Gepäck, Kinderwagen",
          "Platzangebot Zug",
          "Preis-Leistung",
          "Pünktlichkeit",
          "Raumtemperatur Zug",
          "Sauberkeit Zug und Bahnhof",
          "Security",
          "Sonstiges",
          "Vertrieb und Services",
          "WC Verfügbarkeit und Sauberkeit",
          "Ausstattung Qualität Rollmaterial",
          "Corona",
          "Fahrplanangebot",
          "Feedback Umfrage",
          "Internet, Wlan und Mobilfunk",
          "Kommerzielle Angebote",
          "Kundeninformation",
          "Lob",
          "Outlier",
          "Platzangebot Velo, Gepäck, Kinderwagen",
          "Platzangebot Zug",
          "Preis-Leistung",
          "Pünktlichkeit",
          "Raumtemperatur Zug",
          "Sauberkeit Zug und Bahnhof",
          "Security",
          "Sonstiges",
          "Vertrieb und Services",
          "WC Verfügbarkeit und Sauberkeit",
          "Ausstattung Qualität Rollmaterial",
          "Corona",
          "Fahrplanangebot",
          "Feedback Umfrage",
          "Internet, Wlan und Mobilfunk",
          "Kommerzielle Angebote",
          "Kundeninformation",
          "Lob",
          "Outlier",
          "Platzangebot Velo, Gepäck, Kinderwagen",
          "Platzangebot Zug",
          "Preis-Leistung",
          "Pünktlichkeit",
          "Raumtemperatur Zug",
          "Sauberkeit Zug und Bahnhof",
          "Security",
          "Sonstiges",
          "Vertrieb und Services",
          "WC Verfügbarkeit und Sauberkeit",
          "Ausstattung Qualität Rollmaterial",
          "Corona",
          "Fahrplanangebot",
          "Feedback Umfrage",
          "Internet, Wlan und Mobilfunk",
          "Kommerzielle Angebote",
          "Kundeninformation",
          "Lob",
          "Outlier",
          "Platzangebot Velo, Gepäck, Kinderwagen",
          "Platzangebot Zug",
          "Preis-Leistung",
          "Pünktlichkeit",
          "Raumtemperatur Zug",
          "Sauberkeit Zug und Bahnhof",
          "Security",
          "Sonstiges",
          "Vertrieb und Services",
          "WC Verfügbarkeit und Sauberkeit",
          "Ausstattung Qualität Rollmaterial",
          "Corona",
          "Fahrplanangebot",
          "Feedback Umfrage",
          "Internet, Wlan und Mobilfunk",
          "Kommerzielle Angebote",
          "Kundeninformation",
          "Lob",
          "Outlier",
          "Platzangebot Velo, Gepäck, Kinderwagen",
          "Platzangebot Zug",
          "Preis-Leistung",
          "Pünktlichkeit",
          "Raumtemperatur Zug",
          "Sauberkeit Zug und Bahnhof",
          "Security",
          "Sonstiges",
          "Vertrieb und Services",
          "WC Verfügbarkeit und Sauberkeit",
          "Ausstattung Qualität Rollmaterial",
          "Corona",
          "Fahrplanangebot",
          "Feedback Umfrage",
          "Internet, Wlan und Mobilfunk",
          "Kommerzielle Angebote",
          "Kundeninformation",
          "Lob",
          "Outlier",
          "Platzangebot Velo, Gepäck, Kinderwagen",
          "Platzangebot Zug",
          "Preis-Leistung",
          "Pünktlichkeit",
          "Raumtemperatur Zug",
          "Sauberkeit Zug und Bahnhof",
          "Security",
          "Sonstiges",
          "Vertrieb und Services",
          "WC Verfügbarkeit und Sauberkeit",
          "Ausstattung Qualität Rollmaterial",
          "Corona",
          "Fahrplanangebot",
          "Feedback Umfrage",
          "Internet, Wlan und Mobilfunk",
          "Kommerzielle Angebote",
          "Kundeninformation",
          "Lob",
          "Outlier",
          "Platzangebot Velo, Gepäck, Kinderwagen",
          "Platzangebot Zug",
          "Preis-Leistung",
          "Pünktlichkeit",
          "Raumtemperatur Zug",
          "Sauberkeit Zug und Bahnhof",
          "Security",
          "Sonstiges",
          "Vertrieb und Services",
          "WC Verfügbarkeit und Sauberkeit",
          "Ausstattung Qualität Rollmaterial",
          "Corona",
          "Fahrplanangebot",
          "Feedback Umfrage",
          "Internet, Wlan und Mobilfunk",
          "Kommerzielle Angebote",
          "Kundeninformation",
          "Lob",
          "Outlier",
          "Platzangebot Velo, Gepäck, Kinderwagen",
          "Platzangebot Zug",
          "Preis-Leistung",
          "Pünktlichkeit",
          "Raumtemperatur Zug",
          "Sauberkeit Zug und Bahnhof",
          "Security",
          "Sonstiges",
          "Vertrieb und Services",
          "WC Verfügbarkeit und Sauberkeit",
          "Ausstattung Qualität Rollmaterial",
          "Corona",
          "Fahrplanangebot",
          "Feedback Umfrage",
          "Internet, Wlan und Mobilfunk",
          "Kommerzielle Angebote",
          "Kundeninformation",
          "Lob",
          "Outlier",
          "Platzangebot Velo, Gepäck, Kinderwagen",
          "Platzangebot Zug",
          "Preis-Leistung",
          "Pünktlichkeit",
          "Raumtemperatur Zug",
          "Sauberkeit Zug und Bahnhof",
          "Security",
          "Sonstiges",
          "Vertrieb und Services",
          "WC Verfügbarkeit und Sauberkeit"
         ],
         "type": "scatter",
         "x": [
          "2019Q1",
          "2019Q2",
          "2019Q3",
          "2019Q4",
          "2020Q1",
          "2020Q2",
          "2020Q3",
          "2020Q4",
          "2021Q1",
          "2021Q2",
          "2021Q3",
          "2021Q4",
          "2022Q1",
          "2022Q2",
          "2022Q3",
          "2022Q4"
         ],
         "xaxis": "x",
         "y": [
          0.05062263129399026,
          0.04612159329140461,
          0.04452433628318584,
          0.045343883140596467,
          0.05166051660516605,
          0.04427645788336933,
          0.03540701522170748,
          0.04309349749903809,
          0.04014272970561998,
          0.0456575682382134,
          0.040132200188857416,
          0.030361445783132532,
          0.038461538461538464,
          0.03794539565016196,
          0.03853136978010894,
          0.05064810369659146
         ],
         "yaxis": "y"
        }
       ],
       "layout": {
        "height": 450,
        "legend": {
         "title": {
          "text": ""
         },
         "tracegroupgap": 0
        },
        "margin": {
         "t": 60
        },
        "template": {
         "data": {
          "bar": [
           {
            "error_x": {
             "color": "#2a3f5f"
            },
            "error_y": {
             "color": "#2a3f5f"
            },
            "marker": {
             "line": {
              "color": "white",
              "width": 0.5
             },
             "pattern": {
              "fillmode": "overlay",
              "size": 10,
              "solidity": 0.2
             }
            },
            "type": "bar"
           }
          ],
          "barpolar": [
           {
            "marker": {
             "line": {
              "color": "white",
              "width": 0.5
             },
             "pattern": {
              "fillmode": "overlay",
              "size": 10,
              "solidity": 0.2
             }
            },
            "type": "barpolar"
           }
          ],
          "carpet": [
           {
            "aaxis": {
             "endlinecolor": "#2a3f5f",
             "gridcolor": "#C8D4E3",
             "linecolor": "#C8D4E3",
             "minorgridcolor": "#C8D4E3",
             "startlinecolor": "#2a3f5f"
            },
            "baxis": {
             "endlinecolor": "#2a3f5f",
             "gridcolor": "#C8D4E3",
             "linecolor": "#C8D4E3",
             "minorgridcolor": "#C8D4E3",
             "startlinecolor": "#2a3f5f"
            },
            "type": "carpet"
           }
          ],
          "choropleth": [
           {
            "colorbar": {
             "outlinewidth": 0,
             "ticks": ""
            },
            "type": "choropleth"
           }
          ],
          "contour": [
           {
            "colorbar": {
             "outlinewidth": 0,
             "ticks": ""
            },
            "colorscale": [
             [
              0,
              "#0d0887"
             ],
             [
              0.1111111111111111,
              "#46039f"
             ],
             [
              0.2222222222222222,
              "#7201a8"
             ],
             [
              0.3333333333333333,
              "#9c179e"
             ],
             [
              0.4444444444444444,
              "#bd3786"
             ],
             [
              0.5555555555555556,
              "#d8576b"
             ],
             [
              0.6666666666666666,
              "#ed7953"
             ],
             [
              0.7777777777777778,
              "#fb9f3a"
             ],
             [
              0.8888888888888888,
              "#fdca26"
             ],
             [
              1,
              "#f0f921"
             ]
            ],
            "type": "contour"
           }
          ],
          "contourcarpet": [
           {
            "colorbar": {
             "outlinewidth": 0,
             "ticks": ""
            },
            "type": "contourcarpet"
           }
          ],
          "heatmap": [
           {
            "colorbar": {
             "outlinewidth": 0,
             "ticks": ""
            },
            "colorscale": [
             [
              0,
              "#0d0887"
             ],
             [
              0.1111111111111111,
              "#46039f"
             ],
             [
              0.2222222222222222,
              "#7201a8"
             ],
             [
              0.3333333333333333,
              "#9c179e"
             ],
             [
              0.4444444444444444,
              "#bd3786"
             ],
             [
              0.5555555555555556,
              "#d8576b"
             ],
             [
              0.6666666666666666,
              "#ed7953"
             ],
             [
              0.7777777777777778,
              "#fb9f3a"
             ],
             [
              0.8888888888888888,
              "#fdca26"
             ],
             [
              1,
              "#f0f921"
             ]
            ],
            "type": "heatmap"
           }
          ],
          "heatmapgl": [
           {
            "colorbar": {
             "outlinewidth": 0,
             "ticks": ""
            },
            "colorscale": [
             [
              0,
              "#0d0887"
             ],
             [
              0.1111111111111111,
              "#46039f"
             ],
             [
              0.2222222222222222,
              "#7201a8"
             ],
             [
              0.3333333333333333,
              "#9c179e"
             ],
             [
              0.4444444444444444,
              "#bd3786"
             ],
             [
              0.5555555555555556,
              "#d8576b"
             ],
             [
              0.6666666666666666,
              "#ed7953"
             ],
             [
              0.7777777777777778,
              "#fb9f3a"
             ],
             [
              0.8888888888888888,
              "#fdca26"
             ],
             [
              1,
              "#f0f921"
             ]
            ],
            "type": "heatmapgl"
           }
          ],
          "histogram": [
           {
            "marker": {
             "pattern": {
              "fillmode": "overlay",
              "size": 10,
              "solidity": 0.2
             }
            },
            "type": "histogram"
           }
          ],
          "histogram2d": [
           {
            "colorbar": {
             "outlinewidth": 0,
             "ticks": ""
            },
            "colorscale": [
             [
              0,
              "#0d0887"
             ],
             [
              0.1111111111111111,
              "#46039f"
             ],
             [
              0.2222222222222222,
              "#7201a8"
             ],
             [
              0.3333333333333333,
              "#9c179e"
             ],
             [
              0.4444444444444444,
              "#bd3786"
             ],
             [
              0.5555555555555556,
              "#d8576b"
             ],
             [
              0.6666666666666666,
              "#ed7953"
             ],
             [
              0.7777777777777778,
              "#fb9f3a"
             ],
             [
              0.8888888888888888,
              "#fdca26"
             ],
             [
              1,
              "#f0f921"
             ]
            ],
            "type": "histogram2d"
           }
          ],
          "histogram2dcontour": [
           {
            "colorbar": {
             "outlinewidth": 0,
             "ticks": ""
            },
            "colorscale": [
             [
              0,
              "#0d0887"
             ],
             [
              0.1111111111111111,
              "#46039f"
             ],
             [
              0.2222222222222222,
              "#7201a8"
             ],
             [
              0.3333333333333333,
              "#9c179e"
             ],
             [
              0.4444444444444444,
              "#bd3786"
             ],
             [
              0.5555555555555556,
              "#d8576b"
             ],
             [
              0.6666666666666666,
              "#ed7953"
             ],
             [
              0.7777777777777778,
              "#fb9f3a"
             ],
             [
              0.8888888888888888,
              "#fdca26"
             ],
             [
              1,
              "#f0f921"
             ]
            ],
            "type": "histogram2dcontour"
           }
          ],
          "mesh3d": [
           {
            "colorbar": {
             "outlinewidth": 0,
             "ticks": ""
            },
            "type": "mesh3d"
           }
          ],
          "parcoords": [
           {
            "line": {
             "colorbar": {
              "outlinewidth": 0,
              "ticks": ""
             }
            },
            "type": "parcoords"
           }
          ],
          "pie": [
           {
            "automargin": true,
            "type": "pie"
           }
          ],
          "scatter": [
           {
            "fillpattern": {
             "fillmode": "overlay",
             "size": 10,
             "solidity": 0.2
            },
            "type": "scatter"
           }
          ],
          "scatter3d": [
           {
            "line": {
             "colorbar": {
              "outlinewidth": 0,
              "ticks": ""
             }
            },
            "marker": {
             "colorbar": {
              "outlinewidth": 0,
              "ticks": ""
             }
            },
            "type": "scatter3d"
           }
          ],
          "scattercarpet": [
           {
            "marker": {
             "colorbar": {
              "outlinewidth": 0,
              "ticks": ""
             }
            },
            "type": "scattercarpet"
           }
          ],
          "scattergeo": [
           {
            "marker": {
             "colorbar": {
              "outlinewidth": 0,
              "ticks": ""
             }
            },
            "type": "scattergeo"
           }
          ],
          "scattergl": [
           {
            "marker": {
             "colorbar": {
              "outlinewidth": 0,
              "ticks": ""
             }
            },
            "type": "scattergl"
           }
          ],
          "scattermapbox": [
           {
            "marker": {
             "colorbar": {
              "outlinewidth": 0,
              "ticks": ""
             }
            },
            "type": "scattermapbox"
           }
          ],
          "scatterpolar": [
           {
            "marker": {
             "colorbar": {
              "outlinewidth": 0,
              "ticks": ""
             }
            },
            "type": "scatterpolar"
           }
          ],
          "scatterpolargl": [
           {
            "marker": {
             "colorbar": {
              "outlinewidth": 0,
              "ticks": ""
             }
            },
            "type": "scatterpolargl"
           }
          ],
          "scatterternary": [
           {
            "marker": {
             "colorbar": {
              "outlinewidth": 0,
              "ticks": ""
             }
            },
            "type": "scatterternary"
           }
          ],
          "surface": [
           {
            "colorbar": {
             "outlinewidth": 0,
             "ticks": ""
            },
            "colorscale": [
             [
              0,
              "#0d0887"
             ],
             [
              0.1111111111111111,
              "#46039f"
             ],
             [
              0.2222222222222222,
              "#7201a8"
             ],
             [
              0.3333333333333333,
              "#9c179e"
             ],
             [
              0.4444444444444444,
              "#bd3786"
             ],
             [
              0.5555555555555556,
              "#d8576b"
             ],
             [
              0.6666666666666666,
              "#ed7953"
             ],
             [
              0.7777777777777778,
              "#fb9f3a"
             ],
             [
              0.8888888888888888,
              "#fdca26"
             ],
             [
              1,
              "#f0f921"
             ]
            ],
            "type": "surface"
           }
          ],
          "table": [
           {
            "cells": {
             "fill": {
              "color": "#EBF0F8"
             },
             "line": {
              "color": "white"
             }
            },
            "header": {
             "fill": {
              "color": "#C8D4E3"
             },
             "line": {
              "color": "white"
             }
            },
            "type": "table"
           }
          ]
         },
         "layout": {
          "annotationdefaults": {
           "arrowcolor": "#2a3f5f",
           "arrowhead": 0,
           "arrowwidth": 1
          },
          "autotypenumbers": "strict",
          "coloraxis": {
           "colorbar": {
            "outlinewidth": 0,
            "ticks": ""
           }
          },
          "colorscale": {
           "diverging": [
            [
             0,
             "#8e0152"
            ],
            [
             0.1,
             "#c51b7d"
            ],
            [
             0.2,
             "#de77ae"
            ],
            [
             0.3,
             "#f1b6da"
            ],
            [
             0.4,
             "#fde0ef"
            ],
            [
             0.5,
             "#f7f7f7"
            ],
            [
             0.6,
             "#e6f5d0"
            ],
            [
             0.7,
             "#b8e186"
            ],
            [
             0.8,
             "#7fbc41"
            ],
            [
             0.9,
             "#4d9221"
            ],
            [
             1,
             "#276419"
            ]
           ],
           "sequential": [
            [
             0,
             "#0d0887"
            ],
            [
             0.1111111111111111,
             "#46039f"
            ],
            [
             0.2222222222222222,
             "#7201a8"
            ],
            [
             0.3333333333333333,
             "#9c179e"
            ],
            [
             0.4444444444444444,
             "#bd3786"
            ],
            [
             0.5555555555555556,
             "#d8576b"
            ],
            [
             0.6666666666666666,
             "#ed7953"
            ],
            [
             0.7777777777777778,
             "#fb9f3a"
            ],
            [
             0.8888888888888888,
             "#fdca26"
            ],
            [
             1,
             "#f0f921"
            ]
           ],
           "sequentialminus": [
            [
             0,
             "#0d0887"
            ],
            [
             0.1111111111111111,
             "#46039f"
            ],
            [
             0.2222222222222222,
             "#7201a8"
            ],
            [
             0.3333333333333333,
             "#9c179e"
            ],
            [
             0.4444444444444444,
             "#bd3786"
            ],
            [
             0.5555555555555556,
             "#d8576b"
            ],
            [
             0.6666666666666666,
             "#ed7953"
            ],
            [
             0.7777777777777778,
             "#fb9f3a"
            ],
            [
             0.8888888888888888,
             "#fdca26"
            ],
            [
             1,
             "#f0f921"
            ]
           ]
          },
          "colorway": [
           "#636efa",
           "#EF553B",
           "#00cc96",
           "#ab63fa",
           "#FFA15A",
           "#19d3f3",
           "#FF6692",
           "#B6E880",
           "#FF97FF",
           "#FECB52"
          ],
          "font": {
           "color": "#2a3f5f"
          },
          "geo": {
           "bgcolor": "white",
           "lakecolor": "white",
           "landcolor": "white",
           "showlakes": true,
           "showland": true,
           "subunitcolor": "#C8D4E3"
          },
          "hoverlabel": {
           "align": "left"
          },
          "hovermode": "closest",
          "mapbox": {
           "style": "light"
          },
          "paper_bgcolor": "white",
          "plot_bgcolor": "white",
          "polar": {
           "angularaxis": {
            "gridcolor": "#EBF0F8",
            "linecolor": "#EBF0F8",
            "ticks": ""
           },
           "bgcolor": "white",
           "radialaxis": {
            "gridcolor": "#EBF0F8",
            "linecolor": "#EBF0F8",
            "ticks": ""
           }
          },
          "scene": {
           "xaxis": {
            "backgroundcolor": "white",
            "gridcolor": "#DFE8F3",
            "gridwidth": 2,
            "linecolor": "#EBF0F8",
            "showbackground": true,
            "ticks": "",
            "zerolinecolor": "#EBF0F8"
           },
           "yaxis": {
            "backgroundcolor": "white",
            "gridcolor": "#DFE8F3",
            "gridwidth": 2,
            "linecolor": "#EBF0F8",
            "showbackground": true,
            "ticks": "",
            "zerolinecolor": "#EBF0F8"
           },
           "zaxis": {
            "backgroundcolor": "white",
            "gridcolor": "#DFE8F3",
            "gridwidth": 2,
            "linecolor": "#EBF0F8",
            "showbackground": true,
            "ticks": "",
            "zerolinecolor": "#EBF0F8"
           }
          },
          "shapedefaults": {
           "line": {
            "color": "#2a3f5f"
           }
          },
          "ternary": {
           "aaxis": {
            "gridcolor": "#DFE8F3",
            "linecolor": "#A2B1C6",
            "ticks": ""
           },
           "baxis": {
            "gridcolor": "#DFE8F3",
            "linecolor": "#A2B1C6",
            "ticks": ""
           },
           "bgcolor": "white",
           "caxis": {
            "gridcolor": "#DFE8F3",
            "linecolor": "#A2B1C6",
            "ticks": ""
           }
          },
          "title": {
           "x": 0.05
          },
          "xaxis": {
           "automargin": true,
           "gridcolor": "#EBF0F8",
           "linecolor": "#EBF0F8",
           "ticks": "",
           "title": {
            "standoff": 15
           },
           "zerolinecolor": "#EBF0F8",
           "zerolinewidth": 2
          },
          "yaxis": {
           "automargin": true,
           "gridcolor": "#EBF0F8",
           "linecolor": "#EBF0F8",
           "ticks": "",
           "title": {
            "standoff": 15
           },
           "zerolinecolor": "#EBF0F8",
           "zerolinewidth": 2
          }
         }
        },
        "title": {
         "text": "Themenrelevanz nach Quartal (2019 - 2022)"
        },
        "width": 900,
        "xaxis": {
         "anchor": "y",
         "domain": [
          0,
          1
         ],
         "title": {
          "text": ""
         }
        },
        "yaxis": {
         "anchor": "x",
         "domain": [
          0,
          1
         ],
         "title": {
          "text": "Häufigkeit"
         }
        }
       }
      }
     },
     "metadata": {},
     "output_type": "display_data"
    }
   ],
   "source": [
    "fig = px.line(df_topics_by_quarter,\n",
    "              x=\"yearquarter\",\n",
    "              y=\"Topic_Ratio\",\n",
    "              color=\"CustomName\",\n",
    "              hover_data=[\"yearquarter\",\"CustomName\",\"count_x\",\"Topic_Ratio\"],\n",
    "              color_discrete_sequence=color_discrete_sequence,\n",
    "              template=template)\n",
    "\n",
    "fig.update_layout(\n",
    "    title=\"Themenrelevanz nach Quartal (2019 - 2022)\",\n",
    "    yaxis_title='Häufigkeit',\n",
    "    xaxis_title='',\n",
    "    legend_title=\"\",\n",
    "    width=900, \n",
    "    height=450)\n",
    "\n",
    "fig.update_traces(line_width=2, text=df_topics_by_quarter['CustomName'])\n",
    "\n",
    "#fig.update_yaxes(range=(0,0.2))\n",
    "pio.write_image(fig,\"../../exports/images/Themencluster_Zeitachse_1.svg\") #save fig as svg\n",
    "fig.show()"
   ]
  },
  {
   "cell_type": "code",
   "execution_count": 35,
   "metadata": {},
   "outputs": [],
   "source": [
    "\n",
    "df_count_satisfaction = df_topics_by_quarter[df_topics_by_quarter['CustomName'].isin(['Corona','Internet, Wlan und Mobilfunk','Platzangebot Velo, Gepäck, Kinderwagen','Pünktlichkeit'])]\n"
   ]
  },
  {
   "cell_type": "code",
   "execution_count": 36,
   "metadata": {},
   "outputs": [
    {
     "data": {
      "application/vnd.plotly.v1+json": {
       "config": {
        "plotlyServerURL": "https://plot.ly"
       },
       "data": [
        {
         "line": {
          "color": "#49787F",
          "width": 2
         },
         "mode": "lines",
         "name": "Corona",
         "text": [
          "Corona",
          "Internet, Wlan und Mobilfunk",
          "Platzangebot Velo, Gepäck, Kinderwagen",
          "Pünktlichkeit",
          "Corona",
          "Internet, Wlan und Mobilfunk",
          "Platzangebot Velo, Gepäck, Kinderwagen",
          "Pünktlichkeit",
          "Corona",
          "Internet, Wlan und Mobilfunk",
          "Platzangebot Velo, Gepäck, Kinderwagen",
          "Pünktlichkeit",
          "Corona",
          "Internet, Wlan und Mobilfunk",
          "Platzangebot Velo, Gepäck, Kinderwagen",
          "Pünktlichkeit",
          "Corona",
          "Internet, Wlan und Mobilfunk",
          "Platzangebot Velo, Gepäck, Kinderwagen",
          "Pünktlichkeit",
          "Corona",
          "Internet, Wlan und Mobilfunk",
          "Platzangebot Velo, Gepäck, Kinderwagen",
          "Pünktlichkeit",
          "Corona",
          "Internet, Wlan und Mobilfunk",
          "Platzangebot Velo, Gepäck, Kinderwagen",
          "Pünktlichkeit",
          "Corona",
          "Internet, Wlan und Mobilfunk",
          "Platzangebot Velo, Gepäck, Kinderwagen",
          "Pünktlichkeit",
          "Corona",
          "Internet, Wlan und Mobilfunk",
          "Platzangebot Velo, Gepäck, Kinderwagen",
          "Pünktlichkeit",
          "Corona",
          "Internet, Wlan und Mobilfunk",
          "Platzangebot Velo, Gepäck, Kinderwagen",
          "Pünktlichkeit",
          "Corona",
          "Internet, Wlan und Mobilfunk",
          "Platzangebot Velo, Gepäck, Kinderwagen",
          "Pünktlichkeit",
          "Corona",
          "Internet, Wlan und Mobilfunk",
          "Platzangebot Velo, Gepäck, Kinderwagen",
          "Pünktlichkeit",
          "Corona",
          "Internet, Wlan und Mobilfunk",
          "Platzangebot Velo, Gepäck, Kinderwagen",
          "Pünktlichkeit",
          "Corona",
          "Internet, Wlan und Mobilfunk",
          "Platzangebot Velo, Gepäck, Kinderwagen",
          "Pünktlichkeit",
          "Corona",
          "Internet, Wlan und Mobilfunk",
          "Platzangebot Velo, Gepäck, Kinderwagen",
          "Pünktlichkeit",
          "Corona",
          "Internet, Wlan und Mobilfunk",
          "Platzangebot Velo, Gepäck, Kinderwagen",
          "Pünktlichkeit"
         ],
         "type": "scatter",
         "x": [
          "2019Q1",
          "2019Q2",
          "2019Q3",
          "2019Q4",
          "2020Q1",
          "2020Q2",
          "2020Q3",
          "2020Q4",
          "2021Q1",
          "2021Q2",
          "2021Q3",
          "2021Q4",
          "2022Q1",
          "2022Q2",
          "2022Q3",
          "2022Q4"
         ],
         "y": [
          0.004872766648619383,
          0.004979035639412998,
          0.004148230088495576,
          0.0030432136335970784,
          0.0051660516605166054,
          0.1468682505399568,
          0.1373262739907346,
          0.09888418622547133,
          0.09634255129348795,
          0.06401985111662531,
          0.06704438149197356,
          0.10554216867469879,
          0.08302808302808302,
          0.016196205460434984,
          0.008069396812588258,
          0.010321651464234277
         ]
        },
        {
         "line": {
          "color": "#A96262",
          "width": 2
         },
         "mode": "lines",
         "name": "Internet, Wlan und Mobilfunk",
         "text": [
          "Corona",
          "Internet, Wlan und Mobilfunk",
          "Platzangebot Velo, Gepäck, Kinderwagen",
          "Pünktlichkeit",
          "Corona",
          "Internet, Wlan und Mobilfunk",
          "Platzangebot Velo, Gepäck, Kinderwagen",
          "Pünktlichkeit",
          "Corona",
          "Internet, Wlan und Mobilfunk",
          "Platzangebot Velo, Gepäck, Kinderwagen",
          "Pünktlichkeit",
          "Corona",
          "Internet, Wlan und Mobilfunk",
          "Platzangebot Velo, Gepäck, Kinderwagen",
          "Pünktlichkeit",
          "Corona",
          "Internet, Wlan und Mobilfunk",
          "Platzangebot Velo, Gepäck, Kinderwagen",
          "Pünktlichkeit",
          "Corona",
          "Internet, Wlan und Mobilfunk",
          "Platzangebot Velo, Gepäck, Kinderwagen",
          "Pünktlichkeit",
          "Corona",
          "Internet, Wlan und Mobilfunk",
          "Platzangebot Velo, Gepäck, Kinderwagen",
          "Pünktlichkeit",
          "Corona",
          "Internet, Wlan und Mobilfunk",
          "Platzangebot Velo, Gepäck, Kinderwagen",
          "Pünktlichkeit",
          "Corona",
          "Internet, Wlan und Mobilfunk",
          "Platzangebot Velo, Gepäck, Kinderwagen",
          "Pünktlichkeit",
          "Corona",
          "Internet, Wlan und Mobilfunk",
          "Platzangebot Velo, Gepäck, Kinderwagen",
          "Pünktlichkeit",
          "Corona",
          "Internet, Wlan und Mobilfunk",
          "Platzangebot Velo, Gepäck, Kinderwagen",
          "Pünktlichkeit",
          "Corona",
          "Internet, Wlan und Mobilfunk",
          "Platzangebot Velo, Gepäck, Kinderwagen",
          "Pünktlichkeit",
          "Corona",
          "Internet, Wlan und Mobilfunk",
          "Platzangebot Velo, Gepäck, Kinderwagen",
          "Pünktlichkeit",
          "Corona",
          "Internet, Wlan und Mobilfunk",
          "Platzangebot Velo, Gepäck, Kinderwagen",
          "Pünktlichkeit",
          "Corona",
          "Internet, Wlan und Mobilfunk",
          "Platzangebot Velo, Gepäck, Kinderwagen",
          "Pünktlichkeit",
          "Corona",
          "Internet, Wlan und Mobilfunk",
          "Platzangebot Velo, Gepäck, Kinderwagen",
          "Pünktlichkeit"
         ],
         "type": "scatter",
         "x": [
          "2019Q1",
          "2019Q2",
          "2019Q3",
          "2019Q4",
          "2020Q1",
          "2020Q2",
          "2020Q3",
          "2020Q4",
          "2021Q1",
          "2021Q2",
          "2021Q3",
          "2021Q4",
          "2022Q1",
          "2022Q2",
          "2022Q3",
          "2022Q4"
         ],
         "y": [
          0.01705468327016784,
          0.014150943396226415,
          0.0146570796460177,
          0.010651247717589775,
          0.015498154981549815,
          0.01511879049676026,
          0.019523494374586368,
          0.024240092343208928,
          0.030330062444246207,
          0.03076923076923077,
          0.0226628895184136,
          0.027951807228915663,
          0.031135531135531136,
          0.031004164738546967,
          0.026830744401855962,
          0.031925108017282766
         ]
        },
        {
         "line": {
          "color": "#F06969",
          "width": 2
         },
         "mode": "lines",
         "name": "Platzangebot Velo, Gepäck, Kinderwagen",
         "text": [
          "Corona",
          "Internet, Wlan und Mobilfunk",
          "Platzangebot Velo, Gepäck, Kinderwagen",
          "Pünktlichkeit",
          "Corona",
          "Internet, Wlan und Mobilfunk",
          "Platzangebot Velo, Gepäck, Kinderwagen",
          "Pünktlichkeit",
          "Corona",
          "Internet, Wlan und Mobilfunk",
          "Platzangebot Velo, Gepäck, Kinderwagen",
          "Pünktlichkeit",
          "Corona",
          "Internet, Wlan und Mobilfunk",
          "Platzangebot Velo, Gepäck, Kinderwagen",
          "Pünktlichkeit",
          "Corona",
          "Internet, Wlan und Mobilfunk",
          "Platzangebot Velo, Gepäck, Kinderwagen",
          "Pünktlichkeit",
          "Corona",
          "Internet, Wlan und Mobilfunk",
          "Platzangebot Velo, Gepäck, Kinderwagen",
          "Pünktlichkeit",
          "Corona",
          "Internet, Wlan und Mobilfunk",
          "Platzangebot Velo, Gepäck, Kinderwagen",
          "Pünktlichkeit",
          "Corona",
          "Internet, Wlan und Mobilfunk",
          "Platzangebot Velo, Gepäck, Kinderwagen",
          "Pünktlichkeit",
          "Corona",
          "Internet, Wlan und Mobilfunk",
          "Platzangebot Velo, Gepäck, Kinderwagen",
          "Pünktlichkeit",
          "Corona",
          "Internet, Wlan und Mobilfunk",
          "Platzangebot Velo, Gepäck, Kinderwagen",
          "Pünktlichkeit",
          "Corona",
          "Internet, Wlan und Mobilfunk",
          "Platzangebot Velo, Gepäck, Kinderwagen",
          "Pünktlichkeit",
          "Corona",
          "Internet, Wlan und Mobilfunk",
          "Platzangebot Velo, Gepäck, Kinderwagen",
          "Pünktlichkeit",
          "Corona",
          "Internet, Wlan und Mobilfunk",
          "Platzangebot Velo, Gepäck, Kinderwagen",
          "Pünktlichkeit",
          "Corona",
          "Internet, Wlan und Mobilfunk",
          "Platzangebot Velo, Gepäck, Kinderwagen",
          "Pünktlichkeit",
          "Corona",
          "Internet, Wlan und Mobilfunk",
          "Platzangebot Velo, Gepäck, Kinderwagen",
          "Pünktlichkeit",
          "Corona",
          "Internet, Wlan und Mobilfunk",
          "Platzangebot Velo, Gepäck, Kinderwagen",
          "Pünktlichkeit"
         ],
         "type": "scatter",
         "x": [
          "2019Q1",
          "2019Q2",
          "2019Q3",
          "2019Q4",
          "2020Q1",
          "2020Q2",
          "2020Q3",
          "2020Q4",
          "2021Q1",
          "2021Q2",
          "2021Q3",
          "2021Q4",
          "2022Q1",
          "2022Q2",
          "2022Q3",
          "2022Q4"
         ],
         "y": [
          0.04250135354629128,
          0.05188679245283019,
          0.06637168141592921,
          0.03134510042604991,
          0.03948339483394834,
          0.04319654427645788,
          0.04632693580410324,
          0.02770296267795306,
          0.029438001784121322,
          0.06501240694789082,
          0.059017941454202076,
          0.03228915662650603,
          0.03540903540903541,
          0.06108283202221194,
          0.07988702844462377,
          0.04872779644743159
         ]
        },
        {
         "line": {
          "color": "#C499CA",
          "width": 2
         },
         "mode": "lines",
         "name": "Pünktlichkeit",
         "text": [
          "Corona",
          "Internet, Wlan und Mobilfunk",
          "Platzangebot Velo, Gepäck, Kinderwagen",
          "Pünktlichkeit",
          "Corona",
          "Internet, Wlan und Mobilfunk",
          "Platzangebot Velo, Gepäck, Kinderwagen",
          "Pünktlichkeit",
          "Corona",
          "Internet, Wlan und Mobilfunk",
          "Platzangebot Velo, Gepäck, Kinderwagen",
          "Pünktlichkeit",
          "Corona",
          "Internet, Wlan und Mobilfunk",
          "Platzangebot Velo, Gepäck, Kinderwagen",
          "Pünktlichkeit",
          "Corona",
          "Internet, Wlan und Mobilfunk",
          "Platzangebot Velo, Gepäck, Kinderwagen",
          "Pünktlichkeit",
          "Corona",
          "Internet, Wlan und Mobilfunk",
          "Platzangebot Velo, Gepäck, Kinderwagen",
          "Pünktlichkeit",
          "Corona",
          "Internet, Wlan und Mobilfunk",
          "Platzangebot Velo, Gepäck, Kinderwagen",
          "Pünktlichkeit",
          "Corona",
          "Internet, Wlan und Mobilfunk",
          "Platzangebot Velo, Gepäck, Kinderwagen",
          "Pünktlichkeit",
          "Corona",
          "Internet, Wlan und Mobilfunk",
          "Platzangebot Velo, Gepäck, Kinderwagen",
          "Pünktlichkeit",
          "Corona",
          "Internet, Wlan und Mobilfunk",
          "Platzangebot Velo, Gepäck, Kinderwagen",
          "Pünktlichkeit",
          "Corona",
          "Internet, Wlan und Mobilfunk",
          "Platzangebot Velo, Gepäck, Kinderwagen",
          "Pünktlichkeit",
          "Corona",
          "Internet, Wlan und Mobilfunk",
          "Platzangebot Velo, Gepäck, Kinderwagen",
          "Pünktlichkeit",
          "Corona",
          "Internet, Wlan und Mobilfunk",
          "Platzangebot Velo, Gepäck, Kinderwagen",
          "Pünktlichkeit",
          "Corona",
          "Internet, Wlan und Mobilfunk",
          "Platzangebot Velo, Gepäck, Kinderwagen",
          "Pünktlichkeit",
          "Corona",
          "Internet, Wlan und Mobilfunk",
          "Platzangebot Velo, Gepäck, Kinderwagen",
          "Pünktlichkeit",
          "Corona",
          "Internet, Wlan und Mobilfunk",
          "Platzangebot Velo, Gepäck, Kinderwagen",
          "Pünktlichkeit"
         ],
         "type": "scatter",
         "x": [
          "2019Q1",
          "2019Q2",
          "2019Q3",
          "2019Q4",
          "2020Q1",
          "2020Q2",
          "2020Q3",
          "2020Q4",
          "2021Q1",
          "2021Q2",
          "2021Q3",
          "2021Q4",
          "2022Q1",
          "2022Q2",
          "2022Q3",
          "2022Q4"
         ],
         "y": [
          0.19707634001082838,
          0.19025157232704404,
          0.1905420353982301,
          0.22915398660986,
          0.22583025830258302,
          0.15226781857451405,
          0.15651886168100596,
          0.1608310888803386,
          0.1632471008028546,
          0.1598014888337469,
          0.1529745042492918,
          0.1763855421686747,
          0.1807081807081807,
          0.20407218880148079,
          0.1864030663707888,
          0.18290926548247718
         ]
        }
       ],
       "layout": {
        "height": 450,
        "legend": {
         "orientation": "h",
         "title": {
          "text": ""
         },
         "x": 0.5,
         "xanchor": "center",
         "y": 1.1,
         "yanchor": "top"
        },
        "showlegend": true,
        "template": {
         "data": {
          "bar": [
           {
            "error_x": {
             "color": "#2a3f5f"
            },
            "error_y": {
             "color": "#2a3f5f"
            },
            "marker": {
             "line": {
              "color": "#E5ECF6",
              "width": 0.5
             },
             "pattern": {
              "fillmode": "overlay",
              "size": 10,
              "solidity": 0.2
             }
            },
            "type": "bar"
           }
          ],
          "barpolar": [
           {
            "marker": {
             "line": {
              "color": "#E5ECF6",
              "width": 0.5
             },
             "pattern": {
              "fillmode": "overlay",
              "size": 10,
              "solidity": 0.2
             }
            },
            "type": "barpolar"
           }
          ],
          "carpet": [
           {
            "aaxis": {
             "endlinecolor": "#2a3f5f",
             "gridcolor": "white",
             "linecolor": "white",
             "minorgridcolor": "white",
             "startlinecolor": "#2a3f5f"
            },
            "baxis": {
             "endlinecolor": "#2a3f5f",
             "gridcolor": "white",
             "linecolor": "white",
             "minorgridcolor": "white",
             "startlinecolor": "#2a3f5f"
            },
            "type": "carpet"
           }
          ],
          "choropleth": [
           {
            "colorbar": {
             "outlinewidth": 0,
             "ticks": ""
            },
            "type": "choropleth"
           }
          ],
          "contour": [
           {
            "colorbar": {
             "outlinewidth": 0,
             "ticks": ""
            },
            "colorscale": [
             [
              0,
              "#0d0887"
             ],
             [
              0.1111111111111111,
              "#46039f"
             ],
             [
              0.2222222222222222,
              "#7201a8"
             ],
             [
              0.3333333333333333,
              "#9c179e"
             ],
             [
              0.4444444444444444,
              "#bd3786"
             ],
             [
              0.5555555555555556,
              "#d8576b"
             ],
             [
              0.6666666666666666,
              "#ed7953"
             ],
             [
              0.7777777777777778,
              "#fb9f3a"
             ],
             [
              0.8888888888888888,
              "#fdca26"
             ],
             [
              1,
              "#f0f921"
             ]
            ],
            "type": "contour"
           }
          ],
          "contourcarpet": [
           {
            "colorbar": {
             "outlinewidth": 0,
             "ticks": ""
            },
            "type": "contourcarpet"
           }
          ],
          "heatmap": [
           {
            "colorbar": {
             "outlinewidth": 0,
             "ticks": ""
            },
            "colorscale": [
             [
              0,
              "#0d0887"
             ],
             [
              0.1111111111111111,
              "#46039f"
             ],
             [
              0.2222222222222222,
              "#7201a8"
             ],
             [
              0.3333333333333333,
              "#9c179e"
             ],
             [
              0.4444444444444444,
              "#bd3786"
             ],
             [
              0.5555555555555556,
              "#d8576b"
             ],
             [
              0.6666666666666666,
              "#ed7953"
             ],
             [
              0.7777777777777778,
              "#fb9f3a"
             ],
             [
              0.8888888888888888,
              "#fdca26"
             ],
             [
              1,
              "#f0f921"
             ]
            ],
            "type": "heatmap"
           }
          ],
          "heatmapgl": [
           {
            "colorbar": {
             "outlinewidth": 0,
             "ticks": ""
            },
            "colorscale": [
             [
              0,
              "#0d0887"
             ],
             [
              0.1111111111111111,
              "#46039f"
             ],
             [
              0.2222222222222222,
              "#7201a8"
             ],
             [
              0.3333333333333333,
              "#9c179e"
             ],
             [
              0.4444444444444444,
              "#bd3786"
             ],
             [
              0.5555555555555556,
              "#d8576b"
             ],
             [
              0.6666666666666666,
              "#ed7953"
             ],
             [
              0.7777777777777778,
              "#fb9f3a"
             ],
             [
              0.8888888888888888,
              "#fdca26"
             ],
             [
              1,
              "#f0f921"
             ]
            ],
            "type": "heatmapgl"
           }
          ],
          "histogram": [
           {
            "marker": {
             "pattern": {
              "fillmode": "overlay",
              "size": 10,
              "solidity": 0.2
             }
            },
            "type": "histogram"
           }
          ],
          "histogram2d": [
           {
            "colorbar": {
             "outlinewidth": 0,
             "ticks": ""
            },
            "colorscale": [
             [
              0,
              "#0d0887"
             ],
             [
              0.1111111111111111,
              "#46039f"
             ],
             [
              0.2222222222222222,
              "#7201a8"
             ],
             [
              0.3333333333333333,
              "#9c179e"
             ],
             [
              0.4444444444444444,
              "#bd3786"
             ],
             [
              0.5555555555555556,
              "#d8576b"
             ],
             [
              0.6666666666666666,
              "#ed7953"
             ],
             [
              0.7777777777777778,
              "#fb9f3a"
             ],
             [
              0.8888888888888888,
              "#fdca26"
             ],
             [
              1,
              "#f0f921"
             ]
            ],
            "type": "histogram2d"
           }
          ],
          "histogram2dcontour": [
           {
            "colorbar": {
             "outlinewidth": 0,
             "ticks": ""
            },
            "colorscale": [
             [
              0,
              "#0d0887"
             ],
             [
              0.1111111111111111,
              "#46039f"
             ],
             [
              0.2222222222222222,
              "#7201a8"
             ],
             [
              0.3333333333333333,
              "#9c179e"
             ],
             [
              0.4444444444444444,
              "#bd3786"
             ],
             [
              0.5555555555555556,
              "#d8576b"
             ],
             [
              0.6666666666666666,
              "#ed7953"
             ],
             [
              0.7777777777777778,
              "#fb9f3a"
             ],
             [
              0.8888888888888888,
              "#fdca26"
             ],
             [
              1,
              "#f0f921"
             ]
            ],
            "type": "histogram2dcontour"
           }
          ],
          "mesh3d": [
           {
            "colorbar": {
             "outlinewidth": 0,
             "ticks": ""
            },
            "type": "mesh3d"
           }
          ],
          "parcoords": [
           {
            "line": {
             "colorbar": {
              "outlinewidth": 0,
              "ticks": ""
             }
            },
            "type": "parcoords"
           }
          ],
          "pie": [
           {
            "automargin": true,
            "type": "pie"
           }
          ],
          "scatter": [
           {
            "fillpattern": {
             "fillmode": "overlay",
             "size": 10,
             "solidity": 0.2
            },
            "type": "scatter"
           }
          ],
          "scatter3d": [
           {
            "line": {
             "colorbar": {
              "outlinewidth": 0,
              "ticks": ""
             }
            },
            "marker": {
             "colorbar": {
              "outlinewidth": 0,
              "ticks": ""
             }
            },
            "type": "scatter3d"
           }
          ],
          "scattercarpet": [
           {
            "marker": {
             "colorbar": {
              "outlinewidth": 0,
              "ticks": ""
             }
            },
            "type": "scattercarpet"
           }
          ],
          "scattergeo": [
           {
            "marker": {
             "colorbar": {
              "outlinewidth": 0,
              "ticks": ""
             }
            },
            "type": "scattergeo"
           }
          ],
          "scattergl": [
           {
            "marker": {
             "colorbar": {
              "outlinewidth": 0,
              "ticks": ""
             }
            },
            "type": "scattergl"
           }
          ],
          "scattermapbox": [
           {
            "marker": {
             "colorbar": {
              "outlinewidth": 0,
              "ticks": ""
             }
            },
            "type": "scattermapbox"
           }
          ],
          "scatterpolar": [
           {
            "marker": {
             "colorbar": {
              "outlinewidth": 0,
              "ticks": ""
             }
            },
            "type": "scatterpolar"
           }
          ],
          "scatterpolargl": [
           {
            "marker": {
             "colorbar": {
              "outlinewidth": 0,
              "ticks": ""
             }
            },
            "type": "scatterpolargl"
           }
          ],
          "scatterternary": [
           {
            "marker": {
             "colorbar": {
              "outlinewidth": 0,
              "ticks": ""
             }
            },
            "type": "scatterternary"
           }
          ],
          "surface": [
           {
            "colorbar": {
             "outlinewidth": 0,
             "ticks": ""
            },
            "colorscale": [
             [
              0,
              "#0d0887"
             ],
             [
              0.1111111111111111,
              "#46039f"
             ],
             [
              0.2222222222222222,
              "#7201a8"
             ],
             [
              0.3333333333333333,
              "#9c179e"
             ],
             [
              0.4444444444444444,
              "#bd3786"
             ],
             [
              0.5555555555555556,
              "#d8576b"
             ],
             [
              0.6666666666666666,
              "#ed7953"
             ],
             [
              0.7777777777777778,
              "#fb9f3a"
             ],
             [
              0.8888888888888888,
              "#fdca26"
             ],
             [
              1,
              "#f0f921"
             ]
            ],
            "type": "surface"
           }
          ],
          "table": [
           {
            "cells": {
             "fill": {
              "color": "#EBF0F8"
             },
             "line": {
              "color": "white"
             }
            },
            "header": {
             "fill": {
              "color": "#C8D4E3"
             },
             "line": {
              "color": "white"
             }
            },
            "type": "table"
           }
          ]
         },
         "layout": {
          "annotationdefaults": {
           "arrowcolor": "#2a3f5f",
           "arrowhead": 0,
           "arrowwidth": 1
          },
          "autotypenumbers": "strict",
          "coloraxis": {
           "colorbar": {
            "outlinewidth": 0,
            "ticks": ""
           }
          },
          "colorscale": {
           "diverging": [
            [
             0,
             "#8e0152"
            ],
            [
             0.1,
             "#c51b7d"
            ],
            [
             0.2,
             "#de77ae"
            ],
            [
             0.3,
             "#f1b6da"
            ],
            [
             0.4,
             "#fde0ef"
            ],
            [
             0.5,
             "#f7f7f7"
            ],
            [
             0.6,
             "#e6f5d0"
            ],
            [
             0.7,
             "#b8e186"
            ],
            [
             0.8,
             "#7fbc41"
            ],
            [
             0.9,
             "#4d9221"
            ],
            [
             1,
             "#276419"
            ]
           ],
           "sequential": [
            [
             0,
             "#0d0887"
            ],
            [
             0.1111111111111111,
             "#46039f"
            ],
            [
             0.2222222222222222,
             "#7201a8"
            ],
            [
             0.3333333333333333,
             "#9c179e"
            ],
            [
             0.4444444444444444,
             "#bd3786"
            ],
            [
             0.5555555555555556,
             "#d8576b"
            ],
            [
             0.6666666666666666,
             "#ed7953"
            ],
            [
             0.7777777777777778,
             "#fb9f3a"
            ],
            [
             0.8888888888888888,
             "#fdca26"
            ],
            [
             1,
             "#f0f921"
            ]
           ],
           "sequentialminus": [
            [
             0,
             "#0d0887"
            ],
            [
             0.1111111111111111,
             "#46039f"
            ],
            [
             0.2222222222222222,
             "#7201a8"
            ],
            [
             0.3333333333333333,
             "#9c179e"
            ],
            [
             0.4444444444444444,
             "#bd3786"
            ],
            [
             0.5555555555555556,
             "#d8576b"
            ],
            [
             0.6666666666666666,
             "#ed7953"
            ],
            [
             0.7777777777777778,
             "#fb9f3a"
            ],
            [
             0.8888888888888888,
             "#fdca26"
            ],
            [
             1,
             "#f0f921"
            ]
           ]
          },
          "colorway": [
           "#636efa",
           "#EF553B",
           "#00cc96",
           "#ab63fa",
           "#FFA15A",
           "#19d3f3",
           "#FF6692",
           "#B6E880",
           "#FF97FF",
           "#FECB52"
          ],
          "font": {
           "color": "#2a3f5f"
          },
          "geo": {
           "bgcolor": "white",
           "lakecolor": "white",
           "landcolor": "#E5ECF6",
           "showlakes": true,
           "showland": true,
           "subunitcolor": "white"
          },
          "hoverlabel": {
           "align": "left"
          },
          "hovermode": "closest",
          "mapbox": {
           "style": "light"
          },
          "paper_bgcolor": "white",
          "plot_bgcolor": "#E5ECF6",
          "polar": {
           "angularaxis": {
            "gridcolor": "white",
            "linecolor": "white",
            "ticks": ""
           },
           "bgcolor": "#E5ECF6",
           "radialaxis": {
            "gridcolor": "white",
            "linecolor": "white",
            "ticks": ""
           }
          },
          "scene": {
           "xaxis": {
            "backgroundcolor": "#E5ECF6",
            "gridcolor": "white",
            "gridwidth": 2,
            "linecolor": "white",
            "showbackground": true,
            "ticks": "",
            "zerolinecolor": "white"
           },
           "yaxis": {
            "backgroundcolor": "#E5ECF6",
            "gridcolor": "white",
            "gridwidth": 2,
            "linecolor": "white",
            "showbackground": true,
            "ticks": "",
            "zerolinecolor": "white"
           },
           "zaxis": {
            "backgroundcolor": "#E5ECF6",
            "gridcolor": "white",
            "gridwidth": 2,
            "linecolor": "white",
            "showbackground": true,
            "ticks": "",
            "zerolinecolor": "white"
           }
          },
          "shapedefaults": {
           "line": {
            "color": "#2a3f5f"
           }
          },
          "ternary": {
           "aaxis": {
            "gridcolor": "white",
            "linecolor": "white",
            "ticks": ""
           },
           "baxis": {
            "gridcolor": "white",
            "linecolor": "white",
            "ticks": ""
           },
           "bgcolor": "#E5ECF6",
           "caxis": {
            "gridcolor": "white",
            "linecolor": "white",
            "ticks": ""
           }
          },
          "title": {
           "x": 0.05
          },
          "xaxis": {
           "automargin": true,
           "gridcolor": "white",
           "linecolor": "white",
           "ticks": "",
           "title": {
            "standoff": 15
           },
           "zerolinecolor": "white",
           "zerolinewidth": 2
          },
          "yaxis": {
           "automargin": true,
           "gridcolor": "white",
           "linecolor": "white",
           "ticks": "",
           "title": {
            "standoff": 15
           },
           "zerolinecolor": "white",
           "zerolinewidth": 2
          }
         }
        },
        "title": {
         "text": "Themenrelevanz nach Quartal (2019 - 2022)"
        },
        "width": 900,
        "xaxis": {
         "title": {
          "text": ""
         }
        },
        "yaxis": {
         "range": [
          0,
          0.25
         ],
         "title": {
          "font": {
           "size": 12
          },
          "text": "Relative Häufigkeit"
         }
        }
       }
      }
     },
     "metadata": {},
     "output_type": "display_data"
    }
   ],
   "source": [
    "import plotly.graph_objects as go\n",
    "import plotly.io as pio\n",
    "\n",
    "# define a list of hex codes for the line colors\n",
    "line_colors = color_discrete_kuzu\n",
    "\n",
    "fig = go.Figure()\n",
    "\n",
    "# add the traces to the figure and set the line color for each trace\n",
    "for i in range(len(df_count_satisfaction['CustomName'].unique())):\n",
    "    custom_name = df_count_satisfaction['CustomName'].unique()[i]\n",
    "    df_custom = df_count_satisfaction[df_count_satisfaction['CustomName']==custom_name]\n",
    "    fig.add_trace(go.Scatter(x=df_custom['yearquarter'], y=df_custom['Topic_Ratio'],\n",
    "                    mode='lines',\n",
    "                    name=custom_name,\n",
    "                    line=dict(color=line_colors[i%len(line_colors)]))) # set line color for each trace\n",
    "\n",
    "# add left and right annotations\n",
    "for custom_name in df_count_satisfaction['CustomName'].unique():\n",
    "    df_custom = df_count_satisfaction[df_count_satisfaction['CustomName']==custom_name]\n",
    "    y_trace = df_custom['Topic_Ratio'].tolist()\n",
    "    label = custom_name\n",
    "    \n",
    "    # fig.add_annotation(x=df_custom.iloc[-1]['yearquarter'], y=y_trace[-1],\n",
    "    #                    xref=\"x\", yref=\"y\",\n",
    "    #                    text=f\"{label}\",\n",
    "    #                    showarrow=False,\n",
    "    #                    font=dict(family='Arial', size=12),\n",
    "    #                    xshift=50,\n",
    "    #                    yshift=0)\n",
    "\n",
    "# update layout and save/show figure\n",
    "fig.update_layout(title=\"Themenrelevanz nach Quartal (2019 - 2022)\",\n",
    "                  xaxis_title='',\n",
    "                  showlegend=True,\n",
    "                  legend_title=\"\",\n",
    "                  width=900, \n",
    "                  height=450,\n",
    "                  legend=dict(orientation='h', yanchor='top', y=1.1, xanchor='center', x=0.5),\n",
    "                  #template='plotly_white'\n",
    "                  ) # set template\n",
    "\n",
    "fig.update_traces(line_width=2, text=df_count_satisfaction['CustomName'])\n",
    "\n",
    "fig.update_yaxes(range=(0,0.25),title=dict(text='Relative Häufigkeit', font=dict(size=12)))\n",
    "\n",
    "pio.write_image(fig,\"../../exports/images/Themencluster_Zeitachse_1.svg\") #save fig as svg\n",
    "fig.show()"
   ]
  },
  {
   "attachments": {},
   "cell_type": "markdown",
   "metadata": {},
   "source": [
    "## Comaparison Satisfaction Scores"
   ]
  },
  {
   "cell_type": "code",
   "execution_count": 37,
   "metadata": {},
   "outputs": [],
   "source": [
    "## Calculate unsatisfaction scores to compare with comment based counts\n",
    "\n",
    "score_cols = [col for col in df.columns if col.startswith('wime_')]\n",
    "\n",
    "grouped_df = (\n",
    "    df.groupby('yearquarter')\n",
    "    [score_cols]\n",
    "    .mean()\n",
    "    .apply(lambda x: (100 - x)/100)\n",
    "    .rename(columns={col: col.replace('wime_', 'wime_unzufriedenheit_') for col in score_cols})\n",
    "    .reset_index()\n",
    ")\n",
    "\n",
    "grouped_df_long = pd.melt(grouped_df, id_vars=['yearquarter'], var_name='name', value_name='value')"
   ]
  },
  {
   "cell_type": "code",
   "execution_count": 38,
   "metadata": {},
   "outputs": [
    {
     "data": {
      "text/plain": [
       "wime_unzufriedenheit_personal          16\n",
       "wime_unzufriedenheit_komfort           16\n",
       "wime_unzufriedenheit_sauberkeit        16\n",
       "wime_unzufriedenheit_puenktlich        16\n",
       "wime_unzufriedenheit_platzangebot      16\n",
       "wime_unzufriedenheit_gesamtzuf         16\n",
       "wime_unzufriedenheit_preis_leistung    16\n",
       "wime_unzufriedenheit_fahrplan          16\n",
       "wime_unzufriedenheit_oes_fahrt         16\n",
       "Name: name, dtype: int64"
      ]
     },
     "execution_count": 38,
     "metadata": {},
     "output_type": "execute_result"
    }
   ],
   "source": [
    "grouped_df_long.name.value_counts()"
   ]
  },
  {
   "cell_type": "code",
   "execution_count": 39,
   "metadata": {},
   "outputs": [],
   "source": [
    "df_topics_by_quarter_mod = df_topics_by_quarter[['yearquarter','CustomName','Topic_Ratio']]\n",
    "df_topics_by_quarter_mod = df_topics_by_quarter_mod.rename(columns={'CustomName': 'name', 'Topic_Ratio': 'value'})"
   ]
  },
  {
   "cell_type": "code",
   "execution_count": 40,
   "metadata": {},
   "outputs": [],
   "source": [
    "grouped_df_long_reduced = grouped_df_long[grouped_df_long['name'].isin(['wime_unzufriedenheit_sauberkeit','wime_unzufriedenheit_puenktlich','wime_unzufriedenheit_platzangebot','wime_unzufriedenheit_preis_leistung'])]\n",
    "df_topics_by_quarter_mod_reduced = df_topics_by_quarter_mod[df_topics_by_quarter_mod['name'].isin(['Sauberkeit Zug und Bahnhof','Pünktlichkeit','Platzangebot Zug','Preis-Leistung'])]\n",
    "df_count_satisfaction_selected  = pd.concat([grouped_df_long_reduced, df_topics_by_quarter_mod_reduced]).reset_index(drop=True)"
   ]
  },
  {
   "cell_type": "code",
   "execution_count": 41,
   "metadata": {},
   "outputs": [],
   "source": [
    "df_count_satisfaction_selected_puenktlich = df_count_satisfaction_selected[df_count_satisfaction_selected['name'].isin(['wime_unzufriedenheit_puenktlich','Pünktlichkeit'])]"
   ]
  },
  {
   "cell_type": "code",
   "execution_count": 42,
   "metadata": {},
   "outputs": [
    {
     "data": {
      "application/vnd.plotly.v1+json": {
       "config": {
        "plotlyServerURL": "https://plot.ly"
       },
       "data": [
        {
         "line": {
          "color": "#49787F",
          "width": 2
         },
         "mode": "lines",
         "name": "wime_unzufriedenheit_puenktlich",
         "text": [
          "wime_unzufriedenheit_puenktlich",
          "wime_unzufriedenheit_puenktlich",
          "wime_unzufriedenheit_puenktlich",
          "wime_unzufriedenheit_puenktlich",
          "wime_unzufriedenheit_puenktlich",
          "wime_unzufriedenheit_puenktlich",
          "wime_unzufriedenheit_puenktlich",
          "wime_unzufriedenheit_puenktlich",
          "wime_unzufriedenheit_puenktlich",
          "wime_unzufriedenheit_puenktlich",
          "wime_unzufriedenheit_puenktlich",
          "wime_unzufriedenheit_puenktlich",
          "wime_unzufriedenheit_puenktlich",
          "wime_unzufriedenheit_puenktlich",
          "wime_unzufriedenheit_puenktlich",
          "wime_unzufriedenheit_puenktlich",
          "Pünktlichkeit",
          "Pünktlichkeit",
          "Pünktlichkeit",
          "Pünktlichkeit",
          "Pünktlichkeit",
          "Pünktlichkeit",
          "Pünktlichkeit",
          "Pünktlichkeit",
          "Pünktlichkeit",
          "Pünktlichkeit",
          "Pünktlichkeit",
          "Pünktlichkeit",
          "Pünktlichkeit",
          "Pünktlichkeit",
          "Pünktlichkeit",
          "Pünktlichkeit"
         ],
         "type": "scatter",
         "x": [
          "2019Q1",
          "2019Q2",
          "2019Q3",
          "2019Q4",
          "2020Q1",
          "2020Q2",
          "2020Q3",
          "2020Q4",
          "2021Q1",
          "2021Q2",
          "2021Q3",
          "2021Q4",
          "2022Q1",
          "2022Q2",
          "2022Q3",
          "2022Q4"
         ],
         "y": [
          0.1267013793733443,
          0.13038608900677873,
          0.14847011902536295,
          0.1912039925140361,
          0.14326395360878108,
          0.08799093655589119,
          0.10678690080683438,
          0.10981308411214954,
          0.10718424101969873,
          0.09882198952879577,
          0.10711887172599063,
          0.1340136054421768,
          0.10164083865086596,
          0.12600401606425707,
          0.12591292134831464,
          0.13087299181570175
         ]
        },
        {
         "line": {
          "color": "#A96262",
          "width": 2
         },
         "mode": "lines",
         "name": "Pünktlichkeit",
         "text": [
          "wime_unzufriedenheit_puenktlich",
          "wime_unzufriedenheit_puenktlich",
          "wime_unzufriedenheit_puenktlich",
          "wime_unzufriedenheit_puenktlich",
          "wime_unzufriedenheit_puenktlich",
          "wime_unzufriedenheit_puenktlich",
          "wime_unzufriedenheit_puenktlich",
          "wime_unzufriedenheit_puenktlich",
          "wime_unzufriedenheit_puenktlich",
          "wime_unzufriedenheit_puenktlich",
          "wime_unzufriedenheit_puenktlich",
          "wime_unzufriedenheit_puenktlich",
          "wime_unzufriedenheit_puenktlich",
          "wime_unzufriedenheit_puenktlich",
          "wime_unzufriedenheit_puenktlich",
          "wime_unzufriedenheit_puenktlich",
          "Pünktlichkeit",
          "Pünktlichkeit",
          "Pünktlichkeit",
          "Pünktlichkeit",
          "Pünktlichkeit",
          "Pünktlichkeit",
          "Pünktlichkeit",
          "Pünktlichkeit",
          "Pünktlichkeit",
          "Pünktlichkeit",
          "Pünktlichkeit",
          "Pünktlichkeit",
          "Pünktlichkeit",
          "Pünktlichkeit",
          "Pünktlichkeit",
          "Pünktlichkeit"
         ],
         "type": "scatter",
         "x": [
          "2019Q1",
          "2019Q2",
          "2019Q3",
          "2019Q4",
          "2020Q1",
          "2020Q2",
          "2020Q3",
          "2020Q4",
          "2021Q1",
          "2021Q2",
          "2021Q3",
          "2021Q4",
          "2022Q1",
          "2022Q2",
          "2022Q3",
          "2022Q4"
         ],
         "y": [
          0.19707634001082838,
          0.19025157232704404,
          0.1905420353982301,
          0.22915398660986,
          0.22583025830258302,
          0.15226781857451405,
          0.15651886168100596,
          0.1608310888803386,
          0.1632471008028546,
          0.1598014888337469,
          0.1529745042492918,
          0.1763855421686747,
          0.1807081807081807,
          0.20407218880148079,
          0.1864030663707888,
          0.18290926548247718
         ]
        }
       ],
       "layout": {
        "height": 450,
        "legend": {
         "orientation": "h",
         "title": {
          "text": ""
         },
         "x": 0.5,
         "xanchor": "center",
         "y": 1.1,
         "yanchor": "top"
        },
        "showlegend": true,
        "template": {
         "data": {
          "bar": [
           {
            "error_x": {
             "color": "#2a3f5f"
            },
            "error_y": {
             "color": "#2a3f5f"
            },
            "marker": {
             "line": {
              "color": "#E5ECF6",
              "width": 0.5
             },
             "pattern": {
              "fillmode": "overlay",
              "size": 10,
              "solidity": 0.2
             }
            },
            "type": "bar"
           }
          ],
          "barpolar": [
           {
            "marker": {
             "line": {
              "color": "#E5ECF6",
              "width": 0.5
             },
             "pattern": {
              "fillmode": "overlay",
              "size": 10,
              "solidity": 0.2
             }
            },
            "type": "barpolar"
           }
          ],
          "carpet": [
           {
            "aaxis": {
             "endlinecolor": "#2a3f5f",
             "gridcolor": "white",
             "linecolor": "white",
             "minorgridcolor": "white",
             "startlinecolor": "#2a3f5f"
            },
            "baxis": {
             "endlinecolor": "#2a3f5f",
             "gridcolor": "white",
             "linecolor": "white",
             "minorgridcolor": "white",
             "startlinecolor": "#2a3f5f"
            },
            "type": "carpet"
           }
          ],
          "choropleth": [
           {
            "colorbar": {
             "outlinewidth": 0,
             "ticks": ""
            },
            "type": "choropleth"
           }
          ],
          "contour": [
           {
            "colorbar": {
             "outlinewidth": 0,
             "ticks": ""
            },
            "colorscale": [
             [
              0,
              "#0d0887"
             ],
             [
              0.1111111111111111,
              "#46039f"
             ],
             [
              0.2222222222222222,
              "#7201a8"
             ],
             [
              0.3333333333333333,
              "#9c179e"
             ],
             [
              0.4444444444444444,
              "#bd3786"
             ],
             [
              0.5555555555555556,
              "#d8576b"
             ],
             [
              0.6666666666666666,
              "#ed7953"
             ],
             [
              0.7777777777777778,
              "#fb9f3a"
             ],
             [
              0.8888888888888888,
              "#fdca26"
             ],
             [
              1,
              "#f0f921"
             ]
            ],
            "type": "contour"
           }
          ],
          "contourcarpet": [
           {
            "colorbar": {
             "outlinewidth": 0,
             "ticks": ""
            },
            "type": "contourcarpet"
           }
          ],
          "heatmap": [
           {
            "colorbar": {
             "outlinewidth": 0,
             "ticks": ""
            },
            "colorscale": [
             [
              0,
              "#0d0887"
             ],
             [
              0.1111111111111111,
              "#46039f"
             ],
             [
              0.2222222222222222,
              "#7201a8"
             ],
             [
              0.3333333333333333,
              "#9c179e"
             ],
             [
              0.4444444444444444,
              "#bd3786"
             ],
             [
              0.5555555555555556,
              "#d8576b"
             ],
             [
              0.6666666666666666,
              "#ed7953"
             ],
             [
              0.7777777777777778,
              "#fb9f3a"
             ],
             [
              0.8888888888888888,
              "#fdca26"
             ],
             [
              1,
              "#f0f921"
             ]
            ],
            "type": "heatmap"
           }
          ],
          "heatmapgl": [
           {
            "colorbar": {
             "outlinewidth": 0,
             "ticks": ""
            },
            "colorscale": [
             [
              0,
              "#0d0887"
             ],
             [
              0.1111111111111111,
              "#46039f"
             ],
             [
              0.2222222222222222,
              "#7201a8"
             ],
             [
              0.3333333333333333,
              "#9c179e"
             ],
             [
              0.4444444444444444,
              "#bd3786"
             ],
             [
              0.5555555555555556,
              "#d8576b"
             ],
             [
              0.6666666666666666,
              "#ed7953"
             ],
             [
              0.7777777777777778,
              "#fb9f3a"
             ],
             [
              0.8888888888888888,
              "#fdca26"
             ],
             [
              1,
              "#f0f921"
             ]
            ],
            "type": "heatmapgl"
           }
          ],
          "histogram": [
           {
            "marker": {
             "pattern": {
              "fillmode": "overlay",
              "size": 10,
              "solidity": 0.2
             }
            },
            "type": "histogram"
           }
          ],
          "histogram2d": [
           {
            "colorbar": {
             "outlinewidth": 0,
             "ticks": ""
            },
            "colorscale": [
             [
              0,
              "#0d0887"
             ],
             [
              0.1111111111111111,
              "#46039f"
             ],
             [
              0.2222222222222222,
              "#7201a8"
             ],
             [
              0.3333333333333333,
              "#9c179e"
             ],
             [
              0.4444444444444444,
              "#bd3786"
             ],
             [
              0.5555555555555556,
              "#d8576b"
             ],
             [
              0.6666666666666666,
              "#ed7953"
             ],
             [
              0.7777777777777778,
              "#fb9f3a"
             ],
             [
              0.8888888888888888,
              "#fdca26"
             ],
             [
              1,
              "#f0f921"
             ]
            ],
            "type": "histogram2d"
           }
          ],
          "histogram2dcontour": [
           {
            "colorbar": {
             "outlinewidth": 0,
             "ticks": ""
            },
            "colorscale": [
             [
              0,
              "#0d0887"
             ],
             [
              0.1111111111111111,
              "#46039f"
             ],
             [
              0.2222222222222222,
              "#7201a8"
             ],
             [
              0.3333333333333333,
              "#9c179e"
             ],
             [
              0.4444444444444444,
              "#bd3786"
             ],
             [
              0.5555555555555556,
              "#d8576b"
             ],
             [
              0.6666666666666666,
              "#ed7953"
             ],
             [
              0.7777777777777778,
              "#fb9f3a"
             ],
             [
              0.8888888888888888,
              "#fdca26"
             ],
             [
              1,
              "#f0f921"
             ]
            ],
            "type": "histogram2dcontour"
           }
          ],
          "mesh3d": [
           {
            "colorbar": {
             "outlinewidth": 0,
             "ticks": ""
            },
            "type": "mesh3d"
           }
          ],
          "parcoords": [
           {
            "line": {
             "colorbar": {
              "outlinewidth": 0,
              "ticks": ""
             }
            },
            "type": "parcoords"
           }
          ],
          "pie": [
           {
            "automargin": true,
            "type": "pie"
           }
          ],
          "scatter": [
           {
            "fillpattern": {
             "fillmode": "overlay",
             "size": 10,
             "solidity": 0.2
            },
            "type": "scatter"
           }
          ],
          "scatter3d": [
           {
            "line": {
             "colorbar": {
              "outlinewidth": 0,
              "ticks": ""
             }
            },
            "marker": {
             "colorbar": {
              "outlinewidth": 0,
              "ticks": ""
             }
            },
            "type": "scatter3d"
           }
          ],
          "scattercarpet": [
           {
            "marker": {
             "colorbar": {
              "outlinewidth": 0,
              "ticks": ""
             }
            },
            "type": "scattercarpet"
           }
          ],
          "scattergeo": [
           {
            "marker": {
             "colorbar": {
              "outlinewidth": 0,
              "ticks": ""
             }
            },
            "type": "scattergeo"
           }
          ],
          "scattergl": [
           {
            "marker": {
             "colorbar": {
              "outlinewidth": 0,
              "ticks": ""
             }
            },
            "type": "scattergl"
           }
          ],
          "scattermapbox": [
           {
            "marker": {
             "colorbar": {
              "outlinewidth": 0,
              "ticks": ""
             }
            },
            "type": "scattermapbox"
           }
          ],
          "scatterpolar": [
           {
            "marker": {
             "colorbar": {
              "outlinewidth": 0,
              "ticks": ""
             }
            },
            "type": "scatterpolar"
           }
          ],
          "scatterpolargl": [
           {
            "marker": {
             "colorbar": {
              "outlinewidth": 0,
              "ticks": ""
             }
            },
            "type": "scatterpolargl"
           }
          ],
          "scatterternary": [
           {
            "marker": {
             "colorbar": {
              "outlinewidth": 0,
              "ticks": ""
             }
            },
            "type": "scatterternary"
           }
          ],
          "surface": [
           {
            "colorbar": {
             "outlinewidth": 0,
             "ticks": ""
            },
            "colorscale": [
             [
              0,
              "#0d0887"
             ],
             [
              0.1111111111111111,
              "#46039f"
             ],
             [
              0.2222222222222222,
              "#7201a8"
             ],
             [
              0.3333333333333333,
              "#9c179e"
             ],
             [
              0.4444444444444444,
              "#bd3786"
             ],
             [
              0.5555555555555556,
              "#d8576b"
             ],
             [
              0.6666666666666666,
              "#ed7953"
             ],
             [
              0.7777777777777778,
              "#fb9f3a"
             ],
             [
              0.8888888888888888,
              "#fdca26"
             ],
             [
              1,
              "#f0f921"
             ]
            ],
            "type": "surface"
           }
          ],
          "table": [
           {
            "cells": {
             "fill": {
              "color": "#EBF0F8"
             },
             "line": {
              "color": "white"
             }
            },
            "header": {
             "fill": {
              "color": "#C8D4E3"
             },
             "line": {
              "color": "white"
             }
            },
            "type": "table"
           }
          ]
         },
         "layout": {
          "annotationdefaults": {
           "arrowcolor": "#2a3f5f",
           "arrowhead": 0,
           "arrowwidth": 1
          },
          "autotypenumbers": "strict",
          "coloraxis": {
           "colorbar": {
            "outlinewidth": 0,
            "ticks": ""
           }
          },
          "colorscale": {
           "diverging": [
            [
             0,
             "#8e0152"
            ],
            [
             0.1,
             "#c51b7d"
            ],
            [
             0.2,
             "#de77ae"
            ],
            [
             0.3,
             "#f1b6da"
            ],
            [
             0.4,
             "#fde0ef"
            ],
            [
             0.5,
             "#f7f7f7"
            ],
            [
             0.6,
             "#e6f5d0"
            ],
            [
             0.7,
             "#b8e186"
            ],
            [
             0.8,
             "#7fbc41"
            ],
            [
             0.9,
             "#4d9221"
            ],
            [
             1,
             "#276419"
            ]
           ],
           "sequential": [
            [
             0,
             "#0d0887"
            ],
            [
             0.1111111111111111,
             "#46039f"
            ],
            [
             0.2222222222222222,
             "#7201a8"
            ],
            [
             0.3333333333333333,
             "#9c179e"
            ],
            [
             0.4444444444444444,
             "#bd3786"
            ],
            [
             0.5555555555555556,
             "#d8576b"
            ],
            [
             0.6666666666666666,
             "#ed7953"
            ],
            [
             0.7777777777777778,
             "#fb9f3a"
            ],
            [
             0.8888888888888888,
             "#fdca26"
            ],
            [
             1,
             "#f0f921"
            ]
           ],
           "sequentialminus": [
            [
             0,
             "#0d0887"
            ],
            [
             0.1111111111111111,
             "#46039f"
            ],
            [
             0.2222222222222222,
             "#7201a8"
            ],
            [
             0.3333333333333333,
             "#9c179e"
            ],
            [
             0.4444444444444444,
             "#bd3786"
            ],
            [
             0.5555555555555556,
             "#d8576b"
            ],
            [
             0.6666666666666666,
             "#ed7953"
            ],
            [
             0.7777777777777778,
             "#fb9f3a"
            ],
            [
             0.8888888888888888,
             "#fdca26"
            ],
            [
             1,
             "#f0f921"
            ]
           ]
          },
          "colorway": [
           "#636efa",
           "#EF553B",
           "#00cc96",
           "#ab63fa",
           "#FFA15A",
           "#19d3f3",
           "#FF6692",
           "#B6E880",
           "#FF97FF",
           "#FECB52"
          ],
          "font": {
           "color": "#2a3f5f"
          },
          "geo": {
           "bgcolor": "white",
           "lakecolor": "white",
           "landcolor": "#E5ECF6",
           "showlakes": true,
           "showland": true,
           "subunitcolor": "white"
          },
          "hoverlabel": {
           "align": "left"
          },
          "hovermode": "closest",
          "mapbox": {
           "style": "light"
          },
          "paper_bgcolor": "white",
          "plot_bgcolor": "#E5ECF6",
          "polar": {
           "angularaxis": {
            "gridcolor": "white",
            "linecolor": "white",
            "ticks": ""
           },
           "bgcolor": "#E5ECF6",
           "radialaxis": {
            "gridcolor": "white",
            "linecolor": "white",
            "ticks": ""
           }
          },
          "scene": {
           "xaxis": {
            "backgroundcolor": "#E5ECF6",
            "gridcolor": "white",
            "gridwidth": 2,
            "linecolor": "white",
            "showbackground": true,
            "ticks": "",
            "zerolinecolor": "white"
           },
           "yaxis": {
            "backgroundcolor": "#E5ECF6",
            "gridcolor": "white",
            "gridwidth": 2,
            "linecolor": "white",
            "showbackground": true,
            "ticks": "",
            "zerolinecolor": "white"
           },
           "zaxis": {
            "backgroundcolor": "#E5ECF6",
            "gridcolor": "white",
            "gridwidth": 2,
            "linecolor": "white",
            "showbackground": true,
            "ticks": "",
            "zerolinecolor": "white"
           }
          },
          "shapedefaults": {
           "line": {
            "color": "#2a3f5f"
           }
          },
          "ternary": {
           "aaxis": {
            "gridcolor": "white",
            "linecolor": "white",
            "ticks": ""
           },
           "baxis": {
            "gridcolor": "white",
            "linecolor": "white",
            "ticks": ""
           },
           "bgcolor": "#E5ECF6",
           "caxis": {
            "gridcolor": "white",
            "linecolor": "white",
            "ticks": ""
           }
          },
          "title": {
           "x": 0.05
          },
          "xaxis": {
           "automargin": true,
           "gridcolor": "white",
           "linecolor": "white",
           "ticks": "",
           "title": {
            "standoff": 15
           },
           "zerolinecolor": "white",
           "zerolinewidth": 2
          },
          "yaxis": {
           "automargin": true,
           "gridcolor": "white",
           "linecolor": "white",
           "ticks": "",
           "title": {
            "standoff": 15
           },
           "zerolinecolor": "white",
           "zerolinewidth": 2
          }
         }
        },
        "title": {
         "text": "Kommentarhäufigkeit und Unzufriedenheit mit Pünktlichkeit"
        },
        "width": 900,
        "xaxis": {
         "title": {
          "text": ""
         }
        },
        "yaxis": {
         "title": {
          "font": {
           "size": 12
          },
          "text": "Relative Häufigkeit & Unzufriedenheit [log]"
         },
         "type": "log"
        }
       }
      }
     },
     "metadata": {},
     "output_type": "display_data"
    }
   ],
   "source": [
    "import plotly.graph_objects as go\n",
    "import plotly.io as pio\n",
    "\n",
    "# define a list of hex codes for the line colors\n",
    "line_colors = color_discrete_kuzu\n",
    "\n",
    "fig = go.Figure()\n",
    "\n",
    "# add the traces to the figure and set the line color for each trace\n",
    "for i in range(len(df_count_satisfaction_selected_puenktlich ['name'].unique())):\n",
    "    custom_name = df_count_satisfaction_selected_puenktlich ['name'].unique()[i]\n",
    "    df_custom = df_count_satisfaction_selected_puenktlich [df_count_satisfaction_selected_puenktlich ['name']==custom_name]\n",
    "    fig.add_trace(go.Scatter(x=df_custom['yearquarter'], y=df_custom['value'],\n",
    "                    mode='lines',\n",
    "                    name=custom_name,\n",
    "                    line=dict(color=line_colors[i%len(line_colors)]))) # set line color for each trace\n",
    "\n",
    "# add left and right annotations\n",
    "for custom_name in df_count_satisfaction_selected_puenktlich ['name'].unique():\n",
    "    df_custom = df_count_satisfaction_selected_puenktlich [df_count_satisfaction_selected_puenktlich ['name']==custom_name]\n",
    "    y_trace = df_custom['value'].tolist()\n",
    "    label = custom_name\n",
    "    \n",
    "    # fig.add_annotation(x=df_custom.iloc[-1]['yearquarter'], y=y_trace[-1],\n",
    "    #                    xref=\"x\", yref=\"y\",\n",
    "    #                    text=f\"{label}\",\n",
    "    #                    showarrow=False,\n",
    "    #                    font=dict(family='Arial', size=12),\n",
    "    #                    xshift=50,\n",
    "    #                    yshift=0)\n",
    "\n",
    "# update layout and save/show figure\n",
    "fig.update_layout(title=\"Kommentarhäufigkeit und Unzufriedenheit mit Pünktlichkeit\",\n",
    "                  yaxis_title='Häufigkeit & Unzufriedenheit [log]',\n",
    "                  xaxis_title='',\n",
    "                  showlegend=True,\n",
    "                  legend_title=\"\",\n",
    "                  width=900, \n",
    "                  height=450,\n",
    "                  legend=dict(orientation='h', yanchor='top', y=1.1, xanchor='center', x=0.5),\n",
    "                  #template='plotly_white'\n",
    "                  ) # set template\n",
    "\n",
    "fig.update_layout(yaxis_type='log')\n",
    "\n",
    "fig.update_traces(line_width=2, text=df_count_satisfaction_selected_puenktlich ['name'])\n",
    "\n",
    "fig.update_yaxes(title=dict(text='Relative Häufigkeit & Unzufriedenheit [log]', font=dict(size=12)))\n",
    "\n",
    "pio.write_image(fig,\"../../exports/images/Themencluster_Zeitachse_Pünktlichkeit.svg\") #save fig as svg\n",
    "fig.show()"
   ]
  },
  {
   "cell_type": "code",
   "execution_count": 44,
   "metadata": {},
   "outputs": [
    {
     "data": {
      "text/html": [
       "<div>\n",
       "<style scoped>\n",
       "    .dataframe tbody tr th:only-of-type {\n",
       "        vertical-align: middle;\n",
       "    }\n",
       "\n",
       "    .dataframe tbody tr th {\n",
       "        vertical-align: top;\n",
       "    }\n",
       "\n",
       "    .dataframe thead th {\n",
       "        text-align: right;\n",
       "    }\n",
       "</style>\n",
       "<table border=\"1\" class=\"dataframe\">\n",
       "  <thead>\n",
       "    <tr style=\"text-align: right;\">\n",
       "      <th></th>\n",
       "      <th>yearquarter</th>\n",
       "      <th>CustomName</th>\n",
       "      <th>Topic</th>\n",
       "      <th>count_x</th>\n",
       "      <th>count_y</th>\n",
       "      <th>Topic_Ratio</th>\n",
       "    </tr>\n",
       "  </thead>\n",
       "  <tbody>\n",
       "    <tr>\n",
       "      <th>1</th>\n",
       "      <td>2019Q1</td>\n",
       "      <td>Corona</td>\n",
       "      <td>7</td>\n",
       "      <td>18</td>\n",
       "      <td>3694</td>\n",
       "      <td>0.004873</td>\n",
       "    </tr>\n",
       "    <tr>\n",
       "      <th>4</th>\n",
       "      <td>2019Q1</td>\n",
       "      <td>Internet, Wlan und Mobilfunk</td>\n",
       "      <td>12</td>\n",
       "      <td>63</td>\n",
       "      <td>3694</td>\n",
       "      <td>0.017055</td>\n",
       "    </tr>\n",
       "    <tr>\n",
       "      <th>9</th>\n",
       "      <td>2019Q1</td>\n",
       "      <td>Platzangebot Velo, Gepäck, Kinderwagen</td>\n",
       "      <td>9</td>\n",
       "      <td>157</td>\n",
       "      <td>3694</td>\n",
       "      <td>0.042501</td>\n",
       "    </tr>\n",
       "    <tr>\n",
       "      <th>12</th>\n",
       "      <td>2019Q1</td>\n",
       "      <td>Pünktlichkeit</td>\n",
       "      <td>0</td>\n",
       "      <td>728</td>\n",
       "      <td>3694</td>\n",
       "      <td>0.197076</td>\n",
       "    </tr>\n",
       "    <tr>\n",
       "      <th>20</th>\n",
       "      <td>2019Q2</td>\n",
       "      <td>Corona</td>\n",
       "      <td>7</td>\n",
       "      <td>19</td>\n",
       "      <td>3816</td>\n",
       "      <td>0.004979</td>\n",
       "    </tr>\n",
       "    <tr>\n",
       "      <th>...</th>\n",
       "      <td>...</td>\n",
       "      <td>...</td>\n",
       "      <td>...</td>\n",
       "      <td>...</td>\n",
       "      <td>...</td>\n",
       "      <td>...</td>\n",
       "    </tr>\n",
       "    <tr>\n",
       "      <th>278</th>\n",
       "      <td>2022Q3</td>\n",
       "      <td>Pünktlichkeit</td>\n",
       "      <td>0</td>\n",
       "      <td>924</td>\n",
       "      <td>4957</td>\n",
       "      <td>0.186403</td>\n",
       "    </tr>\n",
       "    <tr>\n",
       "      <th>286</th>\n",
       "      <td>2022Q4</td>\n",
       "      <td>Corona</td>\n",
       "      <td>7</td>\n",
       "      <td>43</td>\n",
       "      <td>4166</td>\n",
       "      <td>0.010322</td>\n",
       "    </tr>\n",
       "    <tr>\n",
       "      <th>289</th>\n",
       "      <td>2022Q4</td>\n",
       "      <td>Internet, Wlan und Mobilfunk</td>\n",
       "      <td>12</td>\n",
       "      <td>133</td>\n",
       "      <td>4166</td>\n",
       "      <td>0.031925</td>\n",
       "    </tr>\n",
       "    <tr>\n",
       "      <th>294</th>\n",
       "      <td>2022Q4</td>\n",
       "      <td>Platzangebot Velo, Gepäck, Kinderwagen</td>\n",
       "      <td>9</td>\n",
       "      <td>203</td>\n",
       "      <td>4166</td>\n",
       "      <td>0.048728</td>\n",
       "    </tr>\n",
       "    <tr>\n",
       "      <th>297</th>\n",
       "      <td>2022Q4</td>\n",
       "      <td>Pünktlichkeit</td>\n",
       "      <td>0</td>\n",
       "      <td>762</td>\n",
       "      <td>4166</td>\n",
       "      <td>0.182909</td>\n",
       "    </tr>\n",
       "  </tbody>\n",
       "</table>\n",
       "<p>64 rows × 6 columns</p>\n",
       "</div>"
      ],
      "text/plain": [
       "    yearquarter                              CustomName  Topic  count_x  \\\n",
       "1        2019Q1                                  Corona      7       18   \n",
       "4        2019Q1            Internet, Wlan und Mobilfunk     12       63   \n",
       "9        2019Q1  Platzangebot Velo, Gepäck, Kinderwagen      9      157   \n",
       "12       2019Q1                           Pünktlichkeit      0      728   \n",
       "20       2019Q2                                  Corona      7       19   \n",
       "..          ...                                     ...    ...      ...   \n",
       "278      2022Q3                           Pünktlichkeit      0      924   \n",
       "286      2022Q4                                  Corona      7       43   \n",
       "289      2022Q4            Internet, Wlan und Mobilfunk     12      133   \n",
       "294      2022Q4  Platzangebot Velo, Gepäck, Kinderwagen      9      203   \n",
       "297      2022Q4                           Pünktlichkeit      0      762   \n",
       "\n",
       "     count_y  Topic_Ratio  \n",
       "1       3694     0.004873  \n",
       "4       3694     0.017055  \n",
       "9       3694     0.042501  \n",
       "12      3694     0.197076  \n",
       "20      3816     0.004979  \n",
       "..       ...          ...  \n",
       "278     4957     0.186403  \n",
       "286     4166     0.010322  \n",
       "289     4166     0.031925  \n",
       "294     4166     0.048728  \n",
       "297     4166     0.182909  \n",
       "\n",
       "[64 rows x 6 columns]"
      ]
     },
     "execution_count": 44,
     "metadata": {},
     "output_type": "execute_result"
    }
   ],
   "source": [
    "df_count_satisfaction"
   ]
  },
  {
   "cell_type": "code",
   "execution_count": 47,
   "metadata": {},
   "outputs": [
    {
     "data": {
      "text/html": [
       "<div>\n",
       "<style scoped>\n",
       "    .dataframe tbody tr th:only-of-type {\n",
       "        vertical-align: middle;\n",
       "    }\n",
       "\n",
       "    .dataframe tbody tr th {\n",
       "        vertical-align: top;\n",
       "    }\n",
       "\n",
       "    .dataframe thead th {\n",
       "        text-align: right;\n",
       "    }\n",
       "</style>\n",
       "<table border=\"1\" class=\"dataframe\">\n",
       "  <thead>\n",
       "    <tr style=\"text-align: right;\">\n",
       "      <th></th>\n",
       "      <th>yearquarter</th>\n",
       "      <th>name</th>\n",
       "      <th>value</th>\n",
       "    </tr>\n",
       "  </thead>\n",
       "  <tbody>\n",
       "    <tr>\n",
       "      <th>0</th>\n",
       "      <td>2019Q1</td>\n",
       "      <td>wime_unzufriedenheit_sauberkeit</td>\n",
       "      <td>0.254778</td>\n",
       "    </tr>\n",
       "    <tr>\n",
       "      <th>1</th>\n",
       "      <td>2019Q2</td>\n",
       "      <td>wime_unzufriedenheit_sauberkeit</td>\n",
       "      <td>0.259890</td>\n",
       "    </tr>\n",
       "    <tr>\n",
       "      <th>2</th>\n",
       "      <td>2019Q3</td>\n",
       "      <td>wime_unzufriedenheit_sauberkeit</td>\n",
       "      <td>0.261778</td>\n",
       "    </tr>\n",
       "    <tr>\n",
       "      <th>3</th>\n",
       "      <td>2019Q4</td>\n",
       "      <td>wime_unzufriedenheit_sauberkeit</td>\n",
       "      <td>0.268405</td>\n",
       "    </tr>\n",
       "    <tr>\n",
       "      <th>4</th>\n",
       "      <td>2020Q1</td>\n",
       "      <td>wime_unzufriedenheit_sauberkeit</td>\n",
       "      <td>0.249089</td>\n",
       "    </tr>\n",
       "    <tr>\n",
       "      <th>...</th>\n",
       "      <td>...</td>\n",
       "      <td>...</td>\n",
       "      <td>...</td>\n",
       "    </tr>\n",
       "    <tr>\n",
       "      <th>123</th>\n",
       "      <td>2022Q3</td>\n",
       "      <td>Sauberkeit Zug und Bahnhof</td>\n",
       "      <td>0.021989</td>\n",
       "    </tr>\n",
       "    <tr>\n",
       "      <th>124</th>\n",
       "      <td>2022Q4</td>\n",
       "      <td>Platzangebot Zug</td>\n",
       "      <td>0.134181</td>\n",
       "    </tr>\n",
       "    <tr>\n",
       "      <th>125</th>\n",
       "      <td>2022Q4</td>\n",
       "      <td>Preis-Leistung</td>\n",
       "      <td>0.066011</td>\n",
       "    </tr>\n",
       "    <tr>\n",
       "      <th>126</th>\n",
       "      <td>2022Q4</td>\n",
       "      <td>Pünktlichkeit</td>\n",
       "      <td>0.182909</td>\n",
       "    </tr>\n",
       "    <tr>\n",
       "      <th>127</th>\n",
       "      <td>2022Q4</td>\n",
       "      <td>Sauberkeit Zug und Bahnhof</td>\n",
       "      <td>0.027364</td>\n",
       "    </tr>\n",
       "  </tbody>\n",
       "</table>\n",
       "<p>128 rows × 3 columns</p>\n",
       "</div>"
      ],
      "text/plain": [
       "    yearquarter                             name     value\n",
       "0        2019Q1  wime_unzufriedenheit_sauberkeit  0.254778\n",
       "1        2019Q2  wime_unzufriedenheit_sauberkeit  0.259890\n",
       "2        2019Q3  wime_unzufriedenheit_sauberkeit  0.261778\n",
       "3        2019Q4  wime_unzufriedenheit_sauberkeit  0.268405\n",
       "4        2020Q1  wime_unzufriedenheit_sauberkeit  0.249089\n",
       "..          ...                              ...       ...\n",
       "123      2022Q3       Sauberkeit Zug und Bahnhof  0.021989\n",
       "124      2022Q4                 Platzangebot Zug  0.134181\n",
       "125      2022Q4                   Preis-Leistung  0.066011\n",
       "126      2022Q4                    Pünktlichkeit  0.182909\n",
       "127      2022Q4       Sauberkeit Zug und Bahnhof  0.027364\n",
       "\n",
       "[128 rows x 3 columns]"
      ]
     },
     "execution_count": 47,
     "metadata": {},
     "output_type": "execute_result"
    }
   ],
   "source": [
    "df_count_satisfaction_selected"
   ]
  },
  {
   "cell_type": "code",
   "execution_count": 55,
   "metadata": {},
   "outputs": [],
   "source": [
    "df_count_satisfaction_selected_platz = df_count_satisfaction_selected[df_count_satisfaction_selected['name'].isin(['wime_unzufriedenheit_platzangebot','Platzangebot Zug'])]"
   ]
  },
  {
   "cell_type": "code",
   "execution_count": 57,
   "metadata": {},
   "outputs": [
    {
     "data": {
      "application/vnd.plotly.v1+json": {
       "config": {
        "plotlyServerURL": "https://plot.ly"
       },
       "data": [
        {
         "line": {
          "color": "#49787F",
          "width": 2
         },
         "mode": "lines",
         "name": "wime_unzufriedenheit_platzangebot",
         "text": [
          "wime_unzufriedenheit_platzangebot",
          "wime_unzufriedenheit_platzangebot",
          "wime_unzufriedenheit_platzangebot",
          "wime_unzufriedenheit_platzangebot",
          "wime_unzufriedenheit_platzangebot",
          "wime_unzufriedenheit_platzangebot",
          "wime_unzufriedenheit_platzangebot",
          "wime_unzufriedenheit_platzangebot",
          "wime_unzufriedenheit_platzangebot",
          "wime_unzufriedenheit_platzangebot",
          "wime_unzufriedenheit_platzangebot",
          "wime_unzufriedenheit_platzangebot",
          "wime_unzufriedenheit_platzangebot",
          "wime_unzufriedenheit_platzangebot",
          "wime_unzufriedenheit_platzangebot",
          "wime_unzufriedenheit_platzangebot",
          "Platzangebot Zug",
          "Platzangebot Zug",
          "Platzangebot Zug",
          "Platzangebot Zug",
          "Platzangebot Zug",
          "Platzangebot Zug",
          "Platzangebot Zug",
          "Platzangebot Zug",
          "Platzangebot Zug",
          "Platzangebot Zug",
          "Platzangebot Zug",
          "Platzangebot Zug",
          "Platzangebot Zug",
          "Platzangebot Zug",
          "Platzangebot Zug",
          "Platzangebot Zug"
         ],
         "type": "scatter",
         "x": [
          "2019Q1",
          "2019Q2",
          "2019Q3",
          "2019Q4",
          "2020Q1",
          "2020Q2",
          "2020Q3",
          "2020Q4",
          "2021Q1",
          "2021Q2",
          "2021Q3",
          "2021Q4",
          "2022Q1",
          "2022Q2",
          "2022Q3",
          "2022Q4"
         ],
         "y": [
          0.2670231405957344,
          0.2919005847953217,
          0.2916088444814505,
          0.3106842902381935,
          0.26431287902148215,
          0.15639097744360897,
          0.1794326241134752,
          0.16967975206611569,
          0.16160300925925924,
          0.1560872395833333,
          0.19399731723675387,
          0.22813559322033897,
          0.20068181818181813,
          0.2563417890520694,
          0.2629997204361196,
          0.2682228915662651
         ]
        },
        {
         "line": {
          "color": "#A96262",
          "width": 2
         },
         "mode": "lines",
         "name": "Platzangebot Zug",
         "text": [
          "wime_unzufriedenheit_platzangebot",
          "wime_unzufriedenheit_platzangebot",
          "wime_unzufriedenheit_platzangebot",
          "wime_unzufriedenheit_platzangebot",
          "wime_unzufriedenheit_platzangebot",
          "wime_unzufriedenheit_platzangebot",
          "wime_unzufriedenheit_platzangebot",
          "wime_unzufriedenheit_platzangebot",
          "wime_unzufriedenheit_platzangebot",
          "wime_unzufriedenheit_platzangebot",
          "wime_unzufriedenheit_platzangebot",
          "wime_unzufriedenheit_platzangebot",
          "wime_unzufriedenheit_platzangebot",
          "wime_unzufriedenheit_platzangebot",
          "wime_unzufriedenheit_platzangebot",
          "wime_unzufriedenheit_platzangebot",
          "Platzangebot Zug",
          "Platzangebot Zug",
          "Platzangebot Zug",
          "Platzangebot Zug",
          "Platzangebot Zug",
          "Platzangebot Zug",
          "Platzangebot Zug",
          "Platzangebot Zug",
          "Platzangebot Zug",
          "Platzangebot Zug",
          "Platzangebot Zug",
          "Platzangebot Zug",
          "Platzangebot Zug",
          "Platzangebot Zug",
          "Platzangebot Zug",
          "Platzangebot Zug"
         ],
         "type": "scatter",
         "x": [
          "2019Q1",
          "2019Q2",
          "2019Q3",
          "2019Q4",
          "2020Q1",
          "2020Q2",
          "2020Q3",
          "2020Q4",
          "2021Q1",
          "2021Q2",
          "2021Q3",
          "2021Q4",
          "2022Q1",
          "2022Q2",
          "2022Q3",
          "2022Q4"
         ],
         "y": [
          0.1337303735787764,
          0.1278825995807128,
          0.1404867256637168,
          0.14242239805234327,
          0.11402214022140221,
          0.0755939524838013,
          0.06915949702183984,
          0.07425933051173528,
          0.07983942908117753,
          0.0803970223325062,
          0.10623229461756374,
          0.09590361445783133,
          0.09218559218559219,
          0.11661267931513189,
          0.13253984264676216,
          0.1341814690350456
         ]
        }
       ],
       "layout": {
        "height": 450,
        "legend": {
         "orientation": "h",
         "title": {
          "text": ""
         },
         "x": 0.5,
         "xanchor": "center",
         "y": 1.1,
         "yanchor": "top"
        },
        "showlegend": true,
        "template": {
         "data": {
          "bar": [
           {
            "error_x": {
             "color": "#2a3f5f"
            },
            "error_y": {
             "color": "#2a3f5f"
            },
            "marker": {
             "line": {
              "color": "#E5ECF6",
              "width": 0.5
             },
             "pattern": {
              "fillmode": "overlay",
              "size": 10,
              "solidity": 0.2
             }
            },
            "type": "bar"
           }
          ],
          "barpolar": [
           {
            "marker": {
             "line": {
              "color": "#E5ECF6",
              "width": 0.5
             },
             "pattern": {
              "fillmode": "overlay",
              "size": 10,
              "solidity": 0.2
             }
            },
            "type": "barpolar"
           }
          ],
          "carpet": [
           {
            "aaxis": {
             "endlinecolor": "#2a3f5f",
             "gridcolor": "white",
             "linecolor": "white",
             "minorgridcolor": "white",
             "startlinecolor": "#2a3f5f"
            },
            "baxis": {
             "endlinecolor": "#2a3f5f",
             "gridcolor": "white",
             "linecolor": "white",
             "minorgridcolor": "white",
             "startlinecolor": "#2a3f5f"
            },
            "type": "carpet"
           }
          ],
          "choropleth": [
           {
            "colorbar": {
             "outlinewidth": 0,
             "ticks": ""
            },
            "type": "choropleth"
           }
          ],
          "contour": [
           {
            "colorbar": {
             "outlinewidth": 0,
             "ticks": ""
            },
            "colorscale": [
             [
              0,
              "#0d0887"
             ],
             [
              0.1111111111111111,
              "#46039f"
             ],
             [
              0.2222222222222222,
              "#7201a8"
             ],
             [
              0.3333333333333333,
              "#9c179e"
             ],
             [
              0.4444444444444444,
              "#bd3786"
             ],
             [
              0.5555555555555556,
              "#d8576b"
             ],
             [
              0.6666666666666666,
              "#ed7953"
             ],
             [
              0.7777777777777778,
              "#fb9f3a"
             ],
             [
              0.8888888888888888,
              "#fdca26"
             ],
             [
              1,
              "#f0f921"
             ]
            ],
            "type": "contour"
           }
          ],
          "contourcarpet": [
           {
            "colorbar": {
             "outlinewidth": 0,
             "ticks": ""
            },
            "type": "contourcarpet"
           }
          ],
          "heatmap": [
           {
            "colorbar": {
             "outlinewidth": 0,
             "ticks": ""
            },
            "colorscale": [
             [
              0,
              "#0d0887"
             ],
             [
              0.1111111111111111,
              "#46039f"
             ],
             [
              0.2222222222222222,
              "#7201a8"
             ],
             [
              0.3333333333333333,
              "#9c179e"
             ],
             [
              0.4444444444444444,
              "#bd3786"
             ],
             [
              0.5555555555555556,
              "#d8576b"
             ],
             [
              0.6666666666666666,
              "#ed7953"
             ],
             [
              0.7777777777777778,
              "#fb9f3a"
             ],
             [
              0.8888888888888888,
              "#fdca26"
             ],
             [
              1,
              "#f0f921"
             ]
            ],
            "type": "heatmap"
           }
          ],
          "heatmapgl": [
           {
            "colorbar": {
             "outlinewidth": 0,
             "ticks": ""
            },
            "colorscale": [
             [
              0,
              "#0d0887"
             ],
             [
              0.1111111111111111,
              "#46039f"
             ],
             [
              0.2222222222222222,
              "#7201a8"
             ],
             [
              0.3333333333333333,
              "#9c179e"
             ],
             [
              0.4444444444444444,
              "#bd3786"
             ],
             [
              0.5555555555555556,
              "#d8576b"
             ],
             [
              0.6666666666666666,
              "#ed7953"
             ],
             [
              0.7777777777777778,
              "#fb9f3a"
             ],
             [
              0.8888888888888888,
              "#fdca26"
             ],
             [
              1,
              "#f0f921"
             ]
            ],
            "type": "heatmapgl"
           }
          ],
          "histogram": [
           {
            "marker": {
             "pattern": {
              "fillmode": "overlay",
              "size": 10,
              "solidity": 0.2
             }
            },
            "type": "histogram"
           }
          ],
          "histogram2d": [
           {
            "colorbar": {
             "outlinewidth": 0,
             "ticks": ""
            },
            "colorscale": [
             [
              0,
              "#0d0887"
             ],
             [
              0.1111111111111111,
              "#46039f"
             ],
             [
              0.2222222222222222,
              "#7201a8"
             ],
             [
              0.3333333333333333,
              "#9c179e"
             ],
             [
              0.4444444444444444,
              "#bd3786"
             ],
             [
              0.5555555555555556,
              "#d8576b"
             ],
             [
              0.6666666666666666,
              "#ed7953"
             ],
             [
              0.7777777777777778,
              "#fb9f3a"
             ],
             [
              0.8888888888888888,
              "#fdca26"
             ],
             [
              1,
              "#f0f921"
             ]
            ],
            "type": "histogram2d"
           }
          ],
          "histogram2dcontour": [
           {
            "colorbar": {
             "outlinewidth": 0,
             "ticks": ""
            },
            "colorscale": [
             [
              0,
              "#0d0887"
             ],
             [
              0.1111111111111111,
              "#46039f"
             ],
             [
              0.2222222222222222,
              "#7201a8"
             ],
             [
              0.3333333333333333,
              "#9c179e"
             ],
             [
              0.4444444444444444,
              "#bd3786"
             ],
             [
              0.5555555555555556,
              "#d8576b"
             ],
             [
              0.6666666666666666,
              "#ed7953"
             ],
             [
              0.7777777777777778,
              "#fb9f3a"
             ],
             [
              0.8888888888888888,
              "#fdca26"
             ],
             [
              1,
              "#f0f921"
             ]
            ],
            "type": "histogram2dcontour"
           }
          ],
          "mesh3d": [
           {
            "colorbar": {
             "outlinewidth": 0,
             "ticks": ""
            },
            "type": "mesh3d"
           }
          ],
          "parcoords": [
           {
            "line": {
             "colorbar": {
              "outlinewidth": 0,
              "ticks": ""
             }
            },
            "type": "parcoords"
           }
          ],
          "pie": [
           {
            "automargin": true,
            "type": "pie"
           }
          ],
          "scatter": [
           {
            "fillpattern": {
             "fillmode": "overlay",
             "size": 10,
             "solidity": 0.2
            },
            "type": "scatter"
           }
          ],
          "scatter3d": [
           {
            "line": {
             "colorbar": {
              "outlinewidth": 0,
              "ticks": ""
             }
            },
            "marker": {
             "colorbar": {
              "outlinewidth": 0,
              "ticks": ""
             }
            },
            "type": "scatter3d"
           }
          ],
          "scattercarpet": [
           {
            "marker": {
             "colorbar": {
              "outlinewidth": 0,
              "ticks": ""
             }
            },
            "type": "scattercarpet"
           }
          ],
          "scattergeo": [
           {
            "marker": {
             "colorbar": {
              "outlinewidth": 0,
              "ticks": ""
             }
            },
            "type": "scattergeo"
           }
          ],
          "scattergl": [
           {
            "marker": {
             "colorbar": {
              "outlinewidth": 0,
              "ticks": ""
             }
            },
            "type": "scattergl"
           }
          ],
          "scattermapbox": [
           {
            "marker": {
             "colorbar": {
              "outlinewidth": 0,
              "ticks": ""
             }
            },
            "type": "scattermapbox"
           }
          ],
          "scatterpolar": [
           {
            "marker": {
             "colorbar": {
              "outlinewidth": 0,
              "ticks": ""
             }
            },
            "type": "scatterpolar"
           }
          ],
          "scatterpolargl": [
           {
            "marker": {
             "colorbar": {
              "outlinewidth": 0,
              "ticks": ""
             }
            },
            "type": "scatterpolargl"
           }
          ],
          "scatterternary": [
           {
            "marker": {
             "colorbar": {
              "outlinewidth": 0,
              "ticks": ""
             }
            },
            "type": "scatterternary"
           }
          ],
          "surface": [
           {
            "colorbar": {
             "outlinewidth": 0,
             "ticks": ""
            },
            "colorscale": [
             [
              0,
              "#0d0887"
             ],
             [
              0.1111111111111111,
              "#46039f"
             ],
             [
              0.2222222222222222,
              "#7201a8"
             ],
             [
              0.3333333333333333,
              "#9c179e"
             ],
             [
              0.4444444444444444,
              "#bd3786"
             ],
             [
              0.5555555555555556,
              "#d8576b"
             ],
             [
              0.6666666666666666,
              "#ed7953"
             ],
             [
              0.7777777777777778,
              "#fb9f3a"
             ],
             [
              0.8888888888888888,
              "#fdca26"
             ],
             [
              1,
              "#f0f921"
             ]
            ],
            "type": "surface"
           }
          ],
          "table": [
           {
            "cells": {
             "fill": {
              "color": "#EBF0F8"
             },
             "line": {
              "color": "white"
             }
            },
            "header": {
             "fill": {
              "color": "#C8D4E3"
             },
             "line": {
              "color": "white"
             }
            },
            "type": "table"
           }
          ]
         },
         "layout": {
          "annotationdefaults": {
           "arrowcolor": "#2a3f5f",
           "arrowhead": 0,
           "arrowwidth": 1
          },
          "autotypenumbers": "strict",
          "coloraxis": {
           "colorbar": {
            "outlinewidth": 0,
            "ticks": ""
           }
          },
          "colorscale": {
           "diverging": [
            [
             0,
             "#8e0152"
            ],
            [
             0.1,
             "#c51b7d"
            ],
            [
             0.2,
             "#de77ae"
            ],
            [
             0.3,
             "#f1b6da"
            ],
            [
             0.4,
             "#fde0ef"
            ],
            [
             0.5,
             "#f7f7f7"
            ],
            [
             0.6,
             "#e6f5d0"
            ],
            [
             0.7,
             "#b8e186"
            ],
            [
             0.8,
             "#7fbc41"
            ],
            [
             0.9,
             "#4d9221"
            ],
            [
             1,
             "#276419"
            ]
           ],
           "sequential": [
            [
             0,
             "#0d0887"
            ],
            [
             0.1111111111111111,
             "#46039f"
            ],
            [
             0.2222222222222222,
             "#7201a8"
            ],
            [
             0.3333333333333333,
             "#9c179e"
            ],
            [
             0.4444444444444444,
             "#bd3786"
            ],
            [
             0.5555555555555556,
             "#d8576b"
            ],
            [
             0.6666666666666666,
             "#ed7953"
            ],
            [
             0.7777777777777778,
             "#fb9f3a"
            ],
            [
             0.8888888888888888,
             "#fdca26"
            ],
            [
             1,
             "#f0f921"
            ]
           ],
           "sequentialminus": [
            [
             0,
             "#0d0887"
            ],
            [
             0.1111111111111111,
             "#46039f"
            ],
            [
             0.2222222222222222,
             "#7201a8"
            ],
            [
             0.3333333333333333,
             "#9c179e"
            ],
            [
             0.4444444444444444,
             "#bd3786"
            ],
            [
             0.5555555555555556,
             "#d8576b"
            ],
            [
             0.6666666666666666,
             "#ed7953"
            ],
            [
             0.7777777777777778,
             "#fb9f3a"
            ],
            [
             0.8888888888888888,
             "#fdca26"
            ],
            [
             1,
             "#f0f921"
            ]
           ]
          },
          "colorway": [
           "#636efa",
           "#EF553B",
           "#00cc96",
           "#ab63fa",
           "#FFA15A",
           "#19d3f3",
           "#FF6692",
           "#B6E880",
           "#FF97FF",
           "#FECB52"
          ],
          "font": {
           "color": "#2a3f5f"
          },
          "geo": {
           "bgcolor": "white",
           "lakecolor": "white",
           "landcolor": "#E5ECF6",
           "showlakes": true,
           "showland": true,
           "subunitcolor": "white"
          },
          "hoverlabel": {
           "align": "left"
          },
          "hovermode": "closest",
          "mapbox": {
           "style": "light"
          },
          "paper_bgcolor": "white",
          "plot_bgcolor": "#E5ECF6",
          "polar": {
           "angularaxis": {
            "gridcolor": "white",
            "linecolor": "white",
            "ticks": ""
           },
           "bgcolor": "#E5ECF6",
           "radialaxis": {
            "gridcolor": "white",
            "linecolor": "white",
            "ticks": ""
           }
          },
          "scene": {
           "xaxis": {
            "backgroundcolor": "#E5ECF6",
            "gridcolor": "white",
            "gridwidth": 2,
            "linecolor": "white",
            "showbackground": true,
            "ticks": "",
            "zerolinecolor": "white"
           },
           "yaxis": {
            "backgroundcolor": "#E5ECF6",
            "gridcolor": "white",
            "gridwidth": 2,
            "linecolor": "white",
            "showbackground": true,
            "ticks": "",
            "zerolinecolor": "white"
           },
           "zaxis": {
            "backgroundcolor": "#E5ECF6",
            "gridcolor": "white",
            "gridwidth": 2,
            "linecolor": "white",
            "showbackground": true,
            "ticks": "",
            "zerolinecolor": "white"
           }
          },
          "shapedefaults": {
           "line": {
            "color": "#2a3f5f"
           }
          },
          "ternary": {
           "aaxis": {
            "gridcolor": "white",
            "linecolor": "white",
            "ticks": ""
           },
           "baxis": {
            "gridcolor": "white",
            "linecolor": "white",
            "ticks": ""
           },
           "bgcolor": "#E5ECF6",
           "caxis": {
            "gridcolor": "white",
            "linecolor": "white",
            "ticks": ""
           }
          },
          "title": {
           "x": 0.05
          },
          "xaxis": {
           "automargin": true,
           "gridcolor": "white",
           "linecolor": "white",
           "ticks": "",
           "title": {
            "standoff": 15
           },
           "zerolinecolor": "white",
           "zerolinewidth": 2
          },
          "yaxis": {
           "automargin": true,
           "gridcolor": "white",
           "linecolor": "white",
           "ticks": "",
           "title": {
            "standoff": 15
           },
           "zerolinecolor": "white",
           "zerolinewidth": 2
          }
         }
        },
        "title": {
         "text": "Kommentarhäufigkeit und Unzufriedenheit mit Platzangebot"
        },
        "width": 900,
        "xaxis": {
         "title": {
          "text": ""
         }
        },
        "yaxis": {
         "title": {
          "font": {
           "size": 12
          },
          "text": "Relative Häufigkeit & Unzufriedenheit [log]"
         },
         "type": "log"
        }
       }
      }
     },
     "metadata": {},
     "output_type": "display_data"
    }
   ],
   "source": [
    "import plotly.graph_objects as go\n",
    "import plotly.io as pio\n",
    "\n",
    "# define a list of hex codes for the line colors\n",
    "line_colors = color_discrete_kuzu\n",
    "\n",
    "fig = go.Figure()\n",
    "\n",
    "# add the traces to the figure and set the line color for each trace\n",
    "for i in range(len(df_count_satisfaction_selected_platz ['name'].unique())):\n",
    "    custom_name = df_count_satisfaction_selected_platz ['name'].unique()[i]\n",
    "    df_custom = df_count_satisfaction_selected_platz [df_count_satisfaction_selected_platz ['name']==custom_name]\n",
    "    fig.add_trace(go.Scatter(x=df_custom['yearquarter'], y=df_custom['value'],\n",
    "                    mode='lines',\n",
    "                    name=custom_name,\n",
    "                    line=dict(color=line_colors[i%len(line_colors)]))) # set line color for each trace\n",
    "\n",
    "# add left and right annotations\n",
    "for custom_name in df_count_satisfaction_selected_platz ['name'].unique():\n",
    "    df_custom = df_count_satisfaction_selected_platz [df_count_satisfaction_selected_platz ['name']==custom_name]\n",
    "    y_trace = df_custom['value'].tolist()\n",
    "    label = custom_name\n",
    "    \n",
    "    # fig.add_annotation(x=df_custom.iloc[-1]['yearquarter'], y=y_trace[-1],\n",
    "    #                    xref=\"x\", yref=\"y\",\n",
    "    #                    text=f\"{label}\",\n",
    "    #                    showarrow=False,\n",
    "    #                    font=dict(family='Arial', size=12),\n",
    "    #                    xshift=50,\n",
    "    #                    yshift=0)\n",
    "\n",
    "# update layout and save/show figure\n",
    "fig.update_layout(title=\"Kommentarhäufigkeit und Unzufriedenheit mit Platzangebot\",\n",
    "                  yaxis_title='Häufigkeit & Unzufriedenheit [log]',\n",
    "                  xaxis_title='',\n",
    "                  showlegend=True,\n",
    "                  legend_title=\"\",\n",
    "                  width=900, \n",
    "                  height=450,\n",
    "                  legend=dict(orientation='h', yanchor='top', y=1.1, xanchor='center', x=0.5),\n",
    "                  #template='plotly_white'\n",
    "                  ) # set template\n",
    "\n",
    "fig.update_layout(yaxis_type='log')\n",
    "\n",
    "fig.update_traces(line_width=2, text=df_count_satisfaction_selected_platz ['name'])\n",
    "\n",
    "fig.update_yaxes(title=dict(text='Relative Häufigkeit & Unzufriedenheit [log]', font=dict(size=12)))\n",
    "\n",
    "pio.write_image(fig,\"../../exports/images/Themencluster_Zeitachse_Platzangebot.svg\") #save fig as svg\n",
    "fig.show()"
   ]
  },
  {
   "attachments": {},
   "cell_type": "markdown",
   "metadata": {},
   "source": [
    "## Calculate the correlations between comment based counts and satisfaction scores"
   ]
  },
  {
   "cell_type": "code",
   "execution_count": 60,
   "metadata": {},
   "outputs": [],
   "source": [
    "# Calculate unsatisfaction scores to compare with comment based counts\n",
    "\n",
    "score_cols = [col for col in df.columns if col.startswith('wime_')]\n",
    "\n",
    "grouped_df = (\n",
    "    df.groupby('yearquarter')\n",
    "    [score_cols]\n",
    "    .mean()\n",
    "    .rename(columns={col: col.replace('wime_', 'wime_') for col in score_cols})\n",
    "    .reset_index()\n",
    ")\n",
    "\n",
    "df_satisfaction_by_month = pd.melt(grouped_df, id_vars=['yearquarter'], var_name='name', value_name='value')"
   ]
  },
  {
   "cell_type": "code",
   "execution_count": 61,
   "metadata": {},
   "outputs": [],
   "source": [
    "# Create Dataframe for viz\n",
    "df_topics_by_month = get_topic_ratios(df, timeframe_col='yearquarter', name_col='CustomName', topic_col='Topic')"
   ]
  },
  {
   "cell_type": "code",
   "execution_count": 62,
   "metadata": {},
   "outputs": [],
   "source": [
    "df_temp_1 = df_satisfaction_by_month[df_satisfaction_by_month['name'].isin(['wime_sauberkeit','wime_puenktlich','wime_platzangebot','wime_preis_leistung'])]\n",
    "df_temp_2 = df_topics_by_month[df_topics_by_month['CustomName'].isin(['Sauberkeit Zug und Bahnhof','Pünktlichkeit','Platzangebot Zug','Preis-Leistung'])]\n",
    "df_temp_2 = df_temp_2[['yearquarter','CustomName','Topic_Ratio']]\n",
    "df_temp_2  = df_temp_2 .rename(columns={'CustomName': 'name', 'Topic_Ratio': 'value'})\n",
    "df_comparison = pd.concat([df_temp_1, df_temp_2]).reset_index(drop=True)"
   ]
  },
  {
   "cell_type": "code",
   "execution_count": 63,
   "metadata": {},
   "outputs": [
    {
     "data": {
      "text/html": [
       "<div>\n",
       "<style scoped>\n",
       "    .dataframe tbody tr th:only-of-type {\n",
       "        vertical-align: middle;\n",
       "    }\n",
       "\n",
       "    .dataframe tbody tr th {\n",
       "        vertical-align: top;\n",
       "    }\n",
       "\n",
       "    .dataframe thead th {\n",
       "        text-align: right;\n",
       "    }\n",
       "</style>\n",
       "<table border=\"1\" class=\"dataframe\">\n",
       "  <thead>\n",
       "    <tr style=\"text-align: right;\">\n",
       "      <th></th>\n",
       "      <th>yearquarter</th>\n",
       "      <th>name</th>\n",
       "      <th>value</th>\n",
       "    </tr>\n",
       "  </thead>\n",
       "  <tbody>\n",
       "    <tr>\n",
       "      <th>0</th>\n",
       "      <td>2019Q1</td>\n",
       "      <td>wime_sauberkeit</td>\n",
       "      <td>74.522176</td>\n",
       "    </tr>\n",
       "    <tr>\n",
       "      <th>1</th>\n",
       "      <td>2019Q2</td>\n",
       "      <td>wime_sauberkeit</td>\n",
       "      <td>74.011049</td>\n",
       "    </tr>\n",
       "    <tr>\n",
       "      <th>2</th>\n",
       "      <td>2019Q3</td>\n",
       "      <td>wime_sauberkeit</td>\n",
       "      <td>73.822235</td>\n",
       "    </tr>\n",
       "    <tr>\n",
       "      <th>3</th>\n",
       "      <td>2019Q4</td>\n",
       "      <td>wime_sauberkeit</td>\n",
       "      <td>73.159493</td>\n",
       "    </tr>\n",
       "    <tr>\n",
       "      <th>4</th>\n",
       "      <td>2020Q1</td>\n",
       "      <td>wime_sauberkeit</td>\n",
       "      <td>75.091117</td>\n",
       "    </tr>\n",
       "    <tr>\n",
       "      <th>...</th>\n",
       "      <td>...</td>\n",
       "      <td>...</td>\n",
       "      <td>...</td>\n",
       "    </tr>\n",
       "    <tr>\n",
       "      <th>123</th>\n",
       "      <td>2022Q3</td>\n",
       "      <td>Sauberkeit Zug und Bahnhof</td>\n",
       "      <td>0.021989</td>\n",
       "    </tr>\n",
       "    <tr>\n",
       "      <th>124</th>\n",
       "      <td>2022Q4</td>\n",
       "      <td>Platzangebot Zug</td>\n",
       "      <td>0.134181</td>\n",
       "    </tr>\n",
       "    <tr>\n",
       "      <th>125</th>\n",
       "      <td>2022Q4</td>\n",
       "      <td>Preis-Leistung</td>\n",
       "      <td>0.066011</td>\n",
       "    </tr>\n",
       "    <tr>\n",
       "      <th>126</th>\n",
       "      <td>2022Q4</td>\n",
       "      <td>Pünktlichkeit</td>\n",
       "      <td>0.182909</td>\n",
       "    </tr>\n",
       "    <tr>\n",
       "      <th>127</th>\n",
       "      <td>2022Q4</td>\n",
       "      <td>Sauberkeit Zug und Bahnhof</td>\n",
       "      <td>0.027364</td>\n",
       "    </tr>\n",
       "  </tbody>\n",
       "</table>\n",
       "<p>128 rows × 3 columns</p>\n",
       "</div>"
      ],
      "text/plain": [
       "    yearquarter                        name      value\n",
       "0        2019Q1             wime_sauberkeit  74.522176\n",
       "1        2019Q2             wime_sauberkeit  74.011049\n",
       "2        2019Q3             wime_sauberkeit  73.822235\n",
       "3        2019Q4             wime_sauberkeit  73.159493\n",
       "4        2020Q1             wime_sauberkeit  75.091117\n",
       "..          ...                         ...        ...\n",
       "123      2022Q3  Sauberkeit Zug und Bahnhof   0.021989\n",
       "124      2022Q4            Platzangebot Zug   0.134181\n",
       "125      2022Q4              Preis-Leistung   0.066011\n",
       "126      2022Q4               Pünktlichkeit   0.182909\n",
       "127      2022Q4  Sauberkeit Zug und Bahnhof   0.027364\n",
       "\n",
       "[128 rows x 3 columns]"
      ]
     },
     "execution_count": 63,
     "metadata": {},
     "output_type": "execute_result"
    }
   ],
   "source": [
    "df_comparison"
   ]
  },
  {
   "cell_type": "code",
   "execution_count": 64,
   "metadata": {},
   "outputs": [
    {
     "data": {
      "text/html": [
       "<div>\n",
       "<style scoped>\n",
       "    .dataframe tbody tr th:only-of-type {\n",
       "        vertical-align: middle;\n",
       "    }\n",
       "\n",
       "    .dataframe tbody tr th {\n",
       "        vertical-align: top;\n",
       "    }\n",
       "\n",
       "    .dataframe thead th {\n",
       "        text-align: right;\n",
       "    }\n",
       "</style>\n",
       "<table border=\"1\" class=\"dataframe\">\n",
       "  <thead>\n",
       "    <tr style=\"text-align: right;\">\n",
       "      <th>name</th>\n",
       "      <th>Platzangebot Zug</th>\n",
       "      <th>Preis-Leistung</th>\n",
       "      <th>Pünktlichkeit</th>\n",
       "      <th>Sauberkeit Zug und Bahnhof</th>\n",
       "      <th>wime_platzangebot</th>\n",
       "      <th>wime_preis_leistung</th>\n",
       "      <th>wime_puenktlich</th>\n",
       "      <th>wime_sauberkeit</th>\n",
       "    </tr>\n",
       "    <tr>\n",
       "      <th>name</th>\n",
       "      <th></th>\n",
       "      <th></th>\n",
       "      <th></th>\n",
       "      <th></th>\n",
       "      <th></th>\n",
       "      <th></th>\n",
       "      <th></th>\n",
       "      <th></th>\n",
       "    </tr>\n",
       "  </thead>\n",
       "  <tbody>\n",
       "    <tr>\n",
       "      <th>Platzangebot Zug</th>\n",
       "      <td>1.000000</td>\n",
       "      <td>-0.013901</td>\n",
       "      <td>0.735549</td>\n",
       "      <td>0.237312</td>\n",
       "      <td>-0.943990</td>\n",
       "      <td>-0.626703</td>\n",
       "      <td>-0.759952</td>\n",
       "      <td>-0.875544</td>\n",
       "    </tr>\n",
       "    <tr>\n",
       "      <th>Preis-Leistung</th>\n",
       "      <td>-0.013901</td>\n",
       "      <td>1.000000</td>\n",
       "      <td>0.126526</td>\n",
       "      <td>0.472409</td>\n",
       "      <td>-0.078771</td>\n",
       "      <td>-0.530710</td>\n",
       "      <td>-0.138331</td>\n",
       "      <td>-0.164276</td>\n",
       "    </tr>\n",
       "    <tr>\n",
       "      <th>Pünktlichkeit</th>\n",
       "      <td>0.735549</td>\n",
       "      <td>0.126526</td>\n",
       "      <td>1.000000</td>\n",
       "      <td>0.417177</td>\n",
       "      <td>-0.840585</td>\n",
       "      <td>-0.688798</td>\n",
       "      <td>-0.840326</td>\n",
       "      <td>-0.830590</td>\n",
       "    </tr>\n",
       "    <tr>\n",
       "      <th>Sauberkeit Zug und Bahnhof</th>\n",
       "      <td>0.237312</td>\n",
       "      <td>0.472409</td>\n",
       "      <td>0.417177</td>\n",
       "      <td>1.000000</td>\n",
       "      <td>-0.293356</td>\n",
       "      <td>-0.606633</td>\n",
       "      <td>-0.341574</td>\n",
       "      <td>-0.436558</td>\n",
       "    </tr>\n",
       "    <tr>\n",
       "      <th>wime_platzangebot</th>\n",
       "      <td>-0.943990</td>\n",
       "      <td>-0.078771</td>\n",
       "      <td>-0.840585</td>\n",
       "      <td>-0.293356</td>\n",
       "      <td>1.000000</td>\n",
       "      <td>0.756560</td>\n",
       "      <td>0.851910</td>\n",
       "      <td>0.960100</td>\n",
       "    </tr>\n",
       "    <tr>\n",
       "      <th>wime_preis_leistung</th>\n",
       "      <td>-0.626703</td>\n",
       "      <td>-0.530710</td>\n",
       "      <td>-0.688798</td>\n",
       "      <td>-0.606633</td>\n",
       "      <td>0.756560</td>\n",
       "      <td>1.000000</td>\n",
       "      <td>0.611992</td>\n",
       "      <td>0.806294</td>\n",
       "    </tr>\n",
       "    <tr>\n",
       "      <th>wime_puenktlich</th>\n",
       "      <td>-0.759952</td>\n",
       "      <td>-0.138331</td>\n",
       "      <td>-0.840326</td>\n",
       "      <td>-0.341574</td>\n",
       "      <td>0.851910</td>\n",
       "      <td>0.611992</td>\n",
       "      <td>1.000000</td>\n",
       "      <td>0.851463</td>\n",
       "    </tr>\n",
       "    <tr>\n",
       "      <th>wime_sauberkeit</th>\n",
       "      <td>-0.875544</td>\n",
       "      <td>-0.164276</td>\n",
       "      <td>-0.830590</td>\n",
       "      <td>-0.436558</td>\n",
       "      <td>0.960100</td>\n",
       "      <td>0.806294</td>\n",
       "      <td>0.851463</td>\n",
       "      <td>1.000000</td>\n",
       "    </tr>\n",
       "  </tbody>\n",
       "</table>\n",
       "</div>"
      ],
      "text/plain": [
       "name                        Platzangebot Zug  Preis-Leistung  Pünktlichkeit  \\\n",
       "name                                                                          \n",
       "Platzangebot Zug                    1.000000       -0.013901       0.735549   \n",
       "Preis-Leistung                     -0.013901        1.000000       0.126526   \n",
       "Pünktlichkeit                       0.735549        0.126526       1.000000   \n",
       "Sauberkeit Zug und Bahnhof          0.237312        0.472409       0.417177   \n",
       "wime_platzangebot                  -0.943990       -0.078771      -0.840585   \n",
       "wime_preis_leistung                -0.626703       -0.530710      -0.688798   \n",
       "wime_puenktlich                    -0.759952       -0.138331      -0.840326   \n",
       "wime_sauberkeit                    -0.875544       -0.164276      -0.830590   \n",
       "\n",
       "name                        Sauberkeit Zug und Bahnhof  wime_platzangebot  \\\n",
       "name                                                                        \n",
       "Platzangebot Zug                              0.237312          -0.943990   \n",
       "Preis-Leistung                                0.472409          -0.078771   \n",
       "Pünktlichkeit                                 0.417177          -0.840585   \n",
       "Sauberkeit Zug und Bahnhof                    1.000000          -0.293356   \n",
       "wime_platzangebot                            -0.293356           1.000000   \n",
       "wime_preis_leistung                          -0.606633           0.756560   \n",
       "wime_puenktlich                              -0.341574           0.851910   \n",
       "wime_sauberkeit                              -0.436558           0.960100   \n",
       "\n",
       "name                        wime_preis_leistung  wime_puenktlich  \\\n",
       "name                                                               \n",
       "Platzangebot Zug                      -0.626703        -0.759952   \n",
       "Preis-Leistung                        -0.530710        -0.138331   \n",
       "Pünktlichkeit                         -0.688798        -0.840326   \n",
       "Sauberkeit Zug und Bahnhof            -0.606633        -0.341574   \n",
       "wime_platzangebot                      0.756560         0.851910   \n",
       "wime_preis_leistung                    1.000000         0.611992   \n",
       "wime_puenktlich                        0.611992         1.000000   \n",
       "wime_sauberkeit                        0.806294         0.851463   \n",
       "\n",
       "name                        wime_sauberkeit  \n",
       "name                                         \n",
       "Platzangebot Zug                  -0.875544  \n",
       "Preis-Leistung                    -0.164276  \n",
       "Pünktlichkeit                     -0.830590  \n",
       "Sauberkeit Zug und Bahnhof        -0.436558  \n",
       "wime_platzangebot                  0.960100  \n",
       "wime_preis_leistung                0.806294  \n",
       "wime_puenktlich                    0.851463  \n",
       "wime_sauberkeit                    1.000000  "
      ]
     },
     "execution_count": 64,
     "metadata": {},
     "output_type": "execute_result"
    }
   ],
   "source": [
    "# Calculate correlation matrix\n",
    "# Pivot table to create wide format\n",
    "df_count_satisfaction_pivot = df_comparison.pivot_table(index='yearquarter', columns='name', values='value')\n",
    "\n",
    "# Calculate correlation matrix\n",
    "corr_matrix = df_count_satisfaction_pivot.corr()\n",
    "corr_matrix"
   ]
  },
  {
   "cell_type": "code",
   "execution_count": 72,
   "metadata": {},
   "outputs": [
    {
     "data": {
      "application/vnd.plotly.v1+json": {
       "config": {
        "plotlyServerURL": "https://plot.ly"
       },
       "data": [
        {
         "coloraxis": "coloraxis",
         "hovertemplate": "x: %{x}<br>y: %{y}<br>color: %{z}<extra></extra>",
         "name": "0",
         "type": "heatmap",
         "x": [
          "Platzangebot Zug",
          "Preis-Leistung",
          "Pünktlichkeit",
          "Sauberkeit Zug und Bahnhof",
          "wime_platzangebot",
          "wime_preis_leistung",
          "wime_puenktlich",
          "wime_sauberkeit"
         ],
         "xaxis": "x",
         "y": [
          "Platzangebot Zug",
          "Preis-Leistung",
          "Pünktlichkeit",
          "Sauberkeit Zug und Bahnhof",
          "wime_platzangebot",
          "wime_preis_leistung",
          "wime_puenktlich",
          "wime_sauberkeit"
         ],
         "yaxis": "y",
         "z": [
          [
           null,
           null,
           null,
           null,
           null,
           null,
           null,
           null
          ],
          [
           -0.01390118602565319,
           null,
           null,
           null,
           null,
           null,
           null,
           null
          ],
          [
           0.7355490946843036,
           0.12652586784826517,
           null,
           null,
           null,
           null,
           null,
           null
          ],
          [
           0.23731236952521953,
           0.4724091550297933,
           0.4171769906945098,
           null,
           null,
           null,
           null,
           null
          ],
          [
           -0.9439896479180058,
           -0.07877082950290105,
           -0.8405852416009936,
           -0.29335553262099545,
           null,
           null,
           null,
           null
          ],
          [
           -0.6267033918234207,
           -0.5307097727790255,
           -0.6887977669946395,
           -0.6066326160852904,
           0.7565596487199471,
           null,
           null,
           null
          ],
          [
           -0.7599520344185613,
           -0.1383310006265507,
           -0.8403259490232203,
           -0.3415737558924322,
           0.8519104439616804,
           0.6119918275678986,
           null,
           null
          ],
          [
           -0.8755436833809671,
           -0.16427624270895178,
           -0.8305899379992101,
           -0.4365581889451982,
           0.9600998384632197,
           0.8062944689859555,
           0.8514628104580675,
           null
          ]
         ]
        }
       ],
       "layout": {
        "annotations": [
         {
          "font": {
           "color": "white"
          },
          "showarrow": false,
          "text": "1.0",
          "x": 0,
          "y": 0
         },
         {
          "font": {
           "color": "black"
          },
          "showarrow": false,
          "text": "-0.01",
          "x": 0,
          "y": 1
         },
         {
          "font": {
           "color": "white"
          },
          "showarrow": false,
          "text": "1.0",
          "x": 1,
          "y": 1
         },
         {
          "font": {
           "color": "white"
          },
          "showarrow": false,
          "text": "0.74",
          "x": 0,
          "y": 2
         },
         {
          "font": {
           "color": "black"
          },
          "showarrow": false,
          "text": "0.13",
          "x": 1,
          "y": 2
         },
         {
          "font": {
           "color": "white"
          },
          "showarrow": false,
          "text": "1.0",
          "x": 2,
          "y": 2
         },
         {
          "font": {
           "color": "black"
          },
          "showarrow": false,
          "text": "0.24",
          "x": 0,
          "y": 3
         },
         {
          "font": {
           "color": "black"
          },
          "showarrow": false,
          "text": "0.47",
          "x": 1,
          "y": 3
         },
         {
          "font": {
           "color": "black"
          },
          "showarrow": false,
          "text": "0.42",
          "x": 2,
          "y": 3
         },
         {
          "font": {
           "color": "white"
          },
          "showarrow": false,
          "text": "1.0",
          "x": 3,
          "y": 3
         },
         {
          "font": {
           "color": "white"
          },
          "showarrow": false,
          "text": "-0.94",
          "x": 0,
          "y": 4
         },
         {
          "font": {
           "color": "black"
          },
          "showarrow": false,
          "text": "-0.08",
          "x": 1,
          "y": 4
         },
         {
          "font": {
           "color": "white"
          },
          "showarrow": false,
          "text": "-0.84",
          "x": 2,
          "y": 4
         },
         {
          "font": {
           "color": "black"
          },
          "showarrow": false,
          "text": "-0.29",
          "x": 3,
          "y": 4
         },
         {
          "font": {
           "color": "white"
          },
          "showarrow": false,
          "text": "1.0",
          "x": 4,
          "y": 4
         },
         {
          "font": {
           "color": "white"
          },
          "showarrow": false,
          "text": "-0.63",
          "x": 0,
          "y": 5
         },
         {
          "font": {
           "color": "white"
          },
          "showarrow": false,
          "text": "-0.53",
          "x": 1,
          "y": 5
         },
         {
          "font": {
           "color": "white"
          },
          "showarrow": false,
          "text": "-0.69",
          "x": 2,
          "y": 5
         },
         {
          "font": {
           "color": "white"
          },
          "showarrow": false,
          "text": "-0.61",
          "x": 3,
          "y": 5
         },
         {
          "font": {
           "color": "white"
          },
          "showarrow": false,
          "text": "0.76",
          "x": 4,
          "y": 5
         },
         {
          "font": {
           "color": "white"
          },
          "showarrow": false,
          "text": "1.0",
          "x": 5,
          "y": 5
         },
         {
          "font": {
           "color": "white"
          },
          "showarrow": false,
          "text": "-0.76",
          "x": 0,
          "y": 6
         },
         {
          "font": {
           "color": "black"
          },
          "showarrow": false,
          "text": "-0.14",
          "x": 1,
          "y": 6
         },
         {
          "font": {
           "color": "white"
          },
          "showarrow": false,
          "text": "-0.84",
          "x": 2,
          "y": 6
         },
         {
          "font": {
           "color": "black"
          },
          "showarrow": false,
          "text": "-0.34",
          "x": 3,
          "y": 6
         },
         {
          "font": {
           "color": "white"
          },
          "showarrow": false,
          "text": "0.85",
          "x": 4,
          "y": 6
         },
         {
          "font": {
           "color": "white"
          },
          "showarrow": false,
          "text": "0.61",
          "x": 5,
          "y": 6
         },
         {
          "font": {
           "color": "white"
          },
          "showarrow": false,
          "text": "1.0",
          "x": 6,
          "y": 6
         },
         {
          "font": {
           "color": "white"
          },
          "showarrow": false,
          "text": "-0.88",
          "x": 0,
          "y": 7
         },
         {
          "font": {
           "color": "black"
          },
          "showarrow": false,
          "text": "-0.16",
          "x": 1,
          "y": 7
         },
         {
          "font": {
           "color": "white"
          },
          "showarrow": false,
          "text": "-0.83",
          "x": 2,
          "y": 7
         },
         {
          "font": {
           "color": "black"
          },
          "showarrow": false,
          "text": "-0.44",
          "x": 3,
          "y": 7
         },
         {
          "font": {
           "color": "white"
          },
          "showarrow": false,
          "text": "0.96",
          "x": 4,
          "y": 7
         },
         {
          "font": {
           "color": "white"
          },
          "showarrow": false,
          "text": "0.81",
          "x": 5,
          "y": 7
         },
         {
          "font": {
           "color": "white"
          },
          "showarrow": false,
          "text": "0.85",
          "x": 6,
          "y": 7
         },
         {
          "font": {
           "color": "white"
          },
          "showarrow": false,
          "text": "1.0",
          "x": 7,
          "y": 7
         }
        ],
        "coloraxis": {
         "cmax": 1,
         "cmin": -1,
         "colorscale": [
          [
           0,
           "#F06969"
          ],
          [
           0.5,
           "#ffffff"
          ],
          [
           1,
           "#49787F"
          ]
         ]
        },
        "height": 600,
        "template": {
         "data": {
          "bar": [
           {
            "error_x": {
             "color": "#2a3f5f"
            },
            "error_y": {
             "color": "#2a3f5f"
            },
            "marker": {
             "line": {
              "color": "white",
              "width": 0.5
             },
             "pattern": {
              "fillmode": "overlay",
              "size": 10,
              "solidity": 0.2
             }
            },
            "type": "bar"
           }
          ],
          "barpolar": [
           {
            "marker": {
             "line": {
              "color": "white",
              "width": 0.5
             },
             "pattern": {
              "fillmode": "overlay",
              "size": 10,
              "solidity": 0.2
             }
            },
            "type": "barpolar"
           }
          ],
          "carpet": [
           {
            "aaxis": {
             "endlinecolor": "#2a3f5f",
             "gridcolor": "#C8D4E3",
             "linecolor": "#C8D4E3",
             "minorgridcolor": "#C8D4E3",
             "startlinecolor": "#2a3f5f"
            },
            "baxis": {
             "endlinecolor": "#2a3f5f",
             "gridcolor": "#C8D4E3",
             "linecolor": "#C8D4E3",
             "minorgridcolor": "#C8D4E3",
             "startlinecolor": "#2a3f5f"
            },
            "type": "carpet"
           }
          ],
          "choropleth": [
           {
            "colorbar": {
             "outlinewidth": 0,
             "ticks": ""
            },
            "type": "choropleth"
           }
          ],
          "contour": [
           {
            "colorbar": {
             "outlinewidth": 0,
             "ticks": ""
            },
            "colorscale": [
             [
              0,
              "#0d0887"
             ],
             [
              0.1111111111111111,
              "#46039f"
             ],
             [
              0.2222222222222222,
              "#7201a8"
             ],
             [
              0.3333333333333333,
              "#9c179e"
             ],
             [
              0.4444444444444444,
              "#bd3786"
             ],
             [
              0.5555555555555556,
              "#d8576b"
             ],
             [
              0.6666666666666666,
              "#ed7953"
             ],
             [
              0.7777777777777778,
              "#fb9f3a"
             ],
             [
              0.8888888888888888,
              "#fdca26"
             ],
             [
              1,
              "#f0f921"
             ]
            ],
            "type": "contour"
           }
          ],
          "contourcarpet": [
           {
            "colorbar": {
             "outlinewidth": 0,
             "ticks": ""
            },
            "type": "contourcarpet"
           }
          ],
          "heatmap": [
           {
            "colorbar": {
             "outlinewidth": 0,
             "ticks": ""
            },
            "colorscale": [
             [
              0,
              "#0d0887"
             ],
             [
              0.1111111111111111,
              "#46039f"
             ],
             [
              0.2222222222222222,
              "#7201a8"
             ],
             [
              0.3333333333333333,
              "#9c179e"
             ],
             [
              0.4444444444444444,
              "#bd3786"
             ],
             [
              0.5555555555555556,
              "#d8576b"
             ],
             [
              0.6666666666666666,
              "#ed7953"
             ],
             [
              0.7777777777777778,
              "#fb9f3a"
             ],
             [
              0.8888888888888888,
              "#fdca26"
             ],
             [
              1,
              "#f0f921"
             ]
            ],
            "type": "heatmap"
           }
          ],
          "heatmapgl": [
           {
            "colorbar": {
             "outlinewidth": 0,
             "ticks": ""
            },
            "colorscale": [
             [
              0,
              "#0d0887"
             ],
             [
              0.1111111111111111,
              "#46039f"
             ],
             [
              0.2222222222222222,
              "#7201a8"
             ],
             [
              0.3333333333333333,
              "#9c179e"
             ],
             [
              0.4444444444444444,
              "#bd3786"
             ],
             [
              0.5555555555555556,
              "#d8576b"
             ],
             [
              0.6666666666666666,
              "#ed7953"
             ],
             [
              0.7777777777777778,
              "#fb9f3a"
             ],
             [
              0.8888888888888888,
              "#fdca26"
             ],
             [
              1,
              "#f0f921"
             ]
            ],
            "type": "heatmapgl"
           }
          ],
          "histogram": [
           {
            "marker": {
             "pattern": {
              "fillmode": "overlay",
              "size": 10,
              "solidity": 0.2
             }
            },
            "type": "histogram"
           }
          ],
          "histogram2d": [
           {
            "colorbar": {
             "outlinewidth": 0,
             "ticks": ""
            },
            "colorscale": [
             [
              0,
              "#0d0887"
             ],
             [
              0.1111111111111111,
              "#46039f"
             ],
             [
              0.2222222222222222,
              "#7201a8"
             ],
             [
              0.3333333333333333,
              "#9c179e"
             ],
             [
              0.4444444444444444,
              "#bd3786"
             ],
             [
              0.5555555555555556,
              "#d8576b"
             ],
             [
              0.6666666666666666,
              "#ed7953"
             ],
             [
              0.7777777777777778,
              "#fb9f3a"
             ],
             [
              0.8888888888888888,
              "#fdca26"
             ],
             [
              1,
              "#f0f921"
             ]
            ],
            "type": "histogram2d"
           }
          ],
          "histogram2dcontour": [
           {
            "colorbar": {
             "outlinewidth": 0,
             "ticks": ""
            },
            "colorscale": [
             [
              0,
              "#0d0887"
             ],
             [
              0.1111111111111111,
              "#46039f"
             ],
             [
              0.2222222222222222,
              "#7201a8"
             ],
             [
              0.3333333333333333,
              "#9c179e"
             ],
             [
              0.4444444444444444,
              "#bd3786"
             ],
             [
              0.5555555555555556,
              "#d8576b"
             ],
             [
              0.6666666666666666,
              "#ed7953"
             ],
             [
              0.7777777777777778,
              "#fb9f3a"
             ],
             [
              0.8888888888888888,
              "#fdca26"
             ],
             [
              1,
              "#f0f921"
             ]
            ],
            "type": "histogram2dcontour"
           }
          ],
          "mesh3d": [
           {
            "colorbar": {
             "outlinewidth": 0,
             "ticks": ""
            },
            "type": "mesh3d"
           }
          ],
          "parcoords": [
           {
            "line": {
             "colorbar": {
              "outlinewidth": 0,
              "ticks": ""
             }
            },
            "type": "parcoords"
           }
          ],
          "pie": [
           {
            "automargin": true,
            "type": "pie"
           }
          ],
          "scatter": [
           {
            "fillpattern": {
             "fillmode": "overlay",
             "size": 10,
             "solidity": 0.2
            },
            "type": "scatter"
           }
          ],
          "scatter3d": [
           {
            "line": {
             "colorbar": {
              "outlinewidth": 0,
              "ticks": ""
             }
            },
            "marker": {
             "colorbar": {
              "outlinewidth": 0,
              "ticks": ""
             }
            },
            "type": "scatter3d"
           }
          ],
          "scattercarpet": [
           {
            "marker": {
             "colorbar": {
              "outlinewidth": 0,
              "ticks": ""
             }
            },
            "type": "scattercarpet"
           }
          ],
          "scattergeo": [
           {
            "marker": {
             "colorbar": {
              "outlinewidth": 0,
              "ticks": ""
             }
            },
            "type": "scattergeo"
           }
          ],
          "scattergl": [
           {
            "marker": {
             "colorbar": {
              "outlinewidth": 0,
              "ticks": ""
             }
            },
            "type": "scattergl"
           }
          ],
          "scattermapbox": [
           {
            "marker": {
             "colorbar": {
              "outlinewidth": 0,
              "ticks": ""
             }
            },
            "type": "scattermapbox"
           }
          ],
          "scatterpolar": [
           {
            "marker": {
             "colorbar": {
              "outlinewidth": 0,
              "ticks": ""
             }
            },
            "type": "scatterpolar"
           }
          ],
          "scatterpolargl": [
           {
            "marker": {
             "colorbar": {
              "outlinewidth": 0,
              "ticks": ""
             }
            },
            "type": "scatterpolargl"
           }
          ],
          "scatterternary": [
           {
            "marker": {
             "colorbar": {
              "outlinewidth": 0,
              "ticks": ""
             }
            },
            "type": "scatterternary"
           }
          ],
          "surface": [
           {
            "colorbar": {
             "outlinewidth": 0,
             "ticks": ""
            },
            "colorscale": [
             [
              0,
              "#0d0887"
             ],
             [
              0.1111111111111111,
              "#46039f"
             ],
             [
              0.2222222222222222,
              "#7201a8"
             ],
             [
              0.3333333333333333,
              "#9c179e"
             ],
             [
              0.4444444444444444,
              "#bd3786"
             ],
             [
              0.5555555555555556,
              "#d8576b"
             ],
             [
              0.6666666666666666,
              "#ed7953"
             ],
             [
              0.7777777777777778,
              "#fb9f3a"
             ],
             [
              0.8888888888888888,
              "#fdca26"
             ],
             [
              1,
              "#f0f921"
             ]
            ],
            "type": "surface"
           }
          ],
          "table": [
           {
            "cells": {
             "fill": {
              "color": "#EBF0F8"
             },
             "line": {
              "color": "white"
             }
            },
            "header": {
             "fill": {
              "color": "#C8D4E3"
             },
             "line": {
              "color": "white"
             }
            },
            "type": "table"
           }
          ]
         },
         "layout": {
          "annotationdefaults": {
           "arrowcolor": "#2a3f5f",
           "arrowhead": 0,
           "arrowwidth": 1
          },
          "autotypenumbers": "strict",
          "coloraxis": {
           "colorbar": {
            "outlinewidth": 0,
            "ticks": ""
           }
          },
          "colorscale": {
           "diverging": [
            [
             0,
             "#8e0152"
            ],
            [
             0.1,
             "#c51b7d"
            ],
            [
             0.2,
             "#de77ae"
            ],
            [
             0.3,
             "#f1b6da"
            ],
            [
             0.4,
             "#fde0ef"
            ],
            [
             0.5,
             "#f7f7f7"
            ],
            [
             0.6,
             "#e6f5d0"
            ],
            [
             0.7,
             "#b8e186"
            ],
            [
             0.8,
             "#7fbc41"
            ],
            [
             0.9,
             "#4d9221"
            ],
            [
             1,
             "#276419"
            ]
           ],
           "sequential": [
            [
             0,
             "#0d0887"
            ],
            [
             0.1111111111111111,
             "#46039f"
            ],
            [
             0.2222222222222222,
             "#7201a8"
            ],
            [
             0.3333333333333333,
             "#9c179e"
            ],
            [
             0.4444444444444444,
             "#bd3786"
            ],
            [
             0.5555555555555556,
             "#d8576b"
            ],
            [
             0.6666666666666666,
             "#ed7953"
            ],
            [
             0.7777777777777778,
             "#fb9f3a"
            ],
            [
             0.8888888888888888,
             "#fdca26"
            ],
            [
             1,
             "#f0f921"
            ]
           ],
           "sequentialminus": [
            [
             0,
             "#0d0887"
            ],
            [
             0.1111111111111111,
             "#46039f"
            ],
            [
             0.2222222222222222,
             "#7201a8"
            ],
            [
             0.3333333333333333,
             "#9c179e"
            ],
            [
             0.4444444444444444,
             "#bd3786"
            ],
            [
             0.5555555555555556,
             "#d8576b"
            ],
            [
             0.6666666666666666,
             "#ed7953"
            ],
            [
             0.7777777777777778,
             "#fb9f3a"
            ],
            [
             0.8888888888888888,
             "#fdca26"
            ],
            [
             1,
             "#f0f921"
            ]
           ]
          },
          "colorway": [
           "#636efa",
           "#EF553B",
           "#00cc96",
           "#ab63fa",
           "#FFA15A",
           "#19d3f3",
           "#FF6692",
           "#B6E880",
           "#FF97FF",
           "#FECB52"
          ],
          "font": {
           "color": "#2a3f5f"
          },
          "geo": {
           "bgcolor": "white",
           "lakecolor": "white",
           "landcolor": "white",
           "showlakes": true,
           "showland": true,
           "subunitcolor": "#C8D4E3"
          },
          "hoverlabel": {
           "align": "left"
          },
          "hovermode": "closest",
          "mapbox": {
           "style": "light"
          },
          "paper_bgcolor": "white",
          "plot_bgcolor": "white",
          "polar": {
           "angularaxis": {
            "gridcolor": "#EBF0F8",
            "linecolor": "#EBF0F8",
            "ticks": ""
           },
           "bgcolor": "white",
           "radialaxis": {
            "gridcolor": "#EBF0F8",
            "linecolor": "#EBF0F8",
            "ticks": ""
           }
          },
          "scene": {
           "xaxis": {
            "backgroundcolor": "white",
            "gridcolor": "#DFE8F3",
            "gridwidth": 2,
            "linecolor": "#EBF0F8",
            "showbackground": true,
            "ticks": "",
            "zerolinecolor": "#EBF0F8"
           },
           "yaxis": {
            "backgroundcolor": "white",
            "gridcolor": "#DFE8F3",
            "gridwidth": 2,
            "linecolor": "#EBF0F8",
            "showbackground": true,
            "ticks": "",
            "zerolinecolor": "#EBF0F8"
           },
           "zaxis": {
            "backgroundcolor": "white",
            "gridcolor": "#DFE8F3",
            "gridwidth": 2,
            "linecolor": "#EBF0F8",
            "showbackground": true,
            "ticks": "",
            "zerolinecolor": "#EBF0F8"
           }
          },
          "shapedefaults": {
           "line": {
            "color": "#2a3f5f"
           }
          },
          "ternary": {
           "aaxis": {
            "gridcolor": "#DFE8F3",
            "linecolor": "#A2B1C6",
            "ticks": ""
           },
           "baxis": {
            "gridcolor": "#DFE8F3",
            "linecolor": "#A2B1C6",
            "ticks": ""
           },
           "bgcolor": "white",
           "caxis": {
            "gridcolor": "#DFE8F3",
            "linecolor": "#A2B1C6",
            "ticks": ""
           }
          },
          "title": {
           "x": 0.05
          },
          "xaxis": {
           "automargin": true,
           "gridcolor": "#EBF0F8",
           "linecolor": "#EBF0F8",
           "ticks": "",
           "title": {
            "standoff": 15
           },
           "zerolinecolor": "#EBF0F8",
           "zerolinewidth": 2
          },
          "yaxis": {
           "automargin": true,
           "gridcolor": "#EBF0F8",
           "linecolor": "#EBF0F8",
           "ticks": "",
           "title": {
            "standoff": 15
           },
           "zerolinecolor": "#EBF0F8",
           "zerolinewidth": 2
          }
         }
        },
        "title": {
         "text": "Korrelationen - Zufriedenheitsbewertungen & Anzahl Kommentare nach Themencluster"
        },
        "width": 800,
        "xaxis": {
         "anchor": "y",
         "constrain": "domain",
         "domain": [
          0,
          1
         ],
         "scaleanchor": "y",
         "tickangle": -90,
         "tickfont": {
          "size": 12
         }
        },
        "yaxis": {
         "anchor": "x",
         "autorange": "reversed",
         "constrain": "domain",
         "domain": [
          0,
          1
         ]
        }
       }
      }
     },
     "metadata": {},
     "output_type": "display_data"
    }
   ],
   "source": [
    "import numpy as np\n",
    "\n",
    "# Define your custom colors\n",
    "custom_colors = ['#F06969', '#ffffff', '#49787F']  # Replace with your desired color codes\n",
    "\n",
    "# Create a custom colormap using your custom colors\n",
    "colorscale = [[i / (len(custom_colors) - 1), color] for i, color in enumerate(custom_colors)]\n",
    "\n",
    "\n",
    "# create correlation plot with lower triangle masked out\n",
    "mask = np.triu(np.ones_like(corr_matrix, dtype=bool))\n",
    "corr_matrix_masked = corr_matrix.mask(mask)\n",
    "fig = px.imshow(corr_matrix_masked,\n",
    "                color_continuous_scale=colorscale,\n",
    "                zmin=-1,\n",
    "                zmax=1,\n",
    "                labels=dict(x='', y=''),\n",
    "                title='Korrelationen - Zufriedenheitsbewertungen & Anzahl Kommentare nach Themencluster')\n",
    "\n",
    "# add text annotations to cells\n",
    "for i in range(len(corr_matrix)):\n",
    "    for j in range(i+1): # only iterate over lower triangle\n",
    "        fig.add_annotation(x=j, y=i,\n",
    "                           text=str(round(corr_matrix.iloc[i, j], 2)),\n",
    "                           font=dict(color='white' if abs(corr_matrix.iloc[i, j]) > 0.5 else 'black'),\n",
    "                           showarrow=False)\n",
    "\n",
    "# update layout and save/show figure\n",
    "fig.update_layout(width=800,\n",
    "                  height=600,\n",
    "                  xaxis=dict(tickangle=-90, tickfont=dict(size=12)),\n",
    "                  template='plotly_white')\n",
    "pio.write_image(fig, '../../exports/images/correlation_plot_Satisfactiom_Comments.svg')\n",
    "fig.show()"
   ]
  }
 ],
 "metadata": {
  "kernelspec": {
   "display_name": "nlp",
   "language": "python",
   "name": "python3"
  },
  "language_info": {
   "codemirror_mode": {
    "name": "ipython",
    "version": 3
   },
   "file_extension": ".py",
   "mimetype": "text/x-python",
   "name": "python",
   "nbconvert_exporter": "python",
   "pygments_lexer": "ipython3",
   "version": "3.8.16"
  },
  "orig_nbformat": 4,
  "vscode": {
   "interpreter": {
    "hash": "2c54f9282dd36543c8181ef7676bc28d81677c039b129753722332dc3d171a18"
   }
  }
 },
 "nbformat": 4,
 "nbformat_minor": 2
}
