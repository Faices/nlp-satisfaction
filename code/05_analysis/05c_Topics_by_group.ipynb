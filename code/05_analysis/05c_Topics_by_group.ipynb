{
 "cells": [
  {
   "attachments": {},
   "cell_type": "markdown",
   "metadata": {},
   "source": [
    "# Topics by Customer Groups"
   ]
  },
  {
   "cell_type": "code",
   "execution_count": 1,
   "metadata": {},
   "outputs": [
    {
     "name": "stderr",
     "output_type": "stream",
     "text": [
      "2023-03-12 19:16:57.372717: I tensorflow/core/platform/cpu_feature_guard.cc:193] This TensorFlow binary is optimized with oneAPI Deep Neural Network Library (oneDNN) to use the following CPU instructions in performance-critical operations:  AVX2 FMA\n",
      "To enable them in other operations, rebuild TensorFlow with the appropriate compiler flags.\n"
     ]
    }
   ],
   "source": [
    "import sys\n",
    "import os\n",
    "sys.path.append(os.path.abspath('../')) ## needed to import the function.py file\n",
    "from functions import *\n",
    "import pandas as pd\n",
    "import plotly.express as px\n",
    "import plotly.io as pio"
   ]
  },
  {
   "cell_type": "code",
   "execution_count": 2,
   "metadata": {},
   "outputs": [],
   "source": [
    "## Import docs\n",
    "filelocation = '../../data/DataTextTrain'\n",
    "data = pd.read_feather(filelocation)\n",
    "data = data\n",
    "docs = data[\"Kommentar\"].values\n",
    "timestamps = data.yearquarter.to_list()\n",
    "gender = [data[\"S_sex\"][i] for i in range(len(data[\"S_sex\"]))]\n",
    "\n",
    "# Load the Original Topic Model\n",
    "topic_model = BERTopic.load(\"../../models/BERTTopic_paraphrase-multilingual-MiniLM-L12-v2_merged_oulier_reduced.model\")\n",
    "df_topic = topic_model.get_document_info(docs)\n",
    "\n",
    "\n",
    "# Create full dataframe with all infomration\n",
    "df = data.join(df_topic)\n",
    "\n",
    "\n",
    "\n",
    "#### Add grouped Age col #####\n",
    "df['S_alter'] = pd.to_numeric(df['S_alter'], errors='coerce')\n",
    "bins = [0, 24, 44, 64, 100]\n",
    "labels = [\"1-24 Jahre\", \"25-44 Jahre\", \"45-64 Jahre\", \"65-100 Jahre\"]\n",
    "df['S_alter_grouped'] = pd.cut(df['S_alter'], bins=bins, labels=labels)\n",
    "\n",
    "# Create Dataframe for viz\n",
    "df_topics_by_quarter = get_topic_ratios(df, timeframe_col='yearquarter', name_col='CustomName', topic_col='Topic')\n",
    "\n",
    "\n",
    "\n",
    "###### Convert the two columns to datetime format #####\n",
    "df['fg_abfahrt'] = pd.to_datetime(df['fg_abfahrt'], format='%H:%M:%S')\n",
    "df['fg_ankunft'] = pd.to_datetime(df['fg_ankunft'], format='%H:%M:%S')\n",
    "\n",
    "# calculate the time difference between the two columns\n",
    "df['time_diff'] = df['fg_ankunft'] - df['fg_abfahrt']\n",
    "\n",
    "# define the time difference groups\n",
    "time_groups = pd.cut(df['time_diff'], bins=[pd.Timedelta(minutes=0), pd.Timedelta(minutes=15), \n",
    "                                             pd.Timedelta(minutes=60), pd.Timedelta(minutes=180), \n",
    "                                             pd.Timedelta.max],\n",
    "                    labels=['bis 15 Minuten', '16 bis 60 Minuten', '60 bis 180 Minuten', \n",
    "                            'Mehr als 180 Minuten'])\n",
    "\n",
    "# add the time difference groups as a new column to the DataFrame\n",
    "df['time_diff_grouped'] = time_groups"
   ]
  },
  {
   "cell_type": "code",
   "execution_count": 3,
   "metadata": {},
   "outputs": [],
   "source": [
    "import pandas as pd\n",
    "\n",
    "def compute_categorical_counts(df, categorical_col, name_col):\n",
    "    \"\"\"\n",
    "    Compute the counts and relative counts for each combination of CustomName and Topic, \n",
    "    aggregated by the categorical column.\n",
    "    \n",
    "    Parameters:\n",
    "    -----------\n",
    "    df : pandas.DataFrame\n",
    "        The input data containing the columns for the categorical_col, name_col, and topic_col.\n",
    "    categorical_col : str\n",
    "        The name of the column containing the categorical information (e.g. year, quarter, month, etc.).\n",
    "    name_col : str\n",
    "        The name of the column containing the CustomName information.\n",
    "    topic_col : str\n",
    "        The name of the column containing the Topic information.\n",
    "    \n",
    "    Returns:\n",
    "    --------\n",
    "    pandas.DataFrame\n",
    "        A new DataFrame with the columns 'categorical_col', 'CustomName', 'Topic', 'count', and 'relative_count'.\n",
    "    \"\"\"\n",
    "    # Aggregate counts by categorical value, CustomName, and Topic\n",
    "    df_topic_categorical = pd.DataFrame(df.groupby([categorical_col, name_col]).size().reset_index(name='count'))\n",
    "    \n",
    "    # Compute total count for each categorical value\n",
    "    df_total_count = pd.DataFrame(df.groupby([categorical_col]).size().reset_index(name='total_count'))\n",
    "    \n",
    "    # Merge total count into topic counts DataFrame\n",
    "    df_topic_categorical = df_topic_categorical.merge(df_total_count, on=categorical_col)\n",
    "    \n",
    "    # Compute relative count\n",
    "    df_topic_categorical['relative_count'] = df_topic_categorical['count'] / df_topic_categorical['total_count']\n",
    "    \n",
    "    return df_topic_categorical[[categorical_col, name_col, 'count', 'relative_count']]"
   ]
  },
  {
   "cell_type": "code",
   "execution_count": 4,
   "metadata": {},
   "outputs": [],
   "source": [
    "def create_grouped_barchart(df, x_col, y_col, color_col, color_discrete_sequence, title, xaxis_title='', yaxis_title='', legend_title='', template=''):\n",
    "    fig = px.bar(df,\n",
    "                 x=x_col,\n",
    "                 y=y_col,\n",
    "                 color=color_col,\n",
    "                 hover_data=[color_col, y_col],\n",
    "                 color_discrete_sequence=color_discrete_sequence,\n",
    "                 template=template,\n",
    "                 barmode='group')\n",
    "    \n",
    "    fig.update_layout(\n",
    "        width=900, \n",
    "        height=450,\n",
    "        title=title,\n",
    "        yaxis_title=yaxis_title,\n",
    "        xaxis_title=xaxis_title,\n",
    "        legend_title=legend_title\n",
    "    )\n",
    "    \n",
    "    fig.update_xaxes(showgrid=False)\n",
    "    fig.update_yaxes(showgrid=True, gridwidth=1, gridcolor='rgba(0,0,0,0.1)')\n",
    "    \n",
    "    fig.show()"
   ]
  },
  {
   "cell_type": "code",
   "execution_count": 5,
   "metadata": {},
   "outputs": [],
   "source": [
    "import plotly.graph_objects as go\n",
    "\n",
    "def create_grouped_radar(df, x_col, y_col, color_col, color_discrete_sequence, title, xaxis_title='', yaxis_title='', legend_title='', template=''):\n",
    "    fig = go.Figure()\n",
    "    for color in df[color_col].unique():\n",
    "        fig.add_trace(go.Scatterpolar(\n",
    "            r=df[df[color_col] == color][y_col].values.tolist(),\n",
    "            theta=df[df[color_col] == color][x_col].values.tolist(),\n",
    "            fill='none',\n",
    "            name=color,\n",
    "            line=dict(color=color_discrete_sequence[df[color_col].unique().tolist().index(color)]),\n",
    "            showlegend=True,\n",
    "            marker=dict(size=4)\n",
    "        ))\n",
    "    fig.update_layout(\n",
    "        width=900, \n",
    "        height=450,\n",
    "        polar=dict(\n",
    "            radialaxis=dict(\n",
    "                visible=True,\n",
    "                range=[0, df[y_col].max()],\n",
    "                showgrid=True,\n",
    "                gridwidth=1,\n",
    "                gridcolor='rgba(0,0,0,0.1)'\n",
    "            ),\n",
    "            angularaxis=dict(\n",
    "                visible=True,\n",
    "                tickmode='linear',\n",
    "                tickfont=dict(size=10),\n",
    "                showticklabels=True,\n",
    "                gridcolor='rgba(0,0,0,0.1)'\n",
    "            )\n",
    "        ),\n",
    "        showlegend=True,\n",
    "        title=title,\n",
    "        legend_title=legend_title,\n",
    "        xaxis_title=xaxis_title,\n",
    "        yaxis_title=yaxis_title,\n",
    "        template=template\n",
    "    )\n",
    "\n",
    "    fig.show()"
   ]
  },
  {
   "attachments": {},
   "cell_type": "markdown",
   "metadata": {},
   "source": [
    "## Prepare Aggregated dataframes for Viz"
   ]
  },
  {
   "cell_type": "code",
   "execution_count": 20,
   "metadata": {},
   "outputs": [],
   "source": [
    "df_gender = compute_categorical_counts(df, categorical_col=\"S_sex\", name_col=\"CustomName\")\n",
    "df_gender = df_gender[df_gender[\"S_sex\"] != 'divers']\n",
    "df_gender = df_gender[df_gender[\"CustomName\"] != 'Outlier']\n",
    "\n",
    "df_agegroup = compute_categorical_counts(df, categorical_col=\"S_alter_grouped\", name_col=\"CustomName\")\n",
    "df_agegroup  = df_agegroup[df_agegroup[\"CustomName\"] != 'Outlier']\n",
    "\n",
    "df_u_klassencode = compute_categorical_counts(df, categorical_col=\"u_klassencode\", name_col=\"CustomName\")\n",
    "df_u_klassencode = df_u_klassencode[df_u_klassencode[\"CustomName\"] != 'Outlier']\n",
    "\n",
    "df_R_zweck = compute_categorical_counts(df, categorical_col=\"R_zweck\", name_col=\"CustomName\")\n",
    "df_R_zweck = df_R_zweck[df_R_zweck[\"CustomName\"] != 'Outlier']\n",
    "df_R_zweck = df_R_zweck[df_R_zweck[\"R_zweck\"] != 'Outlier']\n",
    "\n",
    "df_reisezeit = compute_categorical_counts(df, categorical_col=\"time_diff_grouped\", name_col=\"CustomName\")\n",
    "df_reisezeit= df_reisezeit[df_reisezeit[\"CustomName\"] != 'Outlier']\n",
    "\n"
   ]
  },
  {
   "attachments": {},
   "cell_type": "markdown",
   "metadata": {},
   "source": [
    "## Plot Charts"
   ]
  },
  {
   "cell_type": "code",
   "execution_count": 21,
   "metadata": {},
   "outputs": [
    {
     "data": {
      "application/vnd.plotly.v1+json": {
       "config": {
        "plotlyServerURL": "https://plot.ly"
       },
       "data": [
        {
         "alignmentgroup": "True",
         "customdata": [
          [
           "Ausstattung Qualität Rollmaterial"
          ],
          [
           "Ausstattung Qualität Rollmaterial"
          ]
         ],
         "hovertemplate": "CustomName=%{customdata[0]}<br>S_sex=%{x}<br>relative_count=%{y}<extra></extra>",
         "legendgroup": "Ausstattung Qualität Rollmaterial",
         "marker": {
          "color": "#003f5c",
          "pattern": {
           "shape": ""
          }
         },
         "name": "Ausstattung Qualität Rollmaterial",
         "offsetgroup": "Ausstattung Qualität Rollmaterial",
         "orientation": "v",
         "showlegend": true,
         "textposition": "auto",
         "type": "bar",
         "x": [
          "männlich",
          "weiblich"
         ],
         "xaxis": "x",
         "y": [
          0.031170574977221505,
          0.024209342055918997
         ],
         "yaxis": "y"
        },
        {
         "alignmentgroup": "True",
         "customdata": [
          [
           "Corona"
          ],
          [
           "Corona"
          ]
         ],
         "hovertemplate": "CustomName=%{customdata[0]}<br>S_sex=%{x}<br>relative_count=%{y}<extra></extra>",
         "legendgroup": "Corona",
         "marker": {
          "color": "#58508d",
          "pattern": {
           "shape": ""
          }
         },
         "name": "Corona",
         "offsetgroup": "Corona",
         "orientation": "v",
         "showlegend": true,
         "textposition": "auto",
         "type": "bar",
         "x": [
          "männlich",
          "weiblich"
         ],
         "xaxis": "x",
         "y": [
          0.035102862897424834,
          0.045668569523730156
         ],
         "yaxis": "y"
        },
        {
         "alignmentgroup": "True",
         "customdata": [
          [
           "Fahrplanangebot"
          ],
          [
           "Fahrplanangebot"
          ]
         ],
         "hovertemplate": "CustomName=%{customdata[0]}<br>S_sex=%{x}<br>relative_count=%{y}<extra></extra>",
         "legendgroup": "Fahrplanangebot",
         "marker": {
          "color": "#bc5090",
          "pattern": {
           "shape": ""
          }
         },
         "name": "Fahrplanangebot",
         "offsetgroup": "Fahrplanangebot",
         "orientation": "v",
         "showlegend": true,
         "textposition": "auto",
         "type": "bar",
         "x": [
          "männlich",
          "weiblich"
         ],
         "xaxis": "x",
         "y": [
          0.06334819929986094,
          0.07029459560815034
         ],
         "yaxis": "y"
        },
        {
         "alignmentgroup": "True",
         "customdata": [
          [
           "Feedback Umfrage"
          ],
          [
           "Feedback Umfrage"
          ]
         ],
         "hovertemplate": "CustomName=%{customdata[0]}<br>S_sex=%{x}<br>relative_count=%{y}<extra></extra>",
         "legendgroup": "Feedback Umfrage",
         "marker": {
          "color": "#ff6361",
          "pattern": {
           "shape": ""
          }
         },
         "name": "Feedback Umfrage",
         "offsetgroup": "Feedback Umfrage",
         "orientation": "v",
         "showlegend": true,
         "textposition": "auto",
         "type": "bar",
         "x": [
          "männlich",
          "weiblich"
         ],
         "xaxis": "x",
         "y": [
          0.023929410636359276,
          0.01370890453768907
         ],
         "yaxis": "y"
        },
        {
         "alignmentgroup": "True",
         "customdata": [
          [
           "Internet, Wlan und Mobilfunk"
          ],
          [
           "Internet, Wlan und Mobilfunk"
          ]
         ],
         "hovertemplate": "CustomName=%{customdata[0]}<br>S_sex=%{x}<br>relative_count=%{y}<extra></extra>",
         "legendgroup": "Internet, Wlan und Mobilfunk",
         "marker": {
          "color": "#ffa600",
          "pattern": {
           "shape": ""
          }
         },
         "name": "Internet, Wlan und Mobilfunk",
         "offsetgroup": "Internet, Wlan und Mobilfunk",
         "orientation": "v",
         "showlegend": true,
         "textposition": "auto",
         "type": "bar",
         "x": [
          "männlich",
          "weiblich"
         ],
         "xaxis": "x",
         "y": [
          0.02589555459646094,
          0.01904246010250427
         ],
         "yaxis": "y"
        },
        {
         "alignmentgroup": "True",
         "customdata": [
          [
           "Kommerzielle Angebote"
          ],
          [
           "Kommerzielle Angebote"
          ]
         ],
         "hovertemplate": "CustomName=%{customdata[0]}<br>S_sex=%{x}<br>relative_count=%{y}<extra></extra>",
         "legendgroup": "Kommerzielle Angebote",
         "marker": {
          "color": "#ff7c43",
          "pattern": {
           "shape": ""
          }
         },
         "name": "Kommerzielle Angebote",
         "offsetgroup": "Kommerzielle Angebote",
         "orientation": "v",
         "showlegend": true,
         "textposition": "auto",
         "type": "bar",
         "x": [
          "männlich",
          "weiblich"
         ],
         "xaxis": "x",
         "y": [
          0.030643072939145446,
          0.027876161506729447
         ],
         "yaxis": "y"
        },
        {
         "alignmentgroup": "True",
         "customdata": [
          [
           "Kundeninformation"
          ],
          [
           "Kundeninformation"
          ]
         ],
         "hovertemplate": "CustomName=%{customdata[0]}<br>S_sex=%{x}<br>relative_count=%{y}<extra></extra>",
         "legendgroup": "Kundeninformation",
         "marker": {
          "color": "#ffdc00",
          "pattern": {
           "shape": ""
          }
         },
         "name": "Kundeninformation",
         "offsetgroup": "Kundeninformation",
         "orientation": "v",
         "showlegend": true,
         "textposition": "auto",
         "type": "bar",
         "x": [
          "männlich",
          "weiblich"
         ],
         "xaxis": "x",
         "y": [
          0.026471011365271184,
          0.024084336847368642
         ],
         "yaxis": "y"
        },
        {
         "alignmentgroup": "True",
         "customdata": [
          [
           "Lob"
          ],
          [
           "Lob"
          ]
         ],
         "hovertemplate": "CustomName=%{customdata[0]}<br>S_sex=%{x}<br>relative_count=%{y}<extra></extra>",
         "legendgroup": "Lob",
         "marker": {
          "color": "#00a2ff",
          "pattern": {
           "shape": ""
          }
         },
         "name": "Lob",
         "offsetgroup": "Lob",
         "orientation": "v",
         "showlegend": true,
         "textposition": "auto",
         "type": "bar",
         "x": [
          "männlich",
          "weiblich"
         ],
         "xaxis": "x",
         "y": [
          0.06253296887737976,
          0.05225217717404892
         ],
         "yaxis": "y"
        },
        {
         "alignmentgroup": "True",
         "customdata": [
          [
           "Platzangebot Velo, Gepäck, Kinderwagen"
          ],
          [
           "Platzangebot Velo, Gepäck, Kinderwagen"
          ]
         ],
         "hovertemplate": "CustomName=%{customdata[0]}<br>S_sex=%{x}<br>relative_count=%{y}<extra></extra>",
         "legendgroup": "Platzangebot Velo, Gepäck, Kinderwagen",
         "marker": {
          "color": "#7fdbff",
          "pattern": {
           "shape": ""
          }
         },
         "name": "Platzangebot Velo, Gepäck, Kinderwagen",
         "offsetgroup": "Platzangebot Velo, Gepäck, Kinderwagen",
         "orientation": "v",
         "showlegend": true,
         "textposition": "auto",
         "type": "bar",
         "x": [
          "männlich",
          "weiblich"
         ],
         "xaxis": "x",
         "y": [
          0.05212679230806119,
          0.0475436476519855
         ],
         "yaxis": "y"
        },
        {
         "alignmentgroup": "True",
         "customdata": [
          [
           "Platzangebot Zug"
          ],
          [
           "Platzangebot Zug"
          ]
         ],
         "hovertemplate": "CustomName=%{customdata[0]}<br>S_sex=%{x}<br>relative_count=%{y}<extra></extra>",
         "legendgroup": "Platzangebot Zug",
         "marker": {
          "color": "#e8c547",
          "pattern": {
           "shape": ""
          }
         },
         "name": "Platzangebot Zug",
         "offsetgroup": "Platzangebot Zug",
         "orientation": "v",
         "showlegend": true,
         "textposition": "auto",
         "type": "bar",
         "x": [
          "männlich",
          "weiblich"
         ],
         "xaxis": "x",
         "y": [
          0.10909701242027527,
          0.11792158006583607
         ],
         "yaxis": "y"
        },
        {
         "alignmentgroup": "True",
         "customdata": [
          [
           "Preis-Leistung"
          ],
          [
           "Preis-Leistung"
          ]
         ],
         "hovertemplate": "CustomName=%{customdata[0]}<br>S_sex=%{x}<br>relative_count=%{y}<extra></extra>",
         "legendgroup": "Preis-Leistung",
         "marker": {
          "color": "#55b2d2",
          "pattern": {
           "shape": ""
          }
         },
         "name": "Preis-Leistung",
         "offsetgroup": "Preis-Leistung",
         "orientation": "v",
         "showlegend": true,
         "textposition": "auto",
         "type": "bar",
         "x": [
          "männlich",
          "weiblich"
         ],
         "xaxis": "x",
         "y": [
          0.09073035054908167,
          0.09167048627026127
         ],
         "yaxis": "y"
        },
        {
         "alignmentgroup": "True",
         "customdata": [
          [
           "Pünktlichkeit"
          ],
          [
           "Pünktlichkeit"
          ]
         ],
         "hovertemplate": "CustomName=%{customdata[0]}<br>S_sex=%{x}<br>relative_count=%{y}<extra></extra>",
         "legendgroup": "Pünktlichkeit",
         "marker": {
          "color": "#7fcdbb",
          "pattern": {
           "shape": ""
          }
         },
         "name": "Pünktlichkeit",
         "offsetgroup": "Pünktlichkeit",
         "orientation": "v",
         "showlegend": true,
         "textposition": "auto",
         "type": "bar",
         "x": [
          "männlich",
          "weiblich"
         ],
         "xaxis": "x",
         "y": [
          0.18879777490049393,
          0.1826326096920705
         ],
         "yaxis": "y"
        },
        {
         "alignmentgroup": "True",
         "customdata": [
          [
           "Raumtemperatur Zug"
          ],
          [
           "Raumtemperatur Zug"
          ]
         ],
         "hovertemplate": "CustomName=%{customdata[0]}<br>S_sex=%{x}<br>relative_count=%{y}<extra></extra>",
         "legendgroup": "Raumtemperatur Zug",
         "marker": {
          "color": "#5a5a5a",
          "pattern": {
           "shape": ""
          }
         },
         "name": "Raumtemperatur Zug",
         "offsetgroup": "Raumtemperatur Zug",
         "orientation": "v",
         "showlegend": true,
         "textposition": "auto",
         "type": "bar",
         "x": [
          "männlich",
          "weiblich"
         ],
         "xaxis": "x",
         "y": [
          0.02762192490289167,
          0.03775157298220759
         ],
         "yaxis": "y"
        },
        {
         "alignmentgroup": "True",
         "customdata": [
          [
           "Sauberkeit Zug und Bahnhof"
          ],
          [
           "Sauberkeit Zug und Bahnhof"
          ]
         ],
         "hovertemplate": "CustomName=%{customdata[0]}<br>S_sex=%{x}<br>relative_count=%{y}<extra></extra>",
         "legendgroup": "Sauberkeit Zug und Bahnhof",
         "marker": {
          "color": "#9c9c9c",
          "pattern": {
           "shape": ""
          }
         },
         "name": "Sauberkeit Zug und Bahnhof",
         "offsetgroup": "Sauberkeit Zug und Bahnhof",
         "orientation": "v",
         "showlegend": true,
         "textposition": "auto",
         "type": "bar",
         "x": [
          "männlich",
          "weiblich"
         ],
         "xaxis": "x",
         "y": [
          0.029252385747854028,
          0.03141797574898954
         ],
         "yaxis": "y"
        },
        {
         "alignmentgroup": "True",
         "customdata": [
          [
           "Security"
          ],
          [
           "Security"
          ]
         ],
         "hovertemplate": "CustomName=%{customdata[0]}<br>S_sex=%{x}<br>relative_count=%{y}<extra></extra>",
         "legendgroup": "Security",
         "marker": {
          "color": "#c9c9c9",
          "pattern": {
           "shape": ""
          }
         },
         "name": "Security",
         "offsetgroup": "Security",
         "orientation": "v",
         "showlegend": true,
         "textposition": "auto",
         "type": "bar",
         "x": [
          "männlich",
          "weiblich"
         ],
         "xaxis": "x",
         "y": [
          0.023929410636359276,
          0.03929330388766199
         ],
         "yaxis": "y"
        },
        {
         "alignmentgroup": "True",
         "customdata": [
          [
           "Sonstiges"
          ],
          [
           "Sonstiges"
          ]
         ],
         "hovertemplate": "CustomName=%{customdata[0]}<br>S_sex=%{x}<br>relative_count=%{y}<extra></extra>",
         "legendgroup": "Sonstiges",
         "marker": {
          "color": "#ef476f",
          "pattern": {
           "shape": ""
          }
         },
         "name": "Sonstiges",
         "offsetgroup": "Sonstiges",
         "orientation": "v",
         "showlegend": true,
         "textposition": "auto",
         "type": "bar",
         "x": [
          "männlich",
          "weiblich"
         ],
         "xaxis": "x",
         "y": [
          0.048530187502997174,
          0.04837701570898788
         ],
         "yaxis": "y"
        },
        {
         "alignmentgroup": "True",
         "customdata": [
          [
           "Vertrieb und Services"
          ],
          [
           "Vertrieb und Services"
          ]
         ],
         "hovertemplate": "CustomName=%{customdata[0]}<br>S_sex=%{x}<br>relative_count=%{y}<extra></extra>",
         "legendgroup": "Vertrieb und Services",
         "marker": {
          "color": "#6b5b95",
          "pattern": {
           "shape": ""
          }
         },
         "name": "Vertrieb und Services",
         "offsetgroup": "Vertrieb und Services",
         "orientation": "v",
         "showlegend": true,
         "textposition": "auto",
         "type": "bar",
         "x": [
          "männlich",
          "weiblich"
         ],
         "xaxis": "x",
         "y": [
          0.0866062437059416,
          0.06904454352264677
         ],
         "yaxis": "y"
        },
        {
         "alignmentgroup": "True",
         "customdata": [
          [
           "WC Verfügbarkeit und Sauberkeit"
          ],
          [
           "WC Verfügbarkeit und Sauberkeit"
          ]
         ],
         "hovertemplate": "CustomName=%{customdata[0]}<br>S_sex=%{x}<br>relative_count=%{y}<extra></extra>",
         "legendgroup": "WC Verfügbarkeit und Sauberkeit",
         "marker": {
          "color": "#b565a7",
          "pattern": {
           "shape": ""
          }
         },
         "name": "WC Verfügbarkeit und Sauberkeit",
         "offsetgroup": "WC Verfügbarkeit und Sauberkeit",
         "orientation": "v",
         "showlegend": true,
         "textposition": "auto",
         "type": "bar",
         "x": [
          "männlich",
          "weiblich"
         ],
         "xaxis": "x",
         "y": [
          0.03462331559008296,
          0.051002125088545354
         ],
         "yaxis": "y"
        }
       ],
       "layout": {
        "barmode": "group",
        "height": 450,
        "legend": {
         "title": {
          "text": "Thema"
         },
         "tracegroupgap": 0
        },
        "margin": {
         "t": 60
        },
        "template": {
         "data": {
          "bar": [
           {
            "error_x": {
             "color": "#2a3f5f"
            },
            "error_y": {
             "color": "#2a3f5f"
            },
            "marker": {
             "line": {
              "color": "white",
              "width": 0.5
             },
             "pattern": {
              "fillmode": "overlay",
              "size": 10,
              "solidity": 0.2
             }
            },
            "type": "bar"
           }
          ],
          "barpolar": [
           {
            "marker": {
             "line": {
              "color": "white",
              "width": 0.5
             },
             "pattern": {
              "fillmode": "overlay",
              "size": 10,
              "solidity": 0.2
             }
            },
            "type": "barpolar"
           }
          ],
          "carpet": [
           {
            "aaxis": {
             "endlinecolor": "#2a3f5f",
             "gridcolor": "#C8D4E3",
             "linecolor": "#C8D4E3",
             "minorgridcolor": "#C8D4E3",
             "startlinecolor": "#2a3f5f"
            },
            "baxis": {
             "endlinecolor": "#2a3f5f",
             "gridcolor": "#C8D4E3",
             "linecolor": "#C8D4E3",
             "minorgridcolor": "#C8D4E3",
             "startlinecolor": "#2a3f5f"
            },
            "type": "carpet"
           }
          ],
          "choropleth": [
           {
            "colorbar": {
             "outlinewidth": 0,
             "ticks": ""
            },
            "type": "choropleth"
           }
          ],
          "contour": [
           {
            "colorbar": {
             "outlinewidth": 0,
             "ticks": ""
            },
            "colorscale": [
             [
              0,
              "#0d0887"
             ],
             [
              0.1111111111111111,
              "#46039f"
             ],
             [
              0.2222222222222222,
              "#7201a8"
             ],
             [
              0.3333333333333333,
              "#9c179e"
             ],
             [
              0.4444444444444444,
              "#bd3786"
             ],
             [
              0.5555555555555556,
              "#d8576b"
             ],
             [
              0.6666666666666666,
              "#ed7953"
             ],
             [
              0.7777777777777778,
              "#fb9f3a"
             ],
             [
              0.8888888888888888,
              "#fdca26"
             ],
             [
              1,
              "#f0f921"
             ]
            ],
            "type": "contour"
           }
          ],
          "contourcarpet": [
           {
            "colorbar": {
             "outlinewidth": 0,
             "ticks": ""
            },
            "type": "contourcarpet"
           }
          ],
          "heatmap": [
           {
            "colorbar": {
             "outlinewidth": 0,
             "ticks": ""
            },
            "colorscale": [
             [
              0,
              "#0d0887"
             ],
             [
              0.1111111111111111,
              "#46039f"
             ],
             [
              0.2222222222222222,
              "#7201a8"
             ],
             [
              0.3333333333333333,
              "#9c179e"
             ],
             [
              0.4444444444444444,
              "#bd3786"
             ],
             [
              0.5555555555555556,
              "#d8576b"
             ],
             [
              0.6666666666666666,
              "#ed7953"
             ],
             [
              0.7777777777777778,
              "#fb9f3a"
             ],
             [
              0.8888888888888888,
              "#fdca26"
             ],
             [
              1,
              "#f0f921"
             ]
            ],
            "type": "heatmap"
           }
          ],
          "heatmapgl": [
           {
            "colorbar": {
             "outlinewidth": 0,
             "ticks": ""
            },
            "colorscale": [
             [
              0,
              "#0d0887"
             ],
             [
              0.1111111111111111,
              "#46039f"
             ],
             [
              0.2222222222222222,
              "#7201a8"
             ],
             [
              0.3333333333333333,
              "#9c179e"
             ],
             [
              0.4444444444444444,
              "#bd3786"
             ],
             [
              0.5555555555555556,
              "#d8576b"
             ],
             [
              0.6666666666666666,
              "#ed7953"
             ],
             [
              0.7777777777777778,
              "#fb9f3a"
             ],
             [
              0.8888888888888888,
              "#fdca26"
             ],
             [
              1,
              "#f0f921"
             ]
            ],
            "type": "heatmapgl"
           }
          ],
          "histogram": [
           {
            "marker": {
             "pattern": {
              "fillmode": "overlay",
              "size": 10,
              "solidity": 0.2
             }
            },
            "type": "histogram"
           }
          ],
          "histogram2d": [
           {
            "colorbar": {
             "outlinewidth": 0,
             "ticks": ""
            },
            "colorscale": [
             [
              0,
              "#0d0887"
             ],
             [
              0.1111111111111111,
              "#46039f"
             ],
             [
              0.2222222222222222,
              "#7201a8"
             ],
             [
              0.3333333333333333,
              "#9c179e"
             ],
             [
              0.4444444444444444,
              "#bd3786"
             ],
             [
              0.5555555555555556,
              "#d8576b"
             ],
             [
              0.6666666666666666,
              "#ed7953"
             ],
             [
              0.7777777777777778,
              "#fb9f3a"
             ],
             [
              0.8888888888888888,
              "#fdca26"
             ],
             [
              1,
              "#f0f921"
             ]
            ],
            "type": "histogram2d"
           }
          ],
          "histogram2dcontour": [
           {
            "colorbar": {
             "outlinewidth": 0,
             "ticks": ""
            },
            "colorscale": [
             [
              0,
              "#0d0887"
             ],
             [
              0.1111111111111111,
              "#46039f"
             ],
             [
              0.2222222222222222,
              "#7201a8"
             ],
             [
              0.3333333333333333,
              "#9c179e"
             ],
             [
              0.4444444444444444,
              "#bd3786"
             ],
             [
              0.5555555555555556,
              "#d8576b"
             ],
             [
              0.6666666666666666,
              "#ed7953"
             ],
             [
              0.7777777777777778,
              "#fb9f3a"
             ],
             [
              0.8888888888888888,
              "#fdca26"
             ],
             [
              1,
              "#f0f921"
             ]
            ],
            "type": "histogram2dcontour"
           }
          ],
          "mesh3d": [
           {
            "colorbar": {
             "outlinewidth": 0,
             "ticks": ""
            },
            "type": "mesh3d"
           }
          ],
          "parcoords": [
           {
            "line": {
             "colorbar": {
              "outlinewidth": 0,
              "ticks": ""
             }
            },
            "type": "parcoords"
           }
          ],
          "pie": [
           {
            "automargin": true,
            "type": "pie"
           }
          ],
          "scatter": [
           {
            "fillpattern": {
             "fillmode": "overlay",
             "size": 10,
             "solidity": 0.2
            },
            "type": "scatter"
           }
          ],
          "scatter3d": [
           {
            "line": {
             "colorbar": {
              "outlinewidth": 0,
              "ticks": ""
             }
            },
            "marker": {
             "colorbar": {
              "outlinewidth": 0,
              "ticks": ""
             }
            },
            "type": "scatter3d"
           }
          ],
          "scattercarpet": [
           {
            "marker": {
             "colorbar": {
              "outlinewidth": 0,
              "ticks": ""
             }
            },
            "type": "scattercarpet"
           }
          ],
          "scattergeo": [
           {
            "marker": {
             "colorbar": {
              "outlinewidth": 0,
              "ticks": ""
             }
            },
            "type": "scattergeo"
           }
          ],
          "scattergl": [
           {
            "marker": {
             "colorbar": {
              "outlinewidth": 0,
              "ticks": ""
             }
            },
            "type": "scattergl"
           }
          ],
          "scattermapbox": [
           {
            "marker": {
             "colorbar": {
              "outlinewidth": 0,
              "ticks": ""
             }
            },
            "type": "scattermapbox"
           }
          ],
          "scatterpolar": [
           {
            "marker": {
             "colorbar": {
              "outlinewidth": 0,
              "ticks": ""
             }
            },
            "type": "scatterpolar"
           }
          ],
          "scatterpolargl": [
           {
            "marker": {
             "colorbar": {
              "outlinewidth": 0,
              "ticks": ""
             }
            },
            "type": "scatterpolargl"
           }
          ],
          "scatterternary": [
           {
            "marker": {
             "colorbar": {
              "outlinewidth": 0,
              "ticks": ""
             }
            },
            "type": "scatterternary"
           }
          ],
          "surface": [
           {
            "colorbar": {
             "outlinewidth": 0,
             "ticks": ""
            },
            "colorscale": [
             [
              0,
              "#0d0887"
             ],
             [
              0.1111111111111111,
              "#46039f"
             ],
             [
              0.2222222222222222,
              "#7201a8"
             ],
             [
              0.3333333333333333,
              "#9c179e"
             ],
             [
              0.4444444444444444,
              "#bd3786"
             ],
             [
              0.5555555555555556,
              "#d8576b"
             ],
             [
              0.6666666666666666,
              "#ed7953"
             ],
             [
              0.7777777777777778,
              "#fb9f3a"
             ],
             [
              0.8888888888888888,
              "#fdca26"
             ],
             [
              1,
              "#f0f921"
             ]
            ],
            "type": "surface"
           }
          ],
          "table": [
           {
            "cells": {
             "fill": {
              "color": "#EBF0F8"
             },
             "line": {
              "color": "white"
             }
            },
            "header": {
             "fill": {
              "color": "#C8D4E3"
             },
             "line": {
              "color": "white"
             }
            },
            "type": "table"
           }
          ]
         },
         "layout": {
          "annotationdefaults": {
           "arrowcolor": "#2a3f5f",
           "arrowhead": 0,
           "arrowwidth": 1
          },
          "autotypenumbers": "strict",
          "coloraxis": {
           "colorbar": {
            "outlinewidth": 0,
            "ticks": ""
           }
          },
          "colorscale": {
           "diverging": [
            [
             0,
             "#8e0152"
            ],
            [
             0.1,
             "#c51b7d"
            ],
            [
             0.2,
             "#de77ae"
            ],
            [
             0.3,
             "#f1b6da"
            ],
            [
             0.4,
             "#fde0ef"
            ],
            [
             0.5,
             "#f7f7f7"
            ],
            [
             0.6,
             "#e6f5d0"
            ],
            [
             0.7,
             "#b8e186"
            ],
            [
             0.8,
             "#7fbc41"
            ],
            [
             0.9,
             "#4d9221"
            ],
            [
             1,
             "#276419"
            ]
           ],
           "sequential": [
            [
             0,
             "#0d0887"
            ],
            [
             0.1111111111111111,
             "#46039f"
            ],
            [
             0.2222222222222222,
             "#7201a8"
            ],
            [
             0.3333333333333333,
             "#9c179e"
            ],
            [
             0.4444444444444444,
             "#bd3786"
            ],
            [
             0.5555555555555556,
             "#d8576b"
            ],
            [
             0.6666666666666666,
             "#ed7953"
            ],
            [
             0.7777777777777778,
             "#fb9f3a"
            ],
            [
             0.8888888888888888,
             "#fdca26"
            ],
            [
             1,
             "#f0f921"
            ]
           ],
           "sequentialminus": [
            [
             0,
             "#0d0887"
            ],
            [
             0.1111111111111111,
             "#46039f"
            ],
            [
             0.2222222222222222,
             "#7201a8"
            ],
            [
             0.3333333333333333,
             "#9c179e"
            ],
            [
             0.4444444444444444,
             "#bd3786"
            ],
            [
             0.5555555555555556,
             "#d8576b"
            ],
            [
             0.6666666666666666,
             "#ed7953"
            ],
            [
             0.7777777777777778,
             "#fb9f3a"
            ],
            [
             0.8888888888888888,
             "#fdca26"
            ],
            [
             1,
             "#f0f921"
            ]
           ]
          },
          "colorway": [
           "#636efa",
           "#EF553B",
           "#00cc96",
           "#ab63fa",
           "#FFA15A",
           "#19d3f3",
           "#FF6692",
           "#B6E880",
           "#FF97FF",
           "#FECB52"
          ],
          "font": {
           "color": "#2a3f5f"
          },
          "geo": {
           "bgcolor": "white",
           "lakecolor": "white",
           "landcolor": "white",
           "showlakes": true,
           "showland": true,
           "subunitcolor": "#C8D4E3"
          },
          "hoverlabel": {
           "align": "left"
          },
          "hovermode": "closest",
          "mapbox": {
           "style": "light"
          },
          "paper_bgcolor": "white",
          "plot_bgcolor": "white",
          "polar": {
           "angularaxis": {
            "gridcolor": "#EBF0F8",
            "linecolor": "#EBF0F8",
            "ticks": ""
           },
           "bgcolor": "white",
           "radialaxis": {
            "gridcolor": "#EBF0F8",
            "linecolor": "#EBF0F8",
            "ticks": ""
           }
          },
          "scene": {
           "xaxis": {
            "backgroundcolor": "white",
            "gridcolor": "#DFE8F3",
            "gridwidth": 2,
            "linecolor": "#EBF0F8",
            "showbackground": true,
            "ticks": "",
            "zerolinecolor": "#EBF0F8"
           },
           "yaxis": {
            "backgroundcolor": "white",
            "gridcolor": "#DFE8F3",
            "gridwidth": 2,
            "linecolor": "#EBF0F8",
            "showbackground": true,
            "ticks": "",
            "zerolinecolor": "#EBF0F8"
           },
           "zaxis": {
            "backgroundcolor": "white",
            "gridcolor": "#DFE8F3",
            "gridwidth": 2,
            "linecolor": "#EBF0F8",
            "showbackground": true,
            "ticks": "",
            "zerolinecolor": "#EBF0F8"
           }
          },
          "shapedefaults": {
           "line": {
            "color": "#2a3f5f"
           }
          },
          "ternary": {
           "aaxis": {
            "gridcolor": "#DFE8F3",
            "linecolor": "#A2B1C6",
            "ticks": ""
           },
           "baxis": {
            "gridcolor": "#DFE8F3",
            "linecolor": "#A2B1C6",
            "ticks": ""
           },
           "bgcolor": "white",
           "caxis": {
            "gridcolor": "#DFE8F3",
            "linecolor": "#A2B1C6",
            "ticks": ""
           }
          },
          "title": {
           "x": 0.05
          },
          "xaxis": {
           "automargin": true,
           "gridcolor": "#EBF0F8",
           "linecolor": "#EBF0F8",
           "ticks": "",
           "title": {
            "standoff": 15
           },
           "zerolinecolor": "#EBF0F8",
           "zerolinewidth": 2
          },
          "yaxis": {
           "automargin": true,
           "gridcolor": "#EBF0F8",
           "linecolor": "#EBF0F8",
           "ticks": "",
           "title": {
            "standoff": 15
           },
           "zerolinecolor": "#EBF0F8",
           "zerolinewidth": 2
          }
         }
        },
        "title": {
         "text": "Themenrelevanz nach Gender (2019-2022)"
        },
        "width": 900,
        "xaxis": {
         "anchor": "y",
         "domain": [
          0,
          1
         ],
         "showgrid": false,
         "title": {
          "text": ""
         }
        },
        "yaxis": {
         "anchor": "x",
         "domain": [
          0,
          1
         ],
         "gridcolor": "rgba(0,0,0,0.1)",
         "gridwidth": 1,
         "showgrid": true,
         "title": {
          "text": "Häufigkeit"
         }
        }
       }
      }
     },
     "metadata": {},
     "output_type": "display_data"
    }
   ],
   "source": [
    "barchart_gender = create_grouped_barchart(df_gender, x_col=\"S_sex\", y_col=\"relative_count\", color_col=\"CustomName\", color_discrete_sequence=color_discrete_sequence, title=\"Themenrelevanz nach Gender (2019-2022)\", xaxis_title='', yaxis_title='Häufigkeit', legend_title='Thema', template=template)"
   ]
  },
  {
   "cell_type": "code",
   "execution_count": 22,
   "metadata": {},
   "outputs": [
    {
     "data": {
      "application/vnd.plotly.v1+json": {
       "config": {
        "plotlyServerURL": "https://plot.ly"
       },
       "data": [
        {
         "fill": "none",
         "line": {
          "color": "#003f5c"
         },
         "marker": {
          "size": 4
         },
         "name": "männlich",
         "r": [
          0.031170574977221505,
          0.035102862897424834,
          0.06334819929986094,
          0.023929410636359276,
          0.02589555459646094,
          0.030643072939145446,
          0.026471011365271184,
          0.06253296887737976,
          0.05212679230806119,
          0.10909701242027527,
          0.09073035054908167,
          0.18879777490049393,
          0.02762192490289167,
          0.029252385747854028,
          0.023929410636359276,
          0.048530187502997174,
          0.0866062437059416,
          0.03462331559008296
         ],
         "showlegend": true,
         "theta": [
          "Ausstattung Qualität Rollmaterial",
          "Corona",
          "Fahrplanangebot",
          "Feedback Umfrage",
          "Internet, Wlan und Mobilfunk",
          "Kommerzielle Angebote",
          "Kundeninformation",
          "Lob",
          "Platzangebot Velo, Gepäck, Kinderwagen",
          "Platzangebot Zug",
          "Preis-Leistung",
          "Pünktlichkeit",
          "Raumtemperatur Zug",
          "Sauberkeit Zug und Bahnhof",
          "Security",
          "Sonstiges",
          "Vertrieb und Services",
          "WC Verfügbarkeit und Sauberkeit"
         ],
         "type": "scatterpolar"
        },
        {
         "fill": "none",
         "line": {
          "color": "#58508d"
         },
         "marker": {
          "size": 4
         },
         "name": "weiblich",
         "r": [
          0.024209342055918997,
          0.045668569523730156,
          0.07029459560815034,
          0.01370890453768907,
          0.01904246010250427,
          0.027876161506729447,
          0.024084336847368642,
          0.05225217717404892,
          0.0475436476519855,
          0.11792158006583607,
          0.09167048627026127,
          0.1826326096920705,
          0.03775157298220759,
          0.03141797574898954,
          0.03929330388766199,
          0.04837701570898788,
          0.06904454352264677,
          0.051002125088545354
         ],
         "showlegend": true,
         "theta": [
          "Ausstattung Qualität Rollmaterial",
          "Corona",
          "Fahrplanangebot",
          "Feedback Umfrage",
          "Internet, Wlan und Mobilfunk",
          "Kommerzielle Angebote",
          "Kundeninformation",
          "Lob",
          "Platzangebot Velo, Gepäck, Kinderwagen",
          "Platzangebot Zug",
          "Preis-Leistung",
          "Pünktlichkeit",
          "Raumtemperatur Zug",
          "Sauberkeit Zug und Bahnhof",
          "Security",
          "Sonstiges",
          "Vertrieb und Services",
          "WC Verfügbarkeit und Sauberkeit"
         ],
         "type": "scatterpolar"
        }
       ],
       "layout": {
        "height": 450,
        "legend": {
         "title": {
          "text": "Gruppe"
         }
        },
        "polar": {
         "angularaxis": {
          "gridcolor": "rgba(0,0,0,0.1)",
          "showticklabels": true,
          "tickfont": {
           "size": 10
          },
          "tickmode": "linear",
          "visible": true
         },
         "radialaxis": {
          "gridcolor": "rgba(0,0,0,0.1)",
          "gridwidth": 1,
          "range": [
           0,
           0.18879777490049393
          ],
          "showgrid": true,
          "visible": true
         }
        },
        "showlegend": true,
        "template": {
         "data": {
          "bar": [
           {
            "error_x": {
             "color": "#2a3f5f"
            },
            "error_y": {
             "color": "#2a3f5f"
            },
            "marker": {
             "line": {
              "color": "white",
              "width": 0.5
             },
             "pattern": {
              "fillmode": "overlay",
              "size": 10,
              "solidity": 0.2
             }
            },
            "type": "bar"
           }
          ],
          "barpolar": [
           {
            "marker": {
             "line": {
              "color": "white",
              "width": 0.5
             },
             "pattern": {
              "fillmode": "overlay",
              "size": 10,
              "solidity": 0.2
             }
            },
            "type": "barpolar"
           }
          ],
          "carpet": [
           {
            "aaxis": {
             "endlinecolor": "#2a3f5f",
             "gridcolor": "#C8D4E3",
             "linecolor": "#C8D4E3",
             "minorgridcolor": "#C8D4E3",
             "startlinecolor": "#2a3f5f"
            },
            "baxis": {
             "endlinecolor": "#2a3f5f",
             "gridcolor": "#C8D4E3",
             "linecolor": "#C8D4E3",
             "minorgridcolor": "#C8D4E3",
             "startlinecolor": "#2a3f5f"
            },
            "type": "carpet"
           }
          ],
          "choropleth": [
           {
            "colorbar": {
             "outlinewidth": 0,
             "ticks": ""
            },
            "type": "choropleth"
           }
          ],
          "contour": [
           {
            "colorbar": {
             "outlinewidth": 0,
             "ticks": ""
            },
            "colorscale": [
             [
              0,
              "#0d0887"
             ],
             [
              0.1111111111111111,
              "#46039f"
             ],
             [
              0.2222222222222222,
              "#7201a8"
             ],
             [
              0.3333333333333333,
              "#9c179e"
             ],
             [
              0.4444444444444444,
              "#bd3786"
             ],
             [
              0.5555555555555556,
              "#d8576b"
             ],
             [
              0.6666666666666666,
              "#ed7953"
             ],
             [
              0.7777777777777778,
              "#fb9f3a"
             ],
             [
              0.8888888888888888,
              "#fdca26"
             ],
             [
              1,
              "#f0f921"
             ]
            ],
            "type": "contour"
           }
          ],
          "contourcarpet": [
           {
            "colorbar": {
             "outlinewidth": 0,
             "ticks": ""
            },
            "type": "contourcarpet"
           }
          ],
          "heatmap": [
           {
            "colorbar": {
             "outlinewidth": 0,
             "ticks": ""
            },
            "colorscale": [
             [
              0,
              "#0d0887"
             ],
             [
              0.1111111111111111,
              "#46039f"
             ],
             [
              0.2222222222222222,
              "#7201a8"
             ],
             [
              0.3333333333333333,
              "#9c179e"
             ],
             [
              0.4444444444444444,
              "#bd3786"
             ],
             [
              0.5555555555555556,
              "#d8576b"
             ],
             [
              0.6666666666666666,
              "#ed7953"
             ],
             [
              0.7777777777777778,
              "#fb9f3a"
             ],
             [
              0.8888888888888888,
              "#fdca26"
             ],
             [
              1,
              "#f0f921"
             ]
            ],
            "type": "heatmap"
           }
          ],
          "heatmapgl": [
           {
            "colorbar": {
             "outlinewidth": 0,
             "ticks": ""
            },
            "colorscale": [
             [
              0,
              "#0d0887"
             ],
             [
              0.1111111111111111,
              "#46039f"
             ],
             [
              0.2222222222222222,
              "#7201a8"
             ],
             [
              0.3333333333333333,
              "#9c179e"
             ],
             [
              0.4444444444444444,
              "#bd3786"
             ],
             [
              0.5555555555555556,
              "#d8576b"
             ],
             [
              0.6666666666666666,
              "#ed7953"
             ],
             [
              0.7777777777777778,
              "#fb9f3a"
             ],
             [
              0.8888888888888888,
              "#fdca26"
             ],
             [
              1,
              "#f0f921"
             ]
            ],
            "type": "heatmapgl"
           }
          ],
          "histogram": [
           {
            "marker": {
             "pattern": {
              "fillmode": "overlay",
              "size": 10,
              "solidity": 0.2
             }
            },
            "type": "histogram"
           }
          ],
          "histogram2d": [
           {
            "colorbar": {
             "outlinewidth": 0,
             "ticks": ""
            },
            "colorscale": [
             [
              0,
              "#0d0887"
             ],
             [
              0.1111111111111111,
              "#46039f"
             ],
             [
              0.2222222222222222,
              "#7201a8"
             ],
             [
              0.3333333333333333,
              "#9c179e"
             ],
             [
              0.4444444444444444,
              "#bd3786"
             ],
             [
              0.5555555555555556,
              "#d8576b"
             ],
             [
              0.6666666666666666,
              "#ed7953"
             ],
             [
              0.7777777777777778,
              "#fb9f3a"
             ],
             [
              0.8888888888888888,
              "#fdca26"
             ],
             [
              1,
              "#f0f921"
             ]
            ],
            "type": "histogram2d"
           }
          ],
          "histogram2dcontour": [
           {
            "colorbar": {
             "outlinewidth": 0,
             "ticks": ""
            },
            "colorscale": [
             [
              0,
              "#0d0887"
             ],
             [
              0.1111111111111111,
              "#46039f"
             ],
             [
              0.2222222222222222,
              "#7201a8"
             ],
             [
              0.3333333333333333,
              "#9c179e"
             ],
             [
              0.4444444444444444,
              "#bd3786"
             ],
             [
              0.5555555555555556,
              "#d8576b"
             ],
             [
              0.6666666666666666,
              "#ed7953"
             ],
             [
              0.7777777777777778,
              "#fb9f3a"
             ],
             [
              0.8888888888888888,
              "#fdca26"
             ],
             [
              1,
              "#f0f921"
             ]
            ],
            "type": "histogram2dcontour"
           }
          ],
          "mesh3d": [
           {
            "colorbar": {
             "outlinewidth": 0,
             "ticks": ""
            },
            "type": "mesh3d"
           }
          ],
          "parcoords": [
           {
            "line": {
             "colorbar": {
              "outlinewidth": 0,
              "ticks": ""
             }
            },
            "type": "parcoords"
           }
          ],
          "pie": [
           {
            "automargin": true,
            "type": "pie"
           }
          ],
          "scatter": [
           {
            "fillpattern": {
             "fillmode": "overlay",
             "size": 10,
             "solidity": 0.2
            },
            "type": "scatter"
           }
          ],
          "scatter3d": [
           {
            "line": {
             "colorbar": {
              "outlinewidth": 0,
              "ticks": ""
             }
            },
            "marker": {
             "colorbar": {
              "outlinewidth": 0,
              "ticks": ""
             }
            },
            "type": "scatter3d"
           }
          ],
          "scattercarpet": [
           {
            "marker": {
             "colorbar": {
              "outlinewidth": 0,
              "ticks": ""
             }
            },
            "type": "scattercarpet"
           }
          ],
          "scattergeo": [
           {
            "marker": {
             "colorbar": {
              "outlinewidth": 0,
              "ticks": ""
             }
            },
            "type": "scattergeo"
           }
          ],
          "scattergl": [
           {
            "marker": {
             "colorbar": {
              "outlinewidth": 0,
              "ticks": ""
             }
            },
            "type": "scattergl"
           }
          ],
          "scattermapbox": [
           {
            "marker": {
             "colorbar": {
              "outlinewidth": 0,
              "ticks": ""
             }
            },
            "type": "scattermapbox"
           }
          ],
          "scatterpolar": [
           {
            "marker": {
             "colorbar": {
              "outlinewidth": 0,
              "ticks": ""
             }
            },
            "type": "scatterpolar"
           }
          ],
          "scatterpolargl": [
           {
            "marker": {
             "colorbar": {
              "outlinewidth": 0,
              "ticks": ""
             }
            },
            "type": "scatterpolargl"
           }
          ],
          "scatterternary": [
           {
            "marker": {
             "colorbar": {
              "outlinewidth": 0,
              "ticks": ""
             }
            },
            "type": "scatterternary"
           }
          ],
          "surface": [
           {
            "colorbar": {
             "outlinewidth": 0,
             "ticks": ""
            },
            "colorscale": [
             [
              0,
              "#0d0887"
             ],
             [
              0.1111111111111111,
              "#46039f"
             ],
             [
              0.2222222222222222,
              "#7201a8"
             ],
             [
              0.3333333333333333,
              "#9c179e"
             ],
             [
              0.4444444444444444,
              "#bd3786"
             ],
             [
              0.5555555555555556,
              "#d8576b"
             ],
             [
              0.6666666666666666,
              "#ed7953"
             ],
             [
              0.7777777777777778,
              "#fb9f3a"
             ],
             [
              0.8888888888888888,
              "#fdca26"
             ],
             [
              1,
              "#f0f921"
             ]
            ],
            "type": "surface"
           }
          ],
          "table": [
           {
            "cells": {
             "fill": {
              "color": "#EBF0F8"
             },
             "line": {
              "color": "white"
             }
            },
            "header": {
             "fill": {
              "color": "#C8D4E3"
             },
             "line": {
              "color": "white"
             }
            },
            "type": "table"
           }
          ]
         },
         "layout": {
          "annotationdefaults": {
           "arrowcolor": "#2a3f5f",
           "arrowhead": 0,
           "arrowwidth": 1
          },
          "autotypenumbers": "strict",
          "coloraxis": {
           "colorbar": {
            "outlinewidth": 0,
            "ticks": ""
           }
          },
          "colorscale": {
           "diverging": [
            [
             0,
             "#8e0152"
            ],
            [
             0.1,
             "#c51b7d"
            ],
            [
             0.2,
             "#de77ae"
            ],
            [
             0.3,
             "#f1b6da"
            ],
            [
             0.4,
             "#fde0ef"
            ],
            [
             0.5,
             "#f7f7f7"
            ],
            [
             0.6,
             "#e6f5d0"
            ],
            [
             0.7,
             "#b8e186"
            ],
            [
             0.8,
             "#7fbc41"
            ],
            [
             0.9,
             "#4d9221"
            ],
            [
             1,
             "#276419"
            ]
           ],
           "sequential": [
            [
             0,
             "#0d0887"
            ],
            [
             0.1111111111111111,
             "#46039f"
            ],
            [
             0.2222222222222222,
             "#7201a8"
            ],
            [
             0.3333333333333333,
             "#9c179e"
            ],
            [
             0.4444444444444444,
             "#bd3786"
            ],
            [
             0.5555555555555556,
             "#d8576b"
            ],
            [
             0.6666666666666666,
             "#ed7953"
            ],
            [
             0.7777777777777778,
             "#fb9f3a"
            ],
            [
             0.8888888888888888,
             "#fdca26"
            ],
            [
             1,
             "#f0f921"
            ]
           ],
           "sequentialminus": [
            [
             0,
             "#0d0887"
            ],
            [
             0.1111111111111111,
             "#46039f"
            ],
            [
             0.2222222222222222,
             "#7201a8"
            ],
            [
             0.3333333333333333,
             "#9c179e"
            ],
            [
             0.4444444444444444,
             "#bd3786"
            ],
            [
             0.5555555555555556,
             "#d8576b"
            ],
            [
             0.6666666666666666,
             "#ed7953"
            ],
            [
             0.7777777777777778,
             "#fb9f3a"
            ],
            [
             0.8888888888888888,
             "#fdca26"
            ],
            [
             1,
             "#f0f921"
            ]
           ]
          },
          "colorway": [
           "#636efa",
           "#EF553B",
           "#00cc96",
           "#ab63fa",
           "#FFA15A",
           "#19d3f3",
           "#FF6692",
           "#B6E880",
           "#FF97FF",
           "#FECB52"
          ],
          "font": {
           "color": "#2a3f5f"
          },
          "geo": {
           "bgcolor": "white",
           "lakecolor": "white",
           "landcolor": "white",
           "showlakes": true,
           "showland": true,
           "subunitcolor": "#C8D4E3"
          },
          "hoverlabel": {
           "align": "left"
          },
          "hovermode": "closest",
          "mapbox": {
           "style": "light"
          },
          "paper_bgcolor": "white",
          "plot_bgcolor": "white",
          "polar": {
           "angularaxis": {
            "gridcolor": "#EBF0F8",
            "linecolor": "#EBF0F8",
            "ticks": ""
           },
           "bgcolor": "white",
           "radialaxis": {
            "gridcolor": "#EBF0F8",
            "linecolor": "#EBF0F8",
            "ticks": ""
           }
          },
          "scene": {
           "xaxis": {
            "backgroundcolor": "white",
            "gridcolor": "#DFE8F3",
            "gridwidth": 2,
            "linecolor": "#EBF0F8",
            "showbackground": true,
            "ticks": "",
            "zerolinecolor": "#EBF0F8"
           },
           "yaxis": {
            "backgroundcolor": "white",
            "gridcolor": "#DFE8F3",
            "gridwidth": 2,
            "linecolor": "#EBF0F8",
            "showbackground": true,
            "ticks": "",
            "zerolinecolor": "#EBF0F8"
           },
           "zaxis": {
            "backgroundcolor": "white",
            "gridcolor": "#DFE8F3",
            "gridwidth": 2,
            "linecolor": "#EBF0F8",
            "showbackground": true,
            "ticks": "",
            "zerolinecolor": "#EBF0F8"
           }
          },
          "shapedefaults": {
           "line": {
            "color": "#2a3f5f"
           }
          },
          "ternary": {
           "aaxis": {
            "gridcolor": "#DFE8F3",
            "linecolor": "#A2B1C6",
            "ticks": ""
           },
           "baxis": {
            "gridcolor": "#DFE8F3",
            "linecolor": "#A2B1C6",
            "ticks": ""
           },
           "bgcolor": "white",
           "caxis": {
            "gridcolor": "#DFE8F3",
            "linecolor": "#A2B1C6",
            "ticks": ""
           }
          },
          "title": {
           "x": 0.05
          },
          "xaxis": {
           "automargin": true,
           "gridcolor": "#EBF0F8",
           "linecolor": "#EBF0F8",
           "ticks": "",
           "title": {
            "standoff": 15
           },
           "zerolinecolor": "#EBF0F8",
           "zerolinewidth": 2
          },
          "yaxis": {
           "automargin": true,
           "gridcolor": "#EBF0F8",
           "linecolor": "#EBF0F8",
           "ticks": "",
           "title": {
            "standoff": 15
           },
           "zerolinecolor": "#EBF0F8",
           "zerolinewidth": 2
          }
         }
        },
        "title": {
         "text": "Themenrelevanz nach Geschlecht (2019-2022)"
        },
        "width": 900,
        "xaxis": {
         "title": {
          "text": ""
         }
        },
        "yaxis": {
         "title": {
          "text": "Häufigkeit"
         }
        }
       }
      }
     },
     "metadata": {},
     "output_type": "display_data"
    }
   ],
   "source": [
    "create_grouped_radar(df_gender, x_col=\"CustomName\", y_col=\"relative_count\", color_col=\"S_sex\", color_discrete_sequence=color_discrete_sequence, title=\"Themenrelevanz nach Geschlecht (2019-2022)\", xaxis_title='', yaxis_title='Häufigkeit', legend_title='Gruppe', template=template)"
   ]
  },
  {
   "cell_type": "code",
   "execution_count": 23,
   "metadata": {},
   "outputs": [
    {
     "data": {
      "application/vnd.plotly.v1+json": {
       "config": {
        "plotlyServerURL": "https://plot.ly"
       },
       "data": [
        {
         "alignmentgroup": "True",
         "customdata": [
          [
           "Ausstattung Qualität Rollmaterial"
          ],
          [
           "Ausstattung Qualität Rollmaterial"
          ],
          [
           "Ausstattung Qualität Rollmaterial"
          ],
          [
           "Ausstattung Qualität Rollmaterial"
          ]
         ],
         "hovertemplate": "CustomName=%{customdata[0]}<br>S_alter_grouped=%{x}<br>relative_count=%{y}<extra></extra>",
         "legendgroup": "Ausstattung Qualität Rollmaterial",
         "marker": {
          "color": "#003f5c",
          "pattern": {
           "shape": ""
          }
         },
         "name": "Ausstattung Qualität Rollmaterial",
         "offsetgroup": "Ausstattung Qualität Rollmaterial",
         "orientation": "v",
         "showlegend": true,
         "textposition": "auto",
         "type": "bar",
         "x": [
          "1-24 Jahre",
          "25-44 Jahre",
          "45-64 Jahre",
          "65-100 Jahre"
         ],
         "xaxis": "x",
         "y": [
          0.01768172888015717,
          0.04168554599003172,
          0.02457631210467867,
          0.02028740490278952
         ],
         "yaxis": "y"
        },
        {
         "alignmentgroup": "True",
         "customdata": [
          [
           "Corona"
          ],
          [
           "Corona"
          ],
          [
           "Corona"
          ],
          [
           "Corona"
          ]
         ],
         "hovertemplate": "CustomName=%{customdata[0]}<br>S_alter_grouped=%{x}<br>relative_count=%{y}<extra></extra>",
         "legendgroup": "Corona",
         "marker": {
          "color": "#58508d",
          "pattern": {
           "shape": ""
          }
         },
         "name": "Corona",
         "offsetgroup": "Corona",
         "orientation": "v",
         "showlegend": true,
         "textposition": "auto",
         "type": "bar",
         "x": [
          "1-24 Jahre",
          "25-44 Jahre",
          "45-64 Jahre",
          "65-100 Jahre"
         ],
         "xaxis": "x",
         "y": [
          0.029469548133595286,
          0.04422292705029452,
          0.04263434889672155,
          0.03700572931342162
         ],
         "yaxis": "y"
        },
        {
         "alignmentgroup": "True",
         "customdata": [
          [
           "Fahrplanangebot"
          ],
          [
           "Fahrplanangebot"
          ],
          [
           "Fahrplanangebot"
          ],
          [
           "Fahrplanangebot"
          ]
         ],
         "hovertemplate": "CustomName=%{customdata[0]}<br>S_alter_grouped=%{x}<br>relative_count=%{y}<extra></extra>",
         "legendgroup": "Fahrplanangebot",
         "marker": {
          "color": "#bc5090",
          "pattern": {
           "shape": ""
          }
         },
         "name": "Fahrplanangebot",
         "offsetgroup": "Fahrplanangebot",
         "orientation": "v",
         "showlegend": true,
         "textposition": "auto",
         "type": "bar",
         "x": [
          "1-24 Jahre",
          "25-44 Jahre",
          "45-64 Jahre",
          "65-100 Jahre"
         ],
         "xaxis": "x",
         "y": [
          0.07229862475442043,
          0.06968735840507476,
          0.06503790256385496,
          0.06734291349675965
         ],
         "yaxis": "y"
        },
        {
         "alignmentgroup": "True",
         "customdata": [
          [
           "Feedback Umfrage"
          ],
          [
           "Feedback Umfrage"
          ],
          [
           "Feedback Umfrage"
          ],
          [
           "Feedback Umfrage"
          ]
         ],
         "hovertemplate": "CustomName=%{customdata[0]}<br>S_alter_grouped=%{x}<br>relative_count=%{y}<extra></extra>",
         "legendgroup": "Feedback Umfrage",
         "marker": {
          "color": "#ff6361",
          "pattern": {
           "shape": ""
          }
         },
         "name": "Feedback Umfrage",
         "offsetgroup": "Feedback Umfrage",
         "orientation": "v",
         "showlegend": true,
         "textposition": "auto",
         "type": "bar",
         "x": [
          "1-24 Jahre",
          "25-44 Jahre",
          "45-64 Jahre",
          "65-100 Jahre"
         ],
         "xaxis": "x",
         "y": [
          0.017288801571709235,
          0.01613049388309923,
          0.019071990729564,
          0.019911712219404527
         ],
         "yaxis": "y"
        },
        {
         "alignmentgroup": "True",
         "customdata": [
          [
           "Internet, Wlan und Mobilfunk"
          ],
          [
           "Internet, Wlan und Mobilfunk"
          ],
          [
           "Internet, Wlan und Mobilfunk"
          ],
          [
           "Internet, Wlan und Mobilfunk"
          ]
         ],
         "hovertemplate": "CustomName=%{customdata[0]}<br>S_alter_grouped=%{x}<br>relative_count=%{y}<extra></extra>",
         "legendgroup": "Internet, Wlan und Mobilfunk",
         "marker": {
          "color": "#ffa600",
          "pattern": {
           "shape": ""
          }
         },
         "name": "Internet, Wlan und Mobilfunk",
         "offsetgroup": "Internet, Wlan und Mobilfunk",
         "orientation": "v",
         "showlegend": true,
         "textposition": "auto",
         "type": "bar",
         "x": [
          "1-24 Jahre",
          "25-44 Jahre",
          "45-64 Jahre",
          "65-100 Jahre"
         ],
         "xaxis": "x",
         "y": [
          0.026326129666011788,
          0.024105120072496603,
          0.023079522958814158,
          0.017845402460787075
         ],
         "yaxis": "y"
        },
        {
         "alignmentgroup": "True",
         "customdata": [
          [
           "Kommerzielle Angebote"
          ],
          [
           "Kommerzielle Angebote"
          ],
          [
           "Kommerzielle Angebote"
          ],
          [
           "Kommerzielle Angebote"
          ]
         ],
         "hovertemplate": "CustomName=%{customdata[0]}<br>S_alter_grouped=%{x}<br>relative_count=%{y}<extra></extra>",
         "legendgroup": "Kommerzielle Angebote",
         "marker": {
          "color": "#ff7c43",
          "pattern": {
           "shape": ""
          }
         },
         "name": "Kommerzielle Angebote",
         "offsetgroup": "Kommerzielle Angebote",
         "orientation": "v",
         "showlegend": true,
         "textposition": "auto",
         "type": "bar",
         "x": [
          "1-24 Jahre",
          "25-44 Jahre",
          "45-64 Jahre",
          "65-100 Jahre"
         ],
         "xaxis": "x",
         "y": [
          0.009037328094302554,
          0.017942908926144086,
          0.033508763459031435,
          0.037287498825960365
         ],
         "yaxis": "y"
        },
        {
         "alignmentgroup": "True",
         "customdata": [
          [
           "Kundeninformation"
          ],
          [
           "Kundeninformation"
          ],
          [
           "Kundeninformation"
          ],
          [
           "Kundeninformation"
          ]
         ],
         "hovertemplate": "CustomName=%{customdata[0]}<br>S_alter_grouped=%{x}<br>relative_count=%{y}<extra></extra>",
         "legendgroup": "Kundeninformation",
         "marker": {
          "color": "#ffdc00",
          "pattern": {
           "shape": ""
          }
         },
         "name": "Kundeninformation",
         "offsetgroup": "Kundeninformation",
         "orientation": "v",
         "showlegend": true,
         "textposition": "auto",
         "type": "bar",
         "x": [
          "1-24 Jahre",
          "25-44 Jahre",
          "45-64 Jahre",
          "65-100 Jahre"
         ],
         "xaxis": "x",
         "y": [
          0.016502946954813358,
          0.015768010874490257,
          0.025590266042199796,
          0.03606649760495914
         ],
         "yaxis": "y"
        },
        {
         "alignmentgroup": "True",
         "customdata": [
          [
           "Lob"
          ],
          [
           "Lob"
          ],
          [
           "Lob"
          ],
          [
           "Lob"
          ]
         ],
         "hovertemplate": "CustomName=%{customdata[0]}<br>S_alter_grouped=%{x}<br>relative_count=%{y}<extra></extra>",
         "legendgroup": "Lob",
         "marker": {
          "color": "#00a2ff",
          "pattern": {
           "shape": ""
          }
         },
         "name": "Lob",
         "offsetgroup": "Lob",
         "orientation": "v",
         "showlegend": true,
         "textposition": "auto",
         "type": "bar",
         "x": [
          "1-24 Jahre",
          "25-44 Jahre",
          "45-64 Jahre",
          "65-100 Jahre"
         ],
         "xaxis": "x",
         "y": [
          0.040471512770137524,
          0.04893520616221115,
          0.05571918304282748,
          0.0719451488682258
         ],
         "yaxis": "y"
        },
        {
         "alignmentgroup": "True",
         "customdata": [
          [
           "Platzangebot Velo, Gepäck, Kinderwagen"
          ],
          [
           "Platzangebot Velo, Gepäck, Kinderwagen"
          ],
          [
           "Platzangebot Velo, Gepäck, Kinderwagen"
          ],
          [
           "Platzangebot Velo, Gepäck, Kinderwagen"
          ]
         ],
         "hovertemplate": "CustomName=%{customdata[0]}<br>S_alter_grouped=%{x}<br>relative_count=%{y}<extra></extra>",
         "legendgroup": "Platzangebot Velo, Gepäck, Kinderwagen",
         "marker": {
          "color": "#7fdbff",
          "pattern": {
           "shape": ""
          }
         },
         "name": "Platzangebot Velo, Gepäck, Kinderwagen",
         "offsetgroup": "Platzangebot Velo, Gepäck, Kinderwagen",
         "orientation": "v",
         "showlegend": true,
         "textposition": "auto",
         "type": "bar",
         "x": [
          "1-24 Jahre",
          "25-44 Jahre",
          "45-64 Jahre",
          "65-100 Jahre"
         ],
         "xaxis": "x",
         "y": [
          0.018860510805500982,
          0.04068871771635704,
          0.05600888416783352,
          0.05419366957828496
         ],
         "yaxis": "y"
        },
        {
         "alignmentgroup": "True",
         "customdata": [
          [
           "Platzangebot Zug"
          ],
          [
           "Platzangebot Zug"
          ],
          [
           "Platzangebot Zug"
          ],
          [
           "Platzangebot Zug"
          ]
         ],
         "hovertemplate": "CustomName=%{customdata[0]}<br>S_alter_grouped=%{x}<br>relative_count=%{y}<extra></extra>",
         "legendgroup": "Platzangebot Zug",
         "marker": {
          "color": "#e8c547",
          "pattern": {
           "shape": ""
          }
         },
         "name": "Platzangebot Zug",
         "offsetgroup": "Platzangebot Zug",
         "orientation": "v",
         "showlegend": true,
         "textposition": "auto",
         "type": "bar",
         "x": [
          "1-24 Jahre",
          "25-44 Jahre",
          "45-64 Jahre",
          "65-100 Jahre"
         ],
         "xaxis": "x",
         "y": [
          0.12102161100196464,
          0.12405980969642048,
          0.11805320843995944,
          0.0927960927960928
         ],
         "yaxis": "y"
        },
        {
         "alignmentgroup": "True",
         "customdata": [
          [
           "Preis-Leistung"
          ],
          [
           "Preis-Leistung"
          ],
          [
           "Preis-Leistung"
          ],
          [
           "Preis-Leistung"
          ]
         ],
         "hovertemplate": "CustomName=%{customdata[0]}<br>S_alter_grouped=%{x}<br>relative_count=%{y}<extra></extra>",
         "legendgroup": "Preis-Leistung",
         "marker": {
          "color": "#55b2d2",
          "pattern": {
           "shape": ""
          }
         },
         "name": "Preis-Leistung",
         "offsetgroup": "Preis-Leistung",
         "orientation": "v",
         "showlegend": true,
         "textposition": "auto",
         "type": "bar",
         "x": [
          "1-24 Jahre",
          "25-44 Jahre",
          "45-64 Jahre",
          "65-100 Jahre"
         ],
         "xaxis": "x",
         "y": [
          0.25697445972495087,
          0.12170367014046217,
          0.07145961083482208,
          0.058326289095519866
         ],
         "yaxis": "y"
        },
        {
         "alignmentgroup": "True",
         "customdata": [
          [
           "Pünktlichkeit"
          ],
          [
           "Pünktlichkeit"
          ],
          [
           "Pünktlichkeit"
          ],
          [
           "Pünktlichkeit"
          ]
         ],
         "hovertemplate": "CustomName=%{customdata[0]}<br>S_alter_grouped=%{x}<br>relative_count=%{y}<extra></extra>",
         "legendgroup": "Pünktlichkeit",
         "marker": {
          "color": "#7fcdbb",
          "pattern": {
           "shape": ""
          }
         },
         "name": "Pünktlichkeit",
         "offsetgroup": "Pünktlichkeit",
         "orientation": "v",
         "showlegend": true,
         "textposition": "auto",
         "type": "bar",
         "x": [
          "1-24 Jahre",
          "25-44 Jahre",
          "45-64 Jahre",
          "65-100 Jahre"
         ],
         "xaxis": "x",
         "y": [
          0.1713163064833006,
          0.17562301767104668,
          0.1882574477330887,
          0.19301211608903918
         ],
         "yaxis": "y"
        },
        {
         "alignmentgroup": "True",
         "customdata": [
          [
           "Raumtemperatur Zug"
          ],
          [
           "Raumtemperatur Zug"
          ],
          [
           "Raumtemperatur Zug"
          ],
          [
           "Raumtemperatur Zug"
          ]
         ],
         "hovertemplate": "CustomName=%{customdata[0]}<br>S_alter_grouped=%{x}<br>relative_count=%{y}<extra></extra>",
         "legendgroup": "Raumtemperatur Zug",
         "marker": {
          "color": "#5a5a5a",
          "pattern": {
           "shape": ""
          }
         },
         "name": "Raumtemperatur Zug",
         "offsetgroup": "Raumtemperatur Zug",
         "orientation": "v",
         "showlegend": true,
         "textposition": "auto",
         "type": "bar",
         "x": [
          "1-24 Jahre",
          "25-44 Jahre",
          "45-64 Jahre",
          "65-100 Jahre"
         ],
         "xaxis": "x",
         "y": [
          0.029469548133595286,
          0.03398278205709107,
          0.03317077881319106,
          0.03287310979618672
         ],
         "yaxis": "y"
        },
        {
         "alignmentgroup": "True",
         "customdata": [
          [
           "Sauberkeit Zug und Bahnhof"
          ],
          [
           "Sauberkeit Zug und Bahnhof"
          ],
          [
           "Sauberkeit Zug und Bahnhof"
          ],
          [
           "Sauberkeit Zug und Bahnhof"
          ]
         ],
         "hovertemplate": "CustomName=%{customdata[0]}<br>S_alter_grouped=%{x}<br>relative_count=%{y}<extra></extra>",
         "legendgroup": "Sauberkeit Zug und Bahnhof",
         "marker": {
          "color": "#9c9c9c",
          "pattern": {
           "shape": ""
          }
         },
         "name": "Sauberkeit Zug und Bahnhof",
         "offsetgroup": "Sauberkeit Zug und Bahnhof",
         "orientation": "v",
         "showlegend": true,
         "textposition": "auto",
         "type": "bar",
         "x": [
          "1-24 Jahre",
          "25-44 Jahre",
          "45-64 Jahre",
          "65-100 Jahre"
         ],
         "xaxis": "x",
         "y": [
          0.032220039292730845,
          0.02745808790212959,
          0.03191540727149824,
          0.030149337841645533
         ],
         "yaxis": "y"
        },
        {
         "alignmentgroup": "True",
         "customdata": [
          [
           "Security"
          ],
          [
           "Security"
          ],
          [
           "Security"
          ],
          [
           "Security"
          ]
         ],
         "hovertemplate": "CustomName=%{customdata[0]}<br>S_alter_grouped=%{x}<br>relative_count=%{y}<extra></extra>",
         "legendgroup": "Security",
         "marker": {
          "color": "#c9c9c9",
          "pattern": {
           "shape": ""
          }
         },
         "name": "Security",
         "offsetgroup": "Security",
         "orientation": "v",
         "showlegend": true,
         "textposition": "auto",
         "type": "bar",
         "x": [
          "1-24 Jahre",
          "25-44 Jahre",
          "45-64 Jahre",
          "65-100 Jahre"
         ],
         "xaxis": "x",
         "y": [
          0.029469548133595286,
          0.026642501132759403,
          0.035198686688233304,
          0.032591340283647977
         ],
         "yaxis": "y"
        },
        {
         "alignmentgroup": "True",
         "customdata": [
          [
           "Sonstiges"
          ],
          [
           "Sonstiges"
          ],
          [
           "Sonstiges"
          ],
          [
           "Sonstiges"
          ]
         ],
         "hovertemplate": "CustomName=%{customdata[0]}<br>S_alter_grouped=%{x}<br>relative_count=%{y}<extra></extra>",
         "legendgroup": "Sonstiges",
         "marker": {
          "color": "#ef476f",
          "pattern": {
           "shape": ""
          }
         },
         "name": "Sonstiges",
         "offsetgroup": "Sonstiges",
         "orientation": "v",
         "showlegend": true,
         "textposition": "auto",
         "type": "bar",
         "x": [
          "1-24 Jahre",
          "25-44 Jahre",
          "45-64 Jahre",
          "65-100 Jahre"
         ],
         "xaxis": "x",
         "y": [
          0.029076620825147347,
          0.047847757136384235,
          0.045289942542610206,
          0.060298675683291066
         ],
         "yaxis": "y"
        },
        {
         "alignmentgroup": "True",
         "customdata": [
          [
           "Vertrieb und Services"
          ],
          [
           "Vertrieb und Services"
          ],
          [
           "Vertrieb und Services"
          ],
          [
           "Vertrieb und Services"
          ]
         ],
         "hovertemplate": "CustomName=%{customdata[0]}<br>S_alter_grouped=%{x}<br>relative_count=%{y}<extra></extra>",
         "legendgroup": "Vertrieb und Services",
         "marker": {
          "color": "#6b5b95",
          "pattern": {
           "shape": ""
          }
         },
         "name": "Vertrieb und Services",
         "offsetgroup": "Vertrieb und Services",
         "orientation": "v",
         "showlegend": true,
         "textposition": "auto",
         "type": "bar",
         "x": [
          "1-24 Jahre",
          "25-44 Jahre",
          "45-64 Jahre",
          "65-100 Jahre"
         ],
         "xaxis": "x",
         "y": [
          0.05658153241650295,
          0.08536474852741278,
          0.07894355656414466,
          0.0695970695970696
         ],
         "yaxis": "y"
        },
        {
         "alignmentgroup": "True",
         "customdata": [
          [
           "WC Verfügbarkeit und Sauberkeit"
          ],
          [
           "WC Verfügbarkeit und Sauberkeit"
          ],
          [
           "WC Verfügbarkeit und Sauberkeit"
          ],
          [
           "WC Verfügbarkeit und Sauberkeit"
          ]
         ],
         "hovertemplate": "CustomName=%{customdata[0]}<br>S_alter_grouped=%{x}<br>relative_count=%{y}<extra></extra>",
         "legendgroup": "WC Verfügbarkeit und Sauberkeit",
         "marker": {
          "color": "#b565a7",
          "pattern": {
           "shape": ""
          }
         },
         "name": "WC Verfügbarkeit und Sauberkeit",
         "offsetgroup": "WC Verfügbarkeit und Sauberkeit",
         "orientation": "v",
         "showlegend": true,
         "textposition": "auto",
         "type": "bar",
         "x": [
          "1-24 Jahre",
          "25-44 Jahre",
          "45-64 Jahre",
          "65-100 Jahre"
         ],
         "xaxis": "x",
         "y": [
          0.016502946954813358,
          0.03198912550974173,
          0.044662256771763796,
          0.0589837512914436
         ],
         "yaxis": "y"
        }
       ],
       "layout": {
        "barmode": "group",
        "height": 450,
        "legend": {
         "title": {
          "text": "Thema"
         },
         "tracegroupgap": 0
        },
        "margin": {
         "t": 60
        },
        "template": {
         "data": {
          "bar": [
           {
            "error_x": {
             "color": "#2a3f5f"
            },
            "error_y": {
             "color": "#2a3f5f"
            },
            "marker": {
             "line": {
              "color": "white",
              "width": 0.5
             },
             "pattern": {
              "fillmode": "overlay",
              "size": 10,
              "solidity": 0.2
             }
            },
            "type": "bar"
           }
          ],
          "barpolar": [
           {
            "marker": {
             "line": {
              "color": "white",
              "width": 0.5
             },
             "pattern": {
              "fillmode": "overlay",
              "size": 10,
              "solidity": 0.2
             }
            },
            "type": "barpolar"
           }
          ],
          "carpet": [
           {
            "aaxis": {
             "endlinecolor": "#2a3f5f",
             "gridcolor": "#C8D4E3",
             "linecolor": "#C8D4E3",
             "minorgridcolor": "#C8D4E3",
             "startlinecolor": "#2a3f5f"
            },
            "baxis": {
             "endlinecolor": "#2a3f5f",
             "gridcolor": "#C8D4E3",
             "linecolor": "#C8D4E3",
             "minorgridcolor": "#C8D4E3",
             "startlinecolor": "#2a3f5f"
            },
            "type": "carpet"
           }
          ],
          "choropleth": [
           {
            "colorbar": {
             "outlinewidth": 0,
             "ticks": ""
            },
            "type": "choropleth"
           }
          ],
          "contour": [
           {
            "colorbar": {
             "outlinewidth": 0,
             "ticks": ""
            },
            "colorscale": [
             [
              0,
              "#0d0887"
             ],
             [
              0.1111111111111111,
              "#46039f"
             ],
             [
              0.2222222222222222,
              "#7201a8"
             ],
             [
              0.3333333333333333,
              "#9c179e"
             ],
             [
              0.4444444444444444,
              "#bd3786"
             ],
             [
              0.5555555555555556,
              "#d8576b"
             ],
             [
              0.6666666666666666,
              "#ed7953"
             ],
             [
              0.7777777777777778,
              "#fb9f3a"
             ],
             [
              0.8888888888888888,
              "#fdca26"
             ],
             [
              1,
              "#f0f921"
             ]
            ],
            "type": "contour"
           }
          ],
          "contourcarpet": [
           {
            "colorbar": {
             "outlinewidth": 0,
             "ticks": ""
            },
            "type": "contourcarpet"
           }
          ],
          "heatmap": [
           {
            "colorbar": {
             "outlinewidth": 0,
             "ticks": ""
            },
            "colorscale": [
             [
              0,
              "#0d0887"
             ],
             [
              0.1111111111111111,
              "#46039f"
             ],
             [
              0.2222222222222222,
              "#7201a8"
             ],
             [
              0.3333333333333333,
              "#9c179e"
             ],
             [
              0.4444444444444444,
              "#bd3786"
             ],
             [
              0.5555555555555556,
              "#d8576b"
             ],
             [
              0.6666666666666666,
              "#ed7953"
             ],
             [
              0.7777777777777778,
              "#fb9f3a"
             ],
             [
              0.8888888888888888,
              "#fdca26"
             ],
             [
              1,
              "#f0f921"
             ]
            ],
            "type": "heatmap"
           }
          ],
          "heatmapgl": [
           {
            "colorbar": {
             "outlinewidth": 0,
             "ticks": ""
            },
            "colorscale": [
             [
              0,
              "#0d0887"
             ],
             [
              0.1111111111111111,
              "#46039f"
             ],
             [
              0.2222222222222222,
              "#7201a8"
             ],
             [
              0.3333333333333333,
              "#9c179e"
             ],
             [
              0.4444444444444444,
              "#bd3786"
             ],
             [
              0.5555555555555556,
              "#d8576b"
             ],
             [
              0.6666666666666666,
              "#ed7953"
             ],
             [
              0.7777777777777778,
              "#fb9f3a"
             ],
             [
              0.8888888888888888,
              "#fdca26"
             ],
             [
              1,
              "#f0f921"
             ]
            ],
            "type": "heatmapgl"
           }
          ],
          "histogram": [
           {
            "marker": {
             "pattern": {
              "fillmode": "overlay",
              "size": 10,
              "solidity": 0.2
             }
            },
            "type": "histogram"
           }
          ],
          "histogram2d": [
           {
            "colorbar": {
             "outlinewidth": 0,
             "ticks": ""
            },
            "colorscale": [
             [
              0,
              "#0d0887"
             ],
             [
              0.1111111111111111,
              "#46039f"
             ],
             [
              0.2222222222222222,
              "#7201a8"
             ],
             [
              0.3333333333333333,
              "#9c179e"
             ],
             [
              0.4444444444444444,
              "#bd3786"
             ],
             [
              0.5555555555555556,
              "#d8576b"
             ],
             [
              0.6666666666666666,
              "#ed7953"
             ],
             [
              0.7777777777777778,
              "#fb9f3a"
             ],
             [
              0.8888888888888888,
              "#fdca26"
             ],
             [
              1,
              "#f0f921"
             ]
            ],
            "type": "histogram2d"
           }
          ],
          "histogram2dcontour": [
           {
            "colorbar": {
             "outlinewidth": 0,
             "ticks": ""
            },
            "colorscale": [
             [
              0,
              "#0d0887"
             ],
             [
              0.1111111111111111,
              "#46039f"
             ],
             [
              0.2222222222222222,
              "#7201a8"
             ],
             [
              0.3333333333333333,
              "#9c179e"
             ],
             [
              0.4444444444444444,
              "#bd3786"
             ],
             [
              0.5555555555555556,
              "#d8576b"
             ],
             [
              0.6666666666666666,
              "#ed7953"
             ],
             [
              0.7777777777777778,
              "#fb9f3a"
             ],
             [
              0.8888888888888888,
              "#fdca26"
             ],
             [
              1,
              "#f0f921"
             ]
            ],
            "type": "histogram2dcontour"
           }
          ],
          "mesh3d": [
           {
            "colorbar": {
             "outlinewidth": 0,
             "ticks": ""
            },
            "type": "mesh3d"
           }
          ],
          "parcoords": [
           {
            "line": {
             "colorbar": {
              "outlinewidth": 0,
              "ticks": ""
             }
            },
            "type": "parcoords"
           }
          ],
          "pie": [
           {
            "automargin": true,
            "type": "pie"
           }
          ],
          "scatter": [
           {
            "fillpattern": {
             "fillmode": "overlay",
             "size": 10,
             "solidity": 0.2
            },
            "type": "scatter"
           }
          ],
          "scatter3d": [
           {
            "line": {
             "colorbar": {
              "outlinewidth": 0,
              "ticks": ""
             }
            },
            "marker": {
             "colorbar": {
              "outlinewidth": 0,
              "ticks": ""
             }
            },
            "type": "scatter3d"
           }
          ],
          "scattercarpet": [
           {
            "marker": {
             "colorbar": {
              "outlinewidth": 0,
              "ticks": ""
             }
            },
            "type": "scattercarpet"
           }
          ],
          "scattergeo": [
           {
            "marker": {
             "colorbar": {
              "outlinewidth": 0,
              "ticks": ""
             }
            },
            "type": "scattergeo"
           }
          ],
          "scattergl": [
           {
            "marker": {
             "colorbar": {
              "outlinewidth": 0,
              "ticks": ""
             }
            },
            "type": "scattergl"
           }
          ],
          "scattermapbox": [
           {
            "marker": {
             "colorbar": {
              "outlinewidth": 0,
              "ticks": ""
             }
            },
            "type": "scattermapbox"
           }
          ],
          "scatterpolar": [
           {
            "marker": {
             "colorbar": {
              "outlinewidth": 0,
              "ticks": ""
             }
            },
            "type": "scatterpolar"
           }
          ],
          "scatterpolargl": [
           {
            "marker": {
             "colorbar": {
              "outlinewidth": 0,
              "ticks": ""
             }
            },
            "type": "scatterpolargl"
           }
          ],
          "scatterternary": [
           {
            "marker": {
             "colorbar": {
              "outlinewidth": 0,
              "ticks": ""
             }
            },
            "type": "scatterternary"
           }
          ],
          "surface": [
           {
            "colorbar": {
             "outlinewidth": 0,
             "ticks": ""
            },
            "colorscale": [
             [
              0,
              "#0d0887"
             ],
             [
              0.1111111111111111,
              "#46039f"
             ],
             [
              0.2222222222222222,
              "#7201a8"
             ],
             [
              0.3333333333333333,
              "#9c179e"
             ],
             [
              0.4444444444444444,
              "#bd3786"
             ],
             [
              0.5555555555555556,
              "#d8576b"
             ],
             [
              0.6666666666666666,
              "#ed7953"
             ],
             [
              0.7777777777777778,
              "#fb9f3a"
             ],
             [
              0.8888888888888888,
              "#fdca26"
             ],
             [
              1,
              "#f0f921"
             ]
            ],
            "type": "surface"
           }
          ],
          "table": [
           {
            "cells": {
             "fill": {
              "color": "#EBF0F8"
             },
             "line": {
              "color": "white"
             }
            },
            "header": {
             "fill": {
              "color": "#C8D4E3"
             },
             "line": {
              "color": "white"
             }
            },
            "type": "table"
           }
          ]
         },
         "layout": {
          "annotationdefaults": {
           "arrowcolor": "#2a3f5f",
           "arrowhead": 0,
           "arrowwidth": 1
          },
          "autotypenumbers": "strict",
          "coloraxis": {
           "colorbar": {
            "outlinewidth": 0,
            "ticks": ""
           }
          },
          "colorscale": {
           "diverging": [
            [
             0,
             "#8e0152"
            ],
            [
             0.1,
             "#c51b7d"
            ],
            [
             0.2,
             "#de77ae"
            ],
            [
             0.3,
             "#f1b6da"
            ],
            [
             0.4,
             "#fde0ef"
            ],
            [
             0.5,
             "#f7f7f7"
            ],
            [
             0.6,
             "#e6f5d0"
            ],
            [
             0.7,
             "#b8e186"
            ],
            [
             0.8,
             "#7fbc41"
            ],
            [
             0.9,
             "#4d9221"
            ],
            [
             1,
             "#276419"
            ]
           ],
           "sequential": [
            [
             0,
             "#0d0887"
            ],
            [
             0.1111111111111111,
             "#46039f"
            ],
            [
             0.2222222222222222,
             "#7201a8"
            ],
            [
             0.3333333333333333,
             "#9c179e"
            ],
            [
             0.4444444444444444,
             "#bd3786"
            ],
            [
             0.5555555555555556,
             "#d8576b"
            ],
            [
             0.6666666666666666,
             "#ed7953"
            ],
            [
             0.7777777777777778,
             "#fb9f3a"
            ],
            [
             0.8888888888888888,
             "#fdca26"
            ],
            [
             1,
             "#f0f921"
            ]
           ],
           "sequentialminus": [
            [
             0,
             "#0d0887"
            ],
            [
             0.1111111111111111,
             "#46039f"
            ],
            [
             0.2222222222222222,
             "#7201a8"
            ],
            [
             0.3333333333333333,
             "#9c179e"
            ],
            [
             0.4444444444444444,
             "#bd3786"
            ],
            [
             0.5555555555555556,
             "#d8576b"
            ],
            [
             0.6666666666666666,
             "#ed7953"
            ],
            [
             0.7777777777777778,
             "#fb9f3a"
            ],
            [
             0.8888888888888888,
             "#fdca26"
            ],
            [
             1,
             "#f0f921"
            ]
           ]
          },
          "colorway": [
           "#636efa",
           "#EF553B",
           "#00cc96",
           "#ab63fa",
           "#FFA15A",
           "#19d3f3",
           "#FF6692",
           "#B6E880",
           "#FF97FF",
           "#FECB52"
          ],
          "font": {
           "color": "#2a3f5f"
          },
          "geo": {
           "bgcolor": "white",
           "lakecolor": "white",
           "landcolor": "white",
           "showlakes": true,
           "showland": true,
           "subunitcolor": "#C8D4E3"
          },
          "hoverlabel": {
           "align": "left"
          },
          "hovermode": "closest",
          "mapbox": {
           "style": "light"
          },
          "paper_bgcolor": "white",
          "plot_bgcolor": "white",
          "polar": {
           "angularaxis": {
            "gridcolor": "#EBF0F8",
            "linecolor": "#EBF0F8",
            "ticks": ""
           },
           "bgcolor": "white",
           "radialaxis": {
            "gridcolor": "#EBF0F8",
            "linecolor": "#EBF0F8",
            "ticks": ""
           }
          },
          "scene": {
           "xaxis": {
            "backgroundcolor": "white",
            "gridcolor": "#DFE8F3",
            "gridwidth": 2,
            "linecolor": "#EBF0F8",
            "showbackground": true,
            "ticks": "",
            "zerolinecolor": "#EBF0F8"
           },
           "yaxis": {
            "backgroundcolor": "white",
            "gridcolor": "#DFE8F3",
            "gridwidth": 2,
            "linecolor": "#EBF0F8",
            "showbackground": true,
            "ticks": "",
            "zerolinecolor": "#EBF0F8"
           },
           "zaxis": {
            "backgroundcolor": "white",
            "gridcolor": "#DFE8F3",
            "gridwidth": 2,
            "linecolor": "#EBF0F8",
            "showbackground": true,
            "ticks": "",
            "zerolinecolor": "#EBF0F8"
           }
          },
          "shapedefaults": {
           "line": {
            "color": "#2a3f5f"
           }
          },
          "ternary": {
           "aaxis": {
            "gridcolor": "#DFE8F3",
            "linecolor": "#A2B1C6",
            "ticks": ""
           },
           "baxis": {
            "gridcolor": "#DFE8F3",
            "linecolor": "#A2B1C6",
            "ticks": ""
           },
           "bgcolor": "white",
           "caxis": {
            "gridcolor": "#DFE8F3",
            "linecolor": "#A2B1C6",
            "ticks": ""
           }
          },
          "title": {
           "x": 0.05
          },
          "xaxis": {
           "automargin": true,
           "gridcolor": "#EBF0F8",
           "linecolor": "#EBF0F8",
           "ticks": "",
           "title": {
            "standoff": 15
           },
           "zerolinecolor": "#EBF0F8",
           "zerolinewidth": 2
          },
          "yaxis": {
           "automargin": true,
           "gridcolor": "#EBF0F8",
           "linecolor": "#EBF0F8",
           "ticks": "",
           "title": {
            "standoff": 15
           },
           "zerolinecolor": "#EBF0F8",
           "zerolinewidth": 2
          }
         }
        },
        "title": {
         "text": "Themenrelevanz nach Altersgruppe (2019-2022)"
        },
        "width": 900,
        "xaxis": {
         "anchor": "y",
         "domain": [
          0,
          1
         ],
         "showgrid": false,
         "title": {
          "text": ""
         }
        },
        "yaxis": {
         "anchor": "x",
         "domain": [
          0,
          1
         ],
         "gridcolor": "rgba(0,0,0,0.1)",
         "gridwidth": 1,
         "showgrid": true,
         "title": {
          "text": "Häufigkeit"
         }
        }
       }
      }
     },
     "metadata": {},
     "output_type": "display_data"
    }
   ],
   "source": [
    "barchart_agegroup = create_grouped_barchart(df_agegroup, x_col=\"S_alter_grouped\", y_col=\"relative_count\", color_col=\"CustomName\", color_discrete_sequence=color_discrete_sequence, title=\"Themenrelevanz nach Altersgruppe (2019-2022)\", xaxis_title='', yaxis_title='Häufigkeit', legend_title='Thema', template=template)"
   ]
  },
  {
   "cell_type": "code",
   "execution_count": 24,
   "metadata": {},
   "outputs": [
    {
     "data": {
      "application/vnd.plotly.v1+json": {
       "config": {
        "plotlyServerURL": "https://plot.ly"
       },
       "data": [
        {
         "fill": "none",
         "line": {
          "color": "#003f5c"
         },
         "marker": {
          "size": 4
         },
         "name": "1-24 Jahre",
         "r": [
          0.01768172888015717,
          0.029469548133595286,
          0.07229862475442043,
          0.017288801571709235,
          0.026326129666011788,
          0.009037328094302554,
          0.016502946954813358,
          0.040471512770137524,
          0.018860510805500982,
          0.12102161100196464,
          0.25697445972495087,
          0.1713163064833006,
          0.029469548133595286,
          0.032220039292730845,
          0.029469548133595286,
          0.029076620825147347,
          0.05658153241650295,
          0.016502946954813358
         ],
         "showlegend": true,
         "theta": [
          "Ausstattung Qualität Rollmaterial",
          "Corona",
          "Fahrplanangebot",
          "Feedback Umfrage",
          "Internet, Wlan und Mobilfunk",
          "Kommerzielle Angebote",
          "Kundeninformation",
          "Lob",
          "Platzangebot Velo, Gepäck, Kinderwagen",
          "Platzangebot Zug",
          "Preis-Leistung",
          "Pünktlichkeit",
          "Raumtemperatur Zug",
          "Sauberkeit Zug und Bahnhof",
          "Security",
          "Sonstiges",
          "Vertrieb und Services",
          "WC Verfügbarkeit und Sauberkeit"
         ],
         "type": "scatterpolar"
        },
        {
         "fill": "none",
         "line": {
          "color": "#58508d"
         },
         "marker": {
          "size": 4
         },
         "name": "25-44 Jahre",
         "r": [
          0.04168554599003172,
          0.04422292705029452,
          0.06968735840507476,
          0.01613049388309923,
          0.024105120072496603,
          0.017942908926144086,
          0.015768010874490257,
          0.04893520616221115,
          0.04068871771635704,
          0.12405980969642048,
          0.12170367014046217,
          0.17562301767104668,
          0.03398278205709107,
          0.02745808790212959,
          0.026642501132759403,
          0.047847757136384235,
          0.08536474852741278,
          0.03198912550974173
         ],
         "showlegend": true,
         "theta": [
          "Ausstattung Qualität Rollmaterial",
          "Corona",
          "Fahrplanangebot",
          "Feedback Umfrage",
          "Internet, Wlan und Mobilfunk",
          "Kommerzielle Angebote",
          "Kundeninformation",
          "Lob",
          "Platzangebot Velo, Gepäck, Kinderwagen",
          "Platzangebot Zug",
          "Preis-Leistung",
          "Pünktlichkeit",
          "Raumtemperatur Zug",
          "Sauberkeit Zug und Bahnhof",
          "Security",
          "Sonstiges",
          "Vertrieb und Services",
          "WC Verfügbarkeit und Sauberkeit"
         ],
         "type": "scatterpolar"
        },
        {
         "fill": "none",
         "line": {
          "color": "#bc5090"
         },
         "marker": {
          "size": 4
         },
         "name": "45-64 Jahre",
         "r": [
          0.02457631210467867,
          0.04263434889672155,
          0.06503790256385496,
          0.019071990729564,
          0.023079522958814158,
          0.033508763459031435,
          0.025590266042199796,
          0.05571918304282748,
          0.05600888416783352,
          0.11805320843995944,
          0.07145961083482208,
          0.1882574477330887,
          0.03317077881319106,
          0.03191540727149824,
          0.035198686688233304,
          0.045289942542610206,
          0.07894355656414466,
          0.044662256771763796
         ],
         "showlegend": true,
         "theta": [
          "Ausstattung Qualität Rollmaterial",
          "Corona",
          "Fahrplanangebot",
          "Feedback Umfrage",
          "Internet, Wlan und Mobilfunk",
          "Kommerzielle Angebote",
          "Kundeninformation",
          "Lob",
          "Platzangebot Velo, Gepäck, Kinderwagen",
          "Platzangebot Zug",
          "Preis-Leistung",
          "Pünktlichkeit",
          "Raumtemperatur Zug",
          "Sauberkeit Zug und Bahnhof",
          "Security",
          "Sonstiges",
          "Vertrieb und Services",
          "WC Verfügbarkeit und Sauberkeit"
         ],
         "type": "scatterpolar"
        },
        {
         "fill": "none",
         "line": {
          "color": "#ff6361"
         },
         "marker": {
          "size": 4
         },
         "name": "65-100 Jahre",
         "r": [
          0.02028740490278952,
          0.03700572931342162,
          0.06734291349675965,
          0.019911712219404527,
          0.017845402460787075,
          0.037287498825960365,
          0.03606649760495914,
          0.0719451488682258,
          0.05419366957828496,
          0.0927960927960928,
          0.058326289095519866,
          0.19301211608903918,
          0.03287310979618672,
          0.030149337841645533,
          0.032591340283647977,
          0.060298675683291066,
          0.0695970695970696,
          0.0589837512914436
         ],
         "showlegend": true,
         "theta": [
          "Ausstattung Qualität Rollmaterial",
          "Corona",
          "Fahrplanangebot",
          "Feedback Umfrage",
          "Internet, Wlan und Mobilfunk",
          "Kommerzielle Angebote",
          "Kundeninformation",
          "Lob",
          "Platzangebot Velo, Gepäck, Kinderwagen",
          "Platzangebot Zug",
          "Preis-Leistung",
          "Pünktlichkeit",
          "Raumtemperatur Zug",
          "Sauberkeit Zug und Bahnhof",
          "Security",
          "Sonstiges",
          "Vertrieb und Services",
          "WC Verfügbarkeit und Sauberkeit"
         ],
         "type": "scatterpolar"
        }
       ],
       "layout": {
        "height": 450,
        "legend": {
         "title": {
          "text": "Gruppe"
         }
        },
        "polar": {
         "angularaxis": {
          "gridcolor": "rgba(0,0,0,0.1)",
          "showticklabels": true,
          "tickfont": {
           "size": 10
          },
          "tickmode": "linear",
          "visible": true
         },
         "radialaxis": {
          "gridcolor": "rgba(0,0,0,0.1)",
          "gridwidth": 1,
          "range": [
           0,
           0.25697445972495087
          ],
          "showgrid": true,
          "visible": true
         }
        },
        "showlegend": true,
        "template": {
         "data": {
          "bar": [
           {
            "error_x": {
             "color": "#2a3f5f"
            },
            "error_y": {
             "color": "#2a3f5f"
            },
            "marker": {
             "line": {
              "color": "white",
              "width": 0.5
             },
             "pattern": {
              "fillmode": "overlay",
              "size": 10,
              "solidity": 0.2
             }
            },
            "type": "bar"
           }
          ],
          "barpolar": [
           {
            "marker": {
             "line": {
              "color": "white",
              "width": 0.5
             },
             "pattern": {
              "fillmode": "overlay",
              "size": 10,
              "solidity": 0.2
             }
            },
            "type": "barpolar"
           }
          ],
          "carpet": [
           {
            "aaxis": {
             "endlinecolor": "#2a3f5f",
             "gridcolor": "#C8D4E3",
             "linecolor": "#C8D4E3",
             "minorgridcolor": "#C8D4E3",
             "startlinecolor": "#2a3f5f"
            },
            "baxis": {
             "endlinecolor": "#2a3f5f",
             "gridcolor": "#C8D4E3",
             "linecolor": "#C8D4E3",
             "minorgridcolor": "#C8D4E3",
             "startlinecolor": "#2a3f5f"
            },
            "type": "carpet"
           }
          ],
          "choropleth": [
           {
            "colorbar": {
             "outlinewidth": 0,
             "ticks": ""
            },
            "type": "choropleth"
           }
          ],
          "contour": [
           {
            "colorbar": {
             "outlinewidth": 0,
             "ticks": ""
            },
            "colorscale": [
             [
              0,
              "#0d0887"
             ],
             [
              0.1111111111111111,
              "#46039f"
             ],
             [
              0.2222222222222222,
              "#7201a8"
             ],
             [
              0.3333333333333333,
              "#9c179e"
             ],
             [
              0.4444444444444444,
              "#bd3786"
             ],
             [
              0.5555555555555556,
              "#d8576b"
             ],
             [
              0.6666666666666666,
              "#ed7953"
             ],
             [
              0.7777777777777778,
              "#fb9f3a"
             ],
             [
              0.8888888888888888,
              "#fdca26"
             ],
             [
              1,
              "#f0f921"
             ]
            ],
            "type": "contour"
           }
          ],
          "contourcarpet": [
           {
            "colorbar": {
             "outlinewidth": 0,
             "ticks": ""
            },
            "type": "contourcarpet"
           }
          ],
          "heatmap": [
           {
            "colorbar": {
             "outlinewidth": 0,
             "ticks": ""
            },
            "colorscale": [
             [
              0,
              "#0d0887"
             ],
             [
              0.1111111111111111,
              "#46039f"
             ],
             [
              0.2222222222222222,
              "#7201a8"
             ],
             [
              0.3333333333333333,
              "#9c179e"
             ],
             [
              0.4444444444444444,
              "#bd3786"
             ],
             [
              0.5555555555555556,
              "#d8576b"
             ],
             [
              0.6666666666666666,
              "#ed7953"
             ],
             [
              0.7777777777777778,
              "#fb9f3a"
             ],
             [
              0.8888888888888888,
              "#fdca26"
             ],
             [
              1,
              "#f0f921"
             ]
            ],
            "type": "heatmap"
           }
          ],
          "heatmapgl": [
           {
            "colorbar": {
             "outlinewidth": 0,
             "ticks": ""
            },
            "colorscale": [
             [
              0,
              "#0d0887"
             ],
             [
              0.1111111111111111,
              "#46039f"
             ],
             [
              0.2222222222222222,
              "#7201a8"
             ],
             [
              0.3333333333333333,
              "#9c179e"
             ],
             [
              0.4444444444444444,
              "#bd3786"
             ],
             [
              0.5555555555555556,
              "#d8576b"
             ],
             [
              0.6666666666666666,
              "#ed7953"
             ],
             [
              0.7777777777777778,
              "#fb9f3a"
             ],
             [
              0.8888888888888888,
              "#fdca26"
             ],
             [
              1,
              "#f0f921"
             ]
            ],
            "type": "heatmapgl"
           }
          ],
          "histogram": [
           {
            "marker": {
             "pattern": {
              "fillmode": "overlay",
              "size": 10,
              "solidity": 0.2
             }
            },
            "type": "histogram"
           }
          ],
          "histogram2d": [
           {
            "colorbar": {
             "outlinewidth": 0,
             "ticks": ""
            },
            "colorscale": [
             [
              0,
              "#0d0887"
             ],
             [
              0.1111111111111111,
              "#46039f"
             ],
             [
              0.2222222222222222,
              "#7201a8"
             ],
             [
              0.3333333333333333,
              "#9c179e"
             ],
             [
              0.4444444444444444,
              "#bd3786"
             ],
             [
              0.5555555555555556,
              "#d8576b"
             ],
             [
              0.6666666666666666,
              "#ed7953"
             ],
             [
              0.7777777777777778,
              "#fb9f3a"
             ],
             [
              0.8888888888888888,
              "#fdca26"
             ],
             [
              1,
              "#f0f921"
             ]
            ],
            "type": "histogram2d"
           }
          ],
          "histogram2dcontour": [
           {
            "colorbar": {
             "outlinewidth": 0,
             "ticks": ""
            },
            "colorscale": [
             [
              0,
              "#0d0887"
             ],
             [
              0.1111111111111111,
              "#46039f"
             ],
             [
              0.2222222222222222,
              "#7201a8"
             ],
             [
              0.3333333333333333,
              "#9c179e"
             ],
             [
              0.4444444444444444,
              "#bd3786"
             ],
             [
              0.5555555555555556,
              "#d8576b"
             ],
             [
              0.6666666666666666,
              "#ed7953"
             ],
             [
              0.7777777777777778,
              "#fb9f3a"
             ],
             [
              0.8888888888888888,
              "#fdca26"
             ],
             [
              1,
              "#f0f921"
             ]
            ],
            "type": "histogram2dcontour"
           }
          ],
          "mesh3d": [
           {
            "colorbar": {
             "outlinewidth": 0,
             "ticks": ""
            },
            "type": "mesh3d"
           }
          ],
          "parcoords": [
           {
            "line": {
             "colorbar": {
              "outlinewidth": 0,
              "ticks": ""
             }
            },
            "type": "parcoords"
           }
          ],
          "pie": [
           {
            "automargin": true,
            "type": "pie"
           }
          ],
          "scatter": [
           {
            "fillpattern": {
             "fillmode": "overlay",
             "size": 10,
             "solidity": 0.2
            },
            "type": "scatter"
           }
          ],
          "scatter3d": [
           {
            "line": {
             "colorbar": {
              "outlinewidth": 0,
              "ticks": ""
             }
            },
            "marker": {
             "colorbar": {
              "outlinewidth": 0,
              "ticks": ""
             }
            },
            "type": "scatter3d"
           }
          ],
          "scattercarpet": [
           {
            "marker": {
             "colorbar": {
              "outlinewidth": 0,
              "ticks": ""
             }
            },
            "type": "scattercarpet"
           }
          ],
          "scattergeo": [
           {
            "marker": {
             "colorbar": {
              "outlinewidth": 0,
              "ticks": ""
             }
            },
            "type": "scattergeo"
           }
          ],
          "scattergl": [
           {
            "marker": {
             "colorbar": {
              "outlinewidth": 0,
              "ticks": ""
             }
            },
            "type": "scattergl"
           }
          ],
          "scattermapbox": [
           {
            "marker": {
             "colorbar": {
              "outlinewidth": 0,
              "ticks": ""
             }
            },
            "type": "scattermapbox"
           }
          ],
          "scatterpolar": [
           {
            "marker": {
             "colorbar": {
              "outlinewidth": 0,
              "ticks": ""
             }
            },
            "type": "scatterpolar"
           }
          ],
          "scatterpolargl": [
           {
            "marker": {
             "colorbar": {
              "outlinewidth": 0,
              "ticks": ""
             }
            },
            "type": "scatterpolargl"
           }
          ],
          "scatterternary": [
           {
            "marker": {
             "colorbar": {
              "outlinewidth": 0,
              "ticks": ""
             }
            },
            "type": "scatterternary"
           }
          ],
          "surface": [
           {
            "colorbar": {
             "outlinewidth": 0,
             "ticks": ""
            },
            "colorscale": [
             [
              0,
              "#0d0887"
             ],
             [
              0.1111111111111111,
              "#46039f"
             ],
             [
              0.2222222222222222,
              "#7201a8"
             ],
             [
              0.3333333333333333,
              "#9c179e"
             ],
             [
              0.4444444444444444,
              "#bd3786"
             ],
             [
              0.5555555555555556,
              "#d8576b"
             ],
             [
              0.6666666666666666,
              "#ed7953"
             ],
             [
              0.7777777777777778,
              "#fb9f3a"
             ],
             [
              0.8888888888888888,
              "#fdca26"
             ],
             [
              1,
              "#f0f921"
             ]
            ],
            "type": "surface"
           }
          ],
          "table": [
           {
            "cells": {
             "fill": {
              "color": "#EBF0F8"
             },
             "line": {
              "color": "white"
             }
            },
            "header": {
             "fill": {
              "color": "#C8D4E3"
             },
             "line": {
              "color": "white"
             }
            },
            "type": "table"
           }
          ]
         },
         "layout": {
          "annotationdefaults": {
           "arrowcolor": "#2a3f5f",
           "arrowhead": 0,
           "arrowwidth": 1
          },
          "autotypenumbers": "strict",
          "coloraxis": {
           "colorbar": {
            "outlinewidth": 0,
            "ticks": ""
           }
          },
          "colorscale": {
           "diverging": [
            [
             0,
             "#8e0152"
            ],
            [
             0.1,
             "#c51b7d"
            ],
            [
             0.2,
             "#de77ae"
            ],
            [
             0.3,
             "#f1b6da"
            ],
            [
             0.4,
             "#fde0ef"
            ],
            [
             0.5,
             "#f7f7f7"
            ],
            [
             0.6,
             "#e6f5d0"
            ],
            [
             0.7,
             "#b8e186"
            ],
            [
             0.8,
             "#7fbc41"
            ],
            [
             0.9,
             "#4d9221"
            ],
            [
             1,
             "#276419"
            ]
           ],
           "sequential": [
            [
             0,
             "#0d0887"
            ],
            [
             0.1111111111111111,
             "#46039f"
            ],
            [
             0.2222222222222222,
             "#7201a8"
            ],
            [
             0.3333333333333333,
             "#9c179e"
            ],
            [
             0.4444444444444444,
             "#bd3786"
            ],
            [
             0.5555555555555556,
             "#d8576b"
            ],
            [
             0.6666666666666666,
             "#ed7953"
            ],
            [
             0.7777777777777778,
             "#fb9f3a"
            ],
            [
             0.8888888888888888,
             "#fdca26"
            ],
            [
             1,
             "#f0f921"
            ]
           ],
           "sequentialminus": [
            [
             0,
             "#0d0887"
            ],
            [
             0.1111111111111111,
             "#46039f"
            ],
            [
             0.2222222222222222,
             "#7201a8"
            ],
            [
             0.3333333333333333,
             "#9c179e"
            ],
            [
             0.4444444444444444,
             "#bd3786"
            ],
            [
             0.5555555555555556,
             "#d8576b"
            ],
            [
             0.6666666666666666,
             "#ed7953"
            ],
            [
             0.7777777777777778,
             "#fb9f3a"
            ],
            [
             0.8888888888888888,
             "#fdca26"
            ],
            [
             1,
             "#f0f921"
            ]
           ]
          },
          "colorway": [
           "#636efa",
           "#EF553B",
           "#00cc96",
           "#ab63fa",
           "#FFA15A",
           "#19d3f3",
           "#FF6692",
           "#B6E880",
           "#FF97FF",
           "#FECB52"
          ],
          "font": {
           "color": "#2a3f5f"
          },
          "geo": {
           "bgcolor": "white",
           "lakecolor": "white",
           "landcolor": "white",
           "showlakes": true,
           "showland": true,
           "subunitcolor": "#C8D4E3"
          },
          "hoverlabel": {
           "align": "left"
          },
          "hovermode": "closest",
          "mapbox": {
           "style": "light"
          },
          "paper_bgcolor": "white",
          "plot_bgcolor": "white",
          "polar": {
           "angularaxis": {
            "gridcolor": "#EBF0F8",
            "linecolor": "#EBF0F8",
            "ticks": ""
           },
           "bgcolor": "white",
           "radialaxis": {
            "gridcolor": "#EBF0F8",
            "linecolor": "#EBF0F8",
            "ticks": ""
           }
          },
          "scene": {
           "xaxis": {
            "backgroundcolor": "white",
            "gridcolor": "#DFE8F3",
            "gridwidth": 2,
            "linecolor": "#EBF0F8",
            "showbackground": true,
            "ticks": "",
            "zerolinecolor": "#EBF0F8"
           },
           "yaxis": {
            "backgroundcolor": "white",
            "gridcolor": "#DFE8F3",
            "gridwidth": 2,
            "linecolor": "#EBF0F8",
            "showbackground": true,
            "ticks": "",
            "zerolinecolor": "#EBF0F8"
           },
           "zaxis": {
            "backgroundcolor": "white",
            "gridcolor": "#DFE8F3",
            "gridwidth": 2,
            "linecolor": "#EBF0F8",
            "showbackground": true,
            "ticks": "",
            "zerolinecolor": "#EBF0F8"
           }
          },
          "shapedefaults": {
           "line": {
            "color": "#2a3f5f"
           }
          },
          "ternary": {
           "aaxis": {
            "gridcolor": "#DFE8F3",
            "linecolor": "#A2B1C6",
            "ticks": ""
           },
           "baxis": {
            "gridcolor": "#DFE8F3",
            "linecolor": "#A2B1C6",
            "ticks": ""
           },
           "bgcolor": "white",
           "caxis": {
            "gridcolor": "#DFE8F3",
            "linecolor": "#A2B1C6",
            "ticks": ""
           }
          },
          "title": {
           "x": 0.05
          },
          "xaxis": {
           "automargin": true,
           "gridcolor": "#EBF0F8",
           "linecolor": "#EBF0F8",
           "ticks": "",
           "title": {
            "standoff": 15
           },
           "zerolinecolor": "#EBF0F8",
           "zerolinewidth": 2
          },
          "yaxis": {
           "automargin": true,
           "gridcolor": "#EBF0F8",
           "linecolor": "#EBF0F8",
           "ticks": "",
           "title": {
            "standoff": 15
           },
           "zerolinecolor": "#EBF0F8",
           "zerolinewidth": 2
          }
         }
        },
        "title": {
         "text": "Themenrelevanz nach Altersgruppe (2019-2022)"
        },
        "width": 900,
        "xaxis": {
         "title": {
          "text": ""
         }
        },
        "yaxis": {
         "title": {
          "text": "Häufigkeit"
         }
        }
       }
      }
     },
     "metadata": {},
     "output_type": "display_data"
    }
   ],
   "source": [
    "create_grouped_radar(df_agegroup, x_col=\"CustomName\", y_col=\"relative_count\", color_col=\"S_alter_grouped\", color_discrete_sequence=color_discrete_sequence, title=\"Themenrelevanz nach Altersgruppe (2019-2022)\", xaxis_title='', yaxis_title='Häufigkeit', legend_title='Gruppe', template=template)"
   ]
  },
  {
   "cell_type": "code",
   "execution_count": 25,
   "metadata": {},
   "outputs": [
    {
     "data": {
      "application/vnd.plotly.v1+json": {
       "config": {
        "plotlyServerURL": "https://plot.ly"
       },
       "data": [
        {
         "alignmentgroup": "True",
         "customdata": [
          [
           "Ausstattung Qualität Rollmaterial"
          ],
          [
           "Ausstattung Qualität Rollmaterial"
          ]
         ],
         "hovertemplate": "CustomName=%{customdata[0]}<br>u_klassencode=%{x}<br>relative_count=%{y}<extra></extra>",
         "legendgroup": "Ausstattung Qualität Rollmaterial",
         "marker": {
          "color": "#003f5c",
          "pattern": {
           "shape": ""
          }
         },
         "name": "Ausstattung Qualität Rollmaterial",
         "offsetgroup": "Ausstattung Qualität Rollmaterial",
         "orientation": "v",
         "showlegend": true,
         "textposition": "auto",
         "type": "bar",
         "x": [
          "1. Klasse",
          "2. Klasse"
         ],
         "xaxis": "x",
         "y": [
          0.034255599472990776,
          0.025971952420234704
         ],
         "yaxis": "y"
        },
        {
         "alignmentgroup": "True",
         "customdata": [
          [
           "Corona"
          ],
          [
           "Corona"
          ]
         ],
         "hovertemplate": "CustomName=%{customdata[0]}<br>u_klassencode=%{x}<br>relative_count=%{y}<extra></extra>",
         "legendgroup": "Corona",
         "marker": {
          "color": "#58508d",
          "pattern": {
           "shape": ""
          }
         },
         "name": "Corona",
         "offsetgroup": "Corona",
         "orientation": "v",
         "showlegend": true,
         "textposition": "auto",
         "type": "bar",
         "x": [
          "1. Klasse",
          "2. Klasse"
         ],
         "xaxis": "x",
         "y": [
          0.043478260869565216,
          0.041672210543122486
         ],
         "yaxis": "y"
        },
        {
         "alignmentgroup": "True",
         "customdata": [
          [
           "Fahrplanangebot"
          ],
          [
           "Fahrplanangebot"
          ]
         ],
         "hovertemplate": "CustomName=%{customdata[0]}<br>u_klassencode=%{x}<br>relative_count=%{y}<extra></extra>",
         "legendgroup": "Fahrplanangebot",
         "marker": {
          "color": "#bc5090",
          "pattern": {
           "shape": ""
          }
         },
         "name": "Fahrplanangebot",
         "offsetgroup": "Fahrplanangebot",
         "orientation": "v",
         "showlegend": true,
         "textposition": "auto",
         "type": "bar",
         "x": [
          "1. Klasse",
          "2. Klasse"
         ],
         "xaxis": "x",
         "y": [
          0.04183135704874835,
          0.07176880704648873
         ],
         "yaxis": "y"
        },
        {
         "alignmentgroup": "True",
         "customdata": [
          [
           "Feedback Umfrage"
          ],
          [
           "Feedback Umfrage"
          ]
         ],
         "hovertemplate": "CustomName=%{customdata[0]}<br>u_klassencode=%{x}<br>relative_count=%{y}<extra></extra>",
         "legendgroup": "Feedback Umfrage",
         "marker": {
          "color": "#ff6361",
          "pattern": {
           "shape": ""
          }
         },
         "name": "Feedback Umfrage",
         "offsetgroup": "Feedback Umfrage",
         "orientation": "v",
         "showlegend": true,
         "textposition": "auto",
         "type": "bar",
         "x": [
          "1. Klasse",
          "2. Klasse"
         ],
         "xaxis": "x",
         "y": [
          0.02206851119894598,
          0.018068602144814924
         ],
         "yaxis": "y"
        },
        {
         "alignmentgroup": "True",
         "customdata": [
          [
           "Internet, Wlan und Mobilfunk"
          ],
          [
           "Internet, Wlan und Mobilfunk"
          ]
         ],
         "hovertemplate": "CustomName=%{customdata[0]}<br>u_klassencode=%{x}<br>relative_count=%{y}<extra></extra>",
         "legendgroup": "Internet, Wlan und Mobilfunk",
         "marker": {
          "color": "#ffa600",
          "pattern": {
           "shape": ""
          }
         },
         "name": "Internet, Wlan und Mobilfunk",
         "offsetgroup": "Internet, Wlan und Mobilfunk",
         "orientation": "v",
         "showlegend": true,
         "textposition": "auto",
         "type": "bar",
         "x": [
          "1. Klasse",
          "2. Klasse"
         ],
         "xaxis": "x",
         "y": [
          0.030467720685111988,
          0.021048990127464806
         ],
         "yaxis": "y"
        },
        {
         "alignmentgroup": "True",
         "customdata": [
          [
           "Kommerzielle Angebote"
          ],
          [
           "Kommerzielle Angebote"
          ]
         ],
         "hovertemplate": "CustomName=%{customdata[0]}<br>u_klassencode=%{x}<br>relative_count=%{y}<extra></extra>",
         "legendgroup": "Kommerzielle Angebote",
         "marker": {
          "color": "#ff7c43",
          "pattern": {
           "shape": ""
          }
         },
         "name": "Kommerzielle Angebote",
         "offsetgroup": "Kommerzielle Angebote",
         "orientation": "v",
         "showlegend": true,
         "textposition": "auto",
         "type": "bar",
         "x": [
          "1. Klasse",
          "2. Klasse"
         ],
         "xaxis": "x",
         "y": [
          0.05006587615283267,
          0.02583889938529498
         ],
         "yaxis": "y"
        },
        {
         "alignmentgroup": "True",
         "customdata": [
          [
           "Kundeninformation"
          ],
          [
           "Kundeninformation"
          ]
         ],
         "hovertemplate": "CustomName=%{customdata[0]}<br>u_klassencode=%{x}<br>relative_count=%{y}<extra></extra>",
         "legendgroup": "Kundeninformation",
         "marker": {
          "color": "#ffdc00",
          "pattern": {
           "shape": ""
          }
         },
         "name": "Kundeninformation",
         "offsetgroup": "Kundeninformation",
         "orientation": "v",
         "showlegend": true,
         "textposition": "auto",
         "type": "bar",
         "x": [
          "1. Klasse",
          "2. Klasse"
         ],
         "xaxis": "x",
         "y": [
          0.029314888010540184,
          0.02432209478698209
         ],
         "yaxis": "y"
        },
        {
         "alignmentgroup": "True",
         "customdata": [
          [
           "Lob"
          ],
          [
           "Lob"
          ]
         ],
         "hovertemplate": "CustomName=%{customdata[0]}<br>u_klassencode=%{x}<br>relative_count=%{y}<extra></extra>",
         "legendgroup": "Lob",
         "marker": {
          "color": "#00a2ff",
          "pattern": {
           "shape": ""
          }
         },
         "name": "Lob",
         "offsetgroup": "Lob",
         "orientation": "v",
         "showlegend": true,
         "textposition": "auto",
         "type": "bar",
         "x": [
          "1. Klasse",
          "2. Klasse"
         ],
         "xaxis": "x",
         "y": [
          0.054677206851119896,
          0.05763857473588973
         ],
         "yaxis": "y"
        },
        {
         "alignmentgroup": "True",
         "customdata": [
          [
           "Platzangebot Velo, Gepäck, Kinderwagen"
          ],
          [
           "Platzangebot Velo, Gepäck, Kinderwagen"
          ]
         ],
         "hovertemplate": "CustomName=%{customdata[0]}<br>u_klassencode=%{x}<br>relative_count=%{y}<extra></extra>",
         "legendgroup": "Platzangebot Velo, Gepäck, Kinderwagen",
         "marker": {
          "color": "#7fdbff",
          "pattern": {
           "shape": ""
          }
         },
         "name": "Platzangebot Velo, Gepäck, Kinderwagen",
         "offsetgroup": "Platzangebot Velo, Gepäck, Kinderwagen",
         "orientation": "v",
         "showlegend": true,
         "textposition": "auto",
         "type": "bar",
         "x": [
          "1. Klasse",
          "2. Klasse"
         ],
         "xaxis": "x",
         "y": [
          0.027009222661396576,
          0.053673594294685864
         ],
         "yaxis": "y"
        },
        {
         "alignmentgroup": "True",
         "customdata": [
          [
           "Platzangebot Zug"
          ],
          [
           "Platzangebot Zug"
          ]
         ],
         "hovertemplate": "CustomName=%{customdata[0]}<br>u_klassencode=%{x}<br>relative_count=%{y}<extra></extra>",
         "legendgroup": "Platzangebot Zug",
         "marker": {
          "color": "#e8c547",
          "pattern": {
           "shape": ""
          }
         },
         "name": "Platzangebot Zug",
         "offsetgroup": "Platzangebot Zug",
         "orientation": "v",
         "showlegend": true,
         "textposition": "auto",
         "type": "bar",
         "x": [
          "1. Klasse",
          "2. Klasse"
         ],
         "xaxis": "x",
         "y": [
          0.17276021080368906,
          0.10077436866334921
         ],
         "yaxis": "y"
        },
        {
         "alignmentgroup": "True",
         "customdata": [
          [
           "Preis-Leistung"
          ],
          [
           "Preis-Leistung"
          ]
         ],
         "hovertemplate": "CustomName=%{customdata[0]}<br>u_klassencode=%{x}<br>relative_count=%{y}<extra></extra>",
         "legendgroup": "Preis-Leistung",
         "marker": {
          "color": "#55b2d2",
          "pattern": {
           "shape": ""
          }
         },
         "name": "Preis-Leistung",
         "offsetgroup": "Preis-Leistung",
         "orientation": "v",
         "showlegend": true,
         "textposition": "auto",
         "type": "bar",
         "x": [
          "1. Klasse",
          "2. Klasse"
         ],
         "xaxis": "x",
         "y": [
          0.04743083003952569,
          0.09851246706937385
         ],
         "yaxis": "y"
        },
        {
         "alignmentgroup": "True",
         "customdata": [
          [
           "Pünktlichkeit"
          ],
          [
           "Pünktlichkeit"
          ]
         ],
         "hovertemplate": "CustomName=%{customdata[0]}<br>u_klassencode=%{x}<br>relative_count=%{y}<extra></extra>",
         "legendgroup": "Pünktlichkeit",
         "marker": {
          "color": "#7fcdbb",
          "pattern": {
           "shape": ""
          }
         },
         "name": "Pünktlichkeit",
         "offsetgroup": "Pünktlichkeit",
         "orientation": "v",
         "showlegend": true,
         "textposition": "auto",
         "type": "bar",
         "x": [
          "1. Klasse",
          "2. Klasse"
         ],
         "xaxis": "x",
         "y": [
          0.2017457180500659,
          0.18305436547007636
         ],
         "yaxis": "y"
        },
        {
         "alignmentgroup": "True",
         "customdata": [
          [
           "Raumtemperatur Zug"
          ],
          [
           "Raumtemperatur Zug"
          ]
         ],
         "hovertemplate": "CustomName=%{customdata[0]}<br>u_klassencode=%{x}<br>relative_count=%{y}<extra></extra>",
         "legendgroup": "Raumtemperatur Zug",
         "marker": {
          "color": "#5a5a5a",
          "pattern": {
           "shape": ""
          }
         },
         "name": "Raumtemperatur Zug",
         "offsetgroup": "Raumtemperatur Zug",
         "orientation": "v",
         "showlegend": true,
         "textposition": "auto",
         "type": "bar",
         "x": [
          "1. Klasse",
          "2. Klasse"
         ],
         "xaxis": "x",
         "y": [
          0.042490118577075096,
          0.03187950717155858
         ],
         "yaxis": "y"
        },
        {
         "alignmentgroup": "True",
         "customdata": [
          [
           "Sauberkeit Zug und Bahnhof"
          ],
          [
           "Sauberkeit Zug und Bahnhof"
          ]
         ],
         "hovertemplate": "CustomName=%{customdata[0]}<br>u_klassencode=%{x}<br>relative_count=%{y}<extra></extra>",
         "legendgroup": "Sauberkeit Zug und Bahnhof",
         "marker": {
          "color": "#9c9c9c",
          "pattern": {
           "shape": ""
          }
         },
         "name": "Sauberkeit Zug und Bahnhof",
         "offsetgroup": "Sauberkeit Zug und Bahnhof",
         "orientation": "v",
         "showlegend": true,
         "textposition": "auto",
         "type": "bar",
         "x": [
          "1. Klasse",
          "2. Klasse"
         ],
         "xaxis": "x",
         "y": [
          0.02355072463768116,
          0.03142712685276351
         ],
         "yaxis": "y"
        },
        {
         "alignmentgroup": "True",
         "customdata": [
          [
           "Security"
          ],
          [
           "Security"
          ]
         ],
         "hovertemplate": "CustomName=%{customdata[0]}<br>u_klassencode=%{x}<br>relative_count=%{y}<extra></extra>",
         "legendgroup": "Security",
         "marker": {
          "color": "#c9c9c9",
          "pattern": {
           "shape": ""
          }
         },
         "name": "Security",
         "offsetgroup": "Security",
         "orientation": "v",
         "showlegend": true,
         "textposition": "auto",
         "type": "bar",
         "x": [
          "1. Klasse",
          "2. Klasse"
         ],
         "xaxis": "x",
         "y": [
          0.029808959156785244,
          0.032278666276377765
         ],
         "yaxis": "y"
        },
        {
         "alignmentgroup": "True",
         "customdata": [
          [
           "Sonstiges"
          ],
          [
           "Sonstiges"
          ]
         ],
         "hovertemplate": "CustomName=%{customdata[0]}<br>u_klassencode=%{x}<br>relative_count=%{y}<extra></extra>",
         "legendgroup": "Sonstiges",
         "marker": {
          "color": "#ef476f",
          "pattern": {
           "shape": ""
          }
         },
         "name": "Sonstiges",
         "offsetgroup": "Sonstiges",
         "orientation": "v",
         "showlegend": true,
         "textposition": "auto",
         "type": "bar",
         "x": [
          "1. Klasse",
          "2. Klasse"
         ],
         "xaxis": "x",
         "y": [
          0.04479578392621871,
          0.04917640171372309
         ],
         "yaxis": "y"
        },
        {
         "alignmentgroup": "True",
         "customdata": [
          [
           "Vertrieb und Services"
          ],
          [
           "Vertrieb und Services"
          ]
         ],
         "hovertemplate": "CustomName=%{customdata[0]}<br>u_klassencode=%{x}<br>relative_count=%{y}<extra></extra>",
         "legendgroup": "Vertrieb und Services",
         "marker": {
          "color": "#6b5b95",
          "pattern": {
           "shape": ""
          }
         },
         "name": "Vertrieb und Services",
         "offsetgroup": "Vertrieb und Services",
         "orientation": "v",
         "showlegend": true,
         "textposition": "auto",
         "type": "bar",
         "x": [
          "1. Klasse",
          "2. Klasse"
         ],
         "xaxis": "x",
         "y": [
          0.059947299077733864,
          0.08012453764070358
         ],
         "yaxis": "y"
        },
        {
         "alignmentgroup": "True",
         "customdata": [
          [
           "WC Verfügbarkeit und Sauberkeit"
          ],
          [
           "WC Verfügbarkeit und Sauberkeit"
          ]
         ],
         "hovertemplate": "CustomName=%{customdata[0]}<br>u_klassencode=%{x}<br>relative_count=%{y}<extra></extra>",
         "legendgroup": "WC Verfügbarkeit und Sauberkeit",
         "marker": {
          "color": "#b565a7",
          "pattern": {
           "shape": ""
          }
         },
         "name": "WC Verfügbarkeit und Sauberkeit",
         "offsetgroup": "WC Verfügbarkeit und Sauberkeit",
         "orientation": "v",
         "showlegend": true,
         "textposition": "auto",
         "type": "bar",
         "x": [
          "1. Klasse",
          "2. Klasse"
         ],
         "xaxis": "x",
         "y": [
          0.038537549407114624,
          0.044226828813965245
         ],
         "yaxis": "y"
        }
       ],
       "layout": {
        "barmode": "group",
        "height": 450,
        "legend": {
         "title": {
          "text": "Thema"
         },
         "tracegroupgap": 0
        },
        "margin": {
         "t": 60
        },
        "template": {
         "data": {
          "bar": [
           {
            "error_x": {
             "color": "#2a3f5f"
            },
            "error_y": {
             "color": "#2a3f5f"
            },
            "marker": {
             "line": {
              "color": "white",
              "width": 0.5
             },
             "pattern": {
              "fillmode": "overlay",
              "size": 10,
              "solidity": 0.2
             }
            },
            "type": "bar"
           }
          ],
          "barpolar": [
           {
            "marker": {
             "line": {
              "color": "white",
              "width": 0.5
             },
             "pattern": {
              "fillmode": "overlay",
              "size": 10,
              "solidity": 0.2
             }
            },
            "type": "barpolar"
           }
          ],
          "carpet": [
           {
            "aaxis": {
             "endlinecolor": "#2a3f5f",
             "gridcolor": "#C8D4E3",
             "linecolor": "#C8D4E3",
             "minorgridcolor": "#C8D4E3",
             "startlinecolor": "#2a3f5f"
            },
            "baxis": {
             "endlinecolor": "#2a3f5f",
             "gridcolor": "#C8D4E3",
             "linecolor": "#C8D4E3",
             "minorgridcolor": "#C8D4E3",
             "startlinecolor": "#2a3f5f"
            },
            "type": "carpet"
           }
          ],
          "choropleth": [
           {
            "colorbar": {
             "outlinewidth": 0,
             "ticks": ""
            },
            "type": "choropleth"
           }
          ],
          "contour": [
           {
            "colorbar": {
             "outlinewidth": 0,
             "ticks": ""
            },
            "colorscale": [
             [
              0,
              "#0d0887"
             ],
             [
              0.1111111111111111,
              "#46039f"
             ],
             [
              0.2222222222222222,
              "#7201a8"
             ],
             [
              0.3333333333333333,
              "#9c179e"
             ],
             [
              0.4444444444444444,
              "#bd3786"
             ],
             [
              0.5555555555555556,
              "#d8576b"
             ],
             [
              0.6666666666666666,
              "#ed7953"
             ],
             [
              0.7777777777777778,
              "#fb9f3a"
             ],
             [
              0.8888888888888888,
              "#fdca26"
             ],
             [
              1,
              "#f0f921"
             ]
            ],
            "type": "contour"
           }
          ],
          "contourcarpet": [
           {
            "colorbar": {
             "outlinewidth": 0,
             "ticks": ""
            },
            "type": "contourcarpet"
           }
          ],
          "heatmap": [
           {
            "colorbar": {
             "outlinewidth": 0,
             "ticks": ""
            },
            "colorscale": [
             [
              0,
              "#0d0887"
             ],
             [
              0.1111111111111111,
              "#46039f"
             ],
             [
              0.2222222222222222,
              "#7201a8"
             ],
             [
              0.3333333333333333,
              "#9c179e"
             ],
             [
              0.4444444444444444,
              "#bd3786"
             ],
             [
              0.5555555555555556,
              "#d8576b"
             ],
             [
              0.6666666666666666,
              "#ed7953"
             ],
             [
              0.7777777777777778,
              "#fb9f3a"
             ],
             [
              0.8888888888888888,
              "#fdca26"
             ],
             [
              1,
              "#f0f921"
             ]
            ],
            "type": "heatmap"
           }
          ],
          "heatmapgl": [
           {
            "colorbar": {
             "outlinewidth": 0,
             "ticks": ""
            },
            "colorscale": [
             [
              0,
              "#0d0887"
             ],
             [
              0.1111111111111111,
              "#46039f"
             ],
             [
              0.2222222222222222,
              "#7201a8"
             ],
             [
              0.3333333333333333,
              "#9c179e"
             ],
             [
              0.4444444444444444,
              "#bd3786"
             ],
             [
              0.5555555555555556,
              "#d8576b"
             ],
             [
              0.6666666666666666,
              "#ed7953"
             ],
             [
              0.7777777777777778,
              "#fb9f3a"
             ],
             [
              0.8888888888888888,
              "#fdca26"
             ],
             [
              1,
              "#f0f921"
             ]
            ],
            "type": "heatmapgl"
           }
          ],
          "histogram": [
           {
            "marker": {
             "pattern": {
              "fillmode": "overlay",
              "size": 10,
              "solidity": 0.2
             }
            },
            "type": "histogram"
           }
          ],
          "histogram2d": [
           {
            "colorbar": {
             "outlinewidth": 0,
             "ticks": ""
            },
            "colorscale": [
             [
              0,
              "#0d0887"
             ],
             [
              0.1111111111111111,
              "#46039f"
             ],
             [
              0.2222222222222222,
              "#7201a8"
             ],
             [
              0.3333333333333333,
              "#9c179e"
             ],
             [
              0.4444444444444444,
              "#bd3786"
             ],
             [
              0.5555555555555556,
              "#d8576b"
             ],
             [
              0.6666666666666666,
              "#ed7953"
             ],
             [
              0.7777777777777778,
              "#fb9f3a"
             ],
             [
              0.8888888888888888,
              "#fdca26"
             ],
             [
              1,
              "#f0f921"
             ]
            ],
            "type": "histogram2d"
           }
          ],
          "histogram2dcontour": [
           {
            "colorbar": {
             "outlinewidth": 0,
             "ticks": ""
            },
            "colorscale": [
             [
              0,
              "#0d0887"
             ],
             [
              0.1111111111111111,
              "#46039f"
             ],
             [
              0.2222222222222222,
              "#7201a8"
             ],
             [
              0.3333333333333333,
              "#9c179e"
             ],
             [
              0.4444444444444444,
              "#bd3786"
             ],
             [
              0.5555555555555556,
              "#d8576b"
             ],
             [
              0.6666666666666666,
              "#ed7953"
             ],
             [
              0.7777777777777778,
              "#fb9f3a"
             ],
             [
              0.8888888888888888,
              "#fdca26"
             ],
             [
              1,
              "#f0f921"
             ]
            ],
            "type": "histogram2dcontour"
           }
          ],
          "mesh3d": [
           {
            "colorbar": {
             "outlinewidth": 0,
             "ticks": ""
            },
            "type": "mesh3d"
           }
          ],
          "parcoords": [
           {
            "line": {
             "colorbar": {
              "outlinewidth": 0,
              "ticks": ""
             }
            },
            "type": "parcoords"
           }
          ],
          "pie": [
           {
            "automargin": true,
            "type": "pie"
           }
          ],
          "scatter": [
           {
            "fillpattern": {
             "fillmode": "overlay",
             "size": 10,
             "solidity": 0.2
            },
            "type": "scatter"
           }
          ],
          "scatter3d": [
           {
            "line": {
             "colorbar": {
              "outlinewidth": 0,
              "ticks": ""
             }
            },
            "marker": {
             "colorbar": {
              "outlinewidth": 0,
              "ticks": ""
             }
            },
            "type": "scatter3d"
           }
          ],
          "scattercarpet": [
           {
            "marker": {
             "colorbar": {
              "outlinewidth": 0,
              "ticks": ""
             }
            },
            "type": "scattercarpet"
           }
          ],
          "scattergeo": [
           {
            "marker": {
             "colorbar": {
              "outlinewidth": 0,
              "ticks": ""
             }
            },
            "type": "scattergeo"
           }
          ],
          "scattergl": [
           {
            "marker": {
             "colorbar": {
              "outlinewidth": 0,
              "ticks": ""
             }
            },
            "type": "scattergl"
           }
          ],
          "scattermapbox": [
           {
            "marker": {
             "colorbar": {
              "outlinewidth": 0,
              "ticks": ""
             }
            },
            "type": "scattermapbox"
           }
          ],
          "scatterpolar": [
           {
            "marker": {
             "colorbar": {
              "outlinewidth": 0,
              "ticks": ""
             }
            },
            "type": "scatterpolar"
           }
          ],
          "scatterpolargl": [
           {
            "marker": {
             "colorbar": {
              "outlinewidth": 0,
              "ticks": ""
             }
            },
            "type": "scatterpolargl"
           }
          ],
          "scatterternary": [
           {
            "marker": {
             "colorbar": {
              "outlinewidth": 0,
              "ticks": ""
             }
            },
            "type": "scatterternary"
           }
          ],
          "surface": [
           {
            "colorbar": {
             "outlinewidth": 0,
             "ticks": ""
            },
            "colorscale": [
             [
              0,
              "#0d0887"
             ],
             [
              0.1111111111111111,
              "#46039f"
             ],
             [
              0.2222222222222222,
              "#7201a8"
             ],
             [
              0.3333333333333333,
              "#9c179e"
             ],
             [
              0.4444444444444444,
              "#bd3786"
             ],
             [
              0.5555555555555556,
              "#d8576b"
             ],
             [
              0.6666666666666666,
              "#ed7953"
             ],
             [
              0.7777777777777778,
              "#fb9f3a"
             ],
             [
              0.8888888888888888,
              "#fdca26"
             ],
             [
              1,
              "#f0f921"
             ]
            ],
            "type": "surface"
           }
          ],
          "table": [
           {
            "cells": {
             "fill": {
              "color": "#EBF0F8"
             },
             "line": {
              "color": "white"
             }
            },
            "header": {
             "fill": {
              "color": "#C8D4E3"
             },
             "line": {
              "color": "white"
             }
            },
            "type": "table"
           }
          ]
         },
         "layout": {
          "annotationdefaults": {
           "arrowcolor": "#2a3f5f",
           "arrowhead": 0,
           "arrowwidth": 1
          },
          "autotypenumbers": "strict",
          "coloraxis": {
           "colorbar": {
            "outlinewidth": 0,
            "ticks": ""
           }
          },
          "colorscale": {
           "diverging": [
            [
             0,
             "#8e0152"
            ],
            [
             0.1,
             "#c51b7d"
            ],
            [
             0.2,
             "#de77ae"
            ],
            [
             0.3,
             "#f1b6da"
            ],
            [
             0.4,
             "#fde0ef"
            ],
            [
             0.5,
             "#f7f7f7"
            ],
            [
             0.6,
             "#e6f5d0"
            ],
            [
             0.7,
             "#b8e186"
            ],
            [
             0.8,
             "#7fbc41"
            ],
            [
             0.9,
             "#4d9221"
            ],
            [
             1,
             "#276419"
            ]
           ],
           "sequential": [
            [
             0,
             "#0d0887"
            ],
            [
             0.1111111111111111,
             "#46039f"
            ],
            [
             0.2222222222222222,
             "#7201a8"
            ],
            [
             0.3333333333333333,
             "#9c179e"
            ],
            [
             0.4444444444444444,
             "#bd3786"
            ],
            [
             0.5555555555555556,
             "#d8576b"
            ],
            [
             0.6666666666666666,
             "#ed7953"
            ],
            [
             0.7777777777777778,
             "#fb9f3a"
            ],
            [
             0.8888888888888888,
             "#fdca26"
            ],
            [
             1,
             "#f0f921"
            ]
           ],
           "sequentialminus": [
            [
             0,
             "#0d0887"
            ],
            [
             0.1111111111111111,
             "#46039f"
            ],
            [
             0.2222222222222222,
             "#7201a8"
            ],
            [
             0.3333333333333333,
             "#9c179e"
            ],
            [
             0.4444444444444444,
             "#bd3786"
            ],
            [
             0.5555555555555556,
             "#d8576b"
            ],
            [
             0.6666666666666666,
             "#ed7953"
            ],
            [
             0.7777777777777778,
             "#fb9f3a"
            ],
            [
             0.8888888888888888,
             "#fdca26"
            ],
            [
             1,
             "#f0f921"
            ]
           ]
          },
          "colorway": [
           "#636efa",
           "#EF553B",
           "#00cc96",
           "#ab63fa",
           "#FFA15A",
           "#19d3f3",
           "#FF6692",
           "#B6E880",
           "#FF97FF",
           "#FECB52"
          ],
          "font": {
           "color": "#2a3f5f"
          },
          "geo": {
           "bgcolor": "white",
           "lakecolor": "white",
           "landcolor": "white",
           "showlakes": true,
           "showland": true,
           "subunitcolor": "#C8D4E3"
          },
          "hoverlabel": {
           "align": "left"
          },
          "hovermode": "closest",
          "mapbox": {
           "style": "light"
          },
          "paper_bgcolor": "white",
          "plot_bgcolor": "white",
          "polar": {
           "angularaxis": {
            "gridcolor": "#EBF0F8",
            "linecolor": "#EBF0F8",
            "ticks": ""
           },
           "bgcolor": "white",
           "radialaxis": {
            "gridcolor": "#EBF0F8",
            "linecolor": "#EBF0F8",
            "ticks": ""
           }
          },
          "scene": {
           "xaxis": {
            "backgroundcolor": "white",
            "gridcolor": "#DFE8F3",
            "gridwidth": 2,
            "linecolor": "#EBF0F8",
            "showbackground": true,
            "ticks": "",
            "zerolinecolor": "#EBF0F8"
           },
           "yaxis": {
            "backgroundcolor": "white",
            "gridcolor": "#DFE8F3",
            "gridwidth": 2,
            "linecolor": "#EBF0F8",
            "showbackground": true,
            "ticks": "",
            "zerolinecolor": "#EBF0F8"
           },
           "zaxis": {
            "backgroundcolor": "white",
            "gridcolor": "#DFE8F3",
            "gridwidth": 2,
            "linecolor": "#EBF0F8",
            "showbackground": true,
            "ticks": "",
            "zerolinecolor": "#EBF0F8"
           }
          },
          "shapedefaults": {
           "line": {
            "color": "#2a3f5f"
           }
          },
          "ternary": {
           "aaxis": {
            "gridcolor": "#DFE8F3",
            "linecolor": "#A2B1C6",
            "ticks": ""
           },
           "baxis": {
            "gridcolor": "#DFE8F3",
            "linecolor": "#A2B1C6",
            "ticks": ""
           },
           "bgcolor": "white",
           "caxis": {
            "gridcolor": "#DFE8F3",
            "linecolor": "#A2B1C6",
            "ticks": ""
           }
          },
          "title": {
           "x": 0.05
          },
          "xaxis": {
           "automargin": true,
           "gridcolor": "#EBF0F8",
           "linecolor": "#EBF0F8",
           "ticks": "",
           "title": {
            "standoff": 15
           },
           "zerolinecolor": "#EBF0F8",
           "zerolinewidth": 2
          },
          "yaxis": {
           "automargin": true,
           "gridcolor": "#EBF0F8",
           "linecolor": "#EBF0F8",
           "ticks": "",
           "title": {
            "standoff": 15
           },
           "zerolinecolor": "#EBF0F8",
           "zerolinewidth": 2
          }
         }
        },
        "title": {
         "text": "Themenrelevanz nach Klasse (2019-2022)"
        },
        "width": 900,
        "xaxis": {
         "anchor": "y",
         "domain": [
          0,
          1
         ],
         "showgrid": false,
         "title": {
          "text": ""
         }
        },
        "yaxis": {
         "anchor": "x",
         "domain": [
          0,
          1
         ],
         "gridcolor": "rgba(0,0,0,0.1)",
         "gridwidth": 1,
         "showgrid": true,
         "title": {
          "text": "Häufigkeit"
         }
        }
       }
      }
     },
     "metadata": {},
     "output_type": "display_data"
    }
   ],
   "source": [
    "barchart_klasse = create_grouped_barchart(df_u_klassencode, x_col=\"u_klassencode\", y_col=\"relative_count\", color_col=\"CustomName\", color_discrete_sequence=color_discrete_sequence, title=\"Themenrelevanz nach Klasse (2019-2022)\", xaxis_title='', yaxis_title='Häufigkeit', legend_title='Thema', template=template)"
   ]
  },
  {
   "cell_type": "code",
   "execution_count": 26,
   "metadata": {},
   "outputs": [
    {
     "data": {
      "application/vnd.plotly.v1+json": {
       "config": {
        "plotlyServerURL": "https://plot.ly"
       },
       "data": [
        {
         "fill": "none",
         "line": {
          "color": "#003f5c"
         },
         "marker": {
          "size": 4
         },
         "name": "1. Klasse",
         "r": [
          0.034255599472990776,
          0.043478260869565216,
          0.04183135704874835,
          0.02206851119894598,
          0.030467720685111988,
          0.05006587615283267,
          0.029314888010540184,
          0.054677206851119896,
          0.027009222661396576,
          0.17276021080368906,
          0.04743083003952569,
          0.2017457180500659,
          0.042490118577075096,
          0.02355072463768116,
          0.029808959156785244,
          0.04479578392621871,
          0.059947299077733864,
          0.038537549407114624
         ],
         "showlegend": true,
         "theta": [
          "Ausstattung Qualität Rollmaterial",
          "Corona",
          "Fahrplanangebot",
          "Feedback Umfrage",
          "Internet, Wlan und Mobilfunk",
          "Kommerzielle Angebote",
          "Kundeninformation",
          "Lob",
          "Platzangebot Velo, Gepäck, Kinderwagen",
          "Platzangebot Zug",
          "Preis-Leistung",
          "Pünktlichkeit",
          "Raumtemperatur Zug",
          "Sauberkeit Zug und Bahnhof",
          "Security",
          "Sonstiges",
          "Vertrieb und Services",
          "WC Verfügbarkeit und Sauberkeit"
         ],
         "type": "scatterpolar"
        },
        {
         "fill": "none",
         "line": {
          "color": "#58508d"
         },
         "marker": {
          "size": 4
         },
         "name": "2. Klasse",
         "r": [
          0.025971952420234704,
          0.041672210543122486,
          0.07176880704648873,
          0.018068602144814924,
          0.021048990127464806,
          0.02583889938529498,
          0.02432209478698209,
          0.05763857473588973,
          0.053673594294685864,
          0.10077436866334921,
          0.09851246706937385,
          0.18305436547007636,
          0.03187950717155858,
          0.03142712685276351,
          0.032278666276377765,
          0.04917640171372309,
          0.08012453764070358,
          0.044226828813965245
         ],
         "showlegend": true,
         "theta": [
          "Ausstattung Qualität Rollmaterial",
          "Corona",
          "Fahrplanangebot",
          "Feedback Umfrage",
          "Internet, Wlan und Mobilfunk",
          "Kommerzielle Angebote",
          "Kundeninformation",
          "Lob",
          "Platzangebot Velo, Gepäck, Kinderwagen",
          "Platzangebot Zug",
          "Preis-Leistung",
          "Pünktlichkeit",
          "Raumtemperatur Zug",
          "Sauberkeit Zug und Bahnhof",
          "Security",
          "Sonstiges",
          "Vertrieb und Services",
          "WC Verfügbarkeit und Sauberkeit"
         ],
         "type": "scatterpolar"
        }
       ],
       "layout": {
        "height": 450,
        "legend": {
         "title": {
          "text": "Gruppe"
         }
        },
        "polar": {
         "angularaxis": {
          "gridcolor": "rgba(0,0,0,0.1)",
          "showticklabels": true,
          "tickfont": {
           "size": 10
          },
          "tickmode": "linear",
          "visible": true
         },
         "radialaxis": {
          "gridcolor": "rgba(0,0,0,0.1)",
          "gridwidth": 1,
          "range": [
           0,
           0.2017457180500659
          ],
          "showgrid": true,
          "visible": true
         }
        },
        "showlegend": true,
        "template": {
         "data": {
          "bar": [
           {
            "error_x": {
             "color": "#2a3f5f"
            },
            "error_y": {
             "color": "#2a3f5f"
            },
            "marker": {
             "line": {
              "color": "white",
              "width": 0.5
             },
             "pattern": {
              "fillmode": "overlay",
              "size": 10,
              "solidity": 0.2
             }
            },
            "type": "bar"
           }
          ],
          "barpolar": [
           {
            "marker": {
             "line": {
              "color": "white",
              "width": 0.5
             },
             "pattern": {
              "fillmode": "overlay",
              "size": 10,
              "solidity": 0.2
             }
            },
            "type": "barpolar"
           }
          ],
          "carpet": [
           {
            "aaxis": {
             "endlinecolor": "#2a3f5f",
             "gridcolor": "#C8D4E3",
             "linecolor": "#C8D4E3",
             "minorgridcolor": "#C8D4E3",
             "startlinecolor": "#2a3f5f"
            },
            "baxis": {
             "endlinecolor": "#2a3f5f",
             "gridcolor": "#C8D4E3",
             "linecolor": "#C8D4E3",
             "minorgridcolor": "#C8D4E3",
             "startlinecolor": "#2a3f5f"
            },
            "type": "carpet"
           }
          ],
          "choropleth": [
           {
            "colorbar": {
             "outlinewidth": 0,
             "ticks": ""
            },
            "type": "choropleth"
           }
          ],
          "contour": [
           {
            "colorbar": {
             "outlinewidth": 0,
             "ticks": ""
            },
            "colorscale": [
             [
              0,
              "#0d0887"
             ],
             [
              0.1111111111111111,
              "#46039f"
             ],
             [
              0.2222222222222222,
              "#7201a8"
             ],
             [
              0.3333333333333333,
              "#9c179e"
             ],
             [
              0.4444444444444444,
              "#bd3786"
             ],
             [
              0.5555555555555556,
              "#d8576b"
             ],
             [
              0.6666666666666666,
              "#ed7953"
             ],
             [
              0.7777777777777778,
              "#fb9f3a"
             ],
             [
              0.8888888888888888,
              "#fdca26"
             ],
             [
              1,
              "#f0f921"
             ]
            ],
            "type": "contour"
           }
          ],
          "contourcarpet": [
           {
            "colorbar": {
             "outlinewidth": 0,
             "ticks": ""
            },
            "type": "contourcarpet"
           }
          ],
          "heatmap": [
           {
            "colorbar": {
             "outlinewidth": 0,
             "ticks": ""
            },
            "colorscale": [
             [
              0,
              "#0d0887"
             ],
             [
              0.1111111111111111,
              "#46039f"
             ],
             [
              0.2222222222222222,
              "#7201a8"
             ],
             [
              0.3333333333333333,
              "#9c179e"
             ],
             [
              0.4444444444444444,
              "#bd3786"
             ],
             [
              0.5555555555555556,
              "#d8576b"
             ],
             [
              0.6666666666666666,
              "#ed7953"
             ],
             [
              0.7777777777777778,
              "#fb9f3a"
             ],
             [
              0.8888888888888888,
              "#fdca26"
             ],
             [
              1,
              "#f0f921"
             ]
            ],
            "type": "heatmap"
           }
          ],
          "heatmapgl": [
           {
            "colorbar": {
             "outlinewidth": 0,
             "ticks": ""
            },
            "colorscale": [
             [
              0,
              "#0d0887"
             ],
             [
              0.1111111111111111,
              "#46039f"
             ],
             [
              0.2222222222222222,
              "#7201a8"
             ],
             [
              0.3333333333333333,
              "#9c179e"
             ],
             [
              0.4444444444444444,
              "#bd3786"
             ],
             [
              0.5555555555555556,
              "#d8576b"
             ],
             [
              0.6666666666666666,
              "#ed7953"
             ],
             [
              0.7777777777777778,
              "#fb9f3a"
             ],
             [
              0.8888888888888888,
              "#fdca26"
             ],
             [
              1,
              "#f0f921"
             ]
            ],
            "type": "heatmapgl"
           }
          ],
          "histogram": [
           {
            "marker": {
             "pattern": {
              "fillmode": "overlay",
              "size": 10,
              "solidity": 0.2
             }
            },
            "type": "histogram"
           }
          ],
          "histogram2d": [
           {
            "colorbar": {
             "outlinewidth": 0,
             "ticks": ""
            },
            "colorscale": [
             [
              0,
              "#0d0887"
             ],
             [
              0.1111111111111111,
              "#46039f"
             ],
             [
              0.2222222222222222,
              "#7201a8"
             ],
             [
              0.3333333333333333,
              "#9c179e"
             ],
             [
              0.4444444444444444,
              "#bd3786"
             ],
             [
              0.5555555555555556,
              "#d8576b"
             ],
             [
              0.6666666666666666,
              "#ed7953"
             ],
             [
              0.7777777777777778,
              "#fb9f3a"
             ],
             [
              0.8888888888888888,
              "#fdca26"
             ],
             [
              1,
              "#f0f921"
             ]
            ],
            "type": "histogram2d"
           }
          ],
          "histogram2dcontour": [
           {
            "colorbar": {
             "outlinewidth": 0,
             "ticks": ""
            },
            "colorscale": [
             [
              0,
              "#0d0887"
             ],
             [
              0.1111111111111111,
              "#46039f"
             ],
             [
              0.2222222222222222,
              "#7201a8"
             ],
             [
              0.3333333333333333,
              "#9c179e"
             ],
             [
              0.4444444444444444,
              "#bd3786"
             ],
             [
              0.5555555555555556,
              "#d8576b"
             ],
             [
              0.6666666666666666,
              "#ed7953"
             ],
             [
              0.7777777777777778,
              "#fb9f3a"
             ],
             [
              0.8888888888888888,
              "#fdca26"
             ],
             [
              1,
              "#f0f921"
             ]
            ],
            "type": "histogram2dcontour"
           }
          ],
          "mesh3d": [
           {
            "colorbar": {
             "outlinewidth": 0,
             "ticks": ""
            },
            "type": "mesh3d"
           }
          ],
          "parcoords": [
           {
            "line": {
             "colorbar": {
              "outlinewidth": 0,
              "ticks": ""
             }
            },
            "type": "parcoords"
           }
          ],
          "pie": [
           {
            "automargin": true,
            "type": "pie"
           }
          ],
          "scatter": [
           {
            "fillpattern": {
             "fillmode": "overlay",
             "size": 10,
             "solidity": 0.2
            },
            "type": "scatter"
           }
          ],
          "scatter3d": [
           {
            "line": {
             "colorbar": {
              "outlinewidth": 0,
              "ticks": ""
             }
            },
            "marker": {
             "colorbar": {
              "outlinewidth": 0,
              "ticks": ""
             }
            },
            "type": "scatter3d"
           }
          ],
          "scattercarpet": [
           {
            "marker": {
             "colorbar": {
              "outlinewidth": 0,
              "ticks": ""
             }
            },
            "type": "scattercarpet"
           }
          ],
          "scattergeo": [
           {
            "marker": {
             "colorbar": {
              "outlinewidth": 0,
              "ticks": ""
             }
            },
            "type": "scattergeo"
           }
          ],
          "scattergl": [
           {
            "marker": {
             "colorbar": {
              "outlinewidth": 0,
              "ticks": ""
             }
            },
            "type": "scattergl"
           }
          ],
          "scattermapbox": [
           {
            "marker": {
             "colorbar": {
              "outlinewidth": 0,
              "ticks": ""
             }
            },
            "type": "scattermapbox"
           }
          ],
          "scatterpolar": [
           {
            "marker": {
             "colorbar": {
              "outlinewidth": 0,
              "ticks": ""
             }
            },
            "type": "scatterpolar"
           }
          ],
          "scatterpolargl": [
           {
            "marker": {
             "colorbar": {
              "outlinewidth": 0,
              "ticks": ""
             }
            },
            "type": "scatterpolargl"
           }
          ],
          "scatterternary": [
           {
            "marker": {
             "colorbar": {
              "outlinewidth": 0,
              "ticks": ""
             }
            },
            "type": "scatterternary"
           }
          ],
          "surface": [
           {
            "colorbar": {
             "outlinewidth": 0,
             "ticks": ""
            },
            "colorscale": [
             [
              0,
              "#0d0887"
             ],
             [
              0.1111111111111111,
              "#46039f"
             ],
             [
              0.2222222222222222,
              "#7201a8"
             ],
             [
              0.3333333333333333,
              "#9c179e"
             ],
             [
              0.4444444444444444,
              "#bd3786"
             ],
             [
              0.5555555555555556,
              "#d8576b"
             ],
             [
              0.6666666666666666,
              "#ed7953"
             ],
             [
              0.7777777777777778,
              "#fb9f3a"
             ],
             [
              0.8888888888888888,
              "#fdca26"
             ],
             [
              1,
              "#f0f921"
             ]
            ],
            "type": "surface"
           }
          ],
          "table": [
           {
            "cells": {
             "fill": {
              "color": "#EBF0F8"
             },
             "line": {
              "color": "white"
             }
            },
            "header": {
             "fill": {
              "color": "#C8D4E3"
             },
             "line": {
              "color": "white"
             }
            },
            "type": "table"
           }
          ]
         },
         "layout": {
          "annotationdefaults": {
           "arrowcolor": "#2a3f5f",
           "arrowhead": 0,
           "arrowwidth": 1
          },
          "autotypenumbers": "strict",
          "coloraxis": {
           "colorbar": {
            "outlinewidth": 0,
            "ticks": ""
           }
          },
          "colorscale": {
           "diverging": [
            [
             0,
             "#8e0152"
            ],
            [
             0.1,
             "#c51b7d"
            ],
            [
             0.2,
             "#de77ae"
            ],
            [
             0.3,
             "#f1b6da"
            ],
            [
             0.4,
             "#fde0ef"
            ],
            [
             0.5,
             "#f7f7f7"
            ],
            [
             0.6,
             "#e6f5d0"
            ],
            [
             0.7,
             "#b8e186"
            ],
            [
             0.8,
             "#7fbc41"
            ],
            [
             0.9,
             "#4d9221"
            ],
            [
             1,
             "#276419"
            ]
           ],
           "sequential": [
            [
             0,
             "#0d0887"
            ],
            [
             0.1111111111111111,
             "#46039f"
            ],
            [
             0.2222222222222222,
             "#7201a8"
            ],
            [
             0.3333333333333333,
             "#9c179e"
            ],
            [
             0.4444444444444444,
             "#bd3786"
            ],
            [
             0.5555555555555556,
             "#d8576b"
            ],
            [
             0.6666666666666666,
             "#ed7953"
            ],
            [
             0.7777777777777778,
             "#fb9f3a"
            ],
            [
             0.8888888888888888,
             "#fdca26"
            ],
            [
             1,
             "#f0f921"
            ]
           ],
           "sequentialminus": [
            [
             0,
             "#0d0887"
            ],
            [
             0.1111111111111111,
             "#46039f"
            ],
            [
             0.2222222222222222,
             "#7201a8"
            ],
            [
             0.3333333333333333,
             "#9c179e"
            ],
            [
             0.4444444444444444,
             "#bd3786"
            ],
            [
             0.5555555555555556,
             "#d8576b"
            ],
            [
             0.6666666666666666,
             "#ed7953"
            ],
            [
             0.7777777777777778,
             "#fb9f3a"
            ],
            [
             0.8888888888888888,
             "#fdca26"
            ],
            [
             1,
             "#f0f921"
            ]
           ]
          },
          "colorway": [
           "#636efa",
           "#EF553B",
           "#00cc96",
           "#ab63fa",
           "#FFA15A",
           "#19d3f3",
           "#FF6692",
           "#B6E880",
           "#FF97FF",
           "#FECB52"
          ],
          "font": {
           "color": "#2a3f5f"
          },
          "geo": {
           "bgcolor": "white",
           "lakecolor": "white",
           "landcolor": "white",
           "showlakes": true,
           "showland": true,
           "subunitcolor": "#C8D4E3"
          },
          "hoverlabel": {
           "align": "left"
          },
          "hovermode": "closest",
          "mapbox": {
           "style": "light"
          },
          "paper_bgcolor": "white",
          "plot_bgcolor": "white",
          "polar": {
           "angularaxis": {
            "gridcolor": "#EBF0F8",
            "linecolor": "#EBF0F8",
            "ticks": ""
           },
           "bgcolor": "white",
           "radialaxis": {
            "gridcolor": "#EBF0F8",
            "linecolor": "#EBF0F8",
            "ticks": ""
           }
          },
          "scene": {
           "xaxis": {
            "backgroundcolor": "white",
            "gridcolor": "#DFE8F3",
            "gridwidth": 2,
            "linecolor": "#EBF0F8",
            "showbackground": true,
            "ticks": "",
            "zerolinecolor": "#EBF0F8"
           },
           "yaxis": {
            "backgroundcolor": "white",
            "gridcolor": "#DFE8F3",
            "gridwidth": 2,
            "linecolor": "#EBF0F8",
            "showbackground": true,
            "ticks": "",
            "zerolinecolor": "#EBF0F8"
           },
           "zaxis": {
            "backgroundcolor": "white",
            "gridcolor": "#DFE8F3",
            "gridwidth": 2,
            "linecolor": "#EBF0F8",
            "showbackground": true,
            "ticks": "",
            "zerolinecolor": "#EBF0F8"
           }
          },
          "shapedefaults": {
           "line": {
            "color": "#2a3f5f"
           }
          },
          "ternary": {
           "aaxis": {
            "gridcolor": "#DFE8F3",
            "linecolor": "#A2B1C6",
            "ticks": ""
           },
           "baxis": {
            "gridcolor": "#DFE8F3",
            "linecolor": "#A2B1C6",
            "ticks": ""
           },
           "bgcolor": "white",
           "caxis": {
            "gridcolor": "#DFE8F3",
            "linecolor": "#A2B1C6",
            "ticks": ""
           }
          },
          "title": {
           "x": 0.05
          },
          "xaxis": {
           "automargin": true,
           "gridcolor": "#EBF0F8",
           "linecolor": "#EBF0F8",
           "ticks": "",
           "title": {
            "standoff": 15
           },
           "zerolinecolor": "#EBF0F8",
           "zerolinewidth": 2
          },
          "yaxis": {
           "automargin": true,
           "gridcolor": "#EBF0F8",
           "linecolor": "#EBF0F8",
           "ticks": "",
           "title": {
            "standoff": 15
           },
           "zerolinecolor": "#EBF0F8",
           "zerolinewidth": 2
          }
         }
        },
        "title": {
         "text": "Themenrelevanz nach Klasse (2019-2022)"
        },
        "width": 900,
        "xaxis": {
         "title": {
          "text": ""
         }
        },
        "yaxis": {
         "title": {
          "text": "Häufigkeit"
         }
        }
       }
      }
     },
     "metadata": {},
     "output_type": "display_data"
    }
   ],
   "source": [
    "create_grouped_radar(df_u_klassencode, x_col=\"CustomName\", y_col=\"relative_count\", color_col=\"u_klassencode\", color_discrete_sequence=color_discrete_sequence, title=\"Themenrelevanz nach Klasse (2019-2022)\", xaxis_title='', yaxis_title='Häufigkeit', legend_title='Gruppe', template=template)"
   ]
  },
  {
   "cell_type": "code",
   "execution_count": 27,
   "metadata": {},
   "outputs": [
    {
     "data": {
      "application/vnd.plotly.v1+json": {
       "config": {
        "plotlyServerURL": "https://plot.ly"
       },
       "data": [
        {
         "alignmentgroup": "True",
         "customdata": [
          [
           "Ausstattung Qualität Rollmaterial"
          ],
          [
           "Ausstattung Qualität Rollmaterial"
          ],
          [
           "Ausstattung Qualität Rollmaterial"
          ]
         ],
         "hovertemplate": "CustomName=%{customdata[0]}<br>R_zweck=%{x}<br>relative_count=%{y}<extra></extra>",
         "legendgroup": "Ausstattung Qualität Rollmaterial",
         "marker": {
          "color": "#003f5c",
          "pattern": {
           "shape": ""
          }
         },
         "name": "Ausstattung Qualität Rollmaterial",
         "offsetgroup": "Ausstattung Qualität Rollmaterial",
         "orientation": "v",
         "showlegend": true,
         "textposition": "auto",
         "type": "bar",
         "x": [
          "Sonstige",
          "Freizeit und Unterhaltung",
          "Arbeit und Lernen"
         ],
         "xaxis": "x",
         "y": [
          0.02073019801980198,
          0.027559889760440957,
          0.02857777448730288
         ],
         "yaxis": "y"
        },
        {
         "alignmentgroup": "True",
         "customdata": [
          [
           "Corona"
          ],
          [
           "Corona"
          ],
          [
           "Corona"
          ]
         ],
         "hovertemplate": "CustomName=%{customdata[0]}<br>R_zweck=%{x}<br>relative_count=%{y}<extra></extra>",
         "legendgroup": "Corona",
         "marker": {
          "color": "#58508d",
          "pattern": {
           "shape": ""
          }
         },
         "name": "Corona",
         "offsetgroup": "Corona",
         "orientation": "v",
         "showlegend": true,
         "textposition": "auto",
         "type": "bar",
         "x": [
          "Sonstige",
          "Freizeit und Unterhaltung",
          "Arbeit und Lernen"
         ],
         "xaxis": "x",
         "y": [
          0.03125,
          0.04254116316868066,
          0.039905234322943656
         ],
         "yaxis": "y"
        },
        {
         "alignmentgroup": "True",
         "customdata": [
          [
           "Fahrplanangebot"
          ],
          [
           "Fahrplanangebot"
          ],
          [
           "Fahrplanangebot"
          ]
         ],
         "hovertemplate": "CustomName=%{customdata[0]}<br>R_zweck=%{x}<br>relative_count=%{y}<extra></extra>",
         "legendgroup": "Fahrplanangebot",
         "marker": {
          "color": "#bc5090",
          "pattern": {
           "shape": ""
          }
         },
         "name": "Fahrplanangebot",
         "offsetgroup": "Fahrplanangebot",
         "orientation": "v",
         "showlegend": true,
         "textposition": "auto",
         "type": "bar",
         "x": [
          "Sonstige",
          "Freizeit und Unterhaltung",
          "Arbeit und Lernen"
         ],
         "xaxis": "x",
         "y": [
          0.06466584158415842,
          0.06836972652109391,
          0.06515140297623455
         ],
         "yaxis": "y"
        },
        {
         "alignmentgroup": "True",
         "customdata": [
          [
           "Feedback Umfrage"
          ],
          [
           "Feedback Umfrage"
          ],
          [
           "Feedback Umfrage"
          ]
         ],
         "hovertemplate": "CustomName=%{customdata[0]}<br>R_zweck=%{x}<br>relative_count=%{y}<extra></extra>",
         "legendgroup": "Feedback Umfrage",
         "marker": {
          "color": "#ff6361",
          "pattern": {
           "shape": ""
          }
         },
         "name": "Feedback Umfrage",
         "offsetgroup": "Feedback Umfrage",
         "orientation": "v",
         "showlegend": true,
         "textposition": "auto",
         "type": "bar",
         "x": [
          "Sonstige",
          "Freizeit und Unterhaltung",
          "Arbeit und Lernen"
         ],
         "xaxis": "x",
         "y": [
          0.019183168316831683,
          0.018797258144300756,
          0.018434885614866364
         ],
         "yaxis": "y"
        },
        {
         "alignmentgroup": "True",
         "customdata": [
          [
           "Internet, Wlan und Mobilfunk"
          ],
          [
           "Internet, Wlan und Mobilfunk"
          ],
          [
           "Internet, Wlan und Mobilfunk"
          ]
         ],
         "hovertemplate": "CustomName=%{customdata[0]}<br>R_zweck=%{x}<br>relative_count=%{y}<extra></extra>",
         "legendgroup": "Internet, Wlan und Mobilfunk",
         "marker": {
          "color": "#ffa600",
          "pattern": {
           "shape": ""
          }
         },
         "name": "Internet, Wlan und Mobilfunk",
         "offsetgroup": "Internet, Wlan und Mobilfunk",
         "orientation": "v",
         "showlegend": true,
         "textposition": "auto",
         "type": "bar",
         "x": [
          "Sonstige",
          "Freizeit und Unterhaltung",
          "Arbeit und Lernen"
         ],
         "xaxis": "x",
         "y": [
          0.012066831683168317,
          0.01922125644830754,
          0.031094987784111943
         ],
         "yaxis": "y"
        },
        {
         "alignmentgroup": "True",
         "customdata": [
          [
           "Kommerzielle Angebote"
          ],
          [
           "Kommerzielle Angebote"
          ],
          [
           "Kommerzielle Angebote"
          ]
         ],
         "hovertemplate": "CustomName=%{customdata[0]}<br>R_zweck=%{x}<br>relative_count=%{y}<extra></extra>",
         "legendgroup": "Kommerzielle Angebote",
         "marker": {
          "color": "#ff7c43",
          "pattern": {
           "shape": ""
          }
         },
         "name": "Kommerzielle Angebote",
         "offsetgroup": "Kommerzielle Angebote",
         "orientation": "v",
         "showlegend": true,
         "textposition": "auto",
         "type": "bar",
         "x": [
          "Sonstige",
          "Freizeit und Unterhaltung",
          "Arbeit und Lernen"
         ],
         "xaxis": "x",
         "y": [
          0.022586633663366336,
          0.030881209808494098,
          0.02731916783889835
         ],
         "yaxis": "y"
        },
        {
         "alignmentgroup": "True",
         "customdata": [
          [
           "Kundeninformation"
          ],
          [
           "Kundeninformation"
          ],
          [
           "Kundeninformation"
          ]
         ],
         "hovertemplate": "CustomName=%{customdata[0]}<br>R_zweck=%{x}<br>relative_count=%{y}<extra></extra>",
         "legendgroup": "Kundeninformation",
         "marker": {
          "color": "#ffdc00",
          "pattern": {
           "shape": ""
          }
         },
         "name": "Kundeninformation",
         "offsetgroup": "Kundeninformation",
         "orientation": "v",
         "showlegend": true,
         "textposition": "auto",
         "type": "bar",
         "x": [
          "Sonstige",
          "Freizeit und Unterhaltung",
          "Arbeit und Lernen"
         ],
         "xaxis": "x",
         "y": [
          0.03094059405940594,
          0.025227899088403647,
          0.023617383578885022
         ],
         "yaxis": "y"
        },
        {
         "alignmentgroup": "True",
         "customdata": [
          [
           "Lob"
          ],
          [
           "Lob"
          ],
          [
           "Lob"
          ]
         ],
         "hovertemplate": "CustomName=%{customdata[0]}<br>R_zweck=%{x}<br>relative_count=%{y}<extra></extra>",
         "legendgroup": "Lob",
         "marker": {
          "color": "#00a2ff",
          "pattern": {
           "shape": ""
          }
         },
         "name": "Lob",
         "offsetgroup": "Lob",
         "orientation": "v",
         "showlegend": true,
         "textposition": "auto",
         "type": "bar",
         "x": [
          "Sonstige",
          "Freizeit und Unterhaltung",
          "Arbeit und Lernen"
         ],
         "xaxis": "x",
         "y": [
          0.05847772277227723,
          0.05932442936894919,
          0.05182497964018657
         ],
         "yaxis": "y"
        },
        {
         "alignmentgroup": "True",
         "customdata": [
          [
           "Platzangebot Velo, Gepäck, Kinderwagen"
          ],
          [
           "Platzangebot Velo, Gepäck, Kinderwagen"
          ],
          [
           "Platzangebot Velo, Gepäck, Kinderwagen"
          ]
         ],
         "hovertemplate": "CustomName=%{customdata[0]}<br>R_zweck=%{x}<br>relative_count=%{y}<extra></extra>",
         "legendgroup": "Platzangebot Velo, Gepäck, Kinderwagen",
         "marker": {
          "color": "#7fdbff",
          "pattern": {
           "shape": ""
          }
         },
         "name": "Platzangebot Velo, Gepäck, Kinderwagen",
         "offsetgroup": "Platzangebot Velo, Gepäck, Kinderwagen",
         "orientation": "v",
         "showlegend": true,
         "textposition": "auto",
         "type": "bar",
         "x": [
          "Sonstige",
          "Freizeit und Unterhaltung",
          "Arbeit und Lernen"
         ],
         "xaxis": "x",
         "y": [
          0.024443069306930694,
          0.06536640520104586,
          0.022654919671281557
         ],
         "yaxis": "y"
        },
        {
         "alignmentgroup": "True",
         "customdata": [
          [
           "Platzangebot Zug"
          ],
          [
           "Platzangebot Zug"
          ],
          [
           "Platzangebot Zug"
          ]
         ],
         "hovertemplate": "CustomName=%{customdata[0]}<br>R_zweck=%{x}<br>relative_count=%{y}<extra></extra>",
         "legendgroup": "Platzangebot Zug",
         "marker": {
          "color": "#e8c547",
          "pattern": {
           "shape": ""
          }
         },
         "name": "Platzangebot Zug",
         "offsetgroup": "Platzangebot Zug",
         "orientation": "v",
         "showlegend": true,
         "textposition": "auto",
         "type": "bar",
         "x": [
          "Sonstige",
          "Freizeit und Unterhaltung",
          "Arbeit und Lernen"
         ],
         "xaxis": "x",
         "y": [
          0.10488861386138613,
          0.10317292064165076,
          0.13800251721329682
         ],
         "yaxis": "y"
        },
        {
         "alignmentgroup": "True",
         "customdata": [
          [
           "Preis-Leistung"
          ],
          [
           "Preis-Leistung"
          ],
          [
           "Preis-Leistung"
          ]
         ],
         "hovertemplate": "CustomName=%{customdata[0]}<br>R_zweck=%{x}<br>relative_count=%{y}<extra></extra>",
         "legendgroup": "Preis-Leistung",
         "marker": {
          "color": "#55b2d2",
          "pattern": {
           "shape": ""
          }
         },
         "name": "Preis-Leistung",
         "offsetgroup": "Preis-Leistung",
         "orientation": "v",
         "showlegend": true,
         "textposition": "auto",
         "type": "bar",
         "x": [
          "Sonstige",
          "Freizeit und Unterhaltung",
          "Arbeit und Lernen"
         ],
         "xaxis": "x",
         "y": [
          0.09591584158415842,
          0.09151296728146421,
          0.08928703635152144
         ],
         "yaxis": "y"
        },
        {
         "alignmentgroup": "True",
         "customdata": [
          [
           "Pünktlichkeit"
          ],
          [
           "Pünktlichkeit"
          ],
          [
           "Pünktlichkeit"
          ]
         ],
         "hovertemplate": "CustomName=%{customdata[0]}<br>R_zweck=%{x}<br>relative_count=%{y}<extra></extra>",
         "legendgroup": "Pünktlichkeit",
         "marker": {
          "color": "#7fcdbb",
          "pattern": {
           "shape": ""
          }
         },
         "name": "Pünktlichkeit",
         "offsetgroup": "Pünktlichkeit",
         "orientation": "v",
         "showlegend": true,
         "textposition": "auto",
         "type": "bar",
         "x": [
          "Sonstige",
          "Freizeit und Unterhaltung",
          "Arbeit und Lernen"
         ],
         "xaxis": "x",
         "y": [
          0.18533415841584158,
          0.16878665818670058,
          0.21951580661879025
         ],
         "yaxis": "y"
        },
        {
         "alignmentgroup": "True",
         "customdata": [
          [
           "Raumtemperatur Zug"
          ],
          [
           "Raumtemperatur Zug"
          ],
          [
           "Raumtemperatur Zug"
          ]
         ],
         "hovertemplate": "CustomName=%{customdata[0]}<br>R_zweck=%{x}<br>relative_count=%{y}<extra></extra>",
         "legendgroup": "Raumtemperatur Zug",
         "marker": {
          "color": "#5a5a5a",
          "pattern": {
           "shape": ""
          }
         },
         "name": "Raumtemperatur Zug",
         "offsetgroup": "Raumtemperatur Zug",
         "orientation": "v",
         "showlegend": true,
         "textposition": "auto",
         "type": "bar",
         "x": [
          "Sonstige",
          "Freizeit und Unterhaltung",
          "Arbeit und Lernen"
         ],
         "xaxis": "x",
         "y": [
          0.03217821782178218,
          0.03268320260052293,
          0.03413045087732287
         ],
         "yaxis": "y"
        },
        {
         "alignmentgroup": "True",
         "customdata": [
          [
           "Sauberkeit Zug und Bahnhof"
          ],
          [
           "Sauberkeit Zug und Bahnhof"
          ],
          [
           "Sauberkeit Zug und Bahnhof"
          ]
         ],
         "hovertemplate": "CustomName=%{customdata[0]}<br>R_zweck=%{x}<br>relative_count=%{y}<extra></extra>",
         "legendgroup": "Sauberkeit Zug und Bahnhof",
         "marker": {
          "color": "#9c9c9c",
          "pattern": {
           "shape": ""
          }
         },
         "name": "Sauberkeit Zug und Bahnhof",
         "offsetgroup": "Sauberkeit Zug und Bahnhof",
         "orientation": "v",
         "showlegend": true,
         "textposition": "auto",
         "type": "bar",
         "x": [
          "Sonstige",
          "Freizeit und Unterhaltung",
          "Arbeit und Lernen"
         ],
         "xaxis": "x",
         "y": [
          0.04207920792079208,
          0.02837255317645396,
          0.03190938032131487
         ],
         "yaxis": "y"
        },
        {
         "alignmentgroup": "True",
         "customdata": [
          [
           "Security"
          ],
          [
           "Security"
          ],
          [
           "Security"
          ]
         ],
         "hovertemplate": "CustomName=%{customdata[0]}<br>R_zweck=%{x}<br>relative_count=%{y}<extra></extra>",
         "legendgroup": "Security",
         "marker": {
          "color": "#c9c9c9",
          "pattern": {
           "shape": ""
          }
         },
         "name": "Security",
         "offsetgroup": "Security",
         "orientation": "v",
         "showlegend": true,
         "textposition": "auto",
         "type": "bar",
         "x": [
          "Sonstige",
          "Freizeit und Unterhaltung",
          "Arbeit und Lernen"
         ],
         "xaxis": "x",
         "y": [
          0.039913366336633664,
          0.03215320472051445,
          0.03005848819130821
         ],
         "yaxis": "y"
        },
        {
         "alignmentgroup": "True",
         "customdata": [
          [
           "Sonstiges"
          ],
          [
           "Sonstiges"
          ],
          [
           "Sonstiges"
          ]
         ],
         "hovertemplate": "CustomName=%{customdata[0]}<br>R_zweck=%{x}<br>relative_count=%{y}<extra></extra>",
         "legendgroup": "Sonstiges",
         "marker": {
          "color": "#ef476f",
          "pattern": {
           "shape": ""
          }
         },
         "name": "Sonstiges",
         "offsetgroup": "Sonstiges",
         "orientation": "v",
         "showlegend": true,
         "textposition": "auto",
         "type": "bar",
         "x": [
          "Sonstige",
          "Freizeit und Unterhaltung",
          "Arbeit und Lernen"
         ],
         "xaxis": "x",
         "y": [
          0.07425742574257425,
          0.04960780156879373,
          0.039905234322943656
         ],
         "yaxis": "y"
        },
        {
         "alignmentgroup": "True",
         "customdata": [
          [
           "Vertrieb und Services"
          ],
          [
           "Vertrieb und Services"
          ],
          [
           "Vertrieb und Services"
          ]
         ],
         "hovertemplate": "CustomName=%{customdata[0]}<br>R_zweck=%{x}<br>relative_count=%{y}<extra></extra>",
         "legendgroup": "Vertrieb und Services",
         "marker": {
          "color": "#6b5b95",
          "pattern": {
           "shape": ""
          }
         },
         "name": "Vertrieb und Services",
         "offsetgroup": "Vertrieb und Services",
         "orientation": "v",
         "showlegend": true,
         "textposition": "auto",
         "type": "bar",
         "x": [
          "Sonstige",
          "Freizeit und Unterhaltung",
          "Arbeit und Lernen"
         ],
         "xaxis": "x",
         "y": [
          0.07889851485148515,
          0.08190233905731044,
          0.06670615236544014
         ],
         "yaxis": "y"
        },
        {
         "alignmentgroup": "True",
         "customdata": [
          [
           "WC Verfügbarkeit und Sauberkeit"
          ],
          [
           "WC Verfügbarkeit und Sauberkeit"
          ],
          [
           "WC Verfügbarkeit und Sauberkeit"
          ]
         ],
         "hovertemplate": "CustomName=%{customdata[0]}<br>R_zweck=%{x}<br>relative_count=%{y}<extra></extra>",
         "legendgroup": "WC Verfügbarkeit und Sauberkeit",
         "marker": {
          "color": "#b565a7",
          "pattern": {
           "shape": ""
          }
         },
         "name": "WC Verfügbarkeit und Sauberkeit",
         "offsetgroup": "WC Verfügbarkeit und Sauberkeit",
         "orientation": "v",
         "showlegend": true,
         "textposition": "auto",
         "type": "bar",
         "x": [
          "Sonstige",
          "Freizeit und Unterhaltung",
          "Arbeit und Lernen"
         ],
         "xaxis": "x",
         "y": [
          0.05136138613861386,
          0.04656914705674511,
          0.034500629303324204
         ],
         "yaxis": "y"
        }
       ],
       "layout": {
        "barmode": "group",
        "height": 450,
        "legend": {
         "title": {
          "text": "Thema"
         },
         "tracegroupgap": 0
        },
        "margin": {
         "t": 60
        },
        "template": {
         "data": {
          "bar": [
           {
            "error_x": {
             "color": "#2a3f5f"
            },
            "error_y": {
             "color": "#2a3f5f"
            },
            "marker": {
             "line": {
              "color": "white",
              "width": 0.5
             },
             "pattern": {
              "fillmode": "overlay",
              "size": 10,
              "solidity": 0.2
             }
            },
            "type": "bar"
           }
          ],
          "barpolar": [
           {
            "marker": {
             "line": {
              "color": "white",
              "width": 0.5
             },
             "pattern": {
              "fillmode": "overlay",
              "size": 10,
              "solidity": 0.2
             }
            },
            "type": "barpolar"
           }
          ],
          "carpet": [
           {
            "aaxis": {
             "endlinecolor": "#2a3f5f",
             "gridcolor": "#C8D4E3",
             "linecolor": "#C8D4E3",
             "minorgridcolor": "#C8D4E3",
             "startlinecolor": "#2a3f5f"
            },
            "baxis": {
             "endlinecolor": "#2a3f5f",
             "gridcolor": "#C8D4E3",
             "linecolor": "#C8D4E3",
             "minorgridcolor": "#C8D4E3",
             "startlinecolor": "#2a3f5f"
            },
            "type": "carpet"
           }
          ],
          "choropleth": [
           {
            "colorbar": {
             "outlinewidth": 0,
             "ticks": ""
            },
            "type": "choropleth"
           }
          ],
          "contour": [
           {
            "colorbar": {
             "outlinewidth": 0,
             "ticks": ""
            },
            "colorscale": [
             [
              0,
              "#0d0887"
             ],
             [
              0.1111111111111111,
              "#46039f"
             ],
             [
              0.2222222222222222,
              "#7201a8"
             ],
             [
              0.3333333333333333,
              "#9c179e"
             ],
             [
              0.4444444444444444,
              "#bd3786"
             ],
             [
              0.5555555555555556,
              "#d8576b"
             ],
             [
              0.6666666666666666,
              "#ed7953"
             ],
             [
              0.7777777777777778,
              "#fb9f3a"
             ],
             [
              0.8888888888888888,
              "#fdca26"
             ],
             [
              1,
              "#f0f921"
             ]
            ],
            "type": "contour"
           }
          ],
          "contourcarpet": [
           {
            "colorbar": {
             "outlinewidth": 0,
             "ticks": ""
            },
            "type": "contourcarpet"
           }
          ],
          "heatmap": [
           {
            "colorbar": {
             "outlinewidth": 0,
             "ticks": ""
            },
            "colorscale": [
             [
              0,
              "#0d0887"
             ],
             [
              0.1111111111111111,
              "#46039f"
             ],
             [
              0.2222222222222222,
              "#7201a8"
             ],
             [
              0.3333333333333333,
              "#9c179e"
             ],
             [
              0.4444444444444444,
              "#bd3786"
             ],
             [
              0.5555555555555556,
              "#d8576b"
             ],
             [
              0.6666666666666666,
              "#ed7953"
             ],
             [
              0.7777777777777778,
              "#fb9f3a"
             ],
             [
              0.8888888888888888,
              "#fdca26"
             ],
             [
              1,
              "#f0f921"
             ]
            ],
            "type": "heatmap"
           }
          ],
          "heatmapgl": [
           {
            "colorbar": {
             "outlinewidth": 0,
             "ticks": ""
            },
            "colorscale": [
             [
              0,
              "#0d0887"
             ],
             [
              0.1111111111111111,
              "#46039f"
             ],
             [
              0.2222222222222222,
              "#7201a8"
             ],
             [
              0.3333333333333333,
              "#9c179e"
             ],
             [
              0.4444444444444444,
              "#bd3786"
             ],
             [
              0.5555555555555556,
              "#d8576b"
             ],
             [
              0.6666666666666666,
              "#ed7953"
             ],
             [
              0.7777777777777778,
              "#fb9f3a"
             ],
             [
              0.8888888888888888,
              "#fdca26"
             ],
             [
              1,
              "#f0f921"
             ]
            ],
            "type": "heatmapgl"
           }
          ],
          "histogram": [
           {
            "marker": {
             "pattern": {
              "fillmode": "overlay",
              "size": 10,
              "solidity": 0.2
             }
            },
            "type": "histogram"
           }
          ],
          "histogram2d": [
           {
            "colorbar": {
             "outlinewidth": 0,
             "ticks": ""
            },
            "colorscale": [
             [
              0,
              "#0d0887"
             ],
             [
              0.1111111111111111,
              "#46039f"
             ],
             [
              0.2222222222222222,
              "#7201a8"
             ],
             [
              0.3333333333333333,
              "#9c179e"
             ],
             [
              0.4444444444444444,
              "#bd3786"
             ],
             [
              0.5555555555555556,
              "#d8576b"
             ],
             [
              0.6666666666666666,
              "#ed7953"
             ],
             [
              0.7777777777777778,
              "#fb9f3a"
             ],
             [
              0.8888888888888888,
              "#fdca26"
             ],
             [
              1,
              "#f0f921"
             ]
            ],
            "type": "histogram2d"
           }
          ],
          "histogram2dcontour": [
           {
            "colorbar": {
             "outlinewidth": 0,
             "ticks": ""
            },
            "colorscale": [
             [
              0,
              "#0d0887"
             ],
             [
              0.1111111111111111,
              "#46039f"
             ],
             [
              0.2222222222222222,
              "#7201a8"
             ],
             [
              0.3333333333333333,
              "#9c179e"
             ],
             [
              0.4444444444444444,
              "#bd3786"
             ],
             [
              0.5555555555555556,
              "#d8576b"
             ],
             [
              0.6666666666666666,
              "#ed7953"
             ],
             [
              0.7777777777777778,
              "#fb9f3a"
             ],
             [
              0.8888888888888888,
              "#fdca26"
             ],
             [
              1,
              "#f0f921"
             ]
            ],
            "type": "histogram2dcontour"
           }
          ],
          "mesh3d": [
           {
            "colorbar": {
             "outlinewidth": 0,
             "ticks": ""
            },
            "type": "mesh3d"
           }
          ],
          "parcoords": [
           {
            "line": {
             "colorbar": {
              "outlinewidth": 0,
              "ticks": ""
             }
            },
            "type": "parcoords"
           }
          ],
          "pie": [
           {
            "automargin": true,
            "type": "pie"
           }
          ],
          "scatter": [
           {
            "fillpattern": {
             "fillmode": "overlay",
             "size": 10,
             "solidity": 0.2
            },
            "type": "scatter"
           }
          ],
          "scatter3d": [
           {
            "line": {
             "colorbar": {
              "outlinewidth": 0,
              "ticks": ""
             }
            },
            "marker": {
             "colorbar": {
              "outlinewidth": 0,
              "ticks": ""
             }
            },
            "type": "scatter3d"
           }
          ],
          "scattercarpet": [
           {
            "marker": {
             "colorbar": {
              "outlinewidth": 0,
              "ticks": ""
             }
            },
            "type": "scattercarpet"
           }
          ],
          "scattergeo": [
           {
            "marker": {
             "colorbar": {
              "outlinewidth": 0,
              "ticks": ""
             }
            },
            "type": "scattergeo"
           }
          ],
          "scattergl": [
           {
            "marker": {
             "colorbar": {
              "outlinewidth": 0,
              "ticks": ""
             }
            },
            "type": "scattergl"
           }
          ],
          "scattermapbox": [
           {
            "marker": {
             "colorbar": {
              "outlinewidth": 0,
              "ticks": ""
             }
            },
            "type": "scattermapbox"
           }
          ],
          "scatterpolar": [
           {
            "marker": {
             "colorbar": {
              "outlinewidth": 0,
              "ticks": ""
             }
            },
            "type": "scatterpolar"
           }
          ],
          "scatterpolargl": [
           {
            "marker": {
             "colorbar": {
              "outlinewidth": 0,
              "ticks": ""
             }
            },
            "type": "scatterpolargl"
           }
          ],
          "scatterternary": [
           {
            "marker": {
             "colorbar": {
              "outlinewidth": 0,
              "ticks": ""
             }
            },
            "type": "scatterternary"
           }
          ],
          "surface": [
           {
            "colorbar": {
             "outlinewidth": 0,
             "ticks": ""
            },
            "colorscale": [
             [
              0,
              "#0d0887"
             ],
             [
              0.1111111111111111,
              "#46039f"
             ],
             [
              0.2222222222222222,
              "#7201a8"
             ],
             [
              0.3333333333333333,
              "#9c179e"
             ],
             [
              0.4444444444444444,
              "#bd3786"
             ],
             [
              0.5555555555555556,
              "#d8576b"
             ],
             [
              0.6666666666666666,
              "#ed7953"
             ],
             [
              0.7777777777777778,
              "#fb9f3a"
             ],
             [
              0.8888888888888888,
              "#fdca26"
             ],
             [
              1,
              "#f0f921"
             ]
            ],
            "type": "surface"
           }
          ],
          "table": [
           {
            "cells": {
             "fill": {
              "color": "#EBF0F8"
             },
             "line": {
              "color": "white"
             }
            },
            "header": {
             "fill": {
              "color": "#C8D4E3"
             },
             "line": {
              "color": "white"
             }
            },
            "type": "table"
           }
          ]
         },
         "layout": {
          "annotationdefaults": {
           "arrowcolor": "#2a3f5f",
           "arrowhead": 0,
           "arrowwidth": 1
          },
          "autotypenumbers": "strict",
          "coloraxis": {
           "colorbar": {
            "outlinewidth": 0,
            "ticks": ""
           }
          },
          "colorscale": {
           "diverging": [
            [
             0,
             "#8e0152"
            ],
            [
             0.1,
             "#c51b7d"
            ],
            [
             0.2,
             "#de77ae"
            ],
            [
             0.3,
             "#f1b6da"
            ],
            [
             0.4,
             "#fde0ef"
            ],
            [
             0.5,
             "#f7f7f7"
            ],
            [
             0.6,
             "#e6f5d0"
            ],
            [
             0.7,
             "#b8e186"
            ],
            [
             0.8,
             "#7fbc41"
            ],
            [
             0.9,
             "#4d9221"
            ],
            [
             1,
             "#276419"
            ]
           ],
           "sequential": [
            [
             0,
             "#0d0887"
            ],
            [
             0.1111111111111111,
             "#46039f"
            ],
            [
             0.2222222222222222,
             "#7201a8"
            ],
            [
             0.3333333333333333,
             "#9c179e"
            ],
            [
             0.4444444444444444,
             "#bd3786"
            ],
            [
             0.5555555555555556,
             "#d8576b"
            ],
            [
             0.6666666666666666,
             "#ed7953"
            ],
            [
             0.7777777777777778,
             "#fb9f3a"
            ],
            [
             0.8888888888888888,
             "#fdca26"
            ],
            [
             1,
             "#f0f921"
            ]
           ],
           "sequentialminus": [
            [
             0,
             "#0d0887"
            ],
            [
             0.1111111111111111,
             "#46039f"
            ],
            [
             0.2222222222222222,
             "#7201a8"
            ],
            [
             0.3333333333333333,
             "#9c179e"
            ],
            [
             0.4444444444444444,
             "#bd3786"
            ],
            [
             0.5555555555555556,
             "#d8576b"
            ],
            [
             0.6666666666666666,
             "#ed7953"
            ],
            [
             0.7777777777777778,
             "#fb9f3a"
            ],
            [
             0.8888888888888888,
             "#fdca26"
            ],
            [
             1,
             "#f0f921"
            ]
           ]
          },
          "colorway": [
           "#636efa",
           "#EF553B",
           "#00cc96",
           "#ab63fa",
           "#FFA15A",
           "#19d3f3",
           "#FF6692",
           "#B6E880",
           "#FF97FF",
           "#FECB52"
          ],
          "font": {
           "color": "#2a3f5f"
          },
          "geo": {
           "bgcolor": "white",
           "lakecolor": "white",
           "landcolor": "white",
           "showlakes": true,
           "showland": true,
           "subunitcolor": "#C8D4E3"
          },
          "hoverlabel": {
           "align": "left"
          },
          "hovermode": "closest",
          "mapbox": {
           "style": "light"
          },
          "paper_bgcolor": "white",
          "plot_bgcolor": "white",
          "polar": {
           "angularaxis": {
            "gridcolor": "#EBF0F8",
            "linecolor": "#EBF0F8",
            "ticks": ""
           },
           "bgcolor": "white",
           "radialaxis": {
            "gridcolor": "#EBF0F8",
            "linecolor": "#EBF0F8",
            "ticks": ""
           }
          },
          "scene": {
           "xaxis": {
            "backgroundcolor": "white",
            "gridcolor": "#DFE8F3",
            "gridwidth": 2,
            "linecolor": "#EBF0F8",
            "showbackground": true,
            "ticks": "",
            "zerolinecolor": "#EBF0F8"
           },
           "yaxis": {
            "backgroundcolor": "white",
            "gridcolor": "#DFE8F3",
            "gridwidth": 2,
            "linecolor": "#EBF0F8",
            "showbackground": true,
            "ticks": "",
            "zerolinecolor": "#EBF0F8"
           },
           "zaxis": {
            "backgroundcolor": "white",
            "gridcolor": "#DFE8F3",
            "gridwidth": 2,
            "linecolor": "#EBF0F8",
            "showbackground": true,
            "ticks": "",
            "zerolinecolor": "#EBF0F8"
           }
          },
          "shapedefaults": {
           "line": {
            "color": "#2a3f5f"
           }
          },
          "ternary": {
           "aaxis": {
            "gridcolor": "#DFE8F3",
            "linecolor": "#A2B1C6",
            "ticks": ""
           },
           "baxis": {
            "gridcolor": "#DFE8F3",
            "linecolor": "#A2B1C6",
            "ticks": ""
           },
           "bgcolor": "white",
           "caxis": {
            "gridcolor": "#DFE8F3",
            "linecolor": "#A2B1C6",
            "ticks": ""
           }
          },
          "title": {
           "x": 0.05
          },
          "xaxis": {
           "automargin": true,
           "gridcolor": "#EBF0F8",
           "linecolor": "#EBF0F8",
           "ticks": "",
           "title": {
            "standoff": 15
           },
           "zerolinecolor": "#EBF0F8",
           "zerolinewidth": 2
          },
          "yaxis": {
           "automargin": true,
           "gridcolor": "#EBF0F8",
           "linecolor": "#EBF0F8",
           "ticks": "",
           "title": {
            "standoff": 15
           },
           "zerolinecolor": "#EBF0F8",
           "zerolinewidth": 2
          }
         }
        },
        "title": {
         "text": "Themenrelevanz nach Reisezweck (2019-2022)"
        },
        "width": 900,
        "xaxis": {
         "anchor": "y",
         "domain": [
          0,
          1
         ],
         "showgrid": false,
         "title": {
          "text": ""
         }
        },
        "yaxis": {
         "anchor": "x",
         "domain": [
          0,
          1
         ],
         "gridcolor": "rgba(0,0,0,0.1)",
         "gridwidth": 1,
         "showgrid": true,
         "title": {
          "text": "Häufigkeit"
         }
        }
       }
      }
     },
     "metadata": {},
     "output_type": "display_data"
    }
   ],
   "source": [
    "barchart_Reisezweck = create_grouped_barchart(df_R_zweck , x_col=\"R_zweck\", y_col=\"relative_count\", color_col=\"CustomName\", color_discrete_sequence=color_discrete_sequence, title=\"Themenrelevanz nach Reisezweck (2019-2022)\", xaxis_title='', yaxis_title='Häufigkeit', legend_title='Thema', template=template)"
   ]
  },
  {
   "cell_type": "code",
   "execution_count": 28,
   "metadata": {},
   "outputs": [
    {
     "data": {
      "application/vnd.plotly.v1+json": {
       "config": {
        "plotlyServerURL": "https://plot.ly"
       },
       "data": [
        {
         "fill": "none",
         "line": {
          "color": "#003f5c"
         },
         "marker": {
          "size": 4
         },
         "name": "Sonstige",
         "r": [
          0.02073019801980198,
          0.03125,
          0.06466584158415842,
          0.019183168316831683,
          0.012066831683168317,
          0.022586633663366336,
          0.03094059405940594,
          0.05847772277227723,
          0.024443069306930694,
          0.10488861386138613,
          0.09591584158415842,
          0.18533415841584158,
          0.03217821782178218,
          0.04207920792079208,
          0.039913366336633664,
          0.07425742574257425,
          0.07889851485148515,
          0.05136138613861386
         ],
         "showlegend": true,
         "theta": [
          "Ausstattung Qualität Rollmaterial",
          "Corona",
          "Fahrplanangebot",
          "Feedback Umfrage",
          "Internet, Wlan und Mobilfunk",
          "Kommerzielle Angebote",
          "Kundeninformation",
          "Lob",
          "Platzangebot Velo, Gepäck, Kinderwagen",
          "Platzangebot Zug",
          "Preis-Leistung",
          "Pünktlichkeit",
          "Raumtemperatur Zug",
          "Sauberkeit Zug und Bahnhof",
          "Security",
          "Sonstiges",
          "Vertrieb und Services",
          "WC Verfügbarkeit und Sauberkeit"
         ],
         "type": "scatterpolar"
        },
        {
         "fill": "none",
         "line": {
          "color": "#58508d"
         },
         "marker": {
          "size": 4
         },
         "name": "Freizeit und Unterhaltung",
         "r": [
          0.027559889760440957,
          0.04254116316868066,
          0.06836972652109391,
          0.018797258144300756,
          0.01922125644830754,
          0.030881209808494098,
          0.025227899088403647,
          0.05932442936894919,
          0.06536640520104586,
          0.10317292064165076,
          0.09151296728146421,
          0.16878665818670058,
          0.03268320260052293,
          0.02837255317645396,
          0.03215320472051445,
          0.04960780156879373,
          0.08190233905731044,
          0.04656914705674511
         ],
         "showlegend": true,
         "theta": [
          "Ausstattung Qualität Rollmaterial",
          "Corona",
          "Fahrplanangebot",
          "Feedback Umfrage",
          "Internet, Wlan und Mobilfunk",
          "Kommerzielle Angebote",
          "Kundeninformation",
          "Lob",
          "Platzangebot Velo, Gepäck, Kinderwagen",
          "Platzangebot Zug",
          "Preis-Leistung",
          "Pünktlichkeit",
          "Raumtemperatur Zug",
          "Sauberkeit Zug und Bahnhof",
          "Security",
          "Sonstiges",
          "Vertrieb und Services",
          "WC Verfügbarkeit und Sauberkeit"
         ],
         "type": "scatterpolar"
        },
        {
         "fill": "none",
         "line": {
          "color": "#bc5090"
         },
         "marker": {
          "size": 4
         },
         "name": "Arbeit und Lernen",
         "r": [
          0.02857777448730288,
          0.039905234322943656,
          0.06515140297623455,
          0.018434885614866364,
          0.031094987784111943,
          0.02731916783889835,
          0.023617383578885022,
          0.05182497964018657,
          0.022654919671281557,
          0.13800251721329682,
          0.08928703635152144,
          0.21951580661879025,
          0.03413045087732287,
          0.03190938032131487,
          0.03005848819130821,
          0.039905234322943656,
          0.06670615236544014,
          0.034500629303324204
         ],
         "showlegend": true,
         "theta": [
          "Ausstattung Qualität Rollmaterial",
          "Corona",
          "Fahrplanangebot",
          "Feedback Umfrage",
          "Internet, Wlan und Mobilfunk",
          "Kommerzielle Angebote",
          "Kundeninformation",
          "Lob",
          "Platzangebot Velo, Gepäck, Kinderwagen",
          "Platzangebot Zug",
          "Preis-Leistung",
          "Pünktlichkeit",
          "Raumtemperatur Zug",
          "Sauberkeit Zug und Bahnhof",
          "Security",
          "Sonstiges",
          "Vertrieb und Services",
          "WC Verfügbarkeit und Sauberkeit"
         ],
         "type": "scatterpolar"
        }
       ],
       "layout": {
        "height": 450,
        "legend": {
         "title": {
          "text": "Gruppe"
         }
        },
        "polar": {
         "angularaxis": {
          "gridcolor": "rgba(0,0,0,0.1)",
          "showticklabels": true,
          "tickfont": {
           "size": 10
          },
          "tickmode": "linear",
          "visible": true
         },
         "radialaxis": {
          "gridcolor": "rgba(0,0,0,0.1)",
          "gridwidth": 1,
          "range": [
           0,
           0.21951580661879025
          ],
          "showgrid": true,
          "visible": true
         }
        },
        "showlegend": true,
        "template": {
         "data": {
          "bar": [
           {
            "error_x": {
             "color": "#2a3f5f"
            },
            "error_y": {
             "color": "#2a3f5f"
            },
            "marker": {
             "line": {
              "color": "white",
              "width": 0.5
             },
             "pattern": {
              "fillmode": "overlay",
              "size": 10,
              "solidity": 0.2
             }
            },
            "type": "bar"
           }
          ],
          "barpolar": [
           {
            "marker": {
             "line": {
              "color": "white",
              "width": 0.5
             },
             "pattern": {
              "fillmode": "overlay",
              "size": 10,
              "solidity": 0.2
             }
            },
            "type": "barpolar"
           }
          ],
          "carpet": [
           {
            "aaxis": {
             "endlinecolor": "#2a3f5f",
             "gridcolor": "#C8D4E3",
             "linecolor": "#C8D4E3",
             "minorgridcolor": "#C8D4E3",
             "startlinecolor": "#2a3f5f"
            },
            "baxis": {
             "endlinecolor": "#2a3f5f",
             "gridcolor": "#C8D4E3",
             "linecolor": "#C8D4E3",
             "minorgridcolor": "#C8D4E3",
             "startlinecolor": "#2a3f5f"
            },
            "type": "carpet"
           }
          ],
          "choropleth": [
           {
            "colorbar": {
             "outlinewidth": 0,
             "ticks": ""
            },
            "type": "choropleth"
           }
          ],
          "contour": [
           {
            "colorbar": {
             "outlinewidth": 0,
             "ticks": ""
            },
            "colorscale": [
             [
              0,
              "#0d0887"
             ],
             [
              0.1111111111111111,
              "#46039f"
             ],
             [
              0.2222222222222222,
              "#7201a8"
             ],
             [
              0.3333333333333333,
              "#9c179e"
             ],
             [
              0.4444444444444444,
              "#bd3786"
             ],
             [
              0.5555555555555556,
              "#d8576b"
             ],
             [
              0.6666666666666666,
              "#ed7953"
             ],
             [
              0.7777777777777778,
              "#fb9f3a"
             ],
             [
              0.8888888888888888,
              "#fdca26"
             ],
             [
              1,
              "#f0f921"
             ]
            ],
            "type": "contour"
           }
          ],
          "contourcarpet": [
           {
            "colorbar": {
             "outlinewidth": 0,
             "ticks": ""
            },
            "type": "contourcarpet"
           }
          ],
          "heatmap": [
           {
            "colorbar": {
             "outlinewidth": 0,
             "ticks": ""
            },
            "colorscale": [
             [
              0,
              "#0d0887"
             ],
             [
              0.1111111111111111,
              "#46039f"
             ],
             [
              0.2222222222222222,
              "#7201a8"
             ],
             [
              0.3333333333333333,
              "#9c179e"
             ],
             [
              0.4444444444444444,
              "#bd3786"
             ],
             [
              0.5555555555555556,
              "#d8576b"
             ],
             [
              0.6666666666666666,
              "#ed7953"
             ],
             [
              0.7777777777777778,
              "#fb9f3a"
             ],
             [
              0.8888888888888888,
              "#fdca26"
             ],
             [
              1,
              "#f0f921"
             ]
            ],
            "type": "heatmap"
           }
          ],
          "heatmapgl": [
           {
            "colorbar": {
             "outlinewidth": 0,
             "ticks": ""
            },
            "colorscale": [
             [
              0,
              "#0d0887"
             ],
             [
              0.1111111111111111,
              "#46039f"
             ],
             [
              0.2222222222222222,
              "#7201a8"
             ],
             [
              0.3333333333333333,
              "#9c179e"
             ],
             [
              0.4444444444444444,
              "#bd3786"
             ],
             [
              0.5555555555555556,
              "#d8576b"
             ],
             [
              0.6666666666666666,
              "#ed7953"
             ],
             [
              0.7777777777777778,
              "#fb9f3a"
             ],
             [
              0.8888888888888888,
              "#fdca26"
             ],
             [
              1,
              "#f0f921"
             ]
            ],
            "type": "heatmapgl"
           }
          ],
          "histogram": [
           {
            "marker": {
             "pattern": {
              "fillmode": "overlay",
              "size": 10,
              "solidity": 0.2
             }
            },
            "type": "histogram"
           }
          ],
          "histogram2d": [
           {
            "colorbar": {
             "outlinewidth": 0,
             "ticks": ""
            },
            "colorscale": [
             [
              0,
              "#0d0887"
             ],
             [
              0.1111111111111111,
              "#46039f"
             ],
             [
              0.2222222222222222,
              "#7201a8"
             ],
             [
              0.3333333333333333,
              "#9c179e"
             ],
             [
              0.4444444444444444,
              "#bd3786"
             ],
             [
              0.5555555555555556,
              "#d8576b"
             ],
             [
              0.6666666666666666,
              "#ed7953"
             ],
             [
              0.7777777777777778,
              "#fb9f3a"
             ],
             [
              0.8888888888888888,
              "#fdca26"
             ],
             [
              1,
              "#f0f921"
             ]
            ],
            "type": "histogram2d"
           }
          ],
          "histogram2dcontour": [
           {
            "colorbar": {
             "outlinewidth": 0,
             "ticks": ""
            },
            "colorscale": [
             [
              0,
              "#0d0887"
             ],
             [
              0.1111111111111111,
              "#46039f"
             ],
             [
              0.2222222222222222,
              "#7201a8"
             ],
             [
              0.3333333333333333,
              "#9c179e"
             ],
             [
              0.4444444444444444,
              "#bd3786"
             ],
             [
              0.5555555555555556,
              "#d8576b"
             ],
             [
              0.6666666666666666,
              "#ed7953"
             ],
             [
              0.7777777777777778,
              "#fb9f3a"
             ],
             [
              0.8888888888888888,
              "#fdca26"
             ],
             [
              1,
              "#f0f921"
             ]
            ],
            "type": "histogram2dcontour"
           }
          ],
          "mesh3d": [
           {
            "colorbar": {
             "outlinewidth": 0,
             "ticks": ""
            },
            "type": "mesh3d"
           }
          ],
          "parcoords": [
           {
            "line": {
             "colorbar": {
              "outlinewidth": 0,
              "ticks": ""
             }
            },
            "type": "parcoords"
           }
          ],
          "pie": [
           {
            "automargin": true,
            "type": "pie"
           }
          ],
          "scatter": [
           {
            "fillpattern": {
             "fillmode": "overlay",
             "size": 10,
             "solidity": 0.2
            },
            "type": "scatter"
           }
          ],
          "scatter3d": [
           {
            "line": {
             "colorbar": {
              "outlinewidth": 0,
              "ticks": ""
             }
            },
            "marker": {
             "colorbar": {
              "outlinewidth": 0,
              "ticks": ""
             }
            },
            "type": "scatter3d"
           }
          ],
          "scattercarpet": [
           {
            "marker": {
             "colorbar": {
              "outlinewidth": 0,
              "ticks": ""
             }
            },
            "type": "scattercarpet"
           }
          ],
          "scattergeo": [
           {
            "marker": {
             "colorbar": {
              "outlinewidth": 0,
              "ticks": ""
             }
            },
            "type": "scattergeo"
           }
          ],
          "scattergl": [
           {
            "marker": {
             "colorbar": {
              "outlinewidth": 0,
              "ticks": ""
             }
            },
            "type": "scattergl"
           }
          ],
          "scattermapbox": [
           {
            "marker": {
             "colorbar": {
              "outlinewidth": 0,
              "ticks": ""
             }
            },
            "type": "scattermapbox"
           }
          ],
          "scatterpolar": [
           {
            "marker": {
             "colorbar": {
              "outlinewidth": 0,
              "ticks": ""
             }
            },
            "type": "scatterpolar"
           }
          ],
          "scatterpolargl": [
           {
            "marker": {
             "colorbar": {
              "outlinewidth": 0,
              "ticks": ""
             }
            },
            "type": "scatterpolargl"
           }
          ],
          "scatterternary": [
           {
            "marker": {
             "colorbar": {
              "outlinewidth": 0,
              "ticks": ""
             }
            },
            "type": "scatterternary"
           }
          ],
          "surface": [
           {
            "colorbar": {
             "outlinewidth": 0,
             "ticks": ""
            },
            "colorscale": [
             [
              0,
              "#0d0887"
             ],
             [
              0.1111111111111111,
              "#46039f"
             ],
             [
              0.2222222222222222,
              "#7201a8"
             ],
             [
              0.3333333333333333,
              "#9c179e"
             ],
             [
              0.4444444444444444,
              "#bd3786"
             ],
             [
              0.5555555555555556,
              "#d8576b"
             ],
             [
              0.6666666666666666,
              "#ed7953"
             ],
             [
              0.7777777777777778,
              "#fb9f3a"
             ],
             [
              0.8888888888888888,
              "#fdca26"
             ],
             [
              1,
              "#f0f921"
             ]
            ],
            "type": "surface"
           }
          ],
          "table": [
           {
            "cells": {
             "fill": {
              "color": "#EBF0F8"
             },
             "line": {
              "color": "white"
             }
            },
            "header": {
             "fill": {
              "color": "#C8D4E3"
             },
             "line": {
              "color": "white"
             }
            },
            "type": "table"
           }
          ]
         },
         "layout": {
          "annotationdefaults": {
           "arrowcolor": "#2a3f5f",
           "arrowhead": 0,
           "arrowwidth": 1
          },
          "autotypenumbers": "strict",
          "coloraxis": {
           "colorbar": {
            "outlinewidth": 0,
            "ticks": ""
           }
          },
          "colorscale": {
           "diverging": [
            [
             0,
             "#8e0152"
            ],
            [
             0.1,
             "#c51b7d"
            ],
            [
             0.2,
             "#de77ae"
            ],
            [
             0.3,
             "#f1b6da"
            ],
            [
             0.4,
             "#fde0ef"
            ],
            [
             0.5,
             "#f7f7f7"
            ],
            [
             0.6,
             "#e6f5d0"
            ],
            [
             0.7,
             "#b8e186"
            ],
            [
             0.8,
             "#7fbc41"
            ],
            [
             0.9,
             "#4d9221"
            ],
            [
             1,
             "#276419"
            ]
           ],
           "sequential": [
            [
             0,
             "#0d0887"
            ],
            [
             0.1111111111111111,
             "#46039f"
            ],
            [
             0.2222222222222222,
             "#7201a8"
            ],
            [
             0.3333333333333333,
             "#9c179e"
            ],
            [
             0.4444444444444444,
             "#bd3786"
            ],
            [
             0.5555555555555556,
             "#d8576b"
            ],
            [
             0.6666666666666666,
             "#ed7953"
            ],
            [
             0.7777777777777778,
             "#fb9f3a"
            ],
            [
             0.8888888888888888,
             "#fdca26"
            ],
            [
             1,
             "#f0f921"
            ]
           ],
           "sequentialminus": [
            [
             0,
             "#0d0887"
            ],
            [
             0.1111111111111111,
             "#46039f"
            ],
            [
             0.2222222222222222,
             "#7201a8"
            ],
            [
             0.3333333333333333,
             "#9c179e"
            ],
            [
             0.4444444444444444,
             "#bd3786"
            ],
            [
             0.5555555555555556,
             "#d8576b"
            ],
            [
             0.6666666666666666,
             "#ed7953"
            ],
            [
             0.7777777777777778,
             "#fb9f3a"
            ],
            [
             0.8888888888888888,
             "#fdca26"
            ],
            [
             1,
             "#f0f921"
            ]
           ]
          },
          "colorway": [
           "#636efa",
           "#EF553B",
           "#00cc96",
           "#ab63fa",
           "#FFA15A",
           "#19d3f3",
           "#FF6692",
           "#B6E880",
           "#FF97FF",
           "#FECB52"
          ],
          "font": {
           "color": "#2a3f5f"
          },
          "geo": {
           "bgcolor": "white",
           "lakecolor": "white",
           "landcolor": "white",
           "showlakes": true,
           "showland": true,
           "subunitcolor": "#C8D4E3"
          },
          "hoverlabel": {
           "align": "left"
          },
          "hovermode": "closest",
          "mapbox": {
           "style": "light"
          },
          "paper_bgcolor": "white",
          "plot_bgcolor": "white",
          "polar": {
           "angularaxis": {
            "gridcolor": "#EBF0F8",
            "linecolor": "#EBF0F8",
            "ticks": ""
           },
           "bgcolor": "white",
           "radialaxis": {
            "gridcolor": "#EBF0F8",
            "linecolor": "#EBF0F8",
            "ticks": ""
           }
          },
          "scene": {
           "xaxis": {
            "backgroundcolor": "white",
            "gridcolor": "#DFE8F3",
            "gridwidth": 2,
            "linecolor": "#EBF0F8",
            "showbackground": true,
            "ticks": "",
            "zerolinecolor": "#EBF0F8"
           },
           "yaxis": {
            "backgroundcolor": "white",
            "gridcolor": "#DFE8F3",
            "gridwidth": 2,
            "linecolor": "#EBF0F8",
            "showbackground": true,
            "ticks": "",
            "zerolinecolor": "#EBF0F8"
           },
           "zaxis": {
            "backgroundcolor": "white",
            "gridcolor": "#DFE8F3",
            "gridwidth": 2,
            "linecolor": "#EBF0F8",
            "showbackground": true,
            "ticks": "",
            "zerolinecolor": "#EBF0F8"
           }
          },
          "shapedefaults": {
           "line": {
            "color": "#2a3f5f"
           }
          },
          "ternary": {
           "aaxis": {
            "gridcolor": "#DFE8F3",
            "linecolor": "#A2B1C6",
            "ticks": ""
           },
           "baxis": {
            "gridcolor": "#DFE8F3",
            "linecolor": "#A2B1C6",
            "ticks": ""
           },
           "bgcolor": "white",
           "caxis": {
            "gridcolor": "#DFE8F3",
            "linecolor": "#A2B1C6",
            "ticks": ""
           }
          },
          "title": {
           "x": 0.05
          },
          "xaxis": {
           "automargin": true,
           "gridcolor": "#EBF0F8",
           "linecolor": "#EBF0F8",
           "ticks": "",
           "title": {
            "standoff": 15
           },
           "zerolinecolor": "#EBF0F8",
           "zerolinewidth": 2
          },
          "yaxis": {
           "automargin": true,
           "gridcolor": "#EBF0F8",
           "linecolor": "#EBF0F8",
           "ticks": "",
           "title": {
            "standoff": 15
           },
           "zerolinecolor": "#EBF0F8",
           "zerolinewidth": 2
          }
         }
        },
        "title": {
         "text": "Themenrelevanz nach Reisezweck (2019-2022)"
        },
        "width": 900,
        "xaxis": {
         "title": {
          "text": ""
         }
        },
        "yaxis": {
         "title": {
          "text": "Häufigkeit"
         }
        }
       }
      }
     },
     "metadata": {},
     "output_type": "display_data"
    }
   ],
   "source": [
    "create_grouped_radar(df_R_zweck, x_col=\"CustomName\", y_col=\"relative_count\", color_col=\"R_zweck\", color_discrete_sequence=color_discrete_sequence, title=\"Themenrelevanz nach Reisezweck (2019-2022)\", xaxis_title='', yaxis_title='Häufigkeit', legend_title='Gruppe', template=template)"
   ]
  },
  {
   "cell_type": "code",
   "execution_count": 29,
   "metadata": {},
   "outputs": [
    {
     "data": {
      "application/vnd.plotly.v1+json": {
       "config": {
        "plotlyServerURL": "https://plot.ly"
       },
       "data": [
        {
         "alignmentgroup": "True",
         "customdata": [
          [
           "Ausstattung Qualität Rollmaterial"
          ],
          [
           "Ausstattung Qualität Rollmaterial"
          ],
          [
           "Ausstattung Qualität Rollmaterial"
          ],
          [
           "Ausstattung Qualität Rollmaterial"
          ]
         ],
         "hovertemplate": "CustomName=%{customdata[0]}<br>time_diff_grouped=%{x}<br>relative_count=%{y}<extra></extra>",
         "legendgroup": "Ausstattung Qualität Rollmaterial",
         "marker": {
          "color": "#003f5c",
          "pattern": {
           "shape": ""
          }
         },
         "name": "Ausstattung Qualität Rollmaterial",
         "offsetgroup": "Ausstattung Qualität Rollmaterial",
         "orientation": "v",
         "showlegend": true,
         "textposition": "auto",
         "type": "bar",
         "x": [
          "bis 15 Minuten",
          "16 bis 60 Minuten",
          "60 bis 180 Minuten",
          "Mehr als 180 Minuten"
         ],
         "xaxis": "x",
         "y": [
          0.02002035968781812,
          0.024665216893670596,
          0.03123901066697925,
          0.034317637669592976
         ],
         "yaxis": "y"
        },
        {
         "alignmentgroup": "True",
         "customdata": [
          [
           "Corona"
          ],
          [
           "Corona"
          ],
          [
           "Corona"
          ],
          [
           "Corona"
          ]
         ],
         "hovertemplate": "CustomName=%{customdata[0]}<br>time_diff_grouped=%{x}<br>relative_count=%{y}<extra></extra>",
         "legendgroup": "Corona",
         "marker": {
          "color": "#58508d",
          "pattern": {
           "shape": ""
          }
         },
         "name": "Corona",
         "offsetgroup": "Corona",
         "orientation": "v",
         "showlegend": true,
         "textposition": "auto",
         "type": "bar",
         "x": [
          "bis 15 Minuten",
          "16 bis 60 Minuten",
          "60 bis 180 Minuten",
          "Mehr als 180 Minuten"
         ],
         "xaxis": "x",
         "y": [
          0.05972175093315236,
          0.04612567242760673,
          0.03200093775641777,
          0.023942537909018357
         ],
         "yaxis": "y"
        },
        {
         "alignmentgroup": "True",
         "customdata": [
          [
           "Fahrplanangebot"
          ],
          [
           "Fahrplanangebot"
          ],
          [
           "Fahrplanangebot"
          ],
          [
           "Fahrplanangebot"
          ]
         ],
         "hovertemplate": "CustomName=%{customdata[0]}<br>time_diff_grouped=%{x}<br>relative_count=%{y}<extra></extra>",
         "legendgroup": "Fahrplanangebot",
         "marker": {
          "color": "#bc5090",
          "pattern": {
           "shape": ""
          }
         },
         "name": "Fahrplanangebot",
         "offsetgroup": "Fahrplanangebot",
         "orientation": "v",
         "showlegend": true,
         "textposition": "auto",
         "type": "bar",
         "x": [
          "bis 15 Minuten",
          "16 bis 60 Minuten",
          "60 bis 180 Minuten",
          "Mehr als 180 Minuten"
         ],
         "xaxis": "x",
         "y": [
          0.07091957923311842,
          0.0726794094082637,
          0.05421404290235611,
          0.06424581005586592
         ],
         "yaxis": "y"
        },
        {
         "alignmentgroup": "True",
         "customdata": [
          [
           "Feedback Umfrage"
          ],
          [
           "Feedback Umfrage"
          ],
          [
           "Feedback Umfrage"
          ],
          [
           "Feedback Umfrage"
          ]
         ],
         "hovertemplate": "CustomName=%{customdata[0]}<br>time_diff_grouped=%{x}<br>relative_count=%{y}<extra></extra>",
         "legendgroup": "Feedback Umfrage",
         "marker": {
          "color": "#ff6361",
          "pattern": {
           "shape": ""
          }
         },
         "name": "Feedback Umfrage",
         "offsetgroup": "Feedback Umfrage",
         "orientation": "v",
         "showlegend": true,
         "textposition": "auto",
         "type": "bar",
         "x": [
          "bis 15 Minuten",
          "16 bis 60 Minuten",
          "60 bis 180 Minuten",
          "Mehr als 180 Minuten"
         ],
         "xaxis": "x",
         "y": [
          0.02477095351204615,
          0.01842737781847316,
          0.01863790880318837,
          0.019154030327214685
         ],
         "yaxis": "y"
        },
        {
         "alignmentgroup": "True",
         "customdata": [
          [
           "Internet, Wlan und Mobilfunk"
          ],
          [
           "Internet, Wlan und Mobilfunk"
          ],
          [
           "Internet, Wlan und Mobilfunk"
          ],
          [
           "Internet, Wlan und Mobilfunk"
          ]
         ],
         "hovertemplate": "CustomName=%{customdata[0]}<br>time_diff_grouped=%{x}<br>relative_count=%{y}<extra></extra>",
         "legendgroup": "Internet, Wlan und Mobilfunk",
         "marker": {
          "color": "#ffa600",
          "pattern": {
           "shape": ""
          }
         },
         "name": "Internet, Wlan und Mobilfunk",
         "offsetgroup": "Internet, Wlan und Mobilfunk",
         "orientation": "v",
         "showlegend": true,
         "textposition": "auto",
         "type": "bar",
         "x": [
          "bis 15 Minuten",
          "16 bis 60 Minuten",
          "60 bis 180 Minuten",
          "Mehr als 180 Minuten"
         ],
         "xaxis": "x",
         "y": [
          0.015609093993892093,
          0.018770745107016137,
          0.027487984995897316,
          0.03312051077414206
         ],
         "yaxis": "y"
        },
        {
         "alignmentgroup": "True",
         "customdata": [
          [
           "Kommerzielle Angebote"
          ],
          [
           "Kommerzielle Angebote"
          ],
          [
           "Kommerzielle Angebote"
          ],
          [
           "Kommerzielle Angebote"
          ]
         ],
         "hovertemplate": "CustomName=%{customdata[0]}<br>time_diff_grouped=%{x}<br>relative_count=%{y}<extra></extra>",
         "legendgroup": "Kommerzielle Angebote",
         "marker": {
          "color": "#ff7c43",
          "pattern": {
           "shape": ""
          }
         },
         "name": "Kommerzielle Angebote",
         "offsetgroup": "Kommerzielle Angebote",
         "orientation": "v",
         "showlegend": true,
         "textposition": "auto",
         "type": "bar",
         "x": [
          "bis 15 Minuten",
          "16 bis 60 Minuten",
          "60 bis 180 Minuten",
          "Mehr als 180 Minuten"
         ],
         "xaxis": "x",
         "y": [
          0.008822531387852052,
          0.01808401052993018,
          0.04108545305356934,
          0.06624102154828412
         ],
         "yaxis": "y"
        },
        {
         "alignmentgroup": "True",
         "customdata": [
          [
           "Kundeninformation"
          ],
          [
           "Kundeninformation"
          ],
          [
           "Kundeninformation"
          ],
          [
           "Kundeninformation"
          ]
         ],
         "hovertemplate": "CustomName=%{customdata[0]}<br>time_diff_grouped=%{x}<br>relative_count=%{y}<extra></extra>",
         "legendgroup": "Kundeninformation",
         "marker": {
          "color": "#ffdc00",
          "pattern": {
           "shape": ""
          }
         },
         "name": "Kundeninformation",
         "offsetgroup": "Kundeninformation",
         "orientation": "v",
         "showlegend": true,
         "textposition": "auto",
         "type": "bar",
         "x": [
          "bis 15 Minuten",
          "16 bis 60 Minuten",
          "60 bis 180 Minuten",
          "Mehr als 180 Minuten"
         ],
         "xaxis": "x",
         "y": [
          0.022056328469630133,
          0.02569531875929953,
          0.02719493611534404,
          0.024341580207501996
         ],
         "yaxis": "y"
        },
        {
         "alignmentgroup": "True",
         "customdata": [
          [
           "Lob"
          ],
          [
           "Lob"
          ],
          [
           "Lob"
          ],
          [
           "Lob"
          ]
         ],
         "hovertemplate": "CustomName=%{customdata[0]}<br>time_diff_grouped=%{x}<br>relative_count=%{y}<extra></extra>",
         "legendgroup": "Lob",
         "marker": {
          "color": "#00a2ff",
          "pattern": {
           "shape": ""
          }
         },
         "name": "Lob",
         "offsetgroup": "Lob",
         "orientation": "v",
         "showlegend": true,
         "textposition": "auto",
         "type": "bar",
         "x": [
          "bis 15 Minuten",
          "16 bis 60 Minuten",
          "60 bis 180 Minuten",
          "Mehr als 180 Minuten"
         ],
         "xaxis": "x",
         "y": [
          0.05531048523922633,
          0.055797184388233945,
          0.05468292111124135,
          0.052673583399840386
         ],
         "yaxis": "y"
        },
        {
         "alignmentgroup": "True",
         "customdata": [
          [
           "Platzangebot Velo, Gepäck, Kinderwagen"
          ],
          [
           "Platzangebot Velo, Gepäck, Kinderwagen"
          ],
          [
           "Platzangebot Velo, Gepäck, Kinderwagen"
          ],
          [
           "Platzangebot Velo, Gepäck, Kinderwagen"
          ]
         ],
         "hovertemplate": "CustomName=%{customdata[0]}<br>time_diff_grouped=%{x}<br>relative_count=%{y}<extra></extra>",
         "legendgroup": "Platzangebot Velo, Gepäck, Kinderwagen",
         "marker": {
          "color": "#7fdbff",
          "pattern": {
           "shape": ""
          }
         },
         "name": "Platzangebot Velo, Gepäck, Kinderwagen",
         "offsetgroup": "Platzangebot Velo, Gepäck, Kinderwagen",
         "orientation": "v",
         "showlegend": true,
         "textposition": "auto",
         "type": "bar",
         "x": [
          "bis 15 Minuten",
          "16 bis 60 Minuten",
          "60 bis 180 Minuten",
          "Mehr als 180 Minuten"
         ],
         "xaxis": "x",
         "y": [
          0.0332541567695962,
          0.04229140437221014,
          0.061423045363966707,
          0.06783719074221868
         ],
         "yaxis": "y"
        },
        {
         "alignmentgroup": "True",
         "customdata": [
          [
           "Platzangebot Zug"
          ],
          [
           "Platzangebot Zug"
          ],
          [
           "Platzangebot Zug"
          ],
          [
           "Platzangebot Zug"
          ]
         ],
         "hovertemplate": "CustomName=%{customdata[0]}<br>time_diff_grouped=%{x}<br>relative_count=%{y}<extra></extra>",
         "legendgroup": "Platzangebot Zug",
         "marker": {
          "color": "#e8c547",
          "pattern": {
           "shape": ""
          }
         },
         "name": "Platzangebot Zug",
         "offsetgroup": "Platzangebot Zug",
         "orientation": "v",
         "showlegend": true,
         "textposition": "auto",
         "type": "bar",
         "x": [
          "bis 15 Minuten",
          "16 bis 60 Minuten",
          "60 bis 180 Minuten",
          "Mehr als 180 Minuten"
         ],
         "xaxis": "x",
         "y": [
          0.08585001696640651,
          0.11474190225477852,
          0.1193295041612941,
          0.12130885873902633
         ],
         "yaxis": "y"
        },
        {
         "alignmentgroup": "True",
         "customdata": [
          [
           "Preis-Leistung"
          ],
          [
           "Preis-Leistung"
          ],
          [
           "Preis-Leistung"
          ],
          [
           "Preis-Leistung"
          ]
         ],
         "hovertemplate": "CustomName=%{customdata[0]}<br>time_diff_grouped=%{x}<br>relative_count=%{y}<extra></extra>",
         "legendgroup": "Preis-Leistung",
         "marker": {
          "color": "#55b2d2",
          "pattern": {
           "shape": ""
          }
         },
         "name": "Preis-Leistung",
         "offsetgroup": "Preis-Leistung",
         "orientation": "v",
         "showlegend": true,
         "textposition": "auto",
         "type": "bar",
         "x": [
          "bis 15 Minuten",
          "16 bis 60 Minuten",
          "60 bis 180 Minuten",
          "Mehr als 180 Minuten"
         ],
         "xaxis": "x",
         "y": [
          0.1347132677298948,
          0.09803136087902026,
          0.07765795334661822,
          0.057861133280127694
         ],
         "yaxis": "y"
        },
        {
         "alignmentgroup": "True",
         "customdata": [
          [
           "Pünktlichkeit"
          ],
          [
           "Pünktlichkeit"
          ],
          [
           "Pünktlichkeit"
          ],
          [
           "Pünktlichkeit"
          ]
         ],
         "hovertemplate": "CustomName=%{customdata[0]}<br>time_diff_grouped=%{x}<br>relative_count=%{y}<extra></extra>",
         "legendgroup": "Pünktlichkeit",
         "marker": {
          "color": "#7fcdbb",
          "pattern": {
           "shape": ""
          }
         },
         "name": "Pünktlichkeit",
         "offsetgroup": "Pünktlichkeit",
         "orientation": "v",
         "showlegend": true,
         "textposition": "auto",
         "type": "bar",
         "x": [
          "bis 15 Minuten",
          "16 bis 60 Minuten",
          "60 bis 180 Minuten",
          "Mehr als 180 Minuten"
         ],
         "xaxis": "x",
         "y": [
          0.14353579911774686,
          0.17065354240586014,
          0.1942914078068222,
          0.21787709497206703
         ],
         "yaxis": "y"
        },
        {
         "alignmentgroup": "True",
         "customdata": [
          [
           "Raumtemperatur Zug"
          ],
          [
           "Raumtemperatur Zug"
          ],
          [
           "Raumtemperatur Zug"
          ],
          [
           "Raumtemperatur Zug"
          ]
         ],
         "hovertemplate": "CustomName=%{customdata[0]}<br>time_diff_grouped=%{x}<br>relative_count=%{y}<extra></extra>",
         "legendgroup": "Raumtemperatur Zug",
         "marker": {
          "color": "#5a5a5a",
          "pattern": {
           "shape": ""
          }
         },
         "name": "Raumtemperatur Zug",
         "offsetgroup": "Raumtemperatur Zug",
         "orientation": "v",
         "showlegend": true,
         "textposition": "auto",
         "type": "bar",
         "x": [
          "bis 15 Minuten",
          "16 bis 60 Minuten",
          "60 bis 180 Minuten",
          "Mehr als 180 Minuten"
         ],
         "xaxis": "x",
         "y": [
          0.022395656599932135,
          0.028556712830491014,
          0.03926854999413902,
          0.044293695131683956
         ],
         "yaxis": "y"
        },
        {
         "alignmentgroup": "True",
         "customdata": [
          [
           "Sauberkeit Zug und Bahnhof"
          ],
          [
           "Sauberkeit Zug und Bahnhof"
          ],
          [
           "Sauberkeit Zug und Bahnhof"
          ],
          [
           "Sauberkeit Zug und Bahnhof"
          ]
         ],
         "hovertemplate": "CustomName=%{customdata[0]}<br>time_diff_grouped=%{x}<br>relative_count=%{y}<extra></extra>",
         "legendgroup": "Sauberkeit Zug und Bahnhof",
         "marker": {
          "color": "#9c9c9c",
          "pattern": {
           "shape": ""
          }
         },
         "name": "Sauberkeit Zug und Bahnhof",
         "offsetgroup": "Sauberkeit Zug und Bahnhof",
         "orientation": "v",
         "showlegend": true,
         "textposition": "auto",
         "type": "bar",
         "x": [
          "bis 15 Minuten",
          "16 bis 60 Minuten",
          "60 bis 180 Minuten",
          "Mehr als 180 Minuten"
         ],
         "xaxis": "x",
         "y": [
          0.041398031896844247,
          0.034966235549959944,
          0.027546594772007972,
          0.017158818834796488
         ],
         "yaxis": "y"
        },
        {
         "alignmentgroup": "True",
         "customdata": [
          [
           "Security"
          ],
          [
           "Security"
          ],
          [
           "Security"
          ],
          [
           "Security"
          ]
         ],
         "hovertemplate": "CustomName=%{customdata[0]}<br>time_diff_grouped=%{x}<br>relative_count=%{y}<extra></extra>",
         "legendgroup": "Security",
         "marker": {
          "color": "#c9c9c9",
          "pattern": {
           "shape": ""
          }
         },
         "name": "Security",
         "offsetgroup": "Security",
         "orientation": "v",
         "showlegend": true,
         "textposition": "auto",
         "type": "bar",
         "x": [
          "bis 15 Minuten",
          "16 bis 60 Minuten",
          "60 bis 180 Minuten",
          "Mehr als 180 Minuten"
         ],
         "xaxis": "x",
         "y": [
          0.045469969460468274,
          0.043951012933501205,
          0.026139960145352244,
          0.01596169193934557
         ],
         "yaxis": "y"
        },
        {
         "alignmentgroup": "True",
         "customdata": [
          [
           "Sonstiges"
          ],
          [
           "Sonstiges"
          ],
          [
           "Sonstiges"
          ],
          [
           "Sonstiges"
          ]
         ],
         "hovertemplate": "CustomName=%{customdata[0]}<br>time_diff_grouped=%{x}<br>relative_count=%{y}<extra></extra>",
         "legendgroup": "Sonstiges",
         "marker": {
          "color": "#ef476f",
          "pattern": {
           "shape": ""
          }
         },
         "name": "Sonstiges",
         "offsetgroup": "Sonstiges",
         "orientation": "v",
         "showlegend": true,
         "textposition": "auto",
         "type": "bar",
         "x": [
          "bis 15 Minuten",
          "16 bis 60 Minuten",
          "60 bis 180 Minuten",
          "Mehr als 180 Minuten"
         ],
         "xaxis": "x",
         "y": [
          0.0668476416694944,
          0.05425203158979055,
          0.04249208768022506,
          0.03112529928172386
         ],
         "yaxis": "y"
        },
        {
         "alignmentgroup": "True",
         "customdata": [
          [
           "Vertrieb und Services"
          ],
          [
           "Vertrieb und Services"
          ],
          [
           "Vertrieb und Services"
          ],
          [
           "Vertrieb und Services"
          ]
         ],
         "hovertemplate": "CustomName=%{customdata[0]}<br>time_diff_grouped=%{x}<br>relative_count=%{y}<extra></extra>",
         "legendgroup": "Vertrieb und Services",
         "marker": {
          "color": "#6b5b95",
          "pattern": {
           "shape": ""
          }
         },
         "name": "Vertrieb und Services",
         "offsetgroup": "Vertrieb und Services",
         "orientation": "v",
         "showlegend": true,
         "textposition": "auto",
         "type": "bar",
         "x": [
          "bis 15 Minuten",
          "16 bis 60 Minuten",
          "60 bis 180 Minuten",
          "Mehr als 180 Minuten"
         ],
         "xaxis": "x",
         "y": [
          0.0987444859178826,
          0.08103468009614284,
          0.07044895088500762,
          0.05746209098164405
         ],
         "yaxis": "y"
        },
        {
         "alignmentgroup": "True",
         "customdata": [
          [
           "WC Verfügbarkeit und Sauberkeit"
          ],
          [
           "WC Verfügbarkeit und Sauberkeit"
          ],
          [
           "WC Verfügbarkeit und Sauberkeit"
          ],
          [
           "WC Verfügbarkeit und Sauberkeit"
          ]
         ],
         "hovertemplate": "CustomName=%{customdata[0]}<br>time_diff_grouped=%{x}<br>relative_count=%{y}<extra></extra>",
         "legendgroup": "WC Verfügbarkeit und Sauberkeit",
         "marker": {
          "color": "#b565a7",
          "pattern": {
           "shape": ""
          }
         },
         "name": "WC Verfügbarkeit und Sauberkeit",
         "offsetgroup": "WC Verfügbarkeit und Sauberkeit",
         "orientation": "v",
         "showlegend": true,
         "textposition": "auto",
         "type": "bar",
         "x": [
          "bis 15 Minuten",
          "16 bis 60 Minuten",
          "60 bis 180 Minuten",
          "Mehr als 180 Minuten"
         ],
         "xaxis": "x",
         "y": [
          0.04105870376654225,
          0.043951012933501205,
          0.04800140663462665,
          0.045091779728651235
         ],
         "yaxis": "y"
        }
       ],
       "layout": {
        "barmode": "group",
        "height": 450,
        "legend": {
         "title": {
          "text": "Thema"
         },
         "tracegroupgap": 0
        },
        "margin": {
         "t": 60
        },
        "template": {
         "data": {
          "bar": [
           {
            "error_x": {
             "color": "#2a3f5f"
            },
            "error_y": {
             "color": "#2a3f5f"
            },
            "marker": {
             "line": {
              "color": "white",
              "width": 0.5
             },
             "pattern": {
              "fillmode": "overlay",
              "size": 10,
              "solidity": 0.2
             }
            },
            "type": "bar"
           }
          ],
          "barpolar": [
           {
            "marker": {
             "line": {
              "color": "white",
              "width": 0.5
             },
             "pattern": {
              "fillmode": "overlay",
              "size": 10,
              "solidity": 0.2
             }
            },
            "type": "barpolar"
           }
          ],
          "carpet": [
           {
            "aaxis": {
             "endlinecolor": "#2a3f5f",
             "gridcolor": "#C8D4E3",
             "linecolor": "#C8D4E3",
             "minorgridcolor": "#C8D4E3",
             "startlinecolor": "#2a3f5f"
            },
            "baxis": {
             "endlinecolor": "#2a3f5f",
             "gridcolor": "#C8D4E3",
             "linecolor": "#C8D4E3",
             "minorgridcolor": "#C8D4E3",
             "startlinecolor": "#2a3f5f"
            },
            "type": "carpet"
           }
          ],
          "choropleth": [
           {
            "colorbar": {
             "outlinewidth": 0,
             "ticks": ""
            },
            "type": "choropleth"
           }
          ],
          "contour": [
           {
            "colorbar": {
             "outlinewidth": 0,
             "ticks": ""
            },
            "colorscale": [
             [
              0,
              "#0d0887"
             ],
             [
              0.1111111111111111,
              "#46039f"
             ],
             [
              0.2222222222222222,
              "#7201a8"
             ],
             [
              0.3333333333333333,
              "#9c179e"
             ],
             [
              0.4444444444444444,
              "#bd3786"
             ],
             [
              0.5555555555555556,
              "#d8576b"
             ],
             [
              0.6666666666666666,
              "#ed7953"
             ],
             [
              0.7777777777777778,
              "#fb9f3a"
             ],
             [
              0.8888888888888888,
              "#fdca26"
             ],
             [
              1,
              "#f0f921"
             ]
            ],
            "type": "contour"
           }
          ],
          "contourcarpet": [
           {
            "colorbar": {
             "outlinewidth": 0,
             "ticks": ""
            },
            "type": "contourcarpet"
           }
          ],
          "heatmap": [
           {
            "colorbar": {
             "outlinewidth": 0,
             "ticks": ""
            },
            "colorscale": [
             [
              0,
              "#0d0887"
             ],
             [
              0.1111111111111111,
              "#46039f"
             ],
             [
              0.2222222222222222,
              "#7201a8"
             ],
             [
              0.3333333333333333,
              "#9c179e"
             ],
             [
              0.4444444444444444,
              "#bd3786"
             ],
             [
              0.5555555555555556,
              "#d8576b"
             ],
             [
              0.6666666666666666,
              "#ed7953"
             ],
             [
              0.7777777777777778,
              "#fb9f3a"
             ],
             [
              0.8888888888888888,
              "#fdca26"
             ],
             [
              1,
              "#f0f921"
             ]
            ],
            "type": "heatmap"
           }
          ],
          "heatmapgl": [
           {
            "colorbar": {
             "outlinewidth": 0,
             "ticks": ""
            },
            "colorscale": [
             [
              0,
              "#0d0887"
             ],
             [
              0.1111111111111111,
              "#46039f"
             ],
             [
              0.2222222222222222,
              "#7201a8"
             ],
             [
              0.3333333333333333,
              "#9c179e"
             ],
             [
              0.4444444444444444,
              "#bd3786"
             ],
             [
              0.5555555555555556,
              "#d8576b"
             ],
             [
              0.6666666666666666,
              "#ed7953"
             ],
             [
              0.7777777777777778,
              "#fb9f3a"
             ],
             [
              0.8888888888888888,
              "#fdca26"
             ],
             [
              1,
              "#f0f921"
             ]
            ],
            "type": "heatmapgl"
           }
          ],
          "histogram": [
           {
            "marker": {
             "pattern": {
              "fillmode": "overlay",
              "size": 10,
              "solidity": 0.2
             }
            },
            "type": "histogram"
           }
          ],
          "histogram2d": [
           {
            "colorbar": {
             "outlinewidth": 0,
             "ticks": ""
            },
            "colorscale": [
             [
              0,
              "#0d0887"
             ],
             [
              0.1111111111111111,
              "#46039f"
             ],
             [
              0.2222222222222222,
              "#7201a8"
             ],
             [
              0.3333333333333333,
              "#9c179e"
             ],
             [
              0.4444444444444444,
              "#bd3786"
             ],
             [
              0.5555555555555556,
              "#d8576b"
             ],
             [
              0.6666666666666666,
              "#ed7953"
             ],
             [
              0.7777777777777778,
              "#fb9f3a"
             ],
             [
              0.8888888888888888,
              "#fdca26"
             ],
             [
              1,
              "#f0f921"
             ]
            ],
            "type": "histogram2d"
           }
          ],
          "histogram2dcontour": [
           {
            "colorbar": {
             "outlinewidth": 0,
             "ticks": ""
            },
            "colorscale": [
             [
              0,
              "#0d0887"
             ],
             [
              0.1111111111111111,
              "#46039f"
             ],
             [
              0.2222222222222222,
              "#7201a8"
             ],
             [
              0.3333333333333333,
              "#9c179e"
             ],
             [
              0.4444444444444444,
              "#bd3786"
             ],
             [
              0.5555555555555556,
              "#d8576b"
             ],
             [
              0.6666666666666666,
              "#ed7953"
             ],
             [
              0.7777777777777778,
              "#fb9f3a"
             ],
             [
              0.8888888888888888,
              "#fdca26"
             ],
             [
              1,
              "#f0f921"
             ]
            ],
            "type": "histogram2dcontour"
           }
          ],
          "mesh3d": [
           {
            "colorbar": {
             "outlinewidth": 0,
             "ticks": ""
            },
            "type": "mesh3d"
           }
          ],
          "parcoords": [
           {
            "line": {
             "colorbar": {
              "outlinewidth": 0,
              "ticks": ""
             }
            },
            "type": "parcoords"
           }
          ],
          "pie": [
           {
            "automargin": true,
            "type": "pie"
           }
          ],
          "scatter": [
           {
            "fillpattern": {
             "fillmode": "overlay",
             "size": 10,
             "solidity": 0.2
            },
            "type": "scatter"
           }
          ],
          "scatter3d": [
           {
            "line": {
             "colorbar": {
              "outlinewidth": 0,
              "ticks": ""
             }
            },
            "marker": {
             "colorbar": {
              "outlinewidth": 0,
              "ticks": ""
             }
            },
            "type": "scatter3d"
           }
          ],
          "scattercarpet": [
           {
            "marker": {
             "colorbar": {
              "outlinewidth": 0,
              "ticks": ""
             }
            },
            "type": "scattercarpet"
           }
          ],
          "scattergeo": [
           {
            "marker": {
             "colorbar": {
              "outlinewidth": 0,
              "ticks": ""
             }
            },
            "type": "scattergeo"
           }
          ],
          "scattergl": [
           {
            "marker": {
             "colorbar": {
              "outlinewidth": 0,
              "ticks": ""
             }
            },
            "type": "scattergl"
           }
          ],
          "scattermapbox": [
           {
            "marker": {
             "colorbar": {
              "outlinewidth": 0,
              "ticks": ""
             }
            },
            "type": "scattermapbox"
           }
          ],
          "scatterpolar": [
           {
            "marker": {
             "colorbar": {
              "outlinewidth": 0,
              "ticks": ""
             }
            },
            "type": "scatterpolar"
           }
          ],
          "scatterpolargl": [
           {
            "marker": {
             "colorbar": {
              "outlinewidth": 0,
              "ticks": ""
             }
            },
            "type": "scatterpolargl"
           }
          ],
          "scatterternary": [
           {
            "marker": {
             "colorbar": {
              "outlinewidth": 0,
              "ticks": ""
             }
            },
            "type": "scatterternary"
           }
          ],
          "surface": [
           {
            "colorbar": {
             "outlinewidth": 0,
             "ticks": ""
            },
            "colorscale": [
             [
              0,
              "#0d0887"
             ],
             [
              0.1111111111111111,
              "#46039f"
             ],
             [
              0.2222222222222222,
              "#7201a8"
             ],
             [
              0.3333333333333333,
              "#9c179e"
             ],
             [
              0.4444444444444444,
              "#bd3786"
             ],
             [
              0.5555555555555556,
              "#d8576b"
             ],
             [
              0.6666666666666666,
              "#ed7953"
             ],
             [
              0.7777777777777778,
              "#fb9f3a"
             ],
             [
              0.8888888888888888,
              "#fdca26"
             ],
             [
              1,
              "#f0f921"
             ]
            ],
            "type": "surface"
           }
          ],
          "table": [
           {
            "cells": {
             "fill": {
              "color": "#EBF0F8"
             },
             "line": {
              "color": "white"
             }
            },
            "header": {
             "fill": {
              "color": "#C8D4E3"
             },
             "line": {
              "color": "white"
             }
            },
            "type": "table"
           }
          ]
         },
         "layout": {
          "annotationdefaults": {
           "arrowcolor": "#2a3f5f",
           "arrowhead": 0,
           "arrowwidth": 1
          },
          "autotypenumbers": "strict",
          "coloraxis": {
           "colorbar": {
            "outlinewidth": 0,
            "ticks": ""
           }
          },
          "colorscale": {
           "diverging": [
            [
             0,
             "#8e0152"
            ],
            [
             0.1,
             "#c51b7d"
            ],
            [
             0.2,
             "#de77ae"
            ],
            [
             0.3,
             "#f1b6da"
            ],
            [
             0.4,
             "#fde0ef"
            ],
            [
             0.5,
             "#f7f7f7"
            ],
            [
             0.6,
             "#e6f5d0"
            ],
            [
             0.7,
             "#b8e186"
            ],
            [
             0.8,
             "#7fbc41"
            ],
            [
             0.9,
             "#4d9221"
            ],
            [
             1,
             "#276419"
            ]
           ],
           "sequential": [
            [
             0,
             "#0d0887"
            ],
            [
             0.1111111111111111,
             "#46039f"
            ],
            [
             0.2222222222222222,
             "#7201a8"
            ],
            [
             0.3333333333333333,
             "#9c179e"
            ],
            [
             0.4444444444444444,
             "#bd3786"
            ],
            [
             0.5555555555555556,
             "#d8576b"
            ],
            [
             0.6666666666666666,
             "#ed7953"
            ],
            [
             0.7777777777777778,
             "#fb9f3a"
            ],
            [
             0.8888888888888888,
             "#fdca26"
            ],
            [
             1,
             "#f0f921"
            ]
           ],
           "sequentialminus": [
            [
             0,
             "#0d0887"
            ],
            [
             0.1111111111111111,
             "#46039f"
            ],
            [
             0.2222222222222222,
             "#7201a8"
            ],
            [
             0.3333333333333333,
             "#9c179e"
            ],
            [
             0.4444444444444444,
             "#bd3786"
            ],
            [
             0.5555555555555556,
             "#d8576b"
            ],
            [
             0.6666666666666666,
             "#ed7953"
            ],
            [
             0.7777777777777778,
             "#fb9f3a"
            ],
            [
             0.8888888888888888,
             "#fdca26"
            ],
            [
             1,
             "#f0f921"
            ]
           ]
          },
          "colorway": [
           "#636efa",
           "#EF553B",
           "#00cc96",
           "#ab63fa",
           "#FFA15A",
           "#19d3f3",
           "#FF6692",
           "#B6E880",
           "#FF97FF",
           "#FECB52"
          ],
          "font": {
           "color": "#2a3f5f"
          },
          "geo": {
           "bgcolor": "white",
           "lakecolor": "white",
           "landcolor": "white",
           "showlakes": true,
           "showland": true,
           "subunitcolor": "#C8D4E3"
          },
          "hoverlabel": {
           "align": "left"
          },
          "hovermode": "closest",
          "mapbox": {
           "style": "light"
          },
          "paper_bgcolor": "white",
          "plot_bgcolor": "white",
          "polar": {
           "angularaxis": {
            "gridcolor": "#EBF0F8",
            "linecolor": "#EBF0F8",
            "ticks": ""
           },
           "bgcolor": "white",
           "radialaxis": {
            "gridcolor": "#EBF0F8",
            "linecolor": "#EBF0F8",
            "ticks": ""
           }
          },
          "scene": {
           "xaxis": {
            "backgroundcolor": "white",
            "gridcolor": "#DFE8F3",
            "gridwidth": 2,
            "linecolor": "#EBF0F8",
            "showbackground": true,
            "ticks": "",
            "zerolinecolor": "#EBF0F8"
           },
           "yaxis": {
            "backgroundcolor": "white",
            "gridcolor": "#DFE8F3",
            "gridwidth": 2,
            "linecolor": "#EBF0F8",
            "showbackground": true,
            "ticks": "",
            "zerolinecolor": "#EBF0F8"
           },
           "zaxis": {
            "backgroundcolor": "white",
            "gridcolor": "#DFE8F3",
            "gridwidth": 2,
            "linecolor": "#EBF0F8",
            "showbackground": true,
            "ticks": "",
            "zerolinecolor": "#EBF0F8"
           }
          },
          "shapedefaults": {
           "line": {
            "color": "#2a3f5f"
           }
          },
          "ternary": {
           "aaxis": {
            "gridcolor": "#DFE8F3",
            "linecolor": "#A2B1C6",
            "ticks": ""
           },
           "baxis": {
            "gridcolor": "#DFE8F3",
            "linecolor": "#A2B1C6",
            "ticks": ""
           },
           "bgcolor": "white",
           "caxis": {
            "gridcolor": "#DFE8F3",
            "linecolor": "#A2B1C6",
            "ticks": ""
           }
          },
          "title": {
           "x": 0.05
          },
          "xaxis": {
           "automargin": true,
           "gridcolor": "#EBF0F8",
           "linecolor": "#EBF0F8",
           "ticks": "",
           "title": {
            "standoff": 15
           },
           "zerolinecolor": "#EBF0F8",
           "zerolinewidth": 2
          },
          "yaxis": {
           "automargin": true,
           "gridcolor": "#EBF0F8",
           "linecolor": "#EBF0F8",
           "ticks": "",
           "title": {
            "standoff": 15
           },
           "zerolinecolor": "#EBF0F8",
           "zerolinewidth": 2
          }
         }
        },
        "title": {
         "text": "Themenrelevanz nach Reisedauer (2019-2022)"
        },
        "width": 900,
        "xaxis": {
         "anchor": "y",
         "domain": [
          0,
          1
         ],
         "showgrid": false,
         "title": {
          "text": ""
         }
        },
        "yaxis": {
         "anchor": "x",
         "domain": [
          0,
          1
         ],
         "gridcolor": "rgba(0,0,0,0.1)",
         "gridwidth": 1,
         "showgrid": true,
         "title": {
          "text": "Häufigkeit"
         }
        }
       }
      }
     },
     "metadata": {},
     "output_type": "display_data"
    }
   ],
   "source": [
    "barchart_reisezeit = create_grouped_barchart(df_reisezeit, x_col=\"time_diff_grouped\", y_col=\"relative_count\", color_col=\"CustomName\", color_discrete_sequence=color_discrete_sequence, title=\"Themenrelevanz nach Reisedauer (2019-2022)\", xaxis_title='', yaxis_title='Häufigkeit', legend_title='Thema', template=template)"
   ]
  },
  {
   "cell_type": "code",
   "execution_count": 30,
   "metadata": {},
   "outputs": [
    {
     "data": {
      "application/vnd.plotly.v1+json": {
       "config": {
        "plotlyServerURL": "https://plot.ly"
       },
       "data": [
        {
         "fill": "none",
         "line": {
          "color": "#003f5c"
         },
         "marker": {
          "size": 4
         },
         "name": "bis 15 Minuten",
         "r": [
          0.02002035968781812,
          0.05972175093315236,
          0.07091957923311842,
          0.02477095351204615,
          0.015609093993892093,
          0.008822531387852052,
          0.022056328469630133,
          0.05531048523922633,
          0.0332541567695962,
          0.08585001696640651,
          0.1347132677298948,
          0.14353579911774686,
          0.022395656599932135,
          0.041398031896844247,
          0.045469969460468274,
          0.0668476416694944,
          0.0987444859178826,
          0.04105870376654225
         ],
         "showlegend": true,
         "theta": [
          "Ausstattung Qualität Rollmaterial",
          "Corona",
          "Fahrplanangebot",
          "Feedback Umfrage",
          "Internet, Wlan und Mobilfunk",
          "Kommerzielle Angebote",
          "Kundeninformation",
          "Lob",
          "Platzangebot Velo, Gepäck, Kinderwagen",
          "Platzangebot Zug",
          "Preis-Leistung",
          "Pünktlichkeit",
          "Raumtemperatur Zug",
          "Sauberkeit Zug und Bahnhof",
          "Security",
          "Sonstiges",
          "Vertrieb und Services",
          "WC Verfügbarkeit und Sauberkeit"
         ],
         "type": "scatterpolar"
        },
        {
         "fill": "none",
         "line": {
          "color": "#58508d"
         },
         "marker": {
          "size": 4
         },
         "name": "16 bis 60 Minuten",
         "r": [
          0.024665216893670596,
          0.04612567242760673,
          0.0726794094082637,
          0.01842737781847316,
          0.018770745107016137,
          0.01808401052993018,
          0.02569531875929953,
          0.055797184388233945,
          0.04229140437221014,
          0.11474190225477852,
          0.09803136087902026,
          0.17065354240586014,
          0.028556712830491014,
          0.034966235549959944,
          0.043951012933501205,
          0.05425203158979055,
          0.08103468009614284,
          0.043951012933501205
         ],
         "showlegend": true,
         "theta": [
          "Ausstattung Qualität Rollmaterial",
          "Corona",
          "Fahrplanangebot",
          "Feedback Umfrage",
          "Internet, Wlan und Mobilfunk",
          "Kommerzielle Angebote",
          "Kundeninformation",
          "Lob",
          "Platzangebot Velo, Gepäck, Kinderwagen",
          "Platzangebot Zug",
          "Preis-Leistung",
          "Pünktlichkeit",
          "Raumtemperatur Zug",
          "Sauberkeit Zug und Bahnhof",
          "Security",
          "Sonstiges",
          "Vertrieb und Services",
          "WC Verfügbarkeit und Sauberkeit"
         ],
         "type": "scatterpolar"
        },
        {
         "fill": "none",
         "line": {
          "color": "#bc5090"
         },
         "marker": {
          "size": 4
         },
         "name": "60 bis 180 Minuten",
         "r": [
          0.03123901066697925,
          0.03200093775641777,
          0.05421404290235611,
          0.01863790880318837,
          0.027487984995897316,
          0.04108545305356934,
          0.02719493611534404,
          0.05468292111124135,
          0.061423045363966707,
          0.1193295041612941,
          0.07765795334661822,
          0.1942914078068222,
          0.03926854999413902,
          0.027546594772007972,
          0.026139960145352244,
          0.04249208768022506,
          0.07044895088500762,
          0.04800140663462665
         ],
         "showlegend": true,
         "theta": [
          "Ausstattung Qualität Rollmaterial",
          "Corona",
          "Fahrplanangebot",
          "Feedback Umfrage",
          "Internet, Wlan und Mobilfunk",
          "Kommerzielle Angebote",
          "Kundeninformation",
          "Lob",
          "Platzangebot Velo, Gepäck, Kinderwagen",
          "Platzangebot Zug",
          "Preis-Leistung",
          "Pünktlichkeit",
          "Raumtemperatur Zug",
          "Sauberkeit Zug und Bahnhof",
          "Security",
          "Sonstiges",
          "Vertrieb und Services",
          "WC Verfügbarkeit und Sauberkeit"
         ],
         "type": "scatterpolar"
        },
        {
         "fill": "none",
         "line": {
          "color": "#ff6361"
         },
         "marker": {
          "size": 4
         },
         "name": "Mehr als 180 Minuten",
         "r": [
          0.034317637669592976,
          0.023942537909018357,
          0.06424581005586592,
          0.019154030327214685,
          0.03312051077414206,
          0.06624102154828412,
          0.024341580207501996,
          0.052673583399840386,
          0.06783719074221868,
          0.12130885873902633,
          0.057861133280127694,
          0.21787709497206703,
          0.044293695131683956,
          0.017158818834796488,
          0.01596169193934557,
          0.03112529928172386,
          0.05746209098164405,
          0.045091779728651235
         ],
         "showlegend": true,
         "theta": [
          "Ausstattung Qualität Rollmaterial",
          "Corona",
          "Fahrplanangebot",
          "Feedback Umfrage",
          "Internet, Wlan und Mobilfunk",
          "Kommerzielle Angebote",
          "Kundeninformation",
          "Lob",
          "Platzangebot Velo, Gepäck, Kinderwagen",
          "Platzangebot Zug",
          "Preis-Leistung",
          "Pünktlichkeit",
          "Raumtemperatur Zug",
          "Sauberkeit Zug und Bahnhof",
          "Security",
          "Sonstiges",
          "Vertrieb und Services",
          "WC Verfügbarkeit und Sauberkeit"
         ],
         "type": "scatterpolar"
        }
       ],
       "layout": {
        "height": 450,
        "legend": {
         "title": {
          "text": "Gruppe"
         }
        },
        "polar": {
         "angularaxis": {
          "gridcolor": "rgba(0,0,0,0.1)",
          "showticklabels": true,
          "tickfont": {
           "size": 10
          },
          "tickmode": "linear",
          "visible": true
         },
         "radialaxis": {
          "gridcolor": "rgba(0,0,0,0.1)",
          "gridwidth": 1,
          "range": [
           0,
           0.21787709497206703
          ],
          "showgrid": true,
          "visible": true
         }
        },
        "showlegend": true,
        "template": {
         "data": {
          "bar": [
           {
            "error_x": {
             "color": "#2a3f5f"
            },
            "error_y": {
             "color": "#2a3f5f"
            },
            "marker": {
             "line": {
              "color": "white",
              "width": 0.5
             },
             "pattern": {
              "fillmode": "overlay",
              "size": 10,
              "solidity": 0.2
             }
            },
            "type": "bar"
           }
          ],
          "barpolar": [
           {
            "marker": {
             "line": {
              "color": "white",
              "width": 0.5
             },
             "pattern": {
              "fillmode": "overlay",
              "size": 10,
              "solidity": 0.2
             }
            },
            "type": "barpolar"
           }
          ],
          "carpet": [
           {
            "aaxis": {
             "endlinecolor": "#2a3f5f",
             "gridcolor": "#C8D4E3",
             "linecolor": "#C8D4E3",
             "minorgridcolor": "#C8D4E3",
             "startlinecolor": "#2a3f5f"
            },
            "baxis": {
             "endlinecolor": "#2a3f5f",
             "gridcolor": "#C8D4E3",
             "linecolor": "#C8D4E3",
             "minorgridcolor": "#C8D4E3",
             "startlinecolor": "#2a3f5f"
            },
            "type": "carpet"
           }
          ],
          "choropleth": [
           {
            "colorbar": {
             "outlinewidth": 0,
             "ticks": ""
            },
            "type": "choropleth"
           }
          ],
          "contour": [
           {
            "colorbar": {
             "outlinewidth": 0,
             "ticks": ""
            },
            "colorscale": [
             [
              0,
              "#0d0887"
             ],
             [
              0.1111111111111111,
              "#46039f"
             ],
             [
              0.2222222222222222,
              "#7201a8"
             ],
             [
              0.3333333333333333,
              "#9c179e"
             ],
             [
              0.4444444444444444,
              "#bd3786"
             ],
             [
              0.5555555555555556,
              "#d8576b"
             ],
             [
              0.6666666666666666,
              "#ed7953"
             ],
             [
              0.7777777777777778,
              "#fb9f3a"
             ],
             [
              0.8888888888888888,
              "#fdca26"
             ],
             [
              1,
              "#f0f921"
             ]
            ],
            "type": "contour"
           }
          ],
          "contourcarpet": [
           {
            "colorbar": {
             "outlinewidth": 0,
             "ticks": ""
            },
            "type": "contourcarpet"
           }
          ],
          "heatmap": [
           {
            "colorbar": {
             "outlinewidth": 0,
             "ticks": ""
            },
            "colorscale": [
             [
              0,
              "#0d0887"
             ],
             [
              0.1111111111111111,
              "#46039f"
             ],
             [
              0.2222222222222222,
              "#7201a8"
             ],
             [
              0.3333333333333333,
              "#9c179e"
             ],
             [
              0.4444444444444444,
              "#bd3786"
             ],
             [
              0.5555555555555556,
              "#d8576b"
             ],
             [
              0.6666666666666666,
              "#ed7953"
             ],
             [
              0.7777777777777778,
              "#fb9f3a"
             ],
             [
              0.8888888888888888,
              "#fdca26"
             ],
             [
              1,
              "#f0f921"
             ]
            ],
            "type": "heatmap"
           }
          ],
          "heatmapgl": [
           {
            "colorbar": {
             "outlinewidth": 0,
             "ticks": ""
            },
            "colorscale": [
             [
              0,
              "#0d0887"
             ],
             [
              0.1111111111111111,
              "#46039f"
             ],
             [
              0.2222222222222222,
              "#7201a8"
             ],
             [
              0.3333333333333333,
              "#9c179e"
             ],
             [
              0.4444444444444444,
              "#bd3786"
             ],
             [
              0.5555555555555556,
              "#d8576b"
             ],
             [
              0.6666666666666666,
              "#ed7953"
             ],
             [
              0.7777777777777778,
              "#fb9f3a"
             ],
             [
              0.8888888888888888,
              "#fdca26"
             ],
             [
              1,
              "#f0f921"
             ]
            ],
            "type": "heatmapgl"
           }
          ],
          "histogram": [
           {
            "marker": {
             "pattern": {
              "fillmode": "overlay",
              "size": 10,
              "solidity": 0.2
             }
            },
            "type": "histogram"
           }
          ],
          "histogram2d": [
           {
            "colorbar": {
             "outlinewidth": 0,
             "ticks": ""
            },
            "colorscale": [
             [
              0,
              "#0d0887"
             ],
             [
              0.1111111111111111,
              "#46039f"
             ],
             [
              0.2222222222222222,
              "#7201a8"
             ],
             [
              0.3333333333333333,
              "#9c179e"
             ],
             [
              0.4444444444444444,
              "#bd3786"
             ],
             [
              0.5555555555555556,
              "#d8576b"
             ],
             [
              0.6666666666666666,
              "#ed7953"
             ],
             [
              0.7777777777777778,
              "#fb9f3a"
             ],
             [
              0.8888888888888888,
              "#fdca26"
             ],
             [
              1,
              "#f0f921"
             ]
            ],
            "type": "histogram2d"
           }
          ],
          "histogram2dcontour": [
           {
            "colorbar": {
             "outlinewidth": 0,
             "ticks": ""
            },
            "colorscale": [
             [
              0,
              "#0d0887"
             ],
             [
              0.1111111111111111,
              "#46039f"
             ],
             [
              0.2222222222222222,
              "#7201a8"
             ],
             [
              0.3333333333333333,
              "#9c179e"
             ],
             [
              0.4444444444444444,
              "#bd3786"
             ],
             [
              0.5555555555555556,
              "#d8576b"
             ],
             [
              0.6666666666666666,
              "#ed7953"
             ],
             [
              0.7777777777777778,
              "#fb9f3a"
             ],
             [
              0.8888888888888888,
              "#fdca26"
             ],
             [
              1,
              "#f0f921"
             ]
            ],
            "type": "histogram2dcontour"
           }
          ],
          "mesh3d": [
           {
            "colorbar": {
             "outlinewidth": 0,
             "ticks": ""
            },
            "type": "mesh3d"
           }
          ],
          "parcoords": [
           {
            "line": {
             "colorbar": {
              "outlinewidth": 0,
              "ticks": ""
             }
            },
            "type": "parcoords"
           }
          ],
          "pie": [
           {
            "automargin": true,
            "type": "pie"
           }
          ],
          "scatter": [
           {
            "fillpattern": {
             "fillmode": "overlay",
             "size": 10,
             "solidity": 0.2
            },
            "type": "scatter"
           }
          ],
          "scatter3d": [
           {
            "line": {
             "colorbar": {
              "outlinewidth": 0,
              "ticks": ""
             }
            },
            "marker": {
             "colorbar": {
              "outlinewidth": 0,
              "ticks": ""
             }
            },
            "type": "scatter3d"
           }
          ],
          "scattercarpet": [
           {
            "marker": {
             "colorbar": {
              "outlinewidth": 0,
              "ticks": ""
             }
            },
            "type": "scattercarpet"
           }
          ],
          "scattergeo": [
           {
            "marker": {
             "colorbar": {
              "outlinewidth": 0,
              "ticks": ""
             }
            },
            "type": "scattergeo"
           }
          ],
          "scattergl": [
           {
            "marker": {
             "colorbar": {
              "outlinewidth": 0,
              "ticks": ""
             }
            },
            "type": "scattergl"
           }
          ],
          "scattermapbox": [
           {
            "marker": {
             "colorbar": {
              "outlinewidth": 0,
              "ticks": ""
             }
            },
            "type": "scattermapbox"
           }
          ],
          "scatterpolar": [
           {
            "marker": {
             "colorbar": {
              "outlinewidth": 0,
              "ticks": ""
             }
            },
            "type": "scatterpolar"
           }
          ],
          "scatterpolargl": [
           {
            "marker": {
             "colorbar": {
              "outlinewidth": 0,
              "ticks": ""
             }
            },
            "type": "scatterpolargl"
           }
          ],
          "scatterternary": [
           {
            "marker": {
             "colorbar": {
              "outlinewidth": 0,
              "ticks": ""
             }
            },
            "type": "scatterternary"
           }
          ],
          "surface": [
           {
            "colorbar": {
             "outlinewidth": 0,
             "ticks": ""
            },
            "colorscale": [
             [
              0,
              "#0d0887"
             ],
             [
              0.1111111111111111,
              "#46039f"
             ],
             [
              0.2222222222222222,
              "#7201a8"
             ],
             [
              0.3333333333333333,
              "#9c179e"
             ],
             [
              0.4444444444444444,
              "#bd3786"
             ],
             [
              0.5555555555555556,
              "#d8576b"
             ],
             [
              0.6666666666666666,
              "#ed7953"
             ],
             [
              0.7777777777777778,
              "#fb9f3a"
             ],
             [
              0.8888888888888888,
              "#fdca26"
             ],
             [
              1,
              "#f0f921"
             ]
            ],
            "type": "surface"
           }
          ],
          "table": [
           {
            "cells": {
             "fill": {
              "color": "#EBF0F8"
             },
             "line": {
              "color": "white"
             }
            },
            "header": {
             "fill": {
              "color": "#C8D4E3"
             },
             "line": {
              "color": "white"
             }
            },
            "type": "table"
           }
          ]
         },
         "layout": {
          "annotationdefaults": {
           "arrowcolor": "#2a3f5f",
           "arrowhead": 0,
           "arrowwidth": 1
          },
          "autotypenumbers": "strict",
          "coloraxis": {
           "colorbar": {
            "outlinewidth": 0,
            "ticks": ""
           }
          },
          "colorscale": {
           "diverging": [
            [
             0,
             "#8e0152"
            ],
            [
             0.1,
             "#c51b7d"
            ],
            [
             0.2,
             "#de77ae"
            ],
            [
             0.3,
             "#f1b6da"
            ],
            [
             0.4,
             "#fde0ef"
            ],
            [
             0.5,
             "#f7f7f7"
            ],
            [
             0.6,
             "#e6f5d0"
            ],
            [
             0.7,
             "#b8e186"
            ],
            [
             0.8,
             "#7fbc41"
            ],
            [
             0.9,
             "#4d9221"
            ],
            [
             1,
             "#276419"
            ]
           ],
           "sequential": [
            [
             0,
             "#0d0887"
            ],
            [
             0.1111111111111111,
             "#46039f"
            ],
            [
             0.2222222222222222,
             "#7201a8"
            ],
            [
             0.3333333333333333,
             "#9c179e"
            ],
            [
             0.4444444444444444,
             "#bd3786"
            ],
            [
             0.5555555555555556,
             "#d8576b"
            ],
            [
             0.6666666666666666,
             "#ed7953"
            ],
            [
             0.7777777777777778,
             "#fb9f3a"
            ],
            [
             0.8888888888888888,
             "#fdca26"
            ],
            [
             1,
             "#f0f921"
            ]
           ],
           "sequentialminus": [
            [
             0,
             "#0d0887"
            ],
            [
             0.1111111111111111,
             "#46039f"
            ],
            [
             0.2222222222222222,
             "#7201a8"
            ],
            [
             0.3333333333333333,
             "#9c179e"
            ],
            [
             0.4444444444444444,
             "#bd3786"
            ],
            [
             0.5555555555555556,
             "#d8576b"
            ],
            [
             0.6666666666666666,
             "#ed7953"
            ],
            [
             0.7777777777777778,
             "#fb9f3a"
            ],
            [
             0.8888888888888888,
             "#fdca26"
            ],
            [
             1,
             "#f0f921"
            ]
           ]
          },
          "colorway": [
           "#636efa",
           "#EF553B",
           "#00cc96",
           "#ab63fa",
           "#FFA15A",
           "#19d3f3",
           "#FF6692",
           "#B6E880",
           "#FF97FF",
           "#FECB52"
          ],
          "font": {
           "color": "#2a3f5f"
          },
          "geo": {
           "bgcolor": "white",
           "lakecolor": "white",
           "landcolor": "white",
           "showlakes": true,
           "showland": true,
           "subunitcolor": "#C8D4E3"
          },
          "hoverlabel": {
           "align": "left"
          },
          "hovermode": "closest",
          "mapbox": {
           "style": "light"
          },
          "paper_bgcolor": "white",
          "plot_bgcolor": "white",
          "polar": {
           "angularaxis": {
            "gridcolor": "#EBF0F8",
            "linecolor": "#EBF0F8",
            "ticks": ""
           },
           "bgcolor": "white",
           "radialaxis": {
            "gridcolor": "#EBF0F8",
            "linecolor": "#EBF0F8",
            "ticks": ""
           }
          },
          "scene": {
           "xaxis": {
            "backgroundcolor": "white",
            "gridcolor": "#DFE8F3",
            "gridwidth": 2,
            "linecolor": "#EBF0F8",
            "showbackground": true,
            "ticks": "",
            "zerolinecolor": "#EBF0F8"
           },
           "yaxis": {
            "backgroundcolor": "white",
            "gridcolor": "#DFE8F3",
            "gridwidth": 2,
            "linecolor": "#EBF0F8",
            "showbackground": true,
            "ticks": "",
            "zerolinecolor": "#EBF0F8"
           },
           "zaxis": {
            "backgroundcolor": "white",
            "gridcolor": "#DFE8F3",
            "gridwidth": 2,
            "linecolor": "#EBF0F8",
            "showbackground": true,
            "ticks": "",
            "zerolinecolor": "#EBF0F8"
           }
          },
          "shapedefaults": {
           "line": {
            "color": "#2a3f5f"
           }
          },
          "ternary": {
           "aaxis": {
            "gridcolor": "#DFE8F3",
            "linecolor": "#A2B1C6",
            "ticks": ""
           },
           "baxis": {
            "gridcolor": "#DFE8F3",
            "linecolor": "#A2B1C6",
            "ticks": ""
           },
           "bgcolor": "white",
           "caxis": {
            "gridcolor": "#DFE8F3",
            "linecolor": "#A2B1C6",
            "ticks": ""
           }
          },
          "title": {
           "x": 0.05
          },
          "xaxis": {
           "automargin": true,
           "gridcolor": "#EBF0F8",
           "linecolor": "#EBF0F8",
           "ticks": "",
           "title": {
            "standoff": 15
           },
           "zerolinecolor": "#EBF0F8",
           "zerolinewidth": 2
          },
          "yaxis": {
           "automargin": true,
           "gridcolor": "#EBF0F8",
           "linecolor": "#EBF0F8",
           "ticks": "",
           "title": {
            "standoff": 15
           },
           "zerolinecolor": "#EBF0F8",
           "zerolinewidth": 2
          }
         }
        },
        "title": {
         "text": "Themenrelevanz nach Reisedauer (2019-2022)"
        },
        "width": 900,
        "xaxis": {
         "title": {
          "text": ""
         }
        },
        "yaxis": {
         "title": {
          "text": "Häufigkeit"
         }
        }
       }
      }
     },
     "metadata": {},
     "output_type": "display_data"
    }
   ],
   "source": [
    "create_grouped_radar(df_reisezeit, x_col=\"CustomName\", y_col=\"relative_count\", color_col=\"time_diff_grouped\", color_discrete_sequence=color_discrete_sequence, title=\"Themenrelevanz nach Reisedauer (2019-2022)\", xaxis_title='', yaxis_title='Häufigkeit', legend_title='Gruppe', template=template)"
   ]
  },
  {
   "attachments": {},
   "cell_type": "markdown",
   "metadata": {},
   "source": [
    "## Topic and Satisfaction"
   ]
  },
  {
   "cell_type": "code",
   "execution_count": 35,
   "metadata": {},
   "outputs": [],
   "source": [
    "# group by CustomName and calculate the mean of wime_gesamtzuf, rounded to 1 decimal place\n",
    "df_grouped = df.groupby('CustomName').agg(avg_value=('wime_gesamtzuf', lambda x: round(x.mean(), 1)), count=('wime_gesamtzuf', 'count')).reset_index().sort_values(by='avg_value')\n",
    "df_grouped  = df_grouped[df_grouped ['CustomName'] != 'Outlier']"
   ]
  },
  {
   "cell_type": "code",
   "execution_count": 32,
   "metadata": {},
   "outputs": [
    {
     "data": {
      "text/plain": [
       "84.59906038864929"
      ]
     },
     "execution_count": 32,
     "metadata": {},
     "output_type": "execute_result"
    }
   ],
   "source": [
    "# Gesamtzufriedenheit aller Daten mit und Ohne Kommentar\n",
    "filelocation = '../../data/DataClean'\n",
    "datafull = pd.read_feather(filelocation)\n",
    "datafull.wime_gesamtzuf.mean()"
   ]
  },
  {
   "cell_type": "code",
   "execution_count": 36,
   "metadata": {},
   "outputs": [
    {
     "data": {
      "text/html": [
       "<div>\n",
       "<style scoped>\n",
       "    .dataframe tbody tr th:only-of-type {\n",
       "        vertical-align: middle;\n",
       "    }\n",
       "\n",
       "    .dataframe tbody tr th {\n",
       "        vertical-align: top;\n",
       "    }\n",
       "\n",
       "    .dataframe thead th {\n",
       "        text-align: right;\n",
       "    }\n",
       "</style>\n",
       "<table border=\"1\" class=\"dataframe\">\n",
       "  <thead>\n",
       "    <tr style=\"text-align: right;\">\n",
       "      <th></th>\n",
       "      <th>CustomName</th>\n",
       "      <th>avg_value</th>\n",
       "      <th>count</th>\n",
       "    </tr>\n",
       "  </thead>\n",
       "  <tbody>\n",
       "    <tr>\n",
       "      <th>10</th>\n",
       "      <td>Platzangebot Zug</td>\n",
       "      <td>72.6</td>\n",
       "      <td>4442</td>\n",
       "    </tr>\n",
       "    <tr>\n",
       "      <th>3</th>\n",
       "      <td>Feedback Umfrage</td>\n",
       "      <td>74.9</td>\n",
       "      <td>717</td>\n",
       "    </tr>\n",
       "    <tr>\n",
       "      <th>0</th>\n",
       "      <td>Ausstattung Qualität Rollmaterial</td>\n",
       "      <td>76.5</td>\n",
       "      <td>1080</td>\n",
       "    </tr>\n",
       "    <tr>\n",
       "      <th>11</th>\n",
       "      <td>Preis-Leistung</td>\n",
       "      <td>76.6</td>\n",
       "      <td>3418</td>\n",
       "    </tr>\n",
       "    <tr>\n",
       "      <th>12</th>\n",
       "      <td>Pünktlichkeit</td>\n",
       "      <td>76.9</td>\n",
       "      <td>6972</td>\n",
       "    </tr>\n",
       "    <tr>\n",
       "      <th>14</th>\n",
       "      <td>Sauberkeit Zug und Bahnhof</td>\n",
       "      <td>77.4</td>\n",
       "      <td>1249</td>\n",
       "    </tr>\n",
       "    <tr>\n",
       "      <th>13</th>\n",
       "      <td>Raumtemperatur Zug</td>\n",
       "      <td>77.6</td>\n",
       "      <td>1292</td>\n",
       "    </tr>\n",
       "    <tr>\n",
       "      <th>1</th>\n",
       "      <td>Corona</td>\n",
       "      <td>77.8</td>\n",
       "      <td>1579</td>\n",
       "    </tr>\n",
       "    <tr>\n",
       "      <th>6</th>\n",
       "      <td>Kundeninformation</td>\n",
       "      <td>78.1</td>\n",
       "      <td>993</td>\n",
       "    </tr>\n",
       "    <tr>\n",
       "      <th>2</th>\n",
       "      <td>Fahrplanangebot</td>\n",
       "      <td>79.5</td>\n",
       "      <td>2206</td>\n",
       "    </tr>\n",
       "    <tr>\n",
       "      <th>9</th>\n",
       "      <td>Platzangebot Velo, Gepäck, Kinderwagen</td>\n",
       "      <td>79.8</td>\n",
       "      <td>2009</td>\n",
       "    </tr>\n",
       "    <tr>\n",
       "      <th>17</th>\n",
       "      <td>Vertrieb und Services</td>\n",
       "      <td>81.8</td>\n",
       "      <td>2881</td>\n",
       "    </tr>\n",
       "    <tr>\n",
       "      <th>15</th>\n",
       "      <td>Security</td>\n",
       "      <td>82.5</td>\n",
       "      <td>1389</td>\n",
       "    </tr>\n",
       "    <tr>\n",
       "      <th>18</th>\n",
       "      <td>WC Verfügbarkeit und Sauberkeit</td>\n",
       "      <td>82.8</td>\n",
       "      <td>1801</td>\n",
       "    </tr>\n",
       "    <tr>\n",
       "      <th>16</th>\n",
       "      <td>Sonstiges</td>\n",
       "      <td>82.9</td>\n",
       "      <td>1884</td>\n",
       "    </tr>\n",
       "    <tr>\n",
       "      <th>5</th>\n",
       "      <td>Kommerzielle Angebote</td>\n",
       "      <td>84.0</td>\n",
       "      <td>1182</td>\n",
       "    </tr>\n",
       "    <tr>\n",
       "      <th>4</th>\n",
       "      <td>Internet, Wlan und Mobilfunk</td>\n",
       "      <td>84.9</td>\n",
       "      <td>909</td>\n",
       "    </tr>\n",
       "    <tr>\n",
       "      <th>7</th>\n",
       "      <td>Lob</td>\n",
       "      <td>86.6</td>\n",
       "      <td>2052</td>\n",
       "    </tr>\n",
       "  </tbody>\n",
       "</table>\n",
       "</div>"
      ],
      "text/plain": [
       "                                CustomName  avg_value  count\n",
       "10                        Platzangebot Zug       72.6   4442\n",
       "3                         Feedback Umfrage       74.9    717\n",
       "0        Ausstattung Qualität Rollmaterial       76.5   1080\n",
       "11                          Preis-Leistung       76.6   3418\n",
       "12                           Pünktlichkeit       76.9   6972\n",
       "14              Sauberkeit Zug und Bahnhof       77.4   1249\n",
       "13                      Raumtemperatur Zug       77.6   1292\n",
       "1                                   Corona       77.8   1579\n",
       "6                        Kundeninformation       78.1    993\n",
       "2                          Fahrplanangebot       79.5   2206\n",
       "9   Platzangebot Velo, Gepäck, Kinderwagen       79.8   2009\n",
       "17                   Vertrieb und Services       81.8   2881\n",
       "15                                Security       82.5   1389\n",
       "18         WC Verfügbarkeit und Sauberkeit       82.8   1801\n",
       "16                               Sonstiges       82.9   1884\n",
       "5                    Kommerzielle Angebote       84.0   1182\n",
       "4             Internet, Wlan und Mobilfunk       84.9    909\n",
       "7                                      Lob       86.6   2052"
      ]
     },
     "execution_count": 36,
     "metadata": {},
     "output_type": "execute_result"
    }
   ],
   "source": [
    "df_grouped"
   ]
  },
  {
   "cell_type": "code",
   "execution_count": null,
   "metadata": {},
   "outputs": [],
   "source": []
  }
 ],
 "metadata": {
  "kernelspec": {
   "display_name": "nlp",
   "language": "python",
   "name": "python3"
  },
  "language_info": {
   "codemirror_mode": {
    "name": "ipython",
    "version": 3
   },
   "file_extension": ".py",
   "mimetype": "text/x-python",
   "name": "python",
   "nbconvert_exporter": "python",
   "pygments_lexer": "ipython3",
   "version": "3.8.16"
  },
  "orig_nbformat": 4,
  "vscode": {
   "interpreter": {
    "hash": "2c54f9282dd36543c8181ef7676bc28d81677c039b129753722332dc3d171a18"
   }
  }
 },
 "nbformat": 4,
 "nbformat_minor": 2
}
