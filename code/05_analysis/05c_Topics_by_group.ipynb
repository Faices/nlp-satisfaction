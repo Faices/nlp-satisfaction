{
 "cells": [
  {
   "attachments": {},
   "cell_type": "markdown",
   "metadata": {},
   "source": [
    "# Topics by Customer Groups"
   ]
  },
  {
   "cell_type": "code",
   "execution_count": 2,
   "metadata": {},
   "outputs": [
    {
     "name": "stderr",
     "output_type": "stream",
     "text": [
      "2023-05-26 07:34:02.995928: I tensorflow/core/platform/cpu_feature_guard.cc:193] This TensorFlow binary is optimized with oneAPI Deep Neural Network Library (oneDNN) to use the following CPU instructions in performance-critical operations:  AVX2 FMA\n",
      "To enable them in other operations, rebuild TensorFlow with the appropriate compiler flags.\n"
     ]
    }
   ],
   "source": [
    "import sys\n",
    "import os\n",
    "sys.path.append(os.path.abspath('../')) ## needed to import the function.py file\n",
    "from functions import *\n",
    "import pandas as pd\n",
    "import plotly.express as px\n",
    "import plotly.io as pio"
   ]
  },
  {
   "cell_type": "code",
   "execution_count": 3,
   "metadata": {},
   "outputs": [],
   "source": [
    "# Set colortheme\n",
    "color_discrete_sequence=color_discrete_kuzu"
   ]
  },
  {
   "cell_type": "code",
   "execution_count": 4,
   "metadata": {},
   "outputs": [],
   "source": [
    "## Import docs\n",
    "filelocation = '../../data/DataTextTrain'\n",
    "data = pd.read_feather(filelocation)\n",
    "data = data\n",
    "docs = data[\"Kommentar\"].values\n",
    "timestamps = data.yearquarter.to_list()\n",
    "gender = [data[\"S_sex\"][i] for i in range(len(data[\"S_sex\"]))]\n",
    "\n",
    "# Load the Original Topic Model\n",
    "topic_model = BERTopic.load(\"../../models/BERTTopic_paraphrase-multilingual-MiniLM-L12-v2_merged_oulier_reduced.model\")\n",
    "df_topic = topic_model.get_document_info(docs)\n",
    "\n",
    "\n",
    "# Create full dataframe with all infomration\n",
    "df = data.join(df_topic)\n",
    "\n",
    "\n",
    "\n",
    "#### Add grouped Age col #####\n",
    "df['S_alter'] = pd.to_numeric(df['S_alter'], errors='coerce')\n",
    "bins = [0, 24, 44, 64, 100]\n",
    "labels = [\"15-24 Jahre\", \"25-44 Jahre\", \"45-64 Jahre\", \"65-100 Jahre\"]\n",
    "df['S_alter_grouped'] = pd.cut(df['S_alter'], bins=bins, labels=labels)\n",
    "\n",
    "# Create Dataframe for viz\n",
    "df_topics_by_quarter = get_topic_ratios(df, timeframe_col='yearquarter', name_col='CustomName', topic_col='Topic')\n",
    "\n",
    "\n",
    "\n",
    "###### Convert the two columns to datetime format #####\n",
    "df['fg_abfahrt'] = pd.to_datetime(df['fg_abfahrt'], format='%H:%M:%S')\n",
    "df['fg_ankunft'] = pd.to_datetime(df['fg_ankunft'], format='%H:%M:%S')\n",
    "\n",
    "# calculate the time difference between the two columns\n",
    "df['time_diff'] = df['fg_ankunft'] - df['fg_abfahrt']\n",
    "\n",
    "# define the time difference groups\n",
    "time_groups = pd.cut(df['time_diff'], bins=[pd.Timedelta(minutes=0), pd.Timedelta(minutes=15), \n",
    "                                             pd.Timedelta(minutes=60), pd.Timedelta(minutes=180), \n",
    "                                             pd.Timedelta.max],\n",
    "                    labels=['bis 15 Minuten', '16 bis 60 Minuten', '61 bis 180 Minuten', \n",
    "                            'Mehr als 180 Minuten'])\n",
    "\n",
    "# add the time difference groups as a new column to the DataFrame\n",
    "df['time_diff_grouped'] = time_groups"
   ]
  },
  {
   "cell_type": "code",
   "execution_count": 5,
   "metadata": {},
   "outputs": [],
   "source": [
    "ft_vm = df.ft_vm.value_counts()"
   ]
  },
  {
   "cell_type": "code",
   "execution_count": 6,
   "metadata": {},
   "outputs": [],
   "source": [
    "# Create and extract IC Linien\n",
    "def extract_linie(x):\n",
    "    if x.startswith(\"IC\"):\n",
    "        return x[:4]\n",
    "    elif x.startswith(\"S\"):\n",
    "        return x[:4]\n",
    "    elif x.startswith(\"IR\"):\n",
    "        return x[:5]\n",
    "    elif x.startswith(\"EC\"):\n",
    "        if x.startswith(\"ICE\"):\n",
    "            return x[:3]\n",
    "        else:\n",
    "            return x[:2]\n",
    "    else:\n",
    "        return x  # default case\n",
    "\n",
    "df['linie'] = df['ft_vm'].apply(lambda x: extract_linie(x))\n",
    "df['linie']= df['linie'].str.replace('-', ' ')\n",
    "df_linie = df[df['linie'].isin(['IC 1', 'IC 2', 'IC 3', 'IC 5', 'IC 6', 'IC 8'])]"
   ]
  },
  {
   "attachments": {},
   "cell_type": "markdown",
   "metadata": {},
   "source": [
    "## Prepare Aggregated dataframes for Viz"
   ]
  },
  {
   "cell_type": "code",
   "execution_count": 7,
   "metadata": {},
   "outputs": [],
   "source": [
    "df_gender = compute_categorical_counts(df, categorical_col=\"S_sex\", name_col=\"CustomName\")\n",
    "df_gender['S_sex'] = df_gender['S_sex'].cat.remove_categories(['divers']) # to remove the values comletly also in the categories of the object\n",
    "df_gender = df_gender[df_gender[\"CustomName\"] != 'Outlier']\n",
    "df_gender = df_gender.dropna(subset=[\"S_sex\"])  # Remove rows with NaN values in the \"S_sex\" column\n",
    "# df_gender = df_gender.sort_values(by='count',ascending=False)\n",
    "\n",
    "df_agegroup = compute_categorical_counts(df, categorical_col=\"S_alter_grouped\", name_col=\"CustomName\")\n",
    "df_agegroup  = df_agegroup[df_agegroup[\"CustomName\"] != 'Outlier']\n",
    "# df_agegroup = df_agegroup.sort_values(by='count',ascending=False)\n",
    "\n",
    "df_u_klassencode = compute_categorical_counts(df, categorical_col=\"u_klassencode\", name_col=\"CustomName\")\n",
    "df_u_klassencode = df_u_klassencode[df_u_klassencode[\"CustomName\"] != 'Outlier']\n",
    "# df_u_klassencode = df_u_klassencode.sort_values(by='count',ascending=False)\n",
    "\n",
    "df_R_zweck = compute_categorical_counts(df, categorical_col=\"R_zweck\", name_col=\"CustomName\")\n",
    "df_R_zweck = df_R_zweck[df_R_zweck[\"CustomName\"] != 'Outlier']\n",
    "df_R_zweck['R_zweck'] = df_R_zweck['R_zweck'].cat.remove_categories(['Sonstige']) # to remove the values comletly also in the categories of the object\n",
    "df_R_zweck = df_R_zweck.dropna(subset=[\"R_zweck\"])  # Remove rows with NaN values\n",
    "# df_R_zweck = df_R_zweck.sort_values(by='count',ascending=False)\n",
    "\n",
    "df_reisezeit = compute_categorical_counts(df, categorical_col=\"time_diff_grouped\", name_col=\"CustomName\")\n",
    "df_reisezeit= df_reisezeit[df_reisezeit[\"CustomName\"] != 'Outlier']\n",
    "# df_reisezeit = df_reisezeit.sort_values(by='count',ascending=False)\n",
    "\n",
    "df_season = compute_categorical_counts(df, categorical_col=\"season\", name_col=\"CustomName\")\n",
    "df_season= df_season[df_season[\"CustomName\"] != 'Outlier']\n",
    "# df_season = df_season.sort_values(by='count',ascending=False)\n",
    "\n",
    "\n",
    "df_wohnsitz = compute_categorical_counts(df, categorical_col=\"S_wohnsitz\", name_col=\"CustomName\")\n",
    "df_wohnsitz = df_wohnsitz[df_wohnsitz[\"CustomName\"] != 'Outlier']\n",
    "# df_wohnsitz = df_wohnsitz.sort_values(by='count',ascending=False)\n",
    "\n",
    "df_ft_tu = compute_categorical_counts(df, categorical_col=\"ft_tu\", name_col=\"CustomName\")\n",
    "df_ft_tu['ft_tu'] = df_ft_tu['ft_tu'].astype('category')\n",
    "df_ft_tu['ft_tu'] = df_ft_tu['ft_tu'].cat.remove_unused_categories()\n",
    "df_ft_tu['ft_tu'] = df_ft_tu['ft_tu'].cat.set_categories(['SBB', 'BLS', 'SOB'])\n",
    "df_ft_tu = df_ft_tu[df_ft_tu['ft_tu'].isin(['SBB', 'BLS', 'SOB'])]\n",
    "df_ft_tu = df_ft_tu[df_ft_tu[\"CustomName\"] != 'Outlier']\n",
    "# df_ft_tu = df_ft_tu.sort_values(by='count',ascending=False)\n",
    "\n",
    "\n",
    "df_ft_vm_kurz = compute_categorical_counts(df, categorical_col='ft_vm_kurz', name_col=\"CustomName\")\n",
    "df_ft_vm_kurz['ft_vm_kurz'] = df_ft_vm_kurz['ft_vm_kurz'].astype('category')\n",
    "df_ft_vm_kurz['ft_vm_kurz'] = df_ft_vm_kurz['ft_vm_kurz'].cat.remove_unused_categories()\n",
    "df_ft_vm_kurz['ft_vm_kurz'] = df_ft_vm_kurz['ft_vm_kurz'].cat.set_categories(['IC', 'IR', 'S','RE','EC'])\n",
    "df_ft_vm_kurz = df_ft_vm_kurz[df_ft_vm_kurz['ft_vm_kurz'].isin(['IC', 'IR', 'S','RE','EC'])]\n",
    "df_ft_vm_kurz = df_ft_vm_kurz[df_ft_vm_kurz[\"CustomName\"] != 'Outlier']\n",
    "# df_ft_vm_kurz = df_ft_vm_kurz.sort_values(by='count',ascending=False)\n",
    "\n",
    "df_u_ticket = compute_categorical_counts(df, categorical_col=\"u_ticket\", name_col=\"CustomName\")\n",
    "df_u_ticket['u_ticket'] = df_u_ticket['u_ticket'].astype('category')\n",
    "df_u_ticket['u_ticket'] = df_u_ticket['u_ticket'].cat.remove_unused_categories()\n",
    "df_u_ticket['u_ticket'] = df_u_ticket['u_ticket'].cat.set_categories(['Mobile-Ticket', 'Online-Ticket', 'Easy Ride'])\n",
    "df_u_ticket = df_u_ticket[df_u_ticket['u_ticket'].isin(['Mobile-Ticket', 'Online-Ticket', 'Easy Ride'])]\n",
    "df_u_ticket = df_u_ticket[df_u_ticket[\"CustomName\"] != 'Outlier']\n",
    "\n",
    "\n",
    "df_ft_vm = compute_categorical_counts(df_linie, categorical_col=\"linie\", name_col=\"CustomName\")\n",
    "#df_ft_vm['S_sex'] = df_ft_vm['ft_vm'].cat.remove_categories(['divers']) # to remove the values comletly also in the categories of the object\n",
    "df_ft_vm = df_ft_vm[df_ft_vm[\"CustomName\"] != 'Outlier']\n"
   ]
  },
  {
   "attachments": {},
   "cell_type": "markdown",
   "metadata": {},
   "source": [
    "## Plot Charts"
   ]
  },
  {
   "cell_type": "code",
   "execution_count": 85,
   "metadata": {},
   "outputs": [],
   "source": [
    "import plotly.io as pio\n",
    "\n",
    "def create_grouped_barchart(df, x_col, y_col, color_col, color_discrete_sequence, ignore_group=None, title='', xaxis_title='', yaxis_title='', legend_title='', template='', path='', filename=''):\n",
    "    if ignore_group:\n",
    "        df = df[df[color_col] != ignore_group]\n",
    "    fig = px.bar(df,\n",
    "                 x=x_col,\n",
    "                 y=y_col,\n",
    "                 color=color_col,\n",
    "                 hover_data=[color_col, y_col, x_col],\n",
    "                 color_discrete_sequence=color_discrete_sequence,\n",
    "                 barmode='group')\n",
    "\n",
    "    fig.update_layout(\n",
    "        width=900,\n",
    "        height=600,\n",
    "        title=title,\n",
    "        yaxis_title=yaxis_title,\n",
    "        xaxis_title=xaxis_title,\n",
    "        legend_title=legend_title,\n",
    "    )\n",
    "\n",
    "    fig.update_xaxes(showgrid=False, tickmode='linear', tickangle=90, tickfont=dict(size=12), tickwidth=1)\n",
    "    fig.update_yaxes(showgrid=True, gridwidth=1, gridcolor='rgba(0,0,0,0.1)')\n",
    "    fig.update_yaxes(title_font=dict(size=12))\n",
    "\n",
    "    # Wrap long x-axis labels on two lines and rotate by 270 degrees\n",
    "    fig.update_layout(yaxis_range=[0, 0.29])\n",
    "    fig.update_layout(\n",
    "        xaxis=dict(\n",
    "            tickmode='array',\n",
    "            tickvals=list(range(len(df[x_col]))),\n",
    "            ticktext=[x.replace(' ', '<br>') if len(x) > 40 else x for x in df[x_col]],\n",
    "            automargin=True,\n",
    "            tickangle=45,\n",
    "            tickfont=dict(size=12),\n",
    "        )\n",
    "    )\n",
    "    fig.update_yaxes(title=dict(text='Relative Häufigkeit', font=dict(size=12)))\n",
    "\n",
    "    if path and filename:\n",
    "        full_path = f\"{path}/{filename}.svg\"\n",
    "        pio.write_image(fig, full_path, format='svg')\n",
    "\n",
    "    fig.show()\n"
   ]
  },
  {
   "cell_type": "code",
   "execution_count": 86,
   "metadata": {},
   "outputs": [],
   "source": [
    "# Image Path\n",
    "path=\"../../exports/images/\""
   ]
  },
  {
   "cell_type": "code",
   "execution_count": 87,
   "metadata": {},
   "outputs": [
    {
     "data": {
      "application/vnd.plotly.v1+json": {
       "config": {
        "plotlyServerURL": "https://plot.ly"
       },
       "data": [
        {
         "alignmentgroup": "True",
         "customdata": [
          [
           "männlich"
          ],
          [
           "männlich"
          ],
          [
           "männlich"
          ],
          [
           "männlich"
          ],
          [
           "männlich"
          ],
          [
           "männlich"
          ],
          [
           "männlich"
          ],
          [
           "männlich"
          ],
          [
           "männlich"
          ],
          [
           "männlich"
          ],
          [
           "männlich"
          ],
          [
           "männlich"
          ],
          [
           "männlich"
          ],
          [
           "männlich"
          ],
          [
           "männlich"
          ],
          [
           "männlich"
          ],
          [
           "männlich"
          ],
          [
           "männlich"
          ]
         ],
         "hovertemplate": "S_sex=%{customdata[0]}<br>CustomName=%{x}<br>relative_count=%{y}<extra></extra>",
         "legendgroup": "männlich",
         "marker": {
          "color": "#49787F",
          "pattern": {
           "shape": ""
          }
         },
         "name": "männlich",
         "offsetgroup": "männlich",
         "orientation": "v",
         "showlegend": true,
         "textposition": "auto",
         "type": "bar",
         "x": [
          "Ausstattung Qualität Rollmaterial",
          "Corona",
          "Fahrplanangebot",
          "Feedback Umfrage",
          "Internet, Wlan und Mobilfunk",
          "Kommerzielle Angebote",
          "Kundeninformation",
          "Lob",
          "Platzangebot Velo, Gepäck, Kinderwagen",
          "Platzangebot Zug",
          "Preis-Leistung",
          "Pünktlichkeit",
          "Raumtemperatur Zug",
          "Sauberkeit Zug und Bahnhof",
          "Security",
          "Sonstiges",
          "Vertrieb und Services",
          "WC Verfügbarkeit und Sauberkeit"
         ],
         "xaxis": "x",
         "y": [
          0.031170574977221505,
          0.035102862897424834,
          0.06334819929986094,
          0.023929410636359276,
          0.02589555459646094,
          0.030643072939145446,
          0.026471011365271184,
          0.06253296887737976,
          0.05212679230806119,
          0.10909701242027527,
          0.09073035054908167,
          0.18879777490049393,
          0.02762192490289167,
          0.029252385747854028,
          0.023929410636359276,
          0.048530187502997174,
          0.0866062437059416,
          0.03462331559008296
         ],
         "yaxis": "y"
        },
        {
         "alignmentgroup": "True",
         "customdata": [
          [
           "weiblich"
          ],
          [
           "weiblich"
          ],
          [
           "weiblich"
          ],
          [
           "weiblich"
          ],
          [
           "weiblich"
          ],
          [
           "weiblich"
          ],
          [
           "weiblich"
          ],
          [
           "weiblich"
          ],
          [
           "weiblich"
          ],
          [
           "weiblich"
          ],
          [
           "weiblich"
          ],
          [
           "weiblich"
          ],
          [
           "weiblich"
          ],
          [
           "weiblich"
          ],
          [
           "weiblich"
          ],
          [
           "weiblich"
          ],
          [
           "weiblich"
          ],
          [
           "weiblich"
          ]
         ],
         "hovertemplate": "S_sex=%{customdata[0]}<br>CustomName=%{x}<br>relative_count=%{y}<extra></extra>",
         "legendgroup": "weiblich",
         "marker": {
          "color": "#A96262",
          "pattern": {
           "shape": ""
          }
         },
         "name": "weiblich",
         "offsetgroup": "weiblich",
         "orientation": "v",
         "showlegend": true,
         "textposition": "auto",
         "type": "bar",
         "x": [
          "Ausstattung Qualität Rollmaterial",
          "Corona",
          "Fahrplanangebot",
          "Feedback Umfrage",
          "Internet, Wlan und Mobilfunk",
          "Kommerzielle Angebote",
          "Kundeninformation",
          "Lob",
          "Platzangebot Velo, Gepäck, Kinderwagen",
          "Platzangebot Zug",
          "Preis-Leistung",
          "Pünktlichkeit",
          "Raumtemperatur Zug",
          "Sauberkeit Zug und Bahnhof",
          "Security",
          "Sonstiges",
          "Vertrieb und Services",
          "WC Verfügbarkeit und Sauberkeit"
         ],
         "xaxis": "x",
         "y": [
          0.024209342055918997,
          0.045668569523730156,
          0.07029459560815034,
          0.01370890453768907,
          0.01904246010250427,
          0.027876161506729447,
          0.024084336847368642,
          0.05225217717404892,
          0.0475436476519855,
          0.11792158006583607,
          0.09167048627026127,
          0.1826326096920705,
          0.03775157298220759,
          0.03141797574898954,
          0.03929330388766199,
          0.04837701570898788,
          0.06904454352264677,
          0.051002125088545354
         ],
         "yaxis": "y"
        }
       ],
       "layout": {
        "barmode": "group",
        "height": 600,
        "legend": {
         "title": {
          "text": ""
         },
         "tracegroupgap": 0
        },
        "margin": {
         "t": 60
        },
        "template": {
         "data": {
          "bar": [
           {
            "error_x": {
             "color": "#2a3f5f"
            },
            "error_y": {
             "color": "#2a3f5f"
            },
            "marker": {
             "line": {
              "color": "#E5ECF6",
              "width": 0.5
             },
             "pattern": {
              "fillmode": "overlay",
              "size": 10,
              "solidity": 0.2
             }
            },
            "type": "bar"
           }
          ],
          "barpolar": [
           {
            "marker": {
             "line": {
              "color": "#E5ECF6",
              "width": 0.5
             },
             "pattern": {
              "fillmode": "overlay",
              "size": 10,
              "solidity": 0.2
             }
            },
            "type": "barpolar"
           }
          ],
          "carpet": [
           {
            "aaxis": {
             "endlinecolor": "#2a3f5f",
             "gridcolor": "white",
             "linecolor": "white",
             "minorgridcolor": "white",
             "startlinecolor": "#2a3f5f"
            },
            "baxis": {
             "endlinecolor": "#2a3f5f",
             "gridcolor": "white",
             "linecolor": "white",
             "minorgridcolor": "white",
             "startlinecolor": "#2a3f5f"
            },
            "type": "carpet"
           }
          ],
          "choropleth": [
           {
            "colorbar": {
             "outlinewidth": 0,
             "ticks": ""
            },
            "type": "choropleth"
           }
          ],
          "contour": [
           {
            "colorbar": {
             "outlinewidth": 0,
             "ticks": ""
            },
            "colorscale": [
             [
              0,
              "#0d0887"
             ],
             [
              0.1111111111111111,
              "#46039f"
             ],
             [
              0.2222222222222222,
              "#7201a8"
             ],
             [
              0.3333333333333333,
              "#9c179e"
             ],
             [
              0.4444444444444444,
              "#bd3786"
             ],
             [
              0.5555555555555556,
              "#d8576b"
             ],
             [
              0.6666666666666666,
              "#ed7953"
             ],
             [
              0.7777777777777778,
              "#fb9f3a"
             ],
             [
              0.8888888888888888,
              "#fdca26"
             ],
             [
              1,
              "#f0f921"
             ]
            ],
            "type": "contour"
           }
          ],
          "contourcarpet": [
           {
            "colorbar": {
             "outlinewidth": 0,
             "ticks": ""
            },
            "type": "contourcarpet"
           }
          ],
          "heatmap": [
           {
            "colorbar": {
             "outlinewidth": 0,
             "ticks": ""
            },
            "colorscale": [
             [
              0,
              "#0d0887"
             ],
             [
              0.1111111111111111,
              "#46039f"
             ],
             [
              0.2222222222222222,
              "#7201a8"
             ],
             [
              0.3333333333333333,
              "#9c179e"
             ],
             [
              0.4444444444444444,
              "#bd3786"
             ],
             [
              0.5555555555555556,
              "#d8576b"
             ],
             [
              0.6666666666666666,
              "#ed7953"
             ],
             [
              0.7777777777777778,
              "#fb9f3a"
             ],
             [
              0.8888888888888888,
              "#fdca26"
             ],
             [
              1,
              "#f0f921"
             ]
            ],
            "type": "heatmap"
           }
          ],
          "heatmapgl": [
           {
            "colorbar": {
             "outlinewidth": 0,
             "ticks": ""
            },
            "colorscale": [
             [
              0,
              "#0d0887"
             ],
             [
              0.1111111111111111,
              "#46039f"
             ],
             [
              0.2222222222222222,
              "#7201a8"
             ],
             [
              0.3333333333333333,
              "#9c179e"
             ],
             [
              0.4444444444444444,
              "#bd3786"
             ],
             [
              0.5555555555555556,
              "#d8576b"
             ],
             [
              0.6666666666666666,
              "#ed7953"
             ],
             [
              0.7777777777777778,
              "#fb9f3a"
             ],
             [
              0.8888888888888888,
              "#fdca26"
             ],
             [
              1,
              "#f0f921"
             ]
            ],
            "type": "heatmapgl"
           }
          ],
          "histogram": [
           {
            "marker": {
             "pattern": {
              "fillmode": "overlay",
              "size": 10,
              "solidity": 0.2
             }
            },
            "type": "histogram"
           }
          ],
          "histogram2d": [
           {
            "colorbar": {
             "outlinewidth": 0,
             "ticks": ""
            },
            "colorscale": [
             [
              0,
              "#0d0887"
             ],
             [
              0.1111111111111111,
              "#46039f"
             ],
             [
              0.2222222222222222,
              "#7201a8"
             ],
             [
              0.3333333333333333,
              "#9c179e"
             ],
             [
              0.4444444444444444,
              "#bd3786"
             ],
             [
              0.5555555555555556,
              "#d8576b"
             ],
             [
              0.6666666666666666,
              "#ed7953"
             ],
             [
              0.7777777777777778,
              "#fb9f3a"
             ],
             [
              0.8888888888888888,
              "#fdca26"
             ],
             [
              1,
              "#f0f921"
             ]
            ],
            "type": "histogram2d"
           }
          ],
          "histogram2dcontour": [
           {
            "colorbar": {
             "outlinewidth": 0,
             "ticks": ""
            },
            "colorscale": [
             [
              0,
              "#0d0887"
             ],
             [
              0.1111111111111111,
              "#46039f"
             ],
             [
              0.2222222222222222,
              "#7201a8"
             ],
             [
              0.3333333333333333,
              "#9c179e"
             ],
             [
              0.4444444444444444,
              "#bd3786"
             ],
             [
              0.5555555555555556,
              "#d8576b"
             ],
             [
              0.6666666666666666,
              "#ed7953"
             ],
             [
              0.7777777777777778,
              "#fb9f3a"
             ],
             [
              0.8888888888888888,
              "#fdca26"
             ],
             [
              1,
              "#f0f921"
             ]
            ],
            "type": "histogram2dcontour"
           }
          ],
          "mesh3d": [
           {
            "colorbar": {
             "outlinewidth": 0,
             "ticks": ""
            },
            "type": "mesh3d"
           }
          ],
          "parcoords": [
           {
            "line": {
             "colorbar": {
              "outlinewidth": 0,
              "ticks": ""
             }
            },
            "type": "parcoords"
           }
          ],
          "pie": [
           {
            "automargin": true,
            "type": "pie"
           }
          ],
          "scatter": [
           {
            "fillpattern": {
             "fillmode": "overlay",
             "size": 10,
             "solidity": 0.2
            },
            "type": "scatter"
           }
          ],
          "scatter3d": [
           {
            "line": {
             "colorbar": {
              "outlinewidth": 0,
              "ticks": ""
             }
            },
            "marker": {
             "colorbar": {
              "outlinewidth": 0,
              "ticks": ""
             }
            },
            "type": "scatter3d"
           }
          ],
          "scattercarpet": [
           {
            "marker": {
             "colorbar": {
              "outlinewidth": 0,
              "ticks": ""
             }
            },
            "type": "scattercarpet"
           }
          ],
          "scattergeo": [
           {
            "marker": {
             "colorbar": {
              "outlinewidth": 0,
              "ticks": ""
             }
            },
            "type": "scattergeo"
           }
          ],
          "scattergl": [
           {
            "marker": {
             "colorbar": {
              "outlinewidth": 0,
              "ticks": ""
             }
            },
            "type": "scattergl"
           }
          ],
          "scattermapbox": [
           {
            "marker": {
             "colorbar": {
              "outlinewidth": 0,
              "ticks": ""
             }
            },
            "type": "scattermapbox"
           }
          ],
          "scatterpolar": [
           {
            "marker": {
             "colorbar": {
              "outlinewidth": 0,
              "ticks": ""
             }
            },
            "type": "scatterpolar"
           }
          ],
          "scatterpolargl": [
           {
            "marker": {
             "colorbar": {
              "outlinewidth": 0,
              "ticks": ""
             }
            },
            "type": "scatterpolargl"
           }
          ],
          "scatterternary": [
           {
            "marker": {
             "colorbar": {
              "outlinewidth": 0,
              "ticks": ""
             }
            },
            "type": "scatterternary"
           }
          ],
          "surface": [
           {
            "colorbar": {
             "outlinewidth": 0,
             "ticks": ""
            },
            "colorscale": [
             [
              0,
              "#0d0887"
             ],
             [
              0.1111111111111111,
              "#46039f"
             ],
             [
              0.2222222222222222,
              "#7201a8"
             ],
             [
              0.3333333333333333,
              "#9c179e"
             ],
             [
              0.4444444444444444,
              "#bd3786"
             ],
             [
              0.5555555555555556,
              "#d8576b"
             ],
             [
              0.6666666666666666,
              "#ed7953"
             ],
             [
              0.7777777777777778,
              "#fb9f3a"
             ],
             [
              0.8888888888888888,
              "#fdca26"
             ],
             [
              1,
              "#f0f921"
             ]
            ],
            "type": "surface"
           }
          ],
          "table": [
           {
            "cells": {
             "fill": {
              "color": "#EBF0F8"
             },
             "line": {
              "color": "white"
             }
            },
            "header": {
             "fill": {
              "color": "#C8D4E3"
             },
             "line": {
              "color": "white"
             }
            },
            "type": "table"
           }
          ]
         },
         "layout": {
          "annotationdefaults": {
           "arrowcolor": "#2a3f5f",
           "arrowhead": 0,
           "arrowwidth": 1
          },
          "autotypenumbers": "strict",
          "coloraxis": {
           "colorbar": {
            "outlinewidth": 0,
            "ticks": ""
           }
          },
          "colorscale": {
           "diverging": [
            [
             0,
             "#8e0152"
            ],
            [
             0.1,
             "#c51b7d"
            ],
            [
             0.2,
             "#de77ae"
            ],
            [
             0.3,
             "#f1b6da"
            ],
            [
             0.4,
             "#fde0ef"
            ],
            [
             0.5,
             "#f7f7f7"
            ],
            [
             0.6,
             "#e6f5d0"
            ],
            [
             0.7,
             "#b8e186"
            ],
            [
             0.8,
             "#7fbc41"
            ],
            [
             0.9,
             "#4d9221"
            ],
            [
             1,
             "#276419"
            ]
           ],
           "sequential": [
            [
             0,
             "#0d0887"
            ],
            [
             0.1111111111111111,
             "#46039f"
            ],
            [
             0.2222222222222222,
             "#7201a8"
            ],
            [
             0.3333333333333333,
             "#9c179e"
            ],
            [
             0.4444444444444444,
             "#bd3786"
            ],
            [
             0.5555555555555556,
             "#d8576b"
            ],
            [
             0.6666666666666666,
             "#ed7953"
            ],
            [
             0.7777777777777778,
             "#fb9f3a"
            ],
            [
             0.8888888888888888,
             "#fdca26"
            ],
            [
             1,
             "#f0f921"
            ]
           ],
           "sequentialminus": [
            [
             0,
             "#0d0887"
            ],
            [
             0.1111111111111111,
             "#46039f"
            ],
            [
             0.2222222222222222,
             "#7201a8"
            ],
            [
             0.3333333333333333,
             "#9c179e"
            ],
            [
             0.4444444444444444,
             "#bd3786"
            ],
            [
             0.5555555555555556,
             "#d8576b"
            ],
            [
             0.6666666666666666,
             "#ed7953"
            ],
            [
             0.7777777777777778,
             "#fb9f3a"
            ],
            [
             0.8888888888888888,
             "#fdca26"
            ],
            [
             1,
             "#f0f921"
            ]
           ]
          },
          "colorway": [
           "#636efa",
           "#EF553B",
           "#00cc96",
           "#ab63fa",
           "#FFA15A",
           "#19d3f3",
           "#FF6692",
           "#B6E880",
           "#FF97FF",
           "#FECB52"
          ],
          "font": {
           "color": "#2a3f5f"
          },
          "geo": {
           "bgcolor": "white",
           "lakecolor": "white",
           "landcolor": "#E5ECF6",
           "showlakes": true,
           "showland": true,
           "subunitcolor": "white"
          },
          "hoverlabel": {
           "align": "left"
          },
          "hovermode": "closest",
          "mapbox": {
           "style": "light"
          },
          "paper_bgcolor": "white",
          "plot_bgcolor": "#E5ECF6",
          "polar": {
           "angularaxis": {
            "gridcolor": "white",
            "linecolor": "white",
            "ticks": ""
           },
           "bgcolor": "#E5ECF6",
           "radialaxis": {
            "gridcolor": "white",
            "linecolor": "white",
            "ticks": ""
           }
          },
          "scene": {
           "xaxis": {
            "backgroundcolor": "#E5ECF6",
            "gridcolor": "white",
            "gridwidth": 2,
            "linecolor": "white",
            "showbackground": true,
            "ticks": "",
            "zerolinecolor": "white"
           },
           "yaxis": {
            "backgroundcolor": "#E5ECF6",
            "gridcolor": "white",
            "gridwidth": 2,
            "linecolor": "white",
            "showbackground": true,
            "ticks": "",
            "zerolinecolor": "white"
           },
           "zaxis": {
            "backgroundcolor": "#E5ECF6",
            "gridcolor": "white",
            "gridwidth": 2,
            "linecolor": "white",
            "showbackground": true,
            "ticks": "",
            "zerolinecolor": "white"
           }
          },
          "shapedefaults": {
           "line": {
            "color": "#2a3f5f"
           }
          },
          "ternary": {
           "aaxis": {
            "gridcolor": "white",
            "linecolor": "white",
            "ticks": ""
           },
           "baxis": {
            "gridcolor": "white",
            "linecolor": "white",
            "ticks": ""
           },
           "bgcolor": "#E5ECF6",
           "caxis": {
            "gridcolor": "white",
            "linecolor": "white",
            "ticks": ""
           }
          },
          "title": {
           "x": 0.05
          },
          "xaxis": {
           "automargin": true,
           "gridcolor": "white",
           "linecolor": "white",
           "ticks": "",
           "title": {
            "standoff": 15
           },
           "zerolinecolor": "white",
           "zerolinewidth": 2
          },
          "yaxis": {
           "automargin": true,
           "gridcolor": "white",
           "linecolor": "white",
           "ticks": "",
           "title": {
            "standoff": 15
           },
           "zerolinecolor": "white",
           "zerolinewidth": 2
          }
         }
        },
        "title": {
         "text": "Themenrelevanz nach Geschlecht (2019-2022)"
        },
        "width": 900,
        "xaxis": {
         "anchor": "y",
         "automargin": true,
         "domain": [
          0,
          1
         ],
         "showgrid": false,
         "tickangle": 45,
         "tickfont": {
          "size": 12
         },
         "tickmode": "array",
         "ticktext": [
          "Ausstattung Qualität Rollmaterial",
          "Corona",
          "Fahrplanangebot",
          "Feedback Umfrage",
          "Internet, Wlan und Mobilfunk",
          "Kommerzielle Angebote",
          "Kundeninformation",
          "Lob",
          "Platzangebot Velo, Gepäck, Kinderwagen",
          "Platzangebot Zug",
          "Preis-Leistung",
          "Pünktlichkeit",
          "Raumtemperatur Zug",
          "Sauberkeit Zug und Bahnhof",
          "Security",
          "Sonstiges",
          "Vertrieb und Services",
          "WC Verfügbarkeit und Sauberkeit",
          "Ausstattung Qualität Rollmaterial",
          "Corona",
          "Fahrplanangebot",
          "Feedback Umfrage",
          "Internet, Wlan und Mobilfunk",
          "Kommerzielle Angebote",
          "Kundeninformation",
          "Lob",
          "Platzangebot Velo, Gepäck, Kinderwagen",
          "Platzangebot Zug",
          "Preis-Leistung",
          "Pünktlichkeit",
          "Raumtemperatur Zug",
          "Sauberkeit Zug und Bahnhof",
          "Security",
          "Sonstiges",
          "Vertrieb und Services",
          "WC Verfügbarkeit und Sauberkeit"
         ],
         "tickvals": [
          0,
          1,
          2,
          3,
          4,
          5,
          6,
          7,
          8,
          9,
          10,
          11,
          12,
          13,
          14,
          15,
          16,
          17,
          18,
          19,
          20,
          21,
          22,
          23,
          24,
          25,
          26,
          27,
          28,
          29,
          30,
          31,
          32,
          33,
          34,
          35
         ],
         "tickwidth": 1,
         "title": {
          "text": ""
         }
        },
        "yaxis": {
         "anchor": "x",
         "domain": [
          0,
          1
         ],
         "gridcolor": "rgba(0,0,0,0.1)",
         "gridwidth": 1,
         "range": [
          0,
          0.29
         ],
         "showgrid": true,
         "title": {
          "font": {
           "size": 12
          },
          "text": "Relative Häufigkeit"
         }
        }
       }
      }
     },
     "metadata": {},
     "output_type": "display_data"
    }
   ],
   "source": [
    "create_grouped_barchart(df_gender,\n",
    "                        x_col=\"CustomName\",\n",
    "                        y_col=\"relative_count\",\n",
    "                        color_col=\"S_sex\",\n",
    "                        color_discrete_sequence=color_discrete_sequence,\n",
    "                        title=\"Themenrelevanz nach Geschlecht (2019-2022)\",\n",
    "                        xaxis_title='',\n",
    "                        yaxis_title='',\n",
    "                        legend_title='',\n",
    "                        template=template,\n",
    "                        path=path,\n",
    "                        filename=\"Themenrelevanz_Geschlecht\"\n",
    "                        )"
   ]
  },
  {
   "cell_type": "code",
   "execution_count": 80,
   "metadata": {},
   "outputs": [],
   "source": [
    "# create_grouped_radar(df_gender, x_col=\"CustomName\", y_col=\"relative_count\", color_col=\"S_sex\", color_discrete_sequence=color_discrete_sequence, title=\"Themenrelevanz nach Geschlecht (2019-2022)\", xaxis_title='', yaxis_title='Häufigkeit', legend_title='', template=template)"
   ]
  },
  {
   "cell_type": "code",
   "execution_count": 88,
   "metadata": {},
   "outputs": [
    {
     "data": {
      "application/vnd.plotly.v1+json": {
       "config": {
        "plotlyServerURL": "https://plot.ly"
       },
       "data": [
        {
         "alignmentgroup": "True",
         "customdata": [
          [
           "15-24 Jahre"
          ],
          [
           "15-24 Jahre"
          ],
          [
           "15-24 Jahre"
          ],
          [
           "15-24 Jahre"
          ],
          [
           "15-24 Jahre"
          ],
          [
           "15-24 Jahre"
          ],
          [
           "15-24 Jahre"
          ],
          [
           "15-24 Jahre"
          ],
          [
           "15-24 Jahre"
          ],
          [
           "15-24 Jahre"
          ],
          [
           "15-24 Jahre"
          ],
          [
           "15-24 Jahre"
          ],
          [
           "15-24 Jahre"
          ],
          [
           "15-24 Jahre"
          ],
          [
           "15-24 Jahre"
          ],
          [
           "15-24 Jahre"
          ],
          [
           "15-24 Jahre"
          ],
          [
           "15-24 Jahre"
          ]
         ],
         "hovertemplate": "S_alter_grouped=%{customdata[0]}<br>CustomName=%{x}<br>relative_count=%{y}<extra></extra>",
         "legendgroup": "15-24 Jahre",
         "marker": {
          "color": "#49787F",
          "pattern": {
           "shape": ""
          }
         },
         "name": "15-24 Jahre",
         "offsetgroup": "15-24 Jahre",
         "orientation": "v",
         "showlegend": true,
         "textposition": "auto",
         "type": "bar",
         "x": [
          "Ausstattung Qualität Rollmaterial",
          "Corona",
          "Fahrplanangebot",
          "Feedback Umfrage",
          "Internet, Wlan und Mobilfunk",
          "Kommerzielle Angebote",
          "Kundeninformation",
          "Lob",
          "Platzangebot Velo, Gepäck, Kinderwagen",
          "Platzangebot Zug",
          "Preis-Leistung",
          "Pünktlichkeit",
          "Raumtemperatur Zug",
          "Sauberkeit Zug und Bahnhof",
          "Security",
          "Sonstiges",
          "Vertrieb und Services",
          "WC Verfügbarkeit und Sauberkeit"
         ],
         "xaxis": "x",
         "y": [
          0.01768172888015717,
          0.029469548133595286,
          0.07229862475442043,
          0.017288801571709235,
          0.026326129666011788,
          0.009037328094302554,
          0.016502946954813358,
          0.040471512770137524,
          0.018860510805500982,
          0.12102161100196464,
          0.25697445972495087,
          0.1713163064833006,
          0.029469548133595286,
          0.032220039292730845,
          0.029469548133595286,
          0.029076620825147347,
          0.05658153241650295,
          0.016502946954813358
         ],
         "yaxis": "y"
        },
        {
         "alignmentgroup": "True",
         "customdata": [
          [
           "25-44 Jahre"
          ],
          [
           "25-44 Jahre"
          ],
          [
           "25-44 Jahre"
          ],
          [
           "25-44 Jahre"
          ],
          [
           "25-44 Jahre"
          ],
          [
           "25-44 Jahre"
          ],
          [
           "25-44 Jahre"
          ],
          [
           "25-44 Jahre"
          ],
          [
           "25-44 Jahre"
          ],
          [
           "25-44 Jahre"
          ],
          [
           "25-44 Jahre"
          ],
          [
           "25-44 Jahre"
          ],
          [
           "25-44 Jahre"
          ],
          [
           "25-44 Jahre"
          ],
          [
           "25-44 Jahre"
          ],
          [
           "25-44 Jahre"
          ],
          [
           "25-44 Jahre"
          ],
          [
           "25-44 Jahre"
          ]
         ],
         "hovertemplate": "S_alter_grouped=%{customdata[0]}<br>CustomName=%{x}<br>relative_count=%{y}<extra></extra>",
         "legendgroup": "25-44 Jahre",
         "marker": {
          "color": "#A96262",
          "pattern": {
           "shape": ""
          }
         },
         "name": "25-44 Jahre",
         "offsetgroup": "25-44 Jahre",
         "orientation": "v",
         "showlegend": true,
         "textposition": "auto",
         "type": "bar",
         "x": [
          "Ausstattung Qualität Rollmaterial",
          "Corona",
          "Fahrplanangebot",
          "Feedback Umfrage",
          "Internet, Wlan und Mobilfunk",
          "Kommerzielle Angebote",
          "Kundeninformation",
          "Lob",
          "Platzangebot Velo, Gepäck, Kinderwagen",
          "Platzangebot Zug",
          "Preis-Leistung",
          "Pünktlichkeit",
          "Raumtemperatur Zug",
          "Sauberkeit Zug und Bahnhof",
          "Security",
          "Sonstiges",
          "Vertrieb und Services",
          "WC Verfügbarkeit und Sauberkeit"
         ],
         "xaxis": "x",
         "y": [
          0.04168554599003172,
          0.04422292705029452,
          0.06968735840507476,
          0.01613049388309923,
          0.024105120072496603,
          0.017942908926144086,
          0.015768010874490257,
          0.04893520616221115,
          0.04068871771635704,
          0.12405980969642048,
          0.12170367014046217,
          0.17562301767104668,
          0.03398278205709107,
          0.02745808790212959,
          0.026642501132759403,
          0.047847757136384235,
          0.08536474852741278,
          0.03198912550974173
         ],
         "yaxis": "y"
        },
        {
         "alignmentgroup": "True",
         "customdata": [
          [
           "45-64 Jahre"
          ],
          [
           "45-64 Jahre"
          ],
          [
           "45-64 Jahre"
          ],
          [
           "45-64 Jahre"
          ],
          [
           "45-64 Jahre"
          ],
          [
           "45-64 Jahre"
          ],
          [
           "45-64 Jahre"
          ],
          [
           "45-64 Jahre"
          ],
          [
           "45-64 Jahre"
          ],
          [
           "45-64 Jahre"
          ],
          [
           "45-64 Jahre"
          ],
          [
           "45-64 Jahre"
          ],
          [
           "45-64 Jahre"
          ],
          [
           "45-64 Jahre"
          ],
          [
           "45-64 Jahre"
          ],
          [
           "45-64 Jahre"
          ],
          [
           "45-64 Jahre"
          ],
          [
           "45-64 Jahre"
          ]
         ],
         "hovertemplate": "S_alter_grouped=%{customdata[0]}<br>CustomName=%{x}<br>relative_count=%{y}<extra></extra>",
         "legendgroup": "45-64 Jahre",
         "marker": {
          "color": "#F06969",
          "pattern": {
           "shape": ""
          }
         },
         "name": "45-64 Jahre",
         "offsetgroup": "45-64 Jahre",
         "orientation": "v",
         "showlegend": true,
         "textposition": "auto",
         "type": "bar",
         "x": [
          "Ausstattung Qualität Rollmaterial",
          "Corona",
          "Fahrplanangebot",
          "Feedback Umfrage",
          "Internet, Wlan und Mobilfunk",
          "Kommerzielle Angebote",
          "Kundeninformation",
          "Lob",
          "Platzangebot Velo, Gepäck, Kinderwagen",
          "Platzangebot Zug",
          "Preis-Leistung",
          "Pünktlichkeit",
          "Raumtemperatur Zug",
          "Sauberkeit Zug und Bahnhof",
          "Security",
          "Sonstiges",
          "Vertrieb und Services",
          "WC Verfügbarkeit und Sauberkeit"
         ],
         "xaxis": "x",
         "y": [
          0.02457631210467867,
          0.04263434889672155,
          0.06503790256385496,
          0.019071990729564,
          0.023079522958814158,
          0.033508763459031435,
          0.025590266042199796,
          0.05571918304282748,
          0.05600888416783352,
          0.11805320843995944,
          0.07145961083482208,
          0.1882574477330887,
          0.03317077881319106,
          0.03191540727149824,
          0.035198686688233304,
          0.045289942542610206,
          0.07894355656414466,
          0.044662256771763796
         ],
         "yaxis": "y"
        },
        {
         "alignmentgroup": "True",
         "customdata": [
          [
           "65-100 Jahre"
          ],
          [
           "65-100 Jahre"
          ],
          [
           "65-100 Jahre"
          ],
          [
           "65-100 Jahre"
          ],
          [
           "65-100 Jahre"
          ],
          [
           "65-100 Jahre"
          ],
          [
           "65-100 Jahre"
          ],
          [
           "65-100 Jahre"
          ],
          [
           "65-100 Jahre"
          ],
          [
           "65-100 Jahre"
          ],
          [
           "65-100 Jahre"
          ],
          [
           "65-100 Jahre"
          ],
          [
           "65-100 Jahre"
          ],
          [
           "65-100 Jahre"
          ],
          [
           "65-100 Jahre"
          ],
          [
           "65-100 Jahre"
          ],
          [
           "65-100 Jahre"
          ],
          [
           "65-100 Jahre"
          ]
         ],
         "hovertemplate": "S_alter_grouped=%{customdata[0]}<br>CustomName=%{x}<br>relative_count=%{y}<extra></extra>",
         "legendgroup": "65-100 Jahre",
         "marker": {
          "color": "#C499CA",
          "pattern": {
           "shape": ""
          }
         },
         "name": "65-100 Jahre",
         "offsetgroup": "65-100 Jahre",
         "orientation": "v",
         "showlegend": true,
         "textposition": "auto",
         "type": "bar",
         "x": [
          "Ausstattung Qualität Rollmaterial",
          "Corona",
          "Fahrplanangebot",
          "Feedback Umfrage",
          "Internet, Wlan und Mobilfunk",
          "Kommerzielle Angebote",
          "Kundeninformation",
          "Lob",
          "Platzangebot Velo, Gepäck, Kinderwagen",
          "Platzangebot Zug",
          "Preis-Leistung",
          "Pünktlichkeit",
          "Raumtemperatur Zug",
          "Sauberkeit Zug und Bahnhof",
          "Security",
          "Sonstiges",
          "Vertrieb und Services",
          "WC Verfügbarkeit und Sauberkeit"
         ],
         "xaxis": "x",
         "y": [
          0.02028740490278952,
          0.03700572931342162,
          0.06734291349675965,
          0.019911712219404527,
          0.017845402460787075,
          0.037287498825960365,
          0.03606649760495914,
          0.0719451488682258,
          0.05419366957828496,
          0.0927960927960928,
          0.058326289095519866,
          0.19301211608903918,
          0.03287310979618672,
          0.030149337841645533,
          0.032591340283647977,
          0.060298675683291066,
          0.0695970695970696,
          0.0589837512914436
         ],
         "yaxis": "y"
        }
       ],
       "layout": {
        "barmode": "group",
        "height": 600,
        "legend": {
         "title": {
          "text": ""
         },
         "tracegroupgap": 0
        },
        "margin": {
         "t": 60
        },
        "template": {
         "data": {
          "bar": [
           {
            "error_x": {
             "color": "#2a3f5f"
            },
            "error_y": {
             "color": "#2a3f5f"
            },
            "marker": {
             "line": {
              "color": "#E5ECF6",
              "width": 0.5
             },
             "pattern": {
              "fillmode": "overlay",
              "size": 10,
              "solidity": 0.2
             }
            },
            "type": "bar"
           }
          ],
          "barpolar": [
           {
            "marker": {
             "line": {
              "color": "#E5ECF6",
              "width": 0.5
             },
             "pattern": {
              "fillmode": "overlay",
              "size": 10,
              "solidity": 0.2
             }
            },
            "type": "barpolar"
           }
          ],
          "carpet": [
           {
            "aaxis": {
             "endlinecolor": "#2a3f5f",
             "gridcolor": "white",
             "linecolor": "white",
             "minorgridcolor": "white",
             "startlinecolor": "#2a3f5f"
            },
            "baxis": {
             "endlinecolor": "#2a3f5f",
             "gridcolor": "white",
             "linecolor": "white",
             "minorgridcolor": "white",
             "startlinecolor": "#2a3f5f"
            },
            "type": "carpet"
           }
          ],
          "choropleth": [
           {
            "colorbar": {
             "outlinewidth": 0,
             "ticks": ""
            },
            "type": "choropleth"
           }
          ],
          "contour": [
           {
            "colorbar": {
             "outlinewidth": 0,
             "ticks": ""
            },
            "colorscale": [
             [
              0,
              "#0d0887"
             ],
             [
              0.1111111111111111,
              "#46039f"
             ],
             [
              0.2222222222222222,
              "#7201a8"
             ],
             [
              0.3333333333333333,
              "#9c179e"
             ],
             [
              0.4444444444444444,
              "#bd3786"
             ],
             [
              0.5555555555555556,
              "#d8576b"
             ],
             [
              0.6666666666666666,
              "#ed7953"
             ],
             [
              0.7777777777777778,
              "#fb9f3a"
             ],
             [
              0.8888888888888888,
              "#fdca26"
             ],
             [
              1,
              "#f0f921"
             ]
            ],
            "type": "contour"
           }
          ],
          "contourcarpet": [
           {
            "colorbar": {
             "outlinewidth": 0,
             "ticks": ""
            },
            "type": "contourcarpet"
           }
          ],
          "heatmap": [
           {
            "colorbar": {
             "outlinewidth": 0,
             "ticks": ""
            },
            "colorscale": [
             [
              0,
              "#0d0887"
             ],
             [
              0.1111111111111111,
              "#46039f"
             ],
             [
              0.2222222222222222,
              "#7201a8"
             ],
             [
              0.3333333333333333,
              "#9c179e"
             ],
             [
              0.4444444444444444,
              "#bd3786"
             ],
             [
              0.5555555555555556,
              "#d8576b"
             ],
             [
              0.6666666666666666,
              "#ed7953"
             ],
             [
              0.7777777777777778,
              "#fb9f3a"
             ],
             [
              0.8888888888888888,
              "#fdca26"
             ],
             [
              1,
              "#f0f921"
             ]
            ],
            "type": "heatmap"
           }
          ],
          "heatmapgl": [
           {
            "colorbar": {
             "outlinewidth": 0,
             "ticks": ""
            },
            "colorscale": [
             [
              0,
              "#0d0887"
             ],
             [
              0.1111111111111111,
              "#46039f"
             ],
             [
              0.2222222222222222,
              "#7201a8"
             ],
             [
              0.3333333333333333,
              "#9c179e"
             ],
             [
              0.4444444444444444,
              "#bd3786"
             ],
             [
              0.5555555555555556,
              "#d8576b"
             ],
             [
              0.6666666666666666,
              "#ed7953"
             ],
             [
              0.7777777777777778,
              "#fb9f3a"
             ],
             [
              0.8888888888888888,
              "#fdca26"
             ],
             [
              1,
              "#f0f921"
             ]
            ],
            "type": "heatmapgl"
           }
          ],
          "histogram": [
           {
            "marker": {
             "pattern": {
              "fillmode": "overlay",
              "size": 10,
              "solidity": 0.2
             }
            },
            "type": "histogram"
           }
          ],
          "histogram2d": [
           {
            "colorbar": {
             "outlinewidth": 0,
             "ticks": ""
            },
            "colorscale": [
             [
              0,
              "#0d0887"
             ],
             [
              0.1111111111111111,
              "#46039f"
             ],
             [
              0.2222222222222222,
              "#7201a8"
             ],
             [
              0.3333333333333333,
              "#9c179e"
             ],
             [
              0.4444444444444444,
              "#bd3786"
             ],
             [
              0.5555555555555556,
              "#d8576b"
             ],
             [
              0.6666666666666666,
              "#ed7953"
             ],
             [
              0.7777777777777778,
              "#fb9f3a"
             ],
             [
              0.8888888888888888,
              "#fdca26"
             ],
             [
              1,
              "#f0f921"
             ]
            ],
            "type": "histogram2d"
           }
          ],
          "histogram2dcontour": [
           {
            "colorbar": {
             "outlinewidth": 0,
             "ticks": ""
            },
            "colorscale": [
             [
              0,
              "#0d0887"
             ],
             [
              0.1111111111111111,
              "#46039f"
             ],
             [
              0.2222222222222222,
              "#7201a8"
             ],
             [
              0.3333333333333333,
              "#9c179e"
             ],
             [
              0.4444444444444444,
              "#bd3786"
             ],
             [
              0.5555555555555556,
              "#d8576b"
             ],
             [
              0.6666666666666666,
              "#ed7953"
             ],
             [
              0.7777777777777778,
              "#fb9f3a"
             ],
             [
              0.8888888888888888,
              "#fdca26"
             ],
             [
              1,
              "#f0f921"
             ]
            ],
            "type": "histogram2dcontour"
           }
          ],
          "mesh3d": [
           {
            "colorbar": {
             "outlinewidth": 0,
             "ticks": ""
            },
            "type": "mesh3d"
           }
          ],
          "parcoords": [
           {
            "line": {
             "colorbar": {
              "outlinewidth": 0,
              "ticks": ""
             }
            },
            "type": "parcoords"
           }
          ],
          "pie": [
           {
            "automargin": true,
            "type": "pie"
           }
          ],
          "scatter": [
           {
            "fillpattern": {
             "fillmode": "overlay",
             "size": 10,
             "solidity": 0.2
            },
            "type": "scatter"
           }
          ],
          "scatter3d": [
           {
            "line": {
             "colorbar": {
              "outlinewidth": 0,
              "ticks": ""
             }
            },
            "marker": {
             "colorbar": {
              "outlinewidth": 0,
              "ticks": ""
             }
            },
            "type": "scatter3d"
           }
          ],
          "scattercarpet": [
           {
            "marker": {
             "colorbar": {
              "outlinewidth": 0,
              "ticks": ""
             }
            },
            "type": "scattercarpet"
           }
          ],
          "scattergeo": [
           {
            "marker": {
             "colorbar": {
              "outlinewidth": 0,
              "ticks": ""
             }
            },
            "type": "scattergeo"
           }
          ],
          "scattergl": [
           {
            "marker": {
             "colorbar": {
              "outlinewidth": 0,
              "ticks": ""
             }
            },
            "type": "scattergl"
           }
          ],
          "scattermapbox": [
           {
            "marker": {
             "colorbar": {
              "outlinewidth": 0,
              "ticks": ""
             }
            },
            "type": "scattermapbox"
           }
          ],
          "scatterpolar": [
           {
            "marker": {
             "colorbar": {
              "outlinewidth": 0,
              "ticks": ""
             }
            },
            "type": "scatterpolar"
           }
          ],
          "scatterpolargl": [
           {
            "marker": {
             "colorbar": {
              "outlinewidth": 0,
              "ticks": ""
             }
            },
            "type": "scatterpolargl"
           }
          ],
          "scatterternary": [
           {
            "marker": {
             "colorbar": {
              "outlinewidth": 0,
              "ticks": ""
             }
            },
            "type": "scatterternary"
           }
          ],
          "surface": [
           {
            "colorbar": {
             "outlinewidth": 0,
             "ticks": ""
            },
            "colorscale": [
             [
              0,
              "#0d0887"
             ],
             [
              0.1111111111111111,
              "#46039f"
             ],
             [
              0.2222222222222222,
              "#7201a8"
             ],
             [
              0.3333333333333333,
              "#9c179e"
             ],
             [
              0.4444444444444444,
              "#bd3786"
             ],
             [
              0.5555555555555556,
              "#d8576b"
             ],
             [
              0.6666666666666666,
              "#ed7953"
             ],
             [
              0.7777777777777778,
              "#fb9f3a"
             ],
             [
              0.8888888888888888,
              "#fdca26"
             ],
             [
              1,
              "#f0f921"
             ]
            ],
            "type": "surface"
           }
          ],
          "table": [
           {
            "cells": {
             "fill": {
              "color": "#EBF0F8"
             },
             "line": {
              "color": "white"
             }
            },
            "header": {
             "fill": {
              "color": "#C8D4E3"
             },
             "line": {
              "color": "white"
             }
            },
            "type": "table"
           }
          ]
         },
         "layout": {
          "annotationdefaults": {
           "arrowcolor": "#2a3f5f",
           "arrowhead": 0,
           "arrowwidth": 1
          },
          "autotypenumbers": "strict",
          "coloraxis": {
           "colorbar": {
            "outlinewidth": 0,
            "ticks": ""
           }
          },
          "colorscale": {
           "diverging": [
            [
             0,
             "#8e0152"
            ],
            [
             0.1,
             "#c51b7d"
            ],
            [
             0.2,
             "#de77ae"
            ],
            [
             0.3,
             "#f1b6da"
            ],
            [
             0.4,
             "#fde0ef"
            ],
            [
             0.5,
             "#f7f7f7"
            ],
            [
             0.6,
             "#e6f5d0"
            ],
            [
             0.7,
             "#b8e186"
            ],
            [
             0.8,
             "#7fbc41"
            ],
            [
             0.9,
             "#4d9221"
            ],
            [
             1,
             "#276419"
            ]
           ],
           "sequential": [
            [
             0,
             "#0d0887"
            ],
            [
             0.1111111111111111,
             "#46039f"
            ],
            [
             0.2222222222222222,
             "#7201a8"
            ],
            [
             0.3333333333333333,
             "#9c179e"
            ],
            [
             0.4444444444444444,
             "#bd3786"
            ],
            [
             0.5555555555555556,
             "#d8576b"
            ],
            [
             0.6666666666666666,
             "#ed7953"
            ],
            [
             0.7777777777777778,
             "#fb9f3a"
            ],
            [
             0.8888888888888888,
             "#fdca26"
            ],
            [
             1,
             "#f0f921"
            ]
           ],
           "sequentialminus": [
            [
             0,
             "#0d0887"
            ],
            [
             0.1111111111111111,
             "#46039f"
            ],
            [
             0.2222222222222222,
             "#7201a8"
            ],
            [
             0.3333333333333333,
             "#9c179e"
            ],
            [
             0.4444444444444444,
             "#bd3786"
            ],
            [
             0.5555555555555556,
             "#d8576b"
            ],
            [
             0.6666666666666666,
             "#ed7953"
            ],
            [
             0.7777777777777778,
             "#fb9f3a"
            ],
            [
             0.8888888888888888,
             "#fdca26"
            ],
            [
             1,
             "#f0f921"
            ]
           ]
          },
          "colorway": [
           "#636efa",
           "#EF553B",
           "#00cc96",
           "#ab63fa",
           "#FFA15A",
           "#19d3f3",
           "#FF6692",
           "#B6E880",
           "#FF97FF",
           "#FECB52"
          ],
          "font": {
           "color": "#2a3f5f"
          },
          "geo": {
           "bgcolor": "white",
           "lakecolor": "white",
           "landcolor": "#E5ECF6",
           "showlakes": true,
           "showland": true,
           "subunitcolor": "white"
          },
          "hoverlabel": {
           "align": "left"
          },
          "hovermode": "closest",
          "mapbox": {
           "style": "light"
          },
          "paper_bgcolor": "white",
          "plot_bgcolor": "#E5ECF6",
          "polar": {
           "angularaxis": {
            "gridcolor": "white",
            "linecolor": "white",
            "ticks": ""
           },
           "bgcolor": "#E5ECF6",
           "radialaxis": {
            "gridcolor": "white",
            "linecolor": "white",
            "ticks": ""
           }
          },
          "scene": {
           "xaxis": {
            "backgroundcolor": "#E5ECF6",
            "gridcolor": "white",
            "gridwidth": 2,
            "linecolor": "white",
            "showbackground": true,
            "ticks": "",
            "zerolinecolor": "white"
           },
           "yaxis": {
            "backgroundcolor": "#E5ECF6",
            "gridcolor": "white",
            "gridwidth": 2,
            "linecolor": "white",
            "showbackground": true,
            "ticks": "",
            "zerolinecolor": "white"
           },
           "zaxis": {
            "backgroundcolor": "#E5ECF6",
            "gridcolor": "white",
            "gridwidth": 2,
            "linecolor": "white",
            "showbackground": true,
            "ticks": "",
            "zerolinecolor": "white"
           }
          },
          "shapedefaults": {
           "line": {
            "color": "#2a3f5f"
           }
          },
          "ternary": {
           "aaxis": {
            "gridcolor": "white",
            "linecolor": "white",
            "ticks": ""
           },
           "baxis": {
            "gridcolor": "white",
            "linecolor": "white",
            "ticks": ""
           },
           "bgcolor": "#E5ECF6",
           "caxis": {
            "gridcolor": "white",
            "linecolor": "white",
            "ticks": ""
           }
          },
          "title": {
           "x": 0.05
          },
          "xaxis": {
           "automargin": true,
           "gridcolor": "white",
           "linecolor": "white",
           "ticks": "",
           "title": {
            "standoff": 15
           },
           "zerolinecolor": "white",
           "zerolinewidth": 2
          },
          "yaxis": {
           "automargin": true,
           "gridcolor": "white",
           "linecolor": "white",
           "ticks": "",
           "title": {
            "standoff": 15
           },
           "zerolinecolor": "white",
           "zerolinewidth": 2
          }
         }
        },
        "title": {
         "text": "Themenrelevanz nach Altersgruppe (2019-2022)"
        },
        "width": 900,
        "xaxis": {
         "anchor": "y",
         "automargin": true,
         "domain": [
          0,
          1
         ],
         "showgrid": false,
         "tickangle": 45,
         "tickfont": {
          "size": 12
         },
         "tickmode": "array",
         "ticktext": [
          "Ausstattung Qualität Rollmaterial",
          "Corona",
          "Fahrplanangebot",
          "Feedback Umfrage",
          "Internet, Wlan und Mobilfunk",
          "Kommerzielle Angebote",
          "Kundeninformation",
          "Lob",
          "Platzangebot Velo, Gepäck, Kinderwagen",
          "Platzangebot Zug",
          "Preis-Leistung",
          "Pünktlichkeit",
          "Raumtemperatur Zug",
          "Sauberkeit Zug und Bahnhof",
          "Security",
          "Sonstiges",
          "Vertrieb und Services",
          "WC Verfügbarkeit und Sauberkeit",
          "Ausstattung Qualität Rollmaterial",
          "Corona",
          "Fahrplanangebot",
          "Feedback Umfrage",
          "Internet, Wlan und Mobilfunk",
          "Kommerzielle Angebote",
          "Kundeninformation",
          "Lob",
          "Platzangebot Velo, Gepäck, Kinderwagen",
          "Platzangebot Zug",
          "Preis-Leistung",
          "Pünktlichkeit",
          "Raumtemperatur Zug",
          "Sauberkeit Zug und Bahnhof",
          "Security",
          "Sonstiges",
          "Vertrieb und Services",
          "WC Verfügbarkeit und Sauberkeit",
          "Ausstattung Qualität Rollmaterial",
          "Corona",
          "Fahrplanangebot",
          "Feedback Umfrage",
          "Internet, Wlan und Mobilfunk",
          "Kommerzielle Angebote",
          "Kundeninformation",
          "Lob",
          "Platzangebot Velo, Gepäck, Kinderwagen",
          "Platzangebot Zug",
          "Preis-Leistung",
          "Pünktlichkeit",
          "Raumtemperatur Zug",
          "Sauberkeit Zug und Bahnhof",
          "Security",
          "Sonstiges",
          "Vertrieb und Services",
          "WC Verfügbarkeit und Sauberkeit",
          "Ausstattung Qualität Rollmaterial",
          "Corona",
          "Fahrplanangebot",
          "Feedback Umfrage",
          "Internet, Wlan und Mobilfunk",
          "Kommerzielle Angebote",
          "Kundeninformation",
          "Lob",
          "Platzangebot Velo, Gepäck, Kinderwagen",
          "Platzangebot Zug",
          "Preis-Leistung",
          "Pünktlichkeit",
          "Raumtemperatur Zug",
          "Sauberkeit Zug und Bahnhof",
          "Security",
          "Sonstiges",
          "Vertrieb und Services",
          "WC Verfügbarkeit und Sauberkeit"
         ],
         "tickvals": [
          0,
          1,
          2,
          3,
          4,
          5,
          6,
          7,
          8,
          9,
          10,
          11,
          12,
          13,
          14,
          15,
          16,
          17,
          18,
          19,
          20,
          21,
          22,
          23,
          24,
          25,
          26,
          27,
          28,
          29,
          30,
          31,
          32,
          33,
          34,
          35,
          36,
          37,
          38,
          39,
          40,
          41,
          42,
          43,
          44,
          45,
          46,
          47,
          48,
          49,
          50,
          51,
          52,
          53,
          54,
          55,
          56,
          57,
          58,
          59,
          60,
          61,
          62,
          63,
          64,
          65,
          66,
          67,
          68,
          69,
          70,
          71
         ],
         "tickwidth": 1,
         "title": {
          "text": ""
         }
        },
        "yaxis": {
         "anchor": "x",
         "domain": [
          0,
          1
         ],
         "gridcolor": "rgba(0,0,0,0.1)",
         "gridwidth": 1,
         "range": [
          0,
          0.29
         ],
         "showgrid": true,
         "title": {
          "font": {
           "size": 12
          },
          "text": "Relative Häufigkeit"
         }
        }
       }
      }
     },
     "metadata": {},
     "output_type": "display_data"
    }
   ],
   "source": [
    "barchart_agegroup = create_grouped_barchart(df_agegroup,\n",
    "                                            x_col=\"CustomName\",\n",
    "                                            y_col=\"relative_count\",\n",
    "                                            color_col=\"S_alter_grouped\",\n",
    "                                            color_discrete_sequence=color_discrete_sequence,\n",
    "                                            title=\"Themenrelevanz nach Altersgruppe (2019-2022)\",\n",
    "                                            xaxis_title='',\n",
    "                                            yaxis_title='',\n",
    "                                            legend_title='',\n",
    "                                            template=template,\n",
    "                                            path=path,\n",
    "                                            filename=\"Themenrelevanz_Altersgruppe\")"
   ]
  },
  {
   "cell_type": "code",
   "execution_count": 123,
   "metadata": {},
   "outputs": [],
   "source": [
    "# create_grouped_radar(df_agegroup, x_col=\"CustomName\", y_col=\"relative_count\", color_col=\"S_alter_grouped\", color_discrete_sequence=color_discrete_sequence_mixed, title=\"Themenrelevanz nach Altersgruppe (2019-2022)\", xaxis_title='', yaxis_title='Häufigkeit', legend_title='', template=template)"
   ]
  },
  {
   "cell_type": "code",
   "execution_count": 89,
   "metadata": {},
   "outputs": [
    {
     "data": {
      "application/vnd.plotly.v1+json": {
       "config": {
        "plotlyServerURL": "https://plot.ly"
       },
       "data": [
        {
         "alignmentgroup": "True",
         "customdata": [
          [
           "1. Klasse"
          ],
          [
           "1. Klasse"
          ],
          [
           "1. Klasse"
          ],
          [
           "1. Klasse"
          ],
          [
           "1. Klasse"
          ],
          [
           "1. Klasse"
          ],
          [
           "1. Klasse"
          ],
          [
           "1. Klasse"
          ],
          [
           "1. Klasse"
          ],
          [
           "1. Klasse"
          ],
          [
           "1. Klasse"
          ],
          [
           "1. Klasse"
          ],
          [
           "1. Klasse"
          ],
          [
           "1. Klasse"
          ],
          [
           "1. Klasse"
          ],
          [
           "1. Klasse"
          ],
          [
           "1. Klasse"
          ],
          [
           "1. Klasse"
          ]
         ],
         "hovertemplate": "u_klassencode=%{customdata[0]}<br>CustomName=%{x}<br>relative_count=%{y}<extra></extra>",
         "legendgroup": "1. Klasse",
         "marker": {
          "color": "#49787F",
          "pattern": {
           "shape": ""
          }
         },
         "name": "1. Klasse",
         "offsetgroup": "1. Klasse",
         "orientation": "v",
         "showlegend": true,
         "textposition": "auto",
         "type": "bar",
         "x": [
          "Ausstattung Qualität Rollmaterial",
          "Corona",
          "Fahrplanangebot",
          "Feedback Umfrage",
          "Internet, Wlan und Mobilfunk",
          "Kommerzielle Angebote",
          "Kundeninformation",
          "Lob",
          "Platzangebot Velo, Gepäck, Kinderwagen",
          "Platzangebot Zug",
          "Preis-Leistung",
          "Pünktlichkeit",
          "Raumtemperatur Zug",
          "Sauberkeit Zug und Bahnhof",
          "Security",
          "Sonstiges",
          "Vertrieb und Services",
          "WC Verfügbarkeit und Sauberkeit"
         ],
         "xaxis": "x",
         "y": [
          0.034255599472990776,
          0.043478260869565216,
          0.04183135704874835,
          0.02206851119894598,
          0.030467720685111988,
          0.05006587615283267,
          0.029314888010540184,
          0.054677206851119896,
          0.027009222661396576,
          0.17276021080368906,
          0.04743083003952569,
          0.2017457180500659,
          0.042490118577075096,
          0.02355072463768116,
          0.029808959156785244,
          0.04479578392621871,
          0.059947299077733864,
          0.038537549407114624
         ],
         "yaxis": "y"
        },
        {
         "alignmentgroup": "True",
         "customdata": [
          [
           "2. Klasse"
          ],
          [
           "2. Klasse"
          ],
          [
           "2. Klasse"
          ],
          [
           "2. Klasse"
          ],
          [
           "2. Klasse"
          ],
          [
           "2. Klasse"
          ],
          [
           "2. Klasse"
          ],
          [
           "2. Klasse"
          ],
          [
           "2. Klasse"
          ],
          [
           "2. Klasse"
          ],
          [
           "2. Klasse"
          ],
          [
           "2. Klasse"
          ],
          [
           "2. Klasse"
          ],
          [
           "2. Klasse"
          ],
          [
           "2. Klasse"
          ],
          [
           "2. Klasse"
          ],
          [
           "2. Klasse"
          ],
          [
           "2. Klasse"
          ]
         ],
         "hovertemplate": "u_klassencode=%{customdata[0]}<br>CustomName=%{x}<br>relative_count=%{y}<extra></extra>",
         "legendgroup": "2. Klasse",
         "marker": {
          "color": "#A96262",
          "pattern": {
           "shape": ""
          }
         },
         "name": "2. Klasse",
         "offsetgroup": "2. Klasse",
         "orientation": "v",
         "showlegend": true,
         "textposition": "auto",
         "type": "bar",
         "x": [
          "Ausstattung Qualität Rollmaterial",
          "Corona",
          "Fahrplanangebot",
          "Feedback Umfrage",
          "Internet, Wlan und Mobilfunk",
          "Kommerzielle Angebote",
          "Kundeninformation",
          "Lob",
          "Platzangebot Velo, Gepäck, Kinderwagen",
          "Platzangebot Zug",
          "Preis-Leistung",
          "Pünktlichkeit",
          "Raumtemperatur Zug",
          "Sauberkeit Zug und Bahnhof",
          "Security",
          "Sonstiges",
          "Vertrieb und Services",
          "WC Verfügbarkeit und Sauberkeit"
         ],
         "xaxis": "x",
         "y": [
          0.025971952420234704,
          0.041672210543122486,
          0.07176880704648873,
          0.018068602144814924,
          0.021048990127464806,
          0.02583889938529498,
          0.02432209478698209,
          0.05763857473588973,
          0.053673594294685864,
          0.10077436866334921,
          0.09851246706937385,
          0.18305436547007636,
          0.03187950717155858,
          0.03142712685276351,
          0.032278666276377765,
          0.04917640171372309,
          0.08012453764070358,
          0.044226828813965245
         ],
         "yaxis": "y"
        }
       ],
       "layout": {
        "barmode": "group",
        "height": 600,
        "legend": {
         "title": {
          "text": ""
         },
         "tracegroupgap": 0
        },
        "margin": {
         "t": 60
        },
        "template": {
         "data": {
          "bar": [
           {
            "error_x": {
             "color": "#2a3f5f"
            },
            "error_y": {
             "color": "#2a3f5f"
            },
            "marker": {
             "line": {
              "color": "#E5ECF6",
              "width": 0.5
             },
             "pattern": {
              "fillmode": "overlay",
              "size": 10,
              "solidity": 0.2
             }
            },
            "type": "bar"
           }
          ],
          "barpolar": [
           {
            "marker": {
             "line": {
              "color": "#E5ECF6",
              "width": 0.5
             },
             "pattern": {
              "fillmode": "overlay",
              "size": 10,
              "solidity": 0.2
             }
            },
            "type": "barpolar"
           }
          ],
          "carpet": [
           {
            "aaxis": {
             "endlinecolor": "#2a3f5f",
             "gridcolor": "white",
             "linecolor": "white",
             "minorgridcolor": "white",
             "startlinecolor": "#2a3f5f"
            },
            "baxis": {
             "endlinecolor": "#2a3f5f",
             "gridcolor": "white",
             "linecolor": "white",
             "minorgridcolor": "white",
             "startlinecolor": "#2a3f5f"
            },
            "type": "carpet"
           }
          ],
          "choropleth": [
           {
            "colorbar": {
             "outlinewidth": 0,
             "ticks": ""
            },
            "type": "choropleth"
           }
          ],
          "contour": [
           {
            "colorbar": {
             "outlinewidth": 0,
             "ticks": ""
            },
            "colorscale": [
             [
              0,
              "#0d0887"
             ],
             [
              0.1111111111111111,
              "#46039f"
             ],
             [
              0.2222222222222222,
              "#7201a8"
             ],
             [
              0.3333333333333333,
              "#9c179e"
             ],
             [
              0.4444444444444444,
              "#bd3786"
             ],
             [
              0.5555555555555556,
              "#d8576b"
             ],
             [
              0.6666666666666666,
              "#ed7953"
             ],
             [
              0.7777777777777778,
              "#fb9f3a"
             ],
             [
              0.8888888888888888,
              "#fdca26"
             ],
             [
              1,
              "#f0f921"
             ]
            ],
            "type": "contour"
           }
          ],
          "contourcarpet": [
           {
            "colorbar": {
             "outlinewidth": 0,
             "ticks": ""
            },
            "type": "contourcarpet"
           }
          ],
          "heatmap": [
           {
            "colorbar": {
             "outlinewidth": 0,
             "ticks": ""
            },
            "colorscale": [
             [
              0,
              "#0d0887"
             ],
             [
              0.1111111111111111,
              "#46039f"
             ],
             [
              0.2222222222222222,
              "#7201a8"
             ],
             [
              0.3333333333333333,
              "#9c179e"
             ],
             [
              0.4444444444444444,
              "#bd3786"
             ],
             [
              0.5555555555555556,
              "#d8576b"
             ],
             [
              0.6666666666666666,
              "#ed7953"
             ],
             [
              0.7777777777777778,
              "#fb9f3a"
             ],
             [
              0.8888888888888888,
              "#fdca26"
             ],
             [
              1,
              "#f0f921"
             ]
            ],
            "type": "heatmap"
           }
          ],
          "heatmapgl": [
           {
            "colorbar": {
             "outlinewidth": 0,
             "ticks": ""
            },
            "colorscale": [
             [
              0,
              "#0d0887"
             ],
             [
              0.1111111111111111,
              "#46039f"
             ],
             [
              0.2222222222222222,
              "#7201a8"
             ],
             [
              0.3333333333333333,
              "#9c179e"
             ],
             [
              0.4444444444444444,
              "#bd3786"
             ],
             [
              0.5555555555555556,
              "#d8576b"
             ],
             [
              0.6666666666666666,
              "#ed7953"
             ],
             [
              0.7777777777777778,
              "#fb9f3a"
             ],
             [
              0.8888888888888888,
              "#fdca26"
             ],
             [
              1,
              "#f0f921"
             ]
            ],
            "type": "heatmapgl"
           }
          ],
          "histogram": [
           {
            "marker": {
             "pattern": {
              "fillmode": "overlay",
              "size": 10,
              "solidity": 0.2
             }
            },
            "type": "histogram"
           }
          ],
          "histogram2d": [
           {
            "colorbar": {
             "outlinewidth": 0,
             "ticks": ""
            },
            "colorscale": [
             [
              0,
              "#0d0887"
             ],
             [
              0.1111111111111111,
              "#46039f"
             ],
             [
              0.2222222222222222,
              "#7201a8"
             ],
             [
              0.3333333333333333,
              "#9c179e"
             ],
             [
              0.4444444444444444,
              "#bd3786"
             ],
             [
              0.5555555555555556,
              "#d8576b"
             ],
             [
              0.6666666666666666,
              "#ed7953"
             ],
             [
              0.7777777777777778,
              "#fb9f3a"
             ],
             [
              0.8888888888888888,
              "#fdca26"
             ],
             [
              1,
              "#f0f921"
             ]
            ],
            "type": "histogram2d"
           }
          ],
          "histogram2dcontour": [
           {
            "colorbar": {
             "outlinewidth": 0,
             "ticks": ""
            },
            "colorscale": [
             [
              0,
              "#0d0887"
             ],
             [
              0.1111111111111111,
              "#46039f"
             ],
             [
              0.2222222222222222,
              "#7201a8"
             ],
             [
              0.3333333333333333,
              "#9c179e"
             ],
             [
              0.4444444444444444,
              "#bd3786"
             ],
             [
              0.5555555555555556,
              "#d8576b"
             ],
             [
              0.6666666666666666,
              "#ed7953"
             ],
             [
              0.7777777777777778,
              "#fb9f3a"
             ],
             [
              0.8888888888888888,
              "#fdca26"
             ],
             [
              1,
              "#f0f921"
             ]
            ],
            "type": "histogram2dcontour"
           }
          ],
          "mesh3d": [
           {
            "colorbar": {
             "outlinewidth": 0,
             "ticks": ""
            },
            "type": "mesh3d"
           }
          ],
          "parcoords": [
           {
            "line": {
             "colorbar": {
              "outlinewidth": 0,
              "ticks": ""
             }
            },
            "type": "parcoords"
           }
          ],
          "pie": [
           {
            "automargin": true,
            "type": "pie"
           }
          ],
          "scatter": [
           {
            "fillpattern": {
             "fillmode": "overlay",
             "size": 10,
             "solidity": 0.2
            },
            "type": "scatter"
           }
          ],
          "scatter3d": [
           {
            "line": {
             "colorbar": {
              "outlinewidth": 0,
              "ticks": ""
             }
            },
            "marker": {
             "colorbar": {
              "outlinewidth": 0,
              "ticks": ""
             }
            },
            "type": "scatter3d"
           }
          ],
          "scattercarpet": [
           {
            "marker": {
             "colorbar": {
              "outlinewidth": 0,
              "ticks": ""
             }
            },
            "type": "scattercarpet"
           }
          ],
          "scattergeo": [
           {
            "marker": {
             "colorbar": {
              "outlinewidth": 0,
              "ticks": ""
             }
            },
            "type": "scattergeo"
           }
          ],
          "scattergl": [
           {
            "marker": {
             "colorbar": {
              "outlinewidth": 0,
              "ticks": ""
             }
            },
            "type": "scattergl"
           }
          ],
          "scattermapbox": [
           {
            "marker": {
             "colorbar": {
              "outlinewidth": 0,
              "ticks": ""
             }
            },
            "type": "scattermapbox"
           }
          ],
          "scatterpolar": [
           {
            "marker": {
             "colorbar": {
              "outlinewidth": 0,
              "ticks": ""
             }
            },
            "type": "scatterpolar"
           }
          ],
          "scatterpolargl": [
           {
            "marker": {
             "colorbar": {
              "outlinewidth": 0,
              "ticks": ""
             }
            },
            "type": "scatterpolargl"
           }
          ],
          "scatterternary": [
           {
            "marker": {
             "colorbar": {
              "outlinewidth": 0,
              "ticks": ""
             }
            },
            "type": "scatterternary"
           }
          ],
          "surface": [
           {
            "colorbar": {
             "outlinewidth": 0,
             "ticks": ""
            },
            "colorscale": [
             [
              0,
              "#0d0887"
             ],
             [
              0.1111111111111111,
              "#46039f"
             ],
             [
              0.2222222222222222,
              "#7201a8"
             ],
             [
              0.3333333333333333,
              "#9c179e"
             ],
             [
              0.4444444444444444,
              "#bd3786"
             ],
             [
              0.5555555555555556,
              "#d8576b"
             ],
             [
              0.6666666666666666,
              "#ed7953"
             ],
             [
              0.7777777777777778,
              "#fb9f3a"
             ],
             [
              0.8888888888888888,
              "#fdca26"
             ],
             [
              1,
              "#f0f921"
             ]
            ],
            "type": "surface"
           }
          ],
          "table": [
           {
            "cells": {
             "fill": {
              "color": "#EBF0F8"
             },
             "line": {
              "color": "white"
             }
            },
            "header": {
             "fill": {
              "color": "#C8D4E3"
             },
             "line": {
              "color": "white"
             }
            },
            "type": "table"
           }
          ]
         },
         "layout": {
          "annotationdefaults": {
           "arrowcolor": "#2a3f5f",
           "arrowhead": 0,
           "arrowwidth": 1
          },
          "autotypenumbers": "strict",
          "coloraxis": {
           "colorbar": {
            "outlinewidth": 0,
            "ticks": ""
           }
          },
          "colorscale": {
           "diverging": [
            [
             0,
             "#8e0152"
            ],
            [
             0.1,
             "#c51b7d"
            ],
            [
             0.2,
             "#de77ae"
            ],
            [
             0.3,
             "#f1b6da"
            ],
            [
             0.4,
             "#fde0ef"
            ],
            [
             0.5,
             "#f7f7f7"
            ],
            [
             0.6,
             "#e6f5d0"
            ],
            [
             0.7,
             "#b8e186"
            ],
            [
             0.8,
             "#7fbc41"
            ],
            [
             0.9,
             "#4d9221"
            ],
            [
             1,
             "#276419"
            ]
           ],
           "sequential": [
            [
             0,
             "#0d0887"
            ],
            [
             0.1111111111111111,
             "#46039f"
            ],
            [
             0.2222222222222222,
             "#7201a8"
            ],
            [
             0.3333333333333333,
             "#9c179e"
            ],
            [
             0.4444444444444444,
             "#bd3786"
            ],
            [
             0.5555555555555556,
             "#d8576b"
            ],
            [
             0.6666666666666666,
             "#ed7953"
            ],
            [
             0.7777777777777778,
             "#fb9f3a"
            ],
            [
             0.8888888888888888,
             "#fdca26"
            ],
            [
             1,
             "#f0f921"
            ]
           ],
           "sequentialminus": [
            [
             0,
             "#0d0887"
            ],
            [
             0.1111111111111111,
             "#46039f"
            ],
            [
             0.2222222222222222,
             "#7201a8"
            ],
            [
             0.3333333333333333,
             "#9c179e"
            ],
            [
             0.4444444444444444,
             "#bd3786"
            ],
            [
             0.5555555555555556,
             "#d8576b"
            ],
            [
             0.6666666666666666,
             "#ed7953"
            ],
            [
             0.7777777777777778,
             "#fb9f3a"
            ],
            [
             0.8888888888888888,
             "#fdca26"
            ],
            [
             1,
             "#f0f921"
            ]
           ]
          },
          "colorway": [
           "#636efa",
           "#EF553B",
           "#00cc96",
           "#ab63fa",
           "#FFA15A",
           "#19d3f3",
           "#FF6692",
           "#B6E880",
           "#FF97FF",
           "#FECB52"
          ],
          "font": {
           "color": "#2a3f5f"
          },
          "geo": {
           "bgcolor": "white",
           "lakecolor": "white",
           "landcolor": "#E5ECF6",
           "showlakes": true,
           "showland": true,
           "subunitcolor": "white"
          },
          "hoverlabel": {
           "align": "left"
          },
          "hovermode": "closest",
          "mapbox": {
           "style": "light"
          },
          "paper_bgcolor": "white",
          "plot_bgcolor": "#E5ECF6",
          "polar": {
           "angularaxis": {
            "gridcolor": "white",
            "linecolor": "white",
            "ticks": ""
           },
           "bgcolor": "#E5ECF6",
           "radialaxis": {
            "gridcolor": "white",
            "linecolor": "white",
            "ticks": ""
           }
          },
          "scene": {
           "xaxis": {
            "backgroundcolor": "#E5ECF6",
            "gridcolor": "white",
            "gridwidth": 2,
            "linecolor": "white",
            "showbackground": true,
            "ticks": "",
            "zerolinecolor": "white"
           },
           "yaxis": {
            "backgroundcolor": "#E5ECF6",
            "gridcolor": "white",
            "gridwidth": 2,
            "linecolor": "white",
            "showbackground": true,
            "ticks": "",
            "zerolinecolor": "white"
           },
           "zaxis": {
            "backgroundcolor": "#E5ECF6",
            "gridcolor": "white",
            "gridwidth": 2,
            "linecolor": "white",
            "showbackground": true,
            "ticks": "",
            "zerolinecolor": "white"
           }
          },
          "shapedefaults": {
           "line": {
            "color": "#2a3f5f"
           }
          },
          "ternary": {
           "aaxis": {
            "gridcolor": "white",
            "linecolor": "white",
            "ticks": ""
           },
           "baxis": {
            "gridcolor": "white",
            "linecolor": "white",
            "ticks": ""
           },
           "bgcolor": "#E5ECF6",
           "caxis": {
            "gridcolor": "white",
            "linecolor": "white",
            "ticks": ""
           }
          },
          "title": {
           "x": 0.05
          },
          "xaxis": {
           "automargin": true,
           "gridcolor": "white",
           "linecolor": "white",
           "ticks": "",
           "title": {
            "standoff": 15
           },
           "zerolinecolor": "white",
           "zerolinewidth": 2
          },
          "yaxis": {
           "automargin": true,
           "gridcolor": "white",
           "linecolor": "white",
           "ticks": "",
           "title": {
            "standoff": 15
           },
           "zerolinecolor": "white",
           "zerolinewidth": 2
          }
         }
        },
        "title": {
         "text": "Themenrelevanz nach Reiseklasse (2019-2022)"
        },
        "width": 900,
        "xaxis": {
         "anchor": "y",
         "automargin": true,
         "domain": [
          0,
          1
         ],
         "showgrid": false,
         "tickangle": 45,
         "tickfont": {
          "size": 12
         },
         "tickmode": "array",
         "ticktext": [
          "Ausstattung Qualität Rollmaterial",
          "Corona",
          "Fahrplanangebot",
          "Feedback Umfrage",
          "Internet, Wlan und Mobilfunk",
          "Kommerzielle Angebote",
          "Kundeninformation",
          "Lob",
          "Platzangebot Velo, Gepäck, Kinderwagen",
          "Platzangebot Zug",
          "Preis-Leistung",
          "Pünktlichkeit",
          "Raumtemperatur Zug",
          "Sauberkeit Zug und Bahnhof",
          "Security",
          "Sonstiges",
          "Vertrieb und Services",
          "WC Verfügbarkeit und Sauberkeit",
          "Ausstattung Qualität Rollmaterial",
          "Corona",
          "Fahrplanangebot",
          "Feedback Umfrage",
          "Internet, Wlan und Mobilfunk",
          "Kommerzielle Angebote",
          "Kundeninformation",
          "Lob",
          "Platzangebot Velo, Gepäck, Kinderwagen",
          "Platzangebot Zug",
          "Preis-Leistung",
          "Pünktlichkeit",
          "Raumtemperatur Zug",
          "Sauberkeit Zug und Bahnhof",
          "Security",
          "Sonstiges",
          "Vertrieb und Services",
          "WC Verfügbarkeit und Sauberkeit"
         ],
         "tickvals": [
          0,
          1,
          2,
          3,
          4,
          5,
          6,
          7,
          8,
          9,
          10,
          11,
          12,
          13,
          14,
          15,
          16,
          17,
          18,
          19,
          20,
          21,
          22,
          23,
          24,
          25,
          26,
          27,
          28,
          29,
          30,
          31,
          32,
          33,
          34,
          35
         ],
         "tickwidth": 1,
         "title": {
          "text": ""
         }
        },
        "yaxis": {
         "anchor": "x",
         "domain": [
          0,
          1
         ],
         "gridcolor": "rgba(0,0,0,0.1)",
         "gridwidth": 1,
         "range": [
          0,
          0.29
         ],
         "showgrid": true,
         "title": {
          "font": {
           "size": 12
          },
          "text": "Relative Häufigkeit"
         }
        }
       }
      }
     },
     "metadata": {},
     "output_type": "display_data"
    }
   ],
   "source": [
    "barchart_klasse = create_grouped_barchart(df_u_klassencode,\n",
    "                                          x_col=\"CustomName\",\n",
    "                                          y_col=\"relative_count\",\n",
    "                                          color_col=\"u_klassencode\",\n",
    "                                          color_discrete_sequence=color_discrete_sequence,\n",
    "                                          title=\"Themenrelevanz nach Reiseklasse (2019-2022)\",\n",
    "                                          xaxis_title='',\n",
    "                                          yaxis_title='Relative Häufigkeit',\n",
    "                                          legend_title='',\n",
    "                                          template=template,\n",
    "                                          path=path,\n",
    "                                          filename=\"Themenrelevanz_Reiseklasse\")"
   ]
  },
  {
   "cell_type": "code",
   "execution_count": 125,
   "metadata": {},
   "outputs": [],
   "source": [
    "# create_grouped_radar(df_u_klassencode, x_col=\"CustomName\", y_col=\"relative_count\", color_col=\"u_klassencode\", color_discrete_sequence=color_discrete_sequence, title=\"Themenrelevanz nach Klasse (2019-2022)\", xaxis_title='', yaxis_title='Häufigkeit', legend_title='', template=template)"
   ]
  },
  {
   "cell_type": "code",
   "execution_count": 25,
   "metadata": {},
   "outputs": [
    {
     "data": {
      "application/vnd.plotly.v1+json": {
       "config": {
        "plotlyServerURL": "https://plot.ly"
       },
       "data": [
        {
         "alignmentgroup": "True",
         "customdata": [
          [
           "Freizeit und Unterhaltung"
          ],
          [
           "Freizeit und Unterhaltung"
          ],
          [
           "Freizeit und Unterhaltung"
          ],
          [
           "Freizeit und Unterhaltung"
          ],
          [
           "Freizeit und Unterhaltung"
          ],
          [
           "Freizeit und Unterhaltung"
          ],
          [
           "Freizeit und Unterhaltung"
          ],
          [
           "Freizeit und Unterhaltung"
          ],
          [
           "Freizeit und Unterhaltung"
          ],
          [
           "Freizeit und Unterhaltung"
          ],
          [
           "Freizeit und Unterhaltung"
          ],
          [
           "Freizeit und Unterhaltung"
          ],
          [
           "Freizeit und Unterhaltung"
          ],
          [
           "Freizeit und Unterhaltung"
          ],
          [
           "Freizeit und Unterhaltung"
          ],
          [
           "Freizeit und Unterhaltung"
          ],
          [
           "Freizeit und Unterhaltung"
          ],
          [
           "Freizeit und Unterhaltung"
          ]
         ],
         "hovertemplate": "R_zweck=%{customdata[0]}<br>CustomName=%{x}<br>relative_count=%{y}<extra></extra>",
         "legendgroup": "Freizeit und Unterhaltung",
         "marker": {
          "color": "#49787F",
          "pattern": {
           "shape": ""
          }
         },
         "name": "Freizeit und Unterhaltung",
         "offsetgroup": "Freizeit und Unterhaltung",
         "orientation": "v",
         "showlegend": true,
         "textposition": "auto",
         "type": "bar",
         "x": [
          "Ausstattung Qualität Rollmaterial",
          "Corona",
          "Fahrplanangebot",
          "Feedback Umfrage",
          "Internet, Wlan und Mobilfunk",
          "Kommerzielle Angebote",
          "Kundeninformation",
          "Lob",
          "Platzangebot Velo, Gepäck, Kinderwagen",
          "Platzangebot Zug",
          "Preis-Leistung",
          "Pünktlichkeit",
          "Raumtemperatur Zug",
          "Sauberkeit Zug und Bahnhof",
          "Security",
          "Sonstiges",
          "Vertrieb und Services",
          "WC Verfügbarkeit und Sauberkeit"
         ],
         "xaxis": "x",
         "y": [
          0.027559889760440957,
          0.04254116316868066,
          0.06836972652109391,
          0.018797258144300756,
          0.01922125644830754,
          0.030881209808494098,
          0.025227899088403647,
          0.05932442936894919,
          0.06536640520104586,
          0.10317292064165076,
          0.09151296728146421,
          0.16878665818670058,
          0.03268320260052293,
          0.02837255317645396,
          0.03215320472051445,
          0.04960780156879373,
          0.08190233905731044,
          0.04656914705674511
         ],
         "yaxis": "y"
        },
        {
         "alignmentgroup": "True",
         "customdata": [
          [
           "Arbeit und Lernen"
          ],
          [
           "Arbeit und Lernen"
          ],
          [
           "Arbeit und Lernen"
          ],
          [
           "Arbeit und Lernen"
          ],
          [
           "Arbeit und Lernen"
          ],
          [
           "Arbeit und Lernen"
          ],
          [
           "Arbeit und Lernen"
          ],
          [
           "Arbeit und Lernen"
          ],
          [
           "Arbeit und Lernen"
          ],
          [
           "Arbeit und Lernen"
          ],
          [
           "Arbeit und Lernen"
          ],
          [
           "Arbeit und Lernen"
          ],
          [
           "Arbeit und Lernen"
          ],
          [
           "Arbeit und Lernen"
          ],
          [
           "Arbeit und Lernen"
          ],
          [
           "Arbeit und Lernen"
          ],
          [
           "Arbeit und Lernen"
          ],
          [
           "Arbeit und Lernen"
          ]
         ],
         "hovertemplate": "R_zweck=%{customdata[0]}<br>CustomName=%{x}<br>relative_count=%{y}<extra></extra>",
         "legendgroup": "Arbeit und Lernen",
         "marker": {
          "color": "#A96262",
          "pattern": {
           "shape": ""
          }
         },
         "name": "Arbeit und Lernen",
         "offsetgroup": "Arbeit und Lernen",
         "orientation": "v",
         "showlegend": true,
         "textposition": "auto",
         "type": "bar",
         "x": [
          "Ausstattung Qualität Rollmaterial",
          "Corona",
          "Fahrplanangebot",
          "Feedback Umfrage",
          "Internet, Wlan und Mobilfunk",
          "Kommerzielle Angebote",
          "Kundeninformation",
          "Lob",
          "Platzangebot Velo, Gepäck, Kinderwagen",
          "Platzangebot Zug",
          "Preis-Leistung",
          "Pünktlichkeit",
          "Raumtemperatur Zug",
          "Sauberkeit Zug und Bahnhof",
          "Security",
          "Sonstiges",
          "Vertrieb und Services",
          "WC Verfügbarkeit und Sauberkeit"
         ],
         "xaxis": "x",
         "y": [
          0.02857777448730288,
          0.039905234322943656,
          0.06515140297623455,
          0.018434885614866364,
          0.031094987784111943,
          0.02731916783889835,
          0.023617383578885022,
          0.05182497964018657,
          0.022654919671281557,
          0.13800251721329682,
          0.08928703635152144,
          0.21951580661879025,
          0.03413045087732287,
          0.03190938032131487,
          0.03005848819130821,
          0.039905234322943656,
          0.06670615236544014,
          0.034500629303324204
         ],
         "yaxis": "y"
        }
       ],
       "layout": {
        "barmode": "group",
        "height": 600,
        "legend": {
         "title": {
          "text": ""
         },
         "tracegroupgap": 0
        },
        "margin": {
         "t": 60
        },
        "template": {
         "data": {
          "bar": [
           {
            "error_x": {
             "color": "#2a3f5f"
            },
            "error_y": {
             "color": "#2a3f5f"
            },
            "marker": {
             "line": {
              "color": "#E5ECF6",
              "width": 0.5
             },
             "pattern": {
              "fillmode": "overlay",
              "size": 10,
              "solidity": 0.2
             }
            },
            "type": "bar"
           }
          ],
          "barpolar": [
           {
            "marker": {
             "line": {
              "color": "#E5ECF6",
              "width": 0.5
             },
             "pattern": {
              "fillmode": "overlay",
              "size": 10,
              "solidity": 0.2
             }
            },
            "type": "barpolar"
           }
          ],
          "carpet": [
           {
            "aaxis": {
             "endlinecolor": "#2a3f5f",
             "gridcolor": "white",
             "linecolor": "white",
             "minorgridcolor": "white",
             "startlinecolor": "#2a3f5f"
            },
            "baxis": {
             "endlinecolor": "#2a3f5f",
             "gridcolor": "white",
             "linecolor": "white",
             "minorgridcolor": "white",
             "startlinecolor": "#2a3f5f"
            },
            "type": "carpet"
           }
          ],
          "choropleth": [
           {
            "colorbar": {
             "outlinewidth": 0,
             "ticks": ""
            },
            "type": "choropleth"
           }
          ],
          "contour": [
           {
            "colorbar": {
             "outlinewidth": 0,
             "ticks": ""
            },
            "colorscale": [
             [
              0,
              "#0d0887"
             ],
             [
              0.1111111111111111,
              "#46039f"
             ],
             [
              0.2222222222222222,
              "#7201a8"
             ],
             [
              0.3333333333333333,
              "#9c179e"
             ],
             [
              0.4444444444444444,
              "#bd3786"
             ],
             [
              0.5555555555555556,
              "#d8576b"
             ],
             [
              0.6666666666666666,
              "#ed7953"
             ],
             [
              0.7777777777777778,
              "#fb9f3a"
             ],
             [
              0.8888888888888888,
              "#fdca26"
             ],
             [
              1,
              "#f0f921"
             ]
            ],
            "type": "contour"
           }
          ],
          "contourcarpet": [
           {
            "colorbar": {
             "outlinewidth": 0,
             "ticks": ""
            },
            "type": "contourcarpet"
           }
          ],
          "heatmap": [
           {
            "colorbar": {
             "outlinewidth": 0,
             "ticks": ""
            },
            "colorscale": [
             [
              0,
              "#0d0887"
             ],
             [
              0.1111111111111111,
              "#46039f"
             ],
             [
              0.2222222222222222,
              "#7201a8"
             ],
             [
              0.3333333333333333,
              "#9c179e"
             ],
             [
              0.4444444444444444,
              "#bd3786"
             ],
             [
              0.5555555555555556,
              "#d8576b"
             ],
             [
              0.6666666666666666,
              "#ed7953"
             ],
             [
              0.7777777777777778,
              "#fb9f3a"
             ],
             [
              0.8888888888888888,
              "#fdca26"
             ],
             [
              1,
              "#f0f921"
             ]
            ],
            "type": "heatmap"
           }
          ],
          "heatmapgl": [
           {
            "colorbar": {
             "outlinewidth": 0,
             "ticks": ""
            },
            "colorscale": [
             [
              0,
              "#0d0887"
             ],
             [
              0.1111111111111111,
              "#46039f"
             ],
             [
              0.2222222222222222,
              "#7201a8"
             ],
             [
              0.3333333333333333,
              "#9c179e"
             ],
             [
              0.4444444444444444,
              "#bd3786"
             ],
             [
              0.5555555555555556,
              "#d8576b"
             ],
             [
              0.6666666666666666,
              "#ed7953"
             ],
             [
              0.7777777777777778,
              "#fb9f3a"
             ],
             [
              0.8888888888888888,
              "#fdca26"
             ],
             [
              1,
              "#f0f921"
             ]
            ],
            "type": "heatmapgl"
           }
          ],
          "histogram": [
           {
            "marker": {
             "pattern": {
              "fillmode": "overlay",
              "size": 10,
              "solidity": 0.2
             }
            },
            "type": "histogram"
           }
          ],
          "histogram2d": [
           {
            "colorbar": {
             "outlinewidth": 0,
             "ticks": ""
            },
            "colorscale": [
             [
              0,
              "#0d0887"
             ],
             [
              0.1111111111111111,
              "#46039f"
             ],
             [
              0.2222222222222222,
              "#7201a8"
             ],
             [
              0.3333333333333333,
              "#9c179e"
             ],
             [
              0.4444444444444444,
              "#bd3786"
             ],
             [
              0.5555555555555556,
              "#d8576b"
             ],
             [
              0.6666666666666666,
              "#ed7953"
             ],
             [
              0.7777777777777778,
              "#fb9f3a"
             ],
             [
              0.8888888888888888,
              "#fdca26"
             ],
             [
              1,
              "#f0f921"
             ]
            ],
            "type": "histogram2d"
           }
          ],
          "histogram2dcontour": [
           {
            "colorbar": {
             "outlinewidth": 0,
             "ticks": ""
            },
            "colorscale": [
             [
              0,
              "#0d0887"
             ],
             [
              0.1111111111111111,
              "#46039f"
             ],
             [
              0.2222222222222222,
              "#7201a8"
             ],
             [
              0.3333333333333333,
              "#9c179e"
             ],
             [
              0.4444444444444444,
              "#bd3786"
             ],
             [
              0.5555555555555556,
              "#d8576b"
             ],
             [
              0.6666666666666666,
              "#ed7953"
             ],
             [
              0.7777777777777778,
              "#fb9f3a"
             ],
             [
              0.8888888888888888,
              "#fdca26"
             ],
             [
              1,
              "#f0f921"
             ]
            ],
            "type": "histogram2dcontour"
           }
          ],
          "mesh3d": [
           {
            "colorbar": {
             "outlinewidth": 0,
             "ticks": ""
            },
            "type": "mesh3d"
           }
          ],
          "parcoords": [
           {
            "line": {
             "colorbar": {
              "outlinewidth": 0,
              "ticks": ""
             }
            },
            "type": "parcoords"
           }
          ],
          "pie": [
           {
            "automargin": true,
            "type": "pie"
           }
          ],
          "scatter": [
           {
            "fillpattern": {
             "fillmode": "overlay",
             "size": 10,
             "solidity": 0.2
            },
            "type": "scatter"
           }
          ],
          "scatter3d": [
           {
            "line": {
             "colorbar": {
              "outlinewidth": 0,
              "ticks": ""
             }
            },
            "marker": {
             "colorbar": {
              "outlinewidth": 0,
              "ticks": ""
             }
            },
            "type": "scatter3d"
           }
          ],
          "scattercarpet": [
           {
            "marker": {
             "colorbar": {
              "outlinewidth": 0,
              "ticks": ""
             }
            },
            "type": "scattercarpet"
           }
          ],
          "scattergeo": [
           {
            "marker": {
             "colorbar": {
              "outlinewidth": 0,
              "ticks": ""
             }
            },
            "type": "scattergeo"
           }
          ],
          "scattergl": [
           {
            "marker": {
             "colorbar": {
              "outlinewidth": 0,
              "ticks": ""
             }
            },
            "type": "scattergl"
           }
          ],
          "scattermapbox": [
           {
            "marker": {
             "colorbar": {
              "outlinewidth": 0,
              "ticks": ""
             }
            },
            "type": "scattermapbox"
           }
          ],
          "scatterpolar": [
           {
            "marker": {
             "colorbar": {
              "outlinewidth": 0,
              "ticks": ""
             }
            },
            "type": "scatterpolar"
           }
          ],
          "scatterpolargl": [
           {
            "marker": {
             "colorbar": {
              "outlinewidth": 0,
              "ticks": ""
             }
            },
            "type": "scatterpolargl"
           }
          ],
          "scatterternary": [
           {
            "marker": {
             "colorbar": {
              "outlinewidth": 0,
              "ticks": ""
             }
            },
            "type": "scatterternary"
           }
          ],
          "surface": [
           {
            "colorbar": {
             "outlinewidth": 0,
             "ticks": ""
            },
            "colorscale": [
             [
              0,
              "#0d0887"
             ],
             [
              0.1111111111111111,
              "#46039f"
             ],
             [
              0.2222222222222222,
              "#7201a8"
             ],
             [
              0.3333333333333333,
              "#9c179e"
             ],
             [
              0.4444444444444444,
              "#bd3786"
             ],
             [
              0.5555555555555556,
              "#d8576b"
             ],
             [
              0.6666666666666666,
              "#ed7953"
             ],
             [
              0.7777777777777778,
              "#fb9f3a"
             ],
             [
              0.8888888888888888,
              "#fdca26"
             ],
             [
              1,
              "#f0f921"
             ]
            ],
            "type": "surface"
           }
          ],
          "table": [
           {
            "cells": {
             "fill": {
              "color": "#EBF0F8"
             },
             "line": {
              "color": "white"
             }
            },
            "header": {
             "fill": {
              "color": "#C8D4E3"
             },
             "line": {
              "color": "white"
             }
            },
            "type": "table"
           }
          ]
         },
         "layout": {
          "annotationdefaults": {
           "arrowcolor": "#2a3f5f",
           "arrowhead": 0,
           "arrowwidth": 1
          },
          "autotypenumbers": "strict",
          "coloraxis": {
           "colorbar": {
            "outlinewidth": 0,
            "ticks": ""
           }
          },
          "colorscale": {
           "diverging": [
            [
             0,
             "#8e0152"
            ],
            [
             0.1,
             "#c51b7d"
            ],
            [
             0.2,
             "#de77ae"
            ],
            [
             0.3,
             "#f1b6da"
            ],
            [
             0.4,
             "#fde0ef"
            ],
            [
             0.5,
             "#f7f7f7"
            ],
            [
             0.6,
             "#e6f5d0"
            ],
            [
             0.7,
             "#b8e186"
            ],
            [
             0.8,
             "#7fbc41"
            ],
            [
             0.9,
             "#4d9221"
            ],
            [
             1,
             "#276419"
            ]
           ],
           "sequential": [
            [
             0,
             "#0d0887"
            ],
            [
             0.1111111111111111,
             "#46039f"
            ],
            [
             0.2222222222222222,
             "#7201a8"
            ],
            [
             0.3333333333333333,
             "#9c179e"
            ],
            [
             0.4444444444444444,
             "#bd3786"
            ],
            [
             0.5555555555555556,
             "#d8576b"
            ],
            [
             0.6666666666666666,
             "#ed7953"
            ],
            [
             0.7777777777777778,
             "#fb9f3a"
            ],
            [
             0.8888888888888888,
             "#fdca26"
            ],
            [
             1,
             "#f0f921"
            ]
           ],
           "sequentialminus": [
            [
             0,
             "#0d0887"
            ],
            [
             0.1111111111111111,
             "#46039f"
            ],
            [
             0.2222222222222222,
             "#7201a8"
            ],
            [
             0.3333333333333333,
             "#9c179e"
            ],
            [
             0.4444444444444444,
             "#bd3786"
            ],
            [
             0.5555555555555556,
             "#d8576b"
            ],
            [
             0.6666666666666666,
             "#ed7953"
            ],
            [
             0.7777777777777778,
             "#fb9f3a"
            ],
            [
             0.8888888888888888,
             "#fdca26"
            ],
            [
             1,
             "#f0f921"
            ]
           ]
          },
          "colorway": [
           "#636efa",
           "#EF553B",
           "#00cc96",
           "#ab63fa",
           "#FFA15A",
           "#19d3f3",
           "#FF6692",
           "#B6E880",
           "#FF97FF",
           "#FECB52"
          ],
          "font": {
           "color": "#2a3f5f"
          },
          "geo": {
           "bgcolor": "white",
           "lakecolor": "white",
           "landcolor": "#E5ECF6",
           "showlakes": true,
           "showland": true,
           "subunitcolor": "white"
          },
          "hoverlabel": {
           "align": "left"
          },
          "hovermode": "closest",
          "mapbox": {
           "style": "light"
          },
          "paper_bgcolor": "white",
          "plot_bgcolor": "#E5ECF6",
          "polar": {
           "angularaxis": {
            "gridcolor": "white",
            "linecolor": "white",
            "ticks": ""
           },
           "bgcolor": "#E5ECF6",
           "radialaxis": {
            "gridcolor": "white",
            "linecolor": "white",
            "ticks": ""
           }
          },
          "scene": {
           "xaxis": {
            "backgroundcolor": "#E5ECF6",
            "gridcolor": "white",
            "gridwidth": 2,
            "linecolor": "white",
            "showbackground": true,
            "ticks": "",
            "zerolinecolor": "white"
           },
           "yaxis": {
            "backgroundcolor": "#E5ECF6",
            "gridcolor": "white",
            "gridwidth": 2,
            "linecolor": "white",
            "showbackground": true,
            "ticks": "",
            "zerolinecolor": "white"
           },
           "zaxis": {
            "backgroundcolor": "#E5ECF6",
            "gridcolor": "white",
            "gridwidth": 2,
            "linecolor": "white",
            "showbackground": true,
            "ticks": "",
            "zerolinecolor": "white"
           }
          },
          "shapedefaults": {
           "line": {
            "color": "#2a3f5f"
           }
          },
          "ternary": {
           "aaxis": {
            "gridcolor": "white",
            "linecolor": "white",
            "ticks": ""
           },
           "baxis": {
            "gridcolor": "white",
            "linecolor": "white",
            "ticks": ""
           },
           "bgcolor": "#E5ECF6",
           "caxis": {
            "gridcolor": "white",
            "linecolor": "white",
            "ticks": ""
           }
          },
          "title": {
           "x": 0.05
          },
          "xaxis": {
           "automargin": true,
           "gridcolor": "white",
           "linecolor": "white",
           "ticks": "",
           "title": {
            "standoff": 15
           },
           "zerolinecolor": "white",
           "zerolinewidth": 2
          },
          "yaxis": {
           "automargin": true,
           "gridcolor": "white",
           "linecolor": "white",
           "ticks": "",
           "title": {
            "standoff": 15
           },
           "zerolinecolor": "white",
           "zerolinewidth": 2
          }
         }
        },
        "title": {
         "text": "Themenrelevanz nach Reisezweck (2019-2022)"
        },
        "width": 900,
        "xaxis": {
         "anchor": "y",
         "automargin": true,
         "domain": [
          0,
          1
         ],
         "showgrid": false,
         "tickangle": 45,
         "tickfont": {
          "size": 12
         },
         "tickmode": "array",
         "ticktext": [
          "Ausstattung Qualität Rollmaterial",
          "Corona",
          "Fahrplanangebot",
          "Feedback Umfrage",
          "Internet, Wlan und Mobilfunk",
          "Kommerzielle Angebote",
          "Kundeninformation",
          "Lob",
          "Platzangebot Velo, Gepäck, Kinderwagen",
          "Platzangebot Zug",
          "Preis-Leistung",
          "Pünktlichkeit",
          "Raumtemperatur Zug",
          "Sauberkeit Zug und Bahnhof",
          "Security",
          "Sonstiges",
          "Vertrieb und Services",
          "WC Verfügbarkeit und Sauberkeit",
          "Ausstattung Qualität Rollmaterial",
          "Corona",
          "Fahrplanangebot",
          "Feedback Umfrage",
          "Internet, Wlan und Mobilfunk",
          "Kommerzielle Angebote",
          "Kundeninformation",
          "Lob",
          "Platzangebot Velo, Gepäck, Kinderwagen",
          "Platzangebot Zug",
          "Preis-Leistung",
          "Pünktlichkeit",
          "Raumtemperatur Zug",
          "Sauberkeit Zug und Bahnhof",
          "Security",
          "Sonstiges",
          "Vertrieb und Services",
          "WC Verfügbarkeit und Sauberkeit"
         ],
         "tickvals": [
          0,
          1,
          2,
          3,
          4,
          5,
          6,
          7,
          8,
          9,
          10,
          11,
          12,
          13,
          14,
          15,
          16,
          17,
          18,
          19,
          20,
          21,
          22,
          23,
          24,
          25,
          26,
          27,
          28,
          29,
          30,
          31,
          32,
          33,
          34,
          35
         ],
         "tickwidth": 1,
         "title": {
          "text": ""
         }
        },
        "yaxis": {
         "anchor": "x",
         "domain": [
          0,
          1
         ],
         "gridcolor": "rgba(0,0,0,0.1)",
         "gridwidth": 1,
         "range": [
          0,
          0.29
         ],
         "showgrid": true,
         "title": {
          "font": {
           "size": 12
          },
          "text": "Relative Häufigkeit"
         }
        }
       }
      }
     },
     "metadata": {},
     "output_type": "display_data"
    }
   ],
   "source": [
    "barchart_Reisezweck = create_grouped_barchart(df_R_zweck ,\n",
    "                                              x_col=\"CustomName\",\n",
    "                                              y_col=\"relative_count\",\n",
    "                                              color_col=\"R_zweck\",\n",
    "                                              color_discrete_sequence=color_discrete_sequence,\n",
    "                                              title=\"Themenrelevanz nach Reisezweck (2019-2022)\",\n",
    "                                              xaxis_title='',\n",
    "                                              yaxis_title='Relative Häufigkeit',\n",
    "                                              legend_title='',\n",
    "                                              template=template,\n",
    "                                              path=path,\n",
    "                                              filename=\"Themenrelevanz_Reisezweck\")"
   ]
  },
  {
   "cell_type": "code",
   "execution_count": 127,
   "metadata": {},
   "outputs": [],
   "source": [
    "# create_grouped_radar(df_R_zweck, x_col=\"CustomName\", y_col=\"relative_count\", color_col=\"R_zweck\", color_discrete_sequence=color_discrete_sequence, title=\"Themenrelevanz nach Reisezweck (2019-2022)\", xaxis_title='', yaxis_title='Häufigkeit', legend_title='', template=template)"
   ]
  },
  {
   "cell_type": "code",
   "execution_count": 27,
   "metadata": {},
   "outputs": [
    {
     "data": {
      "application/vnd.plotly.v1+json": {
       "config": {
        "plotlyServerURL": "https://plot.ly"
       },
       "data": [
        {
         "alignmentgroup": "True",
         "customdata": [
          [
           "bis 15 Minuten"
          ],
          [
           "bis 15 Minuten"
          ],
          [
           "bis 15 Minuten"
          ],
          [
           "bis 15 Minuten"
          ],
          [
           "bis 15 Minuten"
          ],
          [
           "bis 15 Minuten"
          ],
          [
           "bis 15 Minuten"
          ],
          [
           "bis 15 Minuten"
          ],
          [
           "bis 15 Minuten"
          ],
          [
           "bis 15 Minuten"
          ],
          [
           "bis 15 Minuten"
          ],
          [
           "bis 15 Minuten"
          ],
          [
           "bis 15 Minuten"
          ],
          [
           "bis 15 Minuten"
          ],
          [
           "bis 15 Minuten"
          ],
          [
           "bis 15 Minuten"
          ],
          [
           "bis 15 Minuten"
          ],
          [
           "bis 15 Minuten"
          ]
         ],
         "hovertemplate": "time_diff_grouped=%{customdata[0]}<br>CustomName=%{x}<br>relative_count=%{y}<extra></extra>",
         "legendgroup": "bis 15 Minuten",
         "marker": {
          "color": "#49787F",
          "pattern": {
           "shape": ""
          }
         },
         "name": "bis 15 Minuten",
         "offsetgroup": "bis 15 Minuten",
         "orientation": "v",
         "showlegend": true,
         "textposition": "auto",
         "type": "bar",
         "x": [
          "Ausstattung Qualität Rollmaterial",
          "Corona",
          "Fahrplanangebot",
          "Feedback Umfrage",
          "Internet, Wlan und Mobilfunk",
          "Kommerzielle Angebote",
          "Kundeninformation",
          "Lob",
          "Platzangebot Velo, Gepäck, Kinderwagen",
          "Platzangebot Zug",
          "Preis-Leistung",
          "Pünktlichkeit",
          "Raumtemperatur Zug",
          "Sauberkeit Zug und Bahnhof",
          "Security",
          "Sonstiges",
          "Vertrieb und Services",
          "WC Verfügbarkeit und Sauberkeit"
         ],
         "xaxis": "x",
         "y": [
          0.02002035968781812,
          0.05972175093315236,
          0.07091957923311842,
          0.02477095351204615,
          0.015609093993892093,
          0.008822531387852052,
          0.022056328469630133,
          0.05531048523922633,
          0.0332541567695962,
          0.08585001696640651,
          0.1347132677298948,
          0.14353579911774686,
          0.022395656599932135,
          0.041398031896844247,
          0.045469969460468274,
          0.0668476416694944,
          0.0987444859178826,
          0.04105870376654225
         ],
         "yaxis": "y"
        },
        {
         "alignmentgroup": "True",
         "customdata": [
          [
           "16 bis 60 Minuten"
          ],
          [
           "16 bis 60 Minuten"
          ],
          [
           "16 bis 60 Minuten"
          ],
          [
           "16 bis 60 Minuten"
          ],
          [
           "16 bis 60 Minuten"
          ],
          [
           "16 bis 60 Minuten"
          ],
          [
           "16 bis 60 Minuten"
          ],
          [
           "16 bis 60 Minuten"
          ],
          [
           "16 bis 60 Minuten"
          ],
          [
           "16 bis 60 Minuten"
          ],
          [
           "16 bis 60 Minuten"
          ],
          [
           "16 bis 60 Minuten"
          ],
          [
           "16 bis 60 Minuten"
          ],
          [
           "16 bis 60 Minuten"
          ],
          [
           "16 bis 60 Minuten"
          ],
          [
           "16 bis 60 Minuten"
          ],
          [
           "16 bis 60 Minuten"
          ],
          [
           "16 bis 60 Minuten"
          ]
         ],
         "hovertemplate": "time_diff_grouped=%{customdata[0]}<br>CustomName=%{x}<br>relative_count=%{y}<extra></extra>",
         "legendgroup": "16 bis 60 Minuten",
         "marker": {
          "color": "#A96262",
          "pattern": {
           "shape": ""
          }
         },
         "name": "16 bis 60 Minuten",
         "offsetgroup": "16 bis 60 Minuten",
         "orientation": "v",
         "showlegend": true,
         "textposition": "auto",
         "type": "bar",
         "x": [
          "Ausstattung Qualität Rollmaterial",
          "Corona",
          "Fahrplanangebot",
          "Feedback Umfrage",
          "Internet, Wlan und Mobilfunk",
          "Kommerzielle Angebote",
          "Kundeninformation",
          "Lob",
          "Platzangebot Velo, Gepäck, Kinderwagen",
          "Platzangebot Zug",
          "Preis-Leistung",
          "Pünktlichkeit",
          "Raumtemperatur Zug",
          "Sauberkeit Zug und Bahnhof",
          "Security",
          "Sonstiges",
          "Vertrieb und Services",
          "WC Verfügbarkeit und Sauberkeit"
         ],
         "xaxis": "x",
         "y": [
          0.024665216893670596,
          0.04612567242760673,
          0.0726794094082637,
          0.01842737781847316,
          0.018770745107016137,
          0.01808401052993018,
          0.02569531875929953,
          0.055797184388233945,
          0.04229140437221014,
          0.11474190225477852,
          0.09803136087902026,
          0.17065354240586014,
          0.028556712830491014,
          0.034966235549959944,
          0.043951012933501205,
          0.05425203158979055,
          0.08103468009614284,
          0.043951012933501205
         ],
         "yaxis": "y"
        },
        {
         "alignmentgroup": "True",
         "customdata": [
          [
           "61 bis 180 Minuten"
          ],
          [
           "61 bis 180 Minuten"
          ],
          [
           "61 bis 180 Minuten"
          ],
          [
           "61 bis 180 Minuten"
          ],
          [
           "61 bis 180 Minuten"
          ],
          [
           "61 bis 180 Minuten"
          ],
          [
           "61 bis 180 Minuten"
          ],
          [
           "61 bis 180 Minuten"
          ],
          [
           "61 bis 180 Minuten"
          ],
          [
           "61 bis 180 Minuten"
          ],
          [
           "61 bis 180 Minuten"
          ],
          [
           "61 bis 180 Minuten"
          ],
          [
           "61 bis 180 Minuten"
          ],
          [
           "61 bis 180 Minuten"
          ],
          [
           "61 bis 180 Minuten"
          ],
          [
           "61 bis 180 Minuten"
          ],
          [
           "61 bis 180 Minuten"
          ],
          [
           "61 bis 180 Minuten"
          ]
         ],
         "hovertemplate": "time_diff_grouped=%{customdata[0]}<br>CustomName=%{x}<br>relative_count=%{y}<extra></extra>",
         "legendgroup": "61 bis 180 Minuten",
         "marker": {
          "color": "#F06969",
          "pattern": {
           "shape": ""
          }
         },
         "name": "61 bis 180 Minuten",
         "offsetgroup": "61 bis 180 Minuten",
         "orientation": "v",
         "showlegend": true,
         "textposition": "auto",
         "type": "bar",
         "x": [
          "Ausstattung Qualität Rollmaterial",
          "Corona",
          "Fahrplanangebot",
          "Feedback Umfrage",
          "Internet, Wlan und Mobilfunk",
          "Kommerzielle Angebote",
          "Kundeninformation",
          "Lob",
          "Platzangebot Velo, Gepäck, Kinderwagen",
          "Platzangebot Zug",
          "Preis-Leistung",
          "Pünktlichkeit",
          "Raumtemperatur Zug",
          "Sauberkeit Zug und Bahnhof",
          "Security",
          "Sonstiges",
          "Vertrieb und Services",
          "WC Verfügbarkeit und Sauberkeit"
         ],
         "xaxis": "x",
         "y": [
          0.03123901066697925,
          0.03200093775641777,
          0.05421404290235611,
          0.01863790880318837,
          0.027487984995897316,
          0.04108545305356934,
          0.02719493611534404,
          0.05468292111124135,
          0.061423045363966707,
          0.1193295041612941,
          0.07765795334661822,
          0.1942914078068222,
          0.03926854999413902,
          0.027546594772007972,
          0.026139960145352244,
          0.04249208768022506,
          0.07044895088500762,
          0.04800140663462665
         ],
         "yaxis": "y"
        },
        {
         "alignmentgroup": "True",
         "customdata": [
          [
           "Mehr als 180 Minuten"
          ],
          [
           "Mehr als 180 Minuten"
          ],
          [
           "Mehr als 180 Minuten"
          ],
          [
           "Mehr als 180 Minuten"
          ],
          [
           "Mehr als 180 Minuten"
          ],
          [
           "Mehr als 180 Minuten"
          ],
          [
           "Mehr als 180 Minuten"
          ],
          [
           "Mehr als 180 Minuten"
          ],
          [
           "Mehr als 180 Minuten"
          ],
          [
           "Mehr als 180 Minuten"
          ],
          [
           "Mehr als 180 Minuten"
          ],
          [
           "Mehr als 180 Minuten"
          ],
          [
           "Mehr als 180 Minuten"
          ],
          [
           "Mehr als 180 Minuten"
          ],
          [
           "Mehr als 180 Minuten"
          ],
          [
           "Mehr als 180 Minuten"
          ],
          [
           "Mehr als 180 Minuten"
          ],
          [
           "Mehr als 180 Minuten"
          ]
         ],
         "hovertemplate": "time_diff_grouped=%{customdata[0]}<br>CustomName=%{x}<br>relative_count=%{y}<extra></extra>",
         "legendgroup": "Mehr als 180 Minuten",
         "marker": {
          "color": "#C499CA",
          "pattern": {
           "shape": ""
          }
         },
         "name": "Mehr als 180 Minuten",
         "offsetgroup": "Mehr als 180 Minuten",
         "orientation": "v",
         "showlegend": true,
         "textposition": "auto",
         "type": "bar",
         "x": [
          "Ausstattung Qualität Rollmaterial",
          "Corona",
          "Fahrplanangebot",
          "Feedback Umfrage",
          "Internet, Wlan und Mobilfunk",
          "Kommerzielle Angebote",
          "Kundeninformation",
          "Lob",
          "Platzangebot Velo, Gepäck, Kinderwagen",
          "Platzangebot Zug",
          "Preis-Leistung",
          "Pünktlichkeit",
          "Raumtemperatur Zug",
          "Sauberkeit Zug und Bahnhof",
          "Security",
          "Sonstiges",
          "Vertrieb und Services",
          "WC Verfügbarkeit und Sauberkeit"
         ],
         "xaxis": "x",
         "y": [
          0.034317637669592976,
          0.023942537909018357,
          0.06424581005586592,
          0.019154030327214685,
          0.03312051077414206,
          0.06624102154828412,
          0.024341580207501996,
          0.052673583399840386,
          0.06783719074221868,
          0.12130885873902633,
          0.057861133280127694,
          0.21787709497206703,
          0.044293695131683956,
          0.017158818834796488,
          0.01596169193934557,
          0.03112529928172386,
          0.05746209098164405,
          0.045091779728651235
         ],
         "yaxis": "y"
        }
       ],
       "layout": {
        "barmode": "group",
        "height": 600,
        "legend": {
         "title": {
          "text": ""
         },
         "tracegroupgap": 0
        },
        "margin": {
         "t": 60
        },
        "template": {
         "data": {
          "bar": [
           {
            "error_x": {
             "color": "#2a3f5f"
            },
            "error_y": {
             "color": "#2a3f5f"
            },
            "marker": {
             "line": {
              "color": "#E5ECF6",
              "width": 0.5
             },
             "pattern": {
              "fillmode": "overlay",
              "size": 10,
              "solidity": 0.2
             }
            },
            "type": "bar"
           }
          ],
          "barpolar": [
           {
            "marker": {
             "line": {
              "color": "#E5ECF6",
              "width": 0.5
             },
             "pattern": {
              "fillmode": "overlay",
              "size": 10,
              "solidity": 0.2
             }
            },
            "type": "barpolar"
           }
          ],
          "carpet": [
           {
            "aaxis": {
             "endlinecolor": "#2a3f5f",
             "gridcolor": "white",
             "linecolor": "white",
             "minorgridcolor": "white",
             "startlinecolor": "#2a3f5f"
            },
            "baxis": {
             "endlinecolor": "#2a3f5f",
             "gridcolor": "white",
             "linecolor": "white",
             "minorgridcolor": "white",
             "startlinecolor": "#2a3f5f"
            },
            "type": "carpet"
           }
          ],
          "choropleth": [
           {
            "colorbar": {
             "outlinewidth": 0,
             "ticks": ""
            },
            "type": "choropleth"
           }
          ],
          "contour": [
           {
            "colorbar": {
             "outlinewidth": 0,
             "ticks": ""
            },
            "colorscale": [
             [
              0,
              "#0d0887"
             ],
             [
              0.1111111111111111,
              "#46039f"
             ],
             [
              0.2222222222222222,
              "#7201a8"
             ],
             [
              0.3333333333333333,
              "#9c179e"
             ],
             [
              0.4444444444444444,
              "#bd3786"
             ],
             [
              0.5555555555555556,
              "#d8576b"
             ],
             [
              0.6666666666666666,
              "#ed7953"
             ],
             [
              0.7777777777777778,
              "#fb9f3a"
             ],
             [
              0.8888888888888888,
              "#fdca26"
             ],
             [
              1,
              "#f0f921"
             ]
            ],
            "type": "contour"
           }
          ],
          "contourcarpet": [
           {
            "colorbar": {
             "outlinewidth": 0,
             "ticks": ""
            },
            "type": "contourcarpet"
           }
          ],
          "heatmap": [
           {
            "colorbar": {
             "outlinewidth": 0,
             "ticks": ""
            },
            "colorscale": [
             [
              0,
              "#0d0887"
             ],
             [
              0.1111111111111111,
              "#46039f"
             ],
             [
              0.2222222222222222,
              "#7201a8"
             ],
             [
              0.3333333333333333,
              "#9c179e"
             ],
             [
              0.4444444444444444,
              "#bd3786"
             ],
             [
              0.5555555555555556,
              "#d8576b"
             ],
             [
              0.6666666666666666,
              "#ed7953"
             ],
             [
              0.7777777777777778,
              "#fb9f3a"
             ],
             [
              0.8888888888888888,
              "#fdca26"
             ],
             [
              1,
              "#f0f921"
             ]
            ],
            "type": "heatmap"
           }
          ],
          "heatmapgl": [
           {
            "colorbar": {
             "outlinewidth": 0,
             "ticks": ""
            },
            "colorscale": [
             [
              0,
              "#0d0887"
             ],
             [
              0.1111111111111111,
              "#46039f"
             ],
             [
              0.2222222222222222,
              "#7201a8"
             ],
             [
              0.3333333333333333,
              "#9c179e"
             ],
             [
              0.4444444444444444,
              "#bd3786"
             ],
             [
              0.5555555555555556,
              "#d8576b"
             ],
             [
              0.6666666666666666,
              "#ed7953"
             ],
             [
              0.7777777777777778,
              "#fb9f3a"
             ],
             [
              0.8888888888888888,
              "#fdca26"
             ],
             [
              1,
              "#f0f921"
             ]
            ],
            "type": "heatmapgl"
           }
          ],
          "histogram": [
           {
            "marker": {
             "pattern": {
              "fillmode": "overlay",
              "size": 10,
              "solidity": 0.2
             }
            },
            "type": "histogram"
           }
          ],
          "histogram2d": [
           {
            "colorbar": {
             "outlinewidth": 0,
             "ticks": ""
            },
            "colorscale": [
             [
              0,
              "#0d0887"
             ],
             [
              0.1111111111111111,
              "#46039f"
             ],
             [
              0.2222222222222222,
              "#7201a8"
             ],
             [
              0.3333333333333333,
              "#9c179e"
             ],
             [
              0.4444444444444444,
              "#bd3786"
             ],
             [
              0.5555555555555556,
              "#d8576b"
             ],
             [
              0.6666666666666666,
              "#ed7953"
             ],
             [
              0.7777777777777778,
              "#fb9f3a"
             ],
             [
              0.8888888888888888,
              "#fdca26"
             ],
             [
              1,
              "#f0f921"
             ]
            ],
            "type": "histogram2d"
           }
          ],
          "histogram2dcontour": [
           {
            "colorbar": {
             "outlinewidth": 0,
             "ticks": ""
            },
            "colorscale": [
             [
              0,
              "#0d0887"
             ],
             [
              0.1111111111111111,
              "#46039f"
             ],
             [
              0.2222222222222222,
              "#7201a8"
             ],
             [
              0.3333333333333333,
              "#9c179e"
             ],
             [
              0.4444444444444444,
              "#bd3786"
             ],
             [
              0.5555555555555556,
              "#d8576b"
             ],
             [
              0.6666666666666666,
              "#ed7953"
             ],
             [
              0.7777777777777778,
              "#fb9f3a"
             ],
             [
              0.8888888888888888,
              "#fdca26"
             ],
             [
              1,
              "#f0f921"
             ]
            ],
            "type": "histogram2dcontour"
           }
          ],
          "mesh3d": [
           {
            "colorbar": {
             "outlinewidth": 0,
             "ticks": ""
            },
            "type": "mesh3d"
           }
          ],
          "parcoords": [
           {
            "line": {
             "colorbar": {
              "outlinewidth": 0,
              "ticks": ""
             }
            },
            "type": "parcoords"
           }
          ],
          "pie": [
           {
            "automargin": true,
            "type": "pie"
           }
          ],
          "scatter": [
           {
            "fillpattern": {
             "fillmode": "overlay",
             "size": 10,
             "solidity": 0.2
            },
            "type": "scatter"
           }
          ],
          "scatter3d": [
           {
            "line": {
             "colorbar": {
              "outlinewidth": 0,
              "ticks": ""
             }
            },
            "marker": {
             "colorbar": {
              "outlinewidth": 0,
              "ticks": ""
             }
            },
            "type": "scatter3d"
           }
          ],
          "scattercarpet": [
           {
            "marker": {
             "colorbar": {
              "outlinewidth": 0,
              "ticks": ""
             }
            },
            "type": "scattercarpet"
           }
          ],
          "scattergeo": [
           {
            "marker": {
             "colorbar": {
              "outlinewidth": 0,
              "ticks": ""
             }
            },
            "type": "scattergeo"
           }
          ],
          "scattergl": [
           {
            "marker": {
             "colorbar": {
              "outlinewidth": 0,
              "ticks": ""
             }
            },
            "type": "scattergl"
           }
          ],
          "scattermapbox": [
           {
            "marker": {
             "colorbar": {
              "outlinewidth": 0,
              "ticks": ""
             }
            },
            "type": "scattermapbox"
           }
          ],
          "scatterpolar": [
           {
            "marker": {
             "colorbar": {
              "outlinewidth": 0,
              "ticks": ""
             }
            },
            "type": "scatterpolar"
           }
          ],
          "scatterpolargl": [
           {
            "marker": {
             "colorbar": {
              "outlinewidth": 0,
              "ticks": ""
             }
            },
            "type": "scatterpolargl"
           }
          ],
          "scatterternary": [
           {
            "marker": {
             "colorbar": {
              "outlinewidth": 0,
              "ticks": ""
             }
            },
            "type": "scatterternary"
           }
          ],
          "surface": [
           {
            "colorbar": {
             "outlinewidth": 0,
             "ticks": ""
            },
            "colorscale": [
             [
              0,
              "#0d0887"
             ],
             [
              0.1111111111111111,
              "#46039f"
             ],
             [
              0.2222222222222222,
              "#7201a8"
             ],
             [
              0.3333333333333333,
              "#9c179e"
             ],
             [
              0.4444444444444444,
              "#bd3786"
             ],
             [
              0.5555555555555556,
              "#d8576b"
             ],
             [
              0.6666666666666666,
              "#ed7953"
             ],
             [
              0.7777777777777778,
              "#fb9f3a"
             ],
             [
              0.8888888888888888,
              "#fdca26"
             ],
             [
              1,
              "#f0f921"
             ]
            ],
            "type": "surface"
           }
          ],
          "table": [
           {
            "cells": {
             "fill": {
              "color": "#EBF0F8"
             },
             "line": {
              "color": "white"
             }
            },
            "header": {
             "fill": {
              "color": "#C8D4E3"
             },
             "line": {
              "color": "white"
             }
            },
            "type": "table"
           }
          ]
         },
         "layout": {
          "annotationdefaults": {
           "arrowcolor": "#2a3f5f",
           "arrowhead": 0,
           "arrowwidth": 1
          },
          "autotypenumbers": "strict",
          "coloraxis": {
           "colorbar": {
            "outlinewidth": 0,
            "ticks": ""
           }
          },
          "colorscale": {
           "diverging": [
            [
             0,
             "#8e0152"
            ],
            [
             0.1,
             "#c51b7d"
            ],
            [
             0.2,
             "#de77ae"
            ],
            [
             0.3,
             "#f1b6da"
            ],
            [
             0.4,
             "#fde0ef"
            ],
            [
             0.5,
             "#f7f7f7"
            ],
            [
             0.6,
             "#e6f5d0"
            ],
            [
             0.7,
             "#b8e186"
            ],
            [
             0.8,
             "#7fbc41"
            ],
            [
             0.9,
             "#4d9221"
            ],
            [
             1,
             "#276419"
            ]
           ],
           "sequential": [
            [
             0,
             "#0d0887"
            ],
            [
             0.1111111111111111,
             "#46039f"
            ],
            [
             0.2222222222222222,
             "#7201a8"
            ],
            [
             0.3333333333333333,
             "#9c179e"
            ],
            [
             0.4444444444444444,
             "#bd3786"
            ],
            [
             0.5555555555555556,
             "#d8576b"
            ],
            [
             0.6666666666666666,
             "#ed7953"
            ],
            [
             0.7777777777777778,
             "#fb9f3a"
            ],
            [
             0.8888888888888888,
             "#fdca26"
            ],
            [
             1,
             "#f0f921"
            ]
           ],
           "sequentialminus": [
            [
             0,
             "#0d0887"
            ],
            [
             0.1111111111111111,
             "#46039f"
            ],
            [
             0.2222222222222222,
             "#7201a8"
            ],
            [
             0.3333333333333333,
             "#9c179e"
            ],
            [
             0.4444444444444444,
             "#bd3786"
            ],
            [
             0.5555555555555556,
             "#d8576b"
            ],
            [
             0.6666666666666666,
             "#ed7953"
            ],
            [
             0.7777777777777778,
             "#fb9f3a"
            ],
            [
             0.8888888888888888,
             "#fdca26"
            ],
            [
             1,
             "#f0f921"
            ]
           ]
          },
          "colorway": [
           "#636efa",
           "#EF553B",
           "#00cc96",
           "#ab63fa",
           "#FFA15A",
           "#19d3f3",
           "#FF6692",
           "#B6E880",
           "#FF97FF",
           "#FECB52"
          ],
          "font": {
           "color": "#2a3f5f"
          },
          "geo": {
           "bgcolor": "white",
           "lakecolor": "white",
           "landcolor": "#E5ECF6",
           "showlakes": true,
           "showland": true,
           "subunitcolor": "white"
          },
          "hoverlabel": {
           "align": "left"
          },
          "hovermode": "closest",
          "mapbox": {
           "style": "light"
          },
          "paper_bgcolor": "white",
          "plot_bgcolor": "#E5ECF6",
          "polar": {
           "angularaxis": {
            "gridcolor": "white",
            "linecolor": "white",
            "ticks": ""
           },
           "bgcolor": "#E5ECF6",
           "radialaxis": {
            "gridcolor": "white",
            "linecolor": "white",
            "ticks": ""
           }
          },
          "scene": {
           "xaxis": {
            "backgroundcolor": "#E5ECF6",
            "gridcolor": "white",
            "gridwidth": 2,
            "linecolor": "white",
            "showbackground": true,
            "ticks": "",
            "zerolinecolor": "white"
           },
           "yaxis": {
            "backgroundcolor": "#E5ECF6",
            "gridcolor": "white",
            "gridwidth": 2,
            "linecolor": "white",
            "showbackground": true,
            "ticks": "",
            "zerolinecolor": "white"
           },
           "zaxis": {
            "backgroundcolor": "#E5ECF6",
            "gridcolor": "white",
            "gridwidth": 2,
            "linecolor": "white",
            "showbackground": true,
            "ticks": "",
            "zerolinecolor": "white"
           }
          },
          "shapedefaults": {
           "line": {
            "color": "#2a3f5f"
           }
          },
          "ternary": {
           "aaxis": {
            "gridcolor": "white",
            "linecolor": "white",
            "ticks": ""
           },
           "baxis": {
            "gridcolor": "white",
            "linecolor": "white",
            "ticks": ""
           },
           "bgcolor": "#E5ECF6",
           "caxis": {
            "gridcolor": "white",
            "linecolor": "white",
            "ticks": ""
           }
          },
          "title": {
           "x": 0.05
          },
          "xaxis": {
           "automargin": true,
           "gridcolor": "white",
           "linecolor": "white",
           "ticks": "",
           "title": {
            "standoff": 15
           },
           "zerolinecolor": "white",
           "zerolinewidth": 2
          },
          "yaxis": {
           "automargin": true,
           "gridcolor": "white",
           "linecolor": "white",
           "ticks": "",
           "title": {
            "standoff": 15
           },
           "zerolinecolor": "white",
           "zerolinewidth": 2
          }
         }
        },
        "title": {
         "text": "Themenrelevanz nach Reisedauer (2019-2022)"
        },
        "width": 900,
        "xaxis": {
         "anchor": "y",
         "automargin": true,
         "domain": [
          0,
          1
         ],
         "showgrid": false,
         "tickangle": 45,
         "tickfont": {
          "size": 12
         },
         "tickmode": "array",
         "ticktext": [
          "Ausstattung Qualität Rollmaterial",
          "Corona",
          "Fahrplanangebot",
          "Feedback Umfrage",
          "Internet, Wlan und Mobilfunk",
          "Kommerzielle Angebote",
          "Kundeninformation",
          "Lob",
          "Platzangebot Velo, Gepäck, Kinderwagen",
          "Platzangebot Zug",
          "Preis-Leistung",
          "Pünktlichkeit",
          "Raumtemperatur Zug",
          "Sauberkeit Zug und Bahnhof",
          "Security",
          "Sonstiges",
          "Vertrieb und Services",
          "WC Verfügbarkeit und Sauberkeit",
          "Ausstattung Qualität Rollmaterial",
          "Corona",
          "Fahrplanangebot",
          "Feedback Umfrage",
          "Internet, Wlan und Mobilfunk",
          "Kommerzielle Angebote",
          "Kundeninformation",
          "Lob",
          "Platzangebot Velo, Gepäck, Kinderwagen",
          "Platzangebot Zug",
          "Preis-Leistung",
          "Pünktlichkeit",
          "Raumtemperatur Zug",
          "Sauberkeit Zug und Bahnhof",
          "Security",
          "Sonstiges",
          "Vertrieb und Services",
          "WC Verfügbarkeit und Sauberkeit",
          "Ausstattung Qualität Rollmaterial",
          "Corona",
          "Fahrplanangebot",
          "Feedback Umfrage",
          "Internet, Wlan und Mobilfunk",
          "Kommerzielle Angebote",
          "Kundeninformation",
          "Lob",
          "Platzangebot Velo, Gepäck, Kinderwagen",
          "Platzangebot Zug",
          "Preis-Leistung",
          "Pünktlichkeit",
          "Raumtemperatur Zug",
          "Sauberkeit Zug und Bahnhof",
          "Security",
          "Sonstiges",
          "Vertrieb und Services",
          "WC Verfügbarkeit und Sauberkeit",
          "Ausstattung Qualität Rollmaterial",
          "Corona",
          "Fahrplanangebot",
          "Feedback Umfrage",
          "Internet, Wlan und Mobilfunk",
          "Kommerzielle Angebote",
          "Kundeninformation",
          "Lob",
          "Platzangebot Velo, Gepäck, Kinderwagen",
          "Platzangebot Zug",
          "Preis-Leistung",
          "Pünktlichkeit",
          "Raumtemperatur Zug",
          "Sauberkeit Zug und Bahnhof",
          "Security",
          "Sonstiges",
          "Vertrieb und Services",
          "WC Verfügbarkeit und Sauberkeit"
         ],
         "tickvals": [
          0,
          1,
          2,
          3,
          4,
          5,
          6,
          7,
          8,
          9,
          10,
          11,
          12,
          13,
          14,
          15,
          16,
          17,
          18,
          19,
          20,
          21,
          22,
          23,
          24,
          25,
          26,
          27,
          28,
          29,
          30,
          31,
          32,
          33,
          34,
          35,
          36,
          37,
          38,
          39,
          40,
          41,
          42,
          43,
          44,
          45,
          46,
          47,
          48,
          49,
          50,
          51,
          52,
          53,
          54,
          55,
          56,
          57,
          58,
          59,
          60,
          61,
          62,
          63,
          64,
          65,
          66,
          67,
          68,
          69,
          70,
          71
         ],
         "tickwidth": 1,
         "title": {
          "text": ""
         }
        },
        "yaxis": {
         "anchor": "x",
         "domain": [
          0,
          1
         ],
         "gridcolor": "rgba(0,0,0,0.1)",
         "gridwidth": 1,
         "range": [
          0,
          0.29
         ],
         "showgrid": true,
         "title": {
          "font": {
           "size": 12
          },
          "text": "Relative Häufigkeit"
         }
        }
       }
      }
     },
     "metadata": {},
     "output_type": "display_data"
    }
   ],
   "source": [
    "barchart_reisezeit = create_grouped_barchart(df_reisezeit,\n",
    "                                             x_col=\"CustomName\",\n",
    "                                             y_col=\"relative_count\",\n",
    "                                             color_col=\"time_diff_grouped\",\n",
    "                                             color_discrete_sequence=color_discrete_sequence,\n",
    "                                             title=\"Themenrelevanz nach Reisedauer (2019-2022)\",\n",
    "                                             xaxis_title='',\n",
    "                                             yaxis_title='Relative Häufigkeit',\n",
    "                                             legend_title='',\n",
    "                                             template=template,\n",
    "                                             path=path,\n",
    "                                             filename=\"Themenrelevanz_Reisedauer\")"
   ]
  },
  {
   "cell_type": "code",
   "execution_count": 28,
   "metadata": {},
   "outputs": [],
   "source": [
    "# create_grouped_radar(df_reisezeit, x_col=\"CustomName\", y_col=\"relative_count\", color_col=\"time_diff_grouped\", color_discrete_sequence=color_discrete_sequence, title=\"Themenrelevanz nach Reisedauer (2019-2022)\", xaxis_title='', yaxis_title='Häufigkeit', legend_title='Gruppe', template=template)"
   ]
  },
  {
   "cell_type": "code",
   "execution_count": 29,
   "metadata": {},
   "outputs": [
    {
     "data": {
      "application/vnd.plotly.v1+json": {
       "config": {
        "plotlyServerURL": "https://plot.ly"
       },
       "data": [
        {
         "alignmentgroup": "True",
         "customdata": [
          [
           "In der Schweiz / Liechtenstein"
          ],
          [
           "In der Schweiz / Liechtenstein"
          ],
          [
           "In der Schweiz / Liechtenstein"
          ],
          [
           "In der Schweiz / Liechtenstein"
          ],
          [
           "In der Schweiz / Liechtenstein"
          ],
          [
           "In der Schweiz / Liechtenstein"
          ],
          [
           "In der Schweiz / Liechtenstein"
          ],
          [
           "In der Schweiz / Liechtenstein"
          ],
          [
           "In der Schweiz / Liechtenstein"
          ],
          [
           "In der Schweiz / Liechtenstein"
          ],
          [
           "In der Schweiz / Liechtenstein"
          ],
          [
           "In der Schweiz / Liechtenstein"
          ],
          [
           "In der Schweiz / Liechtenstein"
          ],
          [
           "In der Schweiz / Liechtenstein"
          ],
          [
           "In der Schweiz / Liechtenstein"
          ],
          [
           "In der Schweiz / Liechtenstein"
          ],
          [
           "In der Schweiz / Liechtenstein"
          ],
          [
           "In der Schweiz / Liechtenstein"
          ]
         ],
         "hovertemplate": "S_wohnsitz=%{customdata[0]}<br>CustomName=%{x}<br>relative_count=%{y}<extra></extra>",
         "legendgroup": "In der Schweiz / Liechtenstein",
         "marker": {
          "color": "#49787F",
          "pattern": {
           "shape": ""
          }
         },
         "name": "In der Schweiz / Liechtenstein",
         "offsetgroup": "In der Schweiz / Liechtenstein",
         "orientation": "v",
         "showlegend": true,
         "textposition": "auto",
         "type": "bar",
         "x": [
          "Ausstattung Qualität Rollmaterial",
          "Corona",
          "Fahrplanangebot",
          "Feedback Umfrage",
          "Internet, Wlan und Mobilfunk",
          "Kommerzielle Angebote",
          "Kundeninformation",
          "Lob",
          "Platzangebot Velo, Gepäck, Kinderwagen",
          "Platzangebot Zug",
          "Preis-Leistung",
          "Pünktlichkeit",
          "Raumtemperatur Zug",
          "Sauberkeit Zug und Bahnhof",
          "Security",
          "Sonstiges",
          "Vertrieb und Services",
          "WC Verfügbarkeit und Sauberkeit"
         ],
         "xaxis": "x",
         "y": [
          0.027622679195605793,
          0.04103681510735848,
          0.06734304780062644,
          0.01874801398156975,
          0.020473012846702075,
          0.02927958600027237,
          0.025398338553724635,
          0.056675291660992326,
          0.04957102001906578,
          0.11493939806618549,
          0.08999500658223251,
          0.18539198329474782,
          0.03309274138635435,
          0.030459848381678697,
          0.03245721548867402,
          0.049026283535339776,
          0.07692133097280857,
          0.04369240546552272
         ],
         "yaxis": "y"
        },
        {
         "alignmentgroup": "True",
         "customdata": [
          [
           "In einem anderen Land"
          ],
          [
           "In einem anderen Land"
          ],
          [
           "In einem anderen Land"
          ],
          [
           "In einem anderen Land"
          ],
          [
           "In einem anderen Land"
          ],
          [
           "In einem anderen Land"
          ],
          [
           "In einem anderen Land"
          ],
          [
           "In einem anderen Land"
          ],
          [
           "In einem anderen Land"
          ],
          [
           "In einem anderen Land"
          ],
          [
           "In einem anderen Land"
          ],
          [
           "In einem anderen Land"
          ],
          [
           "In einem anderen Land"
          ],
          [
           "In einem anderen Land"
          ],
          [
           "In einem anderen Land"
          ],
          [
           "In einem anderen Land"
          ],
          [
           "In einem anderen Land"
          ],
          [
           "In einem anderen Land"
          ]
         ],
         "hovertemplate": "S_wohnsitz=%{customdata[0]}<br>CustomName=%{x}<br>relative_count=%{y}<extra></extra>",
         "legendgroup": "In einem anderen Land",
         "marker": {
          "color": "#A96262",
          "pattern": {
           "shape": ""
          }
         },
         "name": "In einem anderen Land",
         "offsetgroup": "In einem anderen Land",
         "orientation": "v",
         "showlegend": true,
         "textposition": "auto",
         "type": "bar",
         "x": [
          "Ausstattung Qualität Rollmaterial",
          "Corona",
          "Fahrplanangebot",
          "Feedback Umfrage",
          "Internet, Wlan und Mobilfunk",
          "Kommerzielle Angebote",
          "Kundeninformation",
          "Lob",
          "Platzangebot Velo, Gepäck, Kinderwagen",
          "Platzangebot Zug",
          "Preis-Leistung",
          "Pünktlichkeit",
          "Raumtemperatur Zug",
          "Sauberkeit Zug und Bahnhof",
          "Security",
          "Sonstiges",
          "Vertrieb und Services",
          "WC Verfügbarkeit und Sauberkeit"
         ],
         "xaxis": "x",
         "y": [
          0.01627670396744659,
          0.03662258392675483,
          0.05798575788402848,
          0.017293997965412006,
          0.10274669379450661,
          0.026449643947100712,
          0.014242115971515769,
          0.07222787385554426,
          0.05188199389623601,
          0.06002034587995931,
          0.14343845371312308,
          0.17599186164801628,
          0.03255340793489318,
          0.028484231943031537,
          0.015259409969481181,
          0.023397761953204477,
          0.08646998982706001,
          0.0254323499491353
         ],
         "yaxis": "y"
        }
       ],
       "layout": {
        "barmode": "group",
        "height": 600,
        "legend": {
         "title": {
          "text": ""
         },
         "tracegroupgap": 0
        },
        "margin": {
         "t": 60
        },
        "template": {
         "data": {
          "bar": [
           {
            "error_x": {
             "color": "#2a3f5f"
            },
            "error_y": {
             "color": "#2a3f5f"
            },
            "marker": {
             "line": {
              "color": "#E5ECF6",
              "width": 0.5
             },
             "pattern": {
              "fillmode": "overlay",
              "size": 10,
              "solidity": 0.2
             }
            },
            "type": "bar"
           }
          ],
          "barpolar": [
           {
            "marker": {
             "line": {
              "color": "#E5ECF6",
              "width": 0.5
             },
             "pattern": {
              "fillmode": "overlay",
              "size": 10,
              "solidity": 0.2
             }
            },
            "type": "barpolar"
           }
          ],
          "carpet": [
           {
            "aaxis": {
             "endlinecolor": "#2a3f5f",
             "gridcolor": "white",
             "linecolor": "white",
             "minorgridcolor": "white",
             "startlinecolor": "#2a3f5f"
            },
            "baxis": {
             "endlinecolor": "#2a3f5f",
             "gridcolor": "white",
             "linecolor": "white",
             "minorgridcolor": "white",
             "startlinecolor": "#2a3f5f"
            },
            "type": "carpet"
           }
          ],
          "choropleth": [
           {
            "colorbar": {
             "outlinewidth": 0,
             "ticks": ""
            },
            "type": "choropleth"
           }
          ],
          "contour": [
           {
            "colorbar": {
             "outlinewidth": 0,
             "ticks": ""
            },
            "colorscale": [
             [
              0,
              "#0d0887"
             ],
             [
              0.1111111111111111,
              "#46039f"
             ],
             [
              0.2222222222222222,
              "#7201a8"
             ],
             [
              0.3333333333333333,
              "#9c179e"
             ],
             [
              0.4444444444444444,
              "#bd3786"
             ],
             [
              0.5555555555555556,
              "#d8576b"
             ],
             [
              0.6666666666666666,
              "#ed7953"
             ],
             [
              0.7777777777777778,
              "#fb9f3a"
             ],
             [
              0.8888888888888888,
              "#fdca26"
             ],
             [
              1,
              "#f0f921"
             ]
            ],
            "type": "contour"
           }
          ],
          "contourcarpet": [
           {
            "colorbar": {
             "outlinewidth": 0,
             "ticks": ""
            },
            "type": "contourcarpet"
           }
          ],
          "heatmap": [
           {
            "colorbar": {
             "outlinewidth": 0,
             "ticks": ""
            },
            "colorscale": [
             [
              0,
              "#0d0887"
             ],
             [
              0.1111111111111111,
              "#46039f"
             ],
             [
              0.2222222222222222,
              "#7201a8"
             ],
             [
              0.3333333333333333,
              "#9c179e"
             ],
             [
              0.4444444444444444,
              "#bd3786"
             ],
             [
              0.5555555555555556,
              "#d8576b"
             ],
             [
              0.6666666666666666,
              "#ed7953"
             ],
             [
              0.7777777777777778,
              "#fb9f3a"
             ],
             [
              0.8888888888888888,
              "#fdca26"
             ],
             [
              1,
              "#f0f921"
             ]
            ],
            "type": "heatmap"
           }
          ],
          "heatmapgl": [
           {
            "colorbar": {
             "outlinewidth": 0,
             "ticks": ""
            },
            "colorscale": [
             [
              0,
              "#0d0887"
             ],
             [
              0.1111111111111111,
              "#46039f"
             ],
             [
              0.2222222222222222,
              "#7201a8"
             ],
             [
              0.3333333333333333,
              "#9c179e"
             ],
             [
              0.4444444444444444,
              "#bd3786"
             ],
             [
              0.5555555555555556,
              "#d8576b"
             ],
             [
              0.6666666666666666,
              "#ed7953"
             ],
             [
              0.7777777777777778,
              "#fb9f3a"
             ],
             [
              0.8888888888888888,
              "#fdca26"
             ],
             [
              1,
              "#f0f921"
             ]
            ],
            "type": "heatmapgl"
           }
          ],
          "histogram": [
           {
            "marker": {
             "pattern": {
              "fillmode": "overlay",
              "size": 10,
              "solidity": 0.2
             }
            },
            "type": "histogram"
           }
          ],
          "histogram2d": [
           {
            "colorbar": {
             "outlinewidth": 0,
             "ticks": ""
            },
            "colorscale": [
             [
              0,
              "#0d0887"
             ],
             [
              0.1111111111111111,
              "#46039f"
             ],
             [
              0.2222222222222222,
              "#7201a8"
             ],
             [
              0.3333333333333333,
              "#9c179e"
             ],
             [
              0.4444444444444444,
              "#bd3786"
             ],
             [
              0.5555555555555556,
              "#d8576b"
             ],
             [
              0.6666666666666666,
              "#ed7953"
             ],
             [
              0.7777777777777778,
              "#fb9f3a"
             ],
             [
              0.8888888888888888,
              "#fdca26"
             ],
             [
              1,
              "#f0f921"
             ]
            ],
            "type": "histogram2d"
           }
          ],
          "histogram2dcontour": [
           {
            "colorbar": {
             "outlinewidth": 0,
             "ticks": ""
            },
            "colorscale": [
             [
              0,
              "#0d0887"
             ],
             [
              0.1111111111111111,
              "#46039f"
             ],
             [
              0.2222222222222222,
              "#7201a8"
             ],
             [
              0.3333333333333333,
              "#9c179e"
             ],
             [
              0.4444444444444444,
              "#bd3786"
             ],
             [
              0.5555555555555556,
              "#d8576b"
             ],
             [
              0.6666666666666666,
              "#ed7953"
             ],
             [
              0.7777777777777778,
              "#fb9f3a"
             ],
             [
              0.8888888888888888,
              "#fdca26"
             ],
             [
              1,
              "#f0f921"
             ]
            ],
            "type": "histogram2dcontour"
           }
          ],
          "mesh3d": [
           {
            "colorbar": {
             "outlinewidth": 0,
             "ticks": ""
            },
            "type": "mesh3d"
           }
          ],
          "parcoords": [
           {
            "line": {
             "colorbar": {
              "outlinewidth": 0,
              "ticks": ""
             }
            },
            "type": "parcoords"
           }
          ],
          "pie": [
           {
            "automargin": true,
            "type": "pie"
           }
          ],
          "scatter": [
           {
            "fillpattern": {
             "fillmode": "overlay",
             "size": 10,
             "solidity": 0.2
            },
            "type": "scatter"
           }
          ],
          "scatter3d": [
           {
            "line": {
             "colorbar": {
              "outlinewidth": 0,
              "ticks": ""
             }
            },
            "marker": {
             "colorbar": {
              "outlinewidth": 0,
              "ticks": ""
             }
            },
            "type": "scatter3d"
           }
          ],
          "scattercarpet": [
           {
            "marker": {
             "colorbar": {
              "outlinewidth": 0,
              "ticks": ""
             }
            },
            "type": "scattercarpet"
           }
          ],
          "scattergeo": [
           {
            "marker": {
             "colorbar": {
              "outlinewidth": 0,
              "ticks": ""
             }
            },
            "type": "scattergeo"
           }
          ],
          "scattergl": [
           {
            "marker": {
             "colorbar": {
              "outlinewidth": 0,
              "ticks": ""
             }
            },
            "type": "scattergl"
           }
          ],
          "scattermapbox": [
           {
            "marker": {
             "colorbar": {
              "outlinewidth": 0,
              "ticks": ""
             }
            },
            "type": "scattermapbox"
           }
          ],
          "scatterpolar": [
           {
            "marker": {
             "colorbar": {
              "outlinewidth": 0,
              "ticks": ""
             }
            },
            "type": "scatterpolar"
           }
          ],
          "scatterpolargl": [
           {
            "marker": {
             "colorbar": {
              "outlinewidth": 0,
              "ticks": ""
             }
            },
            "type": "scatterpolargl"
           }
          ],
          "scatterternary": [
           {
            "marker": {
             "colorbar": {
              "outlinewidth": 0,
              "ticks": ""
             }
            },
            "type": "scatterternary"
           }
          ],
          "surface": [
           {
            "colorbar": {
             "outlinewidth": 0,
             "ticks": ""
            },
            "colorscale": [
             [
              0,
              "#0d0887"
             ],
             [
              0.1111111111111111,
              "#46039f"
             ],
             [
              0.2222222222222222,
              "#7201a8"
             ],
             [
              0.3333333333333333,
              "#9c179e"
             ],
             [
              0.4444444444444444,
              "#bd3786"
             ],
             [
              0.5555555555555556,
              "#d8576b"
             ],
             [
              0.6666666666666666,
              "#ed7953"
             ],
             [
              0.7777777777777778,
              "#fb9f3a"
             ],
             [
              0.8888888888888888,
              "#fdca26"
             ],
             [
              1,
              "#f0f921"
             ]
            ],
            "type": "surface"
           }
          ],
          "table": [
           {
            "cells": {
             "fill": {
              "color": "#EBF0F8"
             },
             "line": {
              "color": "white"
             }
            },
            "header": {
             "fill": {
              "color": "#C8D4E3"
             },
             "line": {
              "color": "white"
             }
            },
            "type": "table"
           }
          ]
         },
         "layout": {
          "annotationdefaults": {
           "arrowcolor": "#2a3f5f",
           "arrowhead": 0,
           "arrowwidth": 1
          },
          "autotypenumbers": "strict",
          "coloraxis": {
           "colorbar": {
            "outlinewidth": 0,
            "ticks": ""
           }
          },
          "colorscale": {
           "diverging": [
            [
             0,
             "#8e0152"
            ],
            [
             0.1,
             "#c51b7d"
            ],
            [
             0.2,
             "#de77ae"
            ],
            [
             0.3,
             "#f1b6da"
            ],
            [
             0.4,
             "#fde0ef"
            ],
            [
             0.5,
             "#f7f7f7"
            ],
            [
             0.6,
             "#e6f5d0"
            ],
            [
             0.7,
             "#b8e186"
            ],
            [
             0.8,
             "#7fbc41"
            ],
            [
             0.9,
             "#4d9221"
            ],
            [
             1,
             "#276419"
            ]
           ],
           "sequential": [
            [
             0,
             "#0d0887"
            ],
            [
             0.1111111111111111,
             "#46039f"
            ],
            [
             0.2222222222222222,
             "#7201a8"
            ],
            [
             0.3333333333333333,
             "#9c179e"
            ],
            [
             0.4444444444444444,
             "#bd3786"
            ],
            [
             0.5555555555555556,
             "#d8576b"
            ],
            [
             0.6666666666666666,
             "#ed7953"
            ],
            [
             0.7777777777777778,
             "#fb9f3a"
            ],
            [
             0.8888888888888888,
             "#fdca26"
            ],
            [
             1,
             "#f0f921"
            ]
           ],
           "sequentialminus": [
            [
             0,
             "#0d0887"
            ],
            [
             0.1111111111111111,
             "#46039f"
            ],
            [
             0.2222222222222222,
             "#7201a8"
            ],
            [
             0.3333333333333333,
             "#9c179e"
            ],
            [
             0.4444444444444444,
             "#bd3786"
            ],
            [
             0.5555555555555556,
             "#d8576b"
            ],
            [
             0.6666666666666666,
             "#ed7953"
            ],
            [
             0.7777777777777778,
             "#fb9f3a"
            ],
            [
             0.8888888888888888,
             "#fdca26"
            ],
            [
             1,
             "#f0f921"
            ]
           ]
          },
          "colorway": [
           "#636efa",
           "#EF553B",
           "#00cc96",
           "#ab63fa",
           "#FFA15A",
           "#19d3f3",
           "#FF6692",
           "#B6E880",
           "#FF97FF",
           "#FECB52"
          ],
          "font": {
           "color": "#2a3f5f"
          },
          "geo": {
           "bgcolor": "white",
           "lakecolor": "white",
           "landcolor": "#E5ECF6",
           "showlakes": true,
           "showland": true,
           "subunitcolor": "white"
          },
          "hoverlabel": {
           "align": "left"
          },
          "hovermode": "closest",
          "mapbox": {
           "style": "light"
          },
          "paper_bgcolor": "white",
          "plot_bgcolor": "#E5ECF6",
          "polar": {
           "angularaxis": {
            "gridcolor": "white",
            "linecolor": "white",
            "ticks": ""
           },
           "bgcolor": "#E5ECF6",
           "radialaxis": {
            "gridcolor": "white",
            "linecolor": "white",
            "ticks": ""
           }
          },
          "scene": {
           "xaxis": {
            "backgroundcolor": "#E5ECF6",
            "gridcolor": "white",
            "gridwidth": 2,
            "linecolor": "white",
            "showbackground": true,
            "ticks": "",
            "zerolinecolor": "white"
           },
           "yaxis": {
            "backgroundcolor": "#E5ECF6",
            "gridcolor": "white",
            "gridwidth": 2,
            "linecolor": "white",
            "showbackground": true,
            "ticks": "",
            "zerolinecolor": "white"
           },
           "zaxis": {
            "backgroundcolor": "#E5ECF6",
            "gridcolor": "white",
            "gridwidth": 2,
            "linecolor": "white",
            "showbackground": true,
            "ticks": "",
            "zerolinecolor": "white"
           }
          },
          "shapedefaults": {
           "line": {
            "color": "#2a3f5f"
           }
          },
          "ternary": {
           "aaxis": {
            "gridcolor": "white",
            "linecolor": "white",
            "ticks": ""
           },
           "baxis": {
            "gridcolor": "white",
            "linecolor": "white",
            "ticks": ""
           },
           "bgcolor": "#E5ECF6",
           "caxis": {
            "gridcolor": "white",
            "linecolor": "white",
            "ticks": ""
           }
          },
          "title": {
           "x": 0.05
          },
          "xaxis": {
           "automargin": true,
           "gridcolor": "white",
           "linecolor": "white",
           "ticks": "",
           "title": {
            "standoff": 15
           },
           "zerolinecolor": "white",
           "zerolinewidth": 2
          },
          "yaxis": {
           "automargin": true,
           "gridcolor": "white",
           "linecolor": "white",
           "ticks": "",
           "title": {
            "standoff": 15
           },
           "zerolinecolor": "white",
           "zerolinewidth": 2
          }
         }
        },
        "title": {
         "text": "Themenrelevanz nach Wohnsitz (2019-2022)"
        },
        "width": 900,
        "xaxis": {
         "anchor": "y",
         "automargin": true,
         "domain": [
          0,
          1
         ],
         "showgrid": false,
         "tickangle": 45,
         "tickfont": {
          "size": 12
         },
         "tickmode": "array",
         "ticktext": [
          "Ausstattung Qualität Rollmaterial",
          "Corona",
          "Fahrplanangebot",
          "Feedback Umfrage",
          "Internet, Wlan und Mobilfunk",
          "Kommerzielle Angebote",
          "Kundeninformation",
          "Lob",
          "Platzangebot Velo, Gepäck, Kinderwagen",
          "Platzangebot Zug",
          "Preis-Leistung",
          "Pünktlichkeit",
          "Raumtemperatur Zug",
          "Sauberkeit Zug und Bahnhof",
          "Security",
          "Sonstiges",
          "Vertrieb und Services",
          "WC Verfügbarkeit und Sauberkeit",
          "Ausstattung Qualität Rollmaterial",
          "Corona",
          "Fahrplanangebot",
          "Feedback Umfrage",
          "Internet, Wlan und Mobilfunk",
          "Kommerzielle Angebote",
          "Kundeninformation",
          "Lob",
          "Platzangebot Velo, Gepäck, Kinderwagen",
          "Platzangebot Zug",
          "Preis-Leistung",
          "Pünktlichkeit",
          "Raumtemperatur Zug",
          "Sauberkeit Zug und Bahnhof",
          "Security",
          "Sonstiges",
          "Vertrieb und Services",
          "WC Verfügbarkeit und Sauberkeit"
         ],
         "tickvals": [
          0,
          1,
          2,
          3,
          4,
          5,
          6,
          7,
          8,
          9,
          10,
          11,
          12,
          13,
          14,
          15,
          16,
          17,
          18,
          19,
          20,
          21,
          22,
          23,
          24,
          25,
          26,
          27,
          28,
          29,
          30,
          31,
          32,
          33,
          34,
          35
         ],
         "tickwidth": 1,
         "title": {
          "text": ""
         }
        },
        "yaxis": {
         "anchor": "x",
         "domain": [
          0,
          1
         ],
         "gridcolor": "rgba(0,0,0,0.1)",
         "gridwidth": 1,
         "range": [
          0,
          0.29
         ],
         "showgrid": true,
         "title": {
          "font": {
           "size": 12
          },
          "text": "Relative Häufigkeit"
         }
        }
       }
      }
     },
     "metadata": {},
     "output_type": "display_data"
    }
   ],
   "source": [
    "barchart_wohnsitz = create_grouped_barchart(df_wohnsitz,\n",
    "                                            x_col=\"CustomName\",\n",
    "                                            y_col=\"relative_count\",\n",
    "                                            color_col=\"S_wohnsitz\",\n",
    "                                            color_discrete_sequence=color_discrete_sequence,\n",
    "                                            title=\"Themenrelevanz nach Wohnsitz (2019-2022)\",\n",
    "                                            xaxis_title='',\n",
    "                                            yaxis_title='Relative Häufigkeit',\n",
    "                                            legend_title='',\n",
    "                                            template=template,\n",
    "                                            path=path,\n",
    "                                            filename=\"Themenrelevanz_Wohnsitz\")\n"
   ]
  },
  {
   "cell_type": "code",
   "execution_count": 131,
   "metadata": {},
   "outputs": [],
   "source": [
    "# create_grouped_radar(df_wohnsitz, x_col=\"CustomName\", y_col=\"relative_count\", color_col=\"S_wohnsitz\", color_discrete_sequence=color_discrete_sequence, title=\"Themenrelevanz nach Reisedauer (2019-2022)\", xaxis_title='', yaxis_title='Häufigkeit', legend_title='Gruppe', template=template)"
   ]
  },
  {
   "cell_type": "code",
   "execution_count": 41,
   "metadata": {},
   "outputs": [
    {
     "data": {
      "application/vnd.plotly.v1+json": {
       "config": {
        "plotlyServerURL": "https://plot.ly"
       },
       "data": [
        {
         "alignmentgroup": "True",
         "customdata": [
          [
           "BLS"
          ],
          [
           "BLS"
          ],
          [
           "BLS"
          ],
          [
           "BLS"
          ],
          [
           "BLS"
          ],
          [
           "BLS"
          ],
          [
           "BLS"
          ],
          [
           "BLS"
          ],
          [
           "BLS"
          ],
          [
           "BLS"
          ],
          [
           "BLS"
          ],
          [
           "BLS"
          ],
          [
           "BLS"
          ],
          [
           "BLS"
          ],
          [
           "BLS"
          ],
          [
           "BLS"
          ],
          [
           "BLS"
          ],
          [
           "BLS"
          ]
         ],
         "hovertemplate": "ft_tu=%{customdata[0]}<br>CustomName=%{x}<br>relative_count=%{y}<extra></extra>",
         "legendgroup": "BLS",
         "marker": {
          "color": "#49787F",
          "pattern": {
           "shape": ""
          }
         },
         "name": "BLS",
         "offsetgroup": "BLS",
         "orientation": "v",
         "showlegend": true,
         "textposition": "auto",
         "type": "bar",
         "x": [
          "Ausstattung Qualität Rollmaterial",
          "Corona",
          "Fahrplanangebot",
          "Feedback Umfrage",
          "Internet, Wlan und Mobilfunk",
          "Kommerzielle Angebote",
          "Kundeninformation",
          "Lob",
          "Platzangebot Velo, Gepäck, Kinderwagen",
          "Platzangebot Zug",
          "Preis-Leistung",
          "Pünktlichkeit",
          "Raumtemperatur Zug",
          "Sauberkeit Zug und Bahnhof",
          "Security",
          "Sonstiges",
          "Vertrieb und Services",
          "WC Verfügbarkeit und Sauberkeit"
         ],
         "xaxis": "x",
         "y": [
          0.024287222808870117,
          0.049102428722280884,
          0.057022175290390706,
          0.01795142555438226,
          0.013727560718057022,
          0.014255543822597676,
          0.02692713833157339,
          0.04804646251319958,
          0.04065469904963041,
          0.10242872228088701,
          0.0955649419218585,
          0.19640971488912354,
          0.034318901795142555,
          0.04276663146779303,
          0.04963041182682154,
          0.06441393875395987,
          0.07391763463569166,
          0.042238648363252376
         ],
         "yaxis": "y"
        },
        {
         "alignmentgroup": "True",
         "customdata": [
          [
           "SBB"
          ],
          [
           "SBB"
          ],
          [
           "SBB"
          ],
          [
           "SBB"
          ],
          [
           "SBB"
          ],
          [
           "SBB"
          ],
          [
           "SBB"
          ],
          [
           "SBB"
          ],
          [
           "SBB"
          ],
          [
           "SBB"
          ],
          [
           "SBB"
          ],
          [
           "SBB"
          ],
          [
           "SBB"
          ],
          [
           "SBB"
          ],
          [
           "SBB"
          ],
          [
           "SBB"
          ],
          [
           "SBB"
          ],
          [
           "SBB"
          ]
         ],
         "hovertemplate": "ft_tu=%{customdata[0]}<br>CustomName=%{x}<br>relative_count=%{y}<extra></extra>",
         "legendgroup": "SBB",
         "marker": {
          "color": "#A96262",
          "pattern": {
           "shape": ""
          }
         },
         "name": "SBB",
         "offsetgroup": "SBB",
         "orientation": "v",
         "showlegend": true,
         "textposition": "auto",
         "type": "bar",
         "x": [
          "Ausstattung Qualität Rollmaterial",
          "Corona",
          "Fahrplanangebot",
          "Feedback Umfrage",
          "Internet, Wlan und Mobilfunk",
          "Kommerzielle Angebote",
          "Kundeninformation",
          "Lob",
          "Platzangebot Velo, Gepäck, Kinderwagen",
          "Platzangebot Zug",
          "Preis-Leistung",
          "Pünktlichkeit",
          "Raumtemperatur Zug",
          "Sauberkeit Zug und Bahnhof",
          "Security",
          "Sonstiges",
          "Vertrieb und Services",
          "WC Verfügbarkeit und Sauberkeit"
         ],
         "xaxis": "x",
         "y": [
          0.029844055205097825,
          0.03640846648948093,
          0.050561977648980114,
          0.019373018668545263,
          0.024208267956066478,
          0.03343046527266323,
          0.02676998943289891,
          0.05408434467962471,
          0.05363604342117903,
          0.12203400685260495,
          0.0895962086522143,
          0.18690960325338626,
          0.03467930449261904,
          0.0320535399788658,
          0.03448717538185661,
          0.04652726632296904,
          0.07140798616670402,
          0.047071632136795924
         ],
         "yaxis": "y"
        },
        {
         "alignmentgroup": "True",
         "customdata": [
          [
           "SOB"
          ],
          [
           "SOB"
          ],
          [
           "SOB"
          ],
          [
           "SOB"
          ],
          [
           "SOB"
          ],
          [
           "SOB"
          ],
          [
           "SOB"
          ],
          [
           "SOB"
          ],
          [
           "SOB"
          ],
          [
           "SOB"
          ],
          [
           "SOB"
          ],
          [
           "SOB"
          ],
          [
           "SOB"
          ],
          [
           "SOB"
          ],
          [
           "SOB"
          ],
          [
           "SOB"
          ],
          [
           "SOB"
          ],
          [
           "SOB"
          ]
         ],
         "hovertemplate": "ft_tu=%{customdata[0]}<br>CustomName=%{x}<br>relative_count=%{y}<extra></extra>",
         "legendgroup": "SOB",
         "marker": {
          "color": "#F06969",
          "pattern": {
           "shape": ""
          }
         },
         "name": "SOB",
         "offsetgroup": "SOB",
         "orientation": "v",
         "showlegend": true,
         "textposition": "auto",
         "type": "bar",
         "x": [
          "Ausstattung Qualität Rollmaterial",
          "Corona",
          "Fahrplanangebot",
          "Feedback Umfrage",
          "Internet, Wlan und Mobilfunk",
          "Kommerzielle Angebote",
          "Kundeninformation",
          "Lob",
          "Platzangebot Velo, Gepäck, Kinderwagen",
          "Platzangebot Zug",
          "Preis-Leistung",
          "Pünktlichkeit",
          "Raumtemperatur Zug",
          "Sauberkeit Zug und Bahnhof",
          "Security",
          "Sonstiges",
          "Vertrieb und Services",
          "WC Verfügbarkeit und Sauberkeit"
         ],
         "xaxis": "x",
         "y": [
          0.02079002079002079,
          0.04227304227304227,
          0.079002079002079,
          0.012474012474012475,
          0.0297990297990298,
          0.033264033264033266,
          0.02079002079002079,
          0.06375606375606375,
          0.05751905751905752,
          0.11573111573111573,
          0.0693000693000693,
          0.18018018018018017,
          0.028413028413028413,
          0.02772002772002772,
          0.035343035343035345,
          0.05197505197505198,
          0.07830907830907831,
          0.04781704781704782
         ],
         "yaxis": "y"
        }
       ],
       "layout": {
        "barmode": "group",
        "height": 600,
        "legend": {
         "title": {
          "text": ""
         },
         "tracegroupgap": 0
        },
        "margin": {
         "t": 60
        },
        "template": {
         "data": {
          "bar": [
           {
            "error_x": {
             "color": "#2a3f5f"
            },
            "error_y": {
             "color": "#2a3f5f"
            },
            "marker": {
             "line": {
              "color": "#E5ECF6",
              "width": 0.5
             },
             "pattern": {
              "fillmode": "overlay",
              "size": 10,
              "solidity": 0.2
             }
            },
            "type": "bar"
           }
          ],
          "barpolar": [
           {
            "marker": {
             "line": {
              "color": "#E5ECF6",
              "width": 0.5
             },
             "pattern": {
              "fillmode": "overlay",
              "size": 10,
              "solidity": 0.2
             }
            },
            "type": "barpolar"
           }
          ],
          "carpet": [
           {
            "aaxis": {
             "endlinecolor": "#2a3f5f",
             "gridcolor": "white",
             "linecolor": "white",
             "minorgridcolor": "white",
             "startlinecolor": "#2a3f5f"
            },
            "baxis": {
             "endlinecolor": "#2a3f5f",
             "gridcolor": "white",
             "linecolor": "white",
             "minorgridcolor": "white",
             "startlinecolor": "#2a3f5f"
            },
            "type": "carpet"
           }
          ],
          "choropleth": [
           {
            "colorbar": {
             "outlinewidth": 0,
             "ticks": ""
            },
            "type": "choropleth"
           }
          ],
          "contour": [
           {
            "colorbar": {
             "outlinewidth": 0,
             "ticks": ""
            },
            "colorscale": [
             [
              0,
              "#0d0887"
             ],
             [
              0.1111111111111111,
              "#46039f"
             ],
             [
              0.2222222222222222,
              "#7201a8"
             ],
             [
              0.3333333333333333,
              "#9c179e"
             ],
             [
              0.4444444444444444,
              "#bd3786"
             ],
             [
              0.5555555555555556,
              "#d8576b"
             ],
             [
              0.6666666666666666,
              "#ed7953"
             ],
             [
              0.7777777777777778,
              "#fb9f3a"
             ],
             [
              0.8888888888888888,
              "#fdca26"
             ],
             [
              1,
              "#f0f921"
             ]
            ],
            "type": "contour"
           }
          ],
          "contourcarpet": [
           {
            "colorbar": {
             "outlinewidth": 0,
             "ticks": ""
            },
            "type": "contourcarpet"
           }
          ],
          "heatmap": [
           {
            "colorbar": {
             "outlinewidth": 0,
             "ticks": ""
            },
            "colorscale": [
             [
              0,
              "#0d0887"
             ],
             [
              0.1111111111111111,
              "#46039f"
             ],
             [
              0.2222222222222222,
              "#7201a8"
             ],
             [
              0.3333333333333333,
              "#9c179e"
             ],
             [
              0.4444444444444444,
              "#bd3786"
             ],
             [
              0.5555555555555556,
              "#d8576b"
             ],
             [
              0.6666666666666666,
              "#ed7953"
             ],
             [
              0.7777777777777778,
              "#fb9f3a"
             ],
             [
              0.8888888888888888,
              "#fdca26"
             ],
             [
              1,
              "#f0f921"
             ]
            ],
            "type": "heatmap"
           }
          ],
          "heatmapgl": [
           {
            "colorbar": {
             "outlinewidth": 0,
             "ticks": ""
            },
            "colorscale": [
             [
              0,
              "#0d0887"
             ],
             [
              0.1111111111111111,
              "#46039f"
             ],
             [
              0.2222222222222222,
              "#7201a8"
             ],
             [
              0.3333333333333333,
              "#9c179e"
             ],
             [
              0.4444444444444444,
              "#bd3786"
             ],
             [
              0.5555555555555556,
              "#d8576b"
             ],
             [
              0.6666666666666666,
              "#ed7953"
             ],
             [
              0.7777777777777778,
              "#fb9f3a"
             ],
             [
              0.8888888888888888,
              "#fdca26"
             ],
             [
              1,
              "#f0f921"
             ]
            ],
            "type": "heatmapgl"
           }
          ],
          "histogram": [
           {
            "marker": {
             "pattern": {
              "fillmode": "overlay",
              "size": 10,
              "solidity": 0.2
             }
            },
            "type": "histogram"
           }
          ],
          "histogram2d": [
           {
            "colorbar": {
             "outlinewidth": 0,
             "ticks": ""
            },
            "colorscale": [
             [
              0,
              "#0d0887"
             ],
             [
              0.1111111111111111,
              "#46039f"
             ],
             [
              0.2222222222222222,
              "#7201a8"
             ],
             [
              0.3333333333333333,
              "#9c179e"
             ],
             [
              0.4444444444444444,
              "#bd3786"
             ],
             [
              0.5555555555555556,
              "#d8576b"
             ],
             [
              0.6666666666666666,
              "#ed7953"
             ],
             [
              0.7777777777777778,
              "#fb9f3a"
             ],
             [
              0.8888888888888888,
              "#fdca26"
             ],
             [
              1,
              "#f0f921"
             ]
            ],
            "type": "histogram2d"
           }
          ],
          "histogram2dcontour": [
           {
            "colorbar": {
             "outlinewidth": 0,
             "ticks": ""
            },
            "colorscale": [
             [
              0,
              "#0d0887"
             ],
             [
              0.1111111111111111,
              "#46039f"
             ],
             [
              0.2222222222222222,
              "#7201a8"
             ],
             [
              0.3333333333333333,
              "#9c179e"
             ],
             [
              0.4444444444444444,
              "#bd3786"
             ],
             [
              0.5555555555555556,
              "#d8576b"
             ],
             [
              0.6666666666666666,
              "#ed7953"
             ],
             [
              0.7777777777777778,
              "#fb9f3a"
             ],
             [
              0.8888888888888888,
              "#fdca26"
             ],
             [
              1,
              "#f0f921"
             ]
            ],
            "type": "histogram2dcontour"
           }
          ],
          "mesh3d": [
           {
            "colorbar": {
             "outlinewidth": 0,
             "ticks": ""
            },
            "type": "mesh3d"
           }
          ],
          "parcoords": [
           {
            "line": {
             "colorbar": {
              "outlinewidth": 0,
              "ticks": ""
             }
            },
            "type": "parcoords"
           }
          ],
          "pie": [
           {
            "automargin": true,
            "type": "pie"
           }
          ],
          "scatter": [
           {
            "fillpattern": {
             "fillmode": "overlay",
             "size": 10,
             "solidity": 0.2
            },
            "type": "scatter"
           }
          ],
          "scatter3d": [
           {
            "line": {
             "colorbar": {
              "outlinewidth": 0,
              "ticks": ""
             }
            },
            "marker": {
             "colorbar": {
              "outlinewidth": 0,
              "ticks": ""
             }
            },
            "type": "scatter3d"
           }
          ],
          "scattercarpet": [
           {
            "marker": {
             "colorbar": {
              "outlinewidth": 0,
              "ticks": ""
             }
            },
            "type": "scattercarpet"
           }
          ],
          "scattergeo": [
           {
            "marker": {
             "colorbar": {
              "outlinewidth": 0,
              "ticks": ""
             }
            },
            "type": "scattergeo"
           }
          ],
          "scattergl": [
           {
            "marker": {
             "colorbar": {
              "outlinewidth": 0,
              "ticks": ""
             }
            },
            "type": "scattergl"
           }
          ],
          "scattermapbox": [
           {
            "marker": {
             "colorbar": {
              "outlinewidth": 0,
              "ticks": ""
             }
            },
            "type": "scattermapbox"
           }
          ],
          "scatterpolar": [
           {
            "marker": {
             "colorbar": {
              "outlinewidth": 0,
              "ticks": ""
             }
            },
            "type": "scatterpolar"
           }
          ],
          "scatterpolargl": [
           {
            "marker": {
             "colorbar": {
              "outlinewidth": 0,
              "ticks": ""
             }
            },
            "type": "scatterpolargl"
           }
          ],
          "scatterternary": [
           {
            "marker": {
             "colorbar": {
              "outlinewidth": 0,
              "ticks": ""
             }
            },
            "type": "scatterternary"
           }
          ],
          "surface": [
           {
            "colorbar": {
             "outlinewidth": 0,
             "ticks": ""
            },
            "colorscale": [
             [
              0,
              "#0d0887"
             ],
             [
              0.1111111111111111,
              "#46039f"
             ],
             [
              0.2222222222222222,
              "#7201a8"
             ],
             [
              0.3333333333333333,
              "#9c179e"
             ],
             [
              0.4444444444444444,
              "#bd3786"
             ],
             [
              0.5555555555555556,
              "#d8576b"
             ],
             [
              0.6666666666666666,
              "#ed7953"
             ],
             [
              0.7777777777777778,
              "#fb9f3a"
             ],
             [
              0.8888888888888888,
              "#fdca26"
             ],
             [
              1,
              "#f0f921"
             ]
            ],
            "type": "surface"
           }
          ],
          "table": [
           {
            "cells": {
             "fill": {
              "color": "#EBF0F8"
             },
             "line": {
              "color": "white"
             }
            },
            "header": {
             "fill": {
              "color": "#C8D4E3"
             },
             "line": {
              "color": "white"
             }
            },
            "type": "table"
           }
          ]
         },
         "layout": {
          "annotationdefaults": {
           "arrowcolor": "#2a3f5f",
           "arrowhead": 0,
           "arrowwidth": 1
          },
          "autotypenumbers": "strict",
          "coloraxis": {
           "colorbar": {
            "outlinewidth": 0,
            "ticks": ""
           }
          },
          "colorscale": {
           "diverging": [
            [
             0,
             "#8e0152"
            ],
            [
             0.1,
             "#c51b7d"
            ],
            [
             0.2,
             "#de77ae"
            ],
            [
             0.3,
             "#f1b6da"
            ],
            [
             0.4,
             "#fde0ef"
            ],
            [
             0.5,
             "#f7f7f7"
            ],
            [
             0.6,
             "#e6f5d0"
            ],
            [
             0.7,
             "#b8e186"
            ],
            [
             0.8,
             "#7fbc41"
            ],
            [
             0.9,
             "#4d9221"
            ],
            [
             1,
             "#276419"
            ]
           ],
           "sequential": [
            [
             0,
             "#0d0887"
            ],
            [
             0.1111111111111111,
             "#46039f"
            ],
            [
             0.2222222222222222,
             "#7201a8"
            ],
            [
             0.3333333333333333,
             "#9c179e"
            ],
            [
             0.4444444444444444,
             "#bd3786"
            ],
            [
             0.5555555555555556,
             "#d8576b"
            ],
            [
             0.6666666666666666,
             "#ed7953"
            ],
            [
             0.7777777777777778,
             "#fb9f3a"
            ],
            [
             0.8888888888888888,
             "#fdca26"
            ],
            [
             1,
             "#f0f921"
            ]
           ],
           "sequentialminus": [
            [
             0,
             "#0d0887"
            ],
            [
             0.1111111111111111,
             "#46039f"
            ],
            [
             0.2222222222222222,
             "#7201a8"
            ],
            [
             0.3333333333333333,
             "#9c179e"
            ],
            [
             0.4444444444444444,
             "#bd3786"
            ],
            [
             0.5555555555555556,
             "#d8576b"
            ],
            [
             0.6666666666666666,
             "#ed7953"
            ],
            [
             0.7777777777777778,
             "#fb9f3a"
            ],
            [
             0.8888888888888888,
             "#fdca26"
            ],
            [
             1,
             "#f0f921"
            ]
           ]
          },
          "colorway": [
           "#636efa",
           "#EF553B",
           "#00cc96",
           "#ab63fa",
           "#FFA15A",
           "#19d3f3",
           "#FF6692",
           "#B6E880",
           "#FF97FF",
           "#FECB52"
          ],
          "font": {
           "color": "#2a3f5f"
          },
          "geo": {
           "bgcolor": "white",
           "lakecolor": "white",
           "landcolor": "#E5ECF6",
           "showlakes": true,
           "showland": true,
           "subunitcolor": "white"
          },
          "hoverlabel": {
           "align": "left"
          },
          "hovermode": "closest",
          "mapbox": {
           "style": "light"
          },
          "paper_bgcolor": "white",
          "plot_bgcolor": "#E5ECF6",
          "polar": {
           "angularaxis": {
            "gridcolor": "white",
            "linecolor": "white",
            "ticks": ""
           },
           "bgcolor": "#E5ECF6",
           "radialaxis": {
            "gridcolor": "white",
            "linecolor": "white",
            "ticks": ""
           }
          },
          "scene": {
           "xaxis": {
            "backgroundcolor": "#E5ECF6",
            "gridcolor": "white",
            "gridwidth": 2,
            "linecolor": "white",
            "showbackground": true,
            "ticks": "",
            "zerolinecolor": "white"
           },
           "yaxis": {
            "backgroundcolor": "#E5ECF6",
            "gridcolor": "white",
            "gridwidth": 2,
            "linecolor": "white",
            "showbackground": true,
            "ticks": "",
            "zerolinecolor": "white"
           },
           "zaxis": {
            "backgroundcolor": "#E5ECF6",
            "gridcolor": "white",
            "gridwidth": 2,
            "linecolor": "white",
            "showbackground": true,
            "ticks": "",
            "zerolinecolor": "white"
           }
          },
          "shapedefaults": {
           "line": {
            "color": "#2a3f5f"
           }
          },
          "ternary": {
           "aaxis": {
            "gridcolor": "white",
            "linecolor": "white",
            "ticks": ""
           },
           "baxis": {
            "gridcolor": "white",
            "linecolor": "white",
            "ticks": ""
           },
           "bgcolor": "#E5ECF6",
           "caxis": {
            "gridcolor": "white",
            "linecolor": "white",
            "ticks": ""
           }
          },
          "title": {
           "x": 0.05
          },
          "xaxis": {
           "automargin": true,
           "gridcolor": "white",
           "linecolor": "white",
           "ticks": "",
           "title": {
            "standoff": 15
           },
           "zerolinecolor": "white",
           "zerolinewidth": 2
          },
          "yaxis": {
           "automargin": true,
           "gridcolor": "white",
           "linecolor": "white",
           "ticks": "",
           "title": {
            "standoff": 15
           },
           "zerolinecolor": "white",
           "zerolinewidth": 2
          }
         }
        },
        "title": {
         "text": "Themenrelevanz nach Transportunternehmen (2019-2022)"
        },
        "width": 900,
        "xaxis": {
         "anchor": "y",
         "automargin": true,
         "domain": [
          0,
          1
         ],
         "showgrid": false,
         "tickangle": 45,
         "tickfont": {
          "size": 12
         },
         "tickmode": "array",
         "ticktext": [
          "Ausstattung Qualität Rollmaterial",
          "Corona",
          "Fahrplanangebot",
          "Feedback Umfrage",
          "Internet, Wlan und Mobilfunk",
          "Kommerzielle Angebote",
          "Kundeninformation",
          "Lob",
          "Platzangebot Velo, Gepäck, Kinderwagen",
          "Platzangebot Zug",
          "Preis-Leistung",
          "Pünktlichkeit",
          "Raumtemperatur Zug",
          "Sauberkeit Zug und Bahnhof",
          "Security",
          "Sonstiges",
          "Vertrieb und Services",
          "WC Verfügbarkeit und Sauberkeit",
          "Ausstattung Qualität Rollmaterial",
          "Corona",
          "Fahrplanangebot",
          "Feedback Umfrage",
          "Internet, Wlan und Mobilfunk",
          "Kommerzielle Angebote",
          "Kundeninformation",
          "Lob",
          "Platzangebot Velo, Gepäck, Kinderwagen",
          "Platzangebot Zug",
          "Preis-Leistung",
          "Pünktlichkeit",
          "Raumtemperatur Zug",
          "Sauberkeit Zug und Bahnhof",
          "Security",
          "Sonstiges",
          "Vertrieb und Services",
          "WC Verfügbarkeit und Sauberkeit",
          "Ausstattung Qualität Rollmaterial",
          "Corona",
          "Fahrplanangebot",
          "Feedback Umfrage",
          "Internet, Wlan und Mobilfunk",
          "Kommerzielle Angebote",
          "Kundeninformation",
          "Lob",
          "Platzangebot Velo, Gepäck, Kinderwagen",
          "Platzangebot Zug",
          "Preis-Leistung",
          "Pünktlichkeit",
          "Raumtemperatur Zug",
          "Sauberkeit Zug und Bahnhof",
          "Security",
          "Sonstiges",
          "Vertrieb und Services",
          "WC Verfügbarkeit und Sauberkeit"
         ],
         "tickvals": [
          0,
          1,
          2,
          3,
          4,
          5,
          6,
          7,
          8,
          9,
          10,
          11,
          12,
          13,
          14,
          15,
          16,
          17,
          18,
          19,
          20,
          21,
          22,
          23,
          24,
          25,
          26,
          27,
          28,
          29,
          30,
          31,
          32,
          33,
          34,
          35,
          36,
          37,
          38,
          39,
          40,
          41,
          42,
          43,
          44,
          45,
          46,
          47,
          48,
          49,
          50,
          51,
          52,
          53
         ],
         "tickwidth": 1,
         "title": {
          "text": ""
         }
        },
        "yaxis": {
         "anchor": "x",
         "domain": [
          0,
          1
         ],
         "gridcolor": "rgba(0,0,0,0.1)",
         "gridwidth": 1,
         "range": [
          0,
          0.29
         ],
         "showgrid": true,
         "title": {
          "font": {
           "size": 12
          },
          "text": "Relative Häufigkeit"
         }
        }
       }
      }
     },
     "metadata": {},
     "output_type": "display_data"
    }
   ],
   "source": [
    "barchart_ft_tu = create_grouped_barchart(df_ft_tu,\n",
    "                                         x_col=\"CustomName\",\n",
    "                                         y_col=\"relative_count\",\n",
    "                                         color_col=\"ft_tu\",\n",
    "                                         color_discrete_sequence=color_discrete_sequence,\n",
    "                                         title=\"Themenrelevanz nach Transportunternehmen (2019-2022)\",\n",
    "                                         xaxis_title='',\n",
    "                                         yaxis_title='Relative Häufigkeit',\n",
    "                                         legend_title='',\n",
    "                                         template=template,\n",
    "                                         path=path,\n",
    "                                        filename=\"Themenrelevanz_Tu\")"
   ]
  },
  {
   "cell_type": "code",
   "execution_count": 42,
   "metadata": {},
   "outputs": [
    {
     "data": {
      "application/vnd.plotly.v1+json": {
       "config": {
        "plotlyServerURL": "https://plot.ly"
       },
       "data": [
        {
         "alignmentgroup": "True",
         "customdata": [
          [
           "EC"
          ],
          [
           "EC"
          ],
          [
           "EC"
          ],
          [
           "EC"
          ],
          [
           "EC"
          ],
          [
           "EC"
          ],
          [
           "EC"
          ],
          [
           "EC"
          ],
          [
           "EC"
          ],
          [
           "EC"
          ],
          [
           "EC"
          ],
          [
           "EC"
          ],
          [
           "EC"
          ],
          [
           "EC"
          ],
          [
           "EC"
          ],
          [
           "EC"
          ],
          [
           "EC"
          ],
          [
           "EC"
          ]
         ],
         "hovertemplate": "ft_vm_kurz=%{customdata[0]}<br>CustomName=%{x}<br>relative_count=%{y}<extra></extra>",
         "legendgroup": "EC",
         "marker": {
          "color": "#49787F",
          "pattern": {
           "shape": ""
          }
         },
         "name": "EC",
         "offsetgroup": "EC",
         "orientation": "v",
         "showlegend": true,
         "textposition": "auto",
         "type": "bar",
         "x": [
          "Ausstattung Qualität Rollmaterial",
          "Corona",
          "Fahrplanangebot",
          "Feedback Umfrage",
          "Internet, Wlan und Mobilfunk",
          "Kommerzielle Angebote",
          "Kundeninformation",
          "Lob",
          "Platzangebot Velo, Gepäck, Kinderwagen",
          "Platzangebot Zug",
          "Preis-Leistung",
          "Pünktlichkeit",
          "Raumtemperatur Zug",
          "Sauberkeit Zug und Bahnhof",
          "Security",
          "Sonstiges",
          "Vertrieb und Services",
          "WC Verfügbarkeit und Sauberkeit"
         ],
         "xaxis": "x",
         "y": [
          0.023430962343096235,
          0.021757322175732216,
          0.05606694560669456,
          0.022594142259414227,
          0.031799163179916316,
          0.04602510460251046,
          0.03598326359832636,
          0.05606694560669456,
          0.05439330543933055,
          0.13305439330543933,
          0.07364016736401674,
          0.22594142259414227,
          0.03933054393305439,
          0.014225941422594143,
          0.0200836820083682,
          0.03347280334728033,
          0.06192468619246862,
          0.04435146443514645
         ],
         "yaxis": "y"
        },
        {
         "alignmentgroup": "True",
         "customdata": [
          [
           "IC"
          ],
          [
           "IC"
          ],
          [
           "IC"
          ],
          [
           "IC"
          ],
          [
           "IC"
          ],
          [
           "IC"
          ],
          [
           "IC"
          ],
          [
           "IC"
          ],
          [
           "IC"
          ],
          [
           "IC"
          ],
          [
           "IC"
          ],
          [
           "IC"
          ],
          [
           "IC"
          ],
          [
           "IC"
          ],
          [
           "IC"
          ],
          [
           "IC"
          ],
          [
           "IC"
          ],
          [
           "IC"
          ]
         ],
         "hovertemplate": "ft_vm_kurz=%{customdata[0]}<br>CustomName=%{x}<br>relative_count=%{y}<extra></extra>",
         "legendgroup": "IC",
         "marker": {
          "color": "#A96262",
          "pattern": {
           "shape": ""
          }
         },
         "name": "IC",
         "offsetgroup": "IC",
         "orientation": "v",
         "showlegend": true,
         "textposition": "auto",
         "type": "bar",
         "x": [
          "Ausstattung Qualität Rollmaterial",
          "Corona",
          "Fahrplanangebot",
          "Feedback Umfrage",
          "Internet, Wlan und Mobilfunk",
          "Kommerzielle Angebote",
          "Kundeninformation",
          "Lob",
          "Platzangebot Velo, Gepäck, Kinderwagen",
          "Platzangebot Zug",
          "Preis-Leistung",
          "Pünktlichkeit",
          "Raumtemperatur Zug",
          "Sauberkeit Zug und Bahnhof",
          "Security",
          "Sonstiges",
          "Vertrieb und Services",
          "WC Verfügbarkeit und Sauberkeit"
         ],
         "xaxis": "x",
         "y": [
          0.03467210542830248,
          0.03169124568559774,
          0.04181048007530593,
          0.018591151553184814,
          0.027690618136178225,
          0.04698776278631942,
          0.03074992155632256,
          0.053184813304047694,
          0.06816755569501098,
          0.14002196422968308,
          0.08385629118293066,
          0.17689049262629433,
          0.04157514904298713,
          0.02737684342641983,
          0.024788202070913083,
          0.040712268591151554,
          0.05961719485409476,
          0.045026670850329464
         ],
         "yaxis": "y"
        },
        {
         "alignmentgroup": "True",
         "customdata": [
          [
           "IR"
          ],
          [
           "IR"
          ],
          [
           "IR"
          ],
          [
           "IR"
          ],
          [
           "IR"
          ],
          [
           "IR"
          ],
          [
           "IR"
          ],
          [
           "IR"
          ],
          [
           "IR"
          ],
          [
           "IR"
          ],
          [
           "IR"
          ],
          [
           "IR"
          ],
          [
           "IR"
          ],
          [
           "IR"
          ],
          [
           "IR"
          ],
          [
           "IR"
          ],
          [
           "IR"
          ],
          [
           "IR"
          ]
         ],
         "hovertemplate": "ft_vm_kurz=%{customdata[0]}<br>CustomName=%{x}<br>relative_count=%{y}<extra></extra>",
         "legendgroup": "IR",
         "marker": {
          "color": "#F06969",
          "pattern": {
           "shape": ""
          }
         },
         "name": "IR",
         "offsetgroup": "IR",
         "orientation": "v",
         "showlegend": true,
         "textposition": "auto",
         "type": "bar",
         "x": [
          "Ausstattung Qualität Rollmaterial",
          "Corona",
          "Fahrplanangebot",
          "Feedback Umfrage",
          "Internet, Wlan und Mobilfunk",
          "Kommerzielle Angebote",
          "Kundeninformation",
          "Lob",
          "Platzangebot Velo, Gepäck, Kinderwagen",
          "Platzangebot Zug",
          "Preis-Leistung",
          "Pünktlichkeit",
          "Raumtemperatur Zug",
          "Sauberkeit Zug und Bahnhof",
          "Security",
          "Sonstiges",
          "Vertrieb und Services",
          "WC Verfügbarkeit und Sauberkeit"
         ],
         "xaxis": "x",
         "y": [
          0.03129657228017884,
          0.032507451564828614,
          0.05076378539493294,
          0.01816318926974665,
          0.02589418777943368,
          0.03455663189269747,
          0.023751862891207152,
          0.05625931445603577,
          0.05225409836065574,
          0.12015648286140089,
          0.08587928464977646,
          0.20706035767511177,
          0.033625186289120715,
          0.03138971684053651,
          0.03306631892697467,
          0.040611028315946346,
          0.07172131147540983,
          0.044709388971684055
         ],
         "yaxis": "y"
        },
        {
         "alignmentgroup": "True",
         "customdata": [
          [
           "RE"
          ],
          [
           "RE"
          ],
          [
           "RE"
          ],
          [
           "RE"
          ],
          [
           "RE"
          ],
          [
           "RE"
          ],
          [
           "RE"
          ],
          [
           "RE"
          ],
          [
           "RE"
          ],
          [
           "RE"
          ],
          [
           "RE"
          ],
          [
           "RE"
          ],
          [
           "RE"
          ],
          [
           "RE"
          ],
          [
           "RE"
          ],
          [
           "RE"
          ],
          [
           "RE"
          ],
          [
           "RE"
          ]
         ],
         "hovertemplate": "ft_vm_kurz=%{customdata[0]}<br>CustomName=%{x}<br>relative_count=%{y}<extra></extra>",
         "legendgroup": "RE",
         "marker": {
          "color": "#C499CA",
          "pattern": {
           "shape": ""
          }
         },
         "name": "RE",
         "offsetgroup": "RE",
         "orientation": "v",
         "showlegend": true,
         "textposition": "auto",
         "type": "bar",
         "x": [
          "Ausstattung Qualität Rollmaterial",
          "Corona",
          "Fahrplanangebot",
          "Feedback Umfrage",
          "Internet, Wlan und Mobilfunk",
          "Kommerzielle Angebote",
          "Kundeninformation",
          "Lob",
          "Platzangebot Velo, Gepäck, Kinderwagen",
          "Platzangebot Zug",
          "Preis-Leistung",
          "Pünktlichkeit",
          "Raumtemperatur Zug",
          "Sauberkeit Zug und Bahnhof",
          "Security",
          "Sonstiges",
          "Vertrieb und Services",
          "WC Verfügbarkeit und Sauberkeit"
         ],
         "xaxis": "x",
         "y": [
          0.02107481559536354,
          0.037934668071654375,
          0.06006322444678609,
          0.02160168598524763,
          0.0184404636459431,
          0.012118018967334035,
          0.02845100105374078,
          0.05795574288724974,
          0.04952581664910432,
          0.1238145416227608,
          0.09062170706006323,
          0.1828240252897787,
          0.0321390937829294,
          0.03530031612223393,
          0.03951527924130664,
          0.04636459430979979,
          0.07586933614330875,
          0.059009483667017915
         ],
         "yaxis": "y"
        },
        {
         "alignmentgroup": "True",
         "customdata": [
          [
           "S"
          ],
          [
           "S"
          ],
          [
           "S"
          ],
          [
           "S"
          ],
          [
           "S"
          ],
          [
           "S"
          ],
          [
           "S"
          ],
          [
           "S"
          ],
          [
           "S"
          ],
          [
           "S"
          ],
          [
           "S"
          ],
          [
           "S"
          ],
          [
           "S"
          ],
          [
           "S"
          ],
          [
           "S"
          ],
          [
           "S"
          ],
          [
           "S"
          ],
          [
           "S"
          ]
         ],
         "hovertemplate": "ft_vm_kurz=%{customdata[0]}<br>CustomName=%{x}<br>relative_count=%{y}<extra></extra>",
         "legendgroup": "S",
         "marker": {
          "color": "#EDB183",
          "pattern": {
           "shape": ""
          }
         },
         "name": "S",
         "offsetgroup": "S",
         "orientation": "v",
         "showlegend": true,
         "textposition": "auto",
         "type": "bar",
         "x": [
          "Ausstattung Qualität Rollmaterial",
          "Corona",
          "Fahrplanangebot",
          "Feedback Umfrage",
          "Internet, Wlan und Mobilfunk",
          "Kommerzielle Angebote",
          "Kundeninformation",
          "Lob",
          "Platzangebot Velo, Gepäck, Kinderwagen",
          "Platzangebot Zug",
          "Preis-Leistung",
          "Pünktlichkeit",
          "Raumtemperatur Zug",
          "Sauberkeit Zug und Bahnhof",
          "Security",
          "Sonstiges",
          "Vertrieb und Services",
          "WC Verfügbarkeit und Sauberkeit"
         ],
         "xaxis": "x",
         "y": [
          0.019783646818048922,
          0.052334080498976705,
          0.07348211675275314,
          0.020173472371113926,
          0.016470129616996395,
          0.009648182438358835,
          0.02183023097164019,
          0.05252899327550921,
          0.0341097358931878,
          0.08780820582789202,
          0.09950297241984211,
          0.17162069973686775,
          0.02533866094922522,
          0.040541857518760355,
          0.05447812104083423,
          0.06831692817464184,
          0.09365558912386707,
          0.0511646038397817
         ],
         "yaxis": "y"
        }
       ],
       "layout": {
        "barmode": "group",
        "height": 600,
        "legend": {
         "title": {
          "text": ""
         },
         "tracegroupgap": 0
        },
        "margin": {
         "t": 60
        },
        "template": {
         "data": {
          "bar": [
           {
            "error_x": {
             "color": "#2a3f5f"
            },
            "error_y": {
             "color": "#2a3f5f"
            },
            "marker": {
             "line": {
              "color": "#E5ECF6",
              "width": 0.5
             },
             "pattern": {
              "fillmode": "overlay",
              "size": 10,
              "solidity": 0.2
             }
            },
            "type": "bar"
           }
          ],
          "barpolar": [
           {
            "marker": {
             "line": {
              "color": "#E5ECF6",
              "width": 0.5
             },
             "pattern": {
              "fillmode": "overlay",
              "size": 10,
              "solidity": 0.2
             }
            },
            "type": "barpolar"
           }
          ],
          "carpet": [
           {
            "aaxis": {
             "endlinecolor": "#2a3f5f",
             "gridcolor": "white",
             "linecolor": "white",
             "minorgridcolor": "white",
             "startlinecolor": "#2a3f5f"
            },
            "baxis": {
             "endlinecolor": "#2a3f5f",
             "gridcolor": "white",
             "linecolor": "white",
             "minorgridcolor": "white",
             "startlinecolor": "#2a3f5f"
            },
            "type": "carpet"
           }
          ],
          "choropleth": [
           {
            "colorbar": {
             "outlinewidth": 0,
             "ticks": ""
            },
            "type": "choropleth"
           }
          ],
          "contour": [
           {
            "colorbar": {
             "outlinewidth": 0,
             "ticks": ""
            },
            "colorscale": [
             [
              0,
              "#0d0887"
             ],
             [
              0.1111111111111111,
              "#46039f"
             ],
             [
              0.2222222222222222,
              "#7201a8"
             ],
             [
              0.3333333333333333,
              "#9c179e"
             ],
             [
              0.4444444444444444,
              "#bd3786"
             ],
             [
              0.5555555555555556,
              "#d8576b"
             ],
             [
              0.6666666666666666,
              "#ed7953"
             ],
             [
              0.7777777777777778,
              "#fb9f3a"
             ],
             [
              0.8888888888888888,
              "#fdca26"
             ],
             [
              1,
              "#f0f921"
             ]
            ],
            "type": "contour"
           }
          ],
          "contourcarpet": [
           {
            "colorbar": {
             "outlinewidth": 0,
             "ticks": ""
            },
            "type": "contourcarpet"
           }
          ],
          "heatmap": [
           {
            "colorbar": {
             "outlinewidth": 0,
             "ticks": ""
            },
            "colorscale": [
             [
              0,
              "#0d0887"
             ],
             [
              0.1111111111111111,
              "#46039f"
             ],
             [
              0.2222222222222222,
              "#7201a8"
             ],
             [
              0.3333333333333333,
              "#9c179e"
             ],
             [
              0.4444444444444444,
              "#bd3786"
             ],
             [
              0.5555555555555556,
              "#d8576b"
             ],
             [
              0.6666666666666666,
              "#ed7953"
             ],
             [
              0.7777777777777778,
              "#fb9f3a"
             ],
             [
              0.8888888888888888,
              "#fdca26"
             ],
             [
              1,
              "#f0f921"
             ]
            ],
            "type": "heatmap"
           }
          ],
          "heatmapgl": [
           {
            "colorbar": {
             "outlinewidth": 0,
             "ticks": ""
            },
            "colorscale": [
             [
              0,
              "#0d0887"
             ],
             [
              0.1111111111111111,
              "#46039f"
             ],
             [
              0.2222222222222222,
              "#7201a8"
             ],
             [
              0.3333333333333333,
              "#9c179e"
             ],
             [
              0.4444444444444444,
              "#bd3786"
             ],
             [
              0.5555555555555556,
              "#d8576b"
             ],
             [
              0.6666666666666666,
              "#ed7953"
             ],
             [
              0.7777777777777778,
              "#fb9f3a"
             ],
             [
              0.8888888888888888,
              "#fdca26"
             ],
             [
              1,
              "#f0f921"
             ]
            ],
            "type": "heatmapgl"
           }
          ],
          "histogram": [
           {
            "marker": {
             "pattern": {
              "fillmode": "overlay",
              "size": 10,
              "solidity": 0.2
             }
            },
            "type": "histogram"
           }
          ],
          "histogram2d": [
           {
            "colorbar": {
             "outlinewidth": 0,
             "ticks": ""
            },
            "colorscale": [
             [
              0,
              "#0d0887"
             ],
             [
              0.1111111111111111,
              "#46039f"
             ],
             [
              0.2222222222222222,
              "#7201a8"
             ],
             [
              0.3333333333333333,
              "#9c179e"
             ],
             [
              0.4444444444444444,
              "#bd3786"
             ],
             [
              0.5555555555555556,
              "#d8576b"
             ],
             [
              0.6666666666666666,
              "#ed7953"
             ],
             [
              0.7777777777777778,
              "#fb9f3a"
             ],
             [
              0.8888888888888888,
              "#fdca26"
             ],
             [
              1,
              "#f0f921"
             ]
            ],
            "type": "histogram2d"
           }
          ],
          "histogram2dcontour": [
           {
            "colorbar": {
             "outlinewidth": 0,
             "ticks": ""
            },
            "colorscale": [
             [
              0,
              "#0d0887"
             ],
             [
              0.1111111111111111,
              "#46039f"
             ],
             [
              0.2222222222222222,
              "#7201a8"
             ],
             [
              0.3333333333333333,
              "#9c179e"
             ],
             [
              0.4444444444444444,
              "#bd3786"
             ],
             [
              0.5555555555555556,
              "#d8576b"
             ],
             [
              0.6666666666666666,
              "#ed7953"
             ],
             [
              0.7777777777777778,
              "#fb9f3a"
             ],
             [
              0.8888888888888888,
              "#fdca26"
             ],
             [
              1,
              "#f0f921"
             ]
            ],
            "type": "histogram2dcontour"
           }
          ],
          "mesh3d": [
           {
            "colorbar": {
             "outlinewidth": 0,
             "ticks": ""
            },
            "type": "mesh3d"
           }
          ],
          "parcoords": [
           {
            "line": {
             "colorbar": {
              "outlinewidth": 0,
              "ticks": ""
             }
            },
            "type": "parcoords"
           }
          ],
          "pie": [
           {
            "automargin": true,
            "type": "pie"
           }
          ],
          "scatter": [
           {
            "fillpattern": {
             "fillmode": "overlay",
             "size": 10,
             "solidity": 0.2
            },
            "type": "scatter"
           }
          ],
          "scatter3d": [
           {
            "line": {
             "colorbar": {
              "outlinewidth": 0,
              "ticks": ""
             }
            },
            "marker": {
             "colorbar": {
              "outlinewidth": 0,
              "ticks": ""
             }
            },
            "type": "scatter3d"
           }
          ],
          "scattercarpet": [
           {
            "marker": {
             "colorbar": {
              "outlinewidth": 0,
              "ticks": ""
             }
            },
            "type": "scattercarpet"
           }
          ],
          "scattergeo": [
           {
            "marker": {
             "colorbar": {
              "outlinewidth": 0,
              "ticks": ""
             }
            },
            "type": "scattergeo"
           }
          ],
          "scattergl": [
           {
            "marker": {
             "colorbar": {
              "outlinewidth": 0,
              "ticks": ""
             }
            },
            "type": "scattergl"
           }
          ],
          "scattermapbox": [
           {
            "marker": {
             "colorbar": {
              "outlinewidth": 0,
              "ticks": ""
             }
            },
            "type": "scattermapbox"
           }
          ],
          "scatterpolar": [
           {
            "marker": {
             "colorbar": {
              "outlinewidth": 0,
              "ticks": ""
             }
            },
            "type": "scatterpolar"
           }
          ],
          "scatterpolargl": [
           {
            "marker": {
             "colorbar": {
              "outlinewidth": 0,
              "ticks": ""
             }
            },
            "type": "scatterpolargl"
           }
          ],
          "scatterternary": [
           {
            "marker": {
             "colorbar": {
              "outlinewidth": 0,
              "ticks": ""
             }
            },
            "type": "scatterternary"
           }
          ],
          "surface": [
           {
            "colorbar": {
             "outlinewidth": 0,
             "ticks": ""
            },
            "colorscale": [
             [
              0,
              "#0d0887"
             ],
             [
              0.1111111111111111,
              "#46039f"
             ],
             [
              0.2222222222222222,
              "#7201a8"
             ],
             [
              0.3333333333333333,
              "#9c179e"
             ],
             [
              0.4444444444444444,
              "#bd3786"
             ],
             [
              0.5555555555555556,
              "#d8576b"
             ],
             [
              0.6666666666666666,
              "#ed7953"
             ],
             [
              0.7777777777777778,
              "#fb9f3a"
             ],
             [
              0.8888888888888888,
              "#fdca26"
             ],
             [
              1,
              "#f0f921"
             ]
            ],
            "type": "surface"
           }
          ],
          "table": [
           {
            "cells": {
             "fill": {
              "color": "#EBF0F8"
             },
             "line": {
              "color": "white"
             }
            },
            "header": {
             "fill": {
              "color": "#C8D4E3"
             },
             "line": {
              "color": "white"
             }
            },
            "type": "table"
           }
          ]
         },
         "layout": {
          "annotationdefaults": {
           "arrowcolor": "#2a3f5f",
           "arrowhead": 0,
           "arrowwidth": 1
          },
          "autotypenumbers": "strict",
          "coloraxis": {
           "colorbar": {
            "outlinewidth": 0,
            "ticks": ""
           }
          },
          "colorscale": {
           "diverging": [
            [
             0,
             "#8e0152"
            ],
            [
             0.1,
             "#c51b7d"
            ],
            [
             0.2,
             "#de77ae"
            ],
            [
             0.3,
             "#f1b6da"
            ],
            [
             0.4,
             "#fde0ef"
            ],
            [
             0.5,
             "#f7f7f7"
            ],
            [
             0.6,
             "#e6f5d0"
            ],
            [
             0.7,
             "#b8e186"
            ],
            [
             0.8,
             "#7fbc41"
            ],
            [
             0.9,
             "#4d9221"
            ],
            [
             1,
             "#276419"
            ]
           ],
           "sequential": [
            [
             0,
             "#0d0887"
            ],
            [
             0.1111111111111111,
             "#46039f"
            ],
            [
             0.2222222222222222,
             "#7201a8"
            ],
            [
             0.3333333333333333,
             "#9c179e"
            ],
            [
             0.4444444444444444,
             "#bd3786"
            ],
            [
             0.5555555555555556,
             "#d8576b"
            ],
            [
             0.6666666666666666,
             "#ed7953"
            ],
            [
             0.7777777777777778,
             "#fb9f3a"
            ],
            [
             0.8888888888888888,
             "#fdca26"
            ],
            [
             1,
             "#f0f921"
            ]
           ],
           "sequentialminus": [
            [
             0,
             "#0d0887"
            ],
            [
             0.1111111111111111,
             "#46039f"
            ],
            [
             0.2222222222222222,
             "#7201a8"
            ],
            [
             0.3333333333333333,
             "#9c179e"
            ],
            [
             0.4444444444444444,
             "#bd3786"
            ],
            [
             0.5555555555555556,
             "#d8576b"
            ],
            [
             0.6666666666666666,
             "#ed7953"
            ],
            [
             0.7777777777777778,
             "#fb9f3a"
            ],
            [
             0.8888888888888888,
             "#fdca26"
            ],
            [
             1,
             "#f0f921"
            ]
           ]
          },
          "colorway": [
           "#636efa",
           "#EF553B",
           "#00cc96",
           "#ab63fa",
           "#FFA15A",
           "#19d3f3",
           "#FF6692",
           "#B6E880",
           "#FF97FF",
           "#FECB52"
          ],
          "font": {
           "color": "#2a3f5f"
          },
          "geo": {
           "bgcolor": "white",
           "lakecolor": "white",
           "landcolor": "#E5ECF6",
           "showlakes": true,
           "showland": true,
           "subunitcolor": "white"
          },
          "hoverlabel": {
           "align": "left"
          },
          "hovermode": "closest",
          "mapbox": {
           "style": "light"
          },
          "paper_bgcolor": "white",
          "plot_bgcolor": "#E5ECF6",
          "polar": {
           "angularaxis": {
            "gridcolor": "white",
            "linecolor": "white",
            "ticks": ""
           },
           "bgcolor": "#E5ECF6",
           "radialaxis": {
            "gridcolor": "white",
            "linecolor": "white",
            "ticks": ""
           }
          },
          "scene": {
           "xaxis": {
            "backgroundcolor": "#E5ECF6",
            "gridcolor": "white",
            "gridwidth": 2,
            "linecolor": "white",
            "showbackground": true,
            "ticks": "",
            "zerolinecolor": "white"
           },
           "yaxis": {
            "backgroundcolor": "#E5ECF6",
            "gridcolor": "white",
            "gridwidth": 2,
            "linecolor": "white",
            "showbackground": true,
            "ticks": "",
            "zerolinecolor": "white"
           },
           "zaxis": {
            "backgroundcolor": "#E5ECF6",
            "gridcolor": "white",
            "gridwidth": 2,
            "linecolor": "white",
            "showbackground": true,
            "ticks": "",
            "zerolinecolor": "white"
           }
          },
          "shapedefaults": {
           "line": {
            "color": "#2a3f5f"
           }
          },
          "ternary": {
           "aaxis": {
            "gridcolor": "white",
            "linecolor": "white",
            "ticks": ""
           },
           "baxis": {
            "gridcolor": "white",
            "linecolor": "white",
            "ticks": ""
           },
           "bgcolor": "#E5ECF6",
           "caxis": {
            "gridcolor": "white",
            "linecolor": "white",
            "ticks": ""
           }
          },
          "title": {
           "x": 0.05
          },
          "xaxis": {
           "automargin": true,
           "gridcolor": "white",
           "linecolor": "white",
           "ticks": "",
           "title": {
            "standoff": 15
           },
           "zerolinecolor": "white",
           "zerolinewidth": 2
          },
          "yaxis": {
           "automargin": true,
           "gridcolor": "white",
           "linecolor": "white",
           "ticks": "",
           "title": {
            "standoff": 15
           },
           "zerolinecolor": "white",
           "zerolinewidth": 2
          }
         }
        },
        "title": {
         "text": "Themenrelevanz nach Zugkategorie (2019-2022)"
        },
        "width": 900,
        "xaxis": {
         "anchor": "y",
         "automargin": true,
         "domain": [
          0,
          1
         ],
         "showgrid": false,
         "tickangle": 45,
         "tickfont": {
          "size": 12
         },
         "tickmode": "array",
         "ticktext": [
          "Ausstattung Qualität Rollmaterial",
          "Corona",
          "Fahrplanangebot",
          "Feedback Umfrage",
          "Internet, Wlan und Mobilfunk",
          "Kommerzielle Angebote",
          "Kundeninformation",
          "Lob",
          "Platzangebot Velo, Gepäck, Kinderwagen",
          "Platzangebot Zug",
          "Preis-Leistung",
          "Pünktlichkeit",
          "Raumtemperatur Zug",
          "Sauberkeit Zug und Bahnhof",
          "Security",
          "Sonstiges",
          "Vertrieb und Services",
          "WC Verfügbarkeit und Sauberkeit",
          "Ausstattung Qualität Rollmaterial",
          "Corona",
          "Fahrplanangebot",
          "Feedback Umfrage",
          "Internet, Wlan und Mobilfunk",
          "Kommerzielle Angebote",
          "Kundeninformation",
          "Lob",
          "Platzangebot Velo, Gepäck, Kinderwagen",
          "Platzangebot Zug",
          "Preis-Leistung",
          "Pünktlichkeit",
          "Raumtemperatur Zug",
          "Sauberkeit Zug und Bahnhof",
          "Security",
          "Sonstiges",
          "Vertrieb und Services",
          "WC Verfügbarkeit und Sauberkeit",
          "Ausstattung Qualität Rollmaterial",
          "Corona",
          "Fahrplanangebot",
          "Feedback Umfrage",
          "Internet, Wlan und Mobilfunk",
          "Kommerzielle Angebote",
          "Kundeninformation",
          "Lob",
          "Platzangebot Velo, Gepäck, Kinderwagen",
          "Platzangebot Zug",
          "Preis-Leistung",
          "Pünktlichkeit",
          "Raumtemperatur Zug",
          "Sauberkeit Zug und Bahnhof",
          "Security",
          "Sonstiges",
          "Vertrieb und Services",
          "WC Verfügbarkeit und Sauberkeit",
          "Ausstattung Qualität Rollmaterial",
          "Corona",
          "Fahrplanangebot",
          "Feedback Umfrage",
          "Internet, Wlan und Mobilfunk",
          "Kommerzielle Angebote",
          "Kundeninformation",
          "Lob",
          "Platzangebot Velo, Gepäck, Kinderwagen",
          "Platzangebot Zug",
          "Preis-Leistung",
          "Pünktlichkeit",
          "Raumtemperatur Zug",
          "Sauberkeit Zug und Bahnhof",
          "Security",
          "Sonstiges",
          "Vertrieb und Services",
          "WC Verfügbarkeit und Sauberkeit",
          "Ausstattung Qualität Rollmaterial",
          "Corona",
          "Fahrplanangebot",
          "Feedback Umfrage",
          "Internet, Wlan und Mobilfunk",
          "Kommerzielle Angebote",
          "Kundeninformation",
          "Lob",
          "Platzangebot Velo, Gepäck, Kinderwagen",
          "Platzangebot Zug",
          "Preis-Leistung",
          "Pünktlichkeit",
          "Raumtemperatur Zug",
          "Sauberkeit Zug und Bahnhof",
          "Security",
          "Sonstiges",
          "Vertrieb und Services",
          "WC Verfügbarkeit und Sauberkeit"
         ],
         "tickvals": [
          0,
          1,
          2,
          3,
          4,
          5,
          6,
          7,
          8,
          9,
          10,
          11,
          12,
          13,
          14,
          15,
          16,
          17,
          18,
          19,
          20,
          21,
          22,
          23,
          24,
          25,
          26,
          27,
          28,
          29,
          30,
          31,
          32,
          33,
          34,
          35,
          36,
          37,
          38,
          39,
          40,
          41,
          42,
          43,
          44,
          45,
          46,
          47,
          48,
          49,
          50,
          51,
          52,
          53,
          54,
          55,
          56,
          57,
          58,
          59,
          60,
          61,
          62,
          63,
          64,
          65,
          66,
          67,
          68,
          69,
          70,
          71,
          72,
          73,
          74,
          75,
          76,
          77,
          78,
          79,
          80,
          81,
          82,
          83,
          84,
          85,
          86,
          87,
          88,
          89
         ],
         "tickwidth": 1,
         "title": {
          "text": ""
         }
        },
        "yaxis": {
         "anchor": "x",
         "domain": [
          0,
          1
         ],
         "gridcolor": "rgba(0,0,0,0.1)",
         "gridwidth": 1,
         "range": [
          0,
          0.29
         ],
         "showgrid": true,
         "title": {
          "font": {
           "size": 12
          },
          "text": "Relative Häufigkeit"
         }
        }
       }
      }
     },
     "metadata": {},
     "output_type": "display_data"
    }
   ],
   "source": [
    "create_grouped_barchart(df_ft_vm_kurz,\n",
    "                        x_col=\"CustomName\",\n",
    "                        y_col=\"relative_count\",\n",
    "                        color_col=\"ft_vm_kurz\",\n",
    "                        color_discrete_sequence=color_discrete_sequence,\n",
    "                        title=\"Themenrelevanz nach Zugkategorie (2019-2022)\",\n",
    "                        xaxis_title='',\n",
    "                        yaxis_title='Relative Häufigkeit',\n",
    "                        legend_title='',\n",
    "                        template=template,\n",
    "                        path=path,\n",
    "                        filename=\"Themenrelevanz_Verkehrsmittel\")"
   ]
  },
  {
   "cell_type": "code",
   "execution_count": 43,
   "metadata": {},
   "outputs": [
    {
     "data": {
      "application/vnd.plotly.v1+json": {
       "config": {
        "plotlyServerURL": "https://plot.ly"
       },
       "data": [
        {
         "alignmentgroup": "True",
         "customdata": [
          [
           "IC 1"
          ],
          [
           "IC 1"
          ],
          [
           "IC 1"
          ],
          [
           "IC 1"
          ],
          [
           "IC 1"
          ],
          [
           "IC 1"
          ],
          [
           "IC 1"
          ],
          [
           "IC 1"
          ],
          [
           "IC 1"
          ],
          [
           "IC 1"
          ],
          [
           "IC 1"
          ],
          [
           "IC 1"
          ],
          [
           "IC 1"
          ],
          [
           "IC 1"
          ],
          [
           "IC 1"
          ],
          [
           "IC 1"
          ],
          [
           "IC 1"
          ],
          [
           "IC 1"
          ]
         ],
         "hovertemplate": "linie=%{customdata[0]}<br>CustomName=%{x}<br>relative_count=%{y}<extra></extra>",
         "legendgroup": "IC 1",
         "marker": {
          "color": "#49787F",
          "pattern": {
           "shape": ""
          }
         },
         "name": "IC 1",
         "offsetgroup": "IC 1",
         "orientation": "v",
         "showlegend": true,
         "textposition": "auto",
         "type": "bar",
         "x": [
          "Ausstattung Qualität Rollmaterial",
          "Corona",
          "Fahrplanangebot",
          "Feedback Umfrage",
          "Internet, Wlan und Mobilfunk",
          "Kommerzielle Angebote",
          "Kundeninformation",
          "Lob",
          "Platzangebot Velo, Gepäck, Kinderwagen",
          "Platzangebot Zug",
          "Preis-Leistung",
          "Pünktlichkeit",
          "Raumtemperatur Zug",
          "Sauberkeit Zug und Bahnhof",
          "Security",
          "Sonstiges",
          "Vertrieb und Services",
          "WC Verfügbarkeit und Sauberkeit"
         ],
         "xaxis": "x",
         "y": [
          0.03538536112457586,
          0.03296170625302957,
          0.02956858943286476,
          0.0174503150751333,
          0.033446437227338824,
          0.047988366456616575,
          0.02956858943286476,
          0.04992729035385361,
          0.060106640814348036,
          0.13911778962675714,
          0.08725157537566651,
          0.1851672321861367,
          0.05913717886572952,
          0.029083858458555503,
          0.019389238972370333,
          0.03829374697043141,
          0.05865244789142026,
          0.04265632573921473
         ],
         "yaxis": "y"
        },
        {
         "alignmentgroup": "True",
         "customdata": [
          [
           "IC 2"
          ],
          [
           "IC 2"
          ],
          [
           "IC 2"
          ],
          [
           "IC 2"
          ],
          [
           "IC 2"
          ],
          [
           "IC 2"
          ],
          [
           "IC 2"
          ],
          [
           "IC 2"
          ],
          [
           "IC 2"
          ],
          [
           "IC 2"
          ],
          [
           "IC 2"
          ],
          [
           "IC 2"
          ],
          [
           "IC 2"
          ],
          [
           "IC 2"
          ],
          [
           "IC 2"
          ],
          [
           "IC 2"
          ],
          [
           "IC 2"
          ],
          [
           "IC 2"
          ]
         ],
         "hovertemplate": "linie=%{customdata[0]}<br>CustomName=%{x}<br>relative_count=%{y}<extra></extra>",
         "legendgroup": "IC 2",
         "marker": {
          "color": "#A96262",
          "pattern": {
           "shape": ""
          }
         },
         "name": "IC 2",
         "offsetgroup": "IC 2",
         "orientation": "v",
         "showlegend": true,
         "textposition": "auto",
         "type": "bar",
         "x": [
          "Ausstattung Qualität Rollmaterial",
          "Corona",
          "Fahrplanangebot",
          "Feedback Umfrage",
          "Internet, Wlan und Mobilfunk",
          "Kommerzielle Angebote",
          "Kundeninformation",
          "Lob",
          "Platzangebot Velo, Gepäck, Kinderwagen",
          "Platzangebot Zug",
          "Preis-Leistung",
          "Pünktlichkeit",
          "Raumtemperatur Zug",
          "Sauberkeit Zug und Bahnhof",
          "Security",
          "Sonstiges",
          "Vertrieb und Services",
          "WC Verfügbarkeit und Sauberkeit"
         ],
         "xaxis": "x",
         "y": [
          0.030541871921182268,
          0.027586206896551724,
          0.10049261083743842,
          0.016748768472906402,
          0.03152709359605911,
          0.06206896551724138,
          0.026600985221674877,
          0.04729064039408867,
          0.059113300492610835,
          0.15566502463054188,
          0.04334975369458128,
          0.18226600985221675,
          0.034482758620689655,
          0.0187192118226601,
          0.017733990147783252,
          0.033497536945812804,
          0.059113300492610835,
          0.05024630541871921
         ],
         "yaxis": "y"
        },
        {
         "alignmentgroup": "True",
         "customdata": [
          [
           "IC 3"
          ],
          [
           "IC 3"
          ],
          [
           "IC 3"
          ],
          [
           "IC 3"
          ],
          [
           "IC 3"
          ],
          [
           "IC 3"
          ],
          [
           "IC 3"
          ],
          [
           "IC 3"
          ],
          [
           "IC 3"
          ],
          [
           "IC 3"
          ],
          [
           "IC 3"
          ],
          [
           "IC 3"
          ],
          [
           "IC 3"
          ],
          [
           "IC 3"
          ],
          [
           "IC 3"
          ],
          [
           "IC 3"
          ],
          [
           "IC 3"
          ],
          [
           "IC 3"
          ]
         ],
         "hovertemplate": "linie=%{customdata[0]}<br>CustomName=%{x}<br>relative_count=%{y}<extra></extra>",
         "legendgroup": "IC 3",
         "marker": {
          "color": "#F06969",
          "pattern": {
           "shape": ""
          }
         },
         "name": "IC 3",
         "offsetgroup": "IC 3",
         "orientation": "v",
         "showlegend": true,
         "textposition": "auto",
         "type": "bar",
         "x": [
          "Ausstattung Qualität Rollmaterial",
          "Corona",
          "Fahrplanangebot",
          "Feedback Umfrage",
          "Internet, Wlan und Mobilfunk",
          "Kommerzielle Angebote",
          "Kundeninformation",
          "Lob",
          "Platzangebot Velo, Gepäck, Kinderwagen",
          "Platzangebot Zug",
          "Preis-Leistung",
          "Pünktlichkeit",
          "Raumtemperatur Zug",
          "Sauberkeit Zug und Bahnhof",
          "Security",
          "Sonstiges",
          "Vertrieb und Services",
          "WC Verfügbarkeit und Sauberkeit"
         ],
         "xaxis": "x",
         "y": [
          0.047995780590717296,
          0.035864978902953586,
          0.0379746835443038,
          0.019514767932489453,
          0.03533755274261603,
          0.06487341772151899,
          0.026371308016877638,
          0.05959915611814346,
          0.07067510548523206,
          0.1260548523206751,
          0.06540084388185655,
          0.15981012658227847,
          0.05590717299578059,
          0.027953586497890294,
          0.016877637130801686,
          0.03533755274261603,
          0.055379746835443035,
          0.05063291139240506
         ],
         "yaxis": "y"
        },
        {
         "alignmentgroup": "True",
         "customdata": [
          [
           "IC 5"
          ],
          [
           "IC 5"
          ],
          [
           "IC 5"
          ],
          [
           "IC 5"
          ],
          [
           "IC 5"
          ],
          [
           "IC 5"
          ],
          [
           "IC 5"
          ],
          [
           "IC 5"
          ],
          [
           "IC 5"
          ],
          [
           "IC 5"
          ],
          [
           "IC 5"
          ],
          [
           "IC 5"
          ],
          [
           "IC 5"
          ],
          [
           "IC 5"
          ],
          [
           "IC 5"
          ],
          [
           "IC 5"
          ],
          [
           "IC 5"
          ],
          [
           "IC 5"
          ]
         ],
         "hovertemplate": "linie=%{customdata[0]}<br>CustomName=%{x}<br>relative_count=%{y}<extra></extra>",
         "legendgroup": "IC 5",
         "marker": {
          "color": "#C499CA",
          "pattern": {
           "shape": ""
          }
         },
         "name": "IC 5",
         "offsetgroup": "IC 5",
         "orientation": "v",
         "showlegend": true,
         "textposition": "auto",
         "type": "bar",
         "x": [
          "Ausstattung Qualität Rollmaterial",
          "Corona",
          "Fahrplanangebot",
          "Feedback Umfrage",
          "Internet, Wlan und Mobilfunk",
          "Kommerzielle Angebote",
          "Kundeninformation",
          "Lob",
          "Platzangebot Velo, Gepäck, Kinderwagen",
          "Platzangebot Zug",
          "Preis-Leistung",
          "Pünktlichkeit",
          "Raumtemperatur Zug",
          "Sauberkeit Zug und Bahnhof",
          "Security",
          "Sonstiges",
          "Vertrieb und Services",
          "WC Verfügbarkeit und Sauberkeit"
         ],
         "xaxis": "x",
         "y": [
          0.029747492217225873,
          0.03286060186786579,
          0.04289173296437219,
          0.017986855759252855,
          0.027326184711172603,
          0.0387409200968523,
          0.034936008301625736,
          0.04946385333794535,
          0.06537530266343826,
          0.11691456243514355,
          0.087512971290211,
          0.1864406779661017,
          0.04289173296437219,
          0.02767208578346593,
          0.034936008301625736,
          0.043237634036665515,
          0.06572120373573158,
          0.04635074368730543
         ],
         "yaxis": "y"
        },
        {
         "alignmentgroup": "True",
         "customdata": [
          [
           "IC 6"
          ],
          [
           "IC 6"
          ],
          [
           "IC 6"
          ],
          [
           "IC 6"
          ],
          [
           "IC 6"
          ],
          [
           "IC 6"
          ],
          [
           "IC 6"
          ],
          [
           "IC 6"
          ],
          [
           "IC 6"
          ],
          [
           "IC 6"
          ],
          [
           "IC 6"
          ],
          [
           "IC 6"
          ],
          [
           "IC 6"
          ],
          [
           "IC 6"
          ],
          [
           "IC 6"
          ],
          [
           "IC 6"
          ],
          [
           "IC 6"
          ],
          [
           "IC 6"
          ]
         ],
         "hovertemplate": "linie=%{customdata[0]}<br>CustomName=%{x}<br>relative_count=%{y}<extra></extra>",
         "legendgroup": "IC 6",
         "marker": {
          "color": "#EDB183",
          "pattern": {
           "shape": ""
          }
         },
         "name": "IC 6",
         "offsetgroup": "IC 6",
         "orientation": "v",
         "showlegend": true,
         "textposition": "auto",
         "type": "bar",
         "x": [
          "Ausstattung Qualität Rollmaterial",
          "Corona",
          "Fahrplanangebot",
          "Feedback Umfrage",
          "Internet, Wlan und Mobilfunk",
          "Kommerzielle Angebote",
          "Kundeninformation",
          "Lob",
          "Platzangebot Velo, Gepäck, Kinderwagen",
          "Platzangebot Zug",
          "Preis-Leistung",
          "Pünktlichkeit",
          "Raumtemperatur Zug",
          "Sauberkeit Zug und Bahnhof",
          "Security",
          "Sonstiges",
          "Vertrieb und Services",
          "WC Verfügbarkeit und Sauberkeit"
         ],
         "xaxis": "x",
         "y": [
          0.03333333333333333,
          0.03169398907103825,
          0.034972677595628415,
          0.017486338797814208,
          0.024043715846994537,
          0.03770491803278689,
          0.030054644808743168,
          0.053005464480874315,
          0.06393442622950819,
          0.16229508196721312,
          0.09234972677595628,
          0.1808743169398907,
          0.02185792349726776,
          0.026775956284153007,
          0.025683060109289616,
          0.04316939890710383,
          0.05901639344262295,
          0.055191256830601096
         ],
         "yaxis": "y"
        },
        {
         "alignmentgroup": "True",
         "customdata": [
          [
           "IC 8"
          ],
          [
           "IC 8"
          ],
          [
           "IC 8"
          ],
          [
           "IC 8"
          ],
          [
           "IC 8"
          ],
          [
           "IC 8"
          ],
          [
           "IC 8"
          ],
          [
           "IC 8"
          ],
          [
           "IC 8"
          ],
          [
           "IC 8"
          ],
          [
           "IC 8"
          ],
          [
           "IC 8"
          ],
          [
           "IC 8"
          ],
          [
           "IC 8"
          ],
          [
           "IC 8"
          ],
          [
           "IC 8"
          ],
          [
           "IC 8"
          ],
          [
           "IC 8"
          ]
         ],
         "hovertemplate": "linie=%{customdata[0]}<br>CustomName=%{x}<br>relative_count=%{y}<extra></extra>",
         "legendgroup": "IC 8",
         "marker": {
          "color": "#B6D6CC",
          "pattern": {
           "shape": ""
          }
         },
         "name": "IC 8",
         "offsetgroup": "IC 8",
         "orientation": "v",
         "showlegend": true,
         "textposition": "auto",
         "type": "bar",
         "x": [
          "Ausstattung Qualität Rollmaterial",
          "Corona",
          "Fahrplanangebot",
          "Feedback Umfrage",
          "Internet, Wlan und Mobilfunk",
          "Kommerzielle Angebote",
          "Kundeninformation",
          "Lob",
          "Platzangebot Velo, Gepäck, Kinderwagen",
          "Platzangebot Zug",
          "Preis-Leistung",
          "Pünktlichkeit",
          "Raumtemperatur Zug",
          "Sauberkeit Zug und Bahnhof",
          "Security",
          "Sonstiges",
          "Vertrieb und Services",
          "WC Verfügbarkeit und Sauberkeit"
         ],
         "xaxis": "x",
         "y": [
          0.034045635639261135,
          0.0286128214415067,
          0.03513219847881202,
          0.021006881564650488,
          0.019195943498732344,
          0.042375950742484604,
          0.031148134733792104,
          0.058312205722564285,
          0.08438971387178558,
          0.15465411082940964,
          0.09815284317276349,
          0.16334661354581673,
          0.03332126041289388,
          0.027164070988772184,
          0.026439695762404927,
          0.047084389713871785,
          0.0572256428830134,
          0.03259688518652662
         ],
         "yaxis": "y"
        }
       ],
       "layout": {
        "barmode": "group",
        "height": 600,
        "legend": {
         "title": {
          "text": ""
         },
         "tracegroupgap": 0
        },
        "margin": {
         "t": 60
        },
        "template": {
         "data": {
          "bar": [
           {
            "error_x": {
             "color": "#2a3f5f"
            },
            "error_y": {
             "color": "#2a3f5f"
            },
            "marker": {
             "line": {
              "color": "#E5ECF6",
              "width": 0.5
             },
             "pattern": {
              "fillmode": "overlay",
              "size": 10,
              "solidity": 0.2
             }
            },
            "type": "bar"
           }
          ],
          "barpolar": [
           {
            "marker": {
             "line": {
              "color": "#E5ECF6",
              "width": 0.5
             },
             "pattern": {
              "fillmode": "overlay",
              "size": 10,
              "solidity": 0.2
             }
            },
            "type": "barpolar"
           }
          ],
          "carpet": [
           {
            "aaxis": {
             "endlinecolor": "#2a3f5f",
             "gridcolor": "white",
             "linecolor": "white",
             "minorgridcolor": "white",
             "startlinecolor": "#2a3f5f"
            },
            "baxis": {
             "endlinecolor": "#2a3f5f",
             "gridcolor": "white",
             "linecolor": "white",
             "minorgridcolor": "white",
             "startlinecolor": "#2a3f5f"
            },
            "type": "carpet"
           }
          ],
          "choropleth": [
           {
            "colorbar": {
             "outlinewidth": 0,
             "ticks": ""
            },
            "type": "choropleth"
           }
          ],
          "contour": [
           {
            "colorbar": {
             "outlinewidth": 0,
             "ticks": ""
            },
            "colorscale": [
             [
              0,
              "#0d0887"
             ],
             [
              0.1111111111111111,
              "#46039f"
             ],
             [
              0.2222222222222222,
              "#7201a8"
             ],
             [
              0.3333333333333333,
              "#9c179e"
             ],
             [
              0.4444444444444444,
              "#bd3786"
             ],
             [
              0.5555555555555556,
              "#d8576b"
             ],
             [
              0.6666666666666666,
              "#ed7953"
             ],
             [
              0.7777777777777778,
              "#fb9f3a"
             ],
             [
              0.8888888888888888,
              "#fdca26"
             ],
             [
              1,
              "#f0f921"
             ]
            ],
            "type": "contour"
           }
          ],
          "contourcarpet": [
           {
            "colorbar": {
             "outlinewidth": 0,
             "ticks": ""
            },
            "type": "contourcarpet"
           }
          ],
          "heatmap": [
           {
            "colorbar": {
             "outlinewidth": 0,
             "ticks": ""
            },
            "colorscale": [
             [
              0,
              "#0d0887"
             ],
             [
              0.1111111111111111,
              "#46039f"
             ],
             [
              0.2222222222222222,
              "#7201a8"
             ],
             [
              0.3333333333333333,
              "#9c179e"
             ],
             [
              0.4444444444444444,
              "#bd3786"
             ],
             [
              0.5555555555555556,
              "#d8576b"
             ],
             [
              0.6666666666666666,
              "#ed7953"
             ],
             [
              0.7777777777777778,
              "#fb9f3a"
             ],
             [
              0.8888888888888888,
              "#fdca26"
             ],
             [
              1,
              "#f0f921"
             ]
            ],
            "type": "heatmap"
           }
          ],
          "heatmapgl": [
           {
            "colorbar": {
             "outlinewidth": 0,
             "ticks": ""
            },
            "colorscale": [
             [
              0,
              "#0d0887"
             ],
             [
              0.1111111111111111,
              "#46039f"
             ],
             [
              0.2222222222222222,
              "#7201a8"
             ],
             [
              0.3333333333333333,
              "#9c179e"
             ],
             [
              0.4444444444444444,
              "#bd3786"
             ],
             [
              0.5555555555555556,
              "#d8576b"
             ],
             [
              0.6666666666666666,
              "#ed7953"
             ],
             [
              0.7777777777777778,
              "#fb9f3a"
             ],
             [
              0.8888888888888888,
              "#fdca26"
             ],
             [
              1,
              "#f0f921"
             ]
            ],
            "type": "heatmapgl"
           }
          ],
          "histogram": [
           {
            "marker": {
             "pattern": {
              "fillmode": "overlay",
              "size": 10,
              "solidity": 0.2
             }
            },
            "type": "histogram"
           }
          ],
          "histogram2d": [
           {
            "colorbar": {
             "outlinewidth": 0,
             "ticks": ""
            },
            "colorscale": [
             [
              0,
              "#0d0887"
             ],
             [
              0.1111111111111111,
              "#46039f"
             ],
             [
              0.2222222222222222,
              "#7201a8"
             ],
             [
              0.3333333333333333,
              "#9c179e"
             ],
             [
              0.4444444444444444,
              "#bd3786"
             ],
             [
              0.5555555555555556,
              "#d8576b"
             ],
             [
              0.6666666666666666,
              "#ed7953"
             ],
             [
              0.7777777777777778,
              "#fb9f3a"
             ],
             [
              0.8888888888888888,
              "#fdca26"
             ],
             [
              1,
              "#f0f921"
             ]
            ],
            "type": "histogram2d"
           }
          ],
          "histogram2dcontour": [
           {
            "colorbar": {
             "outlinewidth": 0,
             "ticks": ""
            },
            "colorscale": [
             [
              0,
              "#0d0887"
             ],
             [
              0.1111111111111111,
              "#46039f"
             ],
             [
              0.2222222222222222,
              "#7201a8"
             ],
             [
              0.3333333333333333,
              "#9c179e"
             ],
             [
              0.4444444444444444,
              "#bd3786"
             ],
             [
              0.5555555555555556,
              "#d8576b"
             ],
             [
              0.6666666666666666,
              "#ed7953"
             ],
             [
              0.7777777777777778,
              "#fb9f3a"
             ],
             [
              0.8888888888888888,
              "#fdca26"
             ],
             [
              1,
              "#f0f921"
             ]
            ],
            "type": "histogram2dcontour"
           }
          ],
          "mesh3d": [
           {
            "colorbar": {
             "outlinewidth": 0,
             "ticks": ""
            },
            "type": "mesh3d"
           }
          ],
          "parcoords": [
           {
            "line": {
             "colorbar": {
              "outlinewidth": 0,
              "ticks": ""
             }
            },
            "type": "parcoords"
           }
          ],
          "pie": [
           {
            "automargin": true,
            "type": "pie"
           }
          ],
          "scatter": [
           {
            "fillpattern": {
             "fillmode": "overlay",
             "size": 10,
             "solidity": 0.2
            },
            "type": "scatter"
           }
          ],
          "scatter3d": [
           {
            "line": {
             "colorbar": {
              "outlinewidth": 0,
              "ticks": ""
             }
            },
            "marker": {
             "colorbar": {
              "outlinewidth": 0,
              "ticks": ""
             }
            },
            "type": "scatter3d"
           }
          ],
          "scattercarpet": [
           {
            "marker": {
             "colorbar": {
              "outlinewidth": 0,
              "ticks": ""
             }
            },
            "type": "scattercarpet"
           }
          ],
          "scattergeo": [
           {
            "marker": {
             "colorbar": {
              "outlinewidth": 0,
              "ticks": ""
             }
            },
            "type": "scattergeo"
           }
          ],
          "scattergl": [
           {
            "marker": {
             "colorbar": {
              "outlinewidth": 0,
              "ticks": ""
             }
            },
            "type": "scattergl"
           }
          ],
          "scattermapbox": [
           {
            "marker": {
             "colorbar": {
              "outlinewidth": 0,
              "ticks": ""
             }
            },
            "type": "scattermapbox"
           }
          ],
          "scatterpolar": [
           {
            "marker": {
             "colorbar": {
              "outlinewidth": 0,
              "ticks": ""
             }
            },
            "type": "scatterpolar"
           }
          ],
          "scatterpolargl": [
           {
            "marker": {
             "colorbar": {
              "outlinewidth": 0,
              "ticks": ""
             }
            },
            "type": "scatterpolargl"
           }
          ],
          "scatterternary": [
           {
            "marker": {
             "colorbar": {
              "outlinewidth": 0,
              "ticks": ""
             }
            },
            "type": "scatterternary"
           }
          ],
          "surface": [
           {
            "colorbar": {
             "outlinewidth": 0,
             "ticks": ""
            },
            "colorscale": [
             [
              0,
              "#0d0887"
             ],
             [
              0.1111111111111111,
              "#46039f"
             ],
             [
              0.2222222222222222,
              "#7201a8"
             ],
             [
              0.3333333333333333,
              "#9c179e"
             ],
             [
              0.4444444444444444,
              "#bd3786"
             ],
             [
              0.5555555555555556,
              "#d8576b"
             ],
             [
              0.6666666666666666,
              "#ed7953"
             ],
             [
              0.7777777777777778,
              "#fb9f3a"
             ],
             [
              0.8888888888888888,
              "#fdca26"
             ],
             [
              1,
              "#f0f921"
             ]
            ],
            "type": "surface"
           }
          ],
          "table": [
           {
            "cells": {
             "fill": {
              "color": "#EBF0F8"
             },
             "line": {
              "color": "white"
             }
            },
            "header": {
             "fill": {
              "color": "#C8D4E3"
             },
             "line": {
              "color": "white"
             }
            },
            "type": "table"
           }
          ]
         },
         "layout": {
          "annotationdefaults": {
           "arrowcolor": "#2a3f5f",
           "arrowhead": 0,
           "arrowwidth": 1
          },
          "autotypenumbers": "strict",
          "coloraxis": {
           "colorbar": {
            "outlinewidth": 0,
            "ticks": ""
           }
          },
          "colorscale": {
           "diverging": [
            [
             0,
             "#8e0152"
            ],
            [
             0.1,
             "#c51b7d"
            ],
            [
             0.2,
             "#de77ae"
            ],
            [
             0.3,
             "#f1b6da"
            ],
            [
             0.4,
             "#fde0ef"
            ],
            [
             0.5,
             "#f7f7f7"
            ],
            [
             0.6,
             "#e6f5d0"
            ],
            [
             0.7,
             "#b8e186"
            ],
            [
             0.8,
             "#7fbc41"
            ],
            [
             0.9,
             "#4d9221"
            ],
            [
             1,
             "#276419"
            ]
           ],
           "sequential": [
            [
             0,
             "#0d0887"
            ],
            [
             0.1111111111111111,
             "#46039f"
            ],
            [
             0.2222222222222222,
             "#7201a8"
            ],
            [
             0.3333333333333333,
             "#9c179e"
            ],
            [
             0.4444444444444444,
             "#bd3786"
            ],
            [
             0.5555555555555556,
             "#d8576b"
            ],
            [
             0.6666666666666666,
             "#ed7953"
            ],
            [
             0.7777777777777778,
             "#fb9f3a"
            ],
            [
             0.8888888888888888,
             "#fdca26"
            ],
            [
             1,
             "#f0f921"
            ]
           ],
           "sequentialminus": [
            [
             0,
             "#0d0887"
            ],
            [
             0.1111111111111111,
             "#46039f"
            ],
            [
             0.2222222222222222,
             "#7201a8"
            ],
            [
             0.3333333333333333,
             "#9c179e"
            ],
            [
             0.4444444444444444,
             "#bd3786"
            ],
            [
             0.5555555555555556,
             "#d8576b"
            ],
            [
             0.6666666666666666,
             "#ed7953"
            ],
            [
             0.7777777777777778,
             "#fb9f3a"
            ],
            [
             0.8888888888888888,
             "#fdca26"
            ],
            [
             1,
             "#f0f921"
            ]
           ]
          },
          "colorway": [
           "#636efa",
           "#EF553B",
           "#00cc96",
           "#ab63fa",
           "#FFA15A",
           "#19d3f3",
           "#FF6692",
           "#B6E880",
           "#FF97FF",
           "#FECB52"
          ],
          "font": {
           "color": "#2a3f5f"
          },
          "geo": {
           "bgcolor": "white",
           "lakecolor": "white",
           "landcolor": "#E5ECF6",
           "showlakes": true,
           "showland": true,
           "subunitcolor": "white"
          },
          "hoverlabel": {
           "align": "left"
          },
          "hovermode": "closest",
          "mapbox": {
           "style": "light"
          },
          "paper_bgcolor": "white",
          "plot_bgcolor": "#E5ECF6",
          "polar": {
           "angularaxis": {
            "gridcolor": "white",
            "linecolor": "white",
            "ticks": ""
           },
           "bgcolor": "#E5ECF6",
           "radialaxis": {
            "gridcolor": "white",
            "linecolor": "white",
            "ticks": ""
           }
          },
          "scene": {
           "xaxis": {
            "backgroundcolor": "#E5ECF6",
            "gridcolor": "white",
            "gridwidth": 2,
            "linecolor": "white",
            "showbackground": true,
            "ticks": "",
            "zerolinecolor": "white"
           },
           "yaxis": {
            "backgroundcolor": "#E5ECF6",
            "gridcolor": "white",
            "gridwidth": 2,
            "linecolor": "white",
            "showbackground": true,
            "ticks": "",
            "zerolinecolor": "white"
           },
           "zaxis": {
            "backgroundcolor": "#E5ECF6",
            "gridcolor": "white",
            "gridwidth": 2,
            "linecolor": "white",
            "showbackground": true,
            "ticks": "",
            "zerolinecolor": "white"
           }
          },
          "shapedefaults": {
           "line": {
            "color": "#2a3f5f"
           }
          },
          "ternary": {
           "aaxis": {
            "gridcolor": "white",
            "linecolor": "white",
            "ticks": ""
           },
           "baxis": {
            "gridcolor": "white",
            "linecolor": "white",
            "ticks": ""
           },
           "bgcolor": "#E5ECF6",
           "caxis": {
            "gridcolor": "white",
            "linecolor": "white",
            "ticks": ""
           }
          },
          "title": {
           "x": 0.05
          },
          "xaxis": {
           "automargin": true,
           "gridcolor": "white",
           "linecolor": "white",
           "ticks": "",
           "title": {
            "standoff": 15
           },
           "zerolinecolor": "white",
           "zerolinewidth": 2
          },
          "yaxis": {
           "automargin": true,
           "gridcolor": "white",
           "linecolor": "white",
           "ticks": "",
           "title": {
            "standoff": 15
           },
           "zerolinecolor": "white",
           "zerolinewidth": 2
          }
         }
        },
        "title": {
         "text": "Themenrelevanz nacc IC Verbindungen (2019-2022)"
        },
        "width": 900,
        "xaxis": {
         "anchor": "y",
         "automargin": true,
         "domain": [
          0,
          1
         ],
         "showgrid": false,
         "tickangle": 45,
         "tickfont": {
          "size": 12
         },
         "tickmode": "array",
         "ticktext": [
          "Ausstattung Qualität Rollmaterial",
          "Corona",
          "Fahrplanangebot",
          "Feedback Umfrage",
          "Internet, Wlan und Mobilfunk",
          "Kommerzielle Angebote",
          "Kundeninformation",
          "Lob",
          "Platzangebot Velo, Gepäck, Kinderwagen",
          "Platzangebot Zug",
          "Preis-Leistung",
          "Pünktlichkeit",
          "Raumtemperatur Zug",
          "Sauberkeit Zug und Bahnhof",
          "Security",
          "Sonstiges",
          "Vertrieb und Services",
          "WC Verfügbarkeit und Sauberkeit",
          "Ausstattung Qualität Rollmaterial",
          "Corona",
          "Fahrplanangebot",
          "Feedback Umfrage",
          "Internet, Wlan und Mobilfunk",
          "Kommerzielle Angebote",
          "Kundeninformation",
          "Lob",
          "Platzangebot Velo, Gepäck, Kinderwagen",
          "Platzangebot Zug",
          "Preis-Leistung",
          "Pünktlichkeit",
          "Raumtemperatur Zug",
          "Sauberkeit Zug und Bahnhof",
          "Security",
          "Sonstiges",
          "Vertrieb und Services",
          "WC Verfügbarkeit und Sauberkeit",
          "Ausstattung Qualität Rollmaterial",
          "Corona",
          "Fahrplanangebot",
          "Feedback Umfrage",
          "Internet, Wlan und Mobilfunk",
          "Kommerzielle Angebote",
          "Kundeninformation",
          "Lob",
          "Platzangebot Velo, Gepäck, Kinderwagen",
          "Platzangebot Zug",
          "Preis-Leistung",
          "Pünktlichkeit",
          "Raumtemperatur Zug",
          "Sauberkeit Zug und Bahnhof",
          "Security",
          "Sonstiges",
          "Vertrieb und Services",
          "WC Verfügbarkeit und Sauberkeit",
          "Ausstattung Qualität Rollmaterial",
          "Corona",
          "Fahrplanangebot",
          "Feedback Umfrage",
          "Internet, Wlan und Mobilfunk",
          "Kommerzielle Angebote",
          "Kundeninformation",
          "Lob",
          "Platzangebot Velo, Gepäck, Kinderwagen",
          "Platzangebot Zug",
          "Preis-Leistung",
          "Pünktlichkeit",
          "Raumtemperatur Zug",
          "Sauberkeit Zug und Bahnhof",
          "Security",
          "Sonstiges",
          "Vertrieb und Services",
          "WC Verfügbarkeit und Sauberkeit",
          "Ausstattung Qualität Rollmaterial",
          "Corona",
          "Fahrplanangebot",
          "Feedback Umfrage",
          "Internet, Wlan und Mobilfunk",
          "Kommerzielle Angebote",
          "Kundeninformation",
          "Lob",
          "Platzangebot Velo, Gepäck, Kinderwagen",
          "Platzangebot Zug",
          "Preis-Leistung",
          "Pünktlichkeit",
          "Raumtemperatur Zug",
          "Sauberkeit Zug und Bahnhof",
          "Security",
          "Sonstiges",
          "Vertrieb und Services",
          "WC Verfügbarkeit und Sauberkeit",
          "Ausstattung Qualität Rollmaterial",
          "Corona",
          "Fahrplanangebot",
          "Feedback Umfrage",
          "Internet, Wlan und Mobilfunk",
          "Kommerzielle Angebote",
          "Kundeninformation",
          "Lob",
          "Platzangebot Velo, Gepäck, Kinderwagen",
          "Platzangebot Zug",
          "Preis-Leistung",
          "Pünktlichkeit",
          "Raumtemperatur Zug",
          "Sauberkeit Zug und Bahnhof",
          "Security",
          "Sonstiges",
          "Vertrieb und Services",
          "WC Verfügbarkeit und Sauberkeit"
         ],
         "tickvals": [
          0,
          1,
          2,
          3,
          4,
          5,
          6,
          7,
          8,
          9,
          10,
          11,
          12,
          13,
          14,
          15,
          16,
          17,
          18,
          19,
          20,
          21,
          22,
          23,
          24,
          25,
          26,
          27,
          28,
          29,
          30,
          31,
          32,
          33,
          34,
          35,
          36,
          37,
          38,
          39,
          40,
          41,
          42,
          43,
          44,
          45,
          46,
          47,
          48,
          49,
          50,
          51,
          52,
          53,
          54,
          55,
          56,
          57,
          58,
          59,
          60,
          61,
          62,
          63,
          64,
          65,
          66,
          67,
          68,
          69,
          70,
          71,
          72,
          73,
          74,
          75,
          76,
          77,
          78,
          79,
          80,
          81,
          82,
          83,
          84,
          85,
          86,
          87,
          88,
          89,
          90,
          91,
          92,
          93,
          94,
          95,
          96,
          97,
          98,
          99,
          100,
          101,
          102,
          103,
          104,
          105,
          106,
          107
         ],
         "tickwidth": 1,
         "title": {
          "text": ""
         }
        },
        "yaxis": {
         "anchor": "x",
         "domain": [
          0,
          1
         ],
         "gridcolor": "rgba(0,0,0,0.1)",
         "gridwidth": 1,
         "range": [
          0,
          0.29
         ],
         "showgrid": true,
         "title": {
          "font": {
           "size": 12
          },
          "text": "Relative Häufigkeit"
         }
        }
       }
      }
     },
     "metadata": {},
     "output_type": "display_data"
    }
   ],
   "source": [
    "create_grouped_barchart(df_ft_vm,\n",
    "                        x_col=\"CustomName\",\n",
    "                        y_col=\"relative_count\",\n",
    "                        color_col=\"linie\",\n",
    "                        color_discrete_sequence=color_discrete_sequence,\n",
    "                        title=\"Themenrelevanz nacc IC Verbindungen (2019-2022)\",\n",
    "                        xaxis_title='',\n",
    "                        yaxis_title='Relative Häufigkeit',\n",
    "                        legend_title='',\n",
    "                        template=template,\n",
    "                        path=path,\n",
    "                        filename=\"Themenrelevanz_ICs\")"
   ]
  },
  {
   "cell_type": "code",
   "execution_count": 33,
   "metadata": {},
   "outputs": [],
   "source": [
    "fahrplanangebot_kommentare = df_linie[(df_linie['linie']=='IC 2') & (df_linie['CustomName']=='Fahrplanangebot')]['Kommentar']"
   ]
  },
  {
   "cell_type": "code",
   "execution_count": 35,
   "metadata": {},
   "outputs": [
    {
     "data": {
      "text/html": [
       "<div>\n",
       "<style scoped>\n",
       "    .dataframe tbody tr th:only-of-type {\n",
       "        vertical-align: middle;\n",
       "    }\n",
       "\n",
       "    .dataframe tbody tr th {\n",
       "        vertical-align: top;\n",
       "    }\n",
       "\n",
       "    .dataframe thead th {\n",
       "        text-align: right;\n",
       "    }\n",
       "</style>\n",
       "<table border=\"1\" class=\"dataframe\">\n",
       "  <thead>\n",
       "    <tr style=\"text-align: right;\">\n",
       "      <th></th>\n",
       "      <th>linie</th>\n",
       "      <th>avg_value</th>\n",
       "      <th>count</th>\n",
       "    </tr>\n",
       "  </thead>\n",
       "  <tbody>\n",
       "    <tr>\n",
       "      <th>0</th>\n",
       "      <td>IC 1</td>\n",
       "      <td>75.5</td>\n",
       "      <td>1976</td>\n",
       "    </tr>\n",
       "    <tr>\n",
       "      <th>5</th>\n",
       "      <td>IC 8</td>\n",
       "      <td>77.3</td>\n",
       "      <td>2654</td>\n",
       "    </tr>\n",
       "    <tr>\n",
       "      <th>4</th>\n",
       "      <td>IC 6</td>\n",
       "      <td>77.7</td>\n",
       "      <td>1717</td>\n",
       "    </tr>\n",
       "    <tr>\n",
       "      <th>1</th>\n",
       "      <td>IC 2</td>\n",
       "      <td>77.9</td>\n",
       "      <td>960</td>\n",
       "    </tr>\n",
       "    <tr>\n",
       "      <th>3</th>\n",
       "      <td>IC 5</td>\n",
       "      <td>78.5</td>\n",
       "      <td>2759</td>\n",
       "    </tr>\n",
       "    <tr>\n",
       "      <th>2</th>\n",
       "      <td>IC 3</td>\n",
       "      <td>79.4</td>\n",
       "      <td>1804</td>\n",
       "    </tr>\n",
       "  </tbody>\n",
       "</table>\n",
       "</div>"
      ],
      "text/plain": [
       "  linie  avg_value  count\n",
       "0  IC 1       75.5   1976\n",
       "5  IC 8       77.3   2654\n",
       "4  IC 6       77.7   1717\n",
       "1  IC 2       77.9    960\n",
       "3  IC 5       78.5   2759\n",
       "2  IC 3       79.4   1804"
      ]
     },
     "execution_count": 35,
     "metadata": {},
     "output_type": "execute_result"
    }
   ],
   "source": [
    "df_linie.groupby('linie').agg(avg_value=('wime_gesamtzuf', lambda x: round(x.mean(), 1)), count=('wime_gesamtzuf', 'count')).reset_index().sort_values(by='avg_value')"
   ]
  },
  {
   "cell_type": "code",
   "execution_count": 36,
   "metadata": {},
   "outputs": [
    {
     "data": {
      "text/plain": [
       "0       0 days 01:22:00\n",
       "1       0 days 00:47:00\n",
       "2       0 days 00:56:00\n",
       "3       0 days 00:41:00\n",
       "4       0 days 00:47:00\n",
       "              ...      \n",
       "45036   0 days 02:17:00\n",
       "45037   0 days 00:53:00\n",
       "45038   0 days 00:27:00\n",
       "45039   0 days 00:28:00\n",
       "45040   0 days 00:19:00\n",
       "Name: time_diff, Length: 45041, dtype: timedelta64[ns]"
      ]
     },
     "execution_count": 36,
     "metadata": {},
     "output_type": "execute_result"
    }
   ],
   "source": [
    "df.time_diff"
   ]
  },
  {
   "cell_type": "code",
   "execution_count": 37,
   "metadata": {},
   "outputs": [
    {
     "data": {
      "text/html": [
       "<div>\n",
       "<style scoped>\n",
       "    .dataframe tbody tr th:only-of-type {\n",
       "        vertical-align: middle;\n",
       "    }\n",
       "\n",
       "    .dataframe tbody tr th {\n",
       "        vertical-align: top;\n",
       "    }\n",
       "\n",
       "    .dataframe thead th {\n",
       "        text-align: right;\n",
       "    }\n",
       "</style>\n",
       "<table border=\"1\" class=\"dataframe\">\n",
       "  <thead>\n",
       "    <tr style=\"text-align: right;\">\n",
       "      <th></th>\n",
       "      <th>avg_value</th>\n",
       "    </tr>\n",
       "    <tr>\n",
       "      <th>linie</th>\n",
       "      <th></th>\n",
       "    </tr>\n",
       "  </thead>\n",
       "  <tbody>\n",
       "    <tr>\n",
       "      <th>IC 1</th>\n",
       "      <td>93</td>\n",
       "    </tr>\n",
       "    <tr>\n",
       "      <th>IC 2</th>\n",
       "      <td>132</td>\n",
       "    </tr>\n",
       "    <tr>\n",
       "      <th>IC 3</th>\n",
       "      <td>111</td>\n",
       "    </tr>\n",
       "    <tr>\n",
       "      <th>IC 5</th>\n",
       "      <td>77</td>\n",
       "    </tr>\n",
       "    <tr>\n",
       "      <th>IC 6</th>\n",
       "      <td>78</td>\n",
       "    </tr>\n",
       "    <tr>\n",
       "      <th>IC 8</th>\n",
       "      <td>96</td>\n",
       "    </tr>\n",
       "  </tbody>\n",
       "</table>\n",
       "</div>"
      ],
      "text/plain": [
       "       avg_value\n",
       "linie           \n",
       "IC 1          93\n",
       "IC 2         132\n",
       "IC 3         111\n",
       "IC 5          77\n",
       "IC 6          78\n",
       "IC 8          96"
      ]
     },
     "execution_count": 37,
     "metadata": {},
     "output_type": "execute_result"
    }
   ],
   "source": [
    "df_linie.groupby('linie').agg(avg_value=('time_diff', lambda x: round(x[x >= pd.Timedelta(0)].median().total_seconds()/60)))"
   ]
  },
  {
   "cell_type": "code",
   "execution_count": 38,
   "metadata": {},
   "outputs": [
    {
     "data": {
      "text/html": [
       "<div>\n",
       "<style scoped>\n",
       "    .dataframe tbody tr th:only-of-type {\n",
       "        vertical-align: middle;\n",
       "    }\n",
       "\n",
       "    .dataframe tbody tr th {\n",
       "        vertical-align: top;\n",
       "    }\n",
       "\n",
       "    .dataframe thead th {\n",
       "        text-align: right;\n",
       "    }\n",
       "</style>\n",
       "<table border=\"1\" class=\"dataframe\">\n",
       "  <thead>\n",
       "    <tr style=\"text-align: right;\">\n",
       "      <th></th>\n",
       "      <th>avg_value</th>\n",
       "    </tr>\n",
       "    <tr>\n",
       "      <th>linie</th>\n",
       "      <th></th>\n",
       "    </tr>\n",
       "  </thead>\n",
       "  <tbody>\n",
       "    <tr>\n",
       "      <th>IC 1</th>\n",
       "      <td>32</td>\n",
       "    </tr>\n",
       "    <tr>\n",
       "      <th>IC 2</th>\n",
       "      <td>32</td>\n",
       "    </tr>\n",
       "    <tr>\n",
       "      <th>IC 3</th>\n",
       "      <td>31</td>\n",
       "    </tr>\n",
       "    <tr>\n",
       "      <th>IC 5</th>\n",
       "      <td>23</td>\n",
       "    </tr>\n",
       "    <tr>\n",
       "      <th>IC 6</th>\n",
       "      <td>26</td>\n",
       "    </tr>\n",
       "    <tr>\n",
       "      <th>IC 8</th>\n",
       "      <td>33</td>\n",
       "    </tr>\n",
       "  </tbody>\n",
       "</table>\n",
       "</div>"
      ],
      "text/plain": [
       "       avg_value\n",
       "linie           \n",
       "IC 1          32\n",
       "IC 2          32\n",
       "IC 3          31\n",
       "IC 5          23\n",
       "IC 6          26\n",
       "IC 8          33"
      ]
     },
     "execution_count": 38,
     "metadata": {},
     "output_type": "execute_result"
    }
   ],
   "source": [
    "df_linie.groupby('linie').agg(avg_value=('u_preis', lambda x: round(x[x <= 500].median())))\n",
    "#df_linie.groupby('linie').agg(avg_value=('S_alter', lambda x: round(x[x <= 98].median())))"
   ]
  },
  {
   "cell_type": "code",
   "execution_count": 44,
   "metadata": {},
   "outputs": [
    {
     "data": {
      "application/vnd.plotly.v1+json": {
       "config": {
        "plotlyServerURL": "https://plot.ly"
       },
       "data": [
        {
         "alignmentgroup": "True",
         "customdata": [
          [
           "Easy Ride"
          ],
          [
           "Easy Ride"
          ],
          [
           "Easy Ride"
          ],
          [
           "Easy Ride"
          ],
          [
           "Easy Ride"
          ],
          [
           "Easy Ride"
          ],
          [
           "Easy Ride"
          ],
          [
           "Easy Ride"
          ],
          [
           "Easy Ride"
          ],
          [
           "Easy Ride"
          ],
          [
           "Easy Ride"
          ],
          [
           "Easy Ride"
          ],
          [
           "Easy Ride"
          ],
          [
           "Easy Ride"
          ],
          [
           "Easy Ride"
          ],
          [
           "Easy Ride"
          ],
          [
           "Easy Ride"
          ],
          [
           "Easy Ride"
          ]
         ],
         "hovertemplate": "u_ticket=%{customdata[0]}<br>CustomName=%{x}<br>relative_count=%{y}<extra></extra>",
         "legendgroup": "Easy Ride",
         "marker": {
          "color": "#49787F",
          "pattern": {
           "shape": ""
          }
         },
         "name": "Easy Ride",
         "offsetgroup": "Easy Ride",
         "orientation": "v",
         "showlegend": true,
         "textposition": "auto",
         "type": "bar",
         "x": [
          "Ausstattung Qualität Rollmaterial",
          "Corona",
          "Fahrplanangebot",
          "Feedback Umfrage",
          "Internet, Wlan und Mobilfunk",
          "Kommerzielle Angebote",
          "Kundeninformation",
          "Lob",
          "Platzangebot Velo, Gepäck, Kinderwagen",
          "Platzangebot Zug",
          "Preis-Leistung",
          "Pünktlichkeit",
          "Raumtemperatur Zug",
          "Sauberkeit Zug und Bahnhof",
          "Security",
          "Sonstiges",
          "Vertrieb und Services",
          "WC Verfügbarkeit und Sauberkeit"
         ],
         "xaxis": "x",
         "y": [
          0.0301255230125523,
          0.0100418410041841,
          0.0794979079497908,
          0.019246861924686193,
          0.017573221757322177,
          0.045188284518828455,
          0.029288702928870293,
          0.06778242677824267,
          0.058577405857740586,
          0.09037656903765691,
          0.05355648535564853,
          0.198326359832636,
          0.0401673640167364,
          0.017573221757322177,
          0.0301255230125523,
          0.0602510460251046,
          0.10460251046025104,
          0.03598326359832636
         ],
         "yaxis": "y"
        },
        {
         "alignmentgroup": "True",
         "customdata": [
          [
           "Mobile-Ticket"
          ],
          [
           "Mobile-Ticket"
          ],
          [
           "Mobile-Ticket"
          ],
          [
           "Mobile-Ticket"
          ],
          [
           "Mobile-Ticket"
          ],
          [
           "Mobile-Ticket"
          ],
          [
           "Mobile-Ticket"
          ],
          [
           "Mobile-Ticket"
          ],
          [
           "Mobile-Ticket"
          ],
          [
           "Mobile-Ticket"
          ],
          [
           "Mobile-Ticket"
          ],
          [
           "Mobile-Ticket"
          ],
          [
           "Mobile-Ticket"
          ],
          [
           "Mobile-Ticket"
          ],
          [
           "Mobile-Ticket"
          ],
          [
           "Mobile-Ticket"
          ],
          [
           "Mobile-Ticket"
          ],
          [
           "Mobile-Ticket"
          ]
         ],
         "hovertemplate": "u_ticket=%{customdata[0]}<br>CustomName=%{x}<br>relative_count=%{y}<extra></extra>",
         "legendgroup": "Mobile-Ticket",
         "marker": {
          "color": "#A96262",
          "pattern": {
           "shape": ""
          }
         },
         "name": "Mobile-Ticket",
         "offsetgroup": "Mobile-Ticket",
         "orientation": "v",
         "showlegend": true,
         "textposition": "auto",
         "type": "bar",
         "x": [
          "Ausstattung Qualität Rollmaterial",
          "Corona",
          "Fahrplanangebot",
          "Feedback Umfrage",
          "Internet, Wlan und Mobilfunk",
          "Kommerzielle Angebote",
          "Kundeninformation",
          "Lob",
          "Platzangebot Velo, Gepäck, Kinderwagen",
          "Platzangebot Zug",
          "Preis-Leistung",
          "Pünktlichkeit",
          "Raumtemperatur Zug",
          "Sauberkeit Zug und Bahnhof",
          "Security",
          "Sonstiges",
          "Vertrieb und Services",
          "WC Verfügbarkeit und Sauberkeit"
         ],
         "xaxis": "x",
         "y": [
          0.027160080375083724,
          0.04102478231748158,
          0.07354320160750168,
          0.01858673811118553,
          0.02026121902210315,
          0.025853985264567985,
          0.021667782987273947,
          0.054989953114534494,
          0.054989953114534494,
          0.11426657736101808,
          0.09755525787006028,
          0.1714333556597455,
          0.032116543871399866,
          0.030073677160080376,
          0.03218352310783657,
          0.04825853985264568,
          0.08590087073007367,
          0.04202947086403215
         ],
         "yaxis": "y"
        },
        {
         "alignmentgroup": "True",
         "customdata": [
          [
           "Online-Ticket"
          ],
          [
           "Online-Ticket"
          ],
          [
           "Online-Ticket"
          ],
          [
           "Online-Ticket"
          ],
          [
           "Online-Ticket"
          ],
          [
           "Online-Ticket"
          ],
          [
           "Online-Ticket"
          ],
          [
           "Online-Ticket"
          ],
          [
           "Online-Ticket"
          ],
          [
           "Online-Ticket"
          ],
          [
           "Online-Ticket"
          ],
          [
           "Online-Ticket"
          ],
          [
           "Online-Ticket"
          ],
          [
           "Online-Ticket"
          ],
          [
           "Online-Ticket"
          ],
          [
           "Online-Ticket"
          ],
          [
           "Online-Ticket"
          ],
          [
           "Online-Ticket"
          ]
         ],
         "hovertemplate": "u_ticket=%{customdata[0]}<br>CustomName=%{x}<br>relative_count=%{y}<extra></extra>",
         "legendgroup": "Online-Ticket",
         "marker": {
          "color": "#F06969",
          "pattern": {
           "shape": ""
          }
         },
         "name": "Online-Ticket",
         "offsetgroup": "Online-Ticket",
         "orientation": "v",
         "showlegend": true,
         "textposition": "auto",
         "type": "bar",
         "x": [
          "Ausstattung Qualität Rollmaterial",
          "Corona",
          "Fahrplanangebot",
          "Feedback Umfrage",
          "Internet, Wlan und Mobilfunk",
          "Kommerzielle Angebote",
          "Kundeninformation",
          "Lob",
          "Platzangebot Velo, Gepäck, Kinderwagen",
          "Platzangebot Zug",
          "Preis-Leistung",
          "Pünktlichkeit",
          "Raumtemperatur Zug",
          "Sauberkeit Zug und Bahnhof",
          "Security",
          "Sonstiges",
          "Vertrieb und Services",
          "WC Verfügbarkeit und Sauberkeit"
         ],
         "xaxis": "x",
         "y": [
          0.022997620935765267,
          0.02914353687549564,
          0.05551149881046788,
          0.022204599524187154,
          0.029540047581284694,
          0.03251387787470262,
          0.023790642347343377,
          0.06106264869151467,
          0.04103885804916733,
          0.1048770816812054,
          0.10011895321173672,
          0.2174861221252974,
          0.031522601110229975,
          0.027160983346550358,
          0.02795400475812847,
          0.04183187946074544,
          0.08643933386201427,
          0.037073750991276765
         ],
         "yaxis": "y"
        }
       ],
       "layout": {
        "barmode": "group",
        "height": 600,
        "legend": {
         "title": {
          "text": ""
         },
         "tracegroupgap": 0
        },
        "margin": {
         "t": 60
        },
        "template": {
         "data": {
          "bar": [
           {
            "error_x": {
             "color": "#2a3f5f"
            },
            "error_y": {
             "color": "#2a3f5f"
            },
            "marker": {
             "line": {
              "color": "#E5ECF6",
              "width": 0.5
             },
             "pattern": {
              "fillmode": "overlay",
              "size": 10,
              "solidity": 0.2
             }
            },
            "type": "bar"
           }
          ],
          "barpolar": [
           {
            "marker": {
             "line": {
              "color": "#E5ECF6",
              "width": 0.5
             },
             "pattern": {
              "fillmode": "overlay",
              "size": 10,
              "solidity": 0.2
             }
            },
            "type": "barpolar"
           }
          ],
          "carpet": [
           {
            "aaxis": {
             "endlinecolor": "#2a3f5f",
             "gridcolor": "white",
             "linecolor": "white",
             "minorgridcolor": "white",
             "startlinecolor": "#2a3f5f"
            },
            "baxis": {
             "endlinecolor": "#2a3f5f",
             "gridcolor": "white",
             "linecolor": "white",
             "minorgridcolor": "white",
             "startlinecolor": "#2a3f5f"
            },
            "type": "carpet"
           }
          ],
          "choropleth": [
           {
            "colorbar": {
             "outlinewidth": 0,
             "ticks": ""
            },
            "type": "choropleth"
           }
          ],
          "contour": [
           {
            "colorbar": {
             "outlinewidth": 0,
             "ticks": ""
            },
            "colorscale": [
             [
              0,
              "#0d0887"
             ],
             [
              0.1111111111111111,
              "#46039f"
             ],
             [
              0.2222222222222222,
              "#7201a8"
             ],
             [
              0.3333333333333333,
              "#9c179e"
             ],
             [
              0.4444444444444444,
              "#bd3786"
             ],
             [
              0.5555555555555556,
              "#d8576b"
             ],
             [
              0.6666666666666666,
              "#ed7953"
             ],
             [
              0.7777777777777778,
              "#fb9f3a"
             ],
             [
              0.8888888888888888,
              "#fdca26"
             ],
             [
              1,
              "#f0f921"
             ]
            ],
            "type": "contour"
           }
          ],
          "contourcarpet": [
           {
            "colorbar": {
             "outlinewidth": 0,
             "ticks": ""
            },
            "type": "contourcarpet"
           }
          ],
          "heatmap": [
           {
            "colorbar": {
             "outlinewidth": 0,
             "ticks": ""
            },
            "colorscale": [
             [
              0,
              "#0d0887"
             ],
             [
              0.1111111111111111,
              "#46039f"
             ],
             [
              0.2222222222222222,
              "#7201a8"
             ],
             [
              0.3333333333333333,
              "#9c179e"
             ],
             [
              0.4444444444444444,
              "#bd3786"
             ],
             [
              0.5555555555555556,
              "#d8576b"
             ],
             [
              0.6666666666666666,
              "#ed7953"
             ],
             [
              0.7777777777777778,
              "#fb9f3a"
             ],
             [
              0.8888888888888888,
              "#fdca26"
             ],
             [
              1,
              "#f0f921"
             ]
            ],
            "type": "heatmap"
           }
          ],
          "heatmapgl": [
           {
            "colorbar": {
             "outlinewidth": 0,
             "ticks": ""
            },
            "colorscale": [
             [
              0,
              "#0d0887"
             ],
             [
              0.1111111111111111,
              "#46039f"
             ],
             [
              0.2222222222222222,
              "#7201a8"
             ],
             [
              0.3333333333333333,
              "#9c179e"
             ],
             [
              0.4444444444444444,
              "#bd3786"
             ],
             [
              0.5555555555555556,
              "#d8576b"
             ],
             [
              0.6666666666666666,
              "#ed7953"
             ],
             [
              0.7777777777777778,
              "#fb9f3a"
             ],
             [
              0.8888888888888888,
              "#fdca26"
             ],
             [
              1,
              "#f0f921"
             ]
            ],
            "type": "heatmapgl"
           }
          ],
          "histogram": [
           {
            "marker": {
             "pattern": {
              "fillmode": "overlay",
              "size": 10,
              "solidity": 0.2
             }
            },
            "type": "histogram"
           }
          ],
          "histogram2d": [
           {
            "colorbar": {
             "outlinewidth": 0,
             "ticks": ""
            },
            "colorscale": [
             [
              0,
              "#0d0887"
             ],
             [
              0.1111111111111111,
              "#46039f"
             ],
             [
              0.2222222222222222,
              "#7201a8"
             ],
             [
              0.3333333333333333,
              "#9c179e"
             ],
             [
              0.4444444444444444,
              "#bd3786"
             ],
             [
              0.5555555555555556,
              "#d8576b"
             ],
             [
              0.6666666666666666,
              "#ed7953"
             ],
             [
              0.7777777777777778,
              "#fb9f3a"
             ],
             [
              0.8888888888888888,
              "#fdca26"
             ],
             [
              1,
              "#f0f921"
             ]
            ],
            "type": "histogram2d"
           }
          ],
          "histogram2dcontour": [
           {
            "colorbar": {
             "outlinewidth": 0,
             "ticks": ""
            },
            "colorscale": [
             [
              0,
              "#0d0887"
             ],
             [
              0.1111111111111111,
              "#46039f"
             ],
             [
              0.2222222222222222,
              "#7201a8"
             ],
             [
              0.3333333333333333,
              "#9c179e"
             ],
             [
              0.4444444444444444,
              "#bd3786"
             ],
             [
              0.5555555555555556,
              "#d8576b"
             ],
             [
              0.6666666666666666,
              "#ed7953"
             ],
             [
              0.7777777777777778,
              "#fb9f3a"
             ],
             [
              0.8888888888888888,
              "#fdca26"
             ],
             [
              1,
              "#f0f921"
             ]
            ],
            "type": "histogram2dcontour"
           }
          ],
          "mesh3d": [
           {
            "colorbar": {
             "outlinewidth": 0,
             "ticks": ""
            },
            "type": "mesh3d"
           }
          ],
          "parcoords": [
           {
            "line": {
             "colorbar": {
              "outlinewidth": 0,
              "ticks": ""
             }
            },
            "type": "parcoords"
           }
          ],
          "pie": [
           {
            "automargin": true,
            "type": "pie"
           }
          ],
          "scatter": [
           {
            "fillpattern": {
             "fillmode": "overlay",
             "size": 10,
             "solidity": 0.2
            },
            "type": "scatter"
           }
          ],
          "scatter3d": [
           {
            "line": {
             "colorbar": {
              "outlinewidth": 0,
              "ticks": ""
             }
            },
            "marker": {
             "colorbar": {
              "outlinewidth": 0,
              "ticks": ""
             }
            },
            "type": "scatter3d"
           }
          ],
          "scattercarpet": [
           {
            "marker": {
             "colorbar": {
              "outlinewidth": 0,
              "ticks": ""
             }
            },
            "type": "scattercarpet"
           }
          ],
          "scattergeo": [
           {
            "marker": {
             "colorbar": {
              "outlinewidth": 0,
              "ticks": ""
             }
            },
            "type": "scattergeo"
           }
          ],
          "scattergl": [
           {
            "marker": {
             "colorbar": {
              "outlinewidth": 0,
              "ticks": ""
             }
            },
            "type": "scattergl"
           }
          ],
          "scattermapbox": [
           {
            "marker": {
             "colorbar": {
              "outlinewidth": 0,
              "ticks": ""
             }
            },
            "type": "scattermapbox"
           }
          ],
          "scatterpolar": [
           {
            "marker": {
             "colorbar": {
              "outlinewidth": 0,
              "ticks": ""
             }
            },
            "type": "scatterpolar"
           }
          ],
          "scatterpolargl": [
           {
            "marker": {
             "colorbar": {
              "outlinewidth": 0,
              "ticks": ""
             }
            },
            "type": "scatterpolargl"
           }
          ],
          "scatterternary": [
           {
            "marker": {
             "colorbar": {
              "outlinewidth": 0,
              "ticks": ""
             }
            },
            "type": "scatterternary"
           }
          ],
          "surface": [
           {
            "colorbar": {
             "outlinewidth": 0,
             "ticks": ""
            },
            "colorscale": [
             [
              0,
              "#0d0887"
             ],
             [
              0.1111111111111111,
              "#46039f"
             ],
             [
              0.2222222222222222,
              "#7201a8"
             ],
             [
              0.3333333333333333,
              "#9c179e"
             ],
             [
              0.4444444444444444,
              "#bd3786"
             ],
             [
              0.5555555555555556,
              "#d8576b"
             ],
             [
              0.6666666666666666,
              "#ed7953"
             ],
             [
              0.7777777777777778,
              "#fb9f3a"
             ],
             [
              0.8888888888888888,
              "#fdca26"
             ],
             [
              1,
              "#f0f921"
             ]
            ],
            "type": "surface"
           }
          ],
          "table": [
           {
            "cells": {
             "fill": {
              "color": "#EBF0F8"
             },
             "line": {
              "color": "white"
             }
            },
            "header": {
             "fill": {
              "color": "#C8D4E3"
             },
             "line": {
              "color": "white"
             }
            },
            "type": "table"
           }
          ]
         },
         "layout": {
          "annotationdefaults": {
           "arrowcolor": "#2a3f5f",
           "arrowhead": 0,
           "arrowwidth": 1
          },
          "autotypenumbers": "strict",
          "coloraxis": {
           "colorbar": {
            "outlinewidth": 0,
            "ticks": ""
           }
          },
          "colorscale": {
           "diverging": [
            [
             0,
             "#8e0152"
            ],
            [
             0.1,
             "#c51b7d"
            ],
            [
             0.2,
             "#de77ae"
            ],
            [
             0.3,
             "#f1b6da"
            ],
            [
             0.4,
             "#fde0ef"
            ],
            [
             0.5,
             "#f7f7f7"
            ],
            [
             0.6,
             "#e6f5d0"
            ],
            [
             0.7,
             "#b8e186"
            ],
            [
             0.8,
             "#7fbc41"
            ],
            [
             0.9,
             "#4d9221"
            ],
            [
             1,
             "#276419"
            ]
           ],
           "sequential": [
            [
             0,
             "#0d0887"
            ],
            [
             0.1111111111111111,
             "#46039f"
            ],
            [
             0.2222222222222222,
             "#7201a8"
            ],
            [
             0.3333333333333333,
             "#9c179e"
            ],
            [
             0.4444444444444444,
             "#bd3786"
            ],
            [
             0.5555555555555556,
             "#d8576b"
            ],
            [
             0.6666666666666666,
             "#ed7953"
            ],
            [
             0.7777777777777778,
             "#fb9f3a"
            ],
            [
             0.8888888888888888,
             "#fdca26"
            ],
            [
             1,
             "#f0f921"
            ]
           ],
           "sequentialminus": [
            [
             0,
             "#0d0887"
            ],
            [
             0.1111111111111111,
             "#46039f"
            ],
            [
             0.2222222222222222,
             "#7201a8"
            ],
            [
             0.3333333333333333,
             "#9c179e"
            ],
            [
             0.4444444444444444,
             "#bd3786"
            ],
            [
             0.5555555555555556,
             "#d8576b"
            ],
            [
             0.6666666666666666,
             "#ed7953"
            ],
            [
             0.7777777777777778,
             "#fb9f3a"
            ],
            [
             0.8888888888888888,
             "#fdca26"
            ],
            [
             1,
             "#f0f921"
            ]
           ]
          },
          "colorway": [
           "#636efa",
           "#EF553B",
           "#00cc96",
           "#ab63fa",
           "#FFA15A",
           "#19d3f3",
           "#FF6692",
           "#B6E880",
           "#FF97FF",
           "#FECB52"
          ],
          "font": {
           "color": "#2a3f5f"
          },
          "geo": {
           "bgcolor": "white",
           "lakecolor": "white",
           "landcolor": "#E5ECF6",
           "showlakes": true,
           "showland": true,
           "subunitcolor": "white"
          },
          "hoverlabel": {
           "align": "left"
          },
          "hovermode": "closest",
          "mapbox": {
           "style": "light"
          },
          "paper_bgcolor": "white",
          "plot_bgcolor": "#E5ECF6",
          "polar": {
           "angularaxis": {
            "gridcolor": "white",
            "linecolor": "white",
            "ticks": ""
           },
           "bgcolor": "#E5ECF6",
           "radialaxis": {
            "gridcolor": "white",
            "linecolor": "white",
            "ticks": ""
           }
          },
          "scene": {
           "xaxis": {
            "backgroundcolor": "#E5ECF6",
            "gridcolor": "white",
            "gridwidth": 2,
            "linecolor": "white",
            "showbackground": true,
            "ticks": "",
            "zerolinecolor": "white"
           },
           "yaxis": {
            "backgroundcolor": "#E5ECF6",
            "gridcolor": "white",
            "gridwidth": 2,
            "linecolor": "white",
            "showbackground": true,
            "ticks": "",
            "zerolinecolor": "white"
           },
           "zaxis": {
            "backgroundcolor": "#E5ECF6",
            "gridcolor": "white",
            "gridwidth": 2,
            "linecolor": "white",
            "showbackground": true,
            "ticks": "",
            "zerolinecolor": "white"
           }
          },
          "shapedefaults": {
           "line": {
            "color": "#2a3f5f"
           }
          },
          "ternary": {
           "aaxis": {
            "gridcolor": "white",
            "linecolor": "white",
            "ticks": ""
           },
           "baxis": {
            "gridcolor": "white",
            "linecolor": "white",
            "ticks": ""
           },
           "bgcolor": "#E5ECF6",
           "caxis": {
            "gridcolor": "white",
            "linecolor": "white",
            "ticks": ""
           }
          },
          "title": {
           "x": 0.05
          },
          "xaxis": {
           "automargin": true,
           "gridcolor": "white",
           "linecolor": "white",
           "ticks": "",
           "title": {
            "standoff": 15
           },
           "zerolinecolor": "white",
           "zerolinewidth": 2
          },
          "yaxis": {
           "automargin": true,
           "gridcolor": "white",
           "linecolor": "white",
           "ticks": "",
           "title": {
            "standoff": 15
           },
           "zerolinecolor": "white",
           "zerolinewidth": 2
          }
         }
        },
        "title": {
         "text": "Themenrelevanz nach Ticket (2019-2022)"
        },
        "width": 900,
        "xaxis": {
         "anchor": "y",
         "automargin": true,
         "domain": [
          0,
          1
         ],
         "showgrid": false,
         "tickangle": 45,
         "tickfont": {
          "size": 12
         },
         "tickmode": "array",
         "ticktext": [
          "Ausstattung Qualität Rollmaterial",
          "Corona",
          "Fahrplanangebot",
          "Feedback Umfrage",
          "Internet, Wlan und Mobilfunk",
          "Kommerzielle Angebote",
          "Kundeninformation",
          "Lob",
          "Platzangebot Velo, Gepäck, Kinderwagen",
          "Platzangebot Zug",
          "Preis-Leistung",
          "Pünktlichkeit",
          "Raumtemperatur Zug",
          "Sauberkeit Zug und Bahnhof",
          "Security",
          "Sonstiges",
          "Vertrieb und Services",
          "WC Verfügbarkeit und Sauberkeit",
          "Ausstattung Qualität Rollmaterial",
          "Corona",
          "Fahrplanangebot",
          "Feedback Umfrage",
          "Internet, Wlan und Mobilfunk",
          "Kommerzielle Angebote",
          "Kundeninformation",
          "Lob",
          "Platzangebot Velo, Gepäck, Kinderwagen",
          "Platzangebot Zug",
          "Preis-Leistung",
          "Pünktlichkeit",
          "Raumtemperatur Zug",
          "Sauberkeit Zug und Bahnhof",
          "Security",
          "Sonstiges",
          "Vertrieb und Services",
          "WC Verfügbarkeit und Sauberkeit",
          "Ausstattung Qualität Rollmaterial",
          "Corona",
          "Fahrplanangebot",
          "Feedback Umfrage",
          "Internet, Wlan und Mobilfunk",
          "Kommerzielle Angebote",
          "Kundeninformation",
          "Lob",
          "Platzangebot Velo, Gepäck, Kinderwagen",
          "Platzangebot Zug",
          "Preis-Leistung",
          "Pünktlichkeit",
          "Raumtemperatur Zug",
          "Sauberkeit Zug und Bahnhof",
          "Security",
          "Sonstiges",
          "Vertrieb und Services",
          "WC Verfügbarkeit und Sauberkeit"
         ],
         "tickvals": [
          0,
          1,
          2,
          3,
          4,
          5,
          6,
          7,
          8,
          9,
          10,
          11,
          12,
          13,
          14,
          15,
          16,
          17,
          18,
          19,
          20,
          21,
          22,
          23,
          24,
          25,
          26,
          27,
          28,
          29,
          30,
          31,
          32,
          33,
          34,
          35,
          36,
          37,
          38,
          39,
          40,
          41,
          42,
          43,
          44,
          45,
          46,
          47,
          48,
          49,
          50,
          51,
          52,
          53
         ],
         "tickwidth": 1,
         "title": {
          "text": ""
         }
        },
        "yaxis": {
         "anchor": "x",
         "domain": [
          0,
          1
         ],
         "gridcolor": "rgba(0,0,0,0.1)",
         "gridwidth": 1,
         "range": [
          0,
          0.29
         ],
         "showgrid": true,
         "title": {
          "font": {
           "size": 12
          },
          "text": "Relative Häufigkeit"
         }
        }
       }
      }
     },
     "metadata": {},
     "output_type": "display_data"
    }
   ],
   "source": [
    "create_grouped_barchart(df_u_ticket,\n",
    "                        x_col=\"CustomName\",\n",
    "                        y_col=\"relative_count\",\n",
    "                        color_col=\"u_ticket\",\n",
    "                        color_discrete_sequence=color_discrete_sequence,\n",
    "                        title=\"Themenrelevanz nach Ticket (2019-2022)\",\n",
    "                        xaxis_title='',\n",
    "                        yaxis_title='',\n",
    "                        legend_title='',\n",
    "                        template=template,\n",
    "                        path=path,\n",
    "                        filename=\"Themenrelevanz_Ticket\")"
   ]
  },
  {
   "attachments": {},
   "cell_type": "markdown",
   "metadata": {},
   "source": [
    "## Topic and Satisfaction"
   ]
  },
  {
   "cell_type": "code",
   "execution_count": 45,
   "metadata": {},
   "outputs": [],
   "source": [
    "# group by CustomName and calculate the mean of wime_gesamtzuf, rounded to 1 decimal place\n",
    "df_grouped = df.groupby('CustomName').agg(avg_value=('wime_gesamtzuf', lambda x: round(x.mean(), 1)), count=('wime_gesamtzuf', 'count')).reset_index().sort_values(by='avg_value')\n",
    "df_grouped  = df_grouped[df_grouped ['CustomName'] != 'Outlier']"
   ]
  },
  {
   "cell_type": "code",
   "execution_count": 46,
   "metadata": {},
   "outputs": [
    {
     "data": {
      "text/plain": [
       "84.59906038864929"
      ]
     },
     "execution_count": 46,
     "metadata": {},
     "output_type": "execute_result"
    }
   ],
   "source": [
    "# Gesamtzufriedenheit aller Daten mit und Ohne Kommentar\n",
    "filelocation = '../../data/DataClean'\n",
    "datafull = pd.read_feather(filelocation)\n",
    "datafull.wime_gesamtzuf.mean()"
   ]
  },
  {
   "cell_type": "code",
   "execution_count": 47,
   "metadata": {},
   "outputs": [
    {
     "data": {
      "text/plain": [
       "Timedelta('0 days 00:31:59.549575899')"
      ]
     },
     "execution_count": 47,
     "metadata": {},
     "output_type": "execute_result"
    }
   ],
   "source": [
    "df[df.ft_vm_kurz=='S'].time_diff.mean()"
   ]
  },
  {
   "cell_type": "code",
   "execution_count": 48,
   "metadata": {},
   "outputs": [
    {
     "data": {
      "text/plain": [
       "50.8675996778091"
      ]
     },
     "execution_count": 48,
     "metadata": {},
     "output_type": "execute_result"
    }
   ],
   "source": [
    "df[df.u_ticket=='Mobile-Ticket'].S_alter.mean()"
   ]
  },
  {
   "cell_type": "code",
   "execution_count": 58,
   "metadata": {},
   "outputs": [
    {
     "data": {
      "text/plain": [
       "78.8783601916629"
      ]
     },
     "execution_count": 58,
     "metadata": {},
     "output_type": "execute_result"
    }
   ],
   "source": [
    "data.wime_gesamtzuf.mean()"
   ]
  },
  {
   "cell_type": "code",
   "execution_count": 49,
   "metadata": {},
   "outputs": [],
   "source": [
    "df_grouped['delta'] = df_grouped['avg_value']-datafull.wime_gesamtzuf.mean().round(1)"
   ]
  },
  {
   "attachments": {},
   "cell_type": "markdown",
   "metadata": {},
   "source": [
    "## Personas"
   ]
  },
  {
   "cell_type": "code",
   "execution_count": 30,
   "metadata": {},
   "outputs": [],
   "source": [
    "## Christina\n",
    "df_Christina = df[(df['S_alter_grouped']=='45-64 Jahre') & \n",
    "                  (df['u_klassencode']=='2. Klasse') & \n",
    "                  (df['S_AB3_HTA']=='ja') &\n",
    "                  (df['S_sex']=='weiblich')].reset_index()\n",
    "df_Christina['Persona'] = 'Christina'\n",
    "\n",
    "df_Christina = compute_categorical_counts(df_Christina, categorical_col='Persona', name_col=\"CustomName\")\n",
    "df_Christina = df_Christina[df_Christina[\"CustomName\"] != 'Outlier']\n",
    "\n",
    "## Christina\n",
    "df_Lea = df[(df['S_alter_grouped']=='45-64 Jahre') & \n",
    "                  (df['u_klassencode']=='2. Klasse') & \n",
    "                  (df['u_fahrausweis']=='GA') &\n",
    "                  (df['S_sex']=='weiblich')].reset_index()\n",
    "df_Lea['Persona'] = 'Lea'\n",
    "\n",
    "df_Lea = compute_categorical_counts(df_Lea, categorical_col='Persona', name_col=\"CustomName\")\n",
    "df_Lea = df_Lea[df_Lea[\"CustomName\"] != 'Outlier']\n",
    "\n",
    "## Andreas\n",
    "df_Andreas = df[(df['S_alter_grouped']=='45-64 Jahre') & \n",
    "                  (df['u_klassencode']=='1. Klasse') & \n",
    "                  (df['u_fahrausweis']=='Normales Billett') &\n",
    "                  (df['S_sex']=='männlich')].reset_index()\n",
    "df_Andreas['Persona'] = 'Andreas'\n",
    "\n",
    "df_Andreas = compute_categorical_counts(df_Andreas, categorical_col='Persona', name_col=\"CustomName\")\n",
    "df_Andreas = df_Andreas[df_Andreas[\"CustomName\"] != 'Outlier']\n",
    "\n",
    "## Francesco\n",
    "df_Francesco = df[(df['S_alter_grouped']=='25-44 Jahre') & \n",
    "                  (df['u_klassencode']=='2. Klasse') & \n",
    "                  (df['S_AB3_HTA']=='ja') &\n",
    "                  (df['S_sex']=='männlich')].reset_index()\n",
    "df_Francesco['Persona'] = 'Francesco'\n",
    "\n",
    "df_Francesco = compute_categorical_counts(df_Francesco, categorical_col='Persona', name_col=\"CustomName\")\n",
    "df_Francesco = df_Francesco[df_Francesco[\"CustomName\"] != 'Outlier']\n",
    "\n",
    "\n",
    "\n",
    "\n",
    "df_persona = df_Christina.append(df_Lea)\n",
    "df_persona = df_persona.append(df_Andreas)\n",
    "df_persona = df_persona.append(df_Francesco)"
   ]
  },
  {
   "cell_type": "code",
   "execution_count": 105,
   "metadata": {},
   "outputs": [
    {
     "data": {
      "application/vnd.plotly.v1+json": {
       "config": {
        "plotlyServerURL": "https://plot.ly"
       },
       "data": [
        {
         "alignmentgroup": "True",
         "customdata": [
          [
           "Christina"
          ],
          [
           "Christina"
          ],
          [
           "Christina"
          ],
          [
           "Christina"
          ],
          [
           "Christina"
          ],
          [
           "Christina"
          ],
          [
           "Christina"
          ],
          [
           "Christina"
          ],
          [
           "Christina"
          ],
          [
           "Christina"
          ],
          [
           "Christina"
          ],
          [
           "Christina"
          ],
          [
           "Christina"
          ],
          [
           "Christina"
          ],
          [
           "Christina"
          ],
          [
           "Christina"
          ],
          [
           "Christina"
          ],
          [
           "Christina"
          ]
         ],
         "hovertemplate": "Persona=%{customdata[0]}<br>CustomName=%{x}<br>relative_count=%{y}<extra></extra>",
         "legendgroup": "Christina",
         "marker": {
          "color": "#0B1F26",
          "pattern": {
           "shape": ""
          }
         },
         "name": "Christina",
         "offsetgroup": "Christina",
         "orientation": "v",
         "showlegend": true,
         "textposition": "auto",
         "type": "bar",
         "x": [
          "Ausstattung Qualität Rollmaterial",
          "Corona",
          "Fahrplanangebot",
          "Feedback Umfrage",
          "Internet, Wlan und Mobilfunk",
          "Kommerzielle Angebote",
          "Kundeninformation",
          "Lob",
          "Platzangebot Velo, Gepäck, Kinderwagen",
          "Platzangebot Zug",
          "Preis-Leistung",
          "Pünktlichkeit",
          "Raumtemperatur Zug",
          "Sauberkeit Zug und Bahnhof",
          "Security",
          "Sonstiges",
          "Vertrieb und Services",
          "WC Verfügbarkeit und Sauberkeit"
         ],
         "xaxis": "x",
         "y": [
          0.016423357664233577,
          0.048418491484184915,
          0.07481751824817519,
          0.016180048661800485,
          0.018369829683698297,
          0.027737226277372264,
          0.023114355231143552,
          0.05401459854014599,
          0.0621654501216545,
          0.11131386861313869,
          0.074330900243309,
          0.1805352798053528,
          0.035888077858880776,
          0.032846715328467155,
          0.0427007299270073,
          0.04452554744525548,
          0.07554744525547445,
          0.05510948905109489
         ],
         "yaxis": "y"
        },
        {
         "alignmentgroup": "True",
         "customdata": [
          [
           "Lea"
          ],
          [
           "Lea"
          ],
          [
           "Lea"
          ],
          [
           "Lea"
          ],
          [
           "Lea"
          ],
          [
           "Lea"
          ],
          [
           "Lea"
          ],
          [
           "Lea"
          ],
          [
           "Lea"
          ],
          [
           "Lea"
          ],
          [
           "Lea"
          ],
          [
           "Lea"
          ],
          [
           "Lea"
          ],
          [
           "Lea"
          ],
          [
           "Lea"
          ],
          [
           "Lea"
          ],
          [
           "Lea"
          ],
          [
           "Lea"
          ]
         ],
         "hovertemplate": "Persona=%{customdata[0]}<br>CustomName=%{x}<br>relative_count=%{y}<extra></extra>",
         "legendgroup": "Lea",
         "marker": {
          "color": "#3F89A6",
          "pattern": {
           "shape": ""
          }
         },
         "name": "Lea",
         "offsetgroup": "Lea",
         "orientation": "v",
         "showlegend": true,
         "textposition": "auto",
         "type": "bar",
         "x": [
          "Ausstattung Qualität Rollmaterial",
          "Corona",
          "Fahrplanangebot",
          "Feedback Umfrage",
          "Internet, Wlan und Mobilfunk",
          "Kommerzielle Angebote",
          "Kundeninformation",
          "Lob",
          "Platzangebot Velo, Gepäck, Kinderwagen",
          "Platzangebot Zug",
          "Preis-Leistung",
          "Pünktlichkeit",
          "Raumtemperatur Zug",
          "Sauberkeit Zug und Bahnhof",
          "Security",
          "Sonstiges",
          "Vertrieb und Services",
          "WC Verfügbarkeit und Sauberkeit"
         ],
         "xaxis": "x",
         "y": [
          0.025684931506849314,
          0.0821917808219178,
          0.05136986301369863,
          0.00684931506849315,
          0.017123287671232876,
          0.04280821917808219,
          0.0410958904109589,
          0.06164383561643835,
          0.030821917808219176,
          0.12157534246575342,
          0.039383561643835614,
          0.20376712328767124,
          0.0410958904109589,
          0.0410958904109589,
          0.04965753424657534,
          0.0547945205479452,
          0.02226027397260274,
          0.059931506849315065
         ],
         "yaxis": "y"
        },
        {
         "alignmentgroup": "True",
         "customdata": [
          [
           "Andreas"
          ],
          [
           "Andreas"
          ],
          [
           "Andreas"
          ],
          [
           "Andreas"
          ],
          [
           "Andreas"
          ],
          [
           "Andreas"
          ],
          [
           "Andreas"
          ],
          [
           "Andreas"
          ],
          [
           "Andreas"
          ],
          [
           "Andreas"
          ],
          [
           "Andreas"
          ],
          [
           "Andreas"
          ],
          [
           "Andreas"
          ],
          [
           "Andreas"
          ],
          [
           "Andreas"
          ],
          [
           "Andreas"
          ],
          [
           "Andreas"
          ],
          [
           "Andreas"
          ]
         ],
         "hovertemplate": "Persona=%{customdata[0]}<br>CustomName=%{x}<br>relative_count=%{y}<extra></extra>",
         "legendgroup": "Andreas",
         "marker": {
          "color": "#204959",
          "pattern": {
           "shape": ""
          }
         },
         "name": "Andreas",
         "offsetgroup": "Andreas",
         "orientation": "v",
         "showlegend": true,
         "textposition": "auto",
         "type": "bar",
         "x": [
          "Ausstattung Qualität Rollmaterial",
          "Corona",
          "Fahrplanangebot",
          "Feedback Umfrage",
          "Internet, Wlan und Mobilfunk",
          "Kommerzielle Angebote",
          "Kundeninformation",
          "Lob",
          "Platzangebot Velo, Gepäck, Kinderwagen",
          "Platzangebot Zug",
          "Preis-Leistung",
          "Pünktlichkeit",
          "Raumtemperatur Zug",
          "Sauberkeit Zug und Bahnhof",
          "Security",
          "Sonstiges",
          "Vertrieb und Services",
          "WC Verfügbarkeit und Sauberkeit"
         ],
         "xaxis": "x",
         "y": [
          0.04975922953451043,
          0.04333868378812199,
          0.0449438202247191,
          0.025682182985553772,
          0.0593900481540931,
          0.06741573033707865,
          0.02086677367576244,
          0.05457463884430177,
          0.03210272873194221,
          0.1187800963081862,
          0.04975922953451043,
          0.18138041733547353,
          0.048154093097913325,
          0.02247191011235955,
          0.028892455858747994,
          0.038523274478330656,
          0.07223113964686999,
          0.028892455858747994
         ],
         "yaxis": "y"
        },
        {
         "alignmentgroup": "True",
         "customdata": [
          [
           "Francesco"
          ],
          [
           "Francesco"
          ],
          [
           "Francesco"
          ],
          [
           "Francesco"
          ],
          [
           "Francesco"
          ],
          [
           "Francesco"
          ],
          [
           "Francesco"
          ],
          [
           "Francesco"
          ],
          [
           "Francesco"
          ],
          [
           "Francesco"
          ],
          [
           "Francesco"
          ],
          [
           "Francesco"
          ],
          [
           "Francesco"
          ],
          [
           "Francesco"
          ],
          [
           "Francesco"
          ],
          [
           "Francesco"
          ],
          [
           "Francesco"
          ],
          [
           "Francesco"
          ]
         ],
         "hovertemplate": "Persona=%{customdata[0]}<br>CustomName=%{x}<br>relative_count=%{y}<extra></extra>",
         "legendgroup": "Francesco",
         "marker": {
          "color": "#96C6D9",
          "pattern": {
           "shape": ""
          }
         },
         "name": "Francesco",
         "offsetgroup": "Francesco",
         "orientation": "v",
         "showlegend": true,
         "textposition": "auto",
         "type": "bar",
         "x": [
          "Ausstattung Qualität Rollmaterial",
          "Corona",
          "Fahrplanangebot",
          "Feedback Umfrage",
          "Internet, Wlan und Mobilfunk",
          "Kommerzielle Angebote",
          "Kundeninformation",
          "Lob",
          "Platzangebot Velo, Gepäck, Kinderwagen",
          "Platzangebot Zug",
          "Preis-Leistung",
          "Pünktlichkeit",
          "Raumtemperatur Zug",
          "Sauberkeit Zug und Bahnhof",
          "Security",
          "Sonstiges",
          "Vertrieb und Services",
          "WC Verfügbarkeit und Sauberkeit"
         ],
         "xaxis": "x",
         "y": [
          0.037850625211220006,
          0.04156809733017911,
          0.0729976343359243,
          0.02331868874619804,
          0.020615072659682324,
          0.017573504562352148,
          0.01622169651909429,
          0.05745184183845894,
          0.04866508955728287,
          0.10172355525515377,
          0.1355187563366002,
          0.1723555255153768,
          0.026698208854342684,
          0.027712064886786077,
          0.021628928692125717,
          0.04190604934099358,
          0.09969584319026699,
          0.02872592091922947
         ],
         "yaxis": "y"
        }
       ],
       "layout": {
        "barmode": "group",
        "height": 600,
        "legend": {
         "orientation": "h",
         "title": {
          "text": "Gruppe"
         },
         "tracegroupgap": 0,
         "x": -0.065,
         "xanchor": "left",
         "y": 1.07,
         "yanchor": "top"
        },
        "margin": {
         "t": 60
        },
        "template": {
         "data": {
          "bar": [
           {
            "error_x": {
             "color": "#2a3f5f"
            },
            "error_y": {
             "color": "#2a3f5f"
            },
            "marker": {
             "line": {
              "color": "white",
              "width": 0.5
             },
             "pattern": {
              "fillmode": "overlay",
              "size": 10,
              "solidity": 0.2
             }
            },
            "type": "bar"
           }
          ],
          "barpolar": [
           {
            "marker": {
             "line": {
              "color": "white",
              "width": 0.5
             },
             "pattern": {
              "fillmode": "overlay",
              "size": 10,
              "solidity": 0.2
             }
            },
            "type": "barpolar"
           }
          ],
          "carpet": [
           {
            "aaxis": {
             "endlinecolor": "#2a3f5f",
             "gridcolor": "#C8D4E3",
             "linecolor": "#C8D4E3",
             "minorgridcolor": "#C8D4E3",
             "startlinecolor": "#2a3f5f"
            },
            "baxis": {
             "endlinecolor": "#2a3f5f",
             "gridcolor": "#C8D4E3",
             "linecolor": "#C8D4E3",
             "minorgridcolor": "#C8D4E3",
             "startlinecolor": "#2a3f5f"
            },
            "type": "carpet"
           }
          ],
          "choropleth": [
           {
            "colorbar": {
             "outlinewidth": 0,
             "ticks": ""
            },
            "type": "choropleth"
           }
          ],
          "contour": [
           {
            "colorbar": {
             "outlinewidth": 0,
             "ticks": ""
            },
            "colorscale": [
             [
              0,
              "#0d0887"
             ],
             [
              0.1111111111111111,
              "#46039f"
             ],
             [
              0.2222222222222222,
              "#7201a8"
             ],
             [
              0.3333333333333333,
              "#9c179e"
             ],
             [
              0.4444444444444444,
              "#bd3786"
             ],
             [
              0.5555555555555556,
              "#d8576b"
             ],
             [
              0.6666666666666666,
              "#ed7953"
             ],
             [
              0.7777777777777778,
              "#fb9f3a"
             ],
             [
              0.8888888888888888,
              "#fdca26"
             ],
             [
              1,
              "#f0f921"
             ]
            ],
            "type": "contour"
           }
          ],
          "contourcarpet": [
           {
            "colorbar": {
             "outlinewidth": 0,
             "ticks": ""
            },
            "type": "contourcarpet"
           }
          ],
          "heatmap": [
           {
            "colorbar": {
             "outlinewidth": 0,
             "ticks": ""
            },
            "colorscale": [
             [
              0,
              "#0d0887"
             ],
             [
              0.1111111111111111,
              "#46039f"
             ],
             [
              0.2222222222222222,
              "#7201a8"
             ],
             [
              0.3333333333333333,
              "#9c179e"
             ],
             [
              0.4444444444444444,
              "#bd3786"
             ],
             [
              0.5555555555555556,
              "#d8576b"
             ],
             [
              0.6666666666666666,
              "#ed7953"
             ],
             [
              0.7777777777777778,
              "#fb9f3a"
             ],
             [
              0.8888888888888888,
              "#fdca26"
             ],
             [
              1,
              "#f0f921"
             ]
            ],
            "type": "heatmap"
           }
          ],
          "heatmapgl": [
           {
            "colorbar": {
             "outlinewidth": 0,
             "ticks": ""
            },
            "colorscale": [
             [
              0,
              "#0d0887"
             ],
             [
              0.1111111111111111,
              "#46039f"
             ],
             [
              0.2222222222222222,
              "#7201a8"
             ],
             [
              0.3333333333333333,
              "#9c179e"
             ],
             [
              0.4444444444444444,
              "#bd3786"
             ],
             [
              0.5555555555555556,
              "#d8576b"
             ],
             [
              0.6666666666666666,
              "#ed7953"
             ],
             [
              0.7777777777777778,
              "#fb9f3a"
             ],
             [
              0.8888888888888888,
              "#fdca26"
             ],
             [
              1,
              "#f0f921"
             ]
            ],
            "type": "heatmapgl"
           }
          ],
          "histogram": [
           {
            "marker": {
             "pattern": {
              "fillmode": "overlay",
              "size": 10,
              "solidity": 0.2
             }
            },
            "type": "histogram"
           }
          ],
          "histogram2d": [
           {
            "colorbar": {
             "outlinewidth": 0,
             "ticks": ""
            },
            "colorscale": [
             [
              0,
              "#0d0887"
             ],
             [
              0.1111111111111111,
              "#46039f"
             ],
             [
              0.2222222222222222,
              "#7201a8"
             ],
             [
              0.3333333333333333,
              "#9c179e"
             ],
             [
              0.4444444444444444,
              "#bd3786"
             ],
             [
              0.5555555555555556,
              "#d8576b"
             ],
             [
              0.6666666666666666,
              "#ed7953"
             ],
             [
              0.7777777777777778,
              "#fb9f3a"
             ],
             [
              0.8888888888888888,
              "#fdca26"
             ],
             [
              1,
              "#f0f921"
             ]
            ],
            "type": "histogram2d"
           }
          ],
          "histogram2dcontour": [
           {
            "colorbar": {
             "outlinewidth": 0,
             "ticks": ""
            },
            "colorscale": [
             [
              0,
              "#0d0887"
             ],
             [
              0.1111111111111111,
              "#46039f"
             ],
             [
              0.2222222222222222,
              "#7201a8"
             ],
             [
              0.3333333333333333,
              "#9c179e"
             ],
             [
              0.4444444444444444,
              "#bd3786"
             ],
             [
              0.5555555555555556,
              "#d8576b"
             ],
             [
              0.6666666666666666,
              "#ed7953"
             ],
             [
              0.7777777777777778,
              "#fb9f3a"
             ],
             [
              0.8888888888888888,
              "#fdca26"
             ],
             [
              1,
              "#f0f921"
             ]
            ],
            "type": "histogram2dcontour"
           }
          ],
          "mesh3d": [
           {
            "colorbar": {
             "outlinewidth": 0,
             "ticks": ""
            },
            "type": "mesh3d"
           }
          ],
          "parcoords": [
           {
            "line": {
             "colorbar": {
              "outlinewidth": 0,
              "ticks": ""
             }
            },
            "type": "parcoords"
           }
          ],
          "pie": [
           {
            "automargin": true,
            "type": "pie"
           }
          ],
          "scatter": [
           {
            "fillpattern": {
             "fillmode": "overlay",
             "size": 10,
             "solidity": 0.2
            },
            "type": "scatter"
           }
          ],
          "scatter3d": [
           {
            "line": {
             "colorbar": {
              "outlinewidth": 0,
              "ticks": ""
             }
            },
            "marker": {
             "colorbar": {
              "outlinewidth": 0,
              "ticks": ""
             }
            },
            "type": "scatter3d"
           }
          ],
          "scattercarpet": [
           {
            "marker": {
             "colorbar": {
              "outlinewidth": 0,
              "ticks": ""
             }
            },
            "type": "scattercarpet"
           }
          ],
          "scattergeo": [
           {
            "marker": {
             "colorbar": {
              "outlinewidth": 0,
              "ticks": ""
             }
            },
            "type": "scattergeo"
           }
          ],
          "scattergl": [
           {
            "marker": {
             "colorbar": {
              "outlinewidth": 0,
              "ticks": ""
             }
            },
            "type": "scattergl"
           }
          ],
          "scattermapbox": [
           {
            "marker": {
             "colorbar": {
              "outlinewidth": 0,
              "ticks": ""
             }
            },
            "type": "scattermapbox"
           }
          ],
          "scatterpolar": [
           {
            "marker": {
             "colorbar": {
              "outlinewidth": 0,
              "ticks": ""
             }
            },
            "type": "scatterpolar"
           }
          ],
          "scatterpolargl": [
           {
            "marker": {
             "colorbar": {
              "outlinewidth": 0,
              "ticks": ""
             }
            },
            "type": "scatterpolargl"
           }
          ],
          "scatterternary": [
           {
            "marker": {
             "colorbar": {
              "outlinewidth": 0,
              "ticks": ""
             }
            },
            "type": "scatterternary"
           }
          ],
          "surface": [
           {
            "colorbar": {
             "outlinewidth": 0,
             "ticks": ""
            },
            "colorscale": [
             [
              0,
              "#0d0887"
             ],
             [
              0.1111111111111111,
              "#46039f"
             ],
             [
              0.2222222222222222,
              "#7201a8"
             ],
             [
              0.3333333333333333,
              "#9c179e"
             ],
             [
              0.4444444444444444,
              "#bd3786"
             ],
             [
              0.5555555555555556,
              "#d8576b"
             ],
             [
              0.6666666666666666,
              "#ed7953"
             ],
             [
              0.7777777777777778,
              "#fb9f3a"
             ],
             [
              0.8888888888888888,
              "#fdca26"
             ],
             [
              1,
              "#f0f921"
             ]
            ],
            "type": "surface"
           }
          ],
          "table": [
           {
            "cells": {
             "fill": {
              "color": "#EBF0F8"
             },
             "line": {
              "color": "white"
             }
            },
            "header": {
             "fill": {
              "color": "#C8D4E3"
             },
             "line": {
              "color": "white"
             }
            },
            "type": "table"
           }
          ]
         },
         "layout": {
          "annotationdefaults": {
           "arrowcolor": "#2a3f5f",
           "arrowhead": 0,
           "arrowwidth": 1
          },
          "autotypenumbers": "strict",
          "coloraxis": {
           "colorbar": {
            "outlinewidth": 0,
            "ticks": ""
           }
          },
          "colorscale": {
           "diverging": [
            [
             0,
             "#8e0152"
            ],
            [
             0.1,
             "#c51b7d"
            ],
            [
             0.2,
             "#de77ae"
            ],
            [
             0.3,
             "#f1b6da"
            ],
            [
             0.4,
             "#fde0ef"
            ],
            [
             0.5,
             "#f7f7f7"
            ],
            [
             0.6,
             "#e6f5d0"
            ],
            [
             0.7,
             "#b8e186"
            ],
            [
             0.8,
             "#7fbc41"
            ],
            [
             0.9,
             "#4d9221"
            ],
            [
             1,
             "#276419"
            ]
           ],
           "sequential": [
            [
             0,
             "#0d0887"
            ],
            [
             0.1111111111111111,
             "#46039f"
            ],
            [
             0.2222222222222222,
             "#7201a8"
            ],
            [
             0.3333333333333333,
             "#9c179e"
            ],
            [
             0.4444444444444444,
             "#bd3786"
            ],
            [
             0.5555555555555556,
             "#d8576b"
            ],
            [
             0.6666666666666666,
             "#ed7953"
            ],
            [
             0.7777777777777778,
             "#fb9f3a"
            ],
            [
             0.8888888888888888,
             "#fdca26"
            ],
            [
             1,
             "#f0f921"
            ]
           ],
           "sequentialminus": [
            [
             0,
             "#0d0887"
            ],
            [
             0.1111111111111111,
             "#46039f"
            ],
            [
             0.2222222222222222,
             "#7201a8"
            ],
            [
             0.3333333333333333,
             "#9c179e"
            ],
            [
             0.4444444444444444,
             "#bd3786"
            ],
            [
             0.5555555555555556,
             "#d8576b"
            ],
            [
             0.6666666666666666,
             "#ed7953"
            ],
            [
             0.7777777777777778,
             "#fb9f3a"
            ],
            [
             0.8888888888888888,
             "#fdca26"
            ],
            [
             1,
             "#f0f921"
            ]
           ]
          },
          "colorway": [
           "#636efa",
           "#EF553B",
           "#00cc96",
           "#ab63fa",
           "#FFA15A",
           "#19d3f3",
           "#FF6692",
           "#B6E880",
           "#FF97FF",
           "#FECB52"
          ],
          "font": {
           "color": "#2a3f5f"
          },
          "geo": {
           "bgcolor": "white",
           "lakecolor": "white",
           "landcolor": "white",
           "showlakes": true,
           "showland": true,
           "subunitcolor": "#C8D4E3"
          },
          "hoverlabel": {
           "align": "left"
          },
          "hovermode": "closest",
          "mapbox": {
           "style": "light"
          },
          "paper_bgcolor": "white",
          "plot_bgcolor": "white",
          "polar": {
           "angularaxis": {
            "gridcolor": "#EBF0F8",
            "linecolor": "#EBF0F8",
            "ticks": ""
           },
           "bgcolor": "white",
           "radialaxis": {
            "gridcolor": "#EBF0F8",
            "linecolor": "#EBF0F8",
            "ticks": ""
           }
          },
          "scene": {
           "xaxis": {
            "backgroundcolor": "white",
            "gridcolor": "#DFE8F3",
            "gridwidth": 2,
            "linecolor": "#EBF0F8",
            "showbackground": true,
            "ticks": "",
            "zerolinecolor": "#EBF0F8"
           },
           "yaxis": {
            "backgroundcolor": "white",
            "gridcolor": "#DFE8F3",
            "gridwidth": 2,
            "linecolor": "#EBF0F8",
            "showbackground": true,
            "ticks": "",
            "zerolinecolor": "#EBF0F8"
           },
           "zaxis": {
            "backgroundcolor": "white",
            "gridcolor": "#DFE8F3",
            "gridwidth": 2,
            "linecolor": "#EBF0F8",
            "showbackground": true,
            "ticks": "",
            "zerolinecolor": "#EBF0F8"
           }
          },
          "shapedefaults": {
           "line": {
            "color": "#2a3f5f"
           }
          },
          "ternary": {
           "aaxis": {
            "gridcolor": "#DFE8F3",
            "linecolor": "#A2B1C6",
            "ticks": ""
           },
           "baxis": {
            "gridcolor": "#DFE8F3",
            "linecolor": "#A2B1C6",
            "ticks": ""
           },
           "bgcolor": "white",
           "caxis": {
            "gridcolor": "#DFE8F3",
            "linecolor": "#A2B1C6",
            "ticks": ""
           }
          },
          "title": {
           "x": 0.05
          },
          "xaxis": {
           "automargin": true,
           "gridcolor": "#EBF0F8",
           "linecolor": "#EBF0F8",
           "ticks": "",
           "title": {
            "standoff": 15
           },
           "zerolinecolor": "#EBF0F8",
           "zerolinewidth": 2
          },
          "yaxis": {
           "automargin": true,
           "gridcolor": "#EBF0F8",
           "linecolor": "#EBF0F8",
           "ticks": "",
           "title": {
            "standoff": 15
           },
           "zerolinecolor": "#EBF0F8",
           "zerolinewidth": 2
          }
         }
        },
        "title": {
         "text": "Themenrelevanz nach Reisedauer (2019-2022)"
        },
        "width": 900,
        "xaxis": {
         "anchor": "y",
         "automargin": true,
         "domain": [
          0,
          1
         ],
         "showgrid": false,
         "tickangle": 45,
         "tickfont": {
          "size": 12
         },
         "tickmode": "array",
         "ticktext": [
          "Ausstattung Qualität Rollmaterial",
          "Corona",
          "Fahrplanangebot",
          "Feedback Umfrage",
          "Internet, Wlan und Mobilfunk",
          "Kommerzielle Angebote",
          "Kundeninformation",
          "Lob",
          "Platzangebot Velo, Gepäck, Kinderwagen",
          "Platzangebot Zug",
          "Preis-Leistung",
          "Pünktlichkeit",
          "Raumtemperatur Zug",
          "Sauberkeit Zug und Bahnhof",
          "Security",
          "Sonstiges",
          "Vertrieb und Services",
          "WC Verfügbarkeit und Sauberkeit",
          "Ausstattung Qualität Rollmaterial",
          "Corona",
          "Fahrplanangebot",
          "Feedback Umfrage",
          "Internet, Wlan und Mobilfunk",
          "Kommerzielle Angebote",
          "Kundeninformation",
          "Lob",
          "Platzangebot Velo, Gepäck, Kinderwagen",
          "Platzangebot Zug",
          "Preis-Leistung",
          "Pünktlichkeit",
          "Raumtemperatur Zug",
          "Sauberkeit Zug und Bahnhof",
          "Security",
          "Sonstiges",
          "Vertrieb und Services",
          "WC Verfügbarkeit und Sauberkeit",
          "Ausstattung Qualität Rollmaterial",
          "Corona",
          "Fahrplanangebot",
          "Feedback Umfrage",
          "Internet, Wlan und Mobilfunk",
          "Kommerzielle Angebote",
          "Kundeninformation",
          "Lob",
          "Platzangebot Velo, Gepäck, Kinderwagen",
          "Platzangebot Zug",
          "Preis-Leistung",
          "Pünktlichkeit",
          "Raumtemperatur Zug",
          "Sauberkeit Zug und Bahnhof",
          "Security",
          "Sonstiges",
          "Vertrieb und Services",
          "WC Verfügbarkeit und Sauberkeit",
          "Ausstattung Qualität Rollmaterial",
          "Corona",
          "Fahrplanangebot",
          "Feedback Umfrage",
          "Internet, Wlan und Mobilfunk",
          "Kommerzielle Angebote",
          "Kundeninformation",
          "Lob",
          "Platzangebot Velo, Gepäck, Kinderwagen",
          "Platzangebot Zug",
          "Preis-Leistung",
          "Pünktlichkeit",
          "Raumtemperatur Zug",
          "Sauberkeit Zug und Bahnhof",
          "Security",
          "Sonstiges",
          "Vertrieb und Services",
          "WC Verfügbarkeit und Sauberkeit"
         ],
         "tickvals": [
          0,
          1,
          2,
          3,
          4,
          5,
          6,
          7,
          8,
          9,
          10,
          11,
          12,
          13,
          14,
          15,
          16,
          17,
          18,
          19,
          20,
          21,
          22,
          23,
          24,
          25,
          26,
          27,
          28,
          29,
          30,
          31,
          32,
          33,
          34,
          35,
          36,
          37,
          38,
          39,
          40,
          41,
          42,
          43,
          44,
          45,
          46,
          47,
          48,
          49,
          50,
          51,
          52,
          53,
          54,
          55,
          56,
          57,
          58,
          59,
          60,
          61,
          62,
          63,
          64,
          65,
          66,
          67,
          68,
          69,
          70,
          71
         ],
         "tickwidth": 1,
         "title": {
          "text": ""
         }
        },
        "yaxis": {
         "anchor": "x",
         "domain": [
          0,
          1
         ],
         "gridcolor": "rgba(0,0,0,0.1)",
         "gridwidth": 1,
         "range": [
          0,
          0.3
         ],
         "showgrid": true,
         "title": {
          "font": {
           "size": 12
          },
          "text": "Häufigkeit"
         }
        }
       }
      }
     },
     "metadata": {},
     "output_type": "display_data"
    }
   ],
   "source": [
    "create_grouped_barchart(df_persona, x_col=\"CustomName\", y_col=\"relative_count\", color_col='Persona', color_discrete_sequence=color_discrete_sequence, title=\"Themenrelevanz nach Reisedauer (2019-2022)\", xaxis_title='', yaxis_title='Häufigkeit', legend_title='Gruppe', template=template)"
   ]
  },
  {
   "cell_type": "code",
   "execution_count": 31,
   "metadata": {},
   "outputs": [
    {
     "data": {
      "application/vnd.plotly.v1+json": {
       "config": {
        "plotlyServerURL": "https://plot.ly"
       },
       "data": [
        {
         "fill": "none",
         "line": {
          "color": "#49787F"
         },
         "marker": {
          "size": 4
         },
         "name": "Christina",
         "r": [
          0.016423357664233577,
          0.048418491484184915,
          0.07481751824817519,
          0.016180048661800485,
          0.018369829683698297,
          0.027737226277372264,
          0.023114355231143552,
          0.05401459854014599,
          0.0621654501216545,
          0.11131386861313869,
          0.074330900243309,
          0.1805352798053528,
          0.035888077858880776,
          0.032846715328467155,
          0.0427007299270073,
          0.04452554744525548,
          0.07554744525547445,
          0.05510948905109489
         ],
         "showlegend": true,
         "theta": [
          "Ausstattung Qualität Rollmaterial",
          "Corona",
          "Fahrplanangebot",
          "Feedback Umfrage",
          "Internet, Wlan und Mobilfunk",
          "Kommerzielle Angebote",
          "Kundeninformation",
          "Lob",
          "Platzangebot Velo, Gepäck, Kinderwagen",
          "Platzangebot Zug",
          "Preis-Leistung",
          "Pünktlichkeit",
          "Raumtemperatur Zug",
          "Sauberkeit Zug und Bahnhof",
          "Security",
          "Sonstiges",
          "Vertrieb und Services",
          "WC Verfügbarkeit und Sauberkeit"
         ],
         "type": "scatterpolar"
        },
        {
         "fill": "none",
         "line": {
          "color": "#A96262"
         },
         "marker": {
          "size": 4
         },
         "name": "Lea",
         "r": [
          0.025684931506849314,
          0.0821917808219178,
          0.05136986301369863,
          0.00684931506849315,
          0.017123287671232876,
          0.04280821917808219,
          0.0410958904109589,
          0.06164383561643835,
          0.030821917808219176,
          0.12157534246575342,
          0.039383561643835614,
          0.20376712328767124,
          0.0410958904109589,
          0.0410958904109589,
          0.04965753424657534,
          0.0547945205479452,
          0.02226027397260274,
          0.059931506849315065
         ],
         "showlegend": true,
         "theta": [
          "Ausstattung Qualität Rollmaterial",
          "Corona",
          "Fahrplanangebot",
          "Feedback Umfrage",
          "Internet, Wlan und Mobilfunk",
          "Kommerzielle Angebote",
          "Kundeninformation",
          "Lob",
          "Platzangebot Velo, Gepäck, Kinderwagen",
          "Platzangebot Zug",
          "Preis-Leistung",
          "Pünktlichkeit",
          "Raumtemperatur Zug",
          "Sauberkeit Zug und Bahnhof",
          "Security",
          "Sonstiges",
          "Vertrieb und Services",
          "WC Verfügbarkeit und Sauberkeit"
         ],
         "type": "scatterpolar"
        },
        {
         "fill": "none",
         "line": {
          "color": "#F06969"
         },
         "marker": {
          "size": 4
         },
         "name": "Andreas",
         "r": [
          0.04975922953451043,
          0.04333868378812199,
          0.0449438202247191,
          0.025682182985553772,
          0.0593900481540931,
          0.06741573033707865,
          0.02086677367576244,
          0.05457463884430177,
          0.03210272873194221,
          0.1187800963081862,
          0.04975922953451043,
          0.18138041733547353,
          0.048154093097913325,
          0.02247191011235955,
          0.028892455858747994,
          0.038523274478330656,
          0.07223113964686999,
          0.028892455858747994
         ],
         "showlegend": true,
         "theta": [
          "Ausstattung Qualität Rollmaterial",
          "Corona",
          "Fahrplanangebot",
          "Feedback Umfrage",
          "Internet, Wlan und Mobilfunk",
          "Kommerzielle Angebote",
          "Kundeninformation",
          "Lob",
          "Platzangebot Velo, Gepäck, Kinderwagen",
          "Platzangebot Zug",
          "Preis-Leistung",
          "Pünktlichkeit",
          "Raumtemperatur Zug",
          "Sauberkeit Zug und Bahnhof",
          "Security",
          "Sonstiges",
          "Vertrieb und Services",
          "WC Verfügbarkeit und Sauberkeit"
         ],
         "type": "scatterpolar"
        },
        {
         "fill": "none",
         "line": {
          "color": "#C499CA"
         },
         "marker": {
          "size": 4
         },
         "name": "Francesco",
         "r": [
          0.037850625211220006,
          0.04156809733017911,
          0.0729976343359243,
          0.02331868874619804,
          0.020615072659682324,
          0.017573504562352148,
          0.01622169651909429,
          0.05745184183845894,
          0.04866508955728287,
          0.10172355525515377,
          0.1355187563366002,
          0.1723555255153768,
          0.026698208854342684,
          0.027712064886786077,
          0.021628928692125717,
          0.04190604934099358,
          0.09969584319026699,
          0.02872592091922947
         ],
         "showlegend": true,
         "theta": [
          "Ausstattung Qualität Rollmaterial",
          "Corona",
          "Fahrplanangebot",
          "Feedback Umfrage",
          "Internet, Wlan und Mobilfunk",
          "Kommerzielle Angebote",
          "Kundeninformation",
          "Lob",
          "Platzangebot Velo, Gepäck, Kinderwagen",
          "Platzangebot Zug",
          "Preis-Leistung",
          "Pünktlichkeit",
          "Raumtemperatur Zug",
          "Sauberkeit Zug und Bahnhof",
          "Security",
          "Sonstiges",
          "Vertrieb und Services",
          "WC Verfügbarkeit und Sauberkeit"
         ],
         "type": "scatterpolar"
        }
       ],
       "layout": {
        "height": 650,
        "legend": {
         "title": {
          "text": "Gruppe"
         }
        },
        "polar": {
         "angularaxis": {
          "gridcolor": "rgba(0,0,0,0.1)",
          "showticklabels": true,
          "tickfont": {
           "size": 10
          },
          "tickmode": "linear",
          "visible": true
         },
         "radialaxis": {
          "gridcolor": "rgba(0,0,0,0.1)",
          "gridwidth": 1,
          "range": [
           0,
           0.20376712328767124
          ],
          "showgrid": true,
          "visible": true
         }
        },
        "showlegend": true,
        "template": {
         "data": {
          "bar": [
           {
            "error_x": {
             "color": "#2a3f5f"
            },
            "error_y": {
             "color": "#2a3f5f"
            },
            "marker": {
             "line": {
              "color": "white",
              "width": 0.5
             },
             "pattern": {
              "fillmode": "overlay",
              "size": 10,
              "solidity": 0.2
             }
            },
            "type": "bar"
           }
          ],
          "barpolar": [
           {
            "marker": {
             "line": {
              "color": "white",
              "width": 0.5
             },
             "pattern": {
              "fillmode": "overlay",
              "size": 10,
              "solidity": 0.2
             }
            },
            "type": "barpolar"
           }
          ],
          "carpet": [
           {
            "aaxis": {
             "endlinecolor": "#2a3f5f",
             "gridcolor": "#C8D4E3",
             "linecolor": "#C8D4E3",
             "minorgridcolor": "#C8D4E3",
             "startlinecolor": "#2a3f5f"
            },
            "baxis": {
             "endlinecolor": "#2a3f5f",
             "gridcolor": "#C8D4E3",
             "linecolor": "#C8D4E3",
             "minorgridcolor": "#C8D4E3",
             "startlinecolor": "#2a3f5f"
            },
            "type": "carpet"
           }
          ],
          "choropleth": [
           {
            "colorbar": {
             "outlinewidth": 0,
             "ticks": ""
            },
            "type": "choropleth"
           }
          ],
          "contour": [
           {
            "colorbar": {
             "outlinewidth": 0,
             "ticks": ""
            },
            "colorscale": [
             [
              0,
              "#0d0887"
             ],
             [
              0.1111111111111111,
              "#46039f"
             ],
             [
              0.2222222222222222,
              "#7201a8"
             ],
             [
              0.3333333333333333,
              "#9c179e"
             ],
             [
              0.4444444444444444,
              "#bd3786"
             ],
             [
              0.5555555555555556,
              "#d8576b"
             ],
             [
              0.6666666666666666,
              "#ed7953"
             ],
             [
              0.7777777777777778,
              "#fb9f3a"
             ],
             [
              0.8888888888888888,
              "#fdca26"
             ],
             [
              1,
              "#f0f921"
             ]
            ],
            "type": "contour"
           }
          ],
          "contourcarpet": [
           {
            "colorbar": {
             "outlinewidth": 0,
             "ticks": ""
            },
            "type": "contourcarpet"
           }
          ],
          "heatmap": [
           {
            "colorbar": {
             "outlinewidth": 0,
             "ticks": ""
            },
            "colorscale": [
             [
              0,
              "#0d0887"
             ],
             [
              0.1111111111111111,
              "#46039f"
             ],
             [
              0.2222222222222222,
              "#7201a8"
             ],
             [
              0.3333333333333333,
              "#9c179e"
             ],
             [
              0.4444444444444444,
              "#bd3786"
             ],
             [
              0.5555555555555556,
              "#d8576b"
             ],
             [
              0.6666666666666666,
              "#ed7953"
             ],
             [
              0.7777777777777778,
              "#fb9f3a"
             ],
             [
              0.8888888888888888,
              "#fdca26"
             ],
             [
              1,
              "#f0f921"
             ]
            ],
            "type": "heatmap"
           }
          ],
          "heatmapgl": [
           {
            "colorbar": {
             "outlinewidth": 0,
             "ticks": ""
            },
            "colorscale": [
             [
              0,
              "#0d0887"
             ],
             [
              0.1111111111111111,
              "#46039f"
             ],
             [
              0.2222222222222222,
              "#7201a8"
             ],
             [
              0.3333333333333333,
              "#9c179e"
             ],
             [
              0.4444444444444444,
              "#bd3786"
             ],
             [
              0.5555555555555556,
              "#d8576b"
             ],
             [
              0.6666666666666666,
              "#ed7953"
             ],
             [
              0.7777777777777778,
              "#fb9f3a"
             ],
             [
              0.8888888888888888,
              "#fdca26"
             ],
             [
              1,
              "#f0f921"
             ]
            ],
            "type": "heatmapgl"
           }
          ],
          "histogram": [
           {
            "marker": {
             "pattern": {
              "fillmode": "overlay",
              "size": 10,
              "solidity": 0.2
             }
            },
            "type": "histogram"
           }
          ],
          "histogram2d": [
           {
            "colorbar": {
             "outlinewidth": 0,
             "ticks": ""
            },
            "colorscale": [
             [
              0,
              "#0d0887"
             ],
             [
              0.1111111111111111,
              "#46039f"
             ],
             [
              0.2222222222222222,
              "#7201a8"
             ],
             [
              0.3333333333333333,
              "#9c179e"
             ],
             [
              0.4444444444444444,
              "#bd3786"
             ],
             [
              0.5555555555555556,
              "#d8576b"
             ],
             [
              0.6666666666666666,
              "#ed7953"
             ],
             [
              0.7777777777777778,
              "#fb9f3a"
             ],
             [
              0.8888888888888888,
              "#fdca26"
             ],
             [
              1,
              "#f0f921"
             ]
            ],
            "type": "histogram2d"
           }
          ],
          "histogram2dcontour": [
           {
            "colorbar": {
             "outlinewidth": 0,
             "ticks": ""
            },
            "colorscale": [
             [
              0,
              "#0d0887"
             ],
             [
              0.1111111111111111,
              "#46039f"
             ],
             [
              0.2222222222222222,
              "#7201a8"
             ],
             [
              0.3333333333333333,
              "#9c179e"
             ],
             [
              0.4444444444444444,
              "#bd3786"
             ],
             [
              0.5555555555555556,
              "#d8576b"
             ],
             [
              0.6666666666666666,
              "#ed7953"
             ],
             [
              0.7777777777777778,
              "#fb9f3a"
             ],
             [
              0.8888888888888888,
              "#fdca26"
             ],
             [
              1,
              "#f0f921"
             ]
            ],
            "type": "histogram2dcontour"
           }
          ],
          "mesh3d": [
           {
            "colorbar": {
             "outlinewidth": 0,
             "ticks": ""
            },
            "type": "mesh3d"
           }
          ],
          "parcoords": [
           {
            "line": {
             "colorbar": {
              "outlinewidth": 0,
              "ticks": ""
             }
            },
            "type": "parcoords"
           }
          ],
          "pie": [
           {
            "automargin": true,
            "type": "pie"
           }
          ],
          "scatter": [
           {
            "fillpattern": {
             "fillmode": "overlay",
             "size": 10,
             "solidity": 0.2
            },
            "type": "scatter"
           }
          ],
          "scatter3d": [
           {
            "line": {
             "colorbar": {
              "outlinewidth": 0,
              "ticks": ""
             }
            },
            "marker": {
             "colorbar": {
              "outlinewidth": 0,
              "ticks": ""
             }
            },
            "type": "scatter3d"
           }
          ],
          "scattercarpet": [
           {
            "marker": {
             "colorbar": {
              "outlinewidth": 0,
              "ticks": ""
             }
            },
            "type": "scattercarpet"
           }
          ],
          "scattergeo": [
           {
            "marker": {
             "colorbar": {
              "outlinewidth": 0,
              "ticks": ""
             }
            },
            "type": "scattergeo"
           }
          ],
          "scattergl": [
           {
            "marker": {
             "colorbar": {
              "outlinewidth": 0,
              "ticks": ""
             }
            },
            "type": "scattergl"
           }
          ],
          "scattermapbox": [
           {
            "marker": {
             "colorbar": {
              "outlinewidth": 0,
              "ticks": ""
             }
            },
            "type": "scattermapbox"
           }
          ],
          "scatterpolar": [
           {
            "marker": {
             "colorbar": {
              "outlinewidth": 0,
              "ticks": ""
             }
            },
            "type": "scatterpolar"
           }
          ],
          "scatterpolargl": [
           {
            "marker": {
             "colorbar": {
              "outlinewidth": 0,
              "ticks": ""
             }
            },
            "type": "scatterpolargl"
           }
          ],
          "scatterternary": [
           {
            "marker": {
             "colorbar": {
              "outlinewidth": 0,
              "ticks": ""
             }
            },
            "type": "scatterternary"
           }
          ],
          "surface": [
           {
            "colorbar": {
             "outlinewidth": 0,
             "ticks": ""
            },
            "colorscale": [
             [
              0,
              "#0d0887"
             ],
             [
              0.1111111111111111,
              "#46039f"
             ],
             [
              0.2222222222222222,
              "#7201a8"
             ],
             [
              0.3333333333333333,
              "#9c179e"
             ],
             [
              0.4444444444444444,
              "#bd3786"
             ],
             [
              0.5555555555555556,
              "#d8576b"
             ],
             [
              0.6666666666666666,
              "#ed7953"
             ],
             [
              0.7777777777777778,
              "#fb9f3a"
             ],
             [
              0.8888888888888888,
              "#fdca26"
             ],
             [
              1,
              "#f0f921"
             ]
            ],
            "type": "surface"
           }
          ],
          "table": [
           {
            "cells": {
             "fill": {
              "color": "#EBF0F8"
             },
             "line": {
              "color": "white"
             }
            },
            "header": {
             "fill": {
              "color": "#C8D4E3"
             },
             "line": {
              "color": "white"
             }
            },
            "type": "table"
           }
          ]
         },
         "layout": {
          "annotationdefaults": {
           "arrowcolor": "#2a3f5f",
           "arrowhead": 0,
           "arrowwidth": 1
          },
          "autotypenumbers": "strict",
          "coloraxis": {
           "colorbar": {
            "outlinewidth": 0,
            "ticks": ""
           }
          },
          "colorscale": {
           "diverging": [
            [
             0,
             "#8e0152"
            ],
            [
             0.1,
             "#c51b7d"
            ],
            [
             0.2,
             "#de77ae"
            ],
            [
             0.3,
             "#f1b6da"
            ],
            [
             0.4,
             "#fde0ef"
            ],
            [
             0.5,
             "#f7f7f7"
            ],
            [
             0.6,
             "#e6f5d0"
            ],
            [
             0.7,
             "#b8e186"
            ],
            [
             0.8,
             "#7fbc41"
            ],
            [
             0.9,
             "#4d9221"
            ],
            [
             1,
             "#276419"
            ]
           ],
           "sequential": [
            [
             0,
             "#0d0887"
            ],
            [
             0.1111111111111111,
             "#46039f"
            ],
            [
             0.2222222222222222,
             "#7201a8"
            ],
            [
             0.3333333333333333,
             "#9c179e"
            ],
            [
             0.4444444444444444,
             "#bd3786"
            ],
            [
             0.5555555555555556,
             "#d8576b"
            ],
            [
             0.6666666666666666,
             "#ed7953"
            ],
            [
             0.7777777777777778,
             "#fb9f3a"
            ],
            [
             0.8888888888888888,
             "#fdca26"
            ],
            [
             1,
             "#f0f921"
            ]
           ],
           "sequentialminus": [
            [
             0,
             "#0d0887"
            ],
            [
             0.1111111111111111,
             "#46039f"
            ],
            [
             0.2222222222222222,
             "#7201a8"
            ],
            [
             0.3333333333333333,
             "#9c179e"
            ],
            [
             0.4444444444444444,
             "#bd3786"
            ],
            [
             0.5555555555555556,
             "#d8576b"
            ],
            [
             0.6666666666666666,
             "#ed7953"
            ],
            [
             0.7777777777777778,
             "#fb9f3a"
            ],
            [
             0.8888888888888888,
             "#fdca26"
            ],
            [
             1,
             "#f0f921"
            ]
           ]
          },
          "colorway": [
           "#636efa",
           "#EF553B",
           "#00cc96",
           "#ab63fa",
           "#FFA15A",
           "#19d3f3",
           "#FF6692",
           "#B6E880",
           "#FF97FF",
           "#FECB52"
          ],
          "font": {
           "color": "#2a3f5f"
          },
          "geo": {
           "bgcolor": "white",
           "lakecolor": "white",
           "landcolor": "white",
           "showlakes": true,
           "showland": true,
           "subunitcolor": "#C8D4E3"
          },
          "hoverlabel": {
           "align": "left"
          },
          "hovermode": "closest",
          "mapbox": {
           "style": "light"
          },
          "paper_bgcolor": "white",
          "plot_bgcolor": "white",
          "polar": {
           "angularaxis": {
            "gridcolor": "#EBF0F8",
            "linecolor": "#EBF0F8",
            "ticks": ""
           },
           "bgcolor": "white",
           "radialaxis": {
            "gridcolor": "#EBF0F8",
            "linecolor": "#EBF0F8",
            "ticks": ""
           }
          },
          "scene": {
           "xaxis": {
            "backgroundcolor": "white",
            "gridcolor": "#DFE8F3",
            "gridwidth": 2,
            "linecolor": "#EBF0F8",
            "showbackground": true,
            "ticks": "",
            "zerolinecolor": "#EBF0F8"
           },
           "yaxis": {
            "backgroundcolor": "white",
            "gridcolor": "#DFE8F3",
            "gridwidth": 2,
            "linecolor": "#EBF0F8",
            "showbackground": true,
            "ticks": "",
            "zerolinecolor": "#EBF0F8"
           },
           "zaxis": {
            "backgroundcolor": "white",
            "gridcolor": "#DFE8F3",
            "gridwidth": 2,
            "linecolor": "#EBF0F8",
            "showbackground": true,
            "ticks": "",
            "zerolinecolor": "#EBF0F8"
           }
          },
          "shapedefaults": {
           "line": {
            "color": "#2a3f5f"
           }
          },
          "ternary": {
           "aaxis": {
            "gridcolor": "#DFE8F3",
            "linecolor": "#A2B1C6",
            "ticks": ""
           },
           "baxis": {
            "gridcolor": "#DFE8F3",
            "linecolor": "#A2B1C6",
            "ticks": ""
           },
           "bgcolor": "white",
           "caxis": {
            "gridcolor": "#DFE8F3",
            "linecolor": "#A2B1C6",
            "ticks": ""
           }
          },
          "title": {
           "x": 0.05
          },
          "xaxis": {
           "automargin": true,
           "gridcolor": "#EBF0F8",
           "linecolor": "#EBF0F8",
           "ticks": "",
           "title": {
            "standoff": 15
           },
           "zerolinecolor": "#EBF0F8",
           "zerolinewidth": 2
          },
          "yaxis": {
           "automargin": true,
           "gridcolor": "#EBF0F8",
           "linecolor": "#EBF0F8",
           "ticks": "",
           "title": {
            "standoff": 15
           },
           "zerolinecolor": "#EBF0F8",
           "zerolinewidth": 2
          }
         }
        },
        "title": {
         "text": "Themenrelevanz nach Reisedauer (2019-2022)"
        },
        "width": 900,
        "xaxis": {
         "title": {
          "text": ""
         }
        },
        "yaxis": {
         "title": {
          "text": "Häufigkeit"
         }
        }
       }
      }
     },
     "metadata": {},
     "output_type": "display_data"
    }
   ],
   "source": [
    "create_grouped_radar(df_persona, x_col=\"CustomName\", y_col=\"relative_count\", color_col='Persona', color_discrete_sequence=color_discrete_sequence, title=\"Themenrelevanz nach Reisedauer (2019-2022)\", xaxis_title='', yaxis_title='Häufigkeit', legend_title='Gruppe', template=template)"
   ]
  }
 ],
 "metadata": {
  "kernelspec": {
   "display_name": "nlp",
   "language": "python",
   "name": "python3"
  },
  "language_info": {
   "codemirror_mode": {
    "name": "ipython",
    "version": 3
   },
   "file_extension": ".py",
   "mimetype": "text/x-python",
   "name": "python",
   "nbconvert_exporter": "python",
   "pygments_lexer": "ipython3",
   "version": "3.8.16"
  },
  "orig_nbformat": 4,
  "vscode": {
   "interpreter": {
    "hash": "2c54f9282dd36543c8181ef7676bc28d81677c039b129753722332dc3d171a18"
   }
  }
 },
 "nbformat": 4,
 "nbformat_minor": 2
}
