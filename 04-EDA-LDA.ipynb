{
 "cells": [
  {
   "cell_type": "code",
   "execution_count": 4,
   "metadata": {},
   "outputs": [],
   "source": [
    "import pandas as pd\n",
    "import gensim"
   ]
  },
  {
   "cell_type": "code",
   "execution_count": 2,
   "metadata": {},
   "outputs": [],
   "source": [
    "## Import dataframe\n",
    "filelocation = 'data/DataText'\n",
    "df = pd.read_feather(filelocation)"
   ]
  },
  {
   "attachments": {},
   "cell_type": "markdown",
   "metadata": {},
   "source": [
    "### Bag of Words on the Data set"
   ]
  },
  {
   "attachments": {},
   "cell_type": "markdown",
   "metadata": {},
   "source": [
    "Filter out tokens that appear in\n",
    "\n",
    "- less than 15 documents (absolute number) or more than 0.5 documents (fraction of total corpus size, not absolute number).\n",
    "\n",
    "after the above two steps, keep only the first 100000 most frequent tokens."
   ]
  },
  {
   "cell_type": "code",
   "execution_count": 6,
   "metadata": {},
   "outputs": [
    {
     "name": "stdout",
     "output_type": "stream",
     "text": [
      "0 abteils\n",
      "1 eingangsbereich\n",
      "2 mal\n",
      "3 reisend\n",
      "4 stauen\n",
      "5 stosszeit\n",
      "6 verkürzen\n",
      "7 vieler\n",
      "8 weshalb\n",
      "9 öfters\n",
      "10 besitzer\n"
     ]
    }
   ],
   "source": [
    "dictionary = gensim.corpora.Dictionary(df.lemmatized)\n",
    "count = 0\n",
    "for k, v in dictionary.iteritems():\n",
    "    print(k, v)\n",
    "    count += 1\n",
    "    if count > 10:\n",
    "        break"
   ]
  },
  {
   "cell_type": "code",
   "execution_count": 8,
   "metadata": {},
   "outputs": [],
   "source": [
    "dictionary.filter_extremes(no_below=15, no_above=0.5, keep_n=100000)"
   ]
  },
  {
   "attachments": {},
   "cell_type": "markdown",
   "metadata": {},
   "source": [
    "### Gensim doc2bow"
   ]
  },
  {
   "attachments": {},
   "cell_type": "markdown",
   "metadata": {},
   "source": [
    "For each document we create a dictionary reporting how many\n",
    "words and how many times those words appear. Save this to ‘bow_corpus’, then check our selected document earlier."
   ]
  },
  {
   "cell_type": "code",
   "execution_count": 11,
   "metadata": {},
   "outputs": [
    {
     "data": {
      "text/plain": [
       "[(9, 1), (10, 1), (11, 1), (12, 1), (13, 1), (14, 1), (15, 1)]"
      ]
     },
     "execution_count": 11,
     "metadata": {},
     "output_type": "execute_result"
    }
   ],
   "source": [
    "bow_corpus = [dictionary.doc2bow(doc) for doc in df.lemmatized]\n",
    "bow_corpus[1]"
   ]
  },
  {
   "attachments": {},
   "cell_type": "markdown",
   "metadata": {},
   "source": [
    "### Preview Bag Of Words for our sample preprocessed document."
   ]
  },
  {
   "cell_type": "code",
   "execution_count": 25,
   "metadata": {},
   "outputs": [
    {
     "data": {
      "text/plain": [
       "'Der Zug von Interlaken Ost bis Grindelwald-Terminal war überaus gut besetzt.'"
      ]
     },
     "execution_count": 25,
     "metadata": {},
     "output_type": "execute_result"
    }
   ],
   "source": [
    "# sample kommentar\n",
    "num = 22\n",
    "df.Kommentar[num]"
   ]
  },
  {
   "cell_type": "code",
   "execution_count": 26,
   "metadata": {},
   "outputs": [
    {
     "name": "stdout",
     "output_type": "stream",
     "text": [
      "Word 46 (\"zug\") appears 1 time.\n",
      "Word 136 (\"besetzen\") appears 1 time.\n",
      "Word 168 (\"gut\") appears 1 time.\n",
      "Word 245 (\"grindelwald\") appears 1 time.\n",
      "Word 246 (\"interlaken\") appears 1 time.\n",
      "Word 247 (\"ost\") appears 1 time.\n",
      "Word 248 (\"terminal\") appears 1 time.\n",
      "Word 249 (\"überaus\") appears 1 time.\n"
     ]
    }
   ],
   "source": [
    "# Select a sample doc\n",
    "bow_doc= bow_corpus[num]\n",
    "\n",
    "# print words and amout in doc\n",
    "for i in range(len(bow_doc)):\n",
    "    print(\"Word {} (\\\"{}\\\") appears {} time.\".format(bow_doc[i][0], \n",
    "                                               dictionary[bow_doc[i][0]], \n",
    "bow_doc[i][1]))"
   ]
  },
  {
   "attachments": {},
   "cell_type": "markdown",
   "metadata": {},
   "source": [
    "### TF-IDF"
   ]
  },
  {
   "attachments": {},
   "cell_type": "markdown",
   "metadata": {},
   "source": [
    "Create tf-idf model object using models.TfidfModel on ‘bow_corpus’ and save it to ‘tfidf’, then apply transformation to the entire corpus and call it ‘corpus_tfidf’. Finally we preview TF-IDF scores for our first document."
   ]
  },
  {
   "cell_type": "code",
   "execution_count": 27,
   "metadata": {},
   "outputs": [
    {
     "name": "stdout",
     "output_type": "stream",
     "text": [
      "[(0, 0.4951180607895303),\n",
      " (1, 0.4532408944177848),\n",
      " (2, 0.21465712401511586),\n",
      " (3, 0.26508829295469494),\n",
      " (4, 0.24827020170784475),\n",
      " (5, 0.3536584442733165),\n",
      " (6, 0.1924419793653419),\n",
      " (7, 0.3398480518993795),\n",
      " (8, 0.3063303959641878)]\n"
     ]
    }
   ],
   "source": [
    "from gensim import corpora, models\n",
    "\n",
    "tfidf = models.TfidfModel(bow_corpus)\n",
    "corpus_tfidf = tfidf[bow_corpus]\n",
    "\n",
    "from pprint import pprint\n",
    "\n",
    "for doc in corpus_tfidf:\n",
    "    pprint(doc)\n",
    "    break"
   ]
  },
  {
   "attachments": {},
   "cell_type": "markdown",
   "metadata": {},
   "source": [
    "### Running LDA using Bag of Words"
   ]
  },
  {
   "attachments": {},
   "cell_type": "markdown",
   "metadata": {},
   "source": [
    "Train our lda model using gensim.models.LdaMulticore and save it to ‘lda_model’"
   ]
  },
  {
   "cell_type": "code",
   "execution_count": 30,
   "metadata": {},
   "outputs": [],
   "source": [
    "lda_model = gensim.models.LdaMulticore(\n",
    "    bow_corpus,\n",
    "    num_topics=12,\n",
    "    id2word=dictionary,\n",
    "    passes=2,\n",
    "    workers=2\n",
    "    )"
   ]
  },
  {
   "attachments": {},
   "cell_type": "markdown",
   "metadata": {},
   "source": [
    "For each topic, we will explore the words occuring in that topic and its relative weight."
   ]
  },
  {
   "cell_type": "code",
   "execution_count": 31,
   "metadata": {},
   "outputs": [
    {
     "name": "stdout",
     "output_type": "stream",
     "text": [
      "Topic: 0 \n",
      "Words: 0.022*\"zug\" + 0.017*\"laut\" + 0.014*\"oft\" + 0.010*\"leute\" + 0.010*\"bitte\" + 0.010*\"maske\" + 0.009*\"person\" + 0.009*\"darauf\" + 0.009*\"mehr\" + 0.008*\"durchsag\"\n",
      "Topic: 1 \n",
      "Words: 0.085*\"preis\" + 0.033*\"teuer\" + 0.031*\"hoch\" + 0.016*\"gut\" + 0.016*\"günstig\" + 0.012*\"strecke\" + 0.012*\"verbessern\" + 0.011*\"stimmen\" + 0.011*\"verspätung\" + 0.011*\"senken\"\n",
      "Topic: 2 \n",
      "Words: 0.035*\"zug\" + 0.031*\"zürich\" + 0.028*\"verspätung\" + 0.019*\"verbindung\" + 0.015*\"minute\" + 0.014*\"fahrt\" + 0.014*\"fahren\" + 0.013*\"min\" + 0.013*\"lang\" + 0.012*\"bern\"\n",
      "Topic: 3 \n",
      "Words: 0.035*\"mehr\" + 0.016*\"ja\" + 0.014*\"finden\" + 0.013*\"fahren\" + 0.012*\"sparbillett\" + 0.011*\"bezahlen\" + 0.011*\"chf\" + 0.010*\"geben\" + 0.009*\"sehen\" + 0.009*\"teuer\"\n",
      "Topic: 4 \n",
      "Words: 0.065*\"zug\" + 0.025*\"fahren\" + 0.013*\"bus\" + 0.012*\"kommen\" + 0.012*\"bahnhof\" + 0.012*\"stehen\" + 0.010*\"gut\" + 0.010*\"geben\" + 0.008*\"nehmen\" + 0.008*\"spät\"\n",
      "Topic: 5 \n",
      "Words: 0.070*\"app\" + 0.043*\"sbb\" + 0.029*\"lösen\" + 0.029*\"ticket\" + 0.022*\"kaufen\" + 0.018*\"billet\" + 0.010*\"gut\" + 0.009*\"funktionieren\" + 0.009*\"finden\" + 0.009*\"billett\"\n",
      "Topic: 6 \n",
      "Words: 0.037*\"mehr\" + 0.031*\"zug\" + 0.022*\"bahnhof\" + 0.020*\"sauberkeit\" + 0.014*\"fühlen\" + 0.012*\"sicherheit\" + 0.011*\"wc\" + 0.011*\"immer\" + 0.011*\"bahnhöfen\" + 0.011*\"züg\"\n",
      "Topic: 7 \n",
      "Words: 0.019*\"zug\" + 0.017*\"oft\" + 0.017*\"züge\" + 0.014*\"immer\" + 0.014*\"sbb\" + 0.013*\"mehr\" + 0.013*\"wc\" + 0.013*\"gut\" + 0.012*\"toilette\" + 0.012*\"neu\"\n",
      "Topic: 8 \n",
      "Words: 0.043*\"sbb\" + 0.040*\"gut\" + 0.020*\"freundlich\" + 0.017*\"dank\" + 0.012*\"personal\" + 0.011*\"zufrieden\" + 0.010*\"jahr\" + 0.010*\"immer\" + 0.009*\"grüsse\" + 0.009*\"mehr\"\n",
      "Topic: 9 \n",
      "Words: 0.048*\"zug\" + 0.016*\"mehr\" + 0.013*\"gut\" + 0.011*\"goldau\" + 0.010*\"wlan\" + 0.010*\"arth\" + 0.010*\"strecke\" + 0.010*\"züge\" + 0.009*\"velo\" + 0.008*\"neu\"\n",
      "Topic: 10 \n",
      "Words: 0.029*\"verbindung\" + 0.022*\"mehr\" + 0.020*\"st\" + 0.019*\"zug\" + 0.018*\"gepäck\" + 0.017*\"platz\" + 0.017*\"koffer\" + 0.016*\"knapp\" + 0.015*\"zürich\" + 0.013*\"umsteigen\"\n",
      "Topic: 11 \n",
      "Words: 0.066*\"klasse\" + 0.044*\"mehr\" + 0.029*\"platz\" + 0.025*\"zug\" + 0.023*\"wagen\" + 0.014*\"sitzen\" + 0.013*\"voll\" + 0.012*\"stosszeit\" + 0.012*\"stehen\" + 0.011*\"immer\"\n"
     ]
    }
   ],
   "source": [
    "for idx, topic in lda_model.print_topics(-1):\n",
    "    print('Topic: {} \\nWords: {}'.format(idx, topic))"
   ]
  },
  {
   "attachments": {},
   "cell_type": "markdown",
   "metadata": {},
   "source": [
    "### Running LDA using TF-IDF"
   ]
  },
  {
   "cell_type": "code",
   "execution_count": 33,
   "metadata": {},
   "outputs": [],
   "source": [
    "lda_model_tfidf = gensim.models.LdaMulticore(\n",
    "    corpus_tfidf, num_topics=12,\n",
    "    id2word=dictionary,\n",
    "    passes=2,\n",
    "    workers=4\n",
    "    )"
   ]
  },
  {
   "cell_type": "code",
   "execution_count": 34,
   "metadata": {},
   "outputs": [
    {
     "name": "stdout",
     "output_type": "stream",
     "text": [
      "Topic: 0 Word: 0.008*\"maskenpflicht\" + 0.007*\"steckdose\" + 0.007*\"mehr\" + 0.007*\"preis\" + 0.007*\"ga\" + 0.006*\"sbb\" + 0.006*\"app\" + 0.006*\"zug\" + 0.006*\"angebot\" + 0.006*\"sparbillet\"\n",
      "Topic: 1 Word: 0.017*\"mehr\" + 0.016*\"sauberkeit\" + 0.013*\"preis\" + 0.013*\"teuer\" + 0.012*\"senken\" + 0.011*\"stosszeit\" + 0.009*\"einsetzen\" + 0.008*\"zug\" + 0.007*\"gut\" + 0.007*\"strecke\"\n",
      "Topic: 2 Word: 0.029*\"platz\" + 0.028*\"mehr\" + 0.017*\"gepäck\" + 0.015*\"wlan\" + 0.013*\"koffer\" + 0.012*\"zug\" + 0.009*\"wenig\" + 0.008*\"züge\" + 0.007*\"velos\" + 0.007*\"kinderwagen\"\n",
      "Topic: 3 Word: 0.011*\"wc\" + 0.011*\"klasse\" + 0.009*\"toilette\" + 0.009*\"mehr\" + 0.008*\"zug\" + 0.007*\"wagen\" + 0.007*\"defekt\" + 0.006*\"oft\" + 0.006*\"gut\" + 0.006*\"bitte\"\n",
      "Topic: 4 Word: 0.014*\"zug\" + 0.007*\"verspätung\" + 0.006*\"verbindung\" + 0.006*\"zürich\" + 0.005*\"goldau\" + 0.005*\"wifi\" + 0.005*\"sauber\" + 0.005*\"arth\" + 0.005*\"mehr\" + 0.005*\"min\"\n",
      "Topic: 5 Word: 0.012*\"preis\" + 0.011*\"sitzplatz\" + 0.011*\"danken\" + 0.010*\"pünktlich\" + 0.009*\"hoch\" + 0.008*\"gut\" + 0.008*\"mehr\" + 0.008*\"zug\" + 0.007*\"information\" + 0.007*\"bestens\"\n",
      "Topic: 6 Word: 0.014*\"gut\" + 0.011*\"verspätung\" + 0.010*\"zug\" + 0.009*\"platzangebot\" + 0.008*\"klasse\" + 0.007*\"mehr\" + 0.005*\"fahren\" + 0.005*\"bern\" + 0.005*\"geben\" + 0.004*\"sbb\"\n",
      "Topic: 7 Word: 0.011*\"app\" + 0.009*\"mehr\" + 0.007*\"zug\" + 0.006*\"sbb\" + 0.005*\"sparbillette\" + 0.005*\"bahnhof\" + 0.005*\"klasse\" + 0.005*\"lösen\" + 0.005*\"ticket\" + 0.004*\"geben\"\n",
      "Topic: 8 Word: 0.017*\"günstig\" + 0.009*\"billig\" + 0.009*\"app\" + 0.009*\"ticket\" + 0.008*\"lösen\" + 0.007*\"zug\" + 0.007*\"super\" + 0.007*\"sbb\" + 0.007*\"gut\" + 0.007*\"ok\"\n",
      "Topic: 9 Word: 0.014*\"pünktlichkeit\" + 0.009*\"kontrolle\" + 0.008*\"mehr\" + 0.008*\"sparbillett\" + 0.008*\"verbessern\" + 0.006*\"sauberkeit\" + 0.006*\"zug\" + 0.006*\"gut\" + 0.005*\"sbb\" + 0.004*\"frage\"\n",
      "Topic: 10 Word: 0.009*\"maske\" + 0.008*\"zug\" + 0.006*\"mehr\" + 0.006*\"tragen\" + 0.005*\"leute\" + 0.005*\"vieler\" + 0.005*\"kalt\" + 0.005*\"sbb\" + 0.005*\"gut\" + 0.005*\"immer\"\n",
      "Topic: 11 Word: 0.015*\"nein\" + 0.011*\"zufrieden\" + 0.010*\"zug\" + 0.009*\"bus\" + 0.009*\"verbindung\" + 0.008*\"sbb\" + 0.008*\"zürich\" + 0.007*\"fahren\" + 0.007*\"verspätung\" + 0.007*\"minute\"\n"
     ]
    }
   ],
   "source": [
    "for idx, topic in lda_model_tfidf.print_topics(-1):\n",
    "    print('Topic: {} Word: {}'.format(idx, topic))"
   ]
  }
 ],
 "metadata": {
  "kernelspec": {
   "display_name": "nlp_env",
   "language": "python",
   "name": "python3"
  },
  "language_info": {
   "codemirror_mode": {
    "name": "ipython",
    "version": 3
   },
   "file_extension": ".py",
   "mimetype": "text/x-python",
   "name": "python",
   "nbconvert_exporter": "python",
   "pygments_lexer": "ipython3",
   "version": "3.9.15"
  },
  "orig_nbformat": 4,
  "vscode": {
   "interpreter": {
    "hash": "81093347139ca5f3fb4cd58be29463cca1247dcd7b103014feebee6100f3ad2a"
   }
  }
 },
 "nbformat": 4,
 "nbformat_minor": 2
}
